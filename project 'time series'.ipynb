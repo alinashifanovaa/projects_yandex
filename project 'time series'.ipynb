{
 "cells": [
  {
   "cell_type": "markdown",
   "metadata": {
    "toc": true
   },
   "source": [
    "<h1>Содержание<span class=\"tocSkip\"></span></h1>\n",
    "<div class=\"toc\"><ul class=\"toc-item\"><li><span><a href=\"#Подготовка\" data-toc-modified-id=\"Подготовка-1\"><span class=\"toc-item-num\">1&nbsp;&nbsp;</span>Подготовка</a></span></li><li><span><a href=\"#Анализ-данных\" data-toc-modified-id=\"Анализ-данных-2\"><span class=\"toc-item-num\">2&nbsp;&nbsp;</span>Анализ данных</a></span></li><li><span><a href=\"#Работа-с-моделями\" data-toc-modified-id=\"Работа-с-моделями-3\"><span class=\"toc-item-num\">3&nbsp;&nbsp;</span>Работа с моделями</a></span></li><li><span><a href=\"#Тестирование\" data-toc-modified-id=\"Тестирование-4\"><span class=\"toc-item-num\">4&nbsp;&nbsp;</span>Тестирование</a></span></li><li><span><a href=\"#Итоги-работы\" data-toc-modified-id=\"Итоги-работы-5\"><span class=\"toc-item-num\">5&nbsp;&nbsp;</span>Итоги работы</a></span></li></ul></div>"
   ]
  },
  {
   "cell_type": "markdown",
   "metadata": {},
   "source": [
    "#  Прогнозирование заказов такси"
   ]
  },
  {
   "cell_type": "markdown",
   "metadata": {},
   "source": [
    "Компания «Чётенькое такси» собрала исторические данные о заказах такси в аэропортах. Чтобы привлекать больше водителей в период пиковой нагрузки, нужно спрогнозировать количество заказов такси на следующий час. Построим модель для такого предсказания.\n",
    "\n",
    "Нас устроит значение метрики *RMSE* на тестовой выборке не больше **48**."
   ]
  },
  {
   "cell_type": "markdown",
   "metadata": {},
   "source": [
    "## Подготовка"
   ]
  },
  {
   "cell_type": "markdown",
   "metadata": {},
   "source": [
    "Займёмся загрузкой и подготовкой данных.\n",
    "- **ипортируем все библиотеки, которые понадобятся нам для работы** \n",
    "- **загрузим данные и проведём первичный осмотр**"
   ]
  },
  {
   "cell_type": "code",
   "execution_count": 1,
   "metadata": {},
   "outputs": [],
   "source": [
    "import pandas as pd\n",
    "import numpy as np\n",
    "\n",
    "import matplotlib.pyplot as plt\n",
    "\n",
    "from statsmodels.tsa.seasonal import seasonal_decompose\n",
    "\n",
    "from sklearn.model_selection import train_test_split\n",
    "\n",
    "from sklearn.linear_model import LinearRegression \n",
    "from sklearn.ensemble import RandomForestRegressor\n",
    "from catboost import CatBoostRegressor\n",
    "from lightgbm import LGBMRegressor\n",
    "\n",
    "from sklearn.model_selection import GridSearchCV\n",
    "from sklearn.model_selection import TimeSeriesSplit\n",
    "\n",
    "from sklearn.metrics import mean_squared_error \n",
    "\n",
    "from pylab import rcParams\n",
    "\n",
    "import warnings "
   ]
  },
  {
   "cell_type": "code",
   "execution_count": 2,
   "metadata": {},
   "outputs": [],
   "source": [
    "data = pd.read_csv('/datasets/taxi.csv', index_col=[0], parse_dates=[0]) # передадим аргументы index_col и parse_dates для  \n",
    "                                                                         # преобразования данных и установления индекса таблицы"
   ]
  },
  {
   "cell_type": "code",
   "execution_count": 3,
   "metadata": {},
   "outputs": [
    {
     "data": {
      "text/html": [
       "<div>\n",
       "<style scoped>\n",
       "    .dataframe tbody tr th:only-of-type {\n",
       "        vertical-align: middle;\n",
       "    }\n",
       "\n",
       "    .dataframe tbody tr th {\n",
       "        vertical-align: top;\n",
       "    }\n",
       "\n",
       "    .dataframe thead th {\n",
       "        text-align: right;\n",
       "    }\n",
       "</style>\n",
       "<table border=\"1\" class=\"dataframe\">\n",
       "  <thead>\n",
       "    <tr style=\"text-align: right;\">\n",
       "      <th></th>\n",
       "      <th>num_orders</th>\n",
       "    </tr>\n",
       "    <tr>\n",
       "      <th>datetime</th>\n",
       "      <th></th>\n",
       "    </tr>\n",
       "  </thead>\n",
       "  <tbody>\n",
       "    <tr>\n",
       "      <th>2018-03-01 00:00:00</th>\n",
       "      <td>9</td>\n",
       "    </tr>\n",
       "    <tr>\n",
       "      <th>2018-03-01 00:10:00</th>\n",
       "      <td>14</td>\n",
       "    </tr>\n",
       "    <tr>\n",
       "      <th>2018-03-01 00:20:00</th>\n",
       "      <td>28</td>\n",
       "    </tr>\n",
       "    <tr>\n",
       "      <th>2018-03-01 00:30:00</th>\n",
       "      <td>20</td>\n",
       "    </tr>\n",
       "    <tr>\n",
       "      <th>2018-03-01 00:40:00</th>\n",
       "      <td>32</td>\n",
       "    </tr>\n",
       "    <tr>\n",
       "      <th>2018-03-01 00:50:00</th>\n",
       "      <td>21</td>\n",
       "    </tr>\n",
       "    <tr>\n",
       "      <th>2018-03-01 01:00:00</th>\n",
       "      <td>7</td>\n",
       "    </tr>\n",
       "    <tr>\n",
       "      <th>2018-03-01 01:10:00</th>\n",
       "      <td>5</td>\n",
       "    </tr>\n",
       "    <tr>\n",
       "      <th>2018-03-01 01:20:00</th>\n",
       "      <td>17</td>\n",
       "    </tr>\n",
       "    <tr>\n",
       "      <th>2018-03-01 01:30:00</th>\n",
       "      <td>12</td>\n",
       "    </tr>\n",
       "  </tbody>\n",
       "</table>\n",
       "</div>"
      ],
      "text/plain": [
       "                     num_orders\n",
       "datetime                       \n",
       "2018-03-01 00:00:00           9\n",
       "2018-03-01 00:10:00          14\n",
       "2018-03-01 00:20:00          28\n",
       "2018-03-01 00:30:00          20\n",
       "2018-03-01 00:40:00          32\n",
       "2018-03-01 00:50:00          21\n",
       "2018-03-01 01:00:00           7\n",
       "2018-03-01 01:10:00           5\n",
       "2018-03-01 01:20:00          17\n",
       "2018-03-01 01:30:00          12"
      ]
     },
     "metadata": {},
     "output_type": "display_data"
    }
   ],
   "source": [
    "data.sort_index(inplace=True)\n",
    "display(data.head(10))"
   ]
  },
  {
   "cell_type": "code",
   "execution_count": 4,
   "metadata": {},
   "outputs": [
    {
     "name": "stdout",
     "output_type": "stream",
     "text": [
      "<class 'pandas.core.frame.DataFrame'>\n",
      "DatetimeIndex: 26496 entries, 2018-03-01 00:00:00 to 2018-08-31 23:50:00\n",
      "Data columns (total 1 columns):\n",
      " #   Column      Non-Null Count  Dtype\n",
      "---  ------      --------------  -----\n",
      " 0   num_orders  26496 non-null  int64\n",
      "dtypes: int64(1)\n",
      "memory usage: 414.0 KB\n"
     ]
    }
   ],
   "source": [
    "data.info()"
   ]
  },
  {
   "cell_type": "code",
   "execution_count": 5,
   "metadata": {},
   "outputs": [
    {
     "data": {
      "text/plain": [
       "True"
      ]
     },
     "execution_count": 5,
     "metadata": {},
     "output_type": "execute_result"
    }
   ],
   "source": [
    "data.index.is_monotonic # проверим в хронологическом ли порядке расположены даты и время"
   ]
  },
  {
   "cell_type": "markdown",
   "metadata": {},
   "source": [
    "**Сделаем ресемплирование данных по одному часу.**"
   ]
  },
  {
   "cell_type": "code",
   "execution_count": 6,
   "metadata": {},
   "outputs": [
    {
     "data": {
      "text/html": [
       "<div>\n",
       "<style scoped>\n",
       "    .dataframe tbody tr th:only-of-type {\n",
       "        vertical-align: middle;\n",
       "    }\n",
       "\n",
       "    .dataframe tbody tr th {\n",
       "        vertical-align: top;\n",
       "    }\n",
       "\n",
       "    .dataframe thead th {\n",
       "        text-align: right;\n",
       "    }\n",
       "</style>\n",
       "<table border=\"1\" class=\"dataframe\">\n",
       "  <thead>\n",
       "    <tr style=\"text-align: right;\">\n",
       "      <th></th>\n",
       "      <th>num_orders</th>\n",
       "    </tr>\n",
       "    <tr>\n",
       "      <th>datetime</th>\n",
       "      <th></th>\n",
       "    </tr>\n",
       "  </thead>\n",
       "  <tbody>\n",
       "    <tr>\n",
       "      <th>2018-03-01 00:00:00</th>\n",
       "      <td>124</td>\n",
       "    </tr>\n",
       "    <tr>\n",
       "      <th>2018-03-01 01:00:00</th>\n",
       "      <td>85</td>\n",
       "    </tr>\n",
       "    <tr>\n",
       "      <th>2018-03-01 02:00:00</th>\n",
       "      <td>71</td>\n",
       "    </tr>\n",
       "    <tr>\n",
       "      <th>2018-03-01 03:00:00</th>\n",
       "      <td>66</td>\n",
       "    </tr>\n",
       "    <tr>\n",
       "      <th>2018-03-01 04:00:00</th>\n",
       "      <td>43</td>\n",
       "    </tr>\n",
       "  </tbody>\n",
       "</table>\n",
       "</div>"
      ],
      "text/plain": [
       "                     num_orders\n",
       "datetime                       \n",
       "2018-03-01 00:00:00         124\n",
       "2018-03-01 01:00:00          85\n",
       "2018-03-01 02:00:00          71\n",
       "2018-03-01 03:00:00          66\n",
       "2018-03-01 04:00:00          43"
      ]
     },
     "execution_count": 6,
     "metadata": {},
     "output_type": "execute_result"
    }
   ],
   "source": [
    "data = data.resample(\"1H\").sum()\n",
    "\n",
    "data.head()"
   ]
  },
  {
   "cell_type": "code",
   "execution_count": 7,
   "metadata": {},
   "outputs": [
    {
     "data": {
      "image/png": "[encoded data removed]",
      "text/plain": [
       "<Figure size 864x432 with 1 Axes>"
      ]
     },
     "metadata": {
      "needs_background": "light"
     },
     "output_type": "display_data"
    }
   ],
   "source": [
    "data.plot(linewidth=1, markersize=12, color='purple', figsize=(12,6))\n",
    "plt.show()"
   ]
  },
  {
   "cell_type": "markdown",
   "metadata": {},
   "source": [
    "**Первичный вывод, который можно сделать по графику: заметно, что количество заказов такси выросло, наблюдаются высокие пики заказов в конце августа.**"
   ]
  },
  {
   "cell_type": "markdown",
   "metadata": {},
   "source": [
    "## Анализ данных"
   ]
  },
  {
   "cell_type": "markdown",
   "metadata": {},
   "source": [
    "**Выведем графики сезонности, тренда и остатка.**"
   ]
  },
  {
   "cell_type": "code",
   "execution_count": 8,
   "metadata": {},
   "outputs": [],
   "source": [
    "decomposed_data = seasonal_decompose(data)\n",
    "\n",
    "seasonal = decomposed_data.seasonal\n",
    "trend = decomposed_data.trend\n",
    "resid = decomposed_data.resid"
   ]
  },
  {
   "cell_type": "code",
   "execution_count": 9,
   "metadata": {},
   "outputs": [
    {
     "data": {
      "image/png": "[encoded data removed]",
      "text/plain": [
       "<Figure size 648x360 with 1 Axes>"
      ]
     },
     "metadata": {
      "needs_background": "light"
     },
     "output_type": "display_data"
    },
    {
     "data": {
      "image/png": "[encoded data removed]",
      "text/plain": [
       "<Figure size 648x360 with 1 Axes>"
      ]
     },
     "metadata": {
      "needs_background": "light"
     },
     "output_type": "display_data"
    },
    {
     "data": {
      "image/png": "[encoded data removed]",
      "text/plain": [
       "<Figure size 648x360 with 1 Axes>"
      ]
     },
     "metadata": {
      "needs_background": "light"
     },
     "output_type": "display_data"
    }
   ],
   "source": [
    "seasonal.plot(linewidth=1, markersize=12, color='green', figsize=(9,5))\n",
    "plt.show()\n",
    "trend.plot(linewidth=1, markersize=12, color='red', figsize=(9,5))\n",
    "plt.show()\n",
    "resid.plot(linewidth=1, markersize=12, color='blue', figsize=(9,5))\n",
    "plt.show()"
   ]
  },
  {
   "cell_type": "markdown",
   "metadata": {},
   "source": [
    "**\"Приблизим\" графики - посмотрим на сезонность и тренд за последнюю неделю августа.**"
   ]
  },
  {
   "cell_type": "code",
   "execution_count": 10,
   "metadata": {},
   "outputs": [
    {
     "data": {
      "image/png": "[encoded data removed]",
      "text/plain": [
       "<Figure size 648x360 with 1 Axes>"
      ]
     },
     "metadata": {
      "needs_background": "light"
     },
     "output_type": "display_data"
    }
   ],
   "source": [
    "seasonal = seasonal['2018-08-23':'2018-09-30']\n",
    "seasonal.plot(linewidth=1, markersize=12, color='green', figsize=(9,5))\n",
    "plt.title('Сезонность за последнюю неделю августа')\n",
    "plt.show()"
   ]
  },
  {
   "cell_type": "code",
   "execution_count": 11,
   "metadata": {},
   "outputs": [
    {
     "data": {
      "image/png": "[encoded data removed]",
      "text/plain": [
       "<Figure size 648x360 with 1 Axes>"
      ]
     },
     "metadata": {
      "needs_background": "light"
     },
     "output_type": "display_data"
    }
   ],
   "source": [
    "trend = trend['2018-08-23':'2018-09-30']\n",
    "trend.plot(linewidth=1, markersize=12, color='red', figsize=(9,5))\n",
    "plt.title('Тренд за последнюю неделю августа')\n",
    "plt.show()"
   ]
  },
  {
   "cell_type": "markdown",
   "metadata": {},
   "source": [
    "В течение недели сезонность не меняется. Что касается тренда - видны скачки к вечеру и ночи в некоторые дни, а также резкий скачок заказов в последние дни месяца.\n",
    "\n",
    "Мы можем заметить, что распределение меняется, а значит процесс называется **нестационарным**."
   ]
  },
  {
   "cell_type": "markdown",
   "metadata": {},
   "source": [
    "**С помощью функции создадим календарные признаки: hour, day, dayofweek и month; max_lag, который задаст максимальный размер отставания и скользящее среднее rolling_mean.**"
   ]
  },
  {
   "cell_type": "code",
   "execution_count": 14,
   "metadata": {},
   "outputs": [
    {
     "data": {
      "text/html": [
       "<div>\n",
       "<style scoped>\n",
       "    .dataframe tbody tr th:only-of-type {\n",
       "        vertical-align: middle;\n",
       "    }\n",
       "\n",
       "    .dataframe tbody tr th {\n",
       "        vertical-align: top;\n",
       "    }\n",
       "\n",
       "    .dataframe thead th {\n",
       "        text-align: right;\n",
       "    }\n",
       "</style>\n",
       "<table border=\"1\" class=\"dataframe\">\n",
       "  <thead>\n",
       "    <tr style=\"text-align: right;\">\n",
       "      <th></th>\n",
       "      <th>num_orders</th>\n",
       "      <th>hour</th>\n",
       "      <th>day</th>\n",
       "      <th>dayofweek</th>\n",
       "      <th>month</th>\n",
       "      <th>lag_1</th>\n",
       "      <th>lag_2</th>\n",
       "      <th>lag_3</th>\n",
       "      <th>lag_4</th>\n",
       "      <th>lag_5</th>\n",
       "      <th>lag_6</th>\n",
       "      <th>lag_7</th>\n",
       "      <th>lag_8</th>\n",
       "      <th>lag_9</th>\n",
       "      <th>lag_10</th>\n",
       "      <th>rolling_mean</th>\n",
       "    </tr>\n",
       "    <tr>\n",
       "      <th>datetime</th>\n",
       "      <th></th>\n",
       "      <th></th>\n",
       "      <th></th>\n",
       "      <th></th>\n",
       "      <th></th>\n",
       "      <th></th>\n",
       "      <th></th>\n",
       "      <th></th>\n",
       "      <th></th>\n",
       "      <th></th>\n",
       "      <th></th>\n",
       "      <th></th>\n",
       "      <th></th>\n",
       "      <th></th>\n",
       "      <th></th>\n",
       "      <th></th>\n",
       "    </tr>\n",
       "  </thead>\n",
       "  <tbody>\n",
       "    <tr>\n",
       "      <th>2018-03-01 00:00:00</th>\n",
       "      <td>124</td>\n",
       "      <td>0</td>\n",
       "      <td>1</td>\n",
       "      <td>3</td>\n",
       "      <td>3</td>\n",
       "      <td>NaN</td>\n",
       "      <td>NaN</td>\n",
       "      <td>NaN</td>\n",
       "      <td>NaN</td>\n",
       "      <td>NaN</td>\n",
       "      <td>NaN</td>\n",
       "      <td>NaN</td>\n",
       "      <td>NaN</td>\n",
       "      <td>NaN</td>\n",
       "      <td>NaN</td>\n",
       "      <td>NaN</td>\n",
       "    </tr>\n",
       "    <tr>\n",
       "      <th>2018-03-01 01:00:00</th>\n",
       "      <td>85</td>\n",
       "      <td>1</td>\n",
       "      <td>1</td>\n",
       "      <td>3</td>\n",
       "      <td>3</td>\n",
       "      <td>124.0</td>\n",
       "      <td>NaN</td>\n",
       "      <td>NaN</td>\n",
       "      <td>NaN</td>\n",
       "      <td>NaN</td>\n",
       "      <td>NaN</td>\n",
       "      <td>NaN</td>\n",
       "      <td>NaN</td>\n",
       "      <td>NaN</td>\n",
       "      <td>NaN</td>\n",
       "      <td>124.0</td>\n",
       "    </tr>\n",
       "    <tr>\n",
       "      <th>2018-03-01 02:00:00</th>\n",
       "      <td>71</td>\n",
       "      <td>2</td>\n",
       "      <td>1</td>\n",
       "      <td>3</td>\n",
       "      <td>3</td>\n",
       "      <td>85.0</td>\n",
       "      <td>124.0</td>\n",
       "      <td>NaN</td>\n",
       "      <td>NaN</td>\n",
       "      <td>NaN</td>\n",
       "      <td>NaN</td>\n",
       "      <td>NaN</td>\n",
       "      <td>NaN</td>\n",
       "      <td>NaN</td>\n",
       "      <td>NaN</td>\n",
       "      <td>85.0</td>\n",
       "    </tr>\n",
       "    <tr>\n",
       "      <th>2018-03-01 03:00:00</th>\n",
       "      <td>66</td>\n",
       "      <td>3</td>\n",
       "      <td>1</td>\n",
       "      <td>3</td>\n",
       "      <td>3</td>\n",
       "      <td>71.0</td>\n",
       "      <td>85.0</td>\n",
       "      <td>124.0</td>\n",
       "      <td>NaN</td>\n",
       "      <td>NaN</td>\n",
       "      <td>NaN</td>\n",
       "      <td>NaN</td>\n",
       "      <td>NaN</td>\n",
       "      <td>NaN</td>\n",
       "      <td>NaN</td>\n",
       "      <td>71.0</td>\n",
       "    </tr>\n",
       "    <tr>\n",
       "      <th>2018-03-01 04:00:00</th>\n",
       "      <td>43</td>\n",
       "      <td>4</td>\n",
       "      <td>1</td>\n",
       "      <td>3</td>\n",
       "      <td>3</td>\n",
       "      <td>66.0</td>\n",
       "      <td>71.0</td>\n",
       "      <td>85.0</td>\n",
       "      <td>124.0</td>\n",
       "      <td>NaN</td>\n",
       "      <td>NaN</td>\n",
       "      <td>NaN</td>\n",
       "      <td>NaN</td>\n",
       "      <td>NaN</td>\n",
       "      <td>NaN</td>\n",
       "      <td>66.0</td>\n",
       "    </tr>\n",
       "    <tr>\n",
       "      <th>...</th>\n",
       "      <td>...</td>\n",
       "      <td>...</td>\n",
       "      <td>...</td>\n",
       "      <td>...</td>\n",
       "      <td>...</td>\n",
       "      <td>...</td>\n",
       "      <td>...</td>\n",
       "      <td>...</td>\n",
       "      <td>...</td>\n",
       "      <td>...</td>\n",
       "      <td>...</td>\n",
       "      <td>...</td>\n",
       "      <td>...</td>\n",
       "      <td>...</td>\n",
       "      <td>...</td>\n",
       "      <td>...</td>\n",
       "    </tr>\n",
       "    <tr>\n",
       "      <th>2018-08-31 19:00:00</th>\n",
       "      <td>136</td>\n",
       "      <td>19</td>\n",
       "      <td>31</td>\n",
       "      <td>4</td>\n",
       "      <td>8</td>\n",
       "      <td>207.0</td>\n",
       "      <td>217.0</td>\n",
       "      <td>197.0</td>\n",
       "      <td>116.0</td>\n",
       "      <td>133.0</td>\n",
       "      <td>166.0</td>\n",
       "      <td>136.0</td>\n",
       "      <td>167.0</td>\n",
       "      <td>191.0</td>\n",
       "      <td>203.0</td>\n",
       "      <td>207.0</td>\n",
       "    </tr>\n",
       "    <tr>\n",
       "      <th>2018-08-31 20:00:00</th>\n",
       "      <td>154</td>\n",
       "      <td>20</td>\n",
       "      <td>31</td>\n",
       "      <td>4</td>\n",
       "      <td>8</td>\n",
       "      <td>136.0</td>\n",
       "      <td>207.0</td>\n",
       "      <td>217.0</td>\n",
       "      <td>197.0</td>\n",
       "      <td>116.0</td>\n",
       "      <td>133.0</td>\n",
       "      <td>166.0</td>\n",
       "      <td>136.0</td>\n",
       "      <td>167.0</td>\n",
       "      <td>191.0</td>\n",
       "      <td>136.0</td>\n",
       "    </tr>\n",
       "    <tr>\n",
       "      <th>2018-08-31 21:00:00</th>\n",
       "      <td>159</td>\n",
       "      <td>21</td>\n",
       "      <td>31</td>\n",
       "      <td>4</td>\n",
       "      <td>8</td>\n",
       "      <td>154.0</td>\n",
       "      <td>136.0</td>\n",
       "      <td>207.0</td>\n",
       "      <td>217.0</td>\n",
       "      <td>197.0</td>\n",
       "      <td>116.0</td>\n",
       "      <td>133.0</td>\n",
       "      <td>166.0</td>\n",
       "      <td>136.0</td>\n",
       "      <td>167.0</td>\n",
       "      <td>154.0</td>\n",
       "    </tr>\n",
       "    <tr>\n",
       "      <th>2018-08-31 22:00:00</th>\n",
       "      <td>223</td>\n",
       "      <td>22</td>\n",
       "      <td>31</td>\n",
       "      <td>4</td>\n",
       "      <td>8</td>\n",
       "      <td>159.0</td>\n",
       "      <td>154.0</td>\n",
       "      <td>136.0</td>\n",
       "      <td>207.0</td>\n",
       "      <td>217.0</td>\n",
       "      <td>197.0</td>\n",
       "      <td>116.0</td>\n",
       "      <td>133.0</td>\n",
       "      <td>166.0</td>\n",
       "      <td>136.0</td>\n",
       "      <td>159.0</td>\n",
       "    </tr>\n",
       "    <tr>\n",
       "      <th>2018-08-31 23:00:00</th>\n",
       "      <td>205</td>\n",
       "      <td>23</td>\n",
       "      <td>31</td>\n",
       "      <td>4</td>\n",
       "      <td>8</td>\n",
       "      <td>223.0</td>\n",
       "      <td>159.0</td>\n",
       "      <td>154.0</td>\n",
       "      <td>136.0</td>\n",
       "      <td>207.0</td>\n",
       "      <td>217.0</td>\n",
       "      <td>197.0</td>\n",
       "      <td>116.0</td>\n",
       "      <td>133.0</td>\n",
       "      <td>166.0</td>\n",
       "      <td>223.0</td>\n",
       "    </tr>\n",
       "  </tbody>\n",
       "</table>\n",
       "<p>4416 rows × 16 columns</p>\n",
       "</div>"
      ],
      "text/plain": [
       "                     num_orders  hour  day  dayofweek  month  lag_1  lag_2  \\\n",
       "datetime                                                                     \n",
       "2018-03-01 00:00:00         124     0    1          3      3    NaN    NaN   \n",
       "2018-03-01 01:00:00          85     1    1          3      3  124.0    NaN   \n",
       "2018-03-01 02:00:00          71     2    1          3      3   85.0  124.0   \n",
       "2018-03-01 03:00:00          66     3    1          3      3   71.0   85.0   \n",
       "2018-03-01 04:00:00          43     4    1          3      3   66.0   71.0   \n",
       "...                         ...   ...  ...        ...    ...    ...    ...   \n",
       "2018-08-31 19:00:00         136    19   31          4      8  207.0  217.0   \n",
       "2018-08-31 20:00:00         154    20   31          4      8  136.0  207.0   \n",
       "2018-08-31 21:00:00         159    21   31          4      8  154.0  136.0   \n",
       "2018-08-31 22:00:00         223    22   31          4      8  159.0  154.0   \n",
       "2018-08-31 23:00:00         205    23   31          4      8  223.0  159.0   \n",
       "\n",
       "                     lag_3  lag_4  lag_5  lag_6  lag_7  lag_8  lag_9  lag_10  \\\n",
       "datetime                                                                       \n",
       "2018-03-01 00:00:00    NaN    NaN    NaN    NaN    NaN    NaN    NaN     NaN   \n",
       "2018-03-01 01:00:00    NaN    NaN    NaN    NaN    NaN    NaN    NaN     NaN   \n",
       "2018-03-01 02:00:00    NaN    NaN    NaN    NaN    NaN    NaN    NaN     NaN   \n",
       "2018-03-01 03:00:00  124.0    NaN    NaN    NaN    NaN    NaN    NaN     NaN   \n",
       "2018-03-01 04:00:00   85.0  124.0    NaN    NaN    NaN    NaN    NaN     NaN   \n",
       "...                    ...    ...    ...    ...    ...    ...    ...     ...   \n",
       "2018-08-31 19:00:00  197.0  116.0  133.0  166.0  136.0  167.0  191.0   203.0   \n",
       "2018-08-31 20:00:00  217.0  197.0  116.0  133.0  166.0  136.0  167.0   191.0   \n",
       "2018-08-31 21:00:00  207.0  217.0  197.0  116.0  133.0  166.0  136.0   167.0   \n",
       "2018-08-31 22:00:00  136.0  207.0  217.0  197.0  116.0  133.0  166.0   136.0   \n",
       "2018-08-31 23:00:00  154.0  136.0  207.0  217.0  197.0  116.0  133.0   166.0   \n",
       "\n",
       "                     rolling_mean  \n",
       "datetime                           \n",
       "2018-03-01 00:00:00           NaN  \n",
       "2018-03-01 01:00:00         124.0  \n",
       "2018-03-01 02:00:00          85.0  \n",
       "2018-03-01 03:00:00          71.0  \n",
       "2018-03-01 04:00:00          66.0  \n",
       "...                           ...  \n",
       "2018-08-31 19:00:00         207.0  \n",
       "2018-08-31 20:00:00         136.0  \n",
       "2018-08-31 21:00:00         154.0  \n",
       "2018-08-31 22:00:00         159.0  \n",
       "2018-08-31 23:00:00         223.0  \n",
       "\n",
       "[4416 rows x 16 columns]"
      ]
     },
     "execution_count": 14,
     "metadata": {},
     "output_type": "execute_result"
    }
   ],
   "source": [
    "def make_features(data, max_lag, rolling_mean_size):\n",
    "    data['hour'] = data.index.hour\n",
    "    data['day'] = data.index.day\n",
    "    data['dayofweek'] = data.index.dayofweek\n",
    "    data['month'] = data.index.month\n",
    "    \n",
    "    for lag in range(1, max_lag + 1):\n",
    "        data['lag_{}'.format(lag)] = data['num_orders'].shift(lag)\n",
    "    \n",
    "    data['rolling_mean'] = data['num_orders'].shift().rolling(rolling_mean_size).mean()\n",
    "    \n",
    "    return data\n",
    "\n",
    "make_features(data, 10, 1)"
   ]
  },
  {
   "cell_type": "markdown",
   "metadata": {},
   "source": [
    "**По исходным данным создадим обучающую и тестовую выборки.** *Тестовую выборку сделаем размером 10% от исходных данных.*"
   ]
  },
  {
   "cell_type": "code",
   "execution_count": 15,
   "metadata": {},
   "outputs": [],
   "source": [
    "#укажем аргумент shuffle, чтобы разделить данные без перемешивания\n",
    "\n",
    "train, test = train_test_split(data, shuffle=False, test_size=0.1) \n",
    "train = train.dropna() "
   ]
  },
  {
   "cell_type": "code",
   "execution_count": 16,
   "metadata": {},
   "outputs": [],
   "source": [
    "features_train = train.drop(['num_orders'], axis=1)\n",
    "target_train = train['num_orders']\n",
    "features_test = test.drop(['num_orders'], axis=1)\n",
    "target_test = test['num_orders']"
   ]
  },
  {
   "cell_type": "code",
   "execution_count": 17,
   "metadata": {},
   "outputs": [
    {
     "data": {
      "text/html": [
       "<div>\n",
       "<style scoped>\n",
       "    .dataframe tbody tr th:only-of-type {\n",
       "        vertical-align: middle;\n",
       "    }\n",
       "\n",
       "    .dataframe tbody tr th {\n",
       "        vertical-align: top;\n",
       "    }\n",
       "\n",
       "    .dataframe thead th {\n",
       "        text-align: right;\n",
       "    }\n",
       "</style>\n",
       "<table border=\"1\" class=\"dataframe\">\n",
       "  <thead>\n",
       "    <tr style=\"text-align: right;\">\n",
       "      <th></th>\n",
       "      <th>hour</th>\n",
       "      <th>day</th>\n",
       "      <th>dayofweek</th>\n",
       "      <th>month</th>\n",
       "      <th>lag_1</th>\n",
       "      <th>lag_2</th>\n",
       "      <th>lag_3</th>\n",
       "      <th>lag_4</th>\n",
       "      <th>lag_5</th>\n",
       "      <th>lag_6</th>\n",
       "      <th>lag_7</th>\n",
       "      <th>lag_8</th>\n",
       "      <th>lag_9</th>\n",
       "      <th>lag_10</th>\n",
       "      <th>rolling_mean</th>\n",
       "    </tr>\n",
       "    <tr>\n",
       "      <th>datetime</th>\n",
       "      <th></th>\n",
       "      <th></th>\n",
       "      <th></th>\n",
       "      <th></th>\n",
       "      <th></th>\n",
       "      <th></th>\n",
       "      <th></th>\n",
       "      <th></th>\n",
       "      <th></th>\n",
       "      <th></th>\n",
       "      <th></th>\n",
       "      <th></th>\n",
       "      <th></th>\n",
       "      <th></th>\n",
       "      <th></th>\n",
       "    </tr>\n",
       "  </thead>\n",
       "  <tbody>\n",
       "    <tr>\n",
       "      <th>2018-03-01 10:00:00</th>\n",
       "      <td>10</td>\n",
       "      <td>1</td>\n",
       "      <td>3</td>\n",
       "      <td>3</td>\n",
       "      <td>69.0</td>\n",
       "      <td>34.0</td>\n",
       "      <td>15.0</td>\n",
       "      <td>12.0</td>\n",
       "      <td>6.0</td>\n",
       "      <td>43.0</td>\n",
       "      <td>66.0</td>\n",
       "      <td>71.0</td>\n",
       "      <td>85.0</td>\n",
       "      <td>124.0</td>\n",
       "      <td>69.0</td>\n",
       "    </tr>\n",
       "    <tr>\n",
       "      <th>2018-03-01 11:00:00</th>\n",
       "      <td>11</td>\n",
       "      <td>1</td>\n",
       "      <td>3</td>\n",
       "      <td>3</td>\n",
       "      <td>64.0</td>\n",
       "      <td>69.0</td>\n",
       "      <td>34.0</td>\n",
       "      <td>15.0</td>\n",
       "      <td>12.0</td>\n",
       "      <td>6.0</td>\n",
       "      <td>43.0</td>\n",
       "      <td>66.0</td>\n",
       "      <td>71.0</td>\n",
       "      <td>85.0</td>\n",
       "      <td>64.0</td>\n",
       "    </tr>\n",
       "    <tr>\n",
       "      <th>2018-03-01 12:00:00</th>\n",
       "      <td>12</td>\n",
       "      <td>1</td>\n",
       "      <td>3</td>\n",
       "      <td>3</td>\n",
       "      <td>96.0</td>\n",
       "      <td>64.0</td>\n",
       "      <td>69.0</td>\n",
       "      <td>34.0</td>\n",
       "      <td>15.0</td>\n",
       "      <td>12.0</td>\n",
       "      <td>6.0</td>\n",
       "      <td>43.0</td>\n",
       "      <td>66.0</td>\n",
       "      <td>71.0</td>\n",
       "      <td>96.0</td>\n",
       "    </tr>\n",
       "    <tr>\n",
       "      <th>2018-03-01 13:00:00</th>\n",
       "      <td>13</td>\n",
       "      <td>1</td>\n",
       "      <td>3</td>\n",
       "      <td>3</td>\n",
       "      <td>30.0</td>\n",
       "      <td>96.0</td>\n",
       "      <td>64.0</td>\n",
       "      <td>69.0</td>\n",
       "      <td>34.0</td>\n",
       "      <td>15.0</td>\n",
       "      <td>12.0</td>\n",
       "      <td>6.0</td>\n",
       "      <td>43.0</td>\n",
       "      <td>66.0</td>\n",
       "      <td>30.0</td>\n",
       "    </tr>\n",
       "    <tr>\n",
       "      <th>2018-03-01 14:00:00</th>\n",
       "      <td>14</td>\n",
       "      <td>1</td>\n",
       "      <td>3</td>\n",
       "      <td>3</td>\n",
       "      <td>32.0</td>\n",
       "      <td>30.0</td>\n",
       "      <td>96.0</td>\n",
       "      <td>64.0</td>\n",
       "      <td>69.0</td>\n",
       "      <td>34.0</td>\n",
       "      <td>15.0</td>\n",
       "      <td>12.0</td>\n",
       "      <td>6.0</td>\n",
       "      <td>43.0</td>\n",
       "      <td>32.0</td>\n",
       "    </tr>\n",
       "  </tbody>\n",
       "</table>\n",
       "</div>"
      ],
      "text/plain": [
       "                     hour  day  dayofweek  month  lag_1  lag_2  lag_3  lag_4  \\\n",
       "datetime                                                                       \n",
       "2018-03-01 10:00:00    10    1          3      3   69.0   34.0   15.0   12.0   \n",
       "2018-03-01 11:00:00    11    1          3      3   64.0   69.0   34.0   15.0   \n",
       "2018-03-01 12:00:00    12    1          3      3   96.0   64.0   69.0   34.0   \n",
       "2018-03-01 13:00:00    13    1          3      3   30.0   96.0   64.0   69.0   \n",
       "2018-03-01 14:00:00    14    1          3      3   32.0   30.0   96.0   64.0   \n",
       "\n",
       "                     lag_5  lag_6  lag_7  lag_8  lag_9  lag_10  rolling_mean  \n",
       "datetime                                                                      \n",
       "2018-03-01 10:00:00    6.0   43.0   66.0   71.0   85.0   124.0          69.0  \n",
       "2018-03-01 11:00:00   12.0    6.0   43.0   66.0   71.0    85.0          64.0  \n",
       "2018-03-01 12:00:00   15.0   12.0    6.0   43.0   66.0    71.0          96.0  \n",
       "2018-03-01 13:00:00   34.0   15.0   12.0    6.0   43.0    66.0          30.0  \n",
       "2018-03-01 14:00:00   69.0   34.0   15.0   12.0    6.0    43.0          32.0  "
      ]
     },
     "metadata": {},
     "output_type": "display_data"
    }
   ],
   "source": [
    "display(features_train.head())"
   ]
  },
  {
   "cell_type": "markdown",
   "metadata": {},
   "source": [
    "## Работа с моделями\n",
    "\n",
    "**Обучим на наших данных разные модели с различными гиперпараметрами.** *Выберем лучшую модель и проверим её на тестовой выборке.*\n",
    "\n",
    "\n",
    "**Проверим следующие модели:**\n",
    "\n",
    "\n",
    "- **LinearRegression**\n",
    "- **RandomForestRegressor**\n",
    "- **CatBoostRegressor**\n",
    "- **LGBMRegressor**"
   ]
  },
  {
   "cell_type": "code",
   "execution_count": 18,
   "metadata": {},
   "outputs": [
    {
     "name": "stdout",
     "output_type": "stream",
     "text": [
      "LinearRegression: 30.227478972830003\n",
      "CPU times: user 13.3 ms, sys: 63.5 ms, total: 76.7 ms\n",
      "Wall time: 15.8 ms\n"
     ]
    }
   ],
   "source": [
    "%%time\n",
    "\n",
    "lr_model = LinearRegression()\n",
    "lr_model = lr_model.fit(features_train, target_train)\n",
    "\n",
    "print('LinearRegression:', mean_squared_error(target_train, lr_model.predict(features_train), squared=False))"
   ]
  },
  {
   "cell_type": "code",
   "execution_count": 24,
   "metadata": {},
   "outputs": [
    {
     "name": "stdout",
     "output_type": "stream",
     "text": [
      "RandomForestRegressor: 26.558905974038648\n",
      "Лучшие параметры: {'max_depth': 4, 'n_estimators': 3}\n",
      "CPU times: user 1.02 s, sys: 3.99 ms, total: 1.02 s\n",
      "Wall time: 1.02 s\n"
     ]
    }
   ],
   "source": [
    "%%time\n",
    "\n",
    "parameters = [{'n_estimators': range(1, 5), 'max_depth': range(1, 5)}]\n",
    "\n",
    "model = RandomForestRegressor(random_state=12345) \n",
    "forest_model = GridSearchCV(model, parameters, cv=TimeSeriesSplit(), scoring='neg_mean_squared_error') \n",
    "forest_model = forest_model.fit(features_train, target_train)                                       \n",
    "\n",
    "print('RandomForestRegressor:', mean_squared_error(target_train, forest_model.predict(features_train), squared=False))\n",
    "print('Лучшие параметры:', forest_model.best_params_)"
   ]
  },
  {
   "cell_type": "code",
   "execution_count": 20,
   "metadata": {},
   "outputs": [
    {
     "name": "stdout",
     "output_type": "stream",
     "text": [
      "CatBoostRegressor: 17.638876448868437\n",
      "Лучшие параметры: {'depth': 6, 'grow_policy': 'Lossguide', 'iterations': 39, 'learning_rate': 0.3}\n",
      "CPU times: user 16min 19s, sys: 31.5 s, total: 16min 50s\n",
      "Wall time: 1h 19min 29s\n"
     ]
    }
   ],
   "source": [
    "%%time\n",
    "\n",
    "parameters = [{'learning_rate':[0.3, 0.5, 0.8], 'grow_policy': ['SymmetricTree', 'Depthwise', 'Lossguide'], 'depth' : range(1, 10), 'iterations': range(1, 40, 2)}]\n",
    "\n",
    "model = CatBoostRegressor(loss_function='RMSE', random_state=12345, silent=True)\n",
    "\n",
    "cat_model = GridSearchCV(model, parameters, cv=TimeSeriesSplit(), scoring='neg_mean_squared_error')\n",
    "cat_model = cat_model.fit(features_train, target_train)\n",
    "\n",
    "print('CatBoostRegressor:', mean_squared_error(target_train, cat_model.predict(features_train), squared=False))\n",
    "print('Лучшие параметры:', cat_model.best_params_)"
   ]
  },
  {
   "cell_type": "code",
   "execution_count": 21,
   "metadata": {},
   "outputs": [
    {
     "name": "stdout",
     "output_type": "stream",
     "text": [
      "LGBMRegressor: 18.893123564350248\n",
      "Лучшие параметры: {'learning_rate': 0.5, 'max_depth': 9, 'n_estimators': 7, 'random_state': 12345}\n",
      "CPU times: user 1h 11min 18s, sys: 1min, total: 1h 12min 19s\n",
      "Wall time: 1h 12min 36s\n"
     ]
    }
   ],
   "source": [
    "%%time\n",
    "\n",
    "parameters = [{'learning_rate':[0.1, 0.3, 0.5], 'n_estimators': range(1, 10), 'max_depth': range(1,10), 'random_state':[12345]}]\n",
    "\n",
    "model = LGBMRegressor()\n",
    "lgbmr_model = GridSearchCV(model, parameters, cv=TimeSeriesSplit(), scoring='neg_mean_squared_error')\n",
    "lgbmr_model = lgbmr_model.fit(features_train, target_train)\n",
    "\n",
    "print('LGBMRegressor:', mean_squared_error(target_train, lgbmr_model.predict(features_train), squared=False))\n",
    "print('Лучшие параметры:', lgbmr_model.best_params_)"
   ]
  },
  {
   "cell_type": "markdown",
   "metadata": {},
   "source": [
    "**Все модели показали хороший результат метрики RMSE.**\n",
    "\n",
    "Лучший результат показала модель **CatBoostRegressor** - RMSE составила **17.638876448868437**.\n",
    "\n",
    "- *Модель LGBMRegressor показала результат 18.893123564350248.*\n",
    "- *Модель случайного леса в регрессии показала RMSE 26.558905974038648.*\n",
    "- *Результат LinearRegression: 30.227478972830003.*\n",
    "\n",
    "Проверим CatBoostRegressor на тестовой выборке."
   ]
  },
  {
   "cell_type": "markdown",
   "metadata": {},
   "source": [
    "## Тестирование\n",
    "\n",
    "**Проверим нашу модель с лучшими гиперпараметрами на тестовой выборке**"
   ]
  },
  {
   "cell_type": "code",
   "execution_count": 26,
   "metadata": {},
   "outputs": [
    {
     "name": "stdout",
     "output_type": "stream",
     "text": [
      "Лучший показатель модели CatBoostRegressor на тестовой выборке: 44.33527806056178\n"
     ]
    }
   ],
   "source": [
    "model = CatBoostRegressor(depth=6, grow_policy='Lossguide', iterations=39, learning_rate=0.3, loss_function='RMSE', random_state=12345, silent=True)\n",
    "model.fit(features_train, target_train)\n",
    "predictions_cat = model.predict(features_test)\n",
    "result = mean_squared_error(predictions, target_test, squared=False) \n",
    "\n",
    "print('Лучший показатель модели CatBoostRegressor на тестовой выборке:', result)"
   ]
  },
  {
   "cell_type": "markdown",
   "metadata": {},
   "source": [
    "**Построим график для сравнения исходного и предсказанного ряда.**"
   ]
  },
  {
   "cell_type": "code",
   "execution_count": 34,
   "metadata": {},
   "outputs": [
    {
     "data": {
      "image/png": "[encoded data removed]",
      "text/plain": [
       "<Figure size 1080x360 with 1 Axes>"
      ]
     },
     "metadata": {
      "needs_background": "light"
     },
     "output_type": "display_data"
    }
   ],
   "source": [
    "rcParams['figure.figsize'] = 15, 5\n",
    "\n",
    "plt.plot(features_test.index, target_test, label='Исходный ряд', linewidth=1, markersize=12, color='yellow')\n",
    "plt.plot(features_test.index, predictions_cat, label='Предсказанный ряд', linewidth=1, markersize=12, color='blue')\n",
    "plt.legend()\n",
    "plt.show()"
   ]
  },
  {
   "cell_type": "markdown",
   "metadata": {},
   "source": [
    "## Итоги работы \n",
    "\n",
    "В ходе работы над проектом мы сделали следующие шаги:\n",
    "\n",
    "1. На первом этапе работы мы загрузили данные, посмотрели общую информацию о датасете и выполнили ресемплирование данных по одному часу.\n",
    "\n",
    "\n",
    "2. На этапе анализа данных мы выяснили, что со временем количество заказов такси выросло. На графике мы обнаружили высокие пики заказов в конце августа, поэтому проверили последнюю неделю этого месяца отдельно. Мы заметили скачки к вечеру и ночи в некоторые дни, а также резкий скачок заказов в последние дни месяца.\n",
    "\n",
    "\n",
    "3. Далее мы разбили данные на обучающую и тестовую выблрки, после чего обучили четыре разные модели с различными гиперпараметрами: **линейную регрессию**, **случайный лес в регрессии**, **CatBoostRegressor** и **LGBMRegressor**.\n",
    "\n",
    "\n",
    "4. Все модели показали хороший результат на тренировочном наборе данных. Мы выбрали лучшую модель - ею оказалась модель **CatBoostRegressor** - и проверили данные на тестовой выборке. Результаты модели на тренировочной и на тестовой выборке - **17.638876448868437** и **44.33527806056178** соответственно. "
   ]
  }
 ],
 "metadata": {
  "ExecuteTimeLog": [
   {
    "duration": 1390,
    "start_time": "2023-02-16T20:17:32.929Z"
   },
   {
    "duration": 47,
    "start_time": "2023-02-16T20:17:34.321Z"
   },
   {
    "duration": 9,
    "start_time": "2023-02-16T20:17:34.369Z"
   },
   {
    "duration": 9,
    "start_time": "2023-02-16T20:17:34.380Z"
   },
   {
    "duration": 4,
    "start_time": "2023-02-16T20:17:34.391Z"
   },
   {
    "duration": 15,
    "start_time": "2023-02-16T20:17:34.396Z"
   },
   {
    "duration": 285,
    "start_time": "2023-02-16T20:17:34.412Z"
   },
   {
    "duration": 9,
    "start_time": "2023-02-16T20:17:34.699Z"
   },
   {
    "duration": 759,
    "start_time": "2023-02-16T20:17:34.710Z"
   },
   {
    "duration": 185,
    "start_time": "2023-02-16T20:17:35.470Z"
   },
   {
    "duration": 160,
    "start_time": "2023-02-16T20:17:35.656Z"
   },
   {
    "duration": 335,
    "start_time": "2023-02-16T20:17:35.817Z"
   },
   {
    "duration": 5,
    "start_time": "2023-02-16T20:17:36.154Z"
   },
   {
    "duration": 9,
    "start_time": "2023-02-16T20:17:36.162Z"
   },
   {
    "duration": 10,
    "start_time": "2023-02-16T20:25:05.572Z"
   },
   {
    "duration": 1454,
    "start_time": "2023-02-16T20:35:55.921Z"
   },
   {
    "duration": 46,
    "start_time": "2023-02-16T20:35:57.377Z"
   },
   {
    "duration": 10,
    "start_time": "2023-02-16T20:35:57.425Z"
   },
   {
    "duration": 13,
    "start_time": "2023-02-16T20:35:57.437Z"
   },
   {
    "duration": 4,
    "start_time": "2023-02-16T20:35:57.452Z"
   },
   {
    "duration": 13,
    "start_time": "2023-02-16T20:35:57.457Z"
   },
   {
    "duration": 267,
    "start_time": "2023-02-16T20:35:57.471Z"
   },
   {
    "duration": 8,
    "start_time": "2023-02-16T20:35:57.740Z"
   },
   {
    "duration": 729,
    "start_time": "2023-02-16T20:35:57.749Z"
   },
   {
    "duration": 175,
    "start_time": "2023-02-16T20:35:58.480Z"
   },
   {
    "duration": 157,
    "start_time": "2023-02-16T20:35:58.657Z"
   },
   {
    "duration": 266,
    "start_time": "2023-02-16T20:35:58.816Z"
   },
   {
    "duration": 13,
    "start_time": "2023-02-16T20:35:59.084Z"
   },
   {
    "duration": 11,
    "start_time": "2023-02-16T20:35:59.098Z"
   },
   {
    "duration": 8,
    "start_time": "2023-02-16T20:35:59.110Z"
   },
   {
    "duration": 27,
    "start_time": "2023-02-16T20:36:39.427Z"
   },
   {
    "duration": 27,
    "start_time": "2023-02-16T20:36:52.220Z"
   },
   {
    "duration": 1396,
    "start_time": "2023-02-16T20:37:46.467Z"
   },
   {
    "duration": 46,
    "start_time": "2023-02-16T20:37:47.865Z"
   },
   {
    "duration": 10,
    "start_time": "2023-02-16T20:37:47.913Z"
   },
   {
    "duration": 10,
    "start_time": "2023-02-16T20:37:47.925Z"
   },
   {
    "duration": 4,
    "start_time": "2023-02-16T20:37:47.936Z"
   },
   {
    "duration": 29,
    "start_time": "2023-02-16T20:37:47.942Z"
   },
   {
    "duration": 262,
    "start_time": "2023-02-16T20:37:47.973Z"
   },
   {
    "duration": 10,
    "start_time": "2023-02-16T20:37:48.237Z"
   },
   {
    "duration": 713,
    "start_time": "2023-02-16T20:37:48.249Z"
   },
   {
    "duration": 168,
    "start_time": "2023-02-16T20:37:48.965Z"
   },
   {
    "duration": 175,
    "start_time": "2023-02-16T20:37:49.135Z"
   },
   {
    "duration": 3,
    "start_time": "2023-02-16T20:37:49.311Z"
   },
   {
    "duration": 10,
    "start_time": "2023-02-16T20:37:49.315Z"
   },
   {
    "duration": 27,
    "start_time": "2023-02-16T20:37:49.326Z"
   },
   {
    "duration": 4,
    "start_time": "2023-02-16T20:37:49.355Z"
   },
   {
    "duration": 176,
    "start_time": "2023-02-16T20:44:15.834Z"
   },
   {
    "duration": 308,
    "start_time": "2023-02-16T20:44:24.125Z"
   },
   {
    "duration": 80,
    "start_time": "2023-02-16T20:45:14.678Z"
   },
   {
    "duration": 184,
    "start_time": "2023-02-16T20:47:30.287Z"
   },
   {
    "duration": 3,
    "start_time": "2023-02-16T20:49:09.194Z"
   },
   {
    "duration": 111,
    "start_time": "2023-02-16T20:49:27.309Z"
   },
   {
    "duration": 1368,
    "start_time": "2023-02-16T20:49:51.808Z"
   },
   {
    "duration": 63,
    "start_time": "2023-02-16T20:49:53.178Z"
   },
   {
    "duration": 12,
    "start_time": "2023-02-16T20:49:53.243Z"
   },
   {
    "duration": 23,
    "start_time": "2023-02-16T20:49:53.257Z"
   },
   {
    "duration": 6,
    "start_time": "2023-02-16T20:49:53.282Z"
   },
   {
    "duration": 23,
    "start_time": "2023-02-16T20:49:53.289Z"
   },
   {
    "duration": 256,
    "start_time": "2023-02-16T20:49:53.313Z"
   },
   {
    "duration": 10,
    "start_time": "2023-02-16T20:49:53.571Z"
   },
   {
    "duration": 737,
    "start_time": "2023-02-16T20:49:53.582Z"
   },
   {
    "duration": 161,
    "start_time": "2023-02-16T20:49:54.322Z"
   },
   {
    "duration": 176,
    "start_time": "2023-02-16T20:49:54.485Z"
   },
   {
    "duration": 30,
    "start_time": "2023-02-16T20:49:54.662Z"
   },
   {
    "duration": 12,
    "start_time": "2023-02-16T20:49:54.694Z"
   },
   {
    "duration": 32,
    "start_time": "2023-02-16T20:49:54.707Z"
   },
   {
    "duration": 5,
    "start_time": "2023-02-16T20:49:54.740Z"
   },
   {
    "duration": 8,
    "start_time": "2023-02-16T20:49:54.746Z"
   },
   {
    "duration": 221,
    "start_time": "2023-02-16T20:49:54.755Z"
   },
   {
    "duration": 1409,
    "start_time": "2023-02-16T20:50:19.410Z"
   },
   {
    "duration": 46,
    "start_time": "2023-02-16T20:50:20.820Z"
   },
   {
    "duration": 9,
    "start_time": "2023-02-16T20:50:20.868Z"
   },
   {
    "duration": 11,
    "start_time": "2023-02-16T20:50:20.879Z"
   },
   {
    "duration": 3,
    "start_time": "2023-02-16T20:50:20.892Z"
   },
   {
    "duration": 13,
    "start_time": "2023-02-16T20:50:20.896Z"
   },
   {
    "duration": 270,
    "start_time": "2023-02-16T20:50:20.911Z"
   },
   {
    "duration": 14,
    "start_time": "2023-02-16T20:50:21.183Z"
   },
   {
    "duration": 757,
    "start_time": "2023-02-16T20:50:21.199Z"
   },
   {
    "duration": 165,
    "start_time": "2023-02-16T20:50:21.958Z"
   },
   {
    "duration": 161,
    "start_time": "2023-02-16T20:50:22.125Z"
   },
   {
    "duration": 5,
    "start_time": "2023-02-16T20:50:22.287Z"
   },
   {
    "duration": 8,
    "start_time": "2023-02-16T20:50:22.293Z"
   },
   {
    "duration": 28,
    "start_time": "2023-02-16T20:50:22.302Z"
   },
   {
    "duration": 4,
    "start_time": "2023-02-16T20:50:22.332Z"
   },
   {
    "duration": 4,
    "start_time": "2023-02-16T20:50:22.338Z"
   },
   {
    "duration": 250,
    "start_time": "2023-02-16T20:50:22.344Z"
   },
   {
    "duration": 7806,
    "start_time": "2023-02-16T20:53:30.105Z"
   },
   {
    "duration": 126,
    "start_time": "2023-02-16T21:01:51.448Z"
   },
   {
    "duration": 1338,
    "start_time": "2023-02-16T21:01:58.036Z"
   },
   {
    "duration": 46,
    "start_time": "2023-02-16T21:01:59.376Z"
   },
   {
    "duration": 11,
    "start_time": "2023-02-16T21:01:59.424Z"
   },
   {
    "duration": 10,
    "start_time": "2023-02-16T21:01:59.437Z"
   },
   {
    "duration": 3,
    "start_time": "2023-02-16T21:01:59.449Z"
   },
   {
    "duration": 13,
    "start_time": "2023-02-16T21:01:59.454Z"
   },
   {
    "duration": 277,
    "start_time": "2023-02-16T21:01:59.468Z"
   },
   {
    "duration": 8,
    "start_time": "2023-02-16T21:01:59.746Z"
   },
   {
    "duration": 742,
    "start_time": "2023-02-16T21:01:59.756Z"
   },
   {
    "duration": 174,
    "start_time": "2023-02-16T21:02:00.501Z"
   },
   {
    "duration": 164,
    "start_time": "2023-02-16T21:02:00.677Z"
   },
   {
    "duration": 3,
    "start_time": "2023-02-16T21:02:00.843Z"
   },
   {
    "duration": 22,
    "start_time": "2023-02-16T21:02:00.847Z"
   },
   {
    "duration": 44,
    "start_time": "2023-02-16T21:02:00.871Z"
   },
   {
    "duration": 4,
    "start_time": "2023-02-16T21:02:00.917Z"
   },
   {
    "duration": 22,
    "start_time": "2023-02-16T21:02:00.923Z"
   },
   {
    "duration": 250,
    "start_time": "2023-02-16T21:02:00.947Z"
   },
   {
    "duration": 7799,
    "start_time": "2023-02-16T21:02:01.200Z"
   },
   {
    "duration": 10,
    "start_time": "2023-02-16T21:02:09.001Z"
   },
   {
    "duration": 72,
    "start_time": "2023-02-16T21:04:56.625Z"
   },
   {
    "duration": 1481,
    "start_time": "2023-02-16T21:05:05.536Z"
   },
   {
    "duration": 51,
    "start_time": "2023-02-16T21:05:07.019Z"
   },
   {
    "duration": 11,
    "start_time": "2023-02-16T21:05:07.072Z"
   },
   {
    "duration": 11,
    "start_time": "2023-02-16T21:05:07.085Z"
   },
   {
    "duration": 9,
    "start_time": "2023-02-16T21:05:07.097Z"
   },
   {
    "duration": 13,
    "start_time": "2023-02-16T21:05:07.108Z"
   },
   {
    "duration": 289,
    "start_time": "2023-02-16T21:05:07.123Z"
   },
   {
    "duration": 9,
    "start_time": "2023-02-16T21:05:07.414Z"
   },
   {
    "duration": 761,
    "start_time": "2023-02-16T21:05:07.425Z"
   },
   {
    "duration": 181,
    "start_time": "2023-02-16T21:05:08.193Z"
   },
   {
    "duration": 178,
    "start_time": "2023-02-16T21:05:08.376Z"
   },
   {
    "duration": 3,
    "start_time": "2023-02-16T21:05:08.556Z"
   },
   {
    "duration": 23,
    "start_time": "2023-02-16T21:05:08.560Z"
   },
   {
    "duration": 41,
    "start_time": "2023-02-16T21:05:08.585Z"
   },
   {
    "duration": 5,
    "start_time": "2023-02-16T21:05:08.628Z"
   },
   {
    "duration": 6,
    "start_time": "2023-02-16T21:05:08.635Z"
   },
   {
    "duration": 1601,
    "start_time": "2023-02-16T21:05:08.644Z"
   },
   {
    "duration": 8959,
    "start_time": "2023-02-16T21:05:10.247Z"
   },
   {
    "duration": 10,
    "start_time": "2023-02-16T21:05:19.293Z"
   },
   {
    "duration": 1675,
    "start_time": "2023-02-17T06:06:59.048Z"
   },
   {
    "duration": 133,
    "start_time": "2023-02-17T06:07:00.726Z"
   },
   {
    "duration": 11,
    "start_time": "2023-02-17T06:07:00.861Z"
   },
   {
    "duration": 31,
    "start_time": "2023-02-17T06:07:00.874Z"
   },
   {
    "duration": 43,
    "start_time": "2023-02-17T06:07:00.907Z"
   },
   {
    "duration": 43,
    "start_time": "2023-02-17T06:07:00.951Z"
   },
   {
    "duration": 298,
    "start_time": "2023-02-17T06:07:00.997Z"
   },
   {
    "duration": 8,
    "start_time": "2023-02-17T06:07:01.297Z"
   },
   {
    "duration": 735,
    "start_time": "2023-02-17T06:07:01.307Z"
   },
   {
    "duration": 151,
    "start_time": "2023-02-17T06:07:02.045Z"
   },
   {
    "duration": 147,
    "start_time": "2023-02-17T06:07:02.198Z"
   },
   {
    "duration": 2,
    "start_time": "2023-02-17T06:07:02.347Z"
   },
   {
    "duration": 20,
    "start_time": "2023-02-17T06:07:02.351Z"
   },
   {
    "duration": 28,
    "start_time": "2023-02-17T06:07:02.373Z"
   },
   {
    "duration": 4,
    "start_time": "2023-02-17T06:07:02.402Z"
   },
   {
    "duration": 7,
    "start_time": "2023-02-17T06:07:02.407Z"
   },
   {
    "duration": 1551,
    "start_time": "2023-02-17T06:07:02.415Z"
   },
   {
    "duration": 6502,
    "start_time": "2023-02-17T06:07:03.968Z"
   },
   {
    "duration": 10,
    "start_time": "2023-02-17T06:07:10.472Z"
   },
   {
    "duration": 6896,
    "start_time": "2023-02-17T06:08:39.472Z"
   },
   {
    "duration": 2,
    "start_time": "2023-02-17T06:34:58.342Z"
   },
   {
    "duration": 1589,
    "start_time": "2023-02-17T06:38:13.761Z"
   },
   {
    "duration": 47,
    "start_time": "2023-02-17T06:38:15.352Z"
   },
   {
    "duration": 10,
    "start_time": "2023-02-17T06:38:15.401Z"
   },
   {
    "duration": 12,
    "start_time": "2023-02-17T06:38:15.413Z"
   },
   {
    "duration": 5,
    "start_time": "2023-02-17T06:38:15.426Z"
   },
   {
    "duration": 14,
    "start_time": "2023-02-17T06:38:15.433Z"
   },
   {
    "duration": 256,
    "start_time": "2023-02-17T06:38:15.448Z"
   },
   {
    "duration": 7,
    "start_time": "2023-02-17T06:38:15.706Z"
   },
   {
    "duration": 717,
    "start_time": "2023-02-17T06:38:15.714Z"
   },
   {
    "duration": 171,
    "start_time": "2023-02-17T06:38:16.433Z"
   },
   {
    "duration": 173,
    "start_time": "2023-02-17T06:38:16.605Z"
   },
   {
    "duration": 3,
    "start_time": "2023-02-17T06:38:16.780Z"
   },
   {
    "duration": 17,
    "start_time": "2023-02-17T06:38:16.785Z"
   },
   {
    "duration": 36,
    "start_time": "2023-02-17T06:38:16.804Z"
   },
   {
    "duration": 4,
    "start_time": "2023-02-17T06:38:16.842Z"
   },
   {
    "duration": 2,
    "start_time": "2023-02-17T06:38:16.868Z"
   },
   {
    "duration": 5,
    "start_time": "2023-02-17T06:38:16.871Z"
   },
   {
    "duration": 340,
    "start_time": "2023-02-17T06:38:16.877Z"
   },
   {
    "duration": 6464,
    "start_time": "2023-02-17T06:38:17.218Z"
   },
   {
    "duration": 85,
    "start_time": "2023-02-17T06:38:23.684Z"
   },
   {
    "duration": 1430,
    "start_time": "2023-02-17T09:42:16.113Z"
   },
   {
    "duration": 56,
    "start_time": "2023-02-17T09:42:17.545Z"
   },
   {
    "duration": 10,
    "start_time": "2023-02-17T09:42:17.602Z"
   },
   {
    "duration": 12,
    "start_time": "2023-02-17T09:42:17.613Z"
   },
   {
    "duration": 4,
    "start_time": "2023-02-17T09:42:17.628Z"
   },
   {
    "duration": 13,
    "start_time": "2023-02-17T09:42:17.633Z"
   },
   {
    "duration": 266,
    "start_time": "2023-02-17T09:42:17.648Z"
   },
   {
    "duration": 6,
    "start_time": "2023-02-17T09:42:17.916Z"
   },
   {
    "duration": 716,
    "start_time": "2023-02-17T09:42:17.924Z"
   },
   {
    "duration": 162,
    "start_time": "2023-02-17T09:42:18.642Z"
   },
   {
    "duration": 153,
    "start_time": "2023-02-17T09:42:18.806Z"
   },
   {
    "duration": 20,
    "start_time": "2023-02-17T09:42:18.961Z"
   },
   {
    "duration": 7,
    "start_time": "2023-02-17T09:42:18.982Z"
   },
   {
    "duration": 32,
    "start_time": "2023-02-17T09:42:18.992Z"
   },
   {
    "duration": 5,
    "start_time": "2023-02-17T09:42:19.025Z"
   },
   {
    "duration": 12,
    "start_time": "2023-02-17T09:42:19.032Z"
   },
   {
    "duration": 10,
    "start_time": "2023-02-17T09:42:19.046Z"
   },
   {
    "duration": 228,
    "start_time": "2023-02-17T09:42:19.057Z"
   },
   {
    "duration": 27300,
    "start_time": "2023-02-17T09:42:19.287Z"
   },
   {
    "duration": 11,
    "start_time": "2023-02-17T09:42:46.588Z"
   },
   {
    "duration": 257,
    "start_time": "2023-02-17T10:02:01.686Z"
   },
   {
    "duration": 231,
    "start_time": "2023-02-17T10:02:22.882Z"
   },
   {
    "duration": 197,
    "start_time": "2023-02-17T10:03:00.738Z"
   },
   {
    "duration": 193,
    "start_time": "2023-02-17T10:39:27.197Z"
   },
   {
    "duration": 187,
    "start_time": "2023-02-17T10:39:59.720Z"
   },
   {
    "duration": 91,
    "start_time": "2023-02-17T10:42:22.115Z"
   },
   {
    "duration": 1532,
    "start_time": "2023-02-17T10:42:32.228Z"
   },
   {
    "duration": 49,
    "start_time": "2023-02-17T10:42:33.762Z"
   },
   {
    "duration": 11,
    "start_time": "2023-02-17T10:42:33.812Z"
   },
   {
    "duration": 19,
    "start_time": "2023-02-17T10:42:33.824Z"
   },
   {
    "duration": 16,
    "start_time": "2023-02-17T10:42:33.845Z"
   },
   {
    "duration": 29,
    "start_time": "2023-02-17T10:42:33.863Z"
   },
   {
    "duration": 255,
    "start_time": "2023-02-17T10:42:33.894Z"
   },
   {
    "duration": 24,
    "start_time": "2023-02-17T10:42:34.150Z"
   },
   {
    "duration": 754,
    "start_time": "2023-02-17T10:42:34.177Z"
   },
   {
    "duration": 249,
    "start_time": "2023-02-17T10:42:34.934Z"
   },
   {
    "duration": 199,
    "start_time": "2023-02-17T10:42:35.186Z"
   },
   {
    "duration": 2,
    "start_time": "2023-02-17T10:42:35.387Z"
   },
   {
    "duration": 11,
    "start_time": "2023-02-17T10:42:35.391Z"
   },
   {
    "duration": 30,
    "start_time": "2023-02-17T10:42:35.403Z"
   },
   {
    "duration": 5,
    "start_time": "2023-02-17T10:42:35.434Z"
   },
   {
    "duration": 27,
    "start_time": "2023-02-17T10:42:35.440Z"
   },
   {
    "duration": 13,
    "start_time": "2023-02-17T10:42:35.469Z"
   },
   {
    "duration": 360,
    "start_time": "2023-02-17T10:42:35.484Z"
   },
   {
    "duration": 43027,
    "start_time": "2023-02-17T10:42:35.845Z"
   },
   {
    "duration": 11,
    "start_time": "2023-02-17T10:43:18.874Z"
   },
   {
    "duration": 0,
    "start_time": "2023-02-17T10:43:18.886Z"
   },
   {
    "duration": 187,
    "start_time": "2023-02-17T10:43:46.802Z"
   },
   {
    "duration": 262,
    "start_time": "2023-02-17T10:44:10.960Z"
   },
   {
    "duration": 35,
    "start_time": "2023-02-17T11:07:27.776Z"
   },
   {
    "duration": 27,
    "start_time": "2023-02-17T11:07:37.578Z"
   },
   {
    "duration": 22,
    "start_time": "2023-02-17T11:07:57.258Z"
   },
   {
    "duration": 1462,
    "start_time": "2023-02-17T11:08:20.264Z"
   },
   {
    "duration": 53,
    "start_time": "2023-02-17T11:08:21.728Z"
   },
   {
    "duration": 12,
    "start_time": "2023-02-17T11:08:21.783Z"
   },
   {
    "duration": 31,
    "start_time": "2023-02-17T11:08:21.796Z"
   },
   {
    "duration": 18,
    "start_time": "2023-02-17T11:08:21.829Z"
   },
   {
    "duration": 33,
    "start_time": "2023-02-17T11:08:21.848Z"
   },
   {
    "duration": 309,
    "start_time": "2023-02-17T11:08:21.883Z"
   },
   {
    "duration": 8,
    "start_time": "2023-02-17T11:08:22.194Z"
   },
   {
    "duration": 794,
    "start_time": "2023-02-17T11:08:22.203Z"
   },
   {
    "duration": 193,
    "start_time": "2023-02-17T11:08:22.999Z"
   },
   {
    "duration": 170,
    "start_time": "2023-02-17T11:08:23.194Z"
   },
   {
    "duration": 304,
    "start_time": "2023-02-17T11:08:23.368Z"
   },
   {
    "duration": 8,
    "start_time": "2023-02-17T11:08:23.675Z"
   },
   {
    "duration": 49,
    "start_time": "2023-02-17T11:08:23.686Z"
   },
   {
    "duration": 5,
    "start_time": "2023-02-17T11:08:23.737Z"
   },
   {
    "duration": 33,
    "start_time": "2023-02-17T11:08:23.744Z"
   },
   {
    "duration": 25,
    "start_time": "2023-02-17T11:08:23.779Z"
   },
   {
    "duration": 90797,
    "start_time": "2023-02-17T11:08:23.806Z"
   },
   {
    "duration": 1860166,
    "start_time": "2023-02-17T11:09:54.606Z"
   },
   {
    "duration": 179,
    "start_time": "2023-02-17T11:40:54.774Z"
   },
   {
    "duration": 12474,
    "start_time": "2023-02-17T11:44:44.777Z"
   },
   {
    "duration": 11,
    "start_time": "2023-02-17T11:47:04.653Z"
   },
   {
    "duration": 41,
    "start_time": "2023-02-17T11:47:36.629Z"
   },
   {
    "duration": 10,
    "start_time": "2023-02-17T11:48:55.769Z"
   },
   {
    "duration": 1395,
    "start_time": "2023-02-17T11:55:05.864Z"
   },
   {
    "duration": 1682,
    "start_time": "2023-02-17T11:57:19.831Z"
   },
   {
    "duration": 431524,
    "start_time": "2023-02-17T11:59:10.378Z"
   },
   {
    "duration": 81,
    "start_time": "2023-02-17T12:09:00.704Z"
   },
   {
    "duration": 523,
    "start_time": "2023-02-17T12:09:12.059Z"
   },
   {
    "duration": 1753,
    "start_time": "2023-02-18T08:13:28.276Z"
   },
   {
    "duration": 151,
    "start_time": "2023-02-18T08:13:31.416Z"
   },
   {
    "duration": 11,
    "start_time": "2023-02-18T08:13:32.376Z"
   },
   {
    "duration": 12,
    "start_time": "2023-02-18T08:13:34.424Z"
   },
   {
    "duration": 4,
    "start_time": "2023-02-18T08:13:35.132Z"
   },
   {
    "duration": 14,
    "start_time": "2023-02-18T08:13:37.569Z"
   },
   {
    "duration": 286,
    "start_time": "2023-02-18T08:13:39.992Z"
   },
   {
    "duration": 9,
    "start_time": "2023-02-18T08:13:49.159Z"
   },
   {
    "duration": 894,
    "start_time": "2023-02-18T08:13:52.153Z"
   },
   {
    "duration": 180,
    "start_time": "2023-02-18T08:13:56.899Z"
   },
   {
    "duration": 173,
    "start_time": "2023-02-18T08:13:59.383Z"
   },
   {
    "duration": 363,
    "start_time": "2023-02-18T08:14:06.353Z"
   },
   {
    "duration": 412,
    "start_time": "2023-02-18T08:14:14.457Z"
   },
   {
    "duration": 321,
    "start_time": "2023-02-18T08:14:20.700Z"
   },
   {
    "duration": 328,
    "start_time": "2023-02-18T08:14:26.357Z"
   },
   {
    "duration": 7,
    "start_time": "2023-02-18T08:14:42.214Z"
   },
   {
    "duration": 1685,
    "start_time": "2023-02-18T08:15:35.366Z"
   },
   {
    "duration": 54,
    "start_time": "2023-02-18T08:15:37.057Z"
   },
   {
    "duration": 13,
    "start_time": "2023-02-18T08:15:37.114Z"
   },
   {
    "duration": 42,
    "start_time": "2023-02-18T08:15:37.128Z"
   },
   {
    "duration": 17,
    "start_time": "2023-02-18T08:15:37.172Z"
   },
   {
    "duration": 29,
    "start_time": "2023-02-18T08:15:37.191Z"
   },
   {
    "duration": 327,
    "start_time": "2023-02-18T08:15:37.223Z"
   },
   {
    "duration": 11,
    "start_time": "2023-02-18T08:15:37.554Z"
   },
   {
    "duration": 922,
    "start_time": "2023-02-18T08:15:37.567Z"
   },
   {
    "duration": 212,
    "start_time": "2023-02-18T08:15:38.491Z"
   },
   {
    "duration": 197,
    "start_time": "2023-02-18T08:15:38.705Z"
   },
   {
    "duration": 352,
    "start_time": "2023-02-18T08:15:38.905Z"
   },
   {
    "duration": 9,
    "start_time": "2023-02-18T08:15:39.259Z"
   },
   {
    "duration": 49,
    "start_time": "2023-02-18T08:15:39.271Z"
   },
   {
    "duration": 7,
    "start_time": "2023-02-18T08:15:39.322Z"
   },
   {
    "duration": 28,
    "start_time": "2023-02-18T08:15:39.331Z"
   },
   {
    "duration": 14,
    "start_time": "2023-02-18T08:15:39.362Z"
   },
   {
    "duration": 17,
    "start_time": "2023-02-18T08:15:39.378Z"
   },
   {
    "duration": 14,
    "start_time": "2023-02-18T08:15:39.397Z"
   },
   {
    "duration": 10,
    "start_time": "2023-02-18T08:15:39.413Z"
   },
   {
    "duration": 14767,
    "start_time": "2023-02-18T08:16:02.317Z"
   },
   {
    "duration": 474181,
    "start_time": "2023-02-18T08:16:47.829Z"
   },
   {
    "duration": 255830,
    "start_time": "2023-02-18T08:24:42.012Z"
   },
   {
    "duration": 10244,
    "start_time": "2023-02-18T08:42:32.900Z"
   },
   {
    "duration": 1560117,
    "start_time": "2023-02-18T08:46:43.028Z"
   },
   {
    "duration": 1492,
    "start_time": "2023-02-18T10:05:24.399Z"
   },
   {
    "duration": 48,
    "start_time": "2023-02-18T10:05:25.893Z"
   },
   {
    "duration": 13,
    "start_time": "2023-02-18T10:05:25.946Z"
   },
   {
    "duration": 15,
    "start_time": "2023-02-18T10:05:25.960Z"
   },
   {
    "duration": 4,
    "start_time": "2023-02-18T10:05:25.977Z"
   },
   {
    "duration": 16,
    "start_time": "2023-02-18T10:05:25.983Z"
   },
   {
    "duration": 298,
    "start_time": "2023-02-18T10:05:26.000Z"
   },
   {
    "duration": 9,
    "start_time": "2023-02-18T10:05:26.299Z"
   },
   {
    "duration": 716,
    "start_time": "2023-02-18T10:05:26.310Z"
   },
   {
    "duration": 166,
    "start_time": "2023-02-18T10:05:27.027Z"
   },
   {
    "duration": 171,
    "start_time": "2023-02-18T10:05:27.194Z"
   },
   {
    "duration": 309,
    "start_time": "2023-02-18T10:05:27.367Z"
   },
   {
    "duration": 7,
    "start_time": "2023-02-18T10:05:27.677Z"
   },
   {
    "duration": 42,
    "start_time": "2023-02-18T10:05:27.685Z"
   },
   {
    "duration": 10,
    "start_time": "2023-02-18T10:05:27.729Z"
   },
   {
    "duration": 18,
    "start_time": "2023-02-18T10:05:27.741Z"
   },
   {
    "duration": 13673,
    "start_time": "2023-02-18T10:05:27.760Z"
   },
   {
    "duration": 43,
    "start_time": "2023-02-18T10:05:41.438Z"
   },
   {
    "duration": 0,
    "start_time": "2023-02-18T10:05:41.482Z"
   },
   {
    "duration": 0,
    "start_time": "2023-02-18T10:05:41.484Z"
   },
   {
    "duration": 47,
    "start_time": "2023-02-18T10:06:05.406Z"
   },
   {
    "duration": 197,
    "start_time": "2023-02-18T10:06:20.375Z"
   },
   {
    "duration": 2229019,
    "start_time": "2023-02-18T10:07:20.906Z"
   },
   {
    "duration": 3406513,
    "start_time": "2023-02-18T10:44:29.927Z"
   },
   {
    "duration": 200737,
    "start_time": "2023-02-18T11:47:06.016Z"
   },
   {
    "duration": 1592,
    "start_time": "2023-02-18T11:55:48.308Z"
   },
   {
    "duration": 49,
    "start_time": "2023-02-18T11:55:49.903Z"
   },
   {
    "duration": 12,
    "start_time": "2023-02-18T11:55:49.954Z"
   },
   {
    "duration": 11,
    "start_time": "2023-02-18T11:55:49.968Z"
   },
   {
    "duration": 5,
    "start_time": "2023-02-18T11:55:49.981Z"
   },
   {
    "duration": 25,
    "start_time": "2023-02-18T11:55:49.988Z"
   },
   {
    "duration": 281,
    "start_time": "2023-02-18T11:55:50.037Z"
   },
   {
    "duration": 18,
    "start_time": "2023-02-18T11:55:50.320Z"
   },
   {
    "duration": 790,
    "start_time": "2023-02-18T11:55:50.340Z"
   },
   {
    "duration": 187,
    "start_time": "2023-02-18T11:55:51.133Z"
   },
   {
    "duration": 192,
    "start_time": "2023-02-18T11:55:51.323Z"
   },
   {
    "duration": 358,
    "start_time": "2023-02-18T11:55:51.518Z"
   },
   {
    "duration": 7,
    "start_time": "2023-02-18T11:55:51.878Z"
   },
   {
    "duration": 61,
    "start_time": "2023-02-18T11:55:51.887Z"
   },
   {
    "duration": 5,
    "start_time": "2023-02-18T11:55:51.950Z"
   },
   {
    "duration": 19,
    "start_time": "2023-02-18T11:55:51.956Z"
   },
   {
    "duration": 13986,
    "start_time": "2023-02-18T11:55:51.976Z"
   },
   {
    "duration": 2,
    "start_time": "2023-02-18T11:56:05.964Z"
   },
   {
    "duration": 104582,
    "start_time": "2023-02-18T11:56:05.968Z"
   },
   {
    "duration": 1195,
    "start_time": "2023-02-18T11:57:50.552Z"
   },
   {
    "duration": 1820,
    "start_time": "2023-02-18T12:02:43.431Z"
   },
   {
    "duration": 1452,
    "start_time": "2023-02-18T12:03:36.617Z"
   },
   {
    "duration": 51,
    "start_time": "2023-02-18T12:03:38.071Z"
   },
   {
    "duration": 12,
    "start_time": "2023-02-18T12:03:38.124Z"
   },
   {
    "duration": 22,
    "start_time": "2023-02-18T12:03:38.139Z"
   },
   {
    "duration": 18,
    "start_time": "2023-02-18T12:03:38.164Z"
   },
   {
    "duration": 26,
    "start_time": "2023-02-18T12:03:38.185Z"
   },
   {
    "duration": 238,
    "start_time": "2023-02-18T12:03:38.212Z"
   },
   {
    "duration": 8,
    "start_time": "2023-02-18T12:03:38.451Z"
   },
   {
    "duration": 683,
    "start_time": "2023-02-18T12:03:38.460Z"
   },
   {
    "duration": 168,
    "start_time": "2023-02-18T12:03:39.145Z"
   },
   {
    "duration": 151,
    "start_time": "2023-02-18T12:03:39.315Z"
   },
   {
    "duration": 283,
    "start_time": "2023-02-18T12:03:39.468Z"
   },
   {
    "duration": 7,
    "start_time": "2023-02-18T12:03:39.753Z"
   },
   {
    "duration": 43,
    "start_time": "2023-02-18T12:03:39.762Z"
   },
   {
    "duration": 4,
    "start_time": "2023-02-18T12:03:39.807Z"
   },
   {
    "duration": 12,
    "start_time": "2023-02-18T12:03:39.812Z"
   },
   {
    "duration": 13598,
    "start_time": "2023-02-18T12:03:39.825Z"
   },
   {
    "duration": 1541146,
    "start_time": "2023-02-18T12:03:53.426Z"
   },
   {
    "duration": 3,
    "start_time": "2023-02-18T12:29:34.573Z"
   },
   {
    "duration": 61,
    "start_time": "2023-02-18T12:29:34.577Z"
   },
   {
    "duration": 1582,
    "start_time": "2023-02-18T12:49:57.416Z"
   },
   {
    "duration": 53,
    "start_time": "2023-02-18T12:49:59.000Z"
   },
   {
    "duration": 13,
    "start_time": "2023-02-18T12:49:59.058Z"
   },
   {
    "duration": 12,
    "start_time": "2023-02-18T12:49:59.073Z"
   },
   {
    "duration": 4,
    "start_time": "2023-02-18T12:49:59.088Z"
   },
   {
    "duration": 45,
    "start_time": "2023-02-18T12:49:59.094Z"
   },
   {
    "duration": 292,
    "start_time": "2023-02-18T12:49:59.141Z"
   },
   {
    "duration": 8,
    "start_time": "2023-02-18T12:49:59.438Z"
   },
   {
    "duration": 791,
    "start_time": "2023-02-18T12:49:59.448Z"
   },
   {
    "duration": 184,
    "start_time": "2023-02-18T12:50:00.241Z"
   },
   {
    "duration": 180,
    "start_time": "2023-02-18T12:50:00.427Z"
   },
   {
    "duration": 363,
    "start_time": "2023-02-18T12:50:00.609Z"
   },
   {
    "duration": 10,
    "start_time": "2023-02-18T12:50:00.975Z"
   },
   {
    "duration": 86,
    "start_time": "2023-02-18T12:50:00.987Z"
   },
   {
    "duration": 9,
    "start_time": "2023-02-18T12:50:01.076Z"
   },
   {
    "duration": 55,
    "start_time": "2023-02-18T12:50:01.087Z"
   },
   {
    "duration": 14416,
    "start_time": "2023-02-18T12:50:01.144Z"
   },
   {
    "duration": 4842555,
    "start_time": "2023-02-18T12:50:15.562Z"
   },
   {
    "duration": 329235,
    "start_time": "2023-02-18T14:10:58.119Z"
   },
   {
    "duration": 583,
    "start_time": "2023-02-18T14:16:27.356Z"
   },
   {
    "duration": 564,
    "start_time": "2023-02-18T14:19:37.644Z"
   },
   {
    "duration": 1577,
    "start_time": "2023-02-18T14:24:32.024Z"
   },
   {
    "duration": 53,
    "start_time": "2023-02-18T14:24:33.603Z"
   },
   {
    "duration": 11,
    "start_time": "2023-02-18T14:24:33.658Z"
   },
   {
    "duration": 34,
    "start_time": "2023-02-18T14:24:33.671Z"
   },
   {
    "duration": 22,
    "start_time": "2023-02-18T14:24:33.708Z"
   },
   {
    "duration": 24,
    "start_time": "2023-02-18T14:24:33.732Z"
   },
   {
    "duration": 295,
    "start_time": "2023-02-18T14:24:33.757Z"
   },
   {
    "duration": 10,
    "start_time": "2023-02-18T14:24:34.055Z"
   },
   {
    "duration": 814,
    "start_time": "2023-02-18T14:24:34.067Z"
   },
   {
    "duration": 183,
    "start_time": "2023-02-18T14:24:34.883Z"
   },
   {
    "duration": 176,
    "start_time": "2023-02-18T14:24:35.068Z"
   },
   {
    "duration": 3,
    "start_time": "2023-02-18T14:24:35.245Z"
   },
   {
    "duration": 17,
    "start_time": "2023-02-18T14:24:35.250Z"
   },
   {
    "duration": 54,
    "start_time": "2023-02-18T14:24:35.270Z"
   },
   {
    "duration": 5,
    "start_time": "2023-02-18T14:24:35.325Z"
   },
   {
    "duration": 286,
    "start_time": "2023-02-18T14:24:35.332Z"
   },
   {
    "duration": 1579,
    "start_time": "2023-02-18T14:24:35.619Z"
   },
   {
    "duration": 11788,
    "start_time": "2023-02-18T14:24:37.200Z"
   },
   {
    "duration": 1530,
    "start_time": "2023-02-18T14:25:22.566Z"
   },
   {
    "duration": 48,
    "start_time": "2023-02-18T14:25:24.098Z"
   },
   {
    "duration": 11,
    "start_time": "2023-02-18T14:25:24.148Z"
   },
   {
    "duration": 18,
    "start_time": "2023-02-18T14:25:24.161Z"
   },
   {
    "duration": 5,
    "start_time": "2023-02-18T14:25:24.181Z"
   },
   {
    "duration": 21,
    "start_time": "2023-02-18T14:25:24.188Z"
   },
   {
    "duration": 303,
    "start_time": "2023-02-18T14:25:24.211Z"
   },
   {
    "duration": 8,
    "start_time": "2023-02-18T14:25:24.516Z"
   },
   {
    "duration": 823,
    "start_time": "2023-02-18T14:25:24.526Z"
   },
   {
    "duration": 203,
    "start_time": "2023-02-18T14:25:25.351Z"
   },
   {
    "duration": 189,
    "start_time": "2023-02-18T14:25:25.556Z"
   },
   {
    "duration": 348,
    "start_time": "2023-02-18T14:25:25.748Z"
   },
   {
    "duration": 8,
    "start_time": "2023-02-18T14:25:26.097Z"
   },
   {
    "duration": 49,
    "start_time": "2023-02-18T14:25:26.107Z"
   },
   {
    "duration": 5,
    "start_time": "2023-02-18T14:25:26.158Z"
   },
   {
    "duration": 31,
    "start_time": "2023-02-18T14:25:26.165Z"
   },
   {
    "duration": 13936,
    "start_time": "2023-02-18T14:25:26.198Z"
   },
   {
    "duration": 4852,
    "start_time": "2023-02-19T07:59:57.389Z"
   },
   {
    "duration": 45,
    "start_time": "2023-02-19T08:00:02.243Z"
   },
   {
    "duration": 11,
    "start_time": "2023-02-19T08:00:02.290Z"
   },
   {
    "duration": 14,
    "start_time": "2023-02-19T08:00:02.303Z"
   },
   {
    "duration": 16,
    "start_time": "2023-02-19T08:00:02.319Z"
   },
   {
    "duration": 38,
    "start_time": "2023-02-19T08:00:02.337Z"
   },
   {
    "duration": 317,
    "start_time": "2023-02-19T08:00:02.377Z"
   },
   {
    "duration": 9,
    "start_time": "2023-02-19T08:00:02.696Z"
   },
   {
    "duration": 737,
    "start_time": "2023-02-19T08:00:02.707Z"
   },
   {
    "duration": 173,
    "start_time": "2023-02-19T08:00:03.448Z"
   },
   {
    "duration": 184,
    "start_time": "2023-02-19T08:00:03.623Z"
   },
   {
    "duration": 277,
    "start_time": "2023-02-19T08:00:03.808Z"
   },
   {
    "duration": 6,
    "start_time": "2023-02-19T08:00:04.087Z"
   },
   {
    "duration": 55,
    "start_time": "2023-02-19T08:00:04.095Z"
   },
   {
    "duration": 5,
    "start_time": "2023-02-19T08:00:04.153Z"
   },
   {
    "duration": 42,
    "start_time": "2023-02-19T08:00:04.160Z"
   },
   {
    "duration": 12802,
    "start_time": "2023-02-19T08:00:04.204Z"
   },
   {
    "duration": 757996,
    "start_time": "2023-02-19T08:00:17.008Z"
   },
   {
    "duration": 7309,
    "start_time": "2023-02-19T08:12:55.006Z"
   },
   {
    "duration": 463,
    "start_time": "2023-02-19T08:13:02.317Z"
   },
   {
    "duration": 2,
    "start_time": "2023-02-19T08:13:02.784Z"
   },
   {
    "duration": 2,
    "start_time": "2023-02-19T08:13:03.716Z"
   },
   {
    "duration": 1772,
    "start_time": "2023-02-19T08:13:38.268Z"
   },
   {
    "duration": 2,
    "start_time": "2023-02-19T08:13:47.837Z"
   },
   {
    "duration": 15,
    "start_time": "2023-02-19T08:13:53.868Z"
   },
   {
    "duration": 11,
    "start_time": "2023-02-19T08:13:59.153Z"
   },
   {
    "duration": 1576,
    "start_time": "2023-02-19T08:17:44.773Z"
   },
   {
    "duration": 318,
    "start_time": "2023-02-19T08:17:46.351Z"
   },
   {
    "duration": 14,
    "start_time": "2023-02-19T08:17:46.671Z"
   },
   {
    "duration": 11,
    "start_time": "2023-02-19T08:17:46.687Z"
   },
   {
    "duration": 4,
    "start_time": "2023-02-19T08:17:46.699Z"
   },
   {
    "duration": 14,
    "start_time": "2023-02-19T08:17:46.705Z"
   },
   {
    "duration": 272,
    "start_time": "2023-02-19T08:17:46.721Z"
   },
   {
    "duration": 10,
    "start_time": "2023-02-19T08:17:46.995Z"
   },
   {
    "duration": 722,
    "start_time": "2023-02-19T08:17:47.007Z"
   },
   {
    "duration": 164,
    "start_time": "2023-02-19T08:17:47.732Z"
   },
   {
    "duration": 193,
    "start_time": "2023-02-19T08:17:47.898Z"
   },
   {
    "duration": 335,
    "start_time": "2023-02-19T08:17:48.093Z"
   },
   {
    "duration": 6,
    "start_time": "2023-02-19T08:17:48.430Z"
   },
   {
    "duration": 60,
    "start_time": "2023-02-19T08:17:48.438Z"
   },
   {
    "duration": 7,
    "start_time": "2023-02-19T08:17:48.500Z"
   },
   {
    "duration": 28,
    "start_time": "2023-02-19T08:17:48.508Z"
   },
   {
    "duration": 23,
    "start_time": "2023-02-19T08:17:48.538Z"
   },
   {
    "duration": 2,
    "start_time": "2023-02-19T08:17:48.563Z"
   },
   {
    "duration": 23,
    "start_time": "2023-02-19T08:17:48.567Z"
   },
   {
    "duration": 17,
    "start_time": "2023-02-19T08:17:48.591Z"
   },
   {
    "duration": 452,
    "start_time": "2023-02-19T08:17:48.610Z"
   },
   {
    "duration": 7,
    "start_time": "2023-02-19T08:27:59.478Z"
   },
   {
    "duration": 1354,
    "start_time": "2023-02-19T08:29:09.051Z"
   },
   {
    "duration": 53,
    "start_time": "2023-02-19T08:29:10.407Z"
   },
   {
    "duration": 10,
    "start_time": "2023-02-19T08:29:10.461Z"
   },
   {
    "duration": 13,
    "start_time": "2023-02-19T08:29:10.472Z"
   },
   {
    "duration": 9,
    "start_time": "2023-02-19T08:29:10.488Z"
   },
   {
    "duration": 14,
    "start_time": "2023-02-19T08:29:10.499Z"
   },
   {
    "duration": 256,
    "start_time": "2023-02-19T08:29:10.514Z"
   },
   {
    "duration": 10,
    "start_time": "2023-02-19T08:29:10.771Z"
   },
   {
    "duration": 690,
    "start_time": "2023-02-19T08:29:10.782Z"
   },
   {
    "duration": 165,
    "start_time": "2023-02-19T08:29:11.473Z"
   },
   {
    "duration": 171,
    "start_time": "2023-02-19T08:29:11.640Z"
   },
   {
    "duration": 298,
    "start_time": "2023-02-19T08:29:11.813Z"
   },
   {
    "duration": 3,
    "start_time": "2023-02-19T08:29:12.113Z"
   },
   {
    "duration": 42,
    "start_time": "2023-02-19T08:29:12.118Z"
   },
   {
    "duration": 7,
    "start_time": "2023-02-19T08:29:12.161Z"
   },
   {
    "duration": 5,
    "start_time": "2023-02-19T08:29:12.169Z"
   },
   {
    "duration": 24,
    "start_time": "2023-02-19T08:29:12.176Z"
   },
   {
    "duration": 45,
    "start_time": "2023-02-19T08:29:12.202Z"
   },
   {
    "duration": 96,
    "start_time": "2023-02-19T08:29:12.250Z"
   },
   {
    "duration": 24,
    "start_time": "2023-02-19T08:29:12.348Z"
   },
   {
    "duration": 3,
    "start_time": "2023-02-19T08:29:12.438Z"
   },
   {
    "duration": 495,
    "start_time": "2023-02-19T08:29:12.443Z"
   },
   {
    "duration": 1368,
    "start_time": "2023-02-19T08:29:41.296Z"
   },
   {
    "duration": 42,
    "start_time": "2023-02-19T08:29:42.666Z"
   },
   {
    "duration": 10,
    "start_time": "2023-02-19T08:29:42.709Z"
   },
   {
    "duration": 11,
    "start_time": "2023-02-19T08:29:42.721Z"
   },
   {
    "duration": 3,
    "start_time": "2023-02-19T08:29:42.734Z"
   },
   {
    "duration": 20,
    "start_time": "2023-02-19T08:29:42.738Z"
   },
   {
    "duration": 259,
    "start_time": "2023-02-19T08:29:42.759Z"
   },
   {
    "duration": 9,
    "start_time": "2023-02-19T08:29:43.019Z"
   },
   {
    "duration": 675,
    "start_time": "2023-02-19T08:29:43.038Z"
   },
   {
    "duration": 164,
    "start_time": "2023-02-19T08:29:43.715Z"
   },
   {
    "duration": 151,
    "start_time": "2023-02-19T08:29:43.881Z"
   },
   {
    "duration": 2,
    "start_time": "2023-02-19T08:29:44.036Z"
   },
   {
    "duration": 5,
    "start_time": "2023-02-19T08:29:44.040Z"
   },
   {
    "duration": 41,
    "start_time": "2023-02-19T08:29:44.046Z"
   },
   {
    "duration": 7,
    "start_time": "2023-02-19T08:29:44.088Z"
   },
   {
    "duration": 5,
    "start_time": "2023-02-19T08:29:44.097Z"
   },
   {
    "duration": 20,
    "start_time": "2023-02-19T08:29:44.103Z"
   },
   {
    "duration": 12,
    "start_time": "2023-02-19T08:29:44.137Z"
   },
   {
    "duration": 97,
    "start_time": "2023-02-19T08:29:44.150Z"
   },
   {
    "duration": 93,
    "start_time": "2023-02-19T08:29:44.248Z"
   },
   {
    "duration": 12,
    "start_time": "2023-02-19T08:29:44.342Z"
   },
   {
    "duration": 440,
    "start_time": "2023-02-19T08:29:44.356Z"
   },
   {
    "duration": 1509,
    "start_time": "2023-02-19T08:32:09.951Z"
   },
   {
    "duration": 44,
    "start_time": "2023-02-19T08:32:11.462Z"
   },
   {
    "duration": 13,
    "start_time": "2023-02-19T08:32:11.508Z"
   },
   {
    "duration": 16,
    "start_time": "2023-02-19T08:32:11.523Z"
   },
   {
    "duration": 5,
    "start_time": "2023-02-19T08:32:11.541Z"
   },
   {
    "duration": 15,
    "start_time": "2023-02-19T08:32:11.547Z"
   },
   {
    "duration": 295,
    "start_time": "2023-02-19T08:32:11.564Z"
   },
   {
    "duration": 8,
    "start_time": "2023-02-19T08:32:11.861Z"
   },
   {
    "duration": 884,
    "start_time": "2023-02-19T08:32:11.871Z"
   },
   {
    "duration": 186,
    "start_time": "2023-02-19T08:32:12.757Z"
   },
   {
    "duration": 223,
    "start_time": "2023-02-19T08:32:12.945Z"
   },
   {
    "duration": 2,
    "start_time": "2023-02-19T08:32:13.170Z"
   },
   {
    "duration": 16,
    "start_time": "2023-02-19T08:32:13.174Z"
   },
   {
    "duration": 73,
    "start_time": "2023-02-19T08:32:13.192Z"
   },
   {
    "duration": 9,
    "start_time": "2023-02-19T08:32:13.267Z"
   },
   {
    "duration": 15,
    "start_time": "2023-02-19T08:32:13.277Z"
   },
   {
    "duration": 29,
    "start_time": "2023-02-19T08:32:13.293Z"
   },
   {
    "duration": 30,
    "start_time": "2023-02-19T08:32:13.324Z"
   },
   {
    "duration": 30044,
    "start_time": "2023-02-19T08:32:13.438Z"
   },
   {
    "duration": 4769229,
    "start_time": "2023-02-19T08:32:43.487Z"
   },
   {
    "duration": 4356933,
    "start_time": "2023-02-19T09:52:12.719Z"
   },
   {
    "duration": 2,
    "start_time": "2023-02-19T11:04:49.654Z"
   },
   {
    "duration": 12482,
    "start_time": "2023-02-19T11:09:03.162Z"
   },
   {
    "duration": 1025,
    "start_time": "2023-02-19T11:09:34.457Z"
   },
   {
    "duration": 741,
    "start_time": "2023-02-19T11:10:34.149Z"
   },
   {
    "duration": 636,
    "start_time": "2023-02-19T11:12:19.611Z"
   },
   {
    "duration": 105,
    "start_time": "2023-02-19T11:13:11.531Z"
   },
   {
    "duration": 10,
    "start_time": "2023-02-19T11:16:25.496Z"
   },
   {
    "duration": 10,
    "start_time": "2023-02-19T11:16:39.469Z"
   },
   {
    "duration": 239,
    "start_time": "2023-02-19T11:17:10.384Z"
   },
   {
    "duration": 230,
    "start_time": "2023-02-19T11:18:40.430Z"
   },
   {
    "duration": 189,
    "start_time": "2023-02-19T11:18:51.954Z"
   },
   {
    "duration": 228,
    "start_time": "2023-02-19T11:19:31.308Z"
   }
  ],
  "kernelspec": {
   "display_name": "Python 3 (ipykernel)",
   "language": "python",
   "name": "python3"
  },
  "language_info": {
   "codemirror_mode": {
    "name": "ipython",
    "version": 3
   },
   "file_extension": ".py",
   "mimetype": "text/x-python",
   "name": "python",
   "nbconvert_exporter": "python",
   "pygments_lexer": "ipython3",
   "version": "3.9.5"
  },
  "toc": {
   "base_numbering": 1,
   "nav_menu": {},
   "number_sections": true,
   "sideBar": true,
   "skip_h1_title": true,
   "title_cell": "Содержание",
   "title_sidebar": "Contents",
   "toc_cell": true,
   "toc_position": {
    "height": "calc(100% - 180px)",
    "left": "10px",
    "top": "150px",
    "width": "165px"
   },
   "toc_section_display": true,
   "toc_window_display": false
  }
 },
 "nbformat": 4,
 "nbformat_minor": 2
}
