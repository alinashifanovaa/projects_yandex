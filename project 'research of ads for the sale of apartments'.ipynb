{
 "cells": [
  {
   "cell_type": "markdown",
   "metadata": {
    "toc": true
   },
   "source": [
    "<h1>Содержание<span class=\"tocSkip\"></span></h1>\n",
    "<div class=\"toc\"><ul class=\"toc-item\"><li><span><a href=\"#Подготовка-и-предобработка-данных\" data-toc-modified-id=\"Подготовка-и-предобработка-данных-1\"><span class=\"toc-item-num\">1&nbsp;&nbsp;</span>Подготовка и предобработка данных</a></span></li><li><span><a href=\"#Расчёты-и-добавление-результатов-в-таблицу\" data-toc-modified-id=\"Расчёты-и-добавление-результатов-в-таблицу-2\"><span class=\"toc-item-num\">2&nbsp;&nbsp;</span>Расчёты и добавление результатов в таблицу</a></span></li><li><span><a href=\"#Исследовательский-анализ-данных\" data-toc-modified-id=\"Исследовательский-анализ-данных-3\"><span class=\"toc-item-num\">3&nbsp;&nbsp;</span>Исследовательский анализ данных</a></span></li></ul></div>"
   ]
  },
  {
   "cell_type": "markdown",
   "metadata": {},
   "source": [
    "# Исследование объявлений о продаже квартир\n",
    "\n",
    "В нашем распоряжении данные сервиса Яндекc Недвижимость — архив объявлений о продаже квартир в Санкт-Петербурге и соседних населённых пунктах за несколько лет. Нужно научиться определять рыночную стоимость объектов недвижимости. \n",
    "\n",
    "Наша задача — установить параметры. Это позволит построить автоматизированную систему: она отследит аномалии и мошенническую деятельность. \n",
    "\n",
    "По каждой квартире на продажу доступны два вида данных. Первые вписаны пользователем, вторые получены автоматически на основе картографических данных. Например, расстояние до центра, аэропорта, ближайшего парка и водоёма. "
   ]
  },
  {
   "cell_type": "markdown",
   "metadata": {},
   "source": [
    "## Подготовка и предобработка данных"
   ]
  },
  {
   "cell_type": "code",
   "execution_count": 1,
   "metadata": {},
   "outputs": [],
   "source": [
    "import pandas as pd\n",
    "import matplotlib.pyplot as plt\n",
    "import seaborn as sns\n",
    "import numpy as np"
   ]
  },
  {
   "cell_type": "code",
   "execution_count": 2,
   "metadata": {},
   "outputs": [],
   "source": [
    "data = pd.read_csv('/datasets/real_estate_data.csv')"
   ]
  },
  {
   "cell_type": "code",
   "execution_count": 3,
   "metadata": {},
   "outputs": [
    {
     "data": {
      "text/html": [
       "<div>\n",
       "<style scoped>\n",
       "    .dataframe tbody tr th:only-of-type {\n",
       "        vertical-align: middle;\n",
       "    }\n",
       "\n",
       "    .dataframe tbody tr th {\n",
       "        vertical-align: top;\n",
       "    }\n",
       "\n",
       "    .dataframe thead th {\n",
       "        text-align: right;\n",
       "    }\n",
       "</style>\n",
       "<table border=\"1\" class=\"dataframe\">\n",
       "  <thead>\n",
       "    <tr style=\"text-align: right;\">\n",
       "      <th></th>\n",
       "      <th>total_images\\tlast_price\\ttotal_area\\tfirst_day_exposition\\trooms\\tceiling_height\\tfloors_total\\tliving_area\\tfloor\\tis_apartment\\tstudio\\topen_plan\\tkitchen_area\\tbalcony\\tlocality_name\\tairports_nearest\\tcityCenters_nearest\\tparks_around3000\\tparks_nearest\\tponds_around3000\\tponds_nearest\\tdays_exposition</th>\n",
       "    </tr>\n",
       "  </thead>\n",
       "  <tbody>\n",
       "    <tr>\n",
       "      <th>0</th>\n",
       "      <td>20\\t13000000.0\\t108.0\\t2019-03-07T00:00:00\\t3\\...</td>\n",
       "    </tr>\n",
       "    <tr>\n",
       "      <th>1</th>\n",
       "      <td>7\\t3350000.0\\t40.4\\t2018-12-04T00:00:00\\t1\\t\\t...</td>\n",
       "    </tr>\n",
       "    <tr>\n",
       "      <th>2</th>\n",
       "      <td>10\\t5196000.0\\t56.0\\t2015-08-20T00:00:00\\t2\\t\\...</td>\n",
       "    </tr>\n",
       "    <tr>\n",
       "      <th>3</th>\n",
       "      <td>0\\t64900000.0\\t159.0\\t2015-07-24T00:00:00\\t3\\t...</td>\n",
       "    </tr>\n",
       "    <tr>\n",
       "      <th>4</th>\n",
       "      <td>2\\t10000000.0\\t100.0\\t2018-06-19T00:00:00\\t2\\t...</td>\n",
       "    </tr>\n",
       "  </tbody>\n",
       "</table>\n",
       "</div>"
      ],
      "text/plain": [
       "  total_images\\tlast_price\\ttotal_area\\tfirst_day_exposition\\trooms\\tceiling_height\\tfloors_total\\tliving_area\\tfloor\\tis_apartment\\tstudio\\topen_plan\\tkitchen_area\\tbalcony\\tlocality_name\\tairports_nearest\\tcityCenters_nearest\\tparks_around3000\\tparks_nearest\\tponds_around3000\\tponds_nearest\\tdays_exposition\n",
       "0  20\\t13000000.0\\t108.0\\t2019-03-07T00:00:00\\t3\\...                                                                                                                                                                                                                                                                  \n",
       "1  7\\t3350000.0\\t40.4\\t2018-12-04T00:00:00\\t1\\t\\t...                                                                                                                                                                                                                                                                  \n",
       "2  10\\t5196000.0\\t56.0\\t2015-08-20T00:00:00\\t2\\t\\...                                                                                                                                                                                                                                                                  \n",
       "3  0\\t64900000.0\\t159.0\\t2015-07-24T00:00:00\\t3\\t...                                                                                                                                                                                                                                                                  \n",
       "4  2\\t10000000.0\\t100.0\\t2018-06-19T00:00:00\\t2\\t...                                                                                                                                                                                                                                                                  "
      ]
     },
     "metadata": {},
     "output_type": "display_data"
    }
   ],
   "source": [
    "display(data.head())"
   ]
  },
  {
   "cell_type": "markdown",
   "metadata": {},
   "source": [
    "**Мы вывели данные на экран и увидели первую проблему - данные склеились, поэтому нужно привести их в удобный для чтения и анализа вид.**"
   ]
  },
  {
   "cell_type": "code",
   "execution_count": 4,
   "metadata": {},
   "outputs": [],
   "source": [
    "#прочтём файл ещё раз, указав в параметре sep, отвечающем за разделитель колонок, в качестве разделителя \n",
    "#знак табуляции \\t\n",
    "\n",
    "data = pd.read_csv('/datasets/real_estate_data.csv', sep='\\t')"
   ]
  },
  {
   "cell_type": "code",
   "execution_count": 5,
   "metadata": {},
   "outputs": [
    {
     "data": {
      "text/html": [
       "<div>\n",
       "<style scoped>\n",
       "    .dataframe tbody tr th:only-of-type {\n",
       "        vertical-align: middle;\n",
       "    }\n",
       "\n",
       "    .dataframe tbody tr th {\n",
       "        vertical-align: top;\n",
       "    }\n",
       "\n",
       "    .dataframe thead th {\n",
       "        text-align: right;\n",
       "    }\n",
       "</style>\n",
       "<table border=\"1\" class=\"dataframe\">\n",
       "  <thead>\n",
       "    <tr style=\"text-align: right;\">\n",
       "      <th></th>\n",
       "      <th>total_images</th>\n",
       "      <th>last_price</th>\n",
       "      <th>total_area</th>\n",
       "      <th>first_day_exposition</th>\n",
       "      <th>rooms</th>\n",
       "      <th>ceiling_height</th>\n",
       "      <th>floors_total</th>\n",
       "      <th>living_area</th>\n",
       "      <th>floor</th>\n",
       "      <th>is_apartment</th>\n",
       "      <th>...</th>\n",
       "      <th>kitchen_area</th>\n",
       "      <th>balcony</th>\n",
       "      <th>locality_name</th>\n",
       "      <th>airports_nearest</th>\n",
       "      <th>cityCenters_nearest</th>\n",
       "      <th>parks_around3000</th>\n",
       "      <th>parks_nearest</th>\n",
       "      <th>ponds_around3000</th>\n",
       "      <th>ponds_nearest</th>\n",
       "      <th>days_exposition</th>\n",
       "    </tr>\n",
       "  </thead>\n",
       "  <tbody>\n",
       "    <tr>\n",
       "      <th>0</th>\n",
       "      <td>20</td>\n",
       "      <td>13000000.0</td>\n",
       "      <td>108.0</td>\n",
       "      <td>2019-03-07T00:00:00</td>\n",
       "      <td>3</td>\n",
       "      <td>2.70</td>\n",
       "      <td>16.0</td>\n",
       "      <td>51.0</td>\n",
       "      <td>8</td>\n",
       "      <td>NaN</td>\n",
       "      <td>...</td>\n",
       "      <td>25.0</td>\n",
       "      <td>NaN</td>\n",
       "      <td>Санкт-Петербург</td>\n",
       "      <td>18863.0</td>\n",
       "      <td>16028.0</td>\n",
       "      <td>1.0</td>\n",
       "      <td>482.0</td>\n",
       "      <td>2.0</td>\n",
       "      <td>755.0</td>\n",
       "      <td>NaN</td>\n",
       "    </tr>\n",
       "    <tr>\n",
       "      <th>1</th>\n",
       "      <td>7</td>\n",
       "      <td>3350000.0</td>\n",
       "      <td>40.4</td>\n",
       "      <td>2018-12-04T00:00:00</td>\n",
       "      <td>1</td>\n",
       "      <td>NaN</td>\n",
       "      <td>11.0</td>\n",
       "      <td>18.6</td>\n",
       "      <td>1</td>\n",
       "      <td>NaN</td>\n",
       "      <td>...</td>\n",
       "      <td>11.0</td>\n",
       "      <td>2.0</td>\n",
       "      <td>посёлок Шушары</td>\n",
       "      <td>12817.0</td>\n",
       "      <td>18603.0</td>\n",
       "      <td>0.0</td>\n",
       "      <td>NaN</td>\n",
       "      <td>0.0</td>\n",
       "      <td>NaN</td>\n",
       "      <td>81.0</td>\n",
       "    </tr>\n",
       "    <tr>\n",
       "      <th>2</th>\n",
       "      <td>10</td>\n",
       "      <td>5196000.0</td>\n",
       "      <td>56.0</td>\n",
       "      <td>2015-08-20T00:00:00</td>\n",
       "      <td>2</td>\n",
       "      <td>NaN</td>\n",
       "      <td>5.0</td>\n",
       "      <td>34.3</td>\n",
       "      <td>4</td>\n",
       "      <td>NaN</td>\n",
       "      <td>...</td>\n",
       "      <td>8.3</td>\n",
       "      <td>0.0</td>\n",
       "      <td>Санкт-Петербург</td>\n",
       "      <td>21741.0</td>\n",
       "      <td>13933.0</td>\n",
       "      <td>1.0</td>\n",
       "      <td>90.0</td>\n",
       "      <td>2.0</td>\n",
       "      <td>574.0</td>\n",
       "      <td>558.0</td>\n",
       "    </tr>\n",
       "    <tr>\n",
       "      <th>3</th>\n",
       "      <td>0</td>\n",
       "      <td>64900000.0</td>\n",
       "      <td>159.0</td>\n",
       "      <td>2015-07-24T00:00:00</td>\n",
       "      <td>3</td>\n",
       "      <td>NaN</td>\n",
       "      <td>14.0</td>\n",
       "      <td>NaN</td>\n",
       "      <td>9</td>\n",
       "      <td>NaN</td>\n",
       "      <td>...</td>\n",
       "      <td>NaN</td>\n",
       "      <td>0.0</td>\n",
       "      <td>Санкт-Петербург</td>\n",
       "      <td>28098.0</td>\n",
       "      <td>6800.0</td>\n",
       "      <td>2.0</td>\n",
       "      <td>84.0</td>\n",
       "      <td>3.0</td>\n",
       "      <td>234.0</td>\n",
       "      <td>424.0</td>\n",
       "    </tr>\n",
       "    <tr>\n",
       "      <th>4</th>\n",
       "      <td>2</td>\n",
       "      <td>10000000.0</td>\n",
       "      <td>100.0</td>\n",
       "      <td>2018-06-19T00:00:00</td>\n",
       "      <td>2</td>\n",
       "      <td>3.03</td>\n",
       "      <td>14.0</td>\n",
       "      <td>32.0</td>\n",
       "      <td>13</td>\n",
       "      <td>NaN</td>\n",
       "      <td>...</td>\n",
       "      <td>41.0</td>\n",
       "      <td>NaN</td>\n",
       "      <td>Санкт-Петербург</td>\n",
       "      <td>31856.0</td>\n",
       "      <td>8098.0</td>\n",
       "      <td>2.0</td>\n",
       "      <td>112.0</td>\n",
       "      <td>1.0</td>\n",
       "      <td>48.0</td>\n",
       "      <td>121.0</td>\n",
       "    </tr>\n",
       "  </tbody>\n",
       "</table>\n",
       "<p>5 rows × 22 columns</p>\n",
       "</div>"
      ],
      "text/plain": [
       "   total_images  last_price  total_area first_day_exposition  rooms  \\\n",
       "0            20  13000000.0       108.0  2019-03-07T00:00:00      3   \n",
       "1             7   3350000.0        40.4  2018-12-04T00:00:00      1   \n",
       "2            10   5196000.0        56.0  2015-08-20T00:00:00      2   \n",
       "3             0  64900000.0       159.0  2015-07-24T00:00:00      3   \n",
       "4             2  10000000.0       100.0  2018-06-19T00:00:00      2   \n",
       "\n",
       "   ceiling_height  floors_total  living_area  floor is_apartment  ...  \\\n",
       "0            2.70          16.0         51.0      8          NaN  ...   \n",
       "1             NaN          11.0         18.6      1          NaN  ...   \n",
       "2             NaN           5.0         34.3      4          NaN  ...   \n",
       "3             NaN          14.0          NaN      9          NaN  ...   \n",
       "4            3.03          14.0         32.0     13          NaN  ...   \n",
       "\n",
       "   kitchen_area  balcony    locality_name  airports_nearest  \\\n",
       "0          25.0      NaN  Санкт-Петербург           18863.0   \n",
       "1          11.0      2.0   посёлок Шушары           12817.0   \n",
       "2           8.3      0.0  Санкт-Петербург           21741.0   \n",
       "3           NaN      0.0  Санкт-Петербург           28098.0   \n",
       "4          41.0      NaN  Санкт-Петербург           31856.0   \n",
       "\n",
       "  cityCenters_nearest  parks_around3000  parks_nearest  ponds_around3000  \\\n",
       "0             16028.0               1.0          482.0               2.0   \n",
       "1             18603.0               0.0            NaN               0.0   \n",
       "2             13933.0               1.0           90.0               2.0   \n",
       "3              6800.0               2.0           84.0               3.0   \n",
       "4              8098.0               2.0          112.0               1.0   \n",
       "\n",
       "   ponds_nearest  days_exposition  \n",
       "0          755.0              NaN  \n",
       "1            NaN             81.0  \n",
       "2          574.0            558.0  \n",
       "3          234.0            424.0  \n",
       "4           48.0            121.0  \n",
       "\n",
       "[5 rows x 22 columns]"
      ]
     },
     "metadata": {},
     "output_type": "display_data"
    }
   ],
   "source": [
    "display(data.head())"
   ]
  },
  {
   "cell_type": "code",
   "execution_count": 6,
   "metadata": {},
   "outputs": [
    {
     "name": "stdout",
     "output_type": "stream",
     "text": [
      "<class 'pandas.core.frame.DataFrame'>\n",
      "RangeIndex: 23699 entries, 0 to 23698\n",
      "Data columns (total 22 columns):\n",
      " #   Column                Non-Null Count  Dtype  \n",
      "---  ------                --------------  -----  \n",
      " 0   total_images          23699 non-null  int64  \n",
      " 1   last_price            23699 non-null  float64\n",
      " 2   total_area            23699 non-null  float64\n",
      " 3   first_day_exposition  23699 non-null  object \n",
      " 4   rooms                 23699 non-null  int64  \n",
      " 5   ceiling_height        14504 non-null  float64\n",
      " 6   floors_total          23613 non-null  float64\n",
      " 7   living_area           21796 non-null  float64\n",
      " 8   floor                 23699 non-null  int64  \n",
      " 9   is_apartment          2775 non-null   object \n",
      " 10  studio                23699 non-null  bool   \n",
      " 11  open_plan             23699 non-null  bool   \n",
      " 12  kitchen_area          21421 non-null  float64\n",
      " 13  balcony               12180 non-null  float64\n",
      " 14  locality_name         23650 non-null  object \n",
      " 15  airports_nearest      18157 non-null  float64\n",
      " 16  cityCenters_nearest   18180 non-null  float64\n",
      " 17  parks_around3000      18181 non-null  float64\n",
      " 18  parks_nearest         8079 non-null   float64\n",
      " 19  ponds_around3000      18181 non-null  float64\n",
      " 20  ponds_nearest         9110 non-null   float64\n",
      " 21  days_exposition       20518 non-null  float64\n",
      "dtypes: bool(2), float64(14), int64(3), object(3)\n",
      "memory usage: 3.7+ MB\n"
     ]
    }
   ],
   "source": [
    "data.info()"
   ]
  },
  {
   "cell_type": "markdown",
   "metadata": {},
   "source": [
    "Прежде чем приступать к исследованию, нужно разобраться с пропусками, проверить данные на дубликаты и аномалии. \n",
    "\n",
    "В некоторых столбцах нужно будет поменять тип данных. \n",
    "\n",
    "Также, бросается в глаза некорректное название столбцов cityCenters_nearest, parks_around3000, ponds_around3000 - нужно будет их переименовать. \n",
    "Переименуем столбцы cityCenters_nearest, parks_around3000, ponds_around3000 - нужно избавиться от прописной буквы, добавить в качестве разделителя между словами нижнее подчёркивание, чтобы все названия были в \"змеином регистре\", а также избавиться от цифр - они визуально выбиваются, к тому же не дают полной информации о столбце."
   ]
  },
  {
   "cell_type": "code",
   "execution_count": 7,
   "metadata": {},
   "outputs": [],
   "source": [
    "data = data.rename(columns={'cityCenters_nearest' : 'city_centers_nearest', 'parks_around3000' : 'parks_around_three_km', \n",
    "                            'ponds_around3000' : 'ponds_around_three_km'})"
   ]
  },
  {
   "cell_type": "code",
   "execution_count": 8,
   "metadata": {},
   "outputs": [
    {
     "name": "stdout",
     "output_type": "stream",
     "text": [
      "<class 'pandas.core.frame.DataFrame'>\n",
      "RangeIndex: 23699 entries, 0 to 23698\n",
      "Data columns (total 22 columns):\n",
      " #   Column                 Non-Null Count  Dtype  \n",
      "---  ------                 --------------  -----  \n",
      " 0   total_images           23699 non-null  int64  \n",
      " 1   last_price             23699 non-null  float64\n",
      " 2   total_area             23699 non-null  float64\n",
      " 3   first_day_exposition   23699 non-null  object \n",
      " 4   rooms                  23699 non-null  int64  \n",
      " 5   ceiling_height         14504 non-null  float64\n",
      " 6   floors_total           23613 non-null  float64\n",
      " 7   living_area            21796 non-null  float64\n",
      " 8   floor                  23699 non-null  int64  \n",
      " 9   is_apartment           2775 non-null   object \n",
      " 10  studio                 23699 non-null  bool   \n",
      " 11  open_plan              23699 non-null  bool   \n",
      " 12  kitchen_area           21421 non-null  float64\n",
      " 13  balcony                12180 non-null  float64\n",
      " 14  locality_name          23650 non-null  object \n",
      " 15  airports_nearest       18157 non-null  float64\n",
      " 16  city_centers_nearest   18180 non-null  float64\n",
      " 17  parks_around_three_km  18181 non-null  float64\n",
      " 18  parks_nearest          8079 non-null   float64\n",
      " 19  ponds_around_three_km  18181 non-null  float64\n",
      " 20  ponds_nearest          9110 non-null   float64\n",
      " 21  days_exposition        20518 non-null  float64\n",
      "dtypes: bool(2), float64(14), int64(3), object(3)\n",
      "memory usage: 3.7+ MB\n"
     ]
    }
   ],
   "source": [
    "data.info()"
   ]
  },
  {
   "cell_type": "markdown",
   "metadata": {},
   "source": [
    "Проверим данные на наличие явных и неявных дубликатов."
   ]
  },
  {
   "cell_type": "code",
   "execution_count": 9,
   "metadata": {},
   "outputs": [
    {
     "data": {
      "text/plain": [
       "0"
      ]
     },
     "execution_count": 9,
     "metadata": {},
     "output_type": "execute_result"
    }
   ],
   "source": [
    "data.duplicated().sum()"
   ]
  },
  {
   "cell_type": "markdown",
   "metadata": {},
   "source": [
    "Явных дубликатов нет.\n",
    "Теперь будем проверять данные на неявные дубликаты и пропуски, по ходу анализа каждого столбца будем по необходимости выполнять следующие пункты: \n",
    "\n",
    "* замена пропущенных значений \n",
    "* устранение аномальных значений \n",
    "* изменение типов данных "
   ]
  },
  {
   "cell_type": "code",
   "execution_count": 10,
   "metadata": {},
   "outputs": [
    {
     "data": {
      "text/html": [
       "<div>\n",
       "<style scoped>\n",
       "    .dataframe tbody tr th:only-of-type {\n",
       "        vertical-align: middle;\n",
       "    }\n",
       "\n",
       "    .dataframe tbody tr th {\n",
       "        vertical-align: top;\n",
       "    }\n",
       "\n",
       "    .dataframe thead th {\n",
       "        text-align: right;\n",
       "    }\n",
       "</style>\n",
       "<table border=\"1\" class=\"dataframe\">\n",
       "  <thead>\n",
       "    <tr style=\"text-align: right;\">\n",
       "      <th></th>\n",
       "      <th>total_images</th>\n",
       "    </tr>\n",
       "  </thead>\n",
       "  <tbody>\n",
       "    <tr>\n",
       "      <th>0</th>\n",
       "      <td>1059</td>\n",
       "    </tr>\n",
       "    <tr>\n",
       "      <th>1</th>\n",
       "      <td>872</td>\n",
       "    </tr>\n",
       "    <tr>\n",
       "      <th>2</th>\n",
       "      <td>640</td>\n",
       "    </tr>\n",
       "    <tr>\n",
       "      <th>3</th>\n",
       "      <td>769</td>\n",
       "    </tr>\n",
       "    <tr>\n",
       "      <th>4</th>\n",
       "      <td>986</td>\n",
       "    </tr>\n",
       "    <tr>\n",
       "      <th>5</th>\n",
       "      <td>1301</td>\n",
       "    </tr>\n",
       "    <tr>\n",
       "      <th>6</th>\n",
       "      <td>1482</td>\n",
       "    </tr>\n",
       "    <tr>\n",
       "      <th>7</th>\n",
       "      <td>1521</td>\n",
       "    </tr>\n",
       "    <tr>\n",
       "      <th>8</th>\n",
       "      <td>1585</td>\n",
       "    </tr>\n",
       "    <tr>\n",
       "      <th>9</th>\n",
       "      <td>1725</td>\n",
       "    </tr>\n",
       "    <tr>\n",
       "      <th>10</th>\n",
       "      <td>1798</td>\n",
       "    </tr>\n",
       "    <tr>\n",
       "      <th>11</th>\n",
       "      <td>1362</td>\n",
       "    </tr>\n",
       "    <tr>\n",
       "      <th>12</th>\n",
       "      <td>1225</td>\n",
       "    </tr>\n",
       "    <tr>\n",
       "      <th>13</th>\n",
       "      <td>1015</td>\n",
       "    </tr>\n",
       "    <tr>\n",
       "      <th>14</th>\n",
       "      <td>986</td>\n",
       "    </tr>\n",
       "    <tr>\n",
       "      <th>15</th>\n",
       "      <td>948</td>\n",
       "    </tr>\n",
       "    <tr>\n",
       "      <th>16</th>\n",
       "      <td>761</td>\n",
       "    </tr>\n",
       "    <tr>\n",
       "      <th>17</th>\n",
       "      <td>650</td>\n",
       "    </tr>\n",
       "    <tr>\n",
       "      <th>18</th>\n",
       "      <td>642</td>\n",
       "    </tr>\n",
       "    <tr>\n",
       "      <th>19</th>\n",
       "      <td>603</td>\n",
       "    </tr>\n",
       "    <tr>\n",
       "      <th>20</th>\n",
       "      <td>1694</td>\n",
       "    </tr>\n",
       "    <tr>\n",
       "      <th>21</th>\n",
       "      <td>12</td>\n",
       "    </tr>\n",
       "    <tr>\n",
       "      <th>22</th>\n",
       "      <td>8</td>\n",
       "    </tr>\n",
       "    <tr>\n",
       "      <th>23</th>\n",
       "      <td>16</td>\n",
       "    </tr>\n",
       "    <tr>\n",
       "      <th>24</th>\n",
       "      <td>8</td>\n",
       "    </tr>\n",
       "    <tr>\n",
       "      <th>25</th>\n",
       "      <td>1</td>\n",
       "    </tr>\n",
       "    <tr>\n",
       "      <th>26</th>\n",
       "      <td>5</td>\n",
       "    </tr>\n",
       "    <tr>\n",
       "      <th>27</th>\n",
       "      <td>2</td>\n",
       "    </tr>\n",
       "    <tr>\n",
       "      <th>28</th>\n",
       "      <td>4</td>\n",
       "    </tr>\n",
       "    <tr>\n",
       "      <th>29</th>\n",
       "      <td>3</td>\n",
       "    </tr>\n",
       "    <tr>\n",
       "      <th>30</th>\n",
       "      <td>2</td>\n",
       "    </tr>\n",
       "    <tr>\n",
       "      <th>31</th>\n",
       "      <td>2</td>\n",
       "    </tr>\n",
       "    <tr>\n",
       "      <th>32</th>\n",
       "      <td>4</td>\n",
       "    </tr>\n",
       "    <tr>\n",
       "      <th>35</th>\n",
       "      <td>2</td>\n",
       "    </tr>\n",
       "    <tr>\n",
       "      <th>37</th>\n",
       "      <td>1</td>\n",
       "    </tr>\n",
       "    <tr>\n",
       "      <th>39</th>\n",
       "      <td>1</td>\n",
       "    </tr>\n",
       "    <tr>\n",
       "      <th>42</th>\n",
       "      <td>1</td>\n",
       "    </tr>\n",
       "    <tr>\n",
       "      <th>50</th>\n",
       "      <td>3</td>\n",
       "    </tr>\n",
       "  </tbody>\n",
       "</table>\n",
       "</div>"
      ],
      "text/plain": [
       "    total_images\n",
       "0           1059\n",
       "1            872\n",
       "2            640\n",
       "3            769\n",
       "4            986\n",
       "5           1301\n",
       "6           1482\n",
       "7           1521\n",
       "8           1585\n",
       "9           1725\n",
       "10          1798\n",
       "11          1362\n",
       "12          1225\n",
       "13          1015\n",
       "14           986\n",
       "15           948\n",
       "16           761\n",
       "17           650\n",
       "18           642\n",
       "19           603\n",
       "20          1694\n",
       "21            12\n",
       "22             8\n",
       "23            16\n",
       "24             8\n",
       "25             1\n",
       "26             5\n",
       "27             2\n",
       "28             4\n",
       "29             3\n",
       "30             2\n",
       "31             2\n",
       "32             4\n",
       "35             2\n",
       "37             1\n",
       "39             1\n",
       "42             1\n",
       "50             3"
      ]
     },
     "execution_count": 10,
     "metadata": {},
     "output_type": "execute_result"
    }
   ],
   "source": [
    "#для проверки на неявные дубликаты мы применим к каждому столбцу следующие методы: \n",
    "#value_counts() для подсчёта уникальных значений, в параметрах к методу запишем dropna=False для включения в \n",
    "#подсчёт NaN значений\n",
    "#метод sort_index с параметром ascending=True отсортирует данные в алфавитном порядке\n",
    "#метод to_frame() выведет результат в формате Dataframe \n",
    "\n",
    "data['total_images'].value_counts(dropna=False).sort_index(ascending=True).to_frame()"
   ]
  },
  {
   "cell_type": "code",
   "execution_count": 11,
   "metadata": {},
   "outputs": [
    {
     "data": {
      "text/html": [
       "<div>\n",
       "<style scoped>\n",
       "    .dataframe tbody tr th:only-of-type {\n",
       "        vertical-align: middle;\n",
       "    }\n",
       "\n",
       "    .dataframe tbody tr th {\n",
       "        vertical-align: top;\n",
       "    }\n",
       "\n",
       "    .dataframe thead th {\n",
       "        text-align: right;\n",
       "    }\n",
       "</style>\n",
       "<table border=\"1\" class=\"dataframe\">\n",
       "  <thead>\n",
       "    <tr style=\"text-align: right;\">\n",
       "      <th></th>\n",
       "      <th>last_price</th>\n",
       "    </tr>\n",
       "  </thead>\n",
       "  <tbody>\n",
       "    <tr>\n",
       "      <th>12190.0</th>\n",
       "      <td>1</td>\n",
       "    </tr>\n",
       "    <tr>\n",
       "      <th>430000.0</th>\n",
       "      <td>2</td>\n",
       "    </tr>\n",
       "    <tr>\n",
       "      <th>440000.0</th>\n",
       "      <td>1</td>\n",
       "    </tr>\n",
       "    <tr>\n",
       "      <th>450000.0</th>\n",
       "      <td>4</td>\n",
       "    </tr>\n",
       "    <tr>\n",
       "      <th>470000.0</th>\n",
       "      <td>3</td>\n",
       "    </tr>\n",
       "    <tr>\n",
       "      <th>...</th>\n",
       "      <td>...</td>\n",
       "    </tr>\n",
       "    <tr>\n",
       "      <th>300000000.0</th>\n",
       "      <td>1</td>\n",
       "    </tr>\n",
       "    <tr>\n",
       "      <th>330000000.0</th>\n",
       "      <td>1</td>\n",
       "    </tr>\n",
       "    <tr>\n",
       "      <th>401300000.0</th>\n",
       "      <td>1</td>\n",
       "    </tr>\n",
       "    <tr>\n",
       "      <th>420000000.0</th>\n",
       "      <td>1</td>\n",
       "    </tr>\n",
       "    <tr>\n",
       "      <th>763000000.0</th>\n",
       "      <td>1</td>\n",
       "    </tr>\n",
       "  </tbody>\n",
       "</table>\n",
       "<p>2978 rows × 1 columns</p>\n",
       "</div>"
      ],
      "text/plain": [
       "             last_price\n",
       "12190.0               1\n",
       "430000.0              2\n",
       "440000.0              1\n",
       "450000.0              4\n",
       "470000.0              3\n",
       "...                 ...\n",
       "300000000.0           1\n",
       "330000000.0           1\n",
       "401300000.0           1\n",
       "420000000.0           1\n",
       "763000000.0           1\n",
       "\n",
       "[2978 rows x 1 columns]"
      ]
     },
     "execution_count": 11,
     "metadata": {},
     "output_type": "execute_result"
    }
   ],
   "source": [
    "data['last_price'].value_counts(dropna=False).sort_index(ascending=True).to_frame()"
   ]
  },
  {
   "cell_type": "code",
   "execution_count": 12,
   "metadata": {},
   "outputs": [
    {
     "data": {
      "text/html": [
       "<div>\n",
       "<style scoped>\n",
       "    .dataframe tbody tr th:only-of-type {\n",
       "        vertical-align: middle;\n",
       "    }\n",
       "\n",
       "    .dataframe tbody tr th {\n",
       "        vertical-align: top;\n",
       "    }\n",
       "\n",
       "    .dataframe thead th {\n",
       "        text-align: right;\n",
       "    }\n",
       "</style>\n",
       "<table border=\"1\" class=\"dataframe\">\n",
       "  <thead>\n",
       "    <tr style=\"text-align: right;\">\n",
       "      <th></th>\n",
       "      <th>last_price</th>\n",
       "    </tr>\n",
       "  </thead>\n",
       "  <tbody>\n",
       "    <tr>\n",
       "      <th>12190</th>\n",
       "      <td>1</td>\n",
       "    </tr>\n",
       "    <tr>\n",
       "      <th>430000</th>\n",
       "      <td>2</td>\n",
       "    </tr>\n",
       "    <tr>\n",
       "      <th>440000</th>\n",
       "      <td>1</td>\n",
       "    </tr>\n",
       "    <tr>\n",
       "      <th>450000</th>\n",
       "      <td>4</td>\n",
       "    </tr>\n",
       "    <tr>\n",
       "      <th>470000</th>\n",
       "      <td>3</td>\n",
       "    </tr>\n",
       "    <tr>\n",
       "      <th>...</th>\n",
       "      <td>...</td>\n",
       "    </tr>\n",
       "    <tr>\n",
       "      <th>300000000</th>\n",
       "      <td>1</td>\n",
       "    </tr>\n",
       "    <tr>\n",
       "      <th>330000000</th>\n",
       "      <td>1</td>\n",
       "    </tr>\n",
       "    <tr>\n",
       "      <th>401300000</th>\n",
       "      <td>1</td>\n",
       "    </tr>\n",
       "    <tr>\n",
       "      <th>420000000</th>\n",
       "      <td>1</td>\n",
       "    </tr>\n",
       "    <tr>\n",
       "      <th>763000000</th>\n",
       "      <td>1</td>\n",
       "    </tr>\n",
       "  </tbody>\n",
       "</table>\n",
       "<p>2978 rows × 1 columns</p>\n",
       "</div>"
      ],
      "text/plain": [
       "           last_price\n",
       "12190               1\n",
       "430000              2\n",
       "440000              1\n",
       "450000              4\n",
       "470000              3\n",
       "...               ...\n",
       "300000000           1\n",
       "330000000           1\n",
       "401300000           1\n",
       "420000000           1\n",
       "763000000           1\n",
       "\n",
       "[2978 rows x 1 columns]"
      ]
     },
     "execution_count": 12,
     "metadata": {},
     "output_type": "execute_result"
    }
   ],
   "source": [
    "#изменим тип данных в столбце с помощью метода astype()\n",
    "\n",
    "data['last_price'] = data['last_price'].astype('int')\n",
    "data['last_price'].value_counts(dropna=False).sort_index(ascending=True).to_frame()"
   ]
  },
  {
   "cell_type": "code",
   "execution_count": 13,
   "metadata": {},
   "outputs": [
    {
     "data": {
      "text/html": [
       "<div>\n",
       "<style scoped>\n",
       "    .dataframe tbody tr th:only-of-type {\n",
       "        vertical-align: middle;\n",
       "    }\n",
       "\n",
       "    .dataframe tbody tr th {\n",
       "        vertical-align: top;\n",
       "    }\n",
       "\n",
       "    .dataframe thead th {\n",
       "        text-align: right;\n",
       "    }\n",
       "</style>\n",
       "<table border=\"1\" class=\"dataframe\">\n",
       "  <thead>\n",
       "    <tr style=\"text-align: right;\">\n",
       "      <th></th>\n",
       "      <th>total_area</th>\n",
       "    </tr>\n",
       "  </thead>\n",
       "  <tbody>\n",
       "    <tr>\n",
       "      <th>12.0</th>\n",
       "      <td>1</td>\n",
       "    </tr>\n",
       "    <tr>\n",
       "      <th>13.0</th>\n",
       "      <td>3</td>\n",
       "    </tr>\n",
       "    <tr>\n",
       "      <th>13.2</th>\n",
       "      <td>1</td>\n",
       "    </tr>\n",
       "    <tr>\n",
       "      <th>14.0</th>\n",
       "      <td>1</td>\n",
       "    </tr>\n",
       "    <tr>\n",
       "      <th>15.0</th>\n",
       "      <td>2</td>\n",
       "    </tr>\n",
       "    <tr>\n",
       "      <th>...</th>\n",
       "      <td>...</td>\n",
       "    </tr>\n",
       "    <tr>\n",
       "      <th>590.0</th>\n",
       "      <td>1</td>\n",
       "    </tr>\n",
       "    <tr>\n",
       "      <th>618.0</th>\n",
       "      <td>1</td>\n",
       "    </tr>\n",
       "    <tr>\n",
       "      <th>631.0</th>\n",
       "      <td>1</td>\n",
       "    </tr>\n",
       "    <tr>\n",
       "      <th>631.2</th>\n",
       "      <td>1</td>\n",
       "    </tr>\n",
       "    <tr>\n",
       "      <th>900.0</th>\n",
       "      <td>1</td>\n",
       "    </tr>\n",
       "  </tbody>\n",
       "</table>\n",
       "<p>2182 rows × 1 columns</p>\n",
       "</div>"
      ],
      "text/plain": [
       "       total_area\n",
       "12.0            1\n",
       "13.0            3\n",
       "13.2            1\n",
       "14.0            1\n",
       "15.0            2\n",
       "...           ...\n",
       "590.0           1\n",
       "618.0           1\n",
       "631.0           1\n",
       "631.2           1\n",
       "900.0           1\n",
       "\n",
       "[2182 rows x 1 columns]"
      ]
     },
     "execution_count": 13,
     "metadata": {},
     "output_type": "execute_result"
    }
   ],
   "source": [
    "data['total_area'].value_counts(dropna=False).sort_index(ascending=True).to_frame()"
   ]
  },
  {
   "cell_type": "code",
   "execution_count": 14,
   "metadata": {},
   "outputs": [
    {
     "data": {
      "text/html": [
       "<div>\n",
       "<style scoped>\n",
       "    .dataframe tbody tr th:only-of-type {\n",
       "        vertical-align: middle;\n",
       "    }\n",
       "\n",
       "    .dataframe tbody tr th {\n",
       "        vertical-align: top;\n",
       "    }\n",
       "\n",
       "    .dataframe thead th {\n",
       "        text-align: right;\n",
       "    }\n",
       "</style>\n",
       "<table border=\"1\" class=\"dataframe\">\n",
       "  <thead>\n",
       "    <tr style=\"text-align: right;\">\n",
       "      <th></th>\n",
       "      <th>first_day_exposition</th>\n",
       "    </tr>\n",
       "  </thead>\n",
       "  <tbody>\n",
       "    <tr>\n",
       "      <th>2014-11-27T00:00:00</th>\n",
       "      <td>19</td>\n",
       "    </tr>\n",
       "    <tr>\n",
       "      <th>2014-11-29T00:00:00</th>\n",
       "      <td>1</td>\n",
       "    </tr>\n",
       "    <tr>\n",
       "      <th>2014-12-04T00:00:00</th>\n",
       "      <td>2</td>\n",
       "    </tr>\n",
       "    <tr>\n",
       "      <th>2014-12-05T00:00:00</th>\n",
       "      <td>1</td>\n",
       "    </tr>\n",
       "    <tr>\n",
       "      <th>2014-12-08T00:00:00</th>\n",
       "      <td>8</td>\n",
       "    </tr>\n",
       "    <tr>\n",
       "      <th>...</th>\n",
       "      <td>...</td>\n",
       "    </tr>\n",
       "    <tr>\n",
       "      <th>2019-04-29T00:00:00</th>\n",
       "      <td>37</td>\n",
       "    </tr>\n",
       "    <tr>\n",
       "      <th>2019-04-30T00:00:00</th>\n",
       "      <td>27</td>\n",
       "    </tr>\n",
       "    <tr>\n",
       "      <th>2019-05-01T00:00:00</th>\n",
       "      <td>30</td>\n",
       "    </tr>\n",
       "    <tr>\n",
       "      <th>2019-05-02T00:00:00</th>\n",
       "      <td>11</td>\n",
       "    </tr>\n",
       "    <tr>\n",
       "      <th>2019-05-03T00:00:00</th>\n",
       "      <td>20</td>\n",
       "    </tr>\n",
       "  </tbody>\n",
       "</table>\n",
       "<p>1491 rows × 1 columns</p>\n",
       "</div>"
      ],
      "text/plain": [
       "                     first_day_exposition\n",
       "2014-11-27T00:00:00                    19\n",
       "2014-11-29T00:00:00                     1\n",
       "2014-12-04T00:00:00                     2\n",
       "2014-12-05T00:00:00                     1\n",
       "2014-12-08T00:00:00                     8\n",
       "...                                   ...\n",
       "2019-04-29T00:00:00                    37\n",
       "2019-04-30T00:00:00                    27\n",
       "2019-05-01T00:00:00                    30\n",
       "2019-05-02T00:00:00                    11\n",
       "2019-05-03T00:00:00                    20\n",
       "\n",
       "[1491 rows x 1 columns]"
      ]
     },
     "execution_count": 14,
     "metadata": {},
     "output_type": "execute_result"
    }
   ],
   "source": [
    "data['first_day_exposition'].value_counts(dropna=False).sort_index(ascending=True).to_frame()"
   ]
  },
  {
   "cell_type": "code",
   "execution_count": 15,
   "metadata": {},
   "outputs": [
    {
     "data": {
      "text/html": [
       "<div>\n",
       "<style scoped>\n",
       "    .dataframe tbody tr th:only-of-type {\n",
       "        vertical-align: middle;\n",
       "    }\n",
       "\n",
       "    .dataframe tbody tr th {\n",
       "        vertical-align: top;\n",
       "    }\n",
       "\n",
       "    .dataframe thead th {\n",
       "        text-align: right;\n",
       "    }\n",
       "</style>\n",
       "<table border=\"1\" class=\"dataframe\">\n",
       "  <thead>\n",
       "    <tr style=\"text-align: right;\">\n",
       "      <th></th>\n",
       "      <th>first_day_exposition</th>\n",
       "    </tr>\n",
       "  </thead>\n",
       "  <tbody>\n",
       "    <tr>\n",
       "      <th>2014-11-27</th>\n",
       "      <td>19</td>\n",
       "    </tr>\n",
       "    <tr>\n",
       "      <th>2014-11-29</th>\n",
       "      <td>1</td>\n",
       "    </tr>\n",
       "    <tr>\n",
       "      <th>2014-12-04</th>\n",
       "      <td>2</td>\n",
       "    </tr>\n",
       "    <tr>\n",
       "      <th>2014-12-05</th>\n",
       "      <td>1</td>\n",
       "    </tr>\n",
       "    <tr>\n",
       "      <th>2014-12-08</th>\n",
       "      <td>8</td>\n",
       "    </tr>\n",
       "    <tr>\n",
       "      <th>...</th>\n",
       "      <td>...</td>\n",
       "    </tr>\n",
       "    <tr>\n",
       "      <th>2019-04-29</th>\n",
       "      <td>37</td>\n",
       "    </tr>\n",
       "    <tr>\n",
       "      <th>2019-04-30</th>\n",
       "      <td>27</td>\n",
       "    </tr>\n",
       "    <tr>\n",
       "      <th>2019-05-01</th>\n",
       "      <td>30</td>\n",
       "    </tr>\n",
       "    <tr>\n",
       "      <th>2019-05-02</th>\n",
       "      <td>11</td>\n",
       "    </tr>\n",
       "    <tr>\n",
       "      <th>2019-05-03</th>\n",
       "      <td>20</td>\n",
       "    </tr>\n",
       "  </tbody>\n",
       "</table>\n",
       "<p>1491 rows × 1 columns</p>\n",
       "</div>"
      ],
      "text/plain": [
       "            first_day_exposition\n",
       "2014-11-27                    19\n",
       "2014-11-29                     1\n",
       "2014-12-04                     2\n",
       "2014-12-05                     1\n",
       "2014-12-08                     8\n",
       "...                          ...\n",
       "2019-04-29                    37\n",
       "2019-04-30                    27\n",
       "2019-05-01                    30\n",
       "2019-05-02                    11\n",
       "2019-05-03                    20\n",
       "\n",
       "[1491 rows x 1 columns]"
      ]
     },
     "execution_count": 15,
     "metadata": {},
     "output_type": "execute_result"
    }
   ],
   "source": [
    "#изменим тип данных в столбце на datetime\n",
    "\n",
    "data['first_day_exposition'] = pd.to_datetime(data['first_day_exposition'], format='%Y-%m-%dT%H:%M:%S')\n",
    "data['first_day_exposition'].value_counts(dropna=False).sort_index(ascending=True).to_frame()"
   ]
  },
  {
   "cell_type": "code",
   "execution_count": 16,
   "metadata": {},
   "outputs": [
    {
     "data": {
      "text/html": [
       "<div>\n",
       "<style scoped>\n",
       "    .dataframe tbody tr th:only-of-type {\n",
       "        vertical-align: middle;\n",
       "    }\n",
       "\n",
       "    .dataframe tbody tr th {\n",
       "        vertical-align: top;\n",
       "    }\n",
       "\n",
       "    .dataframe thead th {\n",
       "        text-align: right;\n",
       "    }\n",
       "</style>\n",
       "<table border=\"1\" class=\"dataframe\">\n",
       "  <thead>\n",
       "    <tr style=\"text-align: right;\">\n",
       "      <th></th>\n",
       "      <th>rooms</th>\n",
       "    </tr>\n",
       "  </thead>\n",
       "  <tbody>\n",
       "    <tr>\n",
       "      <th>0</th>\n",
       "      <td>197</td>\n",
       "    </tr>\n",
       "    <tr>\n",
       "      <th>1</th>\n",
       "      <td>8047</td>\n",
       "    </tr>\n",
       "    <tr>\n",
       "      <th>2</th>\n",
       "      <td>7940</td>\n",
       "    </tr>\n",
       "    <tr>\n",
       "      <th>3</th>\n",
       "      <td>5814</td>\n",
       "    </tr>\n",
       "    <tr>\n",
       "      <th>4</th>\n",
       "      <td>1180</td>\n",
       "    </tr>\n",
       "    <tr>\n",
       "      <th>5</th>\n",
       "      <td>326</td>\n",
       "    </tr>\n",
       "    <tr>\n",
       "      <th>6</th>\n",
       "      <td>105</td>\n",
       "    </tr>\n",
       "    <tr>\n",
       "      <th>7</th>\n",
       "      <td>59</td>\n",
       "    </tr>\n",
       "    <tr>\n",
       "      <th>8</th>\n",
       "      <td>12</td>\n",
       "    </tr>\n",
       "    <tr>\n",
       "      <th>9</th>\n",
       "      <td>8</td>\n",
       "    </tr>\n",
       "    <tr>\n",
       "      <th>10</th>\n",
       "      <td>3</td>\n",
       "    </tr>\n",
       "    <tr>\n",
       "      <th>11</th>\n",
       "      <td>2</td>\n",
       "    </tr>\n",
       "    <tr>\n",
       "      <th>12</th>\n",
       "      <td>1</td>\n",
       "    </tr>\n",
       "    <tr>\n",
       "      <th>14</th>\n",
       "      <td>2</td>\n",
       "    </tr>\n",
       "    <tr>\n",
       "      <th>15</th>\n",
       "      <td>1</td>\n",
       "    </tr>\n",
       "    <tr>\n",
       "      <th>16</th>\n",
       "      <td>1</td>\n",
       "    </tr>\n",
       "    <tr>\n",
       "      <th>19</th>\n",
       "      <td>1</td>\n",
       "    </tr>\n",
       "  </tbody>\n",
       "</table>\n",
       "</div>"
      ],
      "text/plain": [
       "    rooms\n",
       "0     197\n",
       "1    8047\n",
       "2    7940\n",
       "3    5814\n",
       "4    1180\n",
       "5     326\n",
       "6     105\n",
       "7      59\n",
       "8      12\n",
       "9       8\n",
       "10      3\n",
       "11      2\n",
       "12      1\n",
       "14      2\n",
       "15      1\n",
       "16      1\n",
       "19      1"
      ]
     },
     "execution_count": 16,
     "metadata": {},
     "output_type": "execute_result"
    }
   ],
   "source": [
    "data['rooms'].value_counts(dropna=False).sort_index(ascending=True).to_frame()"
   ]
  },
  {
   "cell_type": "code",
   "execution_count": 17,
   "metadata": {},
   "outputs": [
    {
     "data": {
      "text/html": [
       "<div>\n",
       "<style scoped>\n",
       "    .dataframe tbody tr th:only-of-type {\n",
       "        vertical-align: middle;\n",
       "    }\n",
       "\n",
       "    .dataframe tbody tr th {\n",
       "        vertical-align: top;\n",
       "    }\n",
       "\n",
       "    .dataframe thead th {\n",
       "        text-align: right;\n",
       "    }\n",
       "</style>\n",
       "<table border=\"1\" class=\"dataframe\">\n",
       "  <thead>\n",
       "    <tr style=\"text-align: right;\">\n",
       "      <th></th>\n",
       "      <th>ceiling_height</th>\n",
       "    </tr>\n",
       "  </thead>\n",
       "  <tbody>\n",
       "    <tr>\n",
       "      <th>1.00</th>\n",
       "      <td>1</td>\n",
       "    </tr>\n",
       "    <tr>\n",
       "      <th>1.20</th>\n",
       "      <td>1</td>\n",
       "    </tr>\n",
       "    <tr>\n",
       "      <th>1.75</th>\n",
       "      <td>1</td>\n",
       "    </tr>\n",
       "    <tr>\n",
       "      <th>2.00</th>\n",
       "      <td>11</td>\n",
       "    </tr>\n",
       "    <tr>\n",
       "      <th>2.20</th>\n",
       "      <td>1</td>\n",
       "    </tr>\n",
       "    <tr>\n",
       "      <th>...</th>\n",
       "      <td>...</td>\n",
       "    </tr>\n",
       "    <tr>\n",
       "      <th>27.00</th>\n",
       "      <td>8</td>\n",
       "    </tr>\n",
       "    <tr>\n",
       "      <th>27.50</th>\n",
       "      <td>1</td>\n",
       "    </tr>\n",
       "    <tr>\n",
       "      <th>32.00</th>\n",
       "      <td>2</td>\n",
       "    </tr>\n",
       "    <tr>\n",
       "      <th>100.00</th>\n",
       "      <td>1</td>\n",
       "    </tr>\n",
       "    <tr>\n",
       "      <th>NaN</th>\n",
       "      <td>9195</td>\n",
       "    </tr>\n",
       "  </tbody>\n",
       "</table>\n",
       "<p>184 rows × 1 columns</p>\n",
       "</div>"
      ],
      "text/plain": [
       "        ceiling_height\n",
       "1.00                 1\n",
       "1.20                 1\n",
       "1.75                 1\n",
       "2.00                11\n",
       "2.20                 1\n",
       "...                ...\n",
       "27.00                8\n",
       "27.50                1\n",
       "32.00                2\n",
       "100.00               1\n",
       "NaN               9195\n",
       "\n",
       "[184 rows x 1 columns]"
      ]
     },
     "execution_count": 17,
     "metadata": {},
     "output_type": "execute_result"
    }
   ],
   "source": [
    "data['ceiling_height'].value_counts(dropna=False).sort_index(ascending=True).to_frame()"
   ]
  },
  {
   "cell_type": "markdown",
   "metadata": {},
   "source": [
    "Некоторые значения в этом столбце похожи на аномальные. Допустим, что высота потолков больше 4.5 метров и меньше 2.4 метров - это ошибки в данных, которые нужно исправить. "
   ]
  },
  {
   "cell_type": "code",
   "execution_count": 18,
   "metadata": {},
   "outputs": [],
   "source": [
    "#применим цикл for для замены аномальных значений для принятого нами минимума и максимума высоты потолков\n",
    "\n",
    "import warnings\n",
    "\n",
    "warnings.filterwarnings(\"ignore\")\n",
    "\n",
    "for abnormal_height in range(len(data['ceiling_height'])):\n",
    "    if data['ceiling_height'][abnormal_height] > 4.50:\n",
    "        data['ceiling_height'][abnormal_height] = 4.50 \n",
    "    elif data['ceiling_height'][abnormal_height] < 2.40:\n",
    "        data['ceiling_height'][abnormal_height] = 2.40  "
   ]
  },
  {
   "cell_type": "code",
   "execution_count": 19,
   "metadata": {},
   "outputs": [
    {
     "data": {
      "text/html": [
       "<div>\n",
       "<style scoped>\n",
       "    .dataframe tbody tr th:only-of-type {\n",
       "        vertical-align: middle;\n",
       "    }\n",
       "\n",
       "    .dataframe tbody tr th {\n",
       "        vertical-align: top;\n",
       "    }\n",
       "\n",
       "    .dataframe thead th {\n",
       "        text-align: right;\n",
       "    }\n",
       "</style>\n",
       "<table border=\"1\" class=\"dataframe\">\n",
       "  <thead>\n",
       "    <tr style=\"text-align: right;\">\n",
       "      <th></th>\n",
       "      <th>ceiling_height</th>\n",
       "    </tr>\n",
       "  </thead>\n",
       "  <tbody>\n",
       "    <tr>\n",
       "      <th>2.40</th>\n",
       "      <td>44</td>\n",
       "    </tr>\n",
       "    <tr>\n",
       "      <th>2.45</th>\n",
       "      <td>15</td>\n",
       "    </tr>\n",
       "    <tr>\n",
       "      <th>2.46</th>\n",
       "      <td>2</td>\n",
       "    </tr>\n",
       "    <tr>\n",
       "      <th>2.47</th>\n",
       "      <td>3</td>\n",
       "    </tr>\n",
       "    <tr>\n",
       "      <th>2.48</th>\n",
       "      <td>8</td>\n",
       "    </tr>\n",
       "    <tr>\n",
       "      <th>...</th>\n",
       "      <td>...</td>\n",
       "    </tr>\n",
       "    <tr>\n",
       "      <th>4.30</th>\n",
       "      <td>1</td>\n",
       "    </tr>\n",
       "    <tr>\n",
       "      <th>4.37</th>\n",
       "      <td>1</td>\n",
       "    </tr>\n",
       "    <tr>\n",
       "      <th>4.40</th>\n",
       "      <td>3</td>\n",
       "    </tr>\n",
       "    <tr>\n",
       "      <th>4.45</th>\n",
       "      <td>2</td>\n",
       "    </tr>\n",
       "    <tr>\n",
       "      <th>4.50</th>\n",
       "      <td>49</td>\n",
       "    </tr>\n",
       "  </tbody>\n",
       "</table>\n",
       "<p>151 rows × 1 columns</p>\n",
       "</div>"
      ],
      "text/plain": [
       "      ceiling_height\n",
       "2.40              44\n",
       "2.45              15\n",
       "2.46               2\n",
       "2.47               3\n",
       "2.48               8\n",
       "...              ...\n",
       "4.30               1\n",
       "4.37               1\n",
       "4.40               3\n",
       "4.45               2\n",
       "4.50              49\n",
       "\n",
       "[151 rows x 1 columns]"
      ]
     },
     "execution_count": 19,
     "metadata": {},
     "output_type": "execute_result"
    }
   ],
   "source": [
    "#избавимся от пропусков, заменив их медианой и сделаем проверку, чтобы убедиться, что пропусков не\n",
    "#осталось\n",
    "\n",
    "data['ceiling_height'] = data['ceiling_height'].fillna(data['ceiling_height'].median())\n",
    "data['ceiling_height'].value_counts(dropna=False).sort_index(ascending=True).to_frame()"
   ]
  },
  {
   "cell_type": "code",
   "execution_count": 20,
   "metadata": {},
   "outputs": [
    {
     "data": {
      "text/html": [
       "<div>\n",
       "<style scoped>\n",
       "    .dataframe tbody tr th:only-of-type {\n",
       "        vertical-align: middle;\n",
       "    }\n",
       "\n",
       "    .dataframe tbody tr th {\n",
       "        vertical-align: top;\n",
       "    }\n",
       "\n",
       "    .dataframe thead th {\n",
       "        text-align: right;\n",
       "    }\n",
       "</style>\n",
       "<table border=\"1\" class=\"dataframe\">\n",
       "  <thead>\n",
       "    <tr style=\"text-align: right;\">\n",
       "      <th></th>\n",
       "      <th>floors_total</th>\n",
       "    </tr>\n",
       "  </thead>\n",
       "  <tbody>\n",
       "    <tr>\n",
       "      <th>1.0</th>\n",
       "      <td>25</td>\n",
       "    </tr>\n",
       "    <tr>\n",
       "      <th>2.0</th>\n",
       "      <td>383</td>\n",
       "    </tr>\n",
       "    <tr>\n",
       "      <th>3.0</th>\n",
       "      <td>668</td>\n",
       "    </tr>\n",
       "    <tr>\n",
       "      <th>4.0</th>\n",
       "      <td>1200</td>\n",
       "    </tr>\n",
       "    <tr>\n",
       "      <th>5.0</th>\n",
       "      <td>5788</td>\n",
       "    </tr>\n",
       "    <tr>\n",
       "      <th>6.0</th>\n",
       "      <td>914</td>\n",
       "    </tr>\n",
       "    <tr>\n",
       "      <th>7.0</th>\n",
       "      <td>592</td>\n",
       "    </tr>\n",
       "    <tr>\n",
       "      <th>8.0</th>\n",
       "      <td>390</td>\n",
       "    </tr>\n",
       "    <tr>\n",
       "      <th>9.0</th>\n",
       "      <td>3761</td>\n",
       "    </tr>\n",
       "    <tr>\n",
       "      <th>10.0</th>\n",
       "      <td>1174</td>\n",
       "    </tr>\n",
       "    <tr>\n",
       "      <th>11.0</th>\n",
       "      <td>203</td>\n",
       "    </tr>\n",
       "    <tr>\n",
       "      <th>12.0</th>\n",
       "      <td>1362</td>\n",
       "    </tr>\n",
       "    <tr>\n",
       "      <th>13.0</th>\n",
       "      <td>229</td>\n",
       "    </tr>\n",
       "    <tr>\n",
       "      <th>14.0</th>\n",
       "      <td>553</td>\n",
       "    </tr>\n",
       "    <tr>\n",
       "      <th>15.0</th>\n",
       "      <td>365</td>\n",
       "    </tr>\n",
       "    <tr>\n",
       "      <th>16.0</th>\n",
       "      <td>1376</td>\n",
       "    </tr>\n",
       "    <tr>\n",
       "      <th>17.0</th>\n",
       "      <td>833</td>\n",
       "    </tr>\n",
       "    <tr>\n",
       "      <th>18.0</th>\n",
       "      <td>505</td>\n",
       "    </tr>\n",
       "    <tr>\n",
       "      <th>19.0</th>\n",
       "      <td>339</td>\n",
       "    </tr>\n",
       "    <tr>\n",
       "      <th>20.0</th>\n",
       "      <td>271</td>\n",
       "    </tr>\n",
       "    <tr>\n",
       "      <th>21.0</th>\n",
       "      <td>158</td>\n",
       "    </tr>\n",
       "    <tr>\n",
       "      <th>22.0</th>\n",
       "      <td>286</td>\n",
       "    </tr>\n",
       "    <tr>\n",
       "      <th>23.0</th>\n",
       "      <td>352</td>\n",
       "    </tr>\n",
       "    <tr>\n",
       "      <th>24.0</th>\n",
       "      <td>469</td>\n",
       "    </tr>\n",
       "    <tr>\n",
       "      <th>25.0</th>\n",
       "      <td>1075</td>\n",
       "    </tr>\n",
       "    <tr>\n",
       "      <th>26.0</th>\n",
       "      <td>124</td>\n",
       "    </tr>\n",
       "    <tr>\n",
       "      <th>27.0</th>\n",
       "      <td>164</td>\n",
       "    </tr>\n",
       "    <tr>\n",
       "      <th>28.0</th>\n",
       "      <td>21</td>\n",
       "    </tr>\n",
       "    <tr>\n",
       "      <th>29.0</th>\n",
       "      <td>1</td>\n",
       "    </tr>\n",
       "    <tr>\n",
       "      <th>33.0</th>\n",
       "      <td>1</td>\n",
       "    </tr>\n",
       "    <tr>\n",
       "      <th>34.0</th>\n",
       "      <td>1</td>\n",
       "    </tr>\n",
       "    <tr>\n",
       "      <th>35.0</th>\n",
       "      <td>24</td>\n",
       "    </tr>\n",
       "    <tr>\n",
       "      <th>36.0</th>\n",
       "      <td>3</td>\n",
       "    </tr>\n",
       "    <tr>\n",
       "      <th>37.0</th>\n",
       "      <td>1</td>\n",
       "    </tr>\n",
       "    <tr>\n",
       "      <th>52.0</th>\n",
       "      <td>1</td>\n",
       "    </tr>\n",
       "    <tr>\n",
       "      <th>60.0</th>\n",
       "      <td>1</td>\n",
       "    </tr>\n",
       "    <tr>\n",
       "      <th>NaN</th>\n",
       "      <td>86</td>\n",
       "    </tr>\n",
       "  </tbody>\n",
       "</table>\n",
       "</div>"
      ],
      "text/plain": [
       "      floors_total\n",
       "1.0             25\n",
       "2.0            383\n",
       "3.0            668\n",
       "4.0           1200\n",
       "5.0           5788\n",
       "6.0            914\n",
       "7.0            592\n",
       "8.0            390\n",
       "9.0           3761\n",
       "10.0          1174\n",
       "11.0           203\n",
       "12.0          1362\n",
       "13.0           229\n",
       "14.0           553\n",
       "15.0           365\n",
       "16.0          1376\n",
       "17.0           833\n",
       "18.0           505\n",
       "19.0           339\n",
       "20.0           271\n",
       "21.0           158\n",
       "22.0           286\n",
       "23.0           352\n",
       "24.0           469\n",
       "25.0          1075\n",
       "26.0           124\n",
       "27.0           164\n",
       "28.0            21\n",
       "29.0             1\n",
       "33.0             1\n",
       "34.0             1\n",
       "35.0            24\n",
       "36.0             3\n",
       "37.0             1\n",
       "52.0             1\n",
       "60.0             1\n",
       "NaN             86"
      ]
     },
     "execution_count": 20,
     "metadata": {},
     "output_type": "execute_result"
    }
   ],
   "source": [
    "data['floors_total'].value_counts(dropna=False).sort_index(ascending=True).to_frame()"
   ]
  },
  {
   "cell_type": "code",
   "execution_count": 21,
   "metadata": {},
   "outputs": [
    {
     "data": {
      "text/html": [
       "<div>\n",
       "<style scoped>\n",
       "    .dataframe tbody tr th:only-of-type {\n",
       "        vertical-align: middle;\n",
       "    }\n",
       "\n",
       "    .dataframe tbody tr th {\n",
       "        vertical-align: top;\n",
       "    }\n",
       "\n",
       "    .dataframe thead th {\n",
       "        text-align: right;\n",
       "    }\n",
       "</style>\n",
       "<table border=\"1\" class=\"dataframe\">\n",
       "  <thead>\n",
       "    <tr style=\"text-align: right;\">\n",
       "      <th></th>\n",
       "      <th>floors_total</th>\n",
       "    </tr>\n",
       "  </thead>\n",
       "  <tbody>\n",
       "    <tr>\n",
       "      <th>1</th>\n",
       "      <td>25</td>\n",
       "    </tr>\n",
       "    <tr>\n",
       "      <th>2</th>\n",
       "      <td>383</td>\n",
       "    </tr>\n",
       "    <tr>\n",
       "      <th>3</th>\n",
       "      <td>668</td>\n",
       "    </tr>\n",
       "    <tr>\n",
       "      <th>4</th>\n",
       "      <td>1200</td>\n",
       "    </tr>\n",
       "    <tr>\n",
       "      <th>5</th>\n",
       "      <td>5788</td>\n",
       "    </tr>\n",
       "    <tr>\n",
       "      <th>6</th>\n",
       "      <td>914</td>\n",
       "    </tr>\n",
       "    <tr>\n",
       "      <th>7</th>\n",
       "      <td>592</td>\n",
       "    </tr>\n",
       "    <tr>\n",
       "      <th>8</th>\n",
       "      <td>390</td>\n",
       "    </tr>\n",
       "    <tr>\n",
       "      <th>9</th>\n",
       "      <td>3847</td>\n",
       "    </tr>\n",
       "    <tr>\n",
       "      <th>10</th>\n",
       "      <td>1174</td>\n",
       "    </tr>\n",
       "    <tr>\n",
       "      <th>11</th>\n",
       "      <td>203</td>\n",
       "    </tr>\n",
       "    <tr>\n",
       "      <th>12</th>\n",
       "      <td>1362</td>\n",
       "    </tr>\n",
       "    <tr>\n",
       "      <th>13</th>\n",
       "      <td>229</td>\n",
       "    </tr>\n",
       "    <tr>\n",
       "      <th>14</th>\n",
       "      <td>553</td>\n",
       "    </tr>\n",
       "    <tr>\n",
       "      <th>15</th>\n",
       "      <td>365</td>\n",
       "    </tr>\n",
       "    <tr>\n",
       "      <th>16</th>\n",
       "      <td>1376</td>\n",
       "    </tr>\n",
       "    <tr>\n",
       "      <th>17</th>\n",
       "      <td>833</td>\n",
       "    </tr>\n",
       "    <tr>\n",
       "      <th>18</th>\n",
       "      <td>505</td>\n",
       "    </tr>\n",
       "    <tr>\n",
       "      <th>19</th>\n",
       "      <td>339</td>\n",
       "    </tr>\n",
       "    <tr>\n",
       "      <th>20</th>\n",
       "      <td>271</td>\n",
       "    </tr>\n",
       "    <tr>\n",
       "      <th>21</th>\n",
       "      <td>158</td>\n",
       "    </tr>\n",
       "    <tr>\n",
       "      <th>22</th>\n",
       "      <td>286</td>\n",
       "    </tr>\n",
       "    <tr>\n",
       "      <th>23</th>\n",
       "      <td>352</td>\n",
       "    </tr>\n",
       "    <tr>\n",
       "      <th>24</th>\n",
       "      <td>469</td>\n",
       "    </tr>\n",
       "    <tr>\n",
       "      <th>25</th>\n",
       "      <td>1075</td>\n",
       "    </tr>\n",
       "    <tr>\n",
       "      <th>26</th>\n",
       "      <td>124</td>\n",
       "    </tr>\n",
       "    <tr>\n",
       "      <th>27</th>\n",
       "      <td>164</td>\n",
       "    </tr>\n",
       "    <tr>\n",
       "      <th>28</th>\n",
       "      <td>21</td>\n",
       "    </tr>\n",
       "    <tr>\n",
       "      <th>29</th>\n",
       "      <td>1</td>\n",
       "    </tr>\n",
       "    <tr>\n",
       "      <th>33</th>\n",
       "      <td>1</td>\n",
       "    </tr>\n",
       "    <tr>\n",
       "      <th>34</th>\n",
       "      <td>1</td>\n",
       "    </tr>\n",
       "    <tr>\n",
       "      <th>35</th>\n",
       "      <td>24</td>\n",
       "    </tr>\n",
       "    <tr>\n",
       "      <th>36</th>\n",
       "      <td>3</td>\n",
       "    </tr>\n",
       "    <tr>\n",
       "      <th>37</th>\n",
       "      <td>1</td>\n",
       "    </tr>\n",
       "    <tr>\n",
       "      <th>52</th>\n",
       "      <td>1</td>\n",
       "    </tr>\n",
       "    <tr>\n",
       "      <th>60</th>\n",
       "      <td>1</td>\n",
       "    </tr>\n",
       "  </tbody>\n",
       "</table>\n",
       "</div>"
      ],
      "text/plain": [
       "    floors_total\n",
       "1             25\n",
       "2            383\n",
       "3            668\n",
       "4           1200\n",
       "5           5788\n",
       "6            914\n",
       "7            592\n",
       "8            390\n",
       "9           3847\n",
       "10          1174\n",
       "11           203\n",
       "12          1362\n",
       "13           229\n",
       "14           553\n",
       "15           365\n",
       "16          1376\n",
       "17           833\n",
       "18           505\n",
       "19           339\n",
       "20           271\n",
       "21           158\n",
       "22           286\n",
       "23           352\n",
       "24           469\n",
       "25          1075\n",
       "26           124\n",
       "27           164\n",
       "28            21\n",
       "29             1\n",
       "33             1\n",
       "34             1\n",
       "35            24\n",
       "36             3\n",
       "37             1\n",
       "52             1\n",
       "60             1"
      ]
     },
     "execution_count": 21,
     "metadata": {},
     "output_type": "execute_result"
    }
   ],
   "source": [
    "#заполним пропуски медианой и изменим тип данных в этом столбце на целочисленный\n",
    "\n",
    "data['floors_total'] = data['floors_total'].fillna(data['floors_total'].median())\n",
    "data['floors_total'] = data['floors_total'].astype('int')\n",
    "data['floors_total'].value_counts(dropna=False).sort_index(ascending=True).to_frame()"
   ]
  },
  {
   "cell_type": "code",
   "execution_count": 22,
   "metadata": {},
   "outputs": [
    {
     "data": {
      "text/html": [
       "<div>\n",
       "<style scoped>\n",
       "    .dataframe tbody tr th:only-of-type {\n",
       "        vertical-align: middle;\n",
       "    }\n",
       "\n",
       "    .dataframe tbody tr th {\n",
       "        vertical-align: top;\n",
       "    }\n",
       "\n",
       "    .dataframe thead th {\n",
       "        text-align: right;\n",
       "    }\n",
       "</style>\n",
       "<table border=\"1\" class=\"dataframe\">\n",
       "  <thead>\n",
       "    <tr style=\"text-align: right;\">\n",
       "      <th></th>\n",
       "      <th>living_area</th>\n",
       "    </tr>\n",
       "  </thead>\n",
       "  <tbody>\n",
       "    <tr>\n",
       "      <th>2.0</th>\n",
       "      <td>2</td>\n",
       "    </tr>\n",
       "    <tr>\n",
       "      <th>3.0</th>\n",
       "      <td>2</td>\n",
       "    </tr>\n",
       "    <tr>\n",
       "      <th>5.0</th>\n",
       "      <td>1</td>\n",
       "    </tr>\n",
       "    <tr>\n",
       "      <th>5.4</th>\n",
       "      <td>1</td>\n",
       "    </tr>\n",
       "    <tr>\n",
       "      <th>6.0</th>\n",
       "      <td>1</td>\n",
       "    </tr>\n",
       "    <tr>\n",
       "      <th>...</th>\n",
       "      <td>...</td>\n",
       "    </tr>\n",
       "    <tr>\n",
       "      <th>332.0</th>\n",
       "      <td>1</td>\n",
       "    </tr>\n",
       "    <tr>\n",
       "      <th>347.5</th>\n",
       "      <td>1</td>\n",
       "    </tr>\n",
       "    <tr>\n",
       "      <th>409.0</th>\n",
       "      <td>1</td>\n",
       "    </tr>\n",
       "    <tr>\n",
       "      <th>409.7</th>\n",
       "      <td>1</td>\n",
       "    </tr>\n",
       "    <tr>\n",
       "      <th>NaN</th>\n",
       "      <td>1903</td>\n",
       "    </tr>\n",
       "  </tbody>\n",
       "</table>\n",
       "<p>1783 rows × 1 columns</p>\n",
       "</div>"
      ],
      "text/plain": [
       "       living_area\n",
       "2.0              2\n",
       "3.0              2\n",
       "5.0              1\n",
       "5.4              1\n",
       "6.0              1\n",
       "...            ...\n",
       "332.0            1\n",
       "347.5            1\n",
       "409.0            1\n",
       "409.7            1\n",
       "NaN           1903\n",
       "\n",
       "[1783 rows x 1 columns]"
      ]
     },
     "execution_count": 22,
     "metadata": {},
     "output_type": "execute_result"
    }
   ],
   "source": [
    "data['living_area'].value_counts(dropna=False).sort_index(ascending=True).to_frame()"
   ]
  },
  {
   "cell_type": "code",
   "execution_count": 23,
   "metadata": {},
   "outputs": [
    {
     "data": {
      "text/html": [
       "<div>\n",
       "<style scoped>\n",
       "    .dataframe tbody tr th:only-of-type {\n",
       "        vertical-align: middle;\n",
       "    }\n",
       "\n",
       "    .dataframe tbody tr th {\n",
       "        vertical-align: top;\n",
       "    }\n",
       "\n",
       "    .dataframe thead th {\n",
       "        text-align: right;\n",
       "    }\n",
       "</style>\n",
       "<table border=\"1\" class=\"dataframe\">\n",
       "  <thead>\n",
       "    <tr style=\"text-align: right;\">\n",
       "      <th></th>\n",
       "      <th>living_area</th>\n",
       "    </tr>\n",
       "  </thead>\n",
       "  <tbody>\n",
       "    <tr>\n",
       "      <th>2.0</th>\n",
       "      <td>2</td>\n",
       "    </tr>\n",
       "    <tr>\n",
       "      <th>3.0</th>\n",
       "      <td>2</td>\n",
       "    </tr>\n",
       "    <tr>\n",
       "      <th>5.0</th>\n",
       "      <td>1</td>\n",
       "    </tr>\n",
       "    <tr>\n",
       "      <th>5.4</th>\n",
       "      <td>1</td>\n",
       "    </tr>\n",
       "    <tr>\n",
       "      <th>6.0</th>\n",
       "      <td>1</td>\n",
       "    </tr>\n",
       "    <tr>\n",
       "      <th>...</th>\n",
       "      <td>...</td>\n",
       "    </tr>\n",
       "    <tr>\n",
       "      <th>322.3</th>\n",
       "      <td>1</td>\n",
       "    </tr>\n",
       "    <tr>\n",
       "      <th>332.0</th>\n",
       "      <td>1</td>\n",
       "    </tr>\n",
       "    <tr>\n",
       "      <th>347.5</th>\n",
       "      <td>1</td>\n",
       "    </tr>\n",
       "    <tr>\n",
       "      <th>409.0</th>\n",
       "      <td>1</td>\n",
       "    </tr>\n",
       "    <tr>\n",
       "      <th>409.7</th>\n",
       "      <td>1</td>\n",
       "    </tr>\n",
       "  </tbody>\n",
       "</table>\n",
       "<p>1782 rows × 1 columns</p>\n",
       "</div>"
      ],
      "text/plain": [
       "       living_area\n",
       "2.0              2\n",
       "3.0              2\n",
       "5.0              1\n",
       "5.4              1\n",
       "6.0              1\n",
       "...            ...\n",
       "322.3            1\n",
       "332.0            1\n",
       "347.5            1\n",
       "409.0            1\n",
       "409.7            1\n",
       "\n",
       "[1782 rows x 1 columns]"
      ]
     },
     "execution_count": 23,
     "metadata": {},
     "output_type": "execute_result"
    }
   ],
   "source": [
    "#заменим пропуски в столбце медианой \n",
    "\n",
    "data['living_area'] = data['living_area'].fillna(data['living_area'].median())\n",
    "data['living_area'].value_counts(dropna=False).sort_index(ascending=True).to_frame()"
   ]
  },
  {
   "cell_type": "code",
   "execution_count": 24,
   "metadata": {},
   "outputs": [
    {
     "data": {
      "text/html": [
       "<div>\n",
       "<style scoped>\n",
       "    .dataframe tbody tr th:only-of-type {\n",
       "        vertical-align: middle;\n",
       "    }\n",
       "\n",
       "    .dataframe tbody tr th {\n",
       "        vertical-align: top;\n",
       "    }\n",
       "\n",
       "    .dataframe thead th {\n",
       "        text-align: right;\n",
       "    }\n",
       "</style>\n",
       "<table border=\"1\" class=\"dataframe\">\n",
       "  <thead>\n",
       "    <tr style=\"text-align: right;\">\n",
       "      <th></th>\n",
       "      <th>floor</th>\n",
       "    </tr>\n",
       "  </thead>\n",
       "  <tbody>\n",
       "    <tr>\n",
       "      <th>1</th>\n",
       "      <td>2917</td>\n",
       "    </tr>\n",
       "    <tr>\n",
       "      <th>2</th>\n",
       "      <td>3368</td>\n",
       "    </tr>\n",
       "    <tr>\n",
       "      <th>3</th>\n",
       "      <td>3073</td>\n",
       "    </tr>\n",
       "    <tr>\n",
       "      <th>4</th>\n",
       "      <td>2804</td>\n",
       "    </tr>\n",
       "    <tr>\n",
       "      <th>5</th>\n",
       "      <td>2621</td>\n",
       "    </tr>\n",
       "    <tr>\n",
       "      <th>6</th>\n",
       "      <td>1305</td>\n",
       "    </tr>\n",
       "    <tr>\n",
       "      <th>7</th>\n",
       "      <td>1218</td>\n",
       "    </tr>\n",
       "    <tr>\n",
       "      <th>8</th>\n",
       "      <td>1083</td>\n",
       "    </tr>\n",
       "    <tr>\n",
       "      <th>9</th>\n",
       "      <td>1051</td>\n",
       "    </tr>\n",
       "    <tr>\n",
       "      <th>10</th>\n",
       "      <td>687</td>\n",
       "    </tr>\n",
       "    <tr>\n",
       "      <th>11</th>\n",
       "      <td>523</td>\n",
       "    </tr>\n",
       "    <tr>\n",
       "      <th>12</th>\n",
       "      <td>526</td>\n",
       "    </tr>\n",
       "    <tr>\n",
       "      <th>13</th>\n",
       "      <td>379</td>\n",
       "    </tr>\n",
       "    <tr>\n",
       "      <th>14</th>\n",
       "      <td>337</td>\n",
       "    </tr>\n",
       "    <tr>\n",
       "      <th>15</th>\n",
       "      <td>343</td>\n",
       "    </tr>\n",
       "    <tr>\n",
       "      <th>16</th>\n",
       "      <td>315</td>\n",
       "    </tr>\n",
       "    <tr>\n",
       "      <th>17</th>\n",
       "      <td>227</td>\n",
       "    </tr>\n",
       "    <tr>\n",
       "      <th>18</th>\n",
       "      <td>178</td>\n",
       "    </tr>\n",
       "    <tr>\n",
       "      <th>19</th>\n",
       "      <td>147</td>\n",
       "    </tr>\n",
       "    <tr>\n",
       "      <th>20</th>\n",
       "      <td>110</td>\n",
       "    </tr>\n",
       "    <tr>\n",
       "      <th>21</th>\n",
       "      <td>125</td>\n",
       "    </tr>\n",
       "    <tr>\n",
       "      <th>22</th>\n",
       "      <td>113</td>\n",
       "    </tr>\n",
       "    <tr>\n",
       "      <th>23</th>\n",
       "      <td>100</td>\n",
       "    </tr>\n",
       "    <tr>\n",
       "      <th>24</th>\n",
       "      <td>63</td>\n",
       "    </tr>\n",
       "    <tr>\n",
       "      <th>25</th>\n",
       "      <td>46</td>\n",
       "    </tr>\n",
       "    <tr>\n",
       "      <th>26</th>\n",
       "      <td>24</td>\n",
       "    </tr>\n",
       "    <tr>\n",
       "      <th>27</th>\n",
       "      <td>10</td>\n",
       "    </tr>\n",
       "    <tr>\n",
       "      <th>28</th>\n",
       "      <td>1</td>\n",
       "    </tr>\n",
       "    <tr>\n",
       "      <th>29</th>\n",
       "      <td>1</td>\n",
       "    </tr>\n",
       "    <tr>\n",
       "      <th>30</th>\n",
       "      <td>1</td>\n",
       "    </tr>\n",
       "    <tr>\n",
       "      <th>31</th>\n",
       "      <td>1</td>\n",
       "    </tr>\n",
       "    <tr>\n",
       "      <th>32</th>\n",
       "      <td>1</td>\n",
       "    </tr>\n",
       "    <tr>\n",
       "      <th>33</th>\n",
       "      <td>1</td>\n",
       "    </tr>\n",
       "  </tbody>\n",
       "</table>\n",
       "</div>"
      ],
      "text/plain": [
       "    floor\n",
       "1    2917\n",
       "2    3368\n",
       "3    3073\n",
       "4    2804\n",
       "5    2621\n",
       "6    1305\n",
       "7    1218\n",
       "8    1083\n",
       "9    1051\n",
       "10    687\n",
       "11    523\n",
       "12    526\n",
       "13    379\n",
       "14    337\n",
       "15    343\n",
       "16    315\n",
       "17    227\n",
       "18    178\n",
       "19    147\n",
       "20    110\n",
       "21    125\n",
       "22    113\n",
       "23    100\n",
       "24     63\n",
       "25     46\n",
       "26     24\n",
       "27     10\n",
       "28      1\n",
       "29      1\n",
       "30      1\n",
       "31      1\n",
       "32      1\n",
       "33      1"
      ]
     },
     "execution_count": 24,
     "metadata": {},
     "output_type": "execute_result"
    }
   ],
   "source": [
    "data['floor'].value_counts(dropna=False).sort_index(ascending=True).to_frame()"
   ]
  },
  {
   "cell_type": "code",
   "execution_count": 25,
   "metadata": {},
   "outputs": [
    {
     "data": {
      "text/html": [
       "<div>\n",
       "<style scoped>\n",
       "    .dataframe tbody tr th:only-of-type {\n",
       "        vertical-align: middle;\n",
       "    }\n",
       "\n",
       "    .dataframe tbody tr th {\n",
       "        vertical-align: top;\n",
       "    }\n",
       "\n",
       "    .dataframe thead th {\n",
       "        text-align: right;\n",
       "    }\n",
       "</style>\n",
       "<table border=\"1\" class=\"dataframe\">\n",
       "  <thead>\n",
       "    <tr style=\"text-align: right;\">\n",
       "      <th></th>\n",
       "      <th>is_apartment</th>\n",
       "    </tr>\n",
       "  </thead>\n",
       "  <tbody>\n",
       "    <tr>\n",
       "      <th>False</th>\n",
       "      <td>2725</td>\n",
       "    </tr>\n",
       "    <tr>\n",
       "      <th>True</th>\n",
       "      <td>50</td>\n",
       "    </tr>\n",
       "    <tr>\n",
       "      <th>NaN</th>\n",
       "      <td>20924</td>\n",
       "    </tr>\n",
       "  </tbody>\n",
       "</table>\n",
       "</div>"
      ],
      "text/plain": [
       "       is_apartment\n",
       "False          2725\n",
       "True             50\n",
       "NaN           20924"
      ]
     },
     "execution_count": 25,
     "metadata": {},
     "output_type": "execute_result"
    }
   ],
   "source": [
    "data['is_apartment'].value_counts(dropna=False).sort_index(ascending=True).to_frame()"
   ]
  },
  {
   "cell_type": "code",
   "execution_count": 26,
   "metadata": {},
   "outputs": [
    {
     "data": {
      "text/html": [
       "<div>\n",
       "<style scoped>\n",
       "    .dataframe tbody tr th:only-of-type {\n",
       "        vertical-align: middle;\n",
       "    }\n",
       "\n",
       "    .dataframe tbody tr th {\n",
       "        vertical-align: top;\n",
       "    }\n",
       "\n",
       "    .dataframe thead th {\n",
       "        text-align: right;\n",
       "    }\n",
       "</style>\n",
       "<table border=\"1\" class=\"dataframe\">\n",
       "  <thead>\n",
       "    <tr style=\"text-align: right;\">\n",
       "      <th></th>\n",
       "      <th>is_apartment</th>\n",
       "    </tr>\n",
       "  </thead>\n",
       "  <tbody>\n",
       "    <tr>\n",
       "      <th>False</th>\n",
       "      <td>23649</td>\n",
       "    </tr>\n",
       "    <tr>\n",
       "      <th>True</th>\n",
       "      <td>50</td>\n",
       "    </tr>\n",
       "  </tbody>\n",
       "</table>\n",
       "</div>"
      ],
      "text/plain": [
       "       is_apartment\n",
       "False         23649\n",
       "True             50"
      ]
     },
     "execution_count": 26,
     "metadata": {},
     "output_type": "execute_result"
    }
   ],
   "source": [
    "#заполним пропуски следующим образом - добавим их к значениям False, так как если эти значения не указаны, то \n",
    "#скорее всего помещение не является апартаментами, поэтому пользователь его не вписал \n",
    "\n",
    "data['is_apartment'] = data['is_apartment'].fillna(value=False)\n",
    "data['is_apartment'].value_counts(dropna=False).sort_index(ascending=True).to_frame()"
   ]
  },
  {
   "cell_type": "code",
   "execution_count": 27,
   "metadata": {},
   "outputs": [
    {
     "data": {
      "text/html": [
       "<div>\n",
       "<style scoped>\n",
       "    .dataframe tbody tr th:only-of-type {\n",
       "        vertical-align: middle;\n",
       "    }\n",
       "\n",
       "    .dataframe tbody tr th {\n",
       "        vertical-align: top;\n",
       "    }\n",
       "\n",
       "    .dataframe thead th {\n",
       "        text-align: right;\n",
       "    }\n",
       "</style>\n",
       "<table border=\"1\" class=\"dataframe\">\n",
       "  <thead>\n",
       "    <tr style=\"text-align: right;\">\n",
       "      <th></th>\n",
       "      <th>studio</th>\n",
       "    </tr>\n",
       "  </thead>\n",
       "  <tbody>\n",
       "    <tr>\n",
       "      <th>False</th>\n",
       "      <td>23550</td>\n",
       "    </tr>\n",
       "    <tr>\n",
       "      <th>True</th>\n",
       "      <td>149</td>\n",
       "    </tr>\n",
       "  </tbody>\n",
       "</table>\n",
       "</div>"
      ],
      "text/plain": [
       "       studio\n",
       "False   23550\n",
       "True      149"
      ]
     },
     "execution_count": 27,
     "metadata": {},
     "output_type": "execute_result"
    }
   ],
   "source": [
    "data['studio'].value_counts(dropna=False).sort_index(ascending=True).to_frame()"
   ]
  },
  {
   "cell_type": "code",
   "execution_count": 28,
   "metadata": {},
   "outputs": [
    {
     "data": {
      "text/html": [
       "<div>\n",
       "<style scoped>\n",
       "    .dataframe tbody tr th:only-of-type {\n",
       "        vertical-align: middle;\n",
       "    }\n",
       "\n",
       "    .dataframe tbody tr th {\n",
       "        vertical-align: top;\n",
       "    }\n",
       "\n",
       "    .dataframe thead th {\n",
       "        text-align: right;\n",
       "    }\n",
       "</style>\n",
       "<table border=\"1\" class=\"dataframe\">\n",
       "  <thead>\n",
       "    <tr style=\"text-align: right;\">\n",
       "      <th></th>\n",
       "      <th>open_plan</th>\n",
       "    </tr>\n",
       "  </thead>\n",
       "  <tbody>\n",
       "    <tr>\n",
       "      <th>False</th>\n",
       "      <td>23632</td>\n",
       "    </tr>\n",
       "    <tr>\n",
       "      <th>True</th>\n",
       "      <td>67</td>\n",
       "    </tr>\n",
       "  </tbody>\n",
       "</table>\n",
       "</div>"
      ],
      "text/plain": [
       "       open_plan\n",
       "False      23632\n",
       "True          67"
      ]
     },
     "execution_count": 28,
     "metadata": {},
     "output_type": "execute_result"
    }
   ],
   "source": [
    "data['open_plan'].value_counts(dropna=False).sort_index(ascending=True).to_frame()"
   ]
  },
  {
   "cell_type": "code",
   "execution_count": 29,
   "metadata": {},
   "outputs": [
    {
     "data": {
      "text/html": [
       "<div>\n",
       "<style scoped>\n",
       "    .dataframe tbody tr th:only-of-type {\n",
       "        vertical-align: middle;\n",
       "    }\n",
       "\n",
       "    .dataframe tbody tr th {\n",
       "        vertical-align: top;\n",
       "    }\n",
       "\n",
       "    .dataframe thead th {\n",
       "        text-align: right;\n",
       "    }\n",
       "</style>\n",
       "<table border=\"1\" class=\"dataframe\">\n",
       "  <thead>\n",
       "    <tr style=\"text-align: right;\">\n",
       "      <th></th>\n",
       "      <th>kitchen_area</th>\n",
       "    </tr>\n",
       "  </thead>\n",
       "  <tbody>\n",
       "    <tr>\n",
       "      <th>1.30</th>\n",
       "      <td>1</td>\n",
       "    </tr>\n",
       "    <tr>\n",
       "      <th>2.00</th>\n",
       "      <td>7</td>\n",
       "    </tr>\n",
       "    <tr>\n",
       "      <th>2.30</th>\n",
       "      <td>1</td>\n",
       "    </tr>\n",
       "    <tr>\n",
       "      <th>2.40</th>\n",
       "      <td>1</td>\n",
       "    </tr>\n",
       "    <tr>\n",
       "      <th>2.89</th>\n",
       "      <td>1</td>\n",
       "    </tr>\n",
       "    <tr>\n",
       "      <th>...</th>\n",
       "      <td>...</td>\n",
       "    </tr>\n",
       "    <tr>\n",
       "      <th>100.00</th>\n",
       "      <td>1</td>\n",
       "    </tr>\n",
       "    <tr>\n",
       "      <th>100.70</th>\n",
       "      <td>1</td>\n",
       "    </tr>\n",
       "    <tr>\n",
       "      <th>107.00</th>\n",
       "      <td>1</td>\n",
       "    </tr>\n",
       "    <tr>\n",
       "      <th>112.00</th>\n",
       "      <td>1</td>\n",
       "    </tr>\n",
       "    <tr>\n",
       "      <th>NaN</th>\n",
       "      <td>2278</td>\n",
       "    </tr>\n",
       "  </tbody>\n",
       "</table>\n",
       "<p>972 rows × 1 columns</p>\n",
       "</div>"
      ],
      "text/plain": [
       "        kitchen_area\n",
       "1.30               1\n",
       "2.00               7\n",
       "2.30               1\n",
       "2.40               1\n",
       "2.89               1\n",
       "...              ...\n",
       "100.00             1\n",
       "100.70             1\n",
       "107.00             1\n",
       "112.00             1\n",
       "NaN             2278\n",
       "\n",
       "[972 rows x 1 columns]"
      ]
     },
     "execution_count": 29,
     "metadata": {},
     "output_type": "execute_result"
    }
   ],
   "source": [
    "data['kitchen_area'].value_counts(dropna=False).sort_index(ascending=True).to_frame()"
   ]
  },
  {
   "cell_type": "code",
   "execution_count": 30,
   "metadata": {},
   "outputs": [
    {
     "data": {
      "text/html": [
       "<div>\n",
       "<style scoped>\n",
       "    .dataframe tbody tr th:only-of-type {\n",
       "        vertical-align: middle;\n",
       "    }\n",
       "\n",
       "    .dataframe tbody tr th {\n",
       "        vertical-align: top;\n",
       "    }\n",
       "\n",
       "    .dataframe thead th {\n",
       "        text-align: right;\n",
       "    }\n",
       "</style>\n",
       "<table border=\"1\" class=\"dataframe\">\n",
       "  <thead>\n",
       "    <tr style=\"text-align: right;\">\n",
       "      <th></th>\n",
       "      <th>kitchen_area</th>\n",
       "    </tr>\n",
       "  </thead>\n",
       "  <tbody>\n",
       "    <tr>\n",
       "      <th>1.30</th>\n",
       "      <td>1</td>\n",
       "    </tr>\n",
       "    <tr>\n",
       "      <th>2.00</th>\n",
       "      <td>7</td>\n",
       "    </tr>\n",
       "    <tr>\n",
       "      <th>2.30</th>\n",
       "      <td>1</td>\n",
       "    </tr>\n",
       "    <tr>\n",
       "      <th>2.40</th>\n",
       "      <td>1</td>\n",
       "    </tr>\n",
       "    <tr>\n",
       "      <th>2.89</th>\n",
       "      <td>1</td>\n",
       "    </tr>\n",
       "    <tr>\n",
       "      <th>...</th>\n",
       "      <td>...</td>\n",
       "    </tr>\n",
       "    <tr>\n",
       "      <th>93.20</th>\n",
       "      <td>1</td>\n",
       "    </tr>\n",
       "    <tr>\n",
       "      <th>100.00</th>\n",
       "      <td>1</td>\n",
       "    </tr>\n",
       "    <tr>\n",
       "      <th>100.70</th>\n",
       "      <td>1</td>\n",
       "    </tr>\n",
       "    <tr>\n",
       "      <th>107.00</th>\n",
       "      <td>1</td>\n",
       "    </tr>\n",
       "    <tr>\n",
       "      <th>112.00</th>\n",
       "      <td>1</td>\n",
       "    </tr>\n",
       "  </tbody>\n",
       "</table>\n",
       "<p>971 rows × 1 columns</p>\n",
       "</div>"
      ],
      "text/plain": [
       "        kitchen_area\n",
       "1.30               1\n",
       "2.00               7\n",
       "2.30               1\n",
       "2.40               1\n",
       "2.89               1\n",
       "...              ...\n",
       "93.20              1\n",
       "100.00             1\n",
       "100.70             1\n",
       "107.00             1\n",
       "112.00             1\n",
       "\n",
       "[971 rows x 1 columns]"
      ]
     },
     "execution_count": 30,
     "metadata": {},
     "output_type": "execute_result"
    }
   ],
   "source": [
    "#заполним пропуски медианой \n",
    "\n",
    "data['kitchen_area'] = data['kitchen_area'].fillna(data['kitchen_area'].median())\n",
    "data['kitchen_area'].value_counts(dropna=False).sort_index(ascending=True).to_frame()"
   ]
  },
  {
   "cell_type": "code",
   "execution_count": 31,
   "metadata": {},
   "outputs": [
    {
     "data": {
      "text/html": [
       "<div>\n",
       "<style scoped>\n",
       "    .dataframe tbody tr th:only-of-type {\n",
       "        vertical-align: middle;\n",
       "    }\n",
       "\n",
       "    .dataframe tbody tr th {\n",
       "        vertical-align: top;\n",
       "    }\n",
       "\n",
       "    .dataframe thead th {\n",
       "        text-align: right;\n",
       "    }\n",
       "</style>\n",
       "<table border=\"1\" class=\"dataframe\">\n",
       "  <thead>\n",
       "    <tr style=\"text-align: right;\">\n",
       "      <th></th>\n",
       "      <th>balcony</th>\n",
       "    </tr>\n",
       "  </thead>\n",
       "  <tbody>\n",
       "    <tr>\n",
       "      <th>0.0</th>\n",
       "      <td>3758</td>\n",
       "    </tr>\n",
       "    <tr>\n",
       "      <th>1.0</th>\n",
       "      <td>4195</td>\n",
       "    </tr>\n",
       "    <tr>\n",
       "      <th>2.0</th>\n",
       "      <td>3659</td>\n",
       "    </tr>\n",
       "    <tr>\n",
       "      <th>3.0</th>\n",
       "      <td>81</td>\n",
       "    </tr>\n",
       "    <tr>\n",
       "      <th>4.0</th>\n",
       "      <td>183</td>\n",
       "    </tr>\n",
       "    <tr>\n",
       "      <th>5.0</th>\n",
       "      <td>304</td>\n",
       "    </tr>\n",
       "    <tr>\n",
       "      <th>NaN</th>\n",
       "      <td>11519</td>\n",
       "    </tr>\n",
       "  </tbody>\n",
       "</table>\n",
       "</div>"
      ],
      "text/plain": [
       "     balcony\n",
       "0.0     3758\n",
       "1.0     4195\n",
       "2.0     3659\n",
       "3.0       81\n",
       "4.0      183\n",
       "5.0      304\n",
       "NaN    11519"
      ]
     },
     "execution_count": 31,
     "metadata": {},
     "output_type": "execute_result"
    }
   ],
   "source": [
    "data['balcony'].value_counts(dropna=False).sort_index(ascending=True).to_frame()"
   ]
  },
  {
   "cell_type": "code",
   "execution_count": 32,
   "metadata": {},
   "outputs": [
    {
     "data": {
      "text/html": [
       "<div>\n",
       "<style scoped>\n",
       "    .dataframe tbody tr th:only-of-type {\n",
       "        vertical-align: middle;\n",
       "    }\n",
       "\n",
       "    .dataframe tbody tr th {\n",
       "        vertical-align: top;\n",
       "    }\n",
       "\n",
       "    .dataframe thead th {\n",
       "        text-align: right;\n",
       "    }\n",
       "</style>\n",
       "<table border=\"1\" class=\"dataframe\">\n",
       "  <thead>\n",
       "    <tr style=\"text-align: right;\">\n",
       "      <th></th>\n",
       "      <th>balcony</th>\n",
       "    </tr>\n",
       "  </thead>\n",
       "  <tbody>\n",
       "    <tr>\n",
       "      <th>0</th>\n",
       "      <td>15277</td>\n",
       "    </tr>\n",
       "    <tr>\n",
       "      <th>1</th>\n",
       "      <td>4195</td>\n",
       "    </tr>\n",
       "    <tr>\n",
       "      <th>2</th>\n",
       "      <td>3659</td>\n",
       "    </tr>\n",
       "    <tr>\n",
       "      <th>3</th>\n",
       "      <td>81</td>\n",
       "    </tr>\n",
       "    <tr>\n",
       "      <th>4</th>\n",
       "      <td>183</td>\n",
       "    </tr>\n",
       "    <tr>\n",
       "      <th>5</th>\n",
       "      <td>304</td>\n",
       "    </tr>\n",
       "  </tbody>\n",
       "</table>\n",
       "</div>"
      ],
      "text/plain": [
       "   balcony\n",
       "0    15277\n",
       "1     4195\n",
       "2     3659\n",
       "3       81\n",
       "4      183\n",
       "5      304"
      ]
     },
     "execution_count": 32,
     "metadata": {},
     "output_type": "execute_result"
    }
   ],
   "source": [
    "#заполним пропуски в этом столбце нулём, так как если пользователь не заполнил это значение, то скорее всего\n",
    "#в квартире нет балконов\n",
    "#после этого изменим тип данных в столбце на целочисленный \n",
    "\n",
    "data['balcony'] = data['balcony'].fillna(value=0)\n",
    "data['balcony'] = data['balcony'].astype('int')\n",
    "data['balcony'].value_counts(dropna=False).sort_index(ascending=True).to_frame()"
   ]
  },
  {
   "cell_type": "code",
   "execution_count": 33,
   "metadata": {},
   "outputs": [
    {
     "data": {
      "text/plain": [
       "array(['Санкт-Петербург', 'посёлок Шушары', 'городской посёлок Янино-1',\n",
       "       'посёлок Парголово', 'посёлок Мурино', 'Ломоносов', 'Сертолово',\n",
       "       'Петергоф', 'Пушкин', 'деревня Кудрово', 'Коммунар', 'Колпино',\n",
       "       'поселок городского типа Красный Бор', 'Гатчина', 'поселок Мурино',\n",
       "       'деревня Фёдоровское', 'Выборг', 'Кронштадт', 'Кировск',\n",
       "       'деревня Новое Девяткино', 'посёлок Металлострой',\n",
       "       'посёлок городского типа Лебяжье',\n",
       "       'посёлок городского типа Сиверский', 'поселок Молодцово',\n",
       "       'поселок городского типа Кузьмоловский',\n",
       "       'садовое товарищество Новая Ропша', 'Павловск',\n",
       "       'деревня Пикколово', 'Всеволожск', 'Волхов', 'Кингисепп',\n",
       "       'Приозерск', 'Сестрорецк', 'деревня Куттузи', 'посёлок Аннино',\n",
       "       'поселок городского типа Ефимовский', 'посёлок Плодовое',\n",
       "       'деревня Заклинье', 'поселок Торковичи', 'поселок Первомайское',\n",
       "       'Красное Село', 'посёлок Понтонный', 'Сясьстрой', 'деревня Старая',\n",
       "       'деревня Лесколово', 'посёлок Новый Свет', 'Сланцы',\n",
       "       'село Путилово', 'Ивангород', 'Мурино', 'Шлиссельбург',\n",
       "       'Никольское', 'Зеленогорск', 'Сосновый Бор', 'поселок Новый Свет',\n",
       "       'деревня Оржицы', 'деревня Кальтино', 'Кудрово',\n",
       "       'поселок Романовка', 'посёлок Бугры', 'поселок Бугры',\n",
       "       'поселок городского типа Рощино', 'Кириши', 'Луга', 'Волосово',\n",
       "       'Отрадное', 'село Павлово', 'поселок Оредеж', 'село Копорье',\n",
       "       'посёлок городского типа Красный Бор', 'посёлок Молодёжное',\n",
       "       'Тихвин', 'посёлок Победа', 'деревня Нурма',\n",
       "       'поселок городского типа Синявино', 'Тосно',\n",
       "       'посёлок городского типа Кузьмоловский', 'посёлок Стрельна',\n",
       "       'Бокситогорск', 'посёлок Александровская', 'деревня Лопухинка',\n",
       "       'Пикалёво', 'поселок Терволово',\n",
       "       'поселок городского типа Советский', 'Подпорожье',\n",
       "       'посёлок Петровское', 'посёлок городского типа Токсово',\n",
       "       'поселок Сельцо', 'посёлок городского типа Вырица',\n",
       "       'деревня Кипень', 'деревня Келози', 'деревня Вартемяги',\n",
       "       'посёлок Тельмана', 'поселок Севастьяново',\n",
       "       'городской поселок Большая Ижора', nan,\n",
       "       'городской посёлок Павлово', 'деревня Агалатово',\n",
       "       'посёлок Новогорелово', 'городской посёлок Лесогорский',\n",
       "       'деревня Лаголово', 'поселок Цвелодубово',\n",
       "       'поселок городского типа Рахья', 'поселок городского типа Вырица',\n",
       "       'деревня Белогорка', 'поселок Заводской',\n",
       "       'городской посёлок Новоселье', 'деревня Большие Колпаны',\n",
       "       'деревня Горбунки', 'деревня Батово', 'деревня Заневка',\n",
       "       'деревня Иссад', 'Приморск', 'городской посёлок Фёдоровское',\n",
       "       'деревня Мистолово', 'Новая Ладога', 'поселок Зимитицы',\n",
       "       'поселок Барышево', 'деревня Разметелево',\n",
       "       'поселок городского типа имени Свердлова', 'деревня Пеники',\n",
       "       'поселок Рябово', 'деревня Пудомяги', 'поселок станции Корнево',\n",
       "       'деревня Низино', 'деревня Бегуницы', 'посёлок Поляны',\n",
       "       'городской посёлок Мга', 'поселок Елизаветино',\n",
       "       'посёлок городского типа Кузнечное', 'деревня Колтуши',\n",
       "       'поселок Запорожское', 'посёлок городского типа Рощино',\n",
       "       'деревня Гостилицы', 'деревня Малое Карлино',\n",
       "       'посёлок Мичуринское', 'посёлок городского типа имени Морозова',\n",
       "       'посёлок Песочный', 'посёлок Сосново', 'деревня Аро',\n",
       "       'поселок Ильичёво', 'посёлок городского типа Тайцы',\n",
       "       'деревня Малое Верево', 'деревня Извара', 'поселок станции Вещево',\n",
       "       'село Паша', 'деревня Калитино',\n",
       "       'посёлок городского типа Ульяновка', 'деревня Чудской Бор',\n",
       "       'поселок городского типа Дубровка', 'деревня Мины',\n",
       "       'поселок Войсковицы', 'посёлок городского типа имени Свердлова',\n",
       "       'деревня Коркино', 'посёлок Ропша',\n",
       "       'поселок городского типа Приладожский', 'посёлок Щеглово',\n",
       "       'посёлок Гаврилово', 'Лодейное Поле', 'деревня Рабитицы',\n",
       "       'поселок городского типа Никольский', 'деревня Кузьмолово',\n",
       "       'деревня Малые Колпаны', 'поселок Тельмана',\n",
       "       'посёлок Петро-Славянка', 'городской посёлок Назия',\n",
       "       'посёлок Репино', 'посёлок Ильичёво', 'поселок Углово',\n",
       "       'поселок Старая Малукса', 'садовое товарищество Рахья',\n",
       "       'поселок Аннино', 'поселок Победа', 'деревня Меньково',\n",
       "       'деревня Старые Бегуницы', 'посёлок Сапёрный', 'поселок Семрино',\n",
       "       'поселок Гаврилово', 'поселок Глажево', 'поселок Кобринское',\n",
       "       'деревня Гарболово', 'деревня Юкки',\n",
       "       'поселок станции Приветнинское', 'деревня Мануйлово',\n",
       "       'деревня Пчева', 'поселок Поляны', 'поселок Цвылёво',\n",
       "       'поселок Мельниково', 'посёлок Пудость', 'посёлок Усть-Луга',\n",
       "       'Светогорск', 'Любань', 'поселок Селезнёво',\n",
       "       'поселок городского типа Рябово', 'Каменногорск', 'деревня Кривко',\n",
       "       'поселок Глебычево', 'деревня Парицы', 'поселок Жилпосёлок',\n",
       "       'посёлок городского типа Мга', 'городской поселок Янино-1',\n",
       "       'посёлок Войскорово', 'село Никольское', 'посёлок Терволово',\n",
       "       'поселок Стеклянный', 'посёлок городского типа Важины',\n",
       "       'посёлок Мыза-Ивановка', 'село Русско-Высоцкое',\n",
       "       'поселок городского типа Лебяжье',\n",
       "       'поселок городского типа Форносово', 'село Старая Ладога',\n",
       "       'поселок Житково', 'городской посёлок Виллози', 'деревня Лампово',\n",
       "       'деревня Шпаньково', 'деревня Лаврики', 'посёлок Сумино',\n",
       "       'посёлок Возрождение', 'деревня Старосиверская',\n",
       "       'посёлок Кикерино', 'поселок Возрождение',\n",
       "       'деревня Старое Хинколово', 'посёлок Пригородный',\n",
       "       'посёлок Торфяное', 'городской посёлок Будогощь',\n",
       "       'поселок Суходолье', 'поселок Красная Долина', 'деревня Хапо-Ое',\n",
       "       'поселок городского типа Дружная Горка', 'поселок Лисий Нос',\n",
       "       'деревня Яльгелево', 'посёлок Стеклянный', 'село Рождествено',\n",
       "       'деревня Старополье', 'посёлок Левашово', 'деревня Сяськелево',\n",
       "       'деревня Камышовка',\n",
       "       'садоводческое некоммерческое товарищество Лесная Поляна',\n",
       "       'деревня Хязельки', 'поселок Жилгородок',\n",
       "       'посёлок городского типа Павлово', 'деревня Ялгино',\n",
       "       'поселок Новый Учхоз', 'городской посёлок Рощино',\n",
       "       'поселок Гончарово', 'поселок Почап', 'посёлок Сапёрное',\n",
       "       'посёлок Платформа 69-й километр', 'поселок Каложицы',\n",
       "       'деревня Фалилеево', 'деревня Пельгора',\n",
       "       'поселок городского типа Лесогорский', 'деревня Торошковичи',\n",
       "       'посёлок Белоостров', 'посёлок Алексеевка', 'поселок Серебрянский',\n",
       "       'поселок Лукаши', 'поселок Петровское', 'деревня Щеглово',\n",
       "       'поселок Мичуринское', 'деревня Тарасово', 'поселок Кингисеппский',\n",
       "       'посёлок при железнодорожной станции Вещево', 'поселок Ушаки',\n",
       "       'деревня Котлы', 'деревня Сижно', 'деревня Торосово',\n",
       "       'посёлок Форт Красная Горка', 'поселок городского типа Токсово',\n",
       "       'деревня Новолисино', 'посёлок станции Громово', 'деревня Глинка',\n",
       "       'посёлок Мельниково', 'поселок городского типа Назия',\n",
       "       'деревня Старая Пустошь', 'поселок Коммунары', 'поселок Починок',\n",
       "       'посёлок городского типа Вознесенье', 'деревня Разбегаево',\n",
       "       'посёлок городского типа Рябово', 'поселок Гладкое',\n",
       "       'посёлок при железнодорожной станции Приветнинское',\n",
       "       'поселок Тёсово-4', 'посёлок Жилгородок', 'деревня Бор',\n",
       "       'посёлок Коробицыно', 'деревня Большая Вруда', 'деревня Курковицы',\n",
       "       'посёлок Лисий Нос', 'городской посёлок Советский',\n",
       "       'посёлок Кобралово', 'деревня Суоранда', 'поселок Кобралово',\n",
       "       'поселок городского типа Кондратьево',\n",
       "       'коттеджный поселок Счастье', 'поселок Любань', 'деревня Реброво',\n",
       "       'деревня Зимитицы', 'деревня Тойворово', 'поселок Семиозерье',\n",
       "       'поселок Лесное', 'поселок Совхозный', 'поселок Усть-Луга',\n",
       "       'посёлок Ленинское', 'посёлок Суйда',\n",
       "       'посёлок городского типа Форносово', 'деревня Нижние Осельки',\n",
       "       'посёлок станции Свирь', 'поселок Перово', 'Высоцк',\n",
       "       'поселок Гарболово', 'село Шум', 'поселок Котельский',\n",
       "       'поселок станции Лужайка', 'деревня Большая Пустомержа',\n",
       "       'поселок Красносельское', 'деревня Вахнова Кара', 'деревня Пижма',\n",
       "       'коттеджный поселок Кивеннапа Север', 'поселок Коробицыно',\n",
       "       'поселок Ромашки', 'посёлок Перово', 'деревня Каськово',\n",
       "       'деревня Куровицы', 'посёлок Плоское', 'поселок Сумино',\n",
       "       'поселок городского типа Большая Ижора', 'поселок Кирпичное',\n",
       "       'деревня Ям-Тесово', 'деревня Раздолье', 'деревня Терпилицы',\n",
       "       'посёлок Шугозеро', 'деревня Ваганово', 'поселок Пушное',\n",
       "       'садовое товарищество Садко', 'посёлок Усть-Ижора',\n",
       "       'деревня Выскатка', 'городской посёлок Свирьстрой',\n",
       "       'поселок Громово', 'деревня Кисельня', 'посёлок Старая Малукса',\n",
       "       'деревня Трубников Бор', 'поселок Калитино',\n",
       "       'посёлок Высокоключевой', 'садовое товарищество Приладожский',\n",
       "       'посёлок Пансионат Зелёный Бор', 'деревня Ненимяки',\n",
       "       'поселок Пансионат Зелёный Бор', 'деревня Снегирёвка',\n",
       "       'деревня Рапполово', 'деревня Пустынка', 'поселок Рабитицы',\n",
       "       'деревня Большой Сабск', 'деревня Русско', 'деревня Лупполово',\n",
       "       'деревня Большое Рейзино', 'деревня Малая Романовка',\n",
       "       'поселок Дружноселье', 'поселок Пчевжа', 'поселок Володарское',\n",
       "       'деревня Нижняя', 'коттеджный посёлок Лесное', 'деревня Тихковицы',\n",
       "       'деревня Борисова Грива', 'посёлок Дзержинского'], dtype=object)"
      ]
     },
     "execution_count": 33,
     "metadata": {},
     "output_type": "execute_result"
    }
   ],
   "source": [
    "#изучим этот столбец с помощью метода unique(), чтобы посмотреть и проанализировать все имеющиеся уникальные\n",
    "#значения \n",
    "\n",
    "data['locality_name'].unique()"
   ]
  },
  {
   "cell_type": "code",
   "execution_count": 34,
   "metadata": {},
   "outputs": [
    {
     "data": {
      "text/plain": [
       "array(['Санкт-Петербург', 'Шушары', 'Янино-1', 'Парголово', 'Мурино',\n",
       "       'Ломоносов', 'Сертолово', 'Петергоф', 'Пушкин', 'Кудрово',\n",
       "       'Коммунар', 'Колпино', 'Красный Бор', 'Гатчина', 'Фёдоровское',\n",
       "       'Выборг', 'Кронштадт', 'Кировск', 'Новое Девяткино',\n",
       "       'Металлострой', 'Лебяжье', 'Сиверский', 'Молодцово',\n",
       "       'Кузьмоловский', 'Новая Ропша', 'Павловск', 'Пикколово',\n",
       "       'Всеволожск', 'Волхов', 'Кингисепп', 'Приозерск', 'Сестрорецк',\n",
       "       'Куттузи', 'Аннино', 'Ефимовский', 'Плодовое', 'Заклинье',\n",
       "       'Торковичи', 'Первомайское', 'Красное Село', 'Понтонный',\n",
       "       'Сясьстрой', 'Старая', 'Лесколово', 'Новый Свет', 'Сланцы',\n",
       "       'Путилово', 'Ивангород', 'Шлиссельбург', 'Никольское',\n",
       "       'Зеленогорск', 'Сосновый Бор', 'Оржицы', 'Кальтино', 'Романовка',\n",
       "       'Бугры', 'Рощино', 'Кириши', 'Луга', 'Волосово', 'Отрадное',\n",
       "       'Павлово', 'Оредеж', 'Копорье', 'Молодёжное', 'Тихвин', 'Победа',\n",
       "       'Нурма', 'Синявино', 'Тосно', 'Стрельна', 'Бокситогорск',\n",
       "       'Александровская', 'Лопухинка', 'Пикалёво', 'Терволово',\n",
       "       'Советский', 'Подпорожье', 'Петровское', 'Токсово', 'Сельцо',\n",
       "       'Вырица', 'Кипень', 'Келози', 'Вартемяги', 'Тельмана',\n",
       "       'Севастьяново', 'Большая Ижора', 'Unknown', 'Агалатово',\n",
       "       'Новогорелово', 'Лесогорский', 'Лаголово', 'Цвелодубово', 'Рахья',\n",
       "       'Белогорка', 'Заводской', 'Новоселье', 'Большие Колпаны',\n",
       "       'Горбунки', 'Батово', 'Заневка', 'Иссад', 'Приморск', 'Мистолово',\n",
       "       'Новая Ладога', 'Зимитицы', 'Барышево', 'Разметелево', 'Свердлова',\n",
       "       'Пеники', 'Рябово', 'Пудомяги', 'Корнево', 'Низино', 'Бегуницы',\n",
       "       'Поляны', 'Мга', 'Елизаветино', 'Кузнечное', 'Колтуши',\n",
       "       'Запорожское', 'Гостилицы', 'Малое Карлино', 'Мичуринское',\n",
       "       'Морозова', 'Песочный', 'Сосново', 'Аро', 'Ильичёво', 'Тайцы',\n",
       "       'Малое Верево', 'Извара', 'Вещево', 'Паша', 'Калитино',\n",
       "       'Ульяновка', 'Чудской Бор', 'Дубровка', 'Мины', 'Войсковицы',\n",
       "       'Коркино', 'Ропша', 'Приладожский', 'Щеглово', 'Гаврилово',\n",
       "       'Лодейное Поле', 'Рабитицы', 'Никольский', 'Кузьмолово',\n",
       "       'Малые Колпаны', 'Петро-Славянка', 'Назия', 'Репино', 'Углово',\n",
       "       'Старая Малукса', 'Меньково', 'Старые Бегуницы', 'Сапёрный',\n",
       "       'Семрино', 'Глажево', 'Кобринское', 'Гарболово', 'Юкки',\n",
       "       'Приветнинское', 'Мануйлово', 'Пчева', 'Цвылёво', 'Мельниково',\n",
       "       'Пудость', 'Усть-Луга', 'Светогорск', 'Любань', 'Селезнёво',\n",
       "       'Каменногорск', 'Кривко', 'Глебычево', 'Парицы', 'Жилпосёлок',\n",
       "       'Войскорово', 'Стеклянный', 'Важины', 'Мыза-Ивановка',\n",
       "       'Русско-Высоцкое', 'Форносово', 'Старая Ладога', 'Житково',\n",
       "       'Виллози', 'Лампово', 'Шпаньково', 'Лаврики', 'Сумино',\n",
       "       'Возрождение', 'Старосиверская', 'Кикерино', 'Старое Хинколово',\n",
       "       'Пригородный', 'Торфяное', 'Будогощь', 'Суходолье',\n",
       "       'Красная Долина', 'Хапо-Ое', 'Дружная Горка', 'Лисий Нос',\n",
       "       'Яльгелево', 'Рождествено', 'Старополье', 'Левашово', 'Сяськелево',\n",
       "       'Камышовка', 'Лесная Поляна', 'Хязельки', 'Жилгородок', 'Ялгино',\n",
       "       'Новый Учхоз', 'Гончарово', 'Почап', 'Сапёрное', 'Платформа',\n",
       "       'Каложицы', 'Фалилеево', 'Пельгора', 'Торошковичи', 'Белоостров',\n",
       "       'Алексеевка', 'Серебрянский', 'Лукаши', 'Тарасово',\n",
       "       'Кингисеппский', 'Ушаки', 'Котлы', 'Сижно', 'Торосово',\n",
       "       'Форт Красная Горка', 'Новолисино', 'Громово', 'Глинка',\n",
       "       'Старая Пустошь', 'Коммунары', 'Починок', 'Вознесенье',\n",
       "       'Разбегаево', 'Гладкое', 'Тёсово-4', 'Бор', 'Коробицыно',\n",
       "       'Большая Вруда', 'Курковицы', 'Кобралово', 'Суоранда',\n",
       "       'Кондратьево', 'Счастье', 'Реброво', 'Тойворово', 'Семиозерье',\n",
       "       'Лесное', 'Совхозный', 'Ленинское', 'Суйда', 'Нижние Осельки',\n",
       "       'Свирь', 'Перово', 'Высоцк', 'Шум', 'Котельский', 'Лужайка',\n",
       "       'Большая Пустомержа', 'Красносельское', 'Вахнова Кара', 'Пижма',\n",
       "       'Кивеннапа Север', 'Ромашки', 'Каськово', 'Куровицы', 'Плоское',\n",
       "       'Кирпичное', 'Ям-Тесово', 'Раздолье', 'Терпилицы', 'Шугозеро',\n",
       "       'Ваганово', 'Пушное', 'Садко', 'Усть-Ижора', 'Выскатка',\n",
       "       'Свирьстрой', 'Кисельня', 'Трубников Бор', 'Высокоключевой',\n",
       "       'Пансионат Зелёный Бор', 'Ненимяки', 'Снегирёвка', 'Рапполово',\n",
       "       'Пустынка', 'Большой Сабск', 'Русско', 'Лупполово',\n",
       "       'Большое Рейзино', 'Малая Романовка', 'Дружноселье', 'Пчевжа',\n",
       "       'Володарское', 'Нижняя', 'Тихковицы', 'Борисова Грива',\n",
       "       'Дзержинского'], dtype=object)"
      ]
     },
     "execution_count": 34,
     "metadata": {},
     "output_type": "execute_result"
    }
   ],
   "source": [
    "#напишем собственную функцию, с помощью которой оставим только названия населённых пунктов\n",
    "#заполним пропущенные значения на Unknown\n",
    "#выведем на экран результат для проверки\n",
    "\n",
    "def locality_name_title(name):\n",
    "    if type(name) != str:\n",
    "        return name\n",
    "    result = []\n",
    "    temp = name.split()\n",
    "    for index in range(len(temp)):\n",
    "        if temp[index].istitle() == True:\n",
    "            result.append(temp[index])\n",
    "    return ' '.join(result)\n",
    "\n",
    "data['locality_name'] = data['locality_name'].apply(locality_name_title)\n",
    "data['locality_name'] = data['locality_name'].fillna('Unknown')\n",
    "data['locality_name'].unique()"
   ]
  },
  {
   "cell_type": "code",
   "execution_count": 35,
   "metadata": {},
   "outputs": [
    {
     "data": {
      "text/html": [
       "<div>\n",
       "<style scoped>\n",
       "    .dataframe tbody tr th:only-of-type {\n",
       "        vertical-align: middle;\n",
       "    }\n",
       "\n",
       "    .dataframe tbody tr th {\n",
       "        vertical-align: top;\n",
       "    }\n",
       "\n",
       "    .dataframe thead th {\n",
       "        text-align: right;\n",
       "    }\n",
       "</style>\n",
       "<table border=\"1\" class=\"dataframe\">\n",
       "  <thead>\n",
       "    <tr style=\"text-align: right;\">\n",
       "      <th></th>\n",
       "      <th>airports_nearest</th>\n",
       "    </tr>\n",
       "  </thead>\n",
       "  <tbody>\n",
       "    <tr>\n",
       "      <th>0.0</th>\n",
       "      <td>1</td>\n",
       "    </tr>\n",
       "    <tr>\n",
       "      <th>6450.0</th>\n",
       "      <td>2</td>\n",
       "    </tr>\n",
       "    <tr>\n",
       "      <th>6914.0</th>\n",
       "      <td>1</td>\n",
       "    </tr>\n",
       "    <tr>\n",
       "      <th>6949.0</th>\n",
       "      <td>1</td>\n",
       "    </tr>\n",
       "    <tr>\n",
       "      <th>6989.0</th>\n",
       "      <td>6</td>\n",
       "    </tr>\n",
       "    <tr>\n",
       "      <th>...</th>\n",
       "      <td>...</td>\n",
       "    </tr>\n",
       "    <tr>\n",
       "      <th>84006.0</th>\n",
       "      <td>1</td>\n",
       "    </tr>\n",
       "    <tr>\n",
       "      <th>84665.0</th>\n",
       "      <td>1</td>\n",
       "    </tr>\n",
       "    <tr>\n",
       "      <th>84853.0</th>\n",
       "      <td>1</td>\n",
       "    </tr>\n",
       "    <tr>\n",
       "      <th>84869.0</th>\n",
       "      <td>1</td>\n",
       "    </tr>\n",
       "    <tr>\n",
       "      <th>NaN</th>\n",
       "      <td>5542</td>\n",
       "    </tr>\n",
       "  </tbody>\n",
       "</table>\n",
       "<p>8276 rows × 1 columns</p>\n",
       "</div>"
      ],
      "text/plain": [
       "         airports_nearest\n",
       "0.0                     1\n",
       "6450.0                  2\n",
       "6914.0                  1\n",
       "6949.0                  1\n",
       "6989.0                  6\n",
       "...                   ...\n",
       "84006.0                 1\n",
       "84665.0                 1\n",
       "84853.0                 1\n",
       "84869.0                 1\n",
       "NaN                  5542\n",
       "\n",
       "[8276 rows x 1 columns]"
      ]
     },
     "execution_count": 35,
     "metadata": {},
     "output_type": "execute_result"
    }
   ],
   "source": [
    "data['airports_nearest'].value_counts(dropna=False).sort_index(ascending=True).to_frame()"
   ]
  },
  {
   "cell_type": "code",
   "execution_count": 36,
   "metadata": {},
   "outputs": [
    {
     "data": {
      "text/html": [
       "<div>\n",
       "<style scoped>\n",
       "    .dataframe tbody tr th:only-of-type {\n",
       "        vertical-align: middle;\n",
       "    }\n",
       "\n",
       "    .dataframe tbody tr th {\n",
       "        vertical-align: top;\n",
       "    }\n",
       "\n",
       "    .dataframe thead th {\n",
       "        text-align: right;\n",
       "    }\n",
       "</style>\n",
       "<table border=\"1\" class=\"dataframe\">\n",
       "  <thead>\n",
       "    <tr style=\"text-align: right;\">\n",
       "      <th></th>\n",
       "      <th>airports_nearest</th>\n",
       "    </tr>\n",
       "  </thead>\n",
       "  <tbody>\n",
       "    <tr>\n",
       "      <th>0.0</th>\n",
       "      <td>1</td>\n",
       "    </tr>\n",
       "    <tr>\n",
       "      <th>6450.0</th>\n",
       "      <td>2</td>\n",
       "    </tr>\n",
       "    <tr>\n",
       "      <th>6914.0</th>\n",
       "      <td>1</td>\n",
       "    </tr>\n",
       "    <tr>\n",
       "      <th>6949.0</th>\n",
       "      <td>1</td>\n",
       "    </tr>\n",
       "    <tr>\n",
       "      <th>6989.0</th>\n",
       "      <td>6</td>\n",
       "    </tr>\n",
       "    <tr>\n",
       "      <th>...</th>\n",
       "      <td>...</td>\n",
       "    </tr>\n",
       "    <tr>\n",
       "      <th>83758.0</th>\n",
       "      <td>1</td>\n",
       "    </tr>\n",
       "    <tr>\n",
       "      <th>84006.0</th>\n",
       "      <td>1</td>\n",
       "    </tr>\n",
       "    <tr>\n",
       "      <th>84665.0</th>\n",
       "      <td>1</td>\n",
       "    </tr>\n",
       "    <tr>\n",
       "      <th>84853.0</th>\n",
       "      <td>1</td>\n",
       "    </tr>\n",
       "    <tr>\n",
       "      <th>84869.0</th>\n",
       "      <td>1</td>\n",
       "    </tr>\n",
       "  </tbody>\n",
       "</table>\n",
       "<p>8275 rows × 1 columns</p>\n",
       "</div>"
      ],
      "text/plain": [
       "         airports_nearest\n",
       "0.0                     1\n",
       "6450.0                  2\n",
       "6914.0                  1\n",
       "6949.0                  1\n",
       "6989.0                  6\n",
       "...                   ...\n",
       "83758.0                 1\n",
       "84006.0                 1\n",
       "84665.0                 1\n",
       "84853.0                 1\n",
       "84869.0                 1\n",
       "\n",
       "[8275 rows x 1 columns]"
      ]
     },
     "execution_count": 36,
     "metadata": {},
     "output_type": "execute_result"
    }
   ],
   "source": [
    "#заменим пропуски в этом столбце на медиану\n",
    "\n",
    "data['airports_nearest'] = data['airports_nearest'].fillna(data['airports_nearest'].median())\n",
    "data['airports_nearest'].value_counts(dropna=False).sort_index(ascending=True).to_frame()"
   ]
  },
  {
   "cell_type": "code",
   "execution_count": 37,
   "metadata": {},
   "outputs": [
    {
     "data": {
      "text/html": [
       "<div>\n",
       "<style scoped>\n",
       "    .dataframe tbody tr th:only-of-type {\n",
       "        vertical-align: middle;\n",
       "    }\n",
       "\n",
       "    .dataframe tbody tr th {\n",
       "        vertical-align: top;\n",
       "    }\n",
       "\n",
       "    .dataframe thead th {\n",
       "        text-align: right;\n",
       "    }\n",
       "</style>\n",
       "<table border=\"1\" class=\"dataframe\">\n",
       "  <thead>\n",
       "    <tr style=\"text-align: right;\">\n",
       "      <th></th>\n",
       "      <th>city_centers_nearest</th>\n",
       "    </tr>\n",
       "  </thead>\n",
       "  <tbody>\n",
       "    <tr>\n",
       "      <th>181.0</th>\n",
       "      <td>1</td>\n",
       "    </tr>\n",
       "    <tr>\n",
       "      <th>208.0</th>\n",
       "      <td>1</td>\n",
       "    </tr>\n",
       "    <tr>\n",
       "      <th>215.0</th>\n",
       "      <td>1</td>\n",
       "    </tr>\n",
       "    <tr>\n",
       "      <th>287.0</th>\n",
       "      <td>1</td>\n",
       "    </tr>\n",
       "    <tr>\n",
       "      <th>291.0</th>\n",
       "      <td>1</td>\n",
       "    </tr>\n",
       "    <tr>\n",
       "      <th>...</th>\n",
       "      <td>...</td>\n",
       "    </tr>\n",
       "    <tr>\n",
       "      <th>65105.0</th>\n",
       "      <td>1</td>\n",
       "    </tr>\n",
       "    <tr>\n",
       "      <th>65764.0</th>\n",
       "      <td>1</td>\n",
       "    </tr>\n",
       "    <tr>\n",
       "      <th>65952.0</th>\n",
       "      <td>1</td>\n",
       "    </tr>\n",
       "    <tr>\n",
       "      <th>65968.0</th>\n",
       "      <td>1</td>\n",
       "    </tr>\n",
       "    <tr>\n",
       "      <th>NaN</th>\n",
       "      <td>5519</td>\n",
       "    </tr>\n",
       "  </tbody>\n",
       "</table>\n",
       "<p>7643 rows × 1 columns</p>\n",
       "</div>"
      ],
      "text/plain": [
       "         city_centers_nearest\n",
       "181.0                       1\n",
       "208.0                       1\n",
       "215.0                       1\n",
       "287.0                       1\n",
       "291.0                       1\n",
       "...                       ...\n",
       "65105.0                     1\n",
       "65764.0                     1\n",
       "65952.0                     1\n",
       "65968.0                     1\n",
       "NaN                      5519\n",
       "\n",
       "[7643 rows x 1 columns]"
      ]
     },
     "execution_count": 37,
     "metadata": {},
     "output_type": "execute_result"
    }
   ],
   "source": [
    "data['city_centers_nearest'].value_counts(dropna=False).sort_index(ascending=True).to_frame()"
   ]
  },
  {
   "cell_type": "code",
   "execution_count": 38,
   "metadata": {},
   "outputs": [
    {
     "data": {
      "text/html": [
       "<div>\n",
       "<style scoped>\n",
       "    .dataframe tbody tr th:only-of-type {\n",
       "        vertical-align: middle;\n",
       "    }\n",
       "\n",
       "    .dataframe tbody tr th {\n",
       "        vertical-align: top;\n",
       "    }\n",
       "\n",
       "    .dataframe thead th {\n",
       "        text-align: right;\n",
       "    }\n",
       "</style>\n",
       "<table border=\"1\" class=\"dataframe\">\n",
       "  <thead>\n",
       "    <tr style=\"text-align: right;\">\n",
       "      <th></th>\n",
       "      <th>city_centers_nearest</th>\n",
       "    </tr>\n",
       "  </thead>\n",
       "  <tbody>\n",
       "    <tr>\n",
       "      <th>181.0</th>\n",
       "      <td>1</td>\n",
       "    </tr>\n",
       "    <tr>\n",
       "      <th>208.0</th>\n",
       "      <td>1</td>\n",
       "    </tr>\n",
       "    <tr>\n",
       "      <th>215.0</th>\n",
       "      <td>1</td>\n",
       "    </tr>\n",
       "    <tr>\n",
       "      <th>287.0</th>\n",
       "      <td>1</td>\n",
       "    </tr>\n",
       "    <tr>\n",
       "      <th>291.0</th>\n",
       "      <td>1</td>\n",
       "    </tr>\n",
       "    <tr>\n",
       "      <th>...</th>\n",
       "      <td>...</td>\n",
       "    </tr>\n",
       "    <tr>\n",
       "      <th>64857.0</th>\n",
       "      <td>1</td>\n",
       "    </tr>\n",
       "    <tr>\n",
       "      <th>65105.0</th>\n",
       "      <td>1</td>\n",
       "    </tr>\n",
       "    <tr>\n",
       "      <th>65764.0</th>\n",
       "      <td>1</td>\n",
       "    </tr>\n",
       "    <tr>\n",
       "      <th>65952.0</th>\n",
       "      <td>1</td>\n",
       "    </tr>\n",
       "    <tr>\n",
       "      <th>65968.0</th>\n",
       "      <td>1</td>\n",
       "    </tr>\n",
       "  </tbody>\n",
       "</table>\n",
       "<p>7643 rows × 1 columns</p>\n",
       "</div>"
      ],
      "text/plain": [
       "         city_centers_nearest\n",
       "181.0                       1\n",
       "208.0                       1\n",
       "215.0                       1\n",
       "287.0                       1\n",
       "291.0                       1\n",
       "...                       ...\n",
       "64857.0                     1\n",
       "65105.0                     1\n",
       "65764.0                     1\n",
       "65952.0                     1\n",
       "65968.0                     1\n",
       "\n",
       "[7643 rows x 1 columns]"
      ]
     },
     "execution_count": 38,
     "metadata": {},
     "output_type": "execute_result"
    }
   ],
   "source": [
    "#заменим пропуски на медиану\n",
    "\n",
    "data['city_centers_nearest'] = data['city_centers_nearest'].fillna(data['city_centers_nearest'].median())\n",
    "data['city_centers_nearest'].value_counts(dropna=False).sort_index(ascending=True).to_frame()"
   ]
  },
  {
   "cell_type": "code",
   "execution_count": 39,
   "metadata": {},
   "outputs": [
    {
     "data": {
      "text/html": [
       "<div>\n",
       "<style scoped>\n",
       "    .dataframe tbody tr th:only-of-type {\n",
       "        vertical-align: middle;\n",
       "    }\n",
       "\n",
       "    .dataframe tbody tr th {\n",
       "        vertical-align: top;\n",
       "    }\n",
       "\n",
       "    .dataframe thead th {\n",
       "        text-align: right;\n",
       "    }\n",
       "</style>\n",
       "<table border=\"1\" class=\"dataframe\">\n",
       "  <thead>\n",
       "    <tr style=\"text-align: right;\">\n",
       "      <th></th>\n",
       "      <th>parks_around_three_km</th>\n",
       "    </tr>\n",
       "  </thead>\n",
       "  <tbody>\n",
       "    <tr>\n",
       "      <th>0.0</th>\n",
       "      <td>10106</td>\n",
       "    </tr>\n",
       "    <tr>\n",
       "      <th>1.0</th>\n",
       "      <td>5681</td>\n",
       "    </tr>\n",
       "    <tr>\n",
       "      <th>2.0</th>\n",
       "      <td>1747</td>\n",
       "    </tr>\n",
       "    <tr>\n",
       "      <th>3.0</th>\n",
       "      <td>647</td>\n",
       "    </tr>\n",
       "    <tr>\n",
       "      <th>NaN</th>\n",
       "      <td>5518</td>\n",
       "    </tr>\n",
       "  </tbody>\n",
       "</table>\n",
       "</div>"
      ],
      "text/plain": [
       "     parks_around_three_km\n",
       "0.0                  10106\n",
       "1.0                   5681\n",
       "2.0                   1747\n",
       "3.0                    647\n",
       "NaN                   5518"
      ]
     },
     "execution_count": 39,
     "metadata": {},
     "output_type": "execute_result"
    }
   ],
   "source": [
    "data['parks_around_three_km'].value_counts(dropna=False).sort_index(ascending=True).to_frame()"
   ]
  },
  {
   "cell_type": "code",
   "execution_count": 40,
   "metadata": {},
   "outputs": [
    {
     "data": {
      "text/html": [
       "<div>\n",
       "<style scoped>\n",
       "    .dataframe tbody tr th:only-of-type {\n",
       "        vertical-align: middle;\n",
       "    }\n",
       "\n",
       "    .dataframe tbody tr th {\n",
       "        vertical-align: top;\n",
       "    }\n",
       "\n",
       "    .dataframe thead th {\n",
       "        text-align: right;\n",
       "    }\n",
       "</style>\n",
       "<table border=\"1\" class=\"dataframe\">\n",
       "  <thead>\n",
       "    <tr style=\"text-align: right;\">\n",
       "      <th></th>\n",
       "      <th>parks_around_three_km</th>\n",
       "    </tr>\n",
       "  </thead>\n",
       "  <tbody>\n",
       "    <tr>\n",
       "      <th>0</th>\n",
       "      <td>15624</td>\n",
       "    </tr>\n",
       "    <tr>\n",
       "      <th>1</th>\n",
       "      <td>5681</td>\n",
       "    </tr>\n",
       "    <tr>\n",
       "      <th>2</th>\n",
       "      <td>1747</td>\n",
       "    </tr>\n",
       "    <tr>\n",
       "      <th>3</th>\n",
       "      <td>647</td>\n",
       "    </tr>\n",
       "  </tbody>\n",
       "</table>\n",
       "</div>"
      ],
      "text/plain": [
       "   parks_around_three_km\n",
       "0                  15624\n",
       "1                   5681\n",
       "2                   1747\n",
       "3                    647"
      ]
     },
     "execution_count": 40,
     "metadata": {},
     "output_type": "execute_result"
    }
   ],
   "source": [
    "#заполним пропуски: скорее всего парков в районе трёх километров нет, поэтому пользователь оставил пропуск при \n",
    "#заполнении; затем изменим тип данных на целочисленный\n",
    "\n",
    "data['parks_around_three_km'] = data['parks_around_three_km'].fillna(value=0.0)\n",
    "data['parks_around_three_km'] = data['parks_around_three_km'].astype('int')\n",
    "data['parks_around_three_km'].value_counts(dropna=False).sort_index(ascending=True).to_frame()"
   ]
  },
  {
   "cell_type": "code",
   "execution_count": 41,
   "metadata": {},
   "outputs": [
    {
     "data": {
      "text/html": [
       "<div>\n",
       "<style scoped>\n",
       "    .dataframe tbody tr th:only-of-type {\n",
       "        vertical-align: middle;\n",
       "    }\n",
       "\n",
       "    .dataframe tbody tr th {\n",
       "        vertical-align: top;\n",
       "    }\n",
       "\n",
       "    .dataframe thead th {\n",
       "        text-align: right;\n",
       "    }\n",
       "</style>\n",
       "<table border=\"1\" class=\"dataframe\">\n",
       "  <thead>\n",
       "    <tr style=\"text-align: right;\">\n",
       "      <th></th>\n",
       "      <th>parks_nearest</th>\n",
       "    </tr>\n",
       "  </thead>\n",
       "  <tbody>\n",
       "    <tr>\n",
       "      <th>1.0</th>\n",
       "      <td>1</td>\n",
       "    </tr>\n",
       "    <tr>\n",
       "      <th>3.0</th>\n",
       "      <td>1</td>\n",
       "    </tr>\n",
       "    <tr>\n",
       "      <th>4.0</th>\n",
       "      <td>1</td>\n",
       "    </tr>\n",
       "    <tr>\n",
       "      <th>7.0</th>\n",
       "      <td>1</td>\n",
       "    </tr>\n",
       "    <tr>\n",
       "      <th>9.0</th>\n",
       "      <td>2</td>\n",
       "    </tr>\n",
       "    <tr>\n",
       "      <th>...</th>\n",
       "      <td>...</td>\n",
       "    </tr>\n",
       "    <tr>\n",
       "      <th>2984.0</th>\n",
       "      <td>1</td>\n",
       "    </tr>\n",
       "    <tr>\n",
       "      <th>3013.0</th>\n",
       "      <td>1</td>\n",
       "    </tr>\n",
       "    <tr>\n",
       "      <th>3064.0</th>\n",
       "      <td>1</td>\n",
       "    </tr>\n",
       "    <tr>\n",
       "      <th>3190.0</th>\n",
       "      <td>2</td>\n",
       "    </tr>\n",
       "    <tr>\n",
       "      <th>NaN</th>\n",
       "      <td>15620</td>\n",
       "    </tr>\n",
       "  </tbody>\n",
       "</table>\n",
       "<p>996 rows × 1 columns</p>\n",
       "</div>"
      ],
      "text/plain": [
       "        parks_nearest\n",
       "1.0                 1\n",
       "3.0                 1\n",
       "4.0                 1\n",
       "7.0                 1\n",
       "9.0                 2\n",
       "...               ...\n",
       "2984.0              1\n",
       "3013.0              1\n",
       "3064.0              1\n",
       "3190.0              2\n",
       "NaN             15620\n",
       "\n",
       "[996 rows x 1 columns]"
      ]
     },
     "execution_count": 41,
     "metadata": {},
     "output_type": "execute_result"
    }
   ],
   "source": [
    "data['parks_nearest'].value_counts(dropna=False).sort_index(ascending=True).to_frame()"
   ]
  },
  {
   "cell_type": "code",
   "execution_count": 42,
   "metadata": {},
   "outputs": [
    {
     "data": {
      "text/html": [
       "<div>\n",
       "<style scoped>\n",
       "    .dataframe tbody tr th:only-of-type {\n",
       "        vertical-align: middle;\n",
       "    }\n",
       "\n",
       "    .dataframe tbody tr th {\n",
       "        vertical-align: top;\n",
       "    }\n",
       "\n",
       "    .dataframe thead th {\n",
       "        text-align: right;\n",
       "    }\n",
       "</style>\n",
       "<table border=\"1\" class=\"dataframe\">\n",
       "  <thead>\n",
       "    <tr style=\"text-align: right;\">\n",
       "      <th></th>\n",
       "      <th>parks_nearest</th>\n",
       "    </tr>\n",
       "  </thead>\n",
       "  <tbody>\n",
       "    <tr>\n",
       "      <th>1.0</th>\n",
       "      <td>1</td>\n",
       "    </tr>\n",
       "    <tr>\n",
       "      <th>3.0</th>\n",
       "      <td>1</td>\n",
       "    </tr>\n",
       "    <tr>\n",
       "      <th>4.0</th>\n",
       "      <td>1</td>\n",
       "    </tr>\n",
       "    <tr>\n",
       "      <th>7.0</th>\n",
       "      <td>1</td>\n",
       "    </tr>\n",
       "    <tr>\n",
       "      <th>9.0</th>\n",
       "      <td>2</td>\n",
       "    </tr>\n",
       "    <tr>\n",
       "      <th>...</th>\n",
       "      <td>...</td>\n",
       "    </tr>\n",
       "    <tr>\n",
       "      <th>2905.0</th>\n",
       "      <td>1</td>\n",
       "    </tr>\n",
       "    <tr>\n",
       "      <th>2984.0</th>\n",
       "      <td>1</td>\n",
       "    </tr>\n",
       "    <tr>\n",
       "      <th>3013.0</th>\n",
       "      <td>1</td>\n",
       "    </tr>\n",
       "    <tr>\n",
       "      <th>3064.0</th>\n",
       "      <td>1</td>\n",
       "    </tr>\n",
       "    <tr>\n",
       "      <th>3190.0</th>\n",
       "      <td>2</td>\n",
       "    </tr>\n",
       "  </tbody>\n",
       "</table>\n",
       "<p>995 rows × 1 columns</p>\n",
       "</div>"
      ],
      "text/plain": [
       "        parks_nearest\n",
       "1.0                 1\n",
       "3.0                 1\n",
       "4.0                 1\n",
       "7.0                 1\n",
       "9.0                 2\n",
       "...               ...\n",
       "2905.0              1\n",
       "2984.0              1\n",
       "3013.0              1\n",
       "3064.0              1\n",
       "3190.0              2\n",
       "\n",
       "[995 rows x 1 columns]"
      ]
     },
     "execution_count": 42,
     "metadata": {},
     "output_type": "execute_result"
    }
   ],
   "source": [
    "#заменим пропуски медианой \n",
    "\n",
    "data['parks_nearest'] = data['parks_nearest'].fillna(data['parks_nearest'].median())\n",
    "data['parks_nearest'].value_counts(dropna=False).sort_index(ascending=True).to_frame()"
   ]
  },
  {
   "cell_type": "code",
   "execution_count": 43,
   "metadata": {},
   "outputs": [
    {
     "data": {
      "text/html": [
       "<div>\n",
       "<style scoped>\n",
       "    .dataframe tbody tr th:only-of-type {\n",
       "        vertical-align: middle;\n",
       "    }\n",
       "\n",
       "    .dataframe tbody tr th {\n",
       "        vertical-align: top;\n",
       "    }\n",
       "\n",
       "    .dataframe thead th {\n",
       "        text-align: right;\n",
       "    }\n",
       "</style>\n",
       "<table border=\"1\" class=\"dataframe\">\n",
       "  <thead>\n",
       "    <tr style=\"text-align: right;\">\n",
       "      <th></th>\n",
       "      <th>ponds_around_three_km</th>\n",
       "    </tr>\n",
       "  </thead>\n",
       "  <tbody>\n",
       "    <tr>\n",
       "      <th>0.0</th>\n",
       "      <td>9071</td>\n",
       "    </tr>\n",
       "    <tr>\n",
       "      <th>1.0</th>\n",
       "      <td>5717</td>\n",
       "    </tr>\n",
       "    <tr>\n",
       "      <th>2.0</th>\n",
       "      <td>1892</td>\n",
       "    </tr>\n",
       "    <tr>\n",
       "      <th>3.0</th>\n",
       "      <td>1501</td>\n",
       "    </tr>\n",
       "    <tr>\n",
       "      <th>NaN</th>\n",
       "      <td>5518</td>\n",
       "    </tr>\n",
       "  </tbody>\n",
       "</table>\n",
       "</div>"
      ],
      "text/plain": [
       "     ponds_around_three_km\n",
       "0.0                   9071\n",
       "1.0                   5717\n",
       "2.0                   1892\n",
       "3.0                   1501\n",
       "NaN                   5518"
      ]
     },
     "execution_count": 43,
     "metadata": {},
     "output_type": "execute_result"
    }
   ],
   "source": [
    "data['ponds_around_three_km'].value_counts(dropna=False).sort_index(ascending=True).to_frame()"
   ]
  },
  {
   "cell_type": "code",
   "execution_count": 44,
   "metadata": {},
   "outputs": [
    {
     "data": {
      "text/html": [
       "<div>\n",
       "<style scoped>\n",
       "    .dataframe tbody tr th:only-of-type {\n",
       "        vertical-align: middle;\n",
       "    }\n",
       "\n",
       "    .dataframe tbody tr th {\n",
       "        vertical-align: top;\n",
       "    }\n",
       "\n",
       "    .dataframe thead th {\n",
       "        text-align: right;\n",
       "    }\n",
       "</style>\n",
       "<table border=\"1\" class=\"dataframe\">\n",
       "  <thead>\n",
       "    <tr style=\"text-align: right;\">\n",
       "      <th></th>\n",
       "      <th>ponds_around_three_km</th>\n",
       "    </tr>\n",
       "  </thead>\n",
       "  <tbody>\n",
       "    <tr>\n",
       "      <th>0</th>\n",
       "      <td>14589</td>\n",
       "    </tr>\n",
       "    <tr>\n",
       "      <th>1</th>\n",
       "      <td>5717</td>\n",
       "    </tr>\n",
       "    <tr>\n",
       "      <th>2</th>\n",
       "      <td>1892</td>\n",
       "    </tr>\n",
       "    <tr>\n",
       "      <th>3</th>\n",
       "      <td>1501</td>\n",
       "    </tr>\n",
       "  </tbody>\n",
       "</table>\n",
       "</div>"
      ],
      "text/plain": [
       "   ponds_around_three_km\n",
       "0                  14589\n",
       "1                   5717\n",
       "2                   1892\n",
       "3                   1501"
      ]
     },
     "execution_count": 44,
     "metadata": {},
     "output_type": "execute_result"
    }
   ],
   "source": [
    "#логика та же, что и в случае парков - заменим тип данных и заполним пропуски\n",
    "\n",
    "data['ponds_around_three_km'] = data['ponds_around_three_km'].fillna(value=0.0)\n",
    "data['ponds_around_three_km'] = data['ponds_around_three_km'].astype('int')\n",
    "data['ponds_around_three_km'].value_counts(dropna=False).sort_index(ascending=True).to_frame()"
   ]
  },
  {
   "cell_type": "code",
   "execution_count": 45,
   "metadata": {},
   "outputs": [
    {
     "data": {
      "text/html": [
       "<div>\n",
       "<style scoped>\n",
       "    .dataframe tbody tr th:only-of-type {\n",
       "        vertical-align: middle;\n",
       "    }\n",
       "\n",
       "    .dataframe tbody tr th {\n",
       "        vertical-align: top;\n",
       "    }\n",
       "\n",
       "    .dataframe thead th {\n",
       "        text-align: right;\n",
       "    }\n",
       "</style>\n",
       "<table border=\"1\" class=\"dataframe\">\n",
       "  <thead>\n",
       "    <tr style=\"text-align: right;\">\n",
       "      <th></th>\n",
       "      <th>ponds_nearest</th>\n",
       "    </tr>\n",
       "  </thead>\n",
       "  <tbody>\n",
       "    <tr>\n",
       "      <th>13.0</th>\n",
       "      <td>2</td>\n",
       "    </tr>\n",
       "    <tr>\n",
       "      <th>16.0</th>\n",
       "      <td>8</td>\n",
       "    </tr>\n",
       "    <tr>\n",
       "      <th>19.0</th>\n",
       "      <td>4</td>\n",
       "    </tr>\n",
       "    <tr>\n",
       "      <th>20.0</th>\n",
       "      <td>5</td>\n",
       "    </tr>\n",
       "    <tr>\n",
       "      <th>22.0</th>\n",
       "      <td>7</td>\n",
       "    </tr>\n",
       "    <tr>\n",
       "      <th>...</th>\n",
       "      <td>...</td>\n",
       "    </tr>\n",
       "    <tr>\n",
       "      <th>1313.0</th>\n",
       "      <td>1</td>\n",
       "    </tr>\n",
       "    <tr>\n",
       "      <th>1337.0</th>\n",
       "      <td>1</td>\n",
       "    </tr>\n",
       "    <tr>\n",
       "      <th>1341.0</th>\n",
       "      <td>2</td>\n",
       "    </tr>\n",
       "    <tr>\n",
       "      <th>1344.0</th>\n",
       "      <td>1</td>\n",
       "    </tr>\n",
       "    <tr>\n",
       "      <th>NaN</th>\n",
       "      <td>14589</td>\n",
       "    </tr>\n",
       "  </tbody>\n",
       "</table>\n",
       "<p>1097 rows × 1 columns</p>\n",
       "</div>"
      ],
      "text/plain": [
       "        ponds_nearest\n",
       "13.0                2\n",
       "16.0                8\n",
       "19.0                4\n",
       "20.0                5\n",
       "22.0                7\n",
       "...               ...\n",
       "1313.0              1\n",
       "1337.0              1\n",
       "1341.0              2\n",
       "1344.0              1\n",
       "NaN             14589\n",
       "\n",
       "[1097 rows x 1 columns]"
      ]
     },
     "execution_count": 45,
     "metadata": {},
     "output_type": "execute_result"
    }
   ],
   "source": [
    "data['ponds_nearest'].value_counts(dropna=False).sort_index(ascending=True).to_frame()"
   ]
  },
  {
   "cell_type": "code",
   "execution_count": 46,
   "metadata": {},
   "outputs": [
    {
     "data": {
      "text/html": [
       "<div>\n",
       "<style scoped>\n",
       "    .dataframe tbody tr th:only-of-type {\n",
       "        vertical-align: middle;\n",
       "    }\n",
       "\n",
       "    .dataframe tbody tr th {\n",
       "        vertical-align: top;\n",
       "    }\n",
       "\n",
       "    .dataframe thead th {\n",
       "        text-align: right;\n",
       "    }\n",
       "</style>\n",
       "<table border=\"1\" class=\"dataframe\">\n",
       "  <thead>\n",
       "    <tr style=\"text-align: right;\">\n",
       "      <th></th>\n",
       "      <th>ponds_nearest</th>\n",
       "    </tr>\n",
       "  </thead>\n",
       "  <tbody>\n",
       "    <tr>\n",
       "      <th>13.0</th>\n",
       "      <td>2</td>\n",
       "    </tr>\n",
       "    <tr>\n",
       "      <th>16.0</th>\n",
       "      <td>8</td>\n",
       "    </tr>\n",
       "    <tr>\n",
       "      <th>19.0</th>\n",
       "      <td>4</td>\n",
       "    </tr>\n",
       "    <tr>\n",
       "      <th>20.0</th>\n",
       "      <td>5</td>\n",
       "    </tr>\n",
       "    <tr>\n",
       "      <th>22.0</th>\n",
       "      <td>7</td>\n",
       "    </tr>\n",
       "    <tr>\n",
       "      <th>...</th>\n",
       "      <td>...</td>\n",
       "    </tr>\n",
       "    <tr>\n",
       "      <th>1299.0</th>\n",
       "      <td>1</td>\n",
       "    </tr>\n",
       "    <tr>\n",
       "      <th>1313.0</th>\n",
       "      <td>1</td>\n",
       "    </tr>\n",
       "    <tr>\n",
       "      <th>1337.0</th>\n",
       "      <td>1</td>\n",
       "    </tr>\n",
       "    <tr>\n",
       "      <th>1341.0</th>\n",
       "      <td>2</td>\n",
       "    </tr>\n",
       "    <tr>\n",
       "      <th>1344.0</th>\n",
       "      <td>1</td>\n",
       "    </tr>\n",
       "  </tbody>\n",
       "</table>\n",
       "<p>1096 rows × 1 columns</p>\n",
       "</div>"
      ],
      "text/plain": [
       "        ponds_nearest\n",
       "13.0                2\n",
       "16.0                8\n",
       "19.0                4\n",
       "20.0                5\n",
       "22.0                7\n",
       "...               ...\n",
       "1299.0              1\n",
       "1313.0              1\n",
       "1337.0              1\n",
       "1341.0              2\n",
       "1344.0              1\n",
       "\n",
       "[1096 rows x 1 columns]"
      ]
     },
     "execution_count": 46,
     "metadata": {},
     "output_type": "execute_result"
    }
   ],
   "source": [
    "#заполним пропуски медианой\n",
    "\n",
    "data['ponds_nearest'] = data['ponds_nearest'].fillna(data['ponds_nearest'].median())\n",
    "data['ponds_nearest'].value_counts(dropna=False).sort_index(ascending=True).to_frame()"
   ]
  },
  {
   "cell_type": "code",
   "execution_count": 47,
   "metadata": {},
   "outputs": [
    {
     "data": {
      "text/html": [
       "<div>\n",
       "<style scoped>\n",
       "    .dataframe tbody tr th:only-of-type {\n",
       "        vertical-align: middle;\n",
       "    }\n",
       "\n",
       "    .dataframe tbody tr th {\n",
       "        vertical-align: top;\n",
       "    }\n",
       "\n",
       "    .dataframe thead th {\n",
       "        text-align: right;\n",
       "    }\n",
       "</style>\n",
       "<table border=\"1\" class=\"dataframe\">\n",
       "  <thead>\n",
       "    <tr style=\"text-align: right;\">\n",
       "      <th></th>\n",
       "      <th>days_exposition</th>\n",
       "    </tr>\n",
       "  </thead>\n",
       "  <tbody>\n",
       "    <tr>\n",
       "      <th>1.0</th>\n",
       "      <td>1</td>\n",
       "    </tr>\n",
       "    <tr>\n",
       "      <th>2.0</th>\n",
       "      <td>3</td>\n",
       "    </tr>\n",
       "    <tr>\n",
       "      <th>3.0</th>\n",
       "      <td>158</td>\n",
       "    </tr>\n",
       "    <tr>\n",
       "      <th>4.0</th>\n",
       "      <td>176</td>\n",
       "    </tr>\n",
       "    <tr>\n",
       "      <th>5.0</th>\n",
       "      <td>152</td>\n",
       "    </tr>\n",
       "    <tr>\n",
       "      <th>...</th>\n",
       "      <td>...</td>\n",
       "    </tr>\n",
       "    <tr>\n",
       "      <th>1513.0</th>\n",
       "      <td>1</td>\n",
       "    </tr>\n",
       "    <tr>\n",
       "      <th>1553.0</th>\n",
       "      <td>1</td>\n",
       "    </tr>\n",
       "    <tr>\n",
       "      <th>1572.0</th>\n",
       "      <td>1</td>\n",
       "    </tr>\n",
       "    <tr>\n",
       "      <th>1580.0</th>\n",
       "      <td>1</td>\n",
       "    </tr>\n",
       "    <tr>\n",
       "      <th>NaN</th>\n",
       "      <td>3181</td>\n",
       "    </tr>\n",
       "  </tbody>\n",
       "</table>\n",
       "<p>1142 rows × 1 columns</p>\n",
       "</div>"
      ],
      "text/plain": [
       "        days_exposition\n",
       "1.0                   1\n",
       "2.0                   3\n",
       "3.0                 158\n",
       "4.0                 176\n",
       "5.0                 152\n",
       "...                 ...\n",
       "1513.0                1\n",
       "1553.0                1\n",
       "1572.0                1\n",
       "1580.0                1\n",
       "NaN                3181\n",
       "\n",
       "[1142 rows x 1 columns]"
      ]
     },
     "execution_count": 47,
     "metadata": {},
     "output_type": "execute_result"
    }
   ],
   "source": [
    "data['days_exposition'].value_counts(dropna=False).sort_index(ascending=True).to_frame()"
   ]
  },
  {
   "cell_type": "code",
   "execution_count": 48,
   "metadata": {
    "scrolled": true
   },
   "outputs": [
    {
     "data": {
      "text/html": [
       "<div>\n",
       "<style scoped>\n",
       "    .dataframe tbody tr th:only-of-type {\n",
       "        vertical-align: middle;\n",
       "    }\n",
       "\n",
       "    .dataframe tbody tr th {\n",
       "        vertical-align: top;\n",
       "    }\n",
       "\n",
       "    .dataframe thead th {\n",
       "        text-align: right;\n",
       "    }\n",
       "</style>\n",
       "<table border=\"1\" class=\"dataframe\">\n",
       "  <thead>\n",
       "    <tr style=\"text-align: right;\">\n",
       "      <th></th>\n",
       "      <th>days_exposition</th>\n",
       "    </tr>\n",
       "  </thead>\n",
       "  <tbody>\n",
       "    <tr>\n",
       "      <th>1</th>\n",
       "      <td>1</td>\n",
       "    </tr>\n",
       "    <tr>\n",
       "      <th>2</th>\n",
       "      <td>3</td>\n",
       "    </tr>\n",
       "    <tr>\n",
       "      <th>3</th>\n",
       "      <td>158</td>\n",
       "    </tr>\n",
       "    <tr>\n",
       "      <th>4</th>\n",
       "      <td>176</td>\n",
       "    </tr>\n",
       "    <tr>\n",
       "      <th>5</th>\n",
       "      <td>152</td>\n",
       "    </tr>\n",
       "    <tr>\n",
       "      <th>...</th>\n",
       "      <td>...</td>\n",
       "    </tr>\n",
       "    <tr>\n",
       "      <th>1512</th>\n",
       "      <td>2</td>\n",
       "    </tr>\n",
       "    <tr>\n",
       "      <th>1513</th>\n",
       "      <td>1</td>\n",
       "    </tr>\n",
       "    <tr>\n",
       "      <th>1553</th>\n",
       "      <td>1</td>\n",
       "    </tr>\n",
       "    <tr>\n",
       "      <th>1572</th>\n",
       "      <td>1</td>\n",
       "    </tr>\n",
       "    <tr>\n",
       "      <th>1580</th>\n",
       "      <td>1</td>\n",
       "    </tr>\n",
       "  </tbody>\n",
       "</table>\n",
       "<p>1141 rows × 1 columns</p>\n",
       "</div>"
      ],
      "text/plain": [
       "      days_exposition\n",
       "1                   1\n",
       "2                   3\n",
       "3                 158\n",
       "4                 176\n",
       "5                 152\n",
       "...               ...\n",
       "1512                2\n",
       "1513                1\n",
       "1553                1\n",
       "1572                1\n",
       "1580                1\n",
       "\n",
       "[1141 rows x 1 columns]"
      ]
     },
     "execution_count": 48,
     "metadata": {},
     "output_type": "execute_result"
    }
   ],
   "source": [
    "#заполним пропуски медианой и изменим тип данных на целочисленный\n",
    "\n",
    "data['days_exposition'] = data['days_exposition'].fillna(data['days_exposition'].median())\n",
    "data['days_exposition'] = data['days_exposition'].astype('int')\n",
    "data['days_exposition'].value_counts(dropna=False).sort_index(ascending=True).to_frame()"
   ]
  },
  {
   "cell_type": "markdown",
   "metadata": {},
   "source": [
    "**Мы закончили работу с предобработкой данных. Подведём небольшой итог и опишем выбранные решения.**\n",
    "\n",
    "*Заполнение пропущенных значений.*\n",
    "\n",
    "При заполнении пропусков решили придерживаться следующей логики: так как нам доступно два типа данных (первые вписаны пользователем, вторые — получены автоматически на основе картографических данных), то часть значений могла быть потеряна из-за технических причин - это те данные, в которых указаны стоимость, удалённость, площадь и тд. В таких случаях мы заполнили пропуски медианой, которая более объективна, нежели среднее арифметическое. В других случаях мы предположили, что пропуски оставили пользователи, если каких-то атрибутов нет - количество балконов, наличие парков и прудов. В этих случаях мы заполнили пропуски нулём. \n",
    "\n",
    "*Изменение типов данных.*\n",
    "\n",
    "Везде, где это позволяла логика, кроме одного столбца (с датой публикации) мы заменили тип данных на целочисленный - количество дней, этажей, балконов. В других данных решили не округлять, так как значения после плавающей точки могут быть важны (например, в площади квартиры, кухни, удалённости от центра, аэропортов и тд.)."
   ]
  },
  {
   "cell_type": "markdown",
   "metadata": {},
   "source": [
    "## Расчёты и добавление результатов в таблицу"
   ]
  },
  {
   "cell_type": "code",
   "execution_count": 49,
   "metadata": {},
   "outputs": [
    {
     "data": {
      "text/html": [
       "<div>\n",
       "<style scoped>\n",
       "    .dataframe tbody tr th:only-of-type {\n",
       "        vertical-align: middle;\n",
       "    }\n",
       "\n",
       "    .dataframe tbody tr th {\n",
       "        vertical-align: top;\n",
       "    }\n",
       "\n",
       "    .dataframe thead th {\n",
       "        text-align: right;\n",
       "    }\n",
       "</style>\n",
       "<table border=\"1\" class=\"dataframe\">\n",
       "  <thead>\n",
       "    <tr style=\"text-align: right;\">\n",
       "      <th></th>\n",
       "      <th>total_images</th>\n",
       "      <th>last_price</th>\n",
       "      <th>total_area</th>\n",
       "      <th>first_day_exposition</th>\n",
       "      <th>rooms</th>\n",
       "      <th>ceiling_height</th>\n",
       "      <th>floors_total</th>\n",
       "      <th>living_area</th>\n",
       "      <th>floor</th>\n",
       "      <th>is_apartment</th>\n",
       "      <th>...</th>\n",
       "      <th>balcony</th>\n",
       "      <th>locality_name</th>\n",
       "      <th>airports_nearest</th>\n",
       "      <th>city_centers_nearest</th>\n",
       "      <th>parks_around_three_km</th>\n",
       "      <th>parks_nearest</th>\n",
       "      <th>ponds_around_three_km</th>\n",
       "      <th>ponds_nearest</th>\n",
       "      <th>days_exposition</th>\n",
       "      <th>square_meter</th>\n",
       "    </tr>\n",
       "  </thead>\n",
       "  <tbody>\n",
       "    <tr>\n",
       "      <th>0</th>\n",
       "      <td>20</td>\n",
       "      <td>13000000</td>\n",
       "      <td>108.0</td>\n",
       "      <td>2019-03-07</td>\n",
       "      <td>3</td>\n",
       "      <td>2.70</td>\n",
       "      <td>16</td>\n",
       "      <td>51.0</td>\n",
       "      <td>8</td>\n",
       "      <td>False</td>\n",
       "      <td>...</td>\n",
       "      <td>0</td>\n",
       "      <td>Санкт-Петербург</td>\n",
       "      <td>18863.0</td>\n",
       "      <td>16028.0</td>\n",
       "      <td>1</td>\n",
       "      <td>482.0</td>\n",
       "      <td>2</td>\n",
       "      <td>755.0</td>\n",
       "      <td>95</td>\n",
       "      <td>120370.370370</td>\n",
       "    </tr>\n",
       "    <tr>\n",
       "      <th>1</th>\n",
       "      <td>7</td>\n",
       "      <td>3350000</td>\n",
       "      <td>40.4</td>\n",
       "      <td>2018-12-04</td>\n",
       "      <td>1</td>\n",
       "      <td>2.65</td>\n",
       "      <td>11</td>\n",
       "      <td>18.6</td>\n",
       "      <td>1</td>\n",
       "      <td>False</td>\n",
       "      <td>...</td>\n",
       "      <td>2</td>\n",
       "      <td>Шушары</td>\n",
       "      <td>12817.0</td>\n",
       "      <td>18603.0</td>\n",
       "      <td>0</td>\n",
       "      <td>455.0</td>\n",
       "      <td>0</td>\n",
       "      <td>502.0</td>\n",
       "      <td>81</td>\n",
       "      <td>82920.792079</td>\n",
       "    </tr>\n",
       "    <tr>\n",
       "      <th>2</th>\n",
       "      <td>10</td>\n",
       "      <td>5196000</td>\n",
       "      <td>56.0</td>\n",
       "      <td>2015-08-20</td>\n",
       "      <td>2</td>\n",
       "      <td>2.65</td>\n",
       "      <td>5</td>\n",
       "      <td>34.3</td>\n",
       "      <td>4</td>\n",
       "      <td>False</td>\n",
       "      <td>...</td>\n",
       "      <td>0</td>\n",
       "      <td>Санкт-Петербург</td>\n",
       "      <td>21741.0</td>\n",
       "      <td>13933.0</td>\n",
       "      <td>1</td>\n",
       "      <td>90.0</td>\n",
       "      <td>2</td>\n",
       "      <td>574.0</td>\n",
       "      <td>558</td>\n",
       "      <td>92785.714286</td>\n",
       "    </tr>\n",
       "    <tr>\n",
       "      <th>3</th>\n",
       "      <td>0</td>\n",
       "      <td>64900000</td>\n",
       "      <td>159.0</td>\n",
       "      <td>2015-07-24</td>\n",
       "      <td>3</td>\n",
       "      <td>2.65</td>\n",
       "      <td>14</td>\n",
       "      <td>30.0</td>\n",
       "      <td>9</td>\n",
       "      <td>False</td>\n",
       "      <td>...</td>\n",
       "      <td>0</td>\n",
       "      <td>Санкт-Петербург</td>\n",
       "      <td>28098.0</td>\n",
       "      <td>6800.0</td>\n",
       "      <td>2</td>\n",
       "      <td>84.0</td>\n",
       "      <td>3</td>\n",
       "      <td>234.0</td>\n",
       "      <td>424</td>\n",
       "      <td>408176.100629</td>\n",
       "    </tr>\n",
       "    <tr>\n",
       "      <th>4</th>\n",
       "      <td>2</td>\n",
       "      <td>10000000</td>\n",
       "      <td>100.0</td>\n",
       "      <td>2018-06-19</td>\n",
       "      <td>2</td>\n",
       "      <td>3.03</td>\n",
       "      <td>14</td>\n",
       "      <td>32.0</td>\n",
       "      <td>13</td>\n",
       "      <td>False</td>\n",
       "      <td>...</td>\n",
       "      <td>0</td>\n",
       "      <td>Санкт-Петербург</td>\n",
       "      <td>31856.0</td>\n",
       "      <td>8098.0</td>\n",
       "      <td>2</td>\n",
       "      <td>112.0</td>\n",
       "      <td>1</td>\n",
       "      <td>48.0</td>\n",
       "      <td>121</td>\n",
       "      <td>100000.000000</td>\n",
       "    </tr>\n",
       "  </tbody>\n",
       "</table>\n",
       "<p>5 rows × 23 columns</p>\n",
       "</div>"
      ],
      "text/plain": [
       "   total_images  last_price  total_area first_day_exposition  rooms  \\\n",
       "0            20    13000000       108.0           2019-03-07      3   \n",
       "1             7     3350000        40.4           2018-12-04      1   \n",
       "2            10     5196000        56.0           2015-08-20      2   \n",
       "3             0    64900000       159.0           2015-07-24      3   \n",
       "4             2    10000000       100.0           2018-06-19      2   \n",
       "\n",
       "   ceiling_height  floors_total  living_area  floor  is_apartment  ...  \\\n",
       "0            2.70            16         51.0      8         False  ...   \n",
       "1            2.65            11         18.6      1         False  ...   \n",
       "2            2.65             5         34.3      4         False  ...   \n",
       "3            2.65            14         30.0      9         False  ...   \n",
       "4            3.03            14         32.0     13         False  ...   \n",
       "\n",
       "   balcony    locality_name  airports_nearest  city_centers_nearest  \\\n",
       "0        0  Санкт-Петербург           18863.0               16028.0   \n",
       "1        2           Шушары           12817.0               18603.0   \n",
       "2        0  Санкт-Петербург           21741.0               13933.0   \n",
       "3        0  Санкт-Петербург           28098.0                6800.0   \n",
       "4        0  Санкт-Петербург           31856.0                8098.0   \n",
       "\n",
       "  parks_around_three_km  parks_nearest  ponds_around_three_km  ponds_nearest  \\\n",
       "0                     1          482.0                      2          755.0   \n",
       "1                     0          455.0                      0          502.0   \n",
       "2                     1           90.0                      2          574.0   \n",
       "3                     2           84.0                      3          234.0   \n",
       "4                     2          112.0                      1           48.0   \n",
       "\n",
       "   days_exposition   square_meter  \n",
       "0               95  120370.370370  \n",
       "1               81   82920.792079  \n",
       "2              558   92785.714286  \n",
       "3              424  408176.100629  \n",
       "4              121  100000.000000  \n",
       "\n",
       "[5 rows x 23 columns]"
      ]
     },
     "metadata": {},
     "output_type": "display_data"
    }
   ],
   "source": [
    "#рассчитаем и добавим в таблицу цену квадратного метра\n",
    "\n",
    "data['square_meter'] = data['last_price'] / data['total_area']\n",
    "display(data.head())"
   ]
  },
  {
   "cell_type": "code",
   "execution_count": 50,
   "metadata": {},
   "outputs": [
    {
     "data": {
      "text/html": [
       "<div>\n",
       "<style scoped>\n",
       "    .dataframe tbody tr th:only-of-type {\n",
       "        vertical-align: middle;\n",
       "    }\n",
       "\n",
       "    .dataframe tbody tr th {\n",
       "        vertical-align: top;\n",
       "    }\n",
       "\n",
       "    .dataframe thead th {\n",
       "        text-align: right;\n",
       "    }\n",
       "</style>\n",
       "<table border=\"1\" class=\"dataframe\">\n",
       "  <thead>\n",
       "    <tr style=\"text-align: right;\">\n",
       "      <th></th>\n",
       "      <th>total_images</th>\n",
       "      <th>last_price</th>\n",
       "      <th>total_area</th>\n",
       "      <th>first_day_exposition</th>\n",
       "      <th>rooms</th>\n",
       "      <th>ceiling_height</th>\n",
       "      <th>floors_total</th>\n",
       "      <th>living_area</th>\n",
       "      <th>floor</th>\n",
       "      <th>is_apartment</th>\n",
       "      <th>...</th>\n",
       "      <th>city_centers_nearest</th>\n",
       "      <th>parks_around_three_km</th>\n",
       "      <th>parks_nearest</th>\n",
       "      <th>ponds_around_three_km</th>\n",
       "      <th>ponds_nearest</th>\n",
       "      <th>days_exposition</th>\n",
       "      <th>square_meter</th>\n",
       "      <th>publication_day</th>\n",
       "      <th>publication_month</th>\n",
       "      <th>publication_year</th>\n",
       "    </tr>\n",
       "  </thead>\n",
       "  <tbody>\n",
       "    <tr>\n",
       "      <th>0</th>\n",
       "      <td>20</td>\n",
       "      <td>13000000</td>\n",
       "      <td>108.0</td>\n",
       "      <td>2019-03-07</td>\n",
       "      <td>3</td>\n",
       "      <td>2.70</td>\n",
       "      <td>16</td>\n",
       "      <td>51.0</td>\n",
       "      <td>8</td>\n",
       "      <td>False</td>\n",
       "      <td>...</td>\n",
       "      <td>16028.0</td>\n",
       "      <td>1</td>\n",
       "      <td>482.0</td>\n",
       "      <td>2</td>\n",
       "      <td>755.0</td>\n",
       "      <td>95</td>\n",
       "      <td>120370.370370</td>\n",
       "      <td>7</td>\n",
       "      <td>3</td>\n",
       "      <td>2019</td>\n",
       "    </tr>\n",
       "    <tr>\n",
       "      <th>1</th>\n",
       "      <td>7</td>\n",
       "      <td>3350000</td>\n",
       "      <td>40.4</td>\n",
       "      <td>2018-12-04</td>\n",
       "      <td>1</td>\n",
       "      <td>2.65</td>\n",
       "      <td>11</td>\n",
       "      <td>18.6</td>\n",
       "      <td>1</td>\n",
       "      <td>False</td>\n",
       "      <td>...</td>\n",
       "      <td>18603.0</td>\n",
       "      <td>0</td>\n",
       "      <td>455.0</td>\n",
       "      <td>0</td>\n",
       "      <td>502.0</td>\n",
       "      <td>81</td>\n",
       "      <td>82920.792079</td>\n",
       "      <td>4</td>\n",
       "      <td>12</td>\n",
       "      <td>2018</td>\n",
       "    </tr>\n",
       "    <tr>\n",
       "      <th>2</th>\n",
       "      <td>10</td>\n",
       "      <td>5196000</td>\n",
       "      <td>56.0</td>\n",
       "      <td>2015-08-20</td>\n",
       "      <td>2</td>\n",
       "      <td>2.65</td>\n",
       "      <td>5</td>\n",
       "      <td>34.3</td>\n",
       "      <td>4</td>\n",
       "      <td>False</td>\n",
       "      <td>...</td>\n",
       "      <td>13933.0</td>\n",
       "      <td>1</td>\n",
       "      <td>90.0</td>\n",
       "      <td>2</td>\n",
       "      <td>574.0</td>\n",
       "      <td>558</td>\n",
       "      <td>92785.714286</td>\n",
       "      <td>20</td>\n",
       "      <td>8</td>\n",
       "      <td>2015</td>\n",
       "    </tr>\n",
       "    <tr>\n",
       "      <th>3</th>\n",
       "      <td>0</td>\n",
       "      <td>64900000</td>\n",
       "      <td>159.0</td>\n",
       "      <td>2015-07-24</td>\n",
       "      <td>3</td>\n",
       "      <td>2.65</td>\n",
       "      <td>14</td>\n",
       "      <td>30.0</td>\n",
       "      <td>9</td>\n",
       "      <td>False</td>\n",
       "      <td>...</td>\n",
       "      <td>6800.0</td>\n",
       "      <td>2</td>\n",
       "      <td>84.0</td>\n",
       "      <td>3</td>\n",
       "      <td>234.0</td>\n",
       "      <td>424</td>\n",
       "      <td>408176.100629</td>\n",
       "      <td>24</td>\n",
       "      <td>7</td>\n",
       "      <td>2015</td>\n",
       "    </tr>\n",
       "    <tr>\n",
       "      <th>4</th>\n",
       "      <td>2</td>\n",
       "      <td>10000000</td>\n",
       "      <td>100.0</td>\n",
       "      <td>2018-06-19</td>\n",
       "      <td>2</td>\n",
       "      <td>3.03</td>\n",
       "      <td>14</td>\n",
       "      <td>32.0</td>\n",
       "      <td>13</td>\n",
       "      <td>False</td>\n",
       "      <td>...</td>\n",
       "      <td>8098.0</td>\n",
       "      <td>2</td>\n",
       "      <td>112.0</td>\n",
       "      <td>1</td>\n",
       "      <td>48.0</td>\n",
       "      <td>121</td>\n",
       "      <td>100000.000000</td>\n",
       "      <td>19</td>\n",
       "      <td>6</td>\n",
       "      <td>2018</td>\n",
       "    </tr>\n",
       "  </tbody>\n",
       "</table>\n",
       "<p>5 rows × 26 columns</p>\n",
       "</div>"
      ],
      "text/plain": [
       "   total_images  last_price  total_area first_day_exposition  rooms  \\\n",
       "0            20    13000000       108.0           2019-03-07      3   \n",
       "1             7     3350000        40.4           2018-12-04      1   \n",
       "2            10     5196000        56.0           2015-08-20      2   \n",
       "3             0    64900000       159.0           2015-07-24      3   \n",
       "4             2    10000000       100.0           2018-06-19      2   \n",
       "\n",
       "   ceiling_height  floors_total  living_area  floor  is_apartment  ...  \\\n",
       "0            2.70            16         51.0      8         False  ...   \n",
       "1            2.65            11         18.6      1         False  ...   \n",
       "2            2.65             5         34.3      4         False  ...   \n",
       "3            2.65            14         30.0      9         False  ...   \n",
       "4            3.03            14         32.0     13         False  ...   \n",
       "\n",
       "   city_centers_nearest  parks_around_three_km  parks_nearest  \\\n",
       "0               16028.0                      1          482.0   \n",
       "1               18603.0                      0          455.0   \n",
       "2               13933.0                      1           90.0   \n",
       "3                6800.0                      2           84.0   \n",
       "4                8098.0                      2          112.0   \n",
       "\n",
       "   ponds_around_three_km ponds_nearest  days_exposition   square_meter  \\\n",
       "0                      2         755.0               95  120370.370370   \n",
       "1                      0         502.0               81   82920.792079   \n",
       "2                      2         574.0              558   92785.714286   \n",
       "3                      3         234.0              424  408176.100629   \n",
       "4                      1          48.0              121  100000.000000   \n",
       "\n",
       "   publication_day  publication_month  publication_year  \n",
       "0                7                  3              2019  \n",
       "1                4                 12              2018  \n",
       "2               20                  8              2015  \n",
       "3               24                  7              2015  \n",
       "4               19                  6              2018  \n",
       "\n",
       "[5 rows x 26 columns]"
      ]
     },
     "metadata": {},
     "output_type": "display_data"
    }
   ],
   "source": [
    "#рассчитаем и добавим в таблицу день недели, месяц и год публикации объявления\n",
    "\n",
    "data['publication_day'] = data['first_day_exposition'].dt.day\n",
    "data['publication_month'] = data['first_day_exposition'].dt.month\n",
    "data['publication_year'] = data['first_day_exposition'].dt.year\n",
    "\n",
    "display(data.head())"
   ]
  },
  {
   "cell_type": "code",
   "execution_count": 51,
   "metadata": {},
   "outputs": [
    {
     "data": {
      "text/html": [
       "<div>\n",
       "<style scoped>\n",
       "    .dataframe tbody tr th:only-of-type {\n",
       "        vertical-align: middle;\n",
       "    }\n",
       "\n",
       "    .dataframe tbody tr th {\n",
       "        vertical-align: top;\n",
       "    }\n",
       "\n",
       "    .dataframe thead th {\n",
       "        text-align: right;\n",
       "    }\n",
       "</style>\n",
       "<table border=\"1\" class=\"dataframe\">\n",
       "  <thead>\n",
       "    <tr style=\"text-align: right;\">\n",
       "      <th></th>\n",
       "      <th>total_images</th>\n",
       "      <th>last_price</th>\n",
       "      <th>total_area</th>\n",
       "      <th>first_day_exposition</th>\n",
       "      <th>rooms</th>\n",
       "      <th>ceiling_height</th>\n",
       "      <th>floors_total</th>\n",
       "      <th>living_area</th>\n",
       "      <th>floor</th>\n",
       "      <th>is_apartment</th>\n",
       "      <th>...</th>\n",
       "      <th>parks_around_three_km</th>\n",
       "      <th>parks_nearest</th>\n",
       "      <th>ponds_around_three_km</th>\n",
       "      <th>ponds_nearest</th>\n",
       "      <th>days_exposition</th>\n",
       "      <th>square_meter</th>\n",
       "      <th>publication_day</th>\n",
       "      <th>publication_month</th>\n",
       "      <th>publication_year</th>\n",
       "      <th>flat_floor_number</th>\n",
       "    </tr>\n",
       "  </thead>\n",
       "  <tbody>\n",
       "    <tr>\n",
       "      <th>0</th>\n",
       "      <td>20</td>\n",
       "      <td>13000000</td>\n",
       "      <td>108.0</td>\n",
       "      <td>2019-03-07</td>\n",
       "      <td>3</td>\n",
       "      <td>2.70</td>\n",
       "      <td>16</td>\n",
       "      <td>51.0</td>\n",
       "      <td>8</td>\n",
       "      <td>False</td>\n",
       "      <td>...</td>\n",
       "      <td>1</td>\n",
       "      <td>482.0</td>\n",
       "      <td>2</td>\n",
       "      <td>755.0</td>\n",
       "      <td>95</td>\n",
       "      <td>120370.370370</td>\n",
       "      <td>7</td>\n",
       "      <td>3</td>\n",
       "      <td>2019</td>\n",
       "      <td>другой</td>\n",
       "    </tr>\n",
       "    <tr>\n",
       "      <th>1</th>\n",
       "      <td>7</td>\n",
       "      <td>3350000</td>\n",
       "      <td>40.4</td>\n",
       "      <td>2018-12-04</td>\n",
       "      <td>1</td>\n",
       "      <td>2.65</td>\n",
       "      <td>11</td>\n",
       "      <td>18.6</td>\n",
       "      <td>1</td>\n",
       "      <td>False</td>\n",
       "      <td>...</td>\n",
       "      <td>0</td>\n",
       "      <td>455.0</td>\n",
       "      <td>0</td>\n",
       "      <td>502.0</td>\n",
       "      <td>81</td>\n",
       "      <td>82920.792079</td>\n",
       "      <td>4</td>\n",
       "      <td>12</td>\n",
       "      <td>2018</td>\n",
       "      <td>первый</td>\n",
       "    </tr>\n",
       "    <tr>\n",
       "      <th>2</th>\n",
       "      <td>10</td>\n",
       "      <td>5196000</td>\n",
       "      <td>56.0</td>\n",
       "      <td>2015-08-20</td>\n",
       "      <td>2</td>\n",
       "      <td>2.65</td>\n",
       "      <td>5</td>\n",
       "      <td>34.3</td>\n",
       "      <td>4</td>\n",
       "      <td>False</td>\n",
       "      <td>...</td>\n",
       "      <td>1</td>\n",
       "      <td>90.0</td>\n",
       "      <td>2</td>\n",
       "      <td>574.0</td>\n",
       "      <td>558</td>\n",
       "      <td>92785.714286</td>\n",
       "      <td>20</td>\n",
       "      <td>8</td>\n",
       "      <td>2015</td>\n",
       "      <td>другой</td>\n",
       "    </tr>\n",
       "    <tr>\n",
       "      <th>3</th>\n",
       "      <td>0</td>\n",
       "      <td>64900000</td>\n",
       "      <td>159.0</td>\n",
       "      <td>2015-07-24</td>\n",
       "      <td>3</td>\n",
       "      <td>2.65</td>\n",
       "      <td>14</td>\n",
       "      <td>30.0</td>\n",
       "      <td>9</td>\n",
       "      <td>False</td>\n",
       "      <td>...</td>\n",
       "      <td>2</td>\n",
       "      <td>84.0</td>\n",
       "      <td>3</td>\n",
       "      <td>234.0</td>\n",
       "      <td>424</td>\n",
       "      <td>408176.100629</td>\n",
       "      <td>24</td>\n",
       "      <td>7</td>\n",
       "      <td>2015</td>\n",
       "      <td>другой</td>\n",
       "    </tr>\n",
       "    <tr>\n",
       "      <th>4</th>\n",
       "      <td>2</td>\n",
       "      <td>10000000</td>\n",
       "      <td>100.0</td>\n",
       "      <td>2018-06-19</td>\n",
       "      <td>2</td>\n",
       "      <td>3.03</td>\n",
       "      <td>14</td>\n",
       "      <td>32.0</td>\n",
       "      <td>13</td>\n",
       "      <td>False</td>\n",
       "      <td>...</td>\n",
       "      <td>2</td>\n",
       "      <td>112.0</td>\n",
       "      <td>1</td>\n",
       "      <td>48.0</td>\n",
       "      <td>121</td>\n",
       "      <td>100000.000000</td>\n",
       "      <td>19</td>\n",
       "      <td>6</td>\n",
       "      <td>2018</td>\n",
       "      <td>другой</td>\n",
       "    </tr>\n",
       "  </tbody>\n",
       "</table>\n",
       "<p>5 rows × 27 columns</p>\n",
       "</div>"
      ],
      "text/plain": [
       "   total_images  last_price  total_area first_day_exposition  rooms  \\\n",
       "0            20    13000000       108.0           2019-03-07      3   \n",
       "1             7     3350000        40.4           2018-12-04      1   \n",
       "2            10     5196000        56.0           2015-08-20      2   \n",
       "3             0    64900000       159.0           2015-07-24      3   \n",
       "4             2    10000000       100.0           2018-06-19      2   \n",
       "\n",
       "   ceiling_height  floors_total  living_area  floor  is_apartment  ...  \\\n",
       "0            2.70            16         51.0      8         False  ...   \n",
       "1            2.65            11         18.6      1         False  ...   \n",
       "2            2.65             5         34.3      4         False  ...   \n",
       "3            2.65            14         30.0      9         False  ...   \n",
       "4            3.03            14         32.0     13         False  ...   \n",
       "\n",
       "   parks_around_three_km  parks_nearest  ponds_around_three_km  ponds_nearest  \\\n",
       "0                      1          482.0                      2          755.0   \n",
       "1                      0          455.0                      0          502.0   \n",
       "2                      1           90.0                      2          574.0   \n",
       "3                      2           84.0                      3          234.0   \n",
       "4                      2          112.0                      1           48.0   \n",
       "\n",
       "  days_exposition   square_meter  publication_day  publication_month  \\\n",
       "0              95  120370.370370                7                  3   \n",
       "1              81   82920.792079                4                 12   \n",
       "2             558   92785.714286               20                  8   \n",
       "3             424  408176.100629               24                  7   \n",
       "4             121  100000.000000               19                  6   \n",
       "\n",
       "   publication_year  flat_floor_number  \n",
       "0              2019             другой  \n",
       "1              2018             первый  \n",
       "2              2015             другой  \n",
       "3              2015             другой  \n",
       "4              2018             другой  \n",
       "\n",
       "[5 rows x 27 columns]"
      ]
     },
     "metadata": {},
     "output_type": "display_data"
    }
   ],
   "source": [
    "#рассчитаем и добавим в таблицу этаж квартиры (нашими вариантами будут первый, последний и другой)\n",
    "#для этого напишем функцию, которая разобьёт данные на нужные нам категории\n",
    "\n",
    "def floor_number(number):\n",
    "    floor = number['floor']\n",
    "    floors_total = number['floors_total']\n",
    "    \n",
    "    if floor == 1:\n",
    "        return 'первый'\n",
    "    elif floor > 1 and floor != floors_total:\n",
    "        return 'другой'\n",
    "    elif floor == floors_total:\n",
    "        return 'последний'\n",
    "    \n",
    "data['flat_floor_number'] = data.apply(floor_number, axis=1)\n",
    "display(data.head())"
   ]
  },
  {
   "cell_type": "code",
   "execution_count": 52,
   "metadata": {},
   "outputs": [
    {
     "data": {
      "text/html": [
       "<div>\n",
       "<style scoped>\n",
       "    .dataframe tbody tr th:only-of-type {\n",
       "        vertical-align: middle;\n",
       "    }\n",
       "\n",
       "    .dataframe tbody tr th {\n",
       "        vertical-align: top;\n",
       "    }\n",
       "\n",
       "    .dataframe thead th {\n",
       "        text-align: right;\n",
       "    }\n",
       "</style>\n",
       "<table border=\"1\" class=\"dataframe\">\n",
       "  <thead>\n",
       "    <tr style=\"text-align: right;\">\n",
       "      <th></th>\n",
       "      <th>total_images</th>\n",
       "      <th>last_price</th>\n",
       "      <th>total_area</th>\n",
       "      <th>first_day_exposition</th>\n",
       "      <th>rooms</th>\n",
       "      <th>ceiling_height</th>\n",
       "      <th>floors_total</th>\n",
       "      <th>living_area</th>\n",
       "      <th>floor</th>\n",
       "      <th>is_apartment</th>\n",
       "      <th>...</th>\n",
       "      <th>ponds_around_three_km</th>\n",
       "      <th>ponds_nearest</th>\n",
       "      <th>days_exposition</th>\n",
       "      <th>square_meter</th>\n",
       "      <th>publication_day</th>\n",
       "      <th>publication_month</th>\n",
       "      <th>publication_year</th>\n",
       "      <th>flat_floor_number</th>\n",
       "      <th>area_proportion</th>\n",
       "      <th>kitchen_area_proportion</th>\n",
       "    </tr>\n",
       "  </thead>\n",
       "  <tbody>\n",
       "    <tr>\n",
       "      <th>0</th>\n",
       "      <td>20</td>\n",
       "      <td>13000000</td>\n",
       "      <td>108.0</td>\n",
       "      <td>2019-03-07</td>\n",
       "      <td>3</td>\n",
       "      <td>2.70</td>\n",
       "      <td>16</td>\n",
       "      <td>51.0</td>\n",
       "      <td>8</td>\n",
       "      <td>False</td>\n",
       "      <td>...</td>\n",
       "      <td>2</td>\n",
       "      <td>755.0</td>\n",
       "      <td>95</td>\n",
       "      <td>120370.370370</td>\n",
       "      <td>7</td>\n",
       "      <td>3</td>\n",
       "      <td>2019</td>\n",
       "      <td>другой</td>\n",
       "      <td>0.472222</td>\n",
       "      <td>0.231481</td>\n",
       "    </tr>\n",
       "    <tr>\n",
       "      <th>1</th>\n",
       "      <td>7</td>\n",
       "      <td>3350000</td>\n",
       "      <td>40.4</td>\n",
       "      <td>2018-12-04</td>\n",
       "      <td>1</td>\n",
       "      <td>2.65</td>\n",
       "      <td>11</td>\n",
       "      <td>18.6</td>\n",
       "      <td>1</td>\n",
       "      <td>False</td>\n",
       "      <td>...</td>\n",
       "      <td>0</td>\n",
       "      <td>502.0</td>\n",
       "      <td>81</td>\n",
       "      <td>82920.792079</td>\n",
       "      <td>4</td>\n",
       "      <td>12</td>\n",
       "      <td>2018</td>\n",
       "      <td>первый</td>\n",
       "      <td>0.460396</td>\n",
       "      <td>0.272277</td>\n",
       "    </tr>\n",
       "    <tr>\n",
       "      <th>2</th>\n",
       "      <td>10</td>\n",
       "      <td>5196000</td>\n",
       "      <td>56.0</td>\n",
       "      <td>2015-08-20</td>\n",
       "      <td>2</td>\n",
       "      <td>2.65</td>\n",
       "      <td>5</td>\n",
       "      <td>34.3</td>\n",
       "      <td>4</td>\n",
       "      <td>False</td>\n",
       "      <td>...</td>\n",
       "      <td>2</td>\n",
       "      <td>574.0</td>\n",
       "      <td>558</td>\n",
       "      <td>92785.714286</td>\n",
       "      <td>20</td>\n",
       "      <td>8</td>\n",
       "      <td>2015</td>\n",
       "      <td>другой</td>\n",
       "      <td>0.612500</td>\n",
       "      <td>0.148214</td>\n",
       "    </tr>\n",
       "    <tr>\n",
       "      <th>3</th>\n",
       "      <td>0</td>\n",
       "      <td>64900000</td>\n",
       "      <td>159.0</td>\n",
       "      <td>2015-07-24</td>\n",
       "      <td>3</td>\n",
       "      <td>2.65</td>\n",
       "      <td>14</td>\n",
       "      <td>30.0</td>\n",
       "      <td>9</td>\n",
       "      <td>False</td>\n",
       "      <td>...</td>\n",
       "      <td>3</td>\n",
       "      <td>234.0</td>\n",
       "      <td>424</td>\n",
       "      <td>408176.100629</td>\n",
       "      <td>24</td>\n",
       "      <td>7</td>\n",
       "      <td>2015</td>\n",
       "      <td>другой</td>\n",
       "      <td>0.188679</td>\n",
       "      <td>0.057233</td>\n",
       "    </tr>\n",
       "    <tr>\n",
       "      <th>4</th>\n",
       "      <td>2</td>\n",
       "      <td>10000000</td>\n",
       "      <td>100.0</td>\n",
       "      <td>2018-06-19</td>\n",
       "      <td>2</td>\n",
       "      <td>3.03</td>\n",
       "      <td>14</td>\n",
       "      <td>32.0</td>\n",
       "      <td>13</td>\n",
       "      <td>False</td>\n",
       "      <td>...</td>\n",
       "      <td>1</td>\n",
       "      <td>48.0</td>\n",
       "      <td>121</td>\n",
       "      <td>100000.000000</td>\n",
       "      <td>19</td>\n",
       "      <td>6</td>\n",
       "      <td>2018</td>\n",
       "      <td>другой</td>\n",
       "      <td>0.320000</td>\n",
       "      <td>0.410000</td>\n",
       "    </tr>\n",
       "  </tbody>\n",
       "</table>\n",
       "<p>5 rows × 29 columns</p>\n",
       "</div>"
      ],
      "text/plain": [
       "   total_images  last_price  total_area first_day_exposition  rooms  \\\n",
       "0            20    13000000       108.0           2019-03-07      3   \n",
       "1             7     3350000        40.4           2018-12-04      1   \n",
       "2            10     5196000        56.0           2015-08-20      2   \n",
       "3             0    64900000       159.0           2015-07-24      3   \n",
       "4             2    10000000       100.0           2018-06-19      2   \n",
       "\n",
       "   ceiling_height  floors_total  living_area  floor  is_apartment  ...  \\\n",
       "0            2.70            16         51.0      8         False  ...   \n",
       "1            2.65            11         18.6      1         False  ...   \n",
       "2            2.65             5         34.3      4         False  ...   \n",
       "3            2.65            14         30.0      9         False  ...   \n",
       "4            3.03            14         32.0     13         False  ...   \n",
       "\n",
       "   ponds_around_three_km  ponds_nearest  days_exposition   square_meter  \\\n",
       "0                      2          755.0               95  120370.370370   \n",
       "1                      0          502.0               81   82920.792079   \n",
       "2                      2          574.0              558   92785.714286   \n",
       "3                      3          234.0              424  408176.100629   \n",
       "4                      1           48.0              121  100000.000000   \n",
       "\n",
       "  publication_day  publication_month  publication_year  flat_floor_number  \\\n",
       "0               7                  3              2019             другой   \n",
       "1               4                 12              2018             первый   \n",
       "2              20                  8              2015             другой   \n",
       "3              24                  7              2015             другой   \n",
       "4              19                  6              2018             другой   \n",
       "\n",
       "   area_proportion  kitchen_area_proportion  \n",
       "0         0.472222                 0.231481  \n",
       "1         0.460396                 0.272277  \n",
       "2         0.612500                 0.148214  \n",
       "3         0.188679                 0.057233  \n",
       "4         0.320000                 0.410000  \n",
       "\n",
       "[5 rows x 29 columns]"
      ]
     },
     "metadata": {},
     "output_type": "display_data"
    }
   ],
   "source": [
    "#рассчитаем и добавим в таблицу соотношение жилой и общей площади, а также отношение площади кухни к общей\n",
    "\n",
    "data['area_proportion'] = data['living_area'] / data['total_area'] \n",
    "data['kitchen_area_proportion'] = data['kitchen_area'] / data['total_area'] \n",
    "display(data.head())"
   ]
  },
  {
   "cell_type": "markdown",
   "metadata": {},
   "source": [
    "## Исследовательский анализ данных"
   ]
  },
  {
   "cell_type": "markdown",
   "metadata": {},
   "source": [
    "**Изучим площадь, цену, число комнат, высоту потолков с помощью метода describe(). После этого построим гистрограммы для каждого параметра.**"
   ]
  },
  {
   "cell_type": "code",
   "execution_count": 53,
   "metadata": {},
   "outputs": [
    {
     "data": {
      "text/plain": [
       "count    23699.000000\n",
       "mean        60.348651\n",
       "std         35.654083\n",
       "min         12.000000\n",
       "25%         40.000000\n",
       "50%         52.000000\n",
       "75%         69.900000\n",
       "max        900.000000\n",
       "Name: total_area, dtype: float64"
      ]
     },
     "execution_count": 53,
     "metadata": {},
     "output_type": "execute_result"
    }
   ],
   "source": [
    "data['total_area'].describe()"
   ]
  },
  {
   "cell_type": "code",
   "execution_count": 54,
   "metadata": {},
   "outputs": [
    {
     "data": {
      "image/png": "[encoded data removed]",
      "text/plain": [
       "<Figure size 432x288 with 1 Axes>"
      ]
     },
     "metadata": {
      "needs_background": "light"
     },
     "output_type": "display_data"
    }
   ],
   "source": [
    "data['total_area'].hist(bins=100, color='red', range=(12, 250));"
   ]
  },
  {
   "cell_type": "markdown",
   "metadata": {},
   "source": [
    "Судя по данным и гистограмме, большинство квартир имеют площадь от 30 до 60 квадратных метров. Пиковое значение - примерно 40 квадратных метров."
   ]
  },
  {
   "cell_type": "code",
   "execution_count": 55,
   "metadata": {},
   "outputs": [
    {
     "data": {
      "text/plain": [
       "count    2.369900e+04\n",
       "mean     6.541549e+06\n",
       "std      1.088701e+07\n",
       "min      1.219000e+04\n",
       "25%      3.400000e+06\n",
       "50%      4.650000e+06\n",
       "75%      6.800000e+06\n",
       "max      7.630000e+08\n",
       "Name: last_price, dtype: float64"
      ]
     },
     "execution_count": 55,
     "metadata": {},
     "output_type": "execute_result"
    }
   ],
   "source": [
    "data['last_price'].describe()"
   ]
  },
  {
   "cell_type": "code",
   "execution_count": 56,
   "metadata": {},
   "outputs": [],
   "source": [
    "#по аналогии с тем, как мы избавились с аномалиями в столбце ceiling_height, поработаем с этим столбцом; отсеим слишком\n",
    "#маленькую цену (12190) и заменим её на следующую в списке (430000), также уберём слишком высокую стоимость, установив \n",
    "#порог в 100000000\n",
    "\n",
    "import warnings\n",
    "\n",
    "warnings.filterwarnings(\"ignore\")\n",
    "\n",
    "for abnormal_price in range(len(data['last_price'])):\n",
    "    if data['last_price'][abnormal_price] > 100000000:\n",
    "        data['last_price'][abnormal_price] = 100000000 \n",
    "    elif data['last_price'][abnormal_price] <= 12190:\n",
    "        data['last_price'][abnormal_price] = 430000  "
   ]
  },
  {
   "cell_type": "code",
   "execution_count": 57,
   "metadata": {},
   "outputs": [
    {
     "data": {
      "image/png": "[encoded data removed]",
      "text/plain": [
       "<Figure size 432x288 with 1 Axes>"
      ]
     },
     "metadata": {
      "needs_background": "light"
     },
     "output_type": "display_data"
    }
   ],
   "source": [
    "data['last_price'].hist(bins=100, color='red', range=(10, 10000000));"
   ]
  },
  {
   "cell_type": "markdown",
   "metadata": {},
   "source": [
    "Изучив первичные данные, убрав аномалии и построив гистограмму, можно прийти к выводу, что стоимость большинства квартир лежит в промежутке от 3.5 до 4.5 миллионов. "
   ]
  },
  {
   "cell_type": "code",
   "execution_count": 58,
   "metadata": {},
   "outputs": [
    {
     "data": {
      "text/plain": [
       "count    23699.000000\n",
       "mean         2.070636\n",
       "std          1.078405\n",
       "min          0.000000\n",
       "25%          1.000000\n",
       "50%          2.000000\n",
       "75%          3.000000\n",
       "max         19.000000\n",
       "Name: rooms, dtype: float64"
      ]
     },
     "execution_count": 58,
     "metadata": {},
     "output_type": "execute_result"
    }
   ],
   "source": [
    "data['rooms'].describe()"
   ]
  },
  {
   "cell_type": "code",
   "execution_count": 59,
   "metadata": {},
   "outputs": [
    {
     "data": {
      "image/png": "[encoded data removed]",
      "text/plain": [
       "<Figure size 432x288 with 1 Axes>"
      ]
     },
     "metadata": {
      "needs_background": "light"
     },
     "output_type": "display_data"
    }
   ],
   "source": [
    "data['rooms'].hist(bins=20, color='red', range=(0, 20));"
   ]
  },
  {
   "cell_type": "markdown",
   "metadata": {},
   "source": [
    "Судя по полученным данным, большинство квартир имеют от 1 до 3 комнат."
   ]
  },
  {
   "cell_type": "code",
   "execution_count": 60,
   "metadata": {},
   "outputs": [
    {
     "data": {
      "text/plain": [
       "count    23699.00000\n",
       "mean         2.69897\n",
       "std          0.22558\n",
       "min          2.40000\n",
       "25%          2.60000\n",
       "50%          2.65000\n",
       "75%          2.70000\n",
       "max          4.50000\n",
       "Name: ceiling_height, dtype: float64"
      ]
     },
     "execution_count": 60,
     "metadata": {},
     "output_type": "execute_result"
    }
   ],
   "source": [
    "data['ceiling_height'].describe()"
   ]
  },
  {
   "cell_type": "code",
   "execution_count": 61,
   "metadata": {},
   "outputs": [
    {
     "data": {
      "image/png": "[encoded data removed]",
      "text/plain": [
       "<Figure size 432x288 with 1 Axes>"
      ]
     },
     "metadata": {
      "needs_background": "light"
     },
     "output_type": "display_data"
    }
   ],
   "source": [
    "data['ceiling_height'].hist(bins=100, color='red', range=(2, 5));"
   ]
  },
  {
   "cell_type": "markdown",
   "metadata": {},
   "source": [
    "Судя по полученным данным, большинство значений находится в промежутке от 2.5 до 3.0, там же - пиковое значение, то есть большее количество квартир имеют высоту потолка примерно 2.6 метров.  "
   ]
  },
  {
   "cell_type": "markdown",
   "metadata": {},
   "source": [
    "**Изучим время продажи квартиры. Построим гистограмму и посчитаем среднее и медиану.**"
   ]
  },
  {
   "cell_type": "code",
   "execution_count": 62,
   "metadata": {},
   "outputs": [
    {
     "data": {
      "text/plain": [
       "count    23699.000000\n",
       "mean       169.360226\n",
       "std        206.535633\n",
       "min          1.000000\n",
       "25%         45.000000\n",
       "50%         95.000000\n",
       "75%        199.000000\n",
       "max       1580.000000\n",
       "Name: days_exposition, dtype: float64"
      ]
     },
     "execution_count": 62,
     "metadata": {},
     "output_type": "execute_result"
    }
   ],
   "source": [
    "data['days_exposition'].describe()"
   ]
  },
  {
   "cell_type": "code",
   "execution_count": 63,
   "metadata": {},
   "outputs": [
    {
     "data": {
      "image/png": "[encoded data removed]",
      "text/plain": [
       "<Figure size 432x288 with 1 Axes>"
      ]
     },
     "metadata": {
      "needs_background": "light"
     },
     "output_type": "display_data"
    }
   ],
   "source": [
    "data['days_exposition'].hist(bins=20, color='green', range=(0, 1000));"
   ]
  },
  {
   "cell_type": "code",
   "execution_count": 64,
   "metadata": {},
   "outputs": [
    {
     "data": {
      "text/plain": [
       "169.36022616988058"
      ]
     },
     "execution_count": 64,
     "metadata": {},
     "output_type": "execute_result"
    }
   ],
   "source": [
    "data['days_exposition'].mean()"
   ]
  },
  {
   "cell_type": "code",
   "execution_count": 65,
   "metadata": {},
   "outputs": [
    {
     "data": {
      "text/plain": [
       "95.0"
      ]
     },
     "execution_count": 65,
     "metadata": {},
     "output_type": "execute_result"
    }
   ],
   "source": [
    "data['days_exposition'].median()"
   ]
  },
  {
   "cell_type": "code",
   "execution_count": 66,
   "metadata": {},
   "outputs": [
    {
     "data": {
      "text/plain": [
       "251.0"
      ]
     },
     "execution_count": 66,
     "metadata": {},
     "output_type": "execute_result"
    }
   ],
   "source": [
    "#проверим, до какого числа укладываются 80% значений, а то, что входит в оставшиеся 20% будем считать слишком \n",
    "#долгими продажами\n",
    "\n",
    "np.quantile(data['days_exposition'], .80)"
   ]
  },
  {
   "cell_type": "markdown",
   "metadata": {},
   "source": [
    "**80% продаж квартиры происходит максимум до 250 дней, другие 20% будем считать слишком долгими продажами.\n",
    "Большинство продаж происходит от 50 до 100 дней**"
   ]
  },
  {
   "cell_type": "markdown",
   "metadata": {},
   "source": [
    "**Теперь проверим, какие факторы больше всего влияют на стоимость квартиры. Изучим следующие параметры:**\n",
    "\n",
    "- площадь\n",
    "- число комнат\n",
    "- удалённость от центра\n",
    "- этаж \n",
    "- дата размещения (проверим отедьно день, месяц и год)"
   ]
  },
  {
   "cell_type": "code",
   "execution_count": 67,
   "metadata": {},
   "outputs": [
    {
     "data": {
      "image/png": "[encoded data removed]",
      "text/plain": [
       "<Figure size 720x432 with 1 Axes>"
      ]
     },
     "metadata": {
      "needs_background": "light"
     },
     "output_type": "display_data"
    }
   ],
   "source": [
    "fig, ax = plt.subplots(figsize=(10, 6))\n",
    "ax.scatter(x = data['last_price'], y = data['total_area'], color='orange')\n",
    "plt.xlabel(\"last_price\")\n",
    "plt.ylabel(\"total_area\")\n",
    "\n",
    "plt.show()"
   ]
  },
  {
   "cell_type": "code",
   "execution_count": 68,
   "metadata": {},
   "outputs": [
    {
     "data": {
      "text/plain": [
       "0.7740284750174576"
      ]
     },
     "execution_count": 68,
     "metadata": {},
     "output_type": "execute_result"
    }
   ],
   "source": [
    "data['total_area'].corr(data['last_price'])"
   ]
  },
  {
   "cell_type": "code",
   "execution_count": 69,
   "metadata": {},
   "outputs": [
    {
     "data": {
      "image/png": "[encoded data removed]",
      "text/plain": [
       "<Figure size 720x432 with 1 Axes>"
      ]
     },
     "metadata": {
      "needs_background": "light"
     },
     "output_type": "display_data"
    }
   ],
   "source": [
    "fig, ax = plt.subplots(figsize=(10, 6))\n",
    "ax.scatter(x = data['last_price'], y = data['rooms'], color='orange')\n",
    "plt.xlabel(\"last_price\")\n",
    "plt.ylabel(\"rooms\")\n",
    "\n",
    "plt.show()"
   ]
  },
  {
   "cell_type": "code",
   "execution_count": 70,
   "metadata": {},
   "outputs": [
    {
     "data": {
      "text/plain": [
       "0.4632341424748133"
      ]
     },
     "execution_count": 70,
     "metadata": {},
     "output_type": "execute_result"
    }
   ],
   "source": [
    "data['rooms'].corr(data['last_price'])"
   ]
  },
  {
   "cell_type": "code",
   "execution_count": 71,
   "metadata": {},
   "outputs": [
    {
     "data": {
      "image/png": "[encoded data removed]",
      "text/plain": [
       "<Figure size 720x432 with 1 Axes>"
      ]
     },
     "metadata": {
      "needs_background": "light"
     },
     "output_type": "display_data"
    }
   ],
   "source": [
    "fig, ax = plt.subplots(figsize=(10, 6))\n",
    "ax.scatter(x = data['last_price'], y = data['city_centers_nearest'], color='orange')\n",
    "plt.xlabel(\"last_price\")\n",
    "plt.ylabel(\"city_centers_nearest\")\n",
    "\n",
    "plt.show()"
   ]
  },
  {
   "cell_type": "code",
   "execution_count": 72,
   "metadata": {},
   "outputs": [
    {
     "data": {
      "text/plain": [
       "-0.2557915348880056"
      ]
     },
     "execution_count": 72,
     "metadata": {},
     "output_type": "execute_result"
    }
   ],
   "source": [
    "data['city_centers_nearest'].corr(data['last_price'])"
   ]
  },
  {
   "cell_type": "code",
   "execution_count": 73,
   "metadata": {},
   "outputs": [
    {
     "data": {
      "image/png": "[encoded data removed]",
      "text/plain": [
       "<Figure size 720x432 with 1 Axes>"
      ]
     },
     "metadata": {
      "needs_background": "light"
     },
     "output_type": "display_data"
    }
   ],
   "source": [
    "fig, ax = plt.subplots(figsize=(10, 6))\n",
    "ax.scatter(x = data['last_price'], y = data['flat_floor_number'], color='orange')\n",
    "plt.xlabel(\"last_price\")\n",
    "plt.ylabel(\"flat_floor_number\")\n",
    "\n",
    "plt.show()"
   ]
  },
  {
   "cell_type": "code",
   "execution_count": 74,
   "metadata": {},
   "outputs": [
    {
     "data": {
      "text/plain": [
       "0.029652097226942252"
      ]
     },
     "execution_count": 74,
     "metadata": {},
     "output_type": "execute_result"
    }
   ],
   "source": [
    "data['floor'].corr(data['last_price'])"
   ]
  },
  {
   "cell_type": "code",
   "execution_count": 75,
   "metadata": {},
   "outputs": [
    {
     "data": {
      "image/png": "[encoded data removed]",
      "text/plain": [
       "<Figure size 720x432 with 1 Axes>"
      ]
     },
     "metadata": {
      "needs_background": "light"
     },
     "output_type": "display_data"
    }
   ],
   "source": [
    "fig, ax = plt.subplots(figsize=(10, 6))\n",
    "ax.scatter(x = data['last_price'], y = data['publication_day'], color='orange')\n",
    "plt.xlabel(\"last_price\")\n",
    "plt.ylabel(\"publication_day\")\n",
    "\n",
    "plt.show()"
   ]
  },
  {
   "cell_type": "code",
   "execution_count": 76,
   "metadata": {},
   "outputs": [
    {
     "data": {
      "text/plain": [
       "0.00821779111011622"
      ]
     },
     "execution_count": 76,
     "metadata": {},
     "output_type": "execute_result"
    }
   ],
   "source": [
    "data['publication_day'].corr(data['last_price'])"
   ]
  },
  {
   "cell_type": "code",
   "execution_count": 77,
   "metadata": {},
   "outputs": [
    {
     "data": {
      "image/png": "[encoded data removed]",
      "text/plain": [
       "<Figure size 720x432 with 1 Axes>"
      ]
     },
     "metadata": {
      "needs_background": "light"
     },
     "output_type": "display_data"
    }
   ],
   "source": [
    "fig, ax = plt.subplots(figsize=(10, 6))\n",
    "ax.scatter(x = data['last_price'], y = data['publication_month'], color='orange')\n",
    "plt.xlabel(\"last_price\")\n",
    "plt.ylabel(\"publication_month\")\n",
    "\n",
    "plt.show()"
   ]
  },
  {
   "cell_type": "code",
   "execution_count": 78,
   "metadata": {},
   "outputs": [
    {
     "data": {
      "text/plain": [
       "0.0034918997546926583"
      ]
     },
     "execution_count": 78,
     "metadata": {},
     "output_type": "execute_result"
    }
   ],
   "source": [
    "data['publication_month'].corr(data['last_price'])"
   ]
  },
  {
   "cell_type": "code",
   "execution_count": 79,
   "metadata": {},
   "outputs": [
    {
     "data": {
      "image/png": "[encoded data removed]",
      "text/plain": [
       "<Figure size 720x432 with 1 Axes>"
      ]
     },
     "metadata": {
      "needs_background": "light"
     },
     "output_type": "display_data"
    }
   ],
   "source": [
    "fig, ax = plt.subplots(figsize=(10, 6))\n",
    "ax.scatter(x = data['last_price'], y = data['publication_year'], color='orange')\n",
    "plt.xlabel(\"last_price\")\n",
    "plt.ylabel(\"publication_year\")\n",
    "\n",
    "plt.show()"
   ]
  },
  {
   "cell_type": "code",
   "execution_count": 80,
   "metadata": {},
   "outputs": [
    {
     "data": {
      "text/plain": [
       "-0.05602757890183"
      ]
     },
     "execution_count": 80,
     "metadata": {},
     "output_type": "execute_result"
    }
   ],
   "source": [
    "data['publication_year'].corr(data['last_price'])"
   ]
  },
  {
   "cell_type": "markdown",
   "metadata": {},
   "source": [
    "**По результатам исследования можно сделать несколько первичных выводов:** \n",
    "\n",
    "- стоимость квартиры в целом зависит от площади, но на цену могут повлиять и другие факторы\n",
    "- зависимость стоимости от количества комнат есть, но корреляция слабая\n",
    "- чем ближе к центру, тем стоимость больше, но незначительно (корелляция слабая), значит важны и другие факторы\n",
    "- связи между стоимостью квартиры и тем, на каком этаже она находится, практически нет\n",
    "- от дня недели и месяца зависит мало, а вот с годом ситуация иная - в 2014 квартиры стоили дороже"
   ]
  },
  {
   "cell_type": "markdown",
   "metadata": {},
   "source": [
    "**Выберем 10 населённых пунктов с наибольшим числом объявлений и посчитаем среднюю цену квадратного метра в этих населённых пунктах.**"
   ]
  },
  {
   "cell_type": "code",
   "execution_count": 81,
   "metadata": {},
   "outputs": [
    {
     "data": {
      "text/html": [
       "<div>\n",
       "<style scoped>\n",
       "    .dataframe tbody tr th:only-of-type {\n",
       "        vertical-align: middle;\n",
       "    }\n",
       "\n",
       "    .dataframe tbody tr th {\n",
       "        vertical-align: top;\n",
       "    }\n",
       "\n",
       "    .dataframe thead th {\n",
       "        text-align: right;\n",
       "    }\n",
       "</style>\n",
       "<table border=\"1\" class=\"dataframe\">\n",
       "  <thead>\n",
       "    <tr style=\"text-align: right;\">\n",
       "      <th></th>\n",
       "      <th>first_day_exposition</th>\n",
       "    </tr>\n",
       "    <tr>\n",
       "      <th>locality_name</th>\n",
       "      <th></th>\n",
       "    </tr>\n",
       "  </thead>\n",
       "  <tbody>\n",
       "    <tr>\n",
       "      <th>Санкт-Петербург</th>\n",
       "      <td>15721</td>\n",
       "    </tr>\n",
       "    <tr>\n",
       "      <th>Мурино</th>\n",
       "      <td>590</td>\n",
       "    </tr>\n",
       "    <tr>\n",
       "      <th>Кудрово</th>\n",
       "      <td>472</td>\n",
       "    </tr>\n",
       "    <tr>\n",
       "      <th>Шушары</th>\n",
       "      <td>440</td>\n",
       "    </tr>\n",
       "    <tr>\n",
       "      <th>Всеволожск</th>\n",
       "      <td>398</td>\n",
       "    </tr>\n",
       "    <tr>\n",
       "      <th>Пушкин</th>\n",
       "      <td>369</td>\n",
       "    </tr>\n",
       "    <tr>\n",
       "      <th>Колпино</th>\n",
       "      <td>338</td>\n",
       "    </tr>\n",
       "    <tr>\n",
       "      <th>Парголово</th>\n",
       "      <td>327</td>\n",
       "    </tr>\n",
       "    <tr>\n",
       "      <th>Гатчина</th>\n",
       "      <td>307</td>\n",
       "    </tr>\n",
       "    <tr>\n",
       "      <th>Выборг</th>\n",
       "      <td>237</td>\n",
       "    </tr>\n",
       "  </tbody>\n",
       "</table>\n",
       "</div>"
      ],
      "text/plain": [
       "                 first_day_exposition\n",
       "locality_name                        \n",
       "Санкт-Петербург                 15721\n",
       "Мурино                            590\n",
       "Кудрово                           472\n",
       "Шушары                            440\n",
       "Всеволожск                        398\n",
       "Пушкин                            369\n",
       "Колпино                           338\n",
       "Парголово                         327\n",
       "Гатчина                           307\n",
       "Выборг                            237"
      ]
     },
     "metadata": {},
     "output_type": "display_data"
    }
   ],
   "source": [
    "#в новой переменной сохраним сводную таблицу с нужными столбцами, отсортируем по убыванию и выведем на экран \n",
    "#нужные нам 10 значений\n",
    "\n",
    "data_expo_count = data.pivot_table(index='locality_name', values='first_day_exposition', aggfunc='count')\n",
    "data_expo_count = data_expo_count.sort_values(by='first_day_exposition', ascending=False).head(10)\n",
    "display(data_expo_count)"
   ]
  },
  {
   "cell_type": "code",
   "execution_count": 82,
   "metadata": {},
   "outputs": [
    {
     "data": {
      "text/html": [
       "<div>\n",
       "<style scoped>\n",
       "    .dataframe tbody tr th:only-of-type {\n",
       "        vertical-align: middle;\n",
       "    }\n",
       "\n",
       "    .dataframe tbody tr th {\n",
       "        vertical-align: top;\n",
       "    }\n",
       "\n",
       "    .dataframe thead th {\n",
       "        text-align: right;\n",
       "    }\n",
       "</style>\n",
       "<table border=\"1\" class=\"dataframe\">\n",
       "  <thead>\n",
       "    <tr style=\"text-align: right;\">\n",
       "      <th></th>\n",
       "      <th>square_meter</th>\n",
       "    </tr>\n",
       "    <tr>\n",
       "      <th>locality_name</th>\n",
       "      <th></th>\n",
       "    </tr>\n",
       "  </thead>\n",
       "  <tbody>\n",
       "    <tr>\n",
       "      <th>Всеволожск</th>\n",
       "      <td>68654.473986</td>\n",
       "    </tr>\n",
       "    <tr>\n",
       "      <th>Выборг</th>\n",
       "      <td>58141.909153</td>\n",
       "    </tr>\n",
       "    <tr>\n",
       "      <th>Гатчина</th>\n",
       "      <td>68746.146763</td>\n",
       "    </tr>\n",
       "    <tr>\n",
       "      <th>Колпино</th>\n",
       "      <td>75424.579098</td>\n",
       "    </tr>\n",
       "    <tr>\n",
       "      <th>Кудрово</th>\n",
       "      <td>95324.930544</td>\n",
       "    </tr>\n",
       "    <tr>\n",
       "      <th>Мурино</th>\n",
       "      <td>86087.512050</td>\n",
       "    </tr>\n",
       "    <tr>\n",
       "      <th>Парголово</th>\n",
       "      <td>90175.913458</td>\n",
       "    </tr>\n",
       "    <tr>\n",
       "      <th>Пушкин</th>\n",
       "      <td>103125.819291</td>\n",
       "    </tr>\n",
       "    <tr>\n",
       "      <th>Санкт-Петербург</th>\n",
       "      <td>114849.008794</td>\n",
       "    </tr>\n",
       "    <tr>\n",
       "      <th>Шушары</th>\n",
       "      <td>78677.364217</td>\n",
       "    </tr>\n",
       "  </tbody>\n",
       "</table>\n",
       "</div>"
      ],
      "text/plain": [
       "                  square_meter\n",
       "locality_name                 \n",
       "Всеволожск        68654.473986\n",
       "Выборг            58141.909153\n",
       "Гатчина           68746.146763\n",
       "Колпино           75424.579098\n",
       "Кудрово           95324.930544\n",
       "Мурино            86087.512050\n",
       "Парголово         90175.913458\n",
       "Пушкин           103125.819291\n",
       "Санкт-Петербург  114849.008794\n",
       "Шушары            78677.364217"
      ]
     },
     "execution_count": 82,
     "metadata": {},
     "output_type": "execute_result"
    }
   ],
   "source": [
    "#используя полученные данные сделаем нужный срез и рассчитаем среднее значение стоимости квадратного метра \n",
    "\n",
    "data.query('locality_name == [\"Санкт-Петербург\", \"Мурино\", \"Кудрово\", \"Шушары\", \"Всеволожск\", \"Пушкин\", \"Колпино\", \"Парголово\", \"Гатчина\", \"Выборг\"]').pivot_table(index='locality_name', values='square_meter')"
   ]
  },
  {
   "cell_type": "markdown",
   "metadata": {},
   "source": [
    "**По результатам проверки можно сделать следующий вывод:**\n",
    "\n",
    "- самая высокая стоимость жилья в Санкт-Петербурге, в Кудрово и в Пушкине, а самая низкая - в Выборге, в Гатчине и во Всеволожске."
   ]
  },
  {
   "cell_type": "markdown",
   "metadata": {},
   "source": [
    "**Выделим квартиры в Санкт-Петербурге. Нам нужно будет проверить, какая область входит в центр и посмотреть, как цена будет зависеть от удалённости от центра.**"
   ]
  },
  {
   "cell_type": "code",
   "execution_count": 83,
   "metadata": {},
   "outputs": [
    {
     "data": {
      "image/png": "[encoded data removed]",
      "text/plain": [
       "<Figure size 720x360 with 1 Axes>"
      ]
     },
     "metadata": {
      "needs_background": "light"
     },
     "output_type": "display_data"
    }
   ],
   "source": [
    "#создадим новый столбец, в котором сохраним перевод в километры и округление до целый значений столбца city_centers_nearest\n",
    "#в новой переменной (она понадобится в дальнейшем) сохраним последовательность методов - нужный нам срез по Спб,\n",
    "#сводную таблицу по новому столбцу и средним для цены за квадратный метр, график по нашим данным\n",
    "\n",
    "data['spb_center_area'] = (data['city_centers_nearest'] / 1000).astype('int')\n",
    "spb_center_area = data.query('locality_name == \"Санкт-Петербург\"')\n",
    "data.query('locality_name == \"Санкт-Петербург\"').pivot_table(index='spb_center_area', values='square_meter').plot(grid=True, figsize=(10, 5));"
   ]
  },
  {
   "cell_type": "markdown",
   "metadata": {},
   "source": [
    "**Предположим, что область, входящая в центр - это срез от нуля до 7 км.**\n",
    "Изучим сегмент квартир в центре по следующим параметрам: \n",
    "\n",
    "- площадь, цена, число комнат, высота потолков.\n",
    "\n",
    "**Выделим факторы, которые влияют на стоимость квартиры (число комнат, этаж, удалённость от центра, дата размещения объявления) и сравним с общими данными.** "
   ]
  },
  {
   "cell_type": "code",
   "execution_count": 84,
   "metadata": {},
   "outputs": [
    {
     "data": {
      "text/html": [
       "<div>\n",
       "<style scoped>\n",
       "    .dataframe tbody tr th:only-of-type {\n",
       "        vertical-align: middle;\n",
       "    }\n",
       "\n",
       "    .dataframe tbody tr th {\n",
       "        vertical-align: top;\n",
       "    }\n",
       "\n",
       "    .dataframe thead th {\n",
       "        text-align: right;\n",
       "    }\n",
       "</style>\n",
       "<table border=\"1\" class=\"dataframe\">\n",
       "  <thead>\n",
       "    <tr style=\"text-align: right;\">\n",
       "      <th></th>\n",
       "      <th>total_images</th>\n",
       "      <th>last_price</th>\n",
       "      <th>total_area</th>\n",
       "      <th>first_day_exposition</th>\n",
       "      <th>rooms</th>\n",
       "      <th>ceiling_height</th>\n",
       "      <th>floors_total</th>\n",
       "      <th>living_area</th>\n",
       "      <th>floor</th>\n",
       "      <th>is_apartment</th>\n",
       "      <th>...</th>\n",
       "      <th>ponds_nearest</th>\n",
       "      <th>days_exposition</th>\n",
       "      <th>square_meter</th>\n",
       "      <th>publication_day</th>\n",
       "      <th>publication_month</th>\n",
       "      <th>publication_year</th>\n",
       "      <th>flat_floor_number</th>\n",
       "      <th>area_proportion</th>\n",
       "      <th>kitchen_area_proportion</th>\n",
       "      <th>spb_center_area</th>\n",
       "    </tr>\n",
       "  </thead>\n",
       "  <tbody>\n",
       "    <tr>\n",
       "      <th>0</th>\n",
       "      <td>20</td>\n",
       "      <td>13000000</td>\n",
       "      <td>108.0</td>\n",
       "      <td>2019-03-07</td>\n",
       "      <td>3</td>\n",
       "      <td>2.70</td>\n",
       "      <td>16</td>\n",
       "      <td>51.0</td>\n",
       "      <td>8</td>\n",
       "      <td>False</td>\n",
       "      <td>...</td>\n",
       "      <td>755.0</td>\n",
       "      <td>95</td>\n",
       "      <td>120370.370370</td>\n",
       "      <td>7</td>\n",
       "      <td>3</td>\n",
       "      <td>2019</td>\n",
       "      <td>другой</td>\n",
       "      <td>0.472222</td>\n",
       "      <td>0.231481</td>\n",
       "      <td>16</td>\n",
       "    </tr>\n",
       "    <tr>\n",
       "      <th>1</th>\n",
       "      <td>7</td>\n",
       "      <td>3350000</td>\n",
       "      <td>40.4</td>\n",
       "      <td>2018-12-04</td>\n",
       "      <td>1</td>\n",
       "      <td>2.65</td>\n",
       "      <td>11</td>\n",
       "      <td>18.6</td>\n",
       "      <td>1</td>\n",
       "      <td>False</td>\n",
       "      <td>...</td>\n",
       "      <td>502.0</td>\n",
       "      <td>81</td>\n",
       "      <td>82920.792079</td>\n",
       "      <td>4</td>\n",
       "      <td>12</td>\n",
       "      <td>2018</td>\n",
       "      <td>первый</td>\n",
       "      <td>0.460396</td>\n",
       "      <td>0.272277</td>\n",
       "      <td>18</td>\n",
       "    </tr>\n",
       "    <tr>\n",
       "      <th>2</th>\n",
       "      <td>10</td>\n",
       "      <td>5196000</td>\n",
       "      <td>56.0</td>\n",
       "      <td>2015-08-20</td>\n",
       "      <td>2</td>\n",
       "      <td>2.65</td>\n",
       "      <td>5</td>\n",
       "      <td>34.3</td>\n",
       "      <td>4</td>\n",
       "      <td>False</td>\n",
       "      <td>...</td>\n",
       "      <td>574.0</td>\n",
       "      <td>558</td>\n",
       "      <td>92785.714286</td>\n",
       "      <td>20</td>\n",
       "      <td>8</td>\n",
       "      <td>2015</td>\n",
       "      <td>другой</td>\n",
       "      <td>0.612500</td>\n",
       "      <td>0.148214</td>\n",
       "      <td>13</td>\n",
       "    </tr>\n",
       "    <tr>\n",
       "      <th>3</th>\n",
       "      <td>0</td>\n",
       "      <td>64900000</td>\n",
       "      <td>159.0</td>\n",
       "      <td>2015-07-24</td>\n",
       "      <td>3</td>\n",
       "      <td>2.65</td>\n",
       "      <td>14</td>\n",
       "      <td>30.0</td>\n",
       "      <td>9</td>\n",
       "      <td>False</td>\n",
       "      <td>...</td>\n",
       "      <td>234.0</td>\n",
       "      <td>424</td>\n",
       "      <td>408176.100629</td>\n",
       "      <td>24</td>\n",
       "      <td>7</td>\n",
       "      <td>2015</td>\n",
       "      <td>другой</td>\n",
       "      <td>0.188679</td>\n",
       "      <td>0.057233</td>\n",
       "      <td>6</td>\n",
       "    </tr>\n",
       "    <tr>\n",
       "      <th>4</th>\n",
       "      <td>2</td>\n",
       "      <td>10000000</td>\n",
       "      <td>100.0</td>\n",
       "      <td>2018-06-19</td>\n",
       "      <td>2</td>\n",
       "      <td>3.03</td>\n",
       "      <td>14</td>\n",
       "      <td>32.0</td>\n",
       "      <td>13</td>\n",
       "      <td>False</td>\n",
       "      <td>...</td>\n",
       "      <td>48.0</td>\n",
       "      <td>121</td>\n",
       "      <td>100000.000000</td>\n",
       "      <td>19</td>\n",
       "      <td>6</td>\n",
       "      <td>2018</td>\n",
       "      <td>другой</td>\n",
       "      <td>0.320000</td>\n",
       "      <td>0.410000</td>\n",
       "      <td>8</td>\n",
       "    </tr>\n",
       "  </tbody>\n",
       "</table>\n",
       "<p>5 rows × 30 columns</p>\n",
       "</div>"
      ],
      "text/plain": [
       "   total_images  last_price  total_area first_day_exposition  rooms  \\\n",
       "0            20    13000000       108.0           2019-03-07      3   \n",
       "1             7     3350000        40.4           2018-12-04      1   \n",
       "2            10     5196000        56.0           2015-08-20      2   \n",
       "3             0    64900000       159.0           2015-07-24      3   \n",
       "4             2    10000000       100.0           2018-06-19      2   \n",
       "\n",
       "   ceiling_height  floors_total  living_area  floor  is_apartment  ...  \\\n",
       "0            2.70            16         51.0      8         False  ...   \n",
       "1            2.65            11         18.6      1         False  ...   \n",
       "2            2.65             5         34.3      4         False  ...   \n",
       "3            2.65            14         30.0      9         False  ...   \n",
       "4            3.03            14         32.0     13         False  ...   \n",
       "\n",
       "   ponds_nearest  days_exposition   square_meter  publication_day  \\\n",
       "0          755.0               95  120370.370370                7   \n",
       "1          502.0               81   82920.792079                4   \n",
       "2          574.0              558   92785.714286               20   \n",
       "3          234.0              424  408176.100629               24   \n",
       "4           48.0              121  100000.000000               19   \n",
       "\n",
       "  publication_month  publication_year  flat_floor_number  area_proportion  \\\n",
       "0                 3              2019             другой         0.472222   \n",
       "1                12              2018             первый         0.460396   \n",
       "2                 8              2015             другой         0.612500   \n",
       "3                 7              2015             другой         0.188679   \n",
       "4                 6              2018             другой         0.320000   \n",
       "\n",
       "   kitchen_area_proportion  spb_center_area  \n",
       "0                 0.231481               16  \n",
       "1                 0.272277               18  \n",
       "2                 0.148214               13  \n",
       "3                 0.057233                6  \n",
       "4                 0.410000                8  \n",
       "\n",
       "[5 rows x 30 columns]"
      ]
     },
     "metadata": {},
     "output_type": "display_data"
    }
   ],
   "source": [
    "#присоединим к нашей исходной таблице новую таблицу с данными по Санкт-Петербургу с помощью метода merge()\n",
    "\n",
    "data.merge(spb_center_area, on='square_meter')\n",
    "display(data.head())"
   ]
  },
  {
   "cell_type": "code",
   "execution_count": 102,
   "metadata": {},
   "outputs": [
    {
     "data": {
      "image/png": "[encoded data removed]",
      "text/plain": [
       "<Figure size 720x360 with 1 Axes>"
      ]
     },
     "metadata": {
      "needs_background": "light"
     },
     "output_type": "display_data"
    }
   ],
   "source": [
    "#возьмём нужный срез по центральной области и с помощью сводной таблицы и линейного графика проверим связь стоимости от \n",
    "#интересующих нас параметров\n",
    "\n",
    "data.query('spb_center_area >=0 and spb_center_area <7').pivot_table(index='spb_center_area', values='total_area', aggfunc='median').plot(grid=True, figsize=(10, 5));"
   ]
  },
  {
   "cell_type": "code",
   "execution_count": 87,
   "metadata": {},
   "outputs": [
    {
     "data": {
      "text/plain": [
       "-0.21445979062109954"
      ]
     },
     "execution_count": 87,
     "metadata": {},
     "output_type": "execute_result"
    }
   ],
   "source": [
    "#проверим корреляцию\n",
    "\n",
    "data['total_area'].corr(data['spb_center_area'])"
   ]
  },
  {
   "cell_type": "code",
   "execution_count": 103,
   "metadata": {},
   "outputs": [
    {
     "data": {
      "image/png": "[encoded data removed]",
      "text/plain": [
       "<Figure size 720x360 with 1 Axes>"
      ]
     },
     "metadata": {
      "needs_background": "light"
     },
     "output_type": "display_data"
    }
   ],
   "source": [
    "data.query('spb_center_area >=0 and spb_center_area <7').pivot_table(index='spb_center_area', values='last_price', aggfunc='median').plot(grid=True, figsize=(10, 5));"
   ]
  },
  {
   "cell_type": "code",
   "execution_count": 90,
   "metadata": {},
   "outputs": [
    {
     "data": {
      "text/plain": [
       "-0.26146964416927154"
      ]
     },
     "execution_count": 90,
     "metadata": {},
     "output_type": "execute_result"
    }
   ],
   "source": [
    "data['last_price'].corr(data['spb_center_area'])"
   ]
  },
  {
   "cell_type": "code",
   "execution_count": 104,
   "metadata": {},
   "outputs": [
    {
     "data": {
      "image/png": "[encoded data removed]",
      "text/plain": [
       "<Figure size 720x360 with 1 Axes>"
      ]
     },
     "metadata": {
      "needs_background": "light"
     },
     "output_type": "display_data"
    }
   ],
   "source": [
    "data.query('spb_center_area >=0 and spb_center_area <7').pivot_table(index='spb_center_area', values='rooms', aggfunc='median').plot(grid=True, figsize=(10, 5));"
   ]
  },
  {
   "cell_type": "code",
   "execution_count": 92,
   "metadata": {},
   "outputs": [
    {
     "data": {
      "text/plain": [
       "-0.16417313932608485"
      ]
     },
     "execution_count": 92,
     "metadata": {},
     "output_type": "execute_result"
    }
   ],
   "source": [
    "data['rooms'].corr(data['spb_center_area'])"
   ]
  },
  {
   "cell_type": "code",
   "execution_count": 105,
   "metadata": {},
   "outputs": [
    {
     "data": {
      "image/png": "[encoded data removed]",
      "text/plain": [
       "<Figure size 720x360 with 1 Axes>"
      ]
     },
     "metadata": {
      "needs_background": "light"
     },
     "output_type": "display_data"
    }
   ],
   "source": [
    "data.query('spb_center_area >=0 and spb_center_area <7').pivot_table(index='spb_center_area', values='ceiling_height', aggfunc='median').plot(grid=True, figsize=(10, 5));"
   ]
  },
  {
   "cell_type": "code",
   "execution_count": 94,
   "metadata": {},
   "outputs": [
    {
     "data": {
      "text/plain": [
       "-0.26560478071476085"
      ]
     },
     "execution_count": 94,
     "metadata": {},
     "output_type": "execute_result"
    }
   ],
   "source": [
    "data['ceiling_height'].corr(data['spb_center_area'])"
   ]
  },
  {
   "cell_type": "markdown",
   "metadata": {},
   "source": [
    "**Отрицательная корреляция для каждого из параметров говорит о том, что при увеличении одной переменной, вторая будет уменьшаться. В отношении наших данных это выглядит следующим образом:** \n",
    "\n",
    " - чем ближе к центру, тем больше площадь \n",
    " - чем ближе к центру, тем выше цена \n",
    " - чем ближе к центру, тем больше комнат (при этом тут связь самая слабая)\n",
    " - чем ближе к центру, тем выше потолки \n",
    " \n",
    "**Теперь определим факторы, влияющие на стоимость квартиры.**"
   ]
  },
  {
   "cell_type": "code",
   "execution_count": 119,
   "metadata": {},
   "outputs": [
    {
     "data": {
      "image/png": "[encoded data removed]",
      "text/plain": [
       "<Figure size 720x360 with 1 Axes>"
      ]
     },
     "metadata": {
      "needs_background": "light"
     },
     "output_type": "display_data"
    }
   ],
   "source": [
    "data.query('spb_center_area >=0 and spb_center_area <7').pivot_table(index='rooms', values='last_price', aggfunc='median').plot(grid=True, figsize=(10, 5));"
   ]
  },
  {
   "cell_type": "code",
   "execution_count": 115,
   "metadata": {},
   "outputs": [
    {
     "data": {
      "image/png": "[encoded data removed]",
      "text/plain": [
       "<Figure size 720x360 with 1 Axes>"
      ]
     },
     "metadata": {
      "needs_background": "light"
     },
     "output_type": "display_data"
    }
   ],
   "source": [
    "data.query('spb_center_area >=0 and spb_center_area <7').pivot_table(index='flat_floor_number', values='last_price', aggfunc='median').plot(grid=True, figsize=(10, 5));"
   ]
  },
  {
   "cell_type": "code",
   "execution_count": 114,
   "metadata": {},
   "outputs": [
    {
     "data": {
      "image/png": "[encoded data removed]",
      "text/plain": [
       "<Figure size 720x360 with 1 Axes>"
      ]
     },
     "metadata": {
      "needs_background": "light"
     },
     "output_type": "display_data"
    }
   ],
   "source": [
    "data.query('spb_center_area >=0 and spb_center_area <7').pivot_table(index='publication_day', values='last_price', aggfunc='median').plot(grid=True, figsize=(10, 5));"
   ]
  },
  {
   "cell_type": "code",
   "execution_count": 113,
   "metadata": {},
   "outputs": [
    {
     "data": {
      "image/png": "[encoded data removed]",
      "text/plain": [
       "<Figure size 720x360 with 1 Axes>"
      ]
     },
     "metadata": {
      "needs_background": "light"
     },
     "output_type": "display_data"
    }
   ],
   "source": [
    "data.query('spb_center_area >=0 and spb_center_area <7').pivot_table(index='publication_month', values='last_price', aggfunc='median').plot(grid=True, figsize=(10, 5));"
   ]
  },
  {
   "cell_type": "code",
   "execution_count": 112,
   "metadata": {},
   "outputs": [
    {
     "data": {
      "image/png": "[encoded data removed]",
      "text/plain": [
       "<Figure size 720x360 with 1 Axes>"
      ]
     },
     "metadata": {
      "needs_background": "light"
     },
     "output_type": "display_data"
    }
   ],
   "source": [
    "data.query('spb_center_area >=0 and spb_center_area <7').pivot_table(index='publication_year', values='last_price', aggfunc='median').plot(grid=True, figsize=(10, 5));"
   ]
  },
  {
   "cell_type": "markdown",
   "metadata": {},
   "source": [
    "В целом, данные по Санкт-Петербургу не сильно отличаются от общих выводов по всей базе. \n",
    "\n",
    "На первом этаже стоимость чуть ниже; \n",
    "\n",
    "Чем больше комнат, тем выше цена;\n",
    "\n",
    "10-го и 25-го числа стоимость выше, чем в другие дни;\n",
    "\n",
    "В 9-ом месяце пик стоимости;\n",
    "\n",
    "В 2014 стоимость была выше, чем в последующие годы. "
   ]
  },
  {
   "cell_type": "markdown",
   "metadata": {},
   "source": [
    "# Общий вывод"
   ]
  },
  {
   "cell_type": "markdown",
   "metadata": {},
   "source": [
    "**По итогам исследования можно сделать вывод о том, что стоимость квартиры в целом зависит от площади и удалённости от центра, но на цену могут повлиять и другие факторы.** \n",
    "\n",
    "**Связи между стоимостью квартиры и тем, на каком этаже она находится, практически нет. В 2014-м году квартиры стоили дороже.**"
   ]
  }
 ],
 "metadata": {
  "ExecuteTimeLog": [
   {
    "duration": 437,
    "start_time": "2022-04-22T08:27:37.856Z"
   },
   {
    "duration": 71,
    "start_time": "2022-04-22T08:27:39.297Z"
   },
   {
    "duration": 14,
    "start_time": "2022-04-22T08:28:24.857Z"
   },
   {
    "duration": 7,
    "start_time": "2022-04-22T08:31:51.817Z"
   },
   {
    "duration": 78,
    "start_time": "2022-04-22T08:34:33.850Z"
   },
   {
    "duration": 7,
    "start_time": "2022-04-22T08:34:34.764Z"
   },
   {
    "duration": 77,
    "start_time": "2022-04-22T08:36:10.019Z"
   },
   {
    "duration": 27,
    "start_time": "2022-04-22T08:36:10.914Z"
   },
   {
    "duration": 16,
    "start_time": "2022-04-22T08:44:15.592Z"
   },
   {
    "duration": 23,
    "start_time": "2022-04-22T08:47:40.381Z"
   },
   {
    "duration": 46,
    "start_time": "2022-04-22T08:54:13.696Z"
   },
   {
    "duration": 6,
    "start_time": "2022-04-22T08:54:48.897Z"
   },
   {
    "duration": 5,
    "start_time": "2022-04-22T08:55:05.067Z"
   },
   {
    "duration": 5,
    "start_time": "2022-04-22T08:56:15.057Z"
   },
   {
    "duration": 9,
    "start_time": "2022-04-22T09:30:26.903Z"
   },
   {
    "duration": 11,
    "start_time": "2022-04-22T09:30:38.736Z"
   },
   {
    "duration": 4,
    "start_time": "2022-04-22T09:30:45.375Z"
   },
   {
    "duration": 87,
    "start_time": "2022-04-22T09:30:45.385Z"
   },
   {
    "duration": 9,
    "start_time": "2022-04-22T09:30:45.475Z"
   },
   {
    "duration": 88,
    "start_time": "2022-04-22T09:30:45.489Z"
   },
   {
    "duration": 29,
    "start_time": "2022-04-22T09:30:45.579Z"
   },
   {
    "duration": 16,
    "start_time": "2022-04-22T09:30:45.610Z"
   },
   {
    "duration": 54,
    "start_time": "2022-04-22T09:30:45.628Z"
   },
   {
    "duration": 8,
    "start_time": "2022-04-22T09:30:45.683Z"
   },
   {
    "duration": 9,
    "start_time": "2022-04-22T09:30:45.693Z"
   },
   {
    "duration": 6,
    "start_time": "2022-04-22T09:30:45.703Z"
   },
   {
    "duration": 8,
    "start_time": "2022-04-22T09:30:45.711Z"
   },
   {
    "duration": 9,
    "start_time": "2022-04-22T09:30:45.720Z"
   },
   {
    "duration": 20,
    "start_time": "2022-04-22T09:30:45.731Z"
   },
   {
    "duration": 28,
    "start_time": "2022-04-22T09:30:45.753Z"
   },
   {
    "duration": 7,
    "start_time": "2022-04-22T09:31:16.099Z"
   },
   {
    "duration": 9,
    "start_time": "2022-04-22T09:31:27.790Z"
   },
   {
    "duration": 5,
    "start_time": "2022-04-22T09:31:46.223Z"
   },
   {
    "duration": 7,
    "start_time": "2022-04-22T09:31:55.574Z"
   },
   {
    "duration": 6,
    "start_time": "2022-04-22T09:32:12.186Z"
   },
   {
    "duration": 9,
    "start_time": "2022-04-22T09:32:35.174Z"
   },
   {
    "duration": 5,
    "start_time": "2022-04-22T09:33:05.463Z"
   },
   {
    "duration": 7,
    "start_time": "2022-04-22T09:33:26.351Z"
   },
   {
    "duration": 5,
    "start_time": "2022-04-22T09:33:44.897Z"
   },
   {
    "duration": 6,
    "start_time": "2022-04-22T09:34:39.553Z"
   },
   {
    "duration": 6,
    "start_time": "2022-04-22T09:35:03.562Z"
   },
   {
    "duration": 5,
    "start_time": "2022-04-22T09:35:21.765Z"
   },
   {
    "duration": 4,
    "start_time": "2022-04-22T09:35:46.549Z"
   },
   {
    "duration": 4,
    "start_time": "2022-04-22T09:36:08.769Z"
   },
   {
    "duration": 12,
    "start_time": "2022-04-22T09:36:30.710Z"
   },
   {
    "duration": 5,
    "start_time": "2022-04-22T09:36:57.069Z"
   },
   {
    "duration": 7,
    "start_time": "2022-04-22T09:37:15.995Z"
   },
   {
    "duration": 5,
    "start_time": "2022-04-22T09:38:18.243Z"
   },
   {
    "duration": 8,
    "start_time": "2022-04-22T09:38:38.044Z"
   },
   {
    "duration": 7,
    "start_time": "2022-04-22T09:39:01.887Z"
   },
   {
    "duration": 12,
    "start_time": "2022-04-22T09:39:46.288Z"
   },
   {
    "duration": 5,
    "start_time": "2022-04-22T09:40:13.701Z"
   },
   {
    "duration": 8,
    "start_time": "2022-04-22T09:40:34.801Z"
   },
   {
    "duration": 6,
    "start_time": "2022-04-22T09:40:56.575Z"
   },
   {
    "duration": 440,
    "start_time": "2022-04-23T11:32:22.770Z"
   },
   {
    "duration": 69,
    "start_time": "2022-04-23T11:32:23.212Z"
   },
   {
    "duration": 15,
    "start_time": "2022-04-23T11:32:23.283Z"
   },
   {
    "duration": 72,
    "start_time": "2022-04-23T11:32:23.300Z"
   },
   {
    "duration": 39,
    "start_time": "2022-04-23T11:32:23.375Z"
   },
   {
    "duration": 16,
    "start_time": "2022-04-23T11:32:23.415Z"
   },
   {
    "duration": 22,
    "start_time": "2022-04-23T11:32:23.433Z"
   },
   {
    "duration": 4,
    "start_time": "2022-04-23T11:32:23.456Z"
   },
   {
    "duration": 30,
    "start_time": "2022-04-23T11:32:23.462Z"
   },
   {
    "duration": 4,
    "start_time": "2022-04-23T11:32:23.494Z"
   },
   {
    "duration": 6,
    "start_time": "2022-04-23T11:32:23.500Z"
   },
   {
    "duration": 5,
    "start_time": "2022-04-23T11:32:23.508Z"
   },
   {
    "duration": 6,
    "start_time": "2022-04-23T11:32:23.515Z"
   },
   {
    "duration": 6,
    "start_time": "2022-04-23T11:32:23.523Z"
   },
   {
    "duration": 8,
    "start_time": "2022-04-23T11:32:23.531Z"
   },
   {
    "duration": 6,
    "start_time": "2022-04-23T11:32:23.541Z"
   },
   {
    "duration": 17,
    "start_time": "2022-04-23T11:32:23.549Z"
   },
   {
    "duration": 28,
    "start_time": "2022-04-23T11:32:23.567Z"
   },
   {
    "duration": 6,
    "start_time": "2022-04-23T11:32:23.597Z"
   },
   {
    "duration": 15,
    "start_time": "2022-04-23T11:32:23.605Z"
   },
   {
    "duration": 4,
    "start_time": "2022-04-23T11:32:23.621Z"
   },
   {
    "duration": 10,
    "start_time": "2022-04-23T11:32:23.626Z"
   },
   {
    "duration": 9,
    "start_time": "2022-04-23T11:32:23.637Z"
   },
   {
    "duration": 11,
    "start_time": "2022-04-23T11:32:23.648Z"
   },
   {
    "duration": 6,
    "start_time": "2022-04-23T11:32:23.661Z"
   },
   {
    "duration": 11,
    "start_time": "2022-04-23T11:32:23.692Z"
   },
   {
    "duration": 5,
    "start_time": "2022-04-23T11:32:23.704Z"
   },
   {
    "duration": 8,
    "start_time": "2022-04-23T11:32:23.710Z"
   },
   {
    "duration": 13,
    "start_time": "2022-04-23T11:32:23.719Z"
   },
   {
    "duration": 6,
    "start_time": "2022-04-23T13:18:40.215Z"
   },
   {
    "duration": 6,
    "start_time": "2022-04-23T13:56:12.027Z"
   },
   {
    "duration": 7,
    "start_time": "2022-04-23T13:56:47.158Z"
   },
   {
    "duration": 9,
    "start_time": "2022-04-23T13:57:12.437Z"
   },
   {
    "duration": 8,
    "start_time": "2022-04-23T13:57:33.127Z"
   },
   {
    "duration": 6,
    "start_time": "2022-04-23T14:02:57.348Z"
   },
   {
    "duration": 10,
    "start_time": "2022-04-23T14:03:06.967Z"
   },
   {
    "duration": 11,
    "start_time": "2022-04-23T14:03:30.377Z"
   },
   {
    "duration": 10,
    "start_time": "2022-04-23T14:04:31.208Z"
   },
   {
    "duration": 13,
    "start_time": "2022-04-23T14:04:36.969Z"
   },
   {
    "duration": 3,
    "start_time": "2022-04-23T14:06:17.337Z"
   },
   {
    "duration": 65,
    "start_time": "2022-04-23T14:06:51.418Z"
   },
   {
    "duration": 3,
    "start_time": "2022-04-23T14:07:52.196Z"
   },
   {
    "duration": 61,
    "start_time": "2022-04-23T14:07:52.201Z"
   },
   {
    "duration": 7,
    "start_time": "2022-04-23T14:07:52.264Z"
   },
   {
    "duration": 85,
    "start_time": "2022-04-23T14:07:52.272Z"
   },
   {
    "duration": 25,
    "start_time": "2022-04-23T14:07:52.358Z"
   },
   {
    "duration": 15,
    "start_time": "2022-04-23T14:07:52.393Z"
   },
   {
    "duration": 23,
    "start_time": "2022-04-23T14:07:52.410Z"
   },
   {
    "duration": 9,
    "start_time": "2022-04-23T14:07:52.435Z"
   },
   {
    "duration": 14,
    "start_time": "2022-04-23T14:07:52.446Z"
   },
   {
    "duration": 32,
    "start_time": "2022-04-23T14:07:52.462Z"
   },
   {
    "duration": 13,
    "start_time": "2022-04-23T14:07:52.496Z"
   },
   {
    "duration": 9,
    "start_time": "2022-04-23T14:07:52.510Z"
   },
   {
    "duration": 10,
    "start_time": "2022-04-23T14:07:52.520Z"
   },
   {
    "duration": 11,
    "start_time": "2022-04-23T14:07:52.531Z"
   },
   {
    "duration": 9,
    "start_time": "2022-04-23T14:07:52.544Z"
   },
   {
    "duration": 9,
    "start_time": "2022-04-23T14:07:52.555Z"
   },
   {
    "duration": 43,
    "start_time": "2022-04-23T14:07:52.594Z"
   },
   {
    "duration": 11,
    "start_time": "2022-04-23T14:07:52.639Z"
   },
   {
    "duration": 8,
    "start_time": "2022-04-23T14:07:52.651Z"
   },
   {
    "duration": 9,
    "start_time": "2022-04-23T14:07:52.661Z"
   },
   {
    "duration": 27,
    "start_time": "2022-04-23T14:07:52.671Z"
   },
   {
    "duration": 11,
    "start_time": "2022-04-23T14:07:52.700Z"
   },
   {
    "duration": 10,
    "start_time": "2022-04-23T14:07:52.712Z"
   },
   {
    "duration": 10,
    "start_time": "2022-04-23T14:07:52.724Z"
   },
   {
    "duration": 6,
    "start_time": "2022-04-23T14:07:52.736Z"
   },
   {
    "duration": 11,
    "start_time": "2022-04-23T14:07:52.743Z"
   },
   {
    "duration": 7,
    "start_time": "2022-04-23T14:07:52.755Z"
   },
   {
    "duration": 34,
    "start_time": "2022-04-23T14:07:52.764Z"
   },
   {
    "duration": 10,
    "start_time": "2022-04-23T14:07:52.800Z"
   },
   {
    "duration": 5,
    "start_time": "2022-04-23T14:29:30.436Z"
   },
   {
    "duration": 14,
    "start_time": "2022-04-23T14:30:09.516Z"
   },
   {
    "duration": 5,
    "start_time": "2022-04-23T14:33:01.955Z"
   },
   {
    "duration": 14,
    "start_time": "2022-04-23T14:33:03.086Z"
   },
   {
    "duration": 2,
    "start_time": "2022-04-23T14:34:33.426Z"
   },
   {
    "duration": 71,
    "start_time": "2022-04-23T14:34:33.430Z"
   },
   {
    "duration": 7,
    "start_time": "2022-04-23T14:34:33.503Z"
   },
   {
    "duration": 86,
    "start_time": "2022-04-23T14:34:33.512Z"
   },
   {
    "duration": 25,
    "start_time": "2022-04-23T14:34:33.601Z"
   },
   {
    "duration": 16,
    "start_time": "2022-04-23T14:34:33.628Z"
   },
   {
    "duration": 5,
    "start_time": "2022-04-23T14:34:33.646Z"
   },
   {
    "duration": 45,
    "start_time": "2022-04-23T14:34:33.653Z"
   },
   {
    "duration": 24,
    "start_time": "2022-04-23T14:34:33.701Z"
   },
   {
    "duration": 8,
    "start_time": "2022-04-23T14:34:33.727Z"
   },
   {
    "duration": 15,
    "start_time": "2022-04-23T14:34:33.738Z"
   },
   {
    "duration": 9,
    "start_time": "2022-04-23T14:34:33.755Z"
   },
   {
    "duration": 13,
    "start_time": "2022-04-23T14:34:33.793Z"
   },
   {
    "duration": 10,
    "start_time": "2022-04-23T14:34:33.807Z"
   },
   {
    "duration": 20,
    "start_time": "2022-04-23T14:34:33.818Z"
   },
   {
    "duration": 11,
    "start_time": "2022-04-23T14:34:33.839Z"
   },
   {
    "duration": 12,
    "start_time": "2022-04-23T14:34:33.852Z"
   },
   {
    "duration": 31,
    "start_time": "2022-04-23T14:34:33.865Z"
   },
   {
    "duration": 10,
    "start_time": "2022-04-23T14:34:33.898Z"
   },
   {
    "duration": 14,
    "start_time": "2022-04-23T14:34:33.909Z"
   },
   {
    "duration": 10,
    "start_time": "2022-04-23T14:34:33.925Z"
   },
   {
    "duration": 12,
    "start_time": "2022-04-23T14:34:33.937Z"
   },
   {
    "duration": 8,
    "start_time": "2022-04-23T14:34:33.951Z"
   },
   {
    "duration": 41,
    "start_time": "2022-04-23T14:34:33.961Z"
   },
   {
    "duration": 12,
    "start_time": "2022-04-23T14:34:34.004Z"
   },
   {
    "duration": 12,
    "start_time": "2022-04-23T14:34:34.018Z"
   },
   {
    "duration": 13,
    "start_time": "2022-04-23T14:34:34.032Z"
   },
   {
    "duration": 11,
    "start_time": "2022-04-23T14:34:34.047Z"
   },
   {
    "duration": 8,
    "start_time": "2022-04-23T14:34:34.094Z"
   },
   {
    "duration": 11,
    "start_time": "2022-04-23T14:34:34.104Z"
   },
   {
    "duration": 10,
    "start_time": "2022-04-23T14:34:34.117Z"
   },
   {
    "duration": 10,
    "start_time": "2022-04-23T16:32:24.656Z"
   },
   {
    "duration": 11,
    "start_time": "2022-04-23T16:32:40.346Z"
   },
   {
    "duration": 37,
    "start_time": "2022-04-23T16:52:22.658Z"
   },
   {
    "duration": 75,
    "start_time": "2022-04-23T16:53:52.417Z"
   },
   {
    "duration": 7,
    "start_time": "2022-04-23T16:54:24.125Z"
   },
   {
    "duration": 5,
    "start_time": "2022-04-23T16:55:32.706Z"
   },
   {
    "duration": 4,
    "start_time": "2022-04-23T18:03:14.210Z"
   },
   {
    "duration": 16,
    "start_time": "2022-04-23T18:03:15.859Z"
   },
   {
    "duration": 861,
    "start_time": "2022-04-23T18:52:23.120Z"
   },
   {
    "duration": 959,
    "start_time": "2022-04-23T18:52:44.089Z"
   },
   {
    "duration": 20,
    "start_time": "2022-04-23T18:52:45.091Z"
   },
   {
    "duration": 7,
    "start_time": "2022-04-23T18:53:43.318Z"
   },
   {
    "duration": 14,
    "start_time": "2022-04-23T18:53:46.199Z"
   },
   {
    "duration": 15,
    "start_time": "2022-04-23T19:08:37.650Z"
   },
   {
    "duration": 126,
    "start_time": "2022-04-23T19:09:02.220Z"
   },
   {
    "duration": 12,
    "start_time": "2022-04-23T19:09:04.515Z"
   },
   {
    "duration": 111,
    "start_time": "2022-04-23T19:09:07.399Z"
   },
   {
    "duration": 12,
    "start_time": "2022-04-23T19:09:09.072Z"
   },
   {
    "duration": 7,
    "start_time": "2022-04-23T19:09:45.561Z"
   },
   {
    "duration": 8,
    "start_time": "2022-04-23T19:10:04.998Z"
   },
   {
    "duration": 114,
    "start_time": "2022-04-23T19:11:14.742Z"
   },
   {
    "duration": 107,
    "start_time": "2022-04-23T19:13:13.511Z"
   },
   {
    "duration": 152,
    "start_time": "2022-04-23T19:13:15.190Z"
   },
   {
    "duration": 6,
    "start_time": "2022-04-23T19:13:36.130Z"
   },
   {
    "duration": 11,
    "start_time": "2022-04-23T19:13:57.741Z"
   },
   {
    "duration": 2,
    "start_time": "2022-04-23T19:14:05.412Z"
   },
   {
    "duration": 69,
    "start_time": "2022-04-23T19:14:05.416Z"
   },
   {
    "duration": 7,
    "start_time": "2022-04-23T19:14:05.487Z"
   },
   {
    "duration": 86,
    "start_time": "2022-04-23T19:14:05.495Z"
   },
   {
    "duration": 32,
    "start_time": "2022-04-23T19:14:05.583Z"
   },
   {
    "duration": 14,
    "start_time": "2022-04-23T19:14:05.616Z"
   },
   {
    "duration": 6,
    "start_time": "2022-04-23T19:14:05.631Z"
   },
   {
    "duration": 13,
    "start_time": "2022-04-23T19:14:05.639Z"
   },
   {
    "duration": 55,
    "start_time": "2022-04-23T19:14:05.654Z"
   },
   {
    "duration": 9,
    "start_time": "2022-04-23T19:14:05.710Z"
   },
   {
    "duration": 11,
    "start_time": "2022-04-23T19:14:05.721Z"
   },
   {
    "duration": 5,
    "start_time": "2022-04-23T19:14:05.733Z"
   },
   {
    "duration": 11,
    "start_time": "2022-04-23T19:14:05.739Z"
   },
   {
    "duration": 42,
    "start_time": "2022-04-23T19:14:05.752Z"
   },
   {
    "duration": 8,
    "start_time": "2022-04-23T19:14:05.795Z"
   },
   {
    "duration": 9,
    "start_time": "2022-04-23T19:14:05.805Z"
   },
   {
    "duration": 14,
    "start_time": "2022-04-23T19:14:05.815Z"
   },
   {
    "duration": 139,
    "start_time": "2022-04-23T19:14:05.831Z"
   },
   {
    "duration": 161,
    "start_time": "2022-04-23T19:14:05.972Z"
   },
   {
    "duration": 11,
    "start_time": "2022-04-23T19:14:06.134Z"
   },
   {
    "duration": 10,
    "start_time": "2022-04-23T19:14:06.146Z"
   },
   {
    "duration": 13,
    "start_time": "2022-04-23T19:14:06.158Z"
   },
   {
    "duration": 28,
    "start_time": "2022-04-23T19:14:06.172Z"
   },
   {
    "duration": 9,
    "start_time": "2022-04-23T19:14:06.202Z"
   },
   {
    "duration": 10,
    "start_time": "2022-04-23T19:14:06.213Z"
   },
   {
    "duration": 7,
    "start_time": "2022-04-23T19:14:06.225Z"
   },
   {
    "duration": 9,
    "start_time": "2022-04-23T19:14:06.233Z"
   },
   {
    "duration": 8,
    "start_time": "2022-04-23T19:14:06.244Z"
   },
   {
    "duration": 13,
    "start_time": "2022-04-23T19:14:06.292Z"
   },
   {
    "duration": 11,
    "start_time": "2022-04-23T19:14:06.307Z"
   },
   {
    "duration": 11,
    "start_time": "2022-04-23T19:14:06.320Z"
   },
   {
    "duration": 8,
    "start_time": "2022-04-23T19:14:06.332Z"
   },
   {
    "duration": 12,
    "start_time": "2022-04-23T19:14:06.341Z"
   },
   {
    "duration": 44,
    "start_time": "2022-04-23T19:14:06.355Z"
   },
   {
    "duration": 10,
    "start_time": "2022-04-23T19:14:06.401Z"
   },
   {
    "duration": 10,
    "start_time": "2022-04-23T19:14:06.413Z"
   },
   {
    "duration": 102,
    "start_time": "2022-04-23T19:17:57.859Z"
   },
   {
    "duration": 114,
    "start_time": "2022-04-23T19:18:03.628Z"
   },
   {
    "duration": 10,
    "start_time": "2022-04-23T19:18:04.473Z"
   },
   {
    "duration": 104,
    "start_time": "2022-04-23T19:20:45.408Z"
   },
   {
    "duration": 10,
    "start_time": "2022-04-23T19:20:46.770Z"
   },
   {
    "duration": 2,
    "start_time": "2022-04-23T19:20:54.481Z"
   },
   {
    "duration": 77,
    "start_time": "2022-04-23T19:20:54.485Z"
   },
   {
    "duration": 7,
    "start_time": "2022-04-23T19:20:54.564Z"
   },
   {
    "duration": 81,
    "start_time": "2022-04-23T19:20:54.573Z"
   },
   {
    "duration": 39,
    "start_time": "2022-04-23T19:20:54.657Z"
   },
   {
    "duration": 15,
    "start_time": "2022-04-23T19:20:54.698Z"
   },
   {
    "duration": 5,
    "start_time": "2022-04-23T19:20:54.715Z"
   },
   {
    "duration": 15,
    "start_time": "2022-04-23T19:20:54.722Z"
   },
   {
    "duration": 22,
    "start_time": "2022-04-23T19:20:54.739Z"
   },
   {
    "duration": 37,
    "start_time": "2022-04-23T19:20:54.762Z"
   },
   {
    "duration": 12,
    "start_time": "2022-04-23T19:20:54.803Z"
   },
   {
    "duration": 4,
    "start_time": "2022-04-23T19:20:54.817Z"
   },
   {
    "duration": 11,
    "start_time": "2022-04-23T19:20:54.823Z"
   },
   {
    "duration": 12,
    "start_time": "2022-04-23T19:20:54.835Z"
   },
   {
    "duration": 7,
    "start_time": "2022-04-23T19:20:54.849Z"
   },
   {
    "duration": 40,
    "start_time": "2022-04-23T19:20:54.857Z"
   },
   {
    "duration": 15,
    "start_time": "2022-04-23T19:20:54.899Z"
   },
   {
    "duration": 126,
    "start_time": "2022-04-23T19:20:54.915Z"
   },
   {
    "duration": 126,
    "start_time": "2022-04-23T19:20:55.043Z"
   },
   {
    "duration": 10,
    "start_time": "2022-04-23T19:20:55.170Z"
   },
   {
    "duration": 10,
    "start_time": "2022-04-23T19:20:55.193Z"
   },
   {
    "duration": 10,
    "start_time": "2022-04-23T19:20:55.205Z"
   },
   {
    "duration": 7,
    "start_time": "2022-04-23T19:20:55.217Z"
   },
   {
    "duration": 10,
    "start_time": "2022-04-23T19:20:55.226Z"
   },
   {
    "duration": 8,
    "start_time": "2022-04-23T19:20:55.237Z"
   },
   {
    "duration": 7,
    "start_time": "2022-04-23T19:20:55.246Z"
   },
   {
    "duration": 43,
    "start_time": "2022-04-23T19:20:55.254Z"
   },
   {
    "duration": 11,
    "start_time": "2022-04-23T19:20:55.299Z"
   },
   {
    "duration": 12,
    "start_time": "2022-04-23T19:20:55.314Z"
   },
   {
    "duration": 12,
    "start_time": "2022-04-23T19:20:55.328Z"
   },
   {
    "duration": 52,
    "start_time": "2022-04-23T19:20:55.342Z"
   },
   {
    "duration": 9,
    "start_time": "2022-04-23T19:20:55.396Z"
   },
   {
    "duration": 11,
    "start_time": "2022-04-23T19:20:55.406Z"
   },
   {
    "duration": 8,
    "start_time": "2022-04-23T19:20:55.419Z"
   },
   {
    "duration": 11,
    "start_time": "2022-04-23T19:20:55.429Z"
   },
   {
    "duration": 10,
    "start_time": "2022-04-23T19:20:55.442Z"
   },
   {
    "duration": 109,
    "start_time": "2022-04-23T19:23:12.631Z"
   },
   {
    "duration": 108,
    "start_time": "2022-04-23T19:23:14.981Z"
   },
   {
    "duration": 105,
    "start_time": "2022-04-23T19:23:16.191Z"
   },
   {
    "duration": 11,
    "start_time": "2022-04-23T19:23:17.920Z"
   },
   {
    "duration": 196,
    "start_time": "2022-04-23T19:26:54.430Z"
   },
   {
    "duration": 12,
    "start_time": "2022-04-23T19:26:56.859Z"
   },
   {
    "duration": 5,
    "start_time": "2022-04-23T19:37:43.621Z"
   },
   {
    "duration": 11,
    "start_time": "2022-04-23T19:37:46.519Z"
   },
   {
    "duration": 12,
    "start_time": "2022-04-23T19:40:45.110Z"
   },
   {
    "duration": 3,
    "start_time": "2022-04-23T19:40:59.531Z"
   },
   {
    "duration": 69,
    "start_time": "2022-04-23T19:40:59.539Z"
   },
   {
    "duration": 7,
    "start_time": "2022-04-23T19:40:59.610Z"
   },
   {
    "duration": 87,
    "start_time": "2022-04-23T19:40:59.618Z"
   },
   {
    "duration": 25,
    "start_time": "2022-04-23T19:40:59.707Z"
   },
   {
    "duration": 15,
    "start_time": "2022-04-23T19:40:59.735Z"
   },
   {
    "duration": 5,
    "start_time": "2022-04-23T19:40:59.752Z"
   },
   {
    "duration": 43,
    "start_time": "2022-04-23T19:40:59.758Z"
   },
   {
    "duration": 22,
    "start_time": "2022-04-23T19:40:59.803Z"
   },
   {
    "duration": 9,
    "start_time": "2022-04-23T19:40:59.827Z"
   },
   {
    "duration": 13,
    "start_time": "2022-04-23T19:40:59.837Z"
   },
   {
    "duration": 4,
    "start_time": "2022-04-23T19:40:59.852Z"
   },
   {
    "duration": 40,
    "start_time": "2022-04-23T19:40:59.857Z"
   },
   {
    "duration": 12,
    "start_time": "2022-04-23T19:40:59.899Z"
   },
   {
    "duration": 8,
    "start_time": "2022-04-23T19:40:59.913Z"
   },
   {
    "duration": 9,
    "start_time": "2022-04-23T19:40:59.922Z"
   },
   {
    "duration": 10,
    "start_time": "2022-04-23T19:40:59.933Z"
   },
   {
    "duration": 262,
    "start_time": "2022-04-23T19:40:59.944Z"
   },
   {
    "duration": 9,
    "start_time": "2022-04-23T19:41:00.208Z"
   },
   {
    "duration": 16,
    "start_time": "2022-04-23T19:41:00.218Z"
   },
   {
    "duration": 9,
    "start_time": "2022-04-23T19:41:00.236Z"
   },
   {
    "duration": 10,
    "start_time": "2022-04-23T19:41:00.247Z"
   },
   {
    "duration": 34,
    "start_time": "2022-04-23T19:41:00.259Z"
   },
   {
    "duration": 9,
    "start_time": "2022-04-23T19:41:00.295Z"
   },
   {
    "duration": 10,
    "start_time": "2022-04-23T19:41:00.306Z"
   },
   {
    "duration": 6,
    "start_time": "2022-04-23T19:41:00.318Z"
   },
   {
    "duration": 16,
    "start_time": "2022-04-23T19:41:00.326Z"
   },
   {
    "duration": 10,
    "start_time": "2022-04-23T19:41:00.344Z"
   },
   {
    "duration": 38,
    "start_time": "2022-04-23T19:41:00.355Z"
   },
   {
    "duration": 11,
    "start_time": "2022-04-23T19:41:00.395Z"
   },
   {
    "duration": 12,
    "start_time": "2022-04-23T19:41:00.407Z"
   },
   {
    "duration": 9,
    "start_time": "2022-04-23T19:41:00.420Z"
   },
   {
    "duration": 15,
    "start_time": "2022-04-23T19:41:00.431Z"
   },
   {
    "duration": 19,
    "start_time": "2022-04-23T19:41:00.448Z"
   },
   {
    "duration": 29,
    "start_time": "2022-04-23T19:41:00.468Z"
   },
   {
    "duration": 10,
    "start_time": "2022-04-23T19:41:00.498Z"
   },
   {
    "duration": 77,
    "start_time": "2022-04-24T10:38:16.756Z"
   },
   {
    "duration": 533,
    "start_time": "2022-04-24T10:38:20.966Z"
   },
   {
    "duration": 90,
    "start_time": "2022-04-24T10:38:21.501Z"
   },
   {
    "duration": 21,
    "start_time": "2022-04-24T10:38:21.594Z"
   },
   {
    "duration": 116,
    "start_time": "2022-04-24T10:38:21.619Z"
   },
   {
    "duration": 37,
    "start_time": "2022-04-24T10:38:21.737Z"
   },
   {
    "duration": 35,
    "start_time": "2022-04-24T10:38:21.776Z"
   },
   {
    "duration": 5,
    "start_time": "2022-04-24T10:38:21.814Z"
   },
   {
    "duration": 22,
    "start_time": "2022-04-24T10:38:21.822Z"
   },
   {
    "duration": 72,
    "start_time": "2022-04-24T10:38:21.846Z"
   },
   {
    "duration": 12,
    "start_time": "2022-04-24T10:38:21.922Z"
   },
   {
    "duration": 18,
    "start_time": "2022-04-24T10:38:21.936Z"
   },
   {
    "duration": 57,
    "start_time": "2022-04-24T10:38:21.956Z"
   },
   {
    "duration": 18,
    "start_time": "2022-04-24T10:38:22.016Z"
   },
   {
    "duration": 17,
    "start_time": "2022-04-24T10:38:22.036Z"
   },
   {
    "duration": 11,
    "start_time": "2022-04-24T10:38:22.055Z"
   },
   {
    "duration": 28,
    "start_time": "2022-04-24T10:38:22.068Z"
   },
   {
    "duration": 14,
    "start_time": "2022-04-24T10:38:22.098Z"
   },
   {
    "duration": 405,
    "start_time": "2022-04-24T10:38:22.115Z"
   },
   {
    "duration": 14,
    "start_time": "2022-04-24T10:38:22.523Z"
   },
   {
    "duration": 25,
    "start_time": "2022-04-24T10:38:22.540Z"
   },
   {
    "duration": 43,
    "start_time": "2022-04-24T10:38:22.568Z"
   },
   {
    "duration": 4,
    "start_time": "2022-04-24T10:38:22.613Z"
   },
   {
    "duration": 23,
    "start_time": "2022-04-24T10:38:22.620Z"
   },
   {
    "duration": 53,
    "start_time": "2022-04-24T10:38:22.646Z"
   },
   {
    "duration": 13,
    "start_time": "2022-04-24T10:38:22.702Z"
   },
   {
    "duration": 13,
    "start_time": "2022-04-24T10:38:22.717Z"
   },
   {
    "duration": 12,
    "start_time": "2022-04-24T10:38:22.733Z"
   },
   {
    "duration": 56,
    "start_time": "2022-04-24T10:38:22.750Z"
   },
   {
    "duration": 11,
    "start_time": "2022-04-24T10:38:22.808Z"
   },
   {
    "duration": 16,
    "start_time": "2022-04-24T10:38:22.822Z"
   },
   {
    "duration": 18,
    "start_time": "2022-04-24T10:38:22.841Z"
   },
   {
    "duration": 18,
    "start_time": "2022-04-24T10:38:22.894Z"
   },
   {
    "duration": 16,
    "start_time": "2022-04-24T10:38:22.914Z"
   },
   {
    "duration": 16,
    "start_time": "2022-04-24T10:38:22.933Z"
   },
   {
    "duration": 52,
    "start_time": "2022-04-24T10:38:22.951Z"
   },
   {
    "duration": 21,
    "start_time": "2022-04-24T10:38:23.006Z"
   },
   {
    "duration": 15,
    "start_time": "2022-04-24T10:38:23.030Z"
   },
   {
    "duration": 16,
    "start_time": "2022-04-24T10:38:48.194Z"
   },
   {
    "duration": 21,
    "start_time": "2022-04-24T10:41:18.514Z"
   },
   {
    "duration": 88,
    "start_time": "2022-04-24T10:43:37.041Z"
   },
   {
    "duration": 4,
    "start_time": "2022-04-24T10:43:51.476Z"
   },
   {
    "duration": 144,
    "start_time": "2022-04-24T10:43:51.495Z"
   },
   {
    "duration": 12,
    "start_time": "2022-04-24T10:43:51.643Z"
   },
   {
    "duration": 119,
    "start_time": "2022-04-24T10:43:51.657Z"
   },
   {
    "duration": 43,
    "start_time": "2022-04-24T10:43:51.778Z"
   },
   {
    "duration": 35,
    "start_time": "2022-04-24T10:43:51.825Z"
   },
   {
    "duration": 37,
    "start_time": "2022-04-24T10:43:51.863Z"
   },
   {
    "duration": 41,
    "start_time": "2022-04-24T10:43:51.903Z"
   },
   {
    "duration": 54,
    "start_time": "2022-04-24T10:43:51.947Z"
   },
   {
    "duration": 14,
    "start_time": "2022-04-24T10:43:52.003Z"
   },
   {
    "duration": 34,
    "start_time": "2022-04-24T10:43:52.020Z"
   },
   {
    "duration": 9,
    "start_time": "2022-04-24T10:43:52.057Z"
   },
   {
    "duration": 24,
    "start_time": "2022-04-24T10:43:52.093Z"
   },
   {
    "duration": 27,
    "start_time": "2022-04-24T10:43:52.120Z"
   },
   {
    "duration": 46,
    "start_time": "2022-04-24T10:43:52.154Z"
   },
   {
    "duration": 15,
    "start_time": "2022-04-24T10:43:52.203Z"
   },
   {
    "duration": 16,
    "start_time": "2022-04-24T10:43:52.220Z"
   },
   {
    "duration": 620,
    "start_time": "2022-04-24T10:43:52.239Z"
   },
   {
    "duration": 15,
    "start_time": "2022-04-24T10:43:52.862Z"
   },
   {
    "duration": 24,
    "start_time": "2022-04-24T10:43:52.892Z"
   },
   {
    "duration": 17,
    "start_time": "2022-04-24T10:43:52.918Z"
   },
   {
    "duration": 57,
    "start_time": "2022-04-24T10:43:52.938Z"
   },
   {
    "duration": 0,
    "start_time": "2022-04-24T10:43:52.998Z"
   },
   {
    "duration": 0,
    "start_time": "2022-04-24T10:43:53.000Z"
   },
   {
    "duration": 0,
    "start_time": "2022-04-24T10:43:53.002Z"
   },
   {
    "duration": 0,
    "start_time": "2022-04-24T10:43:53.004Z"
   },
   {
    "duration": 0,
    "start_time": "2022-04-24T10:43:53.005Z"
   },
   {
    "duration": 0,
    "start_time": "2022-04-24T10:43:53.007Z"
   },
   {
    "duration": 0,
    "start_time": "2022-04-24T10:43:53.009Z"
   },
   {
    "duration": 0,
    "start_time": "2022-04-24T10:43:53.010Z"
   },
   {
    "duration": 0,
    "start_time": "2022-04-24T10:43:53.012Z"
   },
   {
    "duration": 0,
    "start_time": "2022-04-24T10:43:53.013Z"
   },
   {
    "duration": 0,
    "start_time": "2022-04-24T10:43:53.014Z"
   },
   {
    "duration": 0,
    "start_time": "2022-04-24T10:43:53.016Z"
   },
   {
    "duration": 0,
    "start_time": "2022-04-24T10:43:53.017Z"
   },
   {
    "duration": 0,
    "start_time": "2022-04-24T10:43:53.019Z"
   },
   {
    "duration": 0,
    "start_time": "2022-04-24T10:43:53.020Z"
   },
   {
    "duration": 17,
    "start_time": "2022-04-24T10:44:37.094Z"
   },
   {
    "duration": 18,
    "start_time": "2022-04-24T10:49:15.393Z"
   },
   {
    "duration": 4,
    "start_time": "2022-04-24T10:55:39.385Z"
   },
   {
    "duration": 95,
    "start_time": "2022-04-24T10:55:39.392Z"
   },
   {
    "duration": 9,
    "start_time": "2022-04-24T10:55:39.493Z"
   },
   {
    "duration": 127,
    "start_time": "2022-04-24T10:55:39.506Z"
   },
   {
    "duration": 37,
    "start_time": "2022-04-24T10:55:39.635Z"
   },
   {
    "duration": 21,
    "start_time": "2022-04-24T10:55:39.692Z"
   },
   {
    "duration": 7,
    "start_time": "2022-04-24T10:55:39.716Z"
   },
   {
    "duration": 24,
    "start_time": "2022-04-24T10:55:39.725Z"
   },
   {
    "duration": 66,
    "start_time": "2022-04-24T10:55:39.753Z"
   },
   {
    "duration": 13,
    "start_time": "2022-04-24T10:55:39.821Z"
   },
   {
    "duration": 17,
    "start_time": "2022-04-24T10:55:39.837Z"
   },
   {
    "duration": 40,
    "start_time": "2022-04-24T10:55:39.856Z"
   },
   {
    "duration": 19,
    "start_time": "2022-04-24T10:55:39.898Z"
   },
   {
    "duration": 17,
    "start_time": "2022-04-24T10:55:39.919Z"
   },
   {
    "duration": 12,
    "start_time": "2022-04-24T10:55:39.938Z"
   },
   {
    "duration": 49,
    "start_time": "2022-04-24T10:55:39.952Z"
   },
   {
    "duration": 16,
    "start_time": "2022-04-24T10:55:40.004Z"
   },
   {
    "duration": 675,
    "start_time": "2022-04-24T10:55:40.022Z"
   },
   {
    "duration": 20,
    "start_time": "2022-04-24T10:55:40.701Z"
   },
   {
    "duration": 24,
    "start_time": "2022-04-24T10:55:40.725Z"
   },
   {
    "duration": 51,
    "start_time": "2022-04-24T10:55:40.753Z"
   },
   {
    "duration": 24,
    "start_time": "2022-04-24T10:55:40.807Z"
   },
   {
    "duration": 0,
    "start_time": "2022-04-24T10:55:40.835Z"
   },
   {
    "duration": 0,
    "start_time": "2022-04-24T10:55:40.838Z"
   },
   {
    "duration": 0,
    "start_time": "2022-04-24T10:55:40.840Z"
   },
   {
    "duration": 0,
    "start_time": "2022-04-24T10:55:40.842Z"
   },
   {
    "duration": 0,
    "start_time": "2022-04-24T10:55:40.845Z"
   },
   {
    "duration": 0,
    "start_time": "2022-04-24T10:55:40.847Z"
   },
   {
    "duration": 0,
    "start_time": "2022-04-24T10:55:40.849Z"
   },
   {
    "duration": 0,
    "start_time": "2022-04-24T10:55:40.852Z"
   },
   {
    "duration": 0,
    "start_time": "2022-04-24T10:55:40.853Z"
   },
   {
    "duration": 0,
    "start_time": "2022-04-24T10:55:40.893Z"
   },
   {
    "duration": 0,
    "start_time": "2022-04-24T10:55:40.895Z"
   },
   {
    "duration": 0,
    "start_time": "2022-04-24T10:55:40.897Z"
   },
   {
    "duration": 0,
    "start_time": "2022-04-24T10:55:40.900Z"
   },
   {
    "duration": 0,
    "start_time": "2022-04-24T10:55:40.901Z"
   },
   {
    "duration": 0,
    "start_time": "2022-04-24T10:55:40.903Z"
   },
   {
    "duration": 0,
    "start_time": "2022-04-24T10:55:40.904Z"
   },
   {
    "duration": 492,
    "start_time": "2022-04-24T10:56:18.847Z"
   },
   {
    "duration": 6,
    "start_time": "2022-04-24T10:58:06.795Z"
   },
   {
    "duration": 7,
    "start_time": "2022-04-24T10:58:08.495Z"
   },
   {
    "duration": 14,
    "start_time": "2022-04-24T10:58:13.104Z"
   },
   {
    "duration": 6,
    "start_time": "2022-04-24T10:58:48.445Z"
   },
   {
    "duration": 3,
    "start_time": "2022-04-24T11:00:11.514Z"
   },
   {
    "duration": 116,
    "start_time": "2022-04-24T11:00:11.520Z"
   },
   {
    "duration": 10,
    "start_time": "2022-04-24T11:00:11.639Z"
   },
   {
    "duration": 158,
    "start_time": "2022-04-24T11:00:11.652Z"
   },
   {
    "duration": 64,
    "start_time": "2022-04-24T11:00:11.814Z"
   },
   {
    "duration": 32,
    "start_time": "2022-04-24T11:00:11.880Z"
   },
   {
    "duration": 9,
    "start_time": "2022-04-24T11:00:11.915Z"
   },
   {
    "duration": 26,
    "start_time": "2022-04-24T11:00:11.926Z"
   },
   {
    "duration": 77,
    "start_time": "2022-04-24T11:00:11.955Z"
   },
   {
    "duration": 18,
    "start_time": "2022-04-24T11:00:12.034Z"
   },
   {
    "duration": 51,
    "start_time": "2022-04-24T11:00:12.058Z"
   },
   {
    "duration": 8,
    "start_time": "2022-04-24T11:00:12.111Z"
   },
   {
    "duration": 20,
    "start_time": "2022-04-24T11:00:12.121Z"
   },
   {
    "duration": 49,
    "start_time": "2022-04-24T11:00:12.144Z"
   },
   {
    "duration": 18,
    "start_time": "2022-04-24T11:00:12.196Z"
   },
   {
    "duration": 17,
    "start_time": "2022-04-24T11:00:12.217Z"
   },
   {
    "duration": 18,
    "start_time": "2022-04-24T11:00:12.237Z"
   },
   {
    "duration": 421,
    "start_time": "2022-04-24T11:00:12.257Z"
   },
   {
    "duration": 21,
    "start_time": "2022-04-24T11:00:12.681Z"
   },
   {
    "duration": 18,
    "start_time": "2022-04-24T11:00:12.704Z"
   },
   {
    "duration": 17,
    "start_time": "2022-04-24T11:00:12.725Z"
   },
   {
    "duration": 55,
    "start_time": "2022-04-24T11:00:12.745Z"
   },
   {
    "duration": 0,
    "start_time": "2022-04-24T11:00:12.803Z"
   },
   {
    "duration": 0,
    "start_time": "2022-04-24T11:00:12.805Z"
   },
   {
    "duration": 0,
    "start_time": "2022-04-24T11:00:12.808Z"
   },
   {
    "duration": 0,
    "start_time": "2022-04-24T11:00:12.810Z"
   },
   {
    "duration": 0,
    "start_time": "2022-04-24T11:00:12.812Z"
   },
   {
    "duration": 0,
    "start_time": "2022-04-24T11:00:12.814Z"
   },
   {
    "duration": 0,
    "start_time": "2022-04-24T11:00:12.816Z"
   },
   {
    "duration": 0,
    "start_time": "2022-04-24T11:00:12.818Z"
   },
   {
    "duration": 0,
    "start_time": "2022-04-24T11:00:12.820Z"
   },
   {
    "duration": 0,
    "start_time": "2022-04-24T11:00:12.822Z"
   },
   {
    "duration": 0,
    "start_time": "2022-04-24T11:00:12.824Z"
   },
   {
    "duration": 0,
    "start_time": "2022-04-24T11:00:12.826Z"
   },
   {
    "duration": 0,
    "start_time": "2022-04-24T11:00:12.828Z"
   },
   {
    "duration": 0,
    "start_time": "2022-04-24T11:00:12.830Z"
   },
   {
    "duration": 0,
    "start_time": "2022-04-24T11:00:12.832Z"
   },
   {
    "duration": 0,
    "start_time": "2022-04-24T11:00:12.834Z"
   },
   {
    "duration": 16,
    "start_time": "2022-04-24T11:03:45.287Z"
   },
   {
    "duration": 21,
    "start_time": "2022-04-24T11:04:40.814Z"
   },
   {
    "duration": 6,
    "start_time": "2022-04-24T11:09:20.396Z"
   },
   {
    "duration": 5,
    "start_time": "2022-04-24T11:09:44.895Z"
   },
   {
    "duration": 7,
    "start_time": "2022-04-24T11:11:01.616Z"
   },
   {
    "duration": 21,
    "start_time": "2022-04-24T11:11:11.076Z"
   },
   {
    "duration": 3,
    "start_time": "2022-04-24T11:11:23.236Z"
   },
   {
    "duration": 93,
    "start_time": "2022-04-24T11:11:23.245Z"
   },
   {
    "duration": 9,
    "start_time": "2022-04-24T11:11:23.341Z"
   },
   {
    "duration": 117,
    "start_time": "2022-04-24T11:11:23.352Z"
   },
   {
    "duration": 47,
    "start_time": "2022-04-24T11:11:23.471Z"
   },
   {
    "duration": 30,
    "start_time": "2022-04-24T11:11:23.523Z"
   },
   {
    "duration": 41,
    "start_time": "2022-04-24T11:11:23.555Z"
   },
   {
    "duration": 31,
    "start_time": "2022-04-24T11:11:23.599Z"
   },
   {
    "duration": 79,
    "start_time": "2022-04-24T11:11:23.632Z"
   },
   {
    "duration": 17,
    "start_time": "2022-04-24T11:11:23.714Z"
   },
   {
    "duration": 26,
    "start_time": "2022-04-24T11:11:23.734Z"
   },
   {
    "duration": 6,
    "start_time": "2022-04-24T11:11:23.763Z"
   },
   {
    "duration": 18,
    "start_time": "2022-04-24T11:11:23.794Z"
   },
   {
    "duration": 18,
    "start_time": "2022-04-24T11:11:23.814Z"
   },
   {
    "duration": 11,
    "start_time": "2022-04-24T11:11:23.836Z"
   },
   {
    "duration": 53,
    "start_time": "2022-04-24T11:11:23.849Z"
   },
   {
    "duration": 46,
    "start_time": "2022-04-24T11:11:23.904Z"
   },
   {
    "duration": 414,
    "start_time": "2022-04-24T11:11:23.952Z"
   },
   {
    "duration": 25,
    "start_time": "2022-04-24T11:11:24.368Z"
   },
   {
    "duration": 22,
    "start_time": "2022-04-24T11:11:24.395Z"
   },
   {
    "duration": 23,
    "start_time": "2022-04-24T11:11:24.420Z"
   },
   {
    "duration": 12,
    "start_time": "2022-04-24T11:11:24.445Z"
   },
   {
    "duration": 47,
    "start_time": "2022-04-24T11:11:24.460Z"
   },
   {
    "duration": 13,
    "start_time": "2022-04-24T11:11:24.509Z"
   },
   {
    "duration": 14,
    "start_time": "2022-04-24T11:11:24.524Z"
   },
   {
    "duration": 10,
    "start_time": "2022-04-24T11:11:24.540Z"
   },
   {
    "duration": 13,
    "start_time": "2022-04-24T11:11:24.593Z"
   },
   {
    "duration": 17,
    "start_time": "2022-04-24T11:11:24.609Z"
   },
   {
    "duration": 14,
    "start_time": "2022-04-24T11:11:24.629Z"
   },
   {
    "duration": 59,
    "start_time": "2022-04-24T11:11:24.645Z"
   },
   {
    "duration": 23,
    "start_time": "2022-04-24T11:11:24.707Z"
   },
   {
    "duration": 19,
    "start_time": "2022-04-24T11:11:24.733Z"
   },
   {
    "duration": 50,
    "start_time": "2022-04-24T11:11:24.754Z"
   },
   {
    "duration": 20,
    "start_time": "2022-04-24T11:11:24.806Z"
   },
   {
    "duration": 11,
    "start_time": "2022-04-24T11:11:24.828Z"
   },
   {
    "duration": 14,
    "start_time": "2022-04-24T11:11:24.841Z"
   },
   {
    "duration": 49,
    "start_time": "2022-04-24T11:11:24.856Z"
   },
   {
    "duration": 17,
    "start_time": "2022-04-24T12:30:42.744Z"
   },
   {
    "duration": 6,
    "start_time": "2022-04-24T12:30:56.364Z"
   },
   {
    "duration": 27,
    "start_time": "2022-04-24T12:48:25.535Z"
   },
   {
    "duration": 27,
    "start_time": "2022-04-24T12:48:46.205Z"
   },
   {
    "duration": 24,
    "start_time": "2022-04-24T12:51:07.867Z"
   },
   {
    "duration": 3,
    "start_time": "2022-04-24T12:51:29.818Z"
   },
   {
    "duration": 87,
    "start_time": "2022-04-24T12:51:29.835Z"
   },
   {
    "duration": 8,
    "start_time": "2022-04-24T12:51:29.925Z"
   },
   {
    "duration": 108,
    "start_time": "2022-04-24T12:51:29.935Z"
   },
   {
    "duration": 58,
    "start_time": "2022-04-24T12:51:30.046Z"
   },
   {
    "duration": 25,
    "start_time": "2022-04-24T12:51:30.106Z"
   },
   {
    "duration": 7,
    "start_time": "2022-04-24T12:51:30.133Z"
   },
   {
    "duration": 20,
    "start_time": "2022-04-24T12:51:30.143Z"
   },
   {
    "duration": 33,
    "start_time": "2022-04-24T12:51:30.193Z"
   },
   {
    "duration": 13,
    "start_time": "2022-04-24T12:51:30.228Z"
   },
   {
    "duration": 29,
    "start_time": "2022-04-24T12:51:30.245Z"
   },
   {
    "duration": 5,
    "start_time": "2022-04-24T12:51:30.293Z"
   },
   {
    "duration": 30,
    "start_time": "2022-04-24T12:51:30.301Z"
   },
   {
    "duration": 20,
    "start_time": "2022-04-24T12:51:30.333Z"
   },
   {
    "duration": 13,
    "start_time": "2022-04-24T12:51:30.355Z"
   },
   {
    "duration": 40,
    "start_time": "2022-04-24T12:51:30.370Z"
   },
   {
    "duration": 25,
    "start_time": "2022-04-24T12:51:30.412Z"
   },
   {
    "duration": 401,
    "start_time": "2022-04-24T12:51:30.439Z"
   },
   {
    "duration": 15,
    "start_time": "2022-04-24T12:51:30.842Z"
   },
   {
    "duration": 80,
    "start_time": "2022-04-24T12:51:30.859Z"
   },
   {
    "duration": 20,
    "start_time": "2022-04-24T12:51:30.941Z"
   },
   {
    "duration": 24,
    "start_time": "2022-04-24T12:51:30.963Z"
   },
   {
    "duration": 37,
    "start_time": "2022-04-24T12:51:30.989Z"
   },
   {
    "duration": 16,
    "start_time": "2022-04-24T12:51:31.029Z"
   },
   {
    "duration": 32,
    "start_time": "2022-04-24T12:51:31.047Z"
   },
   {
    "duration": 30,
    "start_time": "2022-04-24T12:51:31.081Z"
   },
   {
    "duration": 41,
    "start_time": "2022-04-24T12:51:31.113Z"
   },
   {
    "duration": 0,
    "start_time": "2022-04-24T12:51:31.157Z"
   },
   {
    "duration": 0,
    "start_time": "2022-04-24T12:51:31.159Z"
   },
   {
    "duration": 0,
    "start_time": "2022-04-24T12:51:31.160Z"
   },
   {
    "duration": 0,
    "start_time": "2022-04-24T12:51:31.162Z"
   },
   {
    "duration": 0,
    "start_time": "2022-04-24T12:51:31.164Z"
   },
   {
    "duration": 0,
    "start_time": "2022-04-24T12:51:31.166Z"
   },
   {
    "duration": 0,
    "start_time": "2022-04-24T12:51:31.167Z"
   },
   {
    "duration": 0,
    "start_time": "2022-04-24T12:51:31.169Z"
   },
   {
    "duration": 1,
    "start_time": "2022-04-24T12:51:31.170Z"
   },
   {
    "duration": 0,
    "start_time": "2022-04-24T12:51:31.172Z"
   },
   {
    "duration": 0,
    "start_time": "2022-04-24T12:51:31.173Z"
   },
   {
    "duration": 0,
    "start_time": "2022-04-24T12:51:31.193Z"
   },
   {
    "duration": 1363,
    "start_time": "2022-04-24T12:54:17.314Z"
   },
   {
    "duration": 1475,
    "start_time": "2022-04-24T12:54:33.152Z"
   },
   {
    "duration": 16,
    "start_time": "2022-04-24T12:55:17.454Z"
   },
   {
    "duration": 1572,
    "start_time": "2022-04-24T13:02:17.747Z"
   },
   {
    "duration": 17,
    "start_time": "2022-04-24T13:02:53.335Z"
   },
   {
    "duration": 16,
    "start_time": "2022-04-24T13:04:02.596Z"
   },
   {
    "duration": 781,
    "start_time": "2022-04-24T13:19:22.085Z"
   },
   {
    "duration": 51,
    "start_time": "2022-04-24T13:30:01.411Z"
   },
   {
    "duration": 14,
    "start_time": "2022-04-24T13:30:35.604Z"
   },
   {
    "duration": 22,
    "start_time": "2022-04-24T13:31:39.972Z"
   },
   {
    "duration": 13,
    "start_time": "2022-04-24T13:32:17.154Z"
   },
   {
    "duration": 20,
    "start_time": "2022-04-24T13:41:06.505Z"
   },
   {
    "duration": 19,
    "start_time": "2022-04-24T13:46:02.936Z"
   },
   {
    "duration": 17,
    "start_time": "2022-04-24T13:46:34.144Z"
   },
   {
    "duration": 19,
    "start_time": "2022-04-24T13:46:41.614Z"
   },
   {
    "duration": 7,
    "start_time": "2022-04-24T13:48:00.714Z"
   },
   {
    "duration": 7,
    "start_time": "2022-04-24T13:48:34.054Z"
   },
   {
    "duration": 172,
    "start_time": "2022-04-24T13:49:00.774Z"
   },
   {
    "duration": 10,
    "start_time": "2022-04-24T13:49:05.776Z"
   },
   {
    "duration": 6,
    "start_time": "2022-04-24T13:51:17.166Z"
   },
   {
    "duration": 10,
    "start_time": "2022-04-24T13:51:18.113Z"
   },
   {
    "duration": 3,
    "start_time": "2022-04-24T13:51:23.096Z"
   },
   {
    "duration": 97,
    "start_time": "2022-04-24T13:51:23.102Z"
   },
   {
    "duration": 9,
    "start_time": "2022-04-24T13:51:23.201Z"
   },
   {
    "duration": 111,
    "start_time": "2022-04-24T13:51:23.213Z"
   },
   {
    "duration": 35,
    "start_time": "2022-04-24T13:51:23.328Z"
   },
   {
    "duration": 23,
    "start_time": "2022-04-24T13:51:23.394Z"
   },
   {
    "duration": 7,
    "start_time": "2022-04-24T13:51:23.419Z"
   },
   {
    "duration": 25,
    "start_time": "2022-04-24T13:51:23.428Z"
   },
   {
    "duration": 68,
    "start_time": "2022-04-24T13:51:23.455Z"
   },
   {
    "duration": 13,
    "start_time": "2022-04-24T13:51:23.525Z"
   },
   {
    "duration": 22,
    "start_time": "2022-04-24T13:51:23.540Z"
   },
   {
    "duration": 31,
    "start_time": "2022-04-24T13:51:23.564Z"
   },
   {
    "duration": 18,
    "start_time": "2022-04-24T13:51:23.597Z"
   },
   {
    "duration": 18,
    "start_time": "2022-04-24T13:51:23.620Z"
   },
   {
    "duration": 54,
    "start_time": "2022-04-24T13:51:23.641Z"
   },
   {
    "duration": 14,
    "start_time": "2022-04-24T13:51:23.699Z"
   },
   {
    "duration": 18,
    "start_time": "2022-04-24T13:51:23.716Z"
   },
   {
    "duration": 611,
    "start_time": "2022-04-24T13:51:23.736Z"
   },
   {
    "duration": 19,
    "start_time": "2022-04-24T13:51:24.350Z"
   },
   {
    "duration": 37,
    "start_time": "2022-04-24T13:51:24.372Z"
   },
   {
    "duration": 21,
    "start_time": "2022-04-24T13:51:24.411Z"
   },
   {
    "duration": 13,
    "start_time": "2022-04-24T13:51:24.434Z"
   },
   {
    "duration": 57,
    "start_time": "2022-04-24T13:51:24.450Z"
   },
   {
    "duration": 6,
    "start_time": "2022-04-24T13:51:24.510Z"
   },
   {
    "duration": 28,
    "start_time": "2022-04-24T13:51:24.518Z"
   },
   {
    "duration": 16,
    "start_time": "2022-04-24T13:51:24.549Z"
   },
   {
    "duration": 34,
    "start_time": "2022-04-24T13:51:24.568Z"
   },
   {
    "duration": 15,
    "start_time": "2022-04-24T13:51:24.604Z"
   },
   {
    "duration": 33,
    "start_time": "2022-04-24T13:51:24.622Z"
   },
   {
    "duration": 14,
    "start_time": "2022-04-24T13:51:24.658Z"
   },
   {
    "duration": 18,
    "start_time": "2022-04-24T13:51:24.694Z"
   },
   {
    "duration": 19,
    "start_time": "2022-04-24T13:51:24.714Z"
   },
   {
    "duration": 11,
    "start_time": "2022-04-24T13:51:24.735Z"
   },
   {
    "duration": 55,
    "start_time": "2022-04-24T13:51:24.748Z"
   },
   {
    "duration": 15,
    "start_time": "2022-04-24T13:51:24.805Z"
   },
   {
    "duration": 16,
    "start_time": "2022-04-24T13:51:24.822Z"
   },
   {
    "duration": 11,
    "start_time": "2022-04-24T13:51:24.840Z"
   },
   {
    "duration": 19,
    "start_time": "2022-04-24T13:51:24.894Z"
   },
   {
    "duration": 17,
    "start_time": "2022-04-24T13:51:24.917Z"
   },
   {
    "duration": 19,
    "start_time": "2022-04-24T13:51:24.937Z"
   },
   {
    "duration": 24,
    "start_time": "2022-04-24T13:51:24.995Z"
   },
   {
    "duration": 7,
    "start_time": "2022-04-24T13:56:17.722Z"
   },
   {
    "duration": 10,
    "start_time": "2022-04-24T13:56:18.583Z"
   },
   {
    "duration": 9,
    "start_time": "2022-04-24T13:56:25.374Z"
   },
   {
    "duration": 13,
    "start_time": "2022-04-24T13:56:26.264Z"
   },
   {
    "duration": 8,
    "start_time": "2022-04-24T13:57:02.795Z"
   },
   {
    "duration": 13,
    "start_time": "2022-04-24T13:57:03.653Z"
   },
   {
    "duration": 5,
    "start_time": "2022-04-24T13:57:08.226Z"
   },
   {
    "duration": 96,
    "start_time": "2022-04-24T13:57:08.233Z"
   },
   {
    "duration": 8,
    "start_time": "2022-04-24T13:57:08.331Z"
   },
   {
    "duration": 105,
    "start_time": "2022-04-24T13:57:08.341Z"
   },
   {
    "duration": 46,
    "start_time": "2022-04-24T13:57:08.449Z"
   },
   {
    "duration": 22,
    "start_time": "2022-04-24T13:57:08.498Z"
   },
   {
    "duration": 6,
    "start_time": "2022-04-24T13:57:08.522Z"
   },
   {
    "duration": 21,
    "start_time": "2022-04-24T13:57:08.530Z"
   },
   {
    "duration": 65,
    "start_time": "2022-04-24T13:57:08.553Z"
   },
   {
    "duration": 12,
    "start_time": "2022-04-24T13:57:08.621Z"
   },
   {
    "duration": 21,
    "start_time": "2022-04-24T13:57:08.636Z"
   },
   {
    "duration": 35,
    "start_time": "2022-04-24T13:57:08.659Z"
   },
   {
    "duration": 14,
    "start_time": "2022-04-24T13:57:08.696Z"
   },
   {
    "duration": 17,
    "start_time": "2022-04-24T13:57:08.714Z"
   },
   {
    "duration": 12,
    "start_time": "2022-04-24T13:57:08.733Z"
   },
   {
    "duration": 52,
    "start_time": "2022-04-24T13:57:08.747Z"
   },
   {
    "duration": 16,
    "start_time": "2022-04-24T13:57:08.802Z"
   },
   {
    "duration": 407,
    "start_time": "2022-04-24T13:57:08.820Z"
   },
   {
    "duration": 14,
    "start_time": "2022-04-24T13:57:09.230Z"
   },
   {
    "duration": 17,
    "start_time": "2022-04-24T13:57:09.246Z"
   },
   {
    "duration": 41,
    "start_time": "2022-04-24T13:57:09.265Z"
   },
   {
    "duration": 20,
    "start_time": "2022-04-24T13:57:09.308Z"
   },
   {
    "duration": 16,
    "start_time": "2022-04-24T13:57:09.330Z"
   },
   {
    "duration": 6,
    "start_time": "2022-04-24T13:57:09.349Z"
   },
   {
    "duration": 46,
    "start_time": "2022-04-24T13:57:09.358Z"
   },
   {
    "duration": 14,
    "start_time": "2022-04-24T13:57:09.407Z"
   },
   {
    "duration": 10,
    "start_time": "2022-04-24T13:57:09.423Z"
   },
   {
    "duration": 16,
    "start_time": "2022-04-24T13:57:09.436Z"
   },
   {
    "duration": 43,
    "start_time": "2022-04-24T13:57:09.454Z"
   },
   {
    "duration": 10,
    "start_time": "2022-04-24T13:57:09.499Z"
   },
   {
    "duration": 15,
    "start_time": "2022-04-24T13:57:09.511Z"
   },
   {
    "duration": 11,
    "start_time": "2022-04-24T13:57:09.528Z"
   },
   {
    "duration": 61,
    "start_time": "2022-04-24T13:57:09.541Z"
   },
   {
    "duration": 17,
    "start_time": "2022-04-24T13:57:09.604Z"
   },
   {
    "duration": 16,
    "start_time": "2022-04-24T13:57:09.623Z"
   },
   {
    "duration": 12,
    "start_time": "2022-04-24T13:57:09.641Z"
   },
   {
    "duration": 16,
    "start_time": "2022-04-24T13:57:09.694Z"
   },
   {
    "duration": 11,
    "start_time": "2022-04-24T13:57:09.713Z"
   },
   {
    "duration": 18,
    "start_time": "2022-04-24T13:57:09.726Z"
   },
   {
    "duration": 57,
    "start_time": "2022-04-24T13:57:09.747Z"
   },
   {
    "duration": 183,
    "start_time": "2022-04-24T14:46:17.585Z"
   },
   {
    "duration": 175,
    "start_time": "2022-04-24T14:46:43.523Z"
   },
   {
    "duration": 21,
    "start_time": "2022-04-24T14:47:17.004Z"
   },
   {
    "duration": 15,
    "start_time": "2022-04-24T14:47:27.022Z"
   },
   {
    "duration": 27,
    "start_time": "2022-04-24T14:56:32.674Z"
   },
   {
    "duration": 23,
    "start_time": "2022-04-24T14:58:00.054Z"
   },
   {
    "duration": 29,
    "start_time": "2022-04-24T14:58:06.986Z"
   },
   {
    "duration": 11,
    "start_time": "2022-04-24T14:58:44.824Z"
   },
   {
    "duration": 10,
    "start_time": "2022-04-24T14:58:55.984Z"
   },
   {
    "duration": 6,
    "start_time": "2022-04-24T15:01:42.275Z"
   },
   {
    "duration": 9,
    "start_time": "2022-04-24T15:01:43.585Z"
   },
   {
    "duration": 4,
    "start_time": "2022-04-24T15:01:47.164Z"
   },
   {
    "duration": 93,
    "start_time": "2022-04-24T15:01:47.170Z"
   },
   {
    "duration": 9,
    "start_time": "2022-04-24T15:01:47.266Z"
   },
   {
    "duration": 119,
    "start_time": "2022-04-24T15:01:47.277Z"
   },
   {
    "duration": 46,
    "start_time": "2022-04-24T15:01:47.401Z"
   },
   {
    "duration": 45,
    "start_time": "2022-04-24T15:01:47.449Z"
   },
   {
    "duration": 7,
    "start_time": "2022-04-24T15:01:47.497Z"
   },
   {
    "duration": 26,
    "start_time": "2022-04-24T15:01:47.506Z"
   },
   {
    "duration": 78,
    "start_time": "2022-04-24T15:01:47.534Z"
   },
   {
    "duration": 17,
    "start_time": "2022-04-24T15:01:47.615Z"
   },
   {
    "duration": 16,
    "start_time": "2022-04-24T15:01:47.634Z"
   },
   {
    "duration": 6,
    "start_time": "2022-04-24T15:01:47.653Z"
   },
   {
    "duration": 16,
    "start_time": "2022-04-24T15:01:47.694Z"
   },
   {
    "duration": 18,
    "start_time": "2022-04-24T15:01:47.716Z"
   },
   {
    "duration": 12,
    "start_time": "2022-04-24T15:01:47.737Z"
   },
   {
    "duration": 51,
    "start_time": "2022-04-24T15:01:47.751Z"
   },
   {
    "duration": 17,
    "start_time": "2022-04-24T15:01:47.804Z"
   },
   {
    "duration": 412,
    "start_time": "2022-04-24T15:01:47.823Z"
   },
   {
    "duration": 15,
    "start_time": "2022-04-24T15:01:48.238Z"
   },
   {
    "duration": 42,
    "start_time": "2022-04-24T15:01:48.255Z"
   },
   {
    "duration": 17,
    "start_time": "2022-04-24T15:01:48.299Z"
   },
   {
    "duration": 17,
    "start_time": "2022-04-24T15:01:48.319Z"
   },
   {
    "duration": 23,
    "start_time": "2022-04-24T15:01:48.338Z"
   },
   {
    "duration": 32,
    "start_time": "2022-04-24T15:01:48.364Z"
   },
   {
    "duration": 18,
    "start_time": "2022-04-24T15:01:48.399Z"
   },
   {
    "duration": 19,
    "start_time": "2022-04-24T15:01:48.420Z"
   },
   {
    "duration": 10,
    "start_time": "2022-04-24T15:01:48.442Z"
   },
   {
    "duration": 45,
    "start_time": "2022-04-24T15:01:48.454Z"
   },
   {
    "duration": 18,
    "start_time": "2022-04-24T15:01:48.501Z"
   },
   {
    "duration": 14,
    "start_time": "2022-04-24T15:01:48.522Z"
   },
   {
    "duration": 15,
    "start_time": "2022-04-24T15:01:48.538Z"
   },
   {
    "duration": 50,
    "start_time": "2022-04-24T15:01:48.555Z"
   },
   {
    "duration": 18,
    "start_time": "2022-04-24T15:01:48.608Z"
   },
   {
    "duration": 18,
    "start_time": "2022-04-24T15:01:48.629Z"
   },
   {
    "duration": 64,
    "start_time": "2022-04-24T15:01:48.650Z"
   },
   {
    "duration": 15,
    "start_time": "2022-04-24T15:01:48.717Z"
   },
   {
    "duration": 24,
    "start_time": "2022-04-24T15:01:48.735Z"
   },
   {
    "duration": 45,
    "start_time": "2022-04-24T15:01:48.762Z"
   },
   {
    "duration": 21,
    "start_time": "2022-04-24T15:01:48.810Z"
   },
   {
    "duration": 19,
    "start_time": "2022-04-24T15:01:48.833Z"
   },
   {
    "duration": 14,
    "start_time": "2022-04-24T15:03:32.405Z"
   },
   {
    "duration": 11,
    "start_time": "2022-04-24T15:16:26.432Z"
   },
   {
    "duration": 7,
    "start_time": "2022-04-24T15:18:45.865Z"
   },
   {
    "duration": 21,
    "start_time": "2022-04-24T15:19:03.845Z"
   },
   {
    "duration": 23,
    "start_time": "2022-04-24T15:19:43.863Z"
   },
   {
    "duration": 13,
    "start_time": "2022-04-24T15:23:00.185Z"
   },
   {
    "duration": 15,
    "start_time": "2022-04-24T15:24:24.386Z"
   },
   {
    "duration": 9,
    "start_time": "2022-04-24T15:25:03.566Z"
   },
   {
    "duration": 18,
    "start_time": "2022-04-24T16:21:43.104Z"
   },
   {
    "duration": 15,
    "start_time": "2022-04-24T16:22:28.196Z"
   },
   {
    "duration": 979,
    "start_time": "2022-04-24T17:57:20.169Z"
   },
   {
    "duration": 135,
    "start_time": "2022-04-24T17:57:21.151Z"
   },
   {
    "duration": 30,
    "start_time": "2022-04-24T17:57:21.289Z"
   },
   {
    "duration": 159,
    "start_time": "2022-04-24T17:57:21.322Z"
   },
   {
    "duration": 63,
    "start_time": "2022-04-24T17:57:21.486Z"
   },
   {
    "duration": 43,
    "start_time": "2022-04-24T17:57:21.552Z"
   },
   {
    "duration": 10,
    "start_time": "2022-04-24T17:57:21.599Z"
   },
   {
    "duration": 25,
    "start_time": "2022-04-24T17:57:21.612Z"
   },
   {
    "duration": 75,
    "start_time": "2022-04-24T17:57:21.639Z"
   },
   {
    "duration": 13,
    "start_time": "2022-04-24T17:57:21.717Z"
   },
   {
    "duration": 19,
    "start_time": "2022-04-24T17:57:21.733Z"
   },
   {
    "duration": 5,
    "start_time": "2022-04-24T17:57:21.754Z"
   },
   {
    "duration": 50,
    "start_time": "2022-04-24T17:57:21.761Z"
   },
   {
    "duration": 30,
    "start_time": "2022-04-24T17:57:21.818Z"
   },
   {
    "duration": 15,
    "start_time": "2022-04-24T17:57:21.850Z"
   },
   {
    "duration": 36,
    "start_time": "2022-04-24T17:57:21.867Z"
   },
   {
    "duration": 20,
    "start_time": "2022-04-24T17:57:21.907Z"
   },
   {
    "duration": 431,
    "start_time": "2022-04-24T17:57:21.929Z"
   },
   {
    "duration": 15,
    "start_time": "2022-04-24T17:57:22.362Z"
   },
   {
    "duration": 36,
    "start_time": "2022-04-24T17:57:22.379Z"
   },
   {
    "duration": 15,
    "start_time": "2022-04-24T17:57:22.418Z"
   },
   {
    "duration": 9,
    "start_time": "2022-04-24T17:57:22.435Z"
   },
   {
    "duration": 59,
    "start_time": "2022-04-24T17:57:22.446Z"
   },
   {
    "duration": 18,
    "start_time": "2022-04-24T17:57:22.508Z"
   },
   {
    "duration": 13,
    "start_time": "2022-04-24T17:57:22.528Z"
   },
   {
    "duration": 13,
    "start_time": "2022-04-24T17:57:22.543Z"
   },
   {
    "duration": 22,
    "start_time": "2022-04-24T17:57:22.594Z"
   },
   {
    "duration": 11,
    "start_time": "2022-04-24T17:57:22.618Z"
   },
   {
    "duration": 10,
    "start_time": "2022-04-24T17:57:22.631Z"
   },
   {
    "duration": 55,
    "start_time": "2022-04-24T17:57:22.643Z"
   },
   {
    "duration": 20,
    "start_time": "2022-04-24T17:57:22.702Z"
   },
   {
    "duration": 13,
    "start_time": "2022-04-24T17:57:22.725Z"
   },
   {
    "duration": 53,
    "start_time": "2022-04-24T17:57:22.740Z"
   },
   {
    "duration": 21,
    "start_time": "2022-04-24T17:57:22.797Z"
   },
   {
    "duration": 550,
    "start_time": "2022-04-24T18:02:30.045Z"
   },
   {
    "duration": 96,
    "start_time": "2022-04-24T18:02:30.598Z"
   },
   {
    "duration": 19,
    "start_time": "2022-04-24T18:02:30.696Z"
   },
   {
    "duration": 120,
    "start_time": "2022-04-24T18:02:30.717Z"
   },
   {
    "duration": 38,
    "start_time": "2022-04-24T18:02:30.841Z"
   },
   {
    "duration": 30,
    "start_time": "2022-04-24T18:02:30.894Z"
   },
   {
    "duration": 7,
    "start_time": "2022-04-24T18:02:30.927Z"
   },
   {
    "duration": 92,
    "start_time": "2022-04-24T18:02:30.936Z"
   },
   {
    "duration": 38,
    "start_time": "2022-04-24T18:02:31.031Z"
   },
   {
    "duration": 28,
    "start_time": "2022-04-24T18:02:31.072Z"
   },
   {
    "duration": 18,
    "start_time": "2022-04-24T18:02:31.103Z"
   },
   {
    "duration": 8,
    "start_time": "2022-04-24T18:02:31.124Z"
   },
   {
    "duration": 16,
    "start_time": "2022-04-24T18:02:31.134Z"
   },
   {
    "duration": 18,
    "start_time": "2022-04-24T18:02:31.195Z"
   },
   {
    "duration": 12,
    "start_time": "2022-04-24T18:02:31.216Z"
   },
   {
    "duration": 17,
    "start_time": "2022-04-24T18:02:31.231Z"
   },
   {
    "duration": 60,
    "start_time": "2022-04-24T18:02:31.251Z"
   },
   {
    "duration": 413,
    "start_time": "2022-04-24T18:02:31.314Z"
   },
   {
    "duration": 14,
    "start_time": "2022-04-24T18:02:31.729Z"
   },
   {
    "duration": 19,
    "start_time": "2022-04-24T18:02:31.745Z"
   },
   {
    "duration": 42,
    "start_time": "2022-04-24T18:02:31.766Z"
   },
   {
    "duration": 14,
    "start_time": "2022-04-24T18:02:31.810Z"
   },
   {
    "duration": 16,
    "start_time": "2022-04-24T18:02:31.827Z"
   },
   {
    "duration": 18,
    "start_time": "2022-04-24T18:02:31.845Z"
   },
   {
    "duration": 14,
    "start_time": "2022-04-24T18:02:31.894Z"
   },
   {
    "duration": 20,
    "start_time": "2022-04-24T18:02:31.910Z"
   },
   {
    "duration": 22,
    "start_time": "2022-04-24T18:02:31.932Z"
   },
   {
    "duration": 47,
    "start_time": "2022-04-24T18:02:31.957Z"
   },
   {
    "duration": 13,
    "start_time": "2022-04-24T18:02:32.007Z"
   },
   {
    "duration": 19,
    "start_time": "2022-04-24T18:02:32.023Z"
   },
   {
    "duration": 55,
    "start_time": "2022-04-24T18:02:32.044Z"
   },
   {
    "duration": 15,
    "start_time": "2022-04-24T18:02:32.102Z"
   },
   {
    "duration": 21,
    "start_time": "2022-04-24T18:02:32.119Z"
   },
   {
    "duration": 21,
    "start_time": "2022-04-24T18:02:32.143Z"
   },
   {
    "duration": 105,
    "start_time": "2022-04-24T18:02:32.193Z"
   },
   {
    "duration": 0,
    "start_time": "2022-04-24T18:02:32.300Z"
   },
   {
    "duration": 0,
    "start_time": "2022-04-24T18:02:32.302Z"
   },
   {
    "duration": 0,
    "start_time": "2022-04-24T18:02:32.304Z"
   },
   {
    "duration": 0,
    "start_time": "2022-04-24T18:02:32.306Z"
   },
   {
    "duration": 0,
    "start_time": "2022-04-24T18:02:32.307Z"
   },
   {
    "duration": 0,
    "start_time": "2022-04-24T18:02:32.309Z"
   },
   {
    "duration": 0,
    "start_time": "2022-04-24T18:02:32.311Z"
   },
   {
    "duration": 0,
    "start_time": "2022-04-24T18:02:32.313Z"
   },
   {
    "duration": 0,
    "start_time": "2022-04-24T18:02:32.315Z"
   },
   {
    "duration": 0,
    "start_time": "2022-04-24T18:02:32.316Z"
   },
   {
    "duration": 534,
    "start_time": "2022-04-24T18:05:33.162Z"
   },
   {
    "duration": 102,
    "start_time": "2022-04-24T18:05:33.699Z"
   },
   {
    "duration": 19,
    "start_time": "2022-04-24T18:05:33.803Z"
   },
   {
    "duration": 113,
    "start_time": "2022-04-24T18:05:33.824Z"
   },
   {
    "duration": 36,
    "start_time": "2022-04-24T18:05:33.940Z"
   },
   {
    "duration": 33,
    "start_time": "2022-04-24T18:05:33.978Z"
   },
   {
    "duration": 6,
    "start_time": "2022-04-24T18:05:34.013Z"
   },
   {
    "duration": 31,
    "start_time": "2022-04-24T18:05:34.021Z"
   },
   {
    "duration": 61,
    "start_time": "2022-04-24T18:05:34.054Z"
   },
   {
    "duration": 12,
    "start_time": "2022-04-24T18:05:34.117Z"
   },
   {
    "duration": 16,
    "start_time": "2022-04-24T18:05:34.131Z"
   },
   {
    "duration": 6,
    "start_time": "2022-04-24T18:05:34.149Z"
   },
   {
    "duration": 48,
    "start_time": "2022-04-24T18:05:34.157Z"
   },
   {
    "duration": 18,
    "start_time": "2022-04-24T18:05:34.211Z"
   },
   {
    "duration": 12,
    "start_time": "2022-04-24T18:05:34.231Z"
   },
   {
    "duration": 51,
    "start_time": "2022-04-24T18:05:34.245Z"
   },
   {
    "duration": 15,
    "start_time": "2022-04-24T18:05:34.298Z"
   },
   {
    "duration": 381,
    "start_time": "2022-04-24T18:05:34.315Z"
   },
   {
    "duration": 16,
    "start_time": "2022-04-24T18:05:34.698Z"
   },
   {
    "duration": 16,
    "start_time": "2022-04-24T18:05:34.716Z"
   },
   {
    "duration": 16,
    "start_time": "2022-04-24T18:05:34.734Z"
   },
   {
    "duration": 47,
    "start_time": "2022-04-24T18:05:34.752Z"
   },
   {
    "duration": 16,
    "start_time": "2022-04-24T18:05:34.802Z"
   },
   {
    "duration": 21,
    "start_time": "2022-04-24T18:05:34.821Z"
   },
   {
    "duration": 52,
    "start_time": "2022-04-24T18:05:34.845Z"
   },
   {
    "duration": 13,
    "start_time": "2022-04-24T18:05:34.899Z"
   },
   {
    "duration": 16,
    "start_time": "2022-04-24T18:05:34.914Z"
   },
   {
    "duration": 10,
    "start_time": "2022-04-24T18:05:34.932Z"
   },
   {
    "duration": 50,
    "start_time": "2022-04-24T18:05:34.944Z"
   },
   {
    "duration": 13,
    "start_time": "2022-04-24T18:05:34.997Z"
   },
   {
    "duration": 16,
    "start_time": "2022-04-24T18:05:35.013Z"
   },
   {
    "duration": 11,
    "start_time": "2022-04-24T18:05:35.031Z"
   },
   {
    "duration": 51,
    "start_time": "2022-04-24T18:05:35.044Z"
   },
   {
    "duration": 16,
    "start_time": "2022-04-24T18:05:35.098Z"
   },
   {
    "duration": 465,
    "start_time": "2022-04-24T18:14:10.035Z"
   },
   {
    "duration": 90,
    "start_time": "2022-04-24T18:14:10.503Z"
   },
   {
    "duration": 18,
    "start_time": "2022-04-24T18:14:10.596Z"
   },
   {
    "duration": 107,
    "start_time": "2022-04-24T18:14:10.616Z"
   },
   {
    "duration": 37,
    "start_time": "2022-04-24T18:14:10.726Z"
   },
   {
    "duration": 43,
    "start_time": "2022-04-24T18:14:10.765Z"
   },
   {
    "duration": 7,
    "start_time": "2022-04-24T18:14:10.810Z"
   },
   {
    "duration": 29,
    "start_time": "2022-04-24T18:14:10.819Z"
   },
   {
    "duration": 58,
    "start_time": "2022-04-24T18:14:10.850Z"
   },
   {
    "duration": 14,
    "start_time": "2022-04-24T18:14:10.910Z"
   },
   {
    "duration": 21,
    "start_time": "2022-04-24T18:14:10.927Z"
   },
   {
    "duration": 5,
    "start_time": "2022-04-24T18:14:10.951Z"
   },
   {
    "duration": 52,
    "start_time": "2022-04-24T18:14:10.958Z"
   },
   {
    "duration": 17,
    "start_time": "2022-04-24T18:14:11.014Z"
   },
   {
    "duration": 11,
    "start_time": "2022-04-24T18:14:11.034Z"
   },
   {
    "duration": 15,
    "start_time": "2022-04-24T18:14:11.047Z"
   },
   {
    "duration": 40,
    "start_time": "2022-04-24T18:14:11.064Z"
   },
   {
    "duration": 372,
    "start_time": "2022-04-24T18:14:11.107Z"
   },
   {
    "duration": 22,
    "start_time": "2022-04-24T18:14:11.481Z"
   },
   {
    "duration": 16,
    "start_time": "2022-04-24T18:14:11.505Z"
   },
   {
    "duration": 16,
    "start_time": "2022-04-24T18:14:11.524Z"
   },
   {
    "duration": 11,
    "start_time": "2022-04-24T18:14:11.542Z"
   },
   {
    "duration": 47,
    "start_time": "2022-04-24T18:14:11.555Z"
   },
   {
    "duration": 17,
    "start_time": "2022-04-24T18:14:11.604Z"
   },
   {
    "duration": 12,
    "start_time": "2022-04-24T18:14:11.623Z"
   },
   {
    "duration": 17,
    "start_time": "2022-04-24T18:14:11.637Z"
   },
   {
    "duration": 47,
    "start_time": "2022-04-24T18:14:11.656Z"
   },
   {
    "duration": 10,
    "start_time": "2022-04-24T18:14:11.705Z"
   },
   {
    "duration": 15,
    "start_time": "2022-04-24T18:14:11.717Z"
   },
   {
    "duration": 14,
    "start_time": "2022-04-24T18:14:11.734Z"
   },
   {
    "duration": 53,
    "start_time": "2022-04-24T18:14:11.750Z"
   },
   {
    "duration": 11,
    "start_time": "2022-04-24T18:14:11.805Z"
   },
   {
    "duration": 15,
    "start_time": "2022-04-24T18:14:11.819Z"
   },
   {
    "duration": 16,
    "start_time": "2022-04-24T18:14:11.836Z"
   },
   {
    "duration": 114,
    "start_time": "2022-04-24T18:14:11.894Z"
   },
   {
    "duration": 0,
    "start_time": "2022-04-24T18:14:12.012Z"
   },
   {
    "duration": 0,
    "start_time": "2022-04-24T18:14:12.014Z"
   },
   {
    "duration": 0,
    "start_time": "2022-04-24T18:14:12.015Z"
   },
   {
    "duration": 0,
    "start_time": "2022-04-24T18:14:12.017Z"
   },
   {
    "duration": 1,
    "start_time": "2022-04-24T18:14:12.018Z"
   },
   {
    "duration": 0,
    "start_time": "2022-04-24T18:14:12.021Z"
   },
   {
    "duration": 0,
    "start_time": "2022-04-24T18:14:12.022Z"
   },
   {
    "duration": 0,
    "start_time": "2022-04-24T18:14:12.023Z"
   },
   {
    "duration": 0,
    "start_time": "2022-04-24T18:14:12.025Z"
   },
   {
    "duration": 139,
    "start_time": "2022-04-25T08:12:23.611Z"
   },
   {
    "duration": 72,
    "start_time": "2022-04-25T08:12:35.289Z"
   },
   {
    "duration": 391,
    "start_time": "2022-04-25T08:12:54.069Z"
   },
   {
    "duration": 63,
    "start_time": "2022-04-25T08:12:54.463Z"
   },
   {
    "duration": 17,
    "start_time": "2022-04-25T08:12:54.528Z"
   },
   {
    "duration": 79,
    "start_time": "2022-04-25T08:12:54.547Z"
   },
   {
    "duration": 32,
    "start_time": "2022-04-25T08:12:54.631Z"
   },
   {
    "duration": 18,
    "start_time": "2022-04-25T08:12:54.666Z"
   },
   {
    "duration": 5,
    "start_time": "2022-04-25T08:12:54.686Z"
   },
   {
    "duration": 40,
    "start_time": "2022-04-25T08:12:54.693Z"
   },
   {
    "duration": 31,
    "start_time": "2022-04-25T08:12:54.738Z"
   },
   {
    "duration": 13,
    "start_time": "2022-04-25T08:12:54.772Z"
   },
   {
    "duration": 14,
    "start_time": "2022-04-25T08:12:54.788Z"
   },
   {
    "duration": 9,
    "start_time": "2022-04-25T08:12:54.825Z"
   },
   {
    "duration": 37,
    "start_time": "2022-04-25T08:12:54.836Z"
   },
   {
    "duration": 14,
    "start_time": "2022-04-25T08:12:54.877Z"
   },
   {
    "duration": 12,
    "start_time": "2022-04-25T08:12:54.893Z"
   },
   {
    "duration": 14,
    "start_time": "2022-04-25T08:12:54.908Z"
   },
   {
    "duration": 34,
    "start_time": "2022-04-25T08:12:54.933Z"
   },
   {
    "duration": 265,
    "start_time": "2022-04-25T08:12:54.968Z"
   },
   {
    "duration": 18,
    "start_time": "2022-04-25T08:12:55.234Z"
   },
   {
    "duration": 23,
    "start_time": "2022-04-25T08:12:55.254Z"
   },
   {
    "duration": 11,
    "start_time": "2022-04-25T08:12:55.279Z"
   },
   {
    "duration": 13,
    "start_time": "2022-04-25T08:12:55.291Z"
   },
   {
    "duration": 25,
    "start_time": "2022-04-25T08:12:55.306Z"
   },
   {
    "duration": 15,
    "start_time": "2022-04-25T08:12:55.334Z"
   },
   {
    "duration": 18,
    "start_time": "2022-04-25T08:12:55.351Z"
   },
   {
    "duration": 11,
    "start_time": "2022-04-25T08:12:55.371Z"
   },
   {
    "duration": 12,
    "start_time": "2022-04-25T08:12:55.384Z"
   },
   {
    "duration": 8,
    "start_time": "2022-04-25T08:12:55.397Z"
   },
   {
    "duration": 9,
    "start_time": "2022-04-25T08:12:55.432Z"
   },
   {
    "duration": 36,
    "start_time": "2022-04-25T08:12:55.442Z"
   },
   {
    "duration": 16,
    "start_time": "2022-04-25T08:12:55.481Z"
   },
   {
    "duration": 11,
    "start_time": "2022-04-25T08:12:55.500Z"
   },
   {
    "duration": 27,
    "start_time": "2022-04-25T08:12:55.513Z"
   },
   {
    "duration": 15,
    "start_time": "2022-04-25T08:12:55.543Z"
   },
   {
    "duration": 526,
    "start_time": "2022-04-25T08:12:55.560Z"
   },
   {
    "duration": 0,
    "start_time": "2022-04-25T08:12:56.088Z"
   },
   {
    "duration": 0,
    "start_time": "2022-04-25T08:12:56.089Z"
   },
   {
    "duration": 0,
    "start_time": "2022-04-25T08:12:56.090Z"
   },
   {
    "duration": 0,
    "start_time": "2022-04-25T08:12:56.091Z"
   },
   {
    "duration": 0,
    "start_time": "2022-04-25T08:12:56.093Z"
   },
   {
    "duration": 0,
    "start_time": "2022-04-25T08:12:56.094Z"
   },
   {
    "duration": 0,
    "start_time": "2022-04-25T08:12:56.096Z"
   },
   {
    "duration": 38,
    "start_time": "2022-04-25T08:19:58.599Z"
   },
   {
    "duration": 166,
    "start_time": "2022-04-25T08:20:20.308Z"
   },
   {
    "duration": 32,
    "start_time": "2022-04-25T08:20:25.069Z"
   },
   {
    "duration": 13,
    "start_time": "2022-04-25T08:20:39.689Z"
   },
   {
    "duration": 29,
    "start_time": "2022-04-25T08:21:01.959Z"
   },
   {
    "duration": 9,
    "start_time": "2022-04-25T08:22:30.068Z"
   },
   {
    "duration": 33,
    "start_time": "2022-04-25T08:23:49.552Z"
   },
   {
    "duration": 481,
    "start_time": "2022-04-25T08:24:59.049Z"
   },
   {
    "duration": 107,
    "start_time": "2022-04-25T08:24:59.532Z"
   },
   {
    "duration": 20,
    "start_time": "2022-04-25T08:24:59.643Z"
   },
   {
    "duration": 101,
    "start_time": "2022-04-25T08:24:59.666Z"
   },
   {
    "duration": 29,
    "start_time": "2022-04-25T08:24:59.771Z"
   },
   {
    "duration": 44,
    "start_time": "2022-04-25T08:24:59.802Z"
   },
   {
    "duration": 5,
    "start_time": "2022-04-25T08:24:59.850Z"
   },
   {
    "duration": 17,
    "start_time": "2022-04-25T08:24:59.857Z"
   },
   {
    "duration": 33,
    "start_time": "2022-04-25T08:24:59.876Z"
   },
   {
    "duration": 23,
    "start_time": "2022-04-25T08:24:59.910Z"
   },
   {
    "duration": 27,
    "start_time": "2022-04-25T08:24:59.939Z"
   },
   {
    "duration": 6,
    "start_time": "2022-04-25T08:24:59.968Z"
   },
   {
    "duration": 15,
    "start_time": "2022-04-25T08:24:59.975Z"
   },
   {
    "duration": 13,
    "start_time": "2022-04-25T08:24:59.994Z"
   },
   {
    "duration": 54,
    "start_time": "2022-04-25T08:25:00.009Z"
   },
   {
    "duration": 14,
    "start_time": "2022-04-25T08:25:00.065Z"
   },
   {
    "duration": 16,
    "start_time": "2022-04-25T08:25:00.081Z"
   },
   {
    "duration": 276,
    "start_time": "2022-04-25T08:25:00.099Z"
   },
   {
    "duration": 16,
    "start_time": "2022-04-25T08:25:00.377Z"
   },
   {
    "duration": 32,
    "start_time": "2022-04-25T08:25:00.395Z"
   },
   {
    "duration": 20,
    "start_time": "2022-04-25T08:25:00.429Z"
   },
   {
    "duration": 15,
    "start_time": "2022-04-25T08:25:00.451Z"
   },
   {
    "duration": 20,
    "start_time": "2022-04-25T08:25:00.468Z"
   },
   {
    "duration": 12,
    "start_time": "2022-04-25T08:25:00.489Z"
   },
   {
    "duration": 26,
    "start_time": "2022-04-25T08:25:00.503Z"
   },
   {
    "duration": 33,
    "start_time": "2022-04-25T08:25:00.534Z"
   },
   {
    "duration": 51,
    "start_time": "2022-04-25T08:25:00.570Z"
   },
   {
    "duration": 36,
    "start_time": "2022-04-25T08:25:00.629Z"
   },
   {
    "duration": 14,
    "start_time": "2022-04-25T08:25:00.667Z"
   },
   {
    "duration": 23,
    "start_time": "2022-04-25T08:25:00.684Z"
   },
   {
    "duration": 18,
    "start_time": "2022-04-25T08:25:00.710Z"
   },
   {
    "duration": 30,
    "start_time": "2022-04-25T08:25:00.730Z"
   },
   {
    "duration": 30,
    "start_time": "2022-04-25T08:25:00.763Z"
   },
   {
    "duration": 7,
    "start_time": "2022-04-25T08:25:00.795Z"
   },
   {
    "duration": 66,
    "start_time": "2022-04-25T08:25:00.804Z"
   },
   {
    "duration": 21,
    "start_time": "2022-04-25T08:25:00.871Z"
   },
   {
    "duration": 19,
    "start_time": "2022-04-25T08:25:00.893Z"
   },
   {
    "duration": 8,
    "start_time": "2022-04-25T08:25:00.913Z"
   },
   {
    "duration": 58,
    "start_time": "2022-04-25T08:25:00.922Z"
   },
   {
    "duration": 26,
    "start_time": "2022-04-25T08:25:00.982Z"
   },
   {
    "duration": 25,
    "start_time": "2022-04-25T08:25:01.012Z"
   },
   {
    "duration": 46,
    "start_time": "2022-04-25T08:25:01.038Z"
   },
   {
    "duration": 15,
    "start_time": "2022-04-25T08:32:51.351Z"
   },
   {
    "duration": 9,
    "start_time": "2022-04-25T08:34:27.797Z"
   },
   {
    "duration": 12,
    "start_time": "2022-04-25T08:36:43.708Z"
   },
   {
    "duration": 13,
    "start_time": "2022-04-25T08:37:14.777Z"
   },
   {
    "duration": 91,
    "start_time": "2022-04-25T08:39:13.098Z"
   },
   {
    "duration": 20,
    "start_time": "2022-04-25T08:39:34.149Z"
   },
   {
    "duration": 12,
    "start_time": "2022-04-25T08:40:01.078Z"
   },
   {
    "duration": 11,
    "start_time": "2022-04-25T08:40:16.257Z"
   },
   {
    "duration": 12,
    "start_time": "2022-04-25T08:40:25.807Z"
   },
   {
    "duration": 10,
    "start_time": "2022-04-25T08:40:49.365Z"
   },
   {
    "duration": 22,
    "start_time": "2022-04-25T08:42:24.725Z"
   },
   {
    "duration": 15,
    "start_time": "2022-04-25T08:45:00.937Z"
   },
   {
    "duration": 13,
    "start_time": "2022-04-25T08:46:25.787Z"
   },
   {
    "duration": 385,
    "start_time": "2022-04-25T08:46:45.971Z"
   },
   {
    "duration": 74,
    "start_time": "2022-04-25T08:46:46.358Z"
   },
   {
    "duration": 16,
    "start_time": "2022-04-25T08:46:46.434Z"
   },
   {
    "duration": 79,
    "start_time": "2022-04-25T08:46:46.452Z"
   },
   {
    "duration": 25,
    "start_time": "2022-04-25T08:46:46.533Z"
   },
   {
    "duration": 14,
    "start_time": "2022-04-25T08:46:46.560Z"
   },
   {
    "duration": 13,
    "start_time": "2022-04-25T08:46:46.575Z"
   },
   {
    "duration": 16,
    "start_time": "2022-04-25T08:46:46.590Z"
   },
   {
    "duration": 43,
    "start_time": "2022-04-25T08:46:46.607Z"
   },
   {
    "duration": 10,
    "start_time": "2022-04-25T08:46:46.652Z"
   },
   {
    "duration": 22,
    "start_time": "2022-04-25T08:46:46.664Z"
   },
   {
    "duration": 4,
    "start_time": "2022-04-25T08:46:46.688Z"
   },
   {
    "duration": 11,
    "start_time": "2022-04-25T08:46:46.693Z"
   },
   {
    "duration": 34,
    "start_time": "2022-04-25T08:46:46.706Z"
   },
   {
    "duration": 13,
    "start_time": "2022-04-25T08:46:46.742Z"
   },
   {
    "duration": 10,
    "start_time": "2022-04-25T08:46:46.757Z"
   },
   {
    "duration": 14,
    "start_time": "2022-04-25T08:46:46.768Z"
   },
   {
    "duration": 241,
    "start_time": "2022-04-25T08:46:46.783Z"
   },
   {
    "duration": 14,
    "start_time": "2022-04-25T08:46:47.026Z"
   },
   {
    "duration": 12,
    "start_time": "2022-04-25T08:46:47.042Z"
   },
   {
    "duration": 16,
    "start_time": "2022-04-25T08:46:47.055Z"
   },
   {
    "duration": 11,
    "start_time": "2022-04-25T08:46:47.073Z"
   },
   {
    "duration": 49,
    "start_time": "2022-04-25T08:46:47.086Z"
   },
   {
    "duration": 16,
    "start_time": "2022-04-25T08:46:47.139Z"
   },
   {
    "duration": 12,
    "start_time": "2022-04-25T08:46:47.157Z"
   },
   {
    "duration": 12,
    "start_time": "2022-04-25T08:46:47.171Z"
   },
   {
    "duration": 17,
    "start_time": "2022-04-25T08:46:47.186Z"
   },
   {
    "duration": 12,
    "start_time": "2022-04-25T08:46:47.231Z"
   },
   {
    "duration": 11,
    "start_time": "2022-04-25T08:46:47.245Z"
   },
   {
    "duration": 16,
    "start_time": "2022-04-25T08:46:47.258Z"
   },
   {
    "duration": 16,
    "start_time": "2022-04-25T08:46:47.276Z"
   },
   {
    "duration": 40,
    "start_time": "2022-04-25T08:46:47.294Z"
   },
   {
    "duration": 15,
    "start_time": "2022-04-25T08:46:47.337Z"
   },
   {
    "duration": 13,
    "start_time": "2022-04-25T08:46:47.354Z"
   },
   {
    "duration": 33,
    "start_time": "2022-04-25T08:46:47.369Z"
   },
   {
    "duration": 17,
    "start_time": "2022-04-25T08:46:47.423Z"
   },
   {
    "duration": 14,
    "start_time": "2022-04-25T08:46:47.443Z"
   },
   {
    "duration": 11,
    "start_time": "2022-04-25T08:46:47.459Z"
   },
   {
    "duration": 14,
    "start_time": "2022-04-25T08:46:47.472Z"
   },
   {
    "duration": 42,
    "start_time": "2022-04-25T08:46:47.488Z"
   },
   {
    "duration": 109,
    "start_time": "2022-04-25T08:46:47.532Z"
   },
   {
    "duration": 0,
    "start_time": "2022-04-25T08:46:47.642Z"
   },
   {
    "duration": 0,
    "start_time": "2022-04-25T08:46:47.644Z"
   },
   {
    "duration": 0,
    "start_time": "2022-04-25T08:46:47.645Z"
   },
   {
    "duration": 0,
    "start_time": "2022-04-25T08:46:47.647Z"
   },
   {
    "duration": 0,
    "start_time": "2022-04-25T08:46:47.648Z"
   },
   {
    "duration": 0,
    "start_time": "2022-04-25T08:46:47.650Z"
   },
   {
    "duration": 440,
    "start_time": "2022-04-25T08:48:30.995Z"
   },
   {
    "duration": 68,
    "start_time": "2022-04-25T08:48:31.438Z"
   },
   {
    "duration": 16,
    "start_time": "2022-04-25T08:48:31.507Z"
   },
   {
    "duration": 77,
    "start_time": "2022-04-25T08:48:31.525Z"
   },
   {
    "duration": 39,
    "start_time": "2022-04-25T08:48:31.604Z"
   },
   {
    "duration": 15,
    "start_time": "2022-04-25T08:48:31.644Z"
   },
   {
    "duration": 8,
    "start_time": "2022-04-25T08:48:31.660Z"
   },
   {
    "duration": 29,
    "start_time": "2022-04-25T08:48:31.669Z"
   },
   {
    "duration": 50,
    "start_time": "2022-04-25T08:48:31.700Z"
   },
   {
    "duration": 8,
    "start_time": "2022-04-25T08:48:31.752Z"
   },
   {
    "duration": 28,
    "start_time": "2022-04-25T08:48:31.762Z"
   },
   {
    "duration": 5,
    "start_time": "2022-04-25T08:48:31.792Z"
   },
   {
    "duration": 27,
    "start_time": "2022-04-25T08:48:31.799Z"
   },
   {
    "duration": 16,
    "start_time": "2022-04-25T08:48:31.829Z"
   },
   {
    "duration": 13,
    "start_time": "2022-04-25T08:48:31.847Z"
   },
   {
    "duration": 12,
    "start_time": "2022-04-25T08:48:31.862Z"
   },
   {
    "duration": 15,
    "start_time": "2022-04-25T08:48:31.876Z"
   },
   {
    "duration": 420,
    "start_time": "2022-04-25T08:48:31.923Z"
   },
   {
    "duration": 15,
    "start_time": "2022-04-25T08:48:32.346Z"
   },
   {
    "duration": 17,
    "start_time": "2022-04-25T08:48:32.364Z"
   },
   {
    "duration": 16,
    "start_time": "2022-04-25T08:48:32.383Z"
   },
   {
    "duration": 30,
    "start_time": "2022-04-25T08:48:32.401Z"
   },
   {
    "duration": 22,
    "start_time": "2022-04-25T08:48:32.433Z"
   },
   {
    "duration": 13,
    "start_time": "2022-04-25T08:48:32.457Z"
   },
   {
    "duration": 8,
    "start_time": "2022-04-25T08:48:32.472Z"
   },
   {
    "duration": 14,
    "start_time": "2022-04-25T08:48:32.482Z"
   },
   {
    "duration": 27,
    "start_time": "2022-04-25T08:48:32.498Z"
   },
   {
    "duration": 20,
    "start_time": "2022-04-25T08:48:32.527Z"
   },
   {
    "duration": 13,
    "start_time": "2022-04-25T08:48:32.549Z"
   },
   {
    "duration": 15,
    "start_time": "2022-04-25T08:48:32.565Z"
   },
   {
    "duration": 13,
    "start_time": "2022-04-25T08:48:32.582Z"
   },
   {
    "duration": 18,
    "start_time": "2022-04-25T08:48:32.623Z"
   },
   {
    "duration": 12,
    "start_time": "2022-04-25T08:48:32.643Z"
   },
   {
    "duration": 6,
    "start_time": "2022-04-25T08:48:32.656Z"
   },
   {
    "duration": 69,
    "start_time": "2022-04-25T08:48:32.664Z"
   },
   {
    "duration": 12,
    "start_time": "2022-04-25T08:48:32.736Z"
   },
   {
    "duration": 13,
    "start_time": "2022-04-25T08:48:32.750Z"
   },
   {
    "duration": 11,
    "start_time": "2022-04-25T08:48:32.764Z"
   },
   {
    "duration": 12,
    "start_time": "2022-04-25T08:48:32.776Z"
   },
   {
    "duration": 62,
    "start_time": "2022-04-25T08:48:32.790Z"
   },
   {
    "duration": 11,
    "start_time": "2022-04-25T08:48:32.857Z"
   },
   {
    "duration": 9,
    "start_time": "2022-04-25T08:48:32.870Z"
   },
   {
    "duration": 21,
    "start_time": "2022-04-25T08:48:32.881Z"
   },
   {
    "duration": 25,
    "start_time": "2022-04-25T08:48:32.904Z"
   },
   {
    "duration": 13,
    "start_time": "2022-04-25T08:48:32.931Z"
   },
   {
    "duration": 20,
    "start_time": "2022-04-25T08:48:32.946Z"
   },
   {
    "duration": 14,
    "start_time": "2022-04-25T08:48:32.968Z"
   },
   {
    "duration": 18,
    "start_time": "2022-04-25T08:50:58.795Z"
   },
   {
    "duration": 18,
    "start_time": "2022-04-25T08:52:54.995Z"
   },
   {
    "duration": 11,
    "start_time": "2022-04-25T10:27:40.060Z"
   },
   {
    "duration": 10,
    "start_time": "2022-04-25T11:22:40.682Z"
   },
   {
    "duration": 5,
    "start_time": "2022-04-25T11:23:54.501Z"
   },
   {
    "duration": 5,
    "start_time": "2022-04-25T11:23:57.401Z"
   },
   {
    "duration": 74,
    "start_time": "2022-04-25T11:29:27.640Z"
   },
   {
    "duration": 14,
    "start_time": "2022-04-25T11:30:34.974Z"
   },
   {
    "duration": 19,
    "start_time": "2022-04-25T11:31:13.850Z"
   },
   {
    "duration": 17,
    "start_time": "2022-04-25T11:31:34.961Z"
   },
   {
    "duration": 149,
    "start_time": "2022-04-25T11:35:24.911Z"
   },
   {
    "duration": 12,
    "start_time": "2022-04-25T11:36:48.495Z"
   },
   {
    "duration": 14,
    "start_time": "2022-04-25T11:37:25.543Z"
   },
   {
    "duration": 11,
    "start_time": "2022-04-25T11:40:14.052Z"
   },
   {
    "duration": 15,
    "start_time": "2022-04-25T11:40:30.812Z"
   },
   {
    "duration": 130,
    "start_time": "2022-04-25T11:41:05.001Z"
   },
   {
    "duration": 27,
    "start_time": "2022-04-25T11:41:13.168Z"
   },
   {
    "duration": 114,
    "start_time": "2022-04-25T13:04:56.082Z"
   },
   {
    "duration": 341,
    "start_time": "2022-04-25T13:05:11.193Z"
   },
   {
    "duration": 28,
    "start_time": "2022-04-25T13:05:46.922Z"
   },
   {
    "duration": 307,
    "start_time": "2022-04-25T13:05:56.662Z"
   },
   {
    "duration": 36,
    "start_time": "2022-04-25T13:12:56.562Z"
   },
   {
    "duration": 36,
    "start_time": "2022-04-25T13:20:03.022Z"
   },
   {
    "duration": 27,
    "start_time": "2022-04-25T14:02:45.839Z"
   },
   {
    "duration": 872,
    "start_time": "2022-04-25T14:46:43.095Z"
   },
   {
    "duration": 962,
    "start_time": "2022-04-25T14:49:43.318Z"
   },
   {
    "duration": 96,
    "start_time": "2022-04-25T14:49:44.282Z"
   },
   {
    "duration": 11,
    "start_time": "2022-04-25T14:49:44.381Z"
   },
   {
    "duration": 86,
    "start_time": "2022-04-25T14:49:44.394Z"
   },
   {
    "duration": 26,
    "start_time": "2022-04-25T14:49:44.482Z"
   },
   {
    "duration": 25,
    "start_time": "2022-04-25T14:49:44.524Z"
   },
   {
    "duration": 8,
    "start_time": "2022-04-25T14:49:44.551Z"
   },
   {
    "duration": 23,
    "start_time": "2022-04-25T14:49:44.561Z"
   },
   {
    "duration": 59,
    "start_time": "2022-04-25T14:49:44.586Z"
   },
   {
    "duration": 15,
    "start_time": "2022-04-25T14:49:44.649Z"
   },
   {
    "duration": 19,
    "start_time": "2022-04-25T14:49:44.667Z"
   },
   {
    "duration": 6,
    "start_time": "2022-04-25T14:49:44.689Z"
   },
   {
    "duration": 18,
    "start_time": "2022-04-25T14:49:44.723Z"
   },
   {
    "duration": 18,
    "start_time": "2022-04-25T14:49:44.743Z"
   },
   {
    "duration": 12,
    "start_time": "2022-04-25T14:49:44.764Z"
   },
   {
    "duration": 47,
    "start_time": "2022-04-25T14:49:44.779Z"
   },
   {
    "duration": 15,
    "start_time": "2022-04-25T14:49:44.829Z"
   },
   {
    "duration": 254,
    "start_time": "2022-04-25T14:49:44.846Z"
   },
   {
    "duration": 27,
    "start_time": "2022-04-25T14:49:45.102Z"
   },
   {
    "duration": 19,
    "start_time": "2022-04-25T14:49:45.132Z"
   },
   {
    "duration": 19,
    "start_time": "2022-04-25T14:49:45.153Z"
   },
   {
    "duration": 19,
    "start_time": "2022-04-25T14:49:45.174Z"
   },
   {
    "duration": 17,
    "start_time": "2022-04-25T14:49:45.224Z"
   },
   {
    "duration": 18,
    "start_time": "2022-04-25T14:49:45.243Z"
   },
   {
    "duration": 13,
    "start_time": "2022-04-25T14:49:45.264Z"
   },
   {
    "duration": 49,
    "start_time": "2022-04-25T14:49:45.279Z"
   },
   {
    "duration": 23,
    "start_time": "2022-04-25T14:49:45.331Z"
   },
   {
    "duration": 13,
    "start_time": "2022-04-25T14:49:45.360Z"
   },
   {
    "duration": 17,
    "start_time": "2022-04-25T14:49:45.376Z"
   },
   {
    "duration": 41,
    "start_time": "2022-04-25T14:49:45.396Z"
   },
   {
    "duration": 19,
    "start_time": "2022-04-25T14:49:45.439Z"
   },
   {
    "duration": 14,
    "start_time": "2022-04-25T14:49:45.460Z"
   },
   {
    "duration": 19,
    "start_time": "2022-04-25T14:49:45.476Z"
   },
   {
    "duration": 32,
    "start_time": "2022-04-25T14:49:45.497Z"
   },
   {
    "duration": 55,
    "start_time": "2022-04-25T14:49:45.531Z"
   },
   {
    "duration": 46,
    "start_time": "2022-04-25T14:49:45.588Z"
   },
   {
    "duration": 21,
    "start_time": "2022-04-25T14:49:45.636Z"
   },
   {
    "duration": 17,
    "start_time": "2022-04-25T14:49:45.659Z"
   },
   {
    "duration": 49,
    "start_time": "2022-04-25T14:49:45.679Z"
   },
   {
    "duration": 13,
    "start_time": "2022-04-25T14:49:45.730Z"
   },
   {
    "duration": 17,
    "start_time": "2022-04-25T14:49:45.746Z"
   },
   {
    "duration": 17,
    "start_time": "2022-04-25T14:49:45.765Z"
   },
   {
    "duration": 42,
    "start_time": "2022-04-25T14:49:45.784Z"
   },
   {
    "duration": 11,
    "start_time": "2022-04-25T14:49:45.827Z"
   },
   {
    "duration": 14,
    "start_time": "2022-04-25T14:49:45.840Z"
   },
   {
    "duration": 16,
    "start_time": "2022-04-25T14:49:45.857Z"
   },
   {
    "duration": 50,
    "start_time": "2022-04-25T14:49:45.875Z"
   },
   {
    "duration": 16,
    "start_time": "2022-04-25T14:49:45.927Z"
   },
   {
    "duration": 18,
    "start_time": "2022-04-25T14:49:45.945Z"
   },
   {
    "duration": 63,
    "start_time": "2022-04-25T14:49:45.965Z"
   },
   {
    "duration": 46,
    "start_time": "2022-04-25T14:49:46.030Z"
   },
   {
    "duration": 518,
    "start_time": "2022-04-25T14:49:46.079Z"
   },
   {
    "duration": 51,
    "start_time": "2022-04-25T14:49:46.600Z"
   },
   {
    "duration": 200,
    "start_time": "2022-04-25T14:49:46.659Z"
   },
   {
    "duration": 8,
    "start_time": "2022-04-25T16:21:09.866Z"
   },
   {
    "duration": 221,
    "start_time": "2022-04-25T16:22:18.947Z"
   },
   {
    "duration": 266,
    "start_time": "2022-04-25T16:22:32.743Z"
   },
   {
    "duration": 110,
    "start_time": "2022-04-25T16:22:40.538Z"
   },
   {
    "duration": 11,
    "start_time": "2022-04-25T16:32:06.257Z"
   },
   {
    "duration": 2628,
    "start_time": "2022-04-25T16:33:10.449Z"
   },
   {
    "duration": 12,
    "start_time": "2022-04-25T16:34:55.168Z"
   },
   {
    "duration": 180,
    "start_time": "2022-04-25T16:35:11.433Z"
   },
   {
    "duration": 332,
    "start_time": "2022-04-25T16:37:15.302Z"
   },
   {
    "duration": 231,
    "start_time": "2022-04-25T16:42:47.687Z"
   },
   {
    "duration": 7,
    "start_time": "2022-04-25T16:43:07.390Z"
   },
   {
    "duration": 1355,
    "start_time": "2022-04-26T09:33:05.222Z"
   },
   {
    "duration": 69,
    "start_time": "2022-04-26T09:33:06.579Z"
   },
   {
    "duration": 9,
    "start_time": "2022-04-26T09:33:06.650Z"
   },
   {
    "duration": 73,
    "start_time": "2022-04-26T09:33:06.660Z"
   },
   {
    "duration": 21,
    "start_time": "2022-04-26T09:33:06.735Z"
   },
   {
    "duration": 17,
    "start_time": "2022-04-26T09:33:06.758Z"
   },
   {
    "duration": 3,
    "start_time": "2022-04-26T09:33:06.776Z"
   },
   {
    "duration": 26,
    "start_time": "2022-04-26T09:33:06.781Z"
   },
   {
    "duration": 22,
    "start_time": "2022-04-26T09:33:06.809Z"
   },
   {
    "duration": 8,
    "start_time": "2022-04-26T09:33:06.833Z"
   },
   {
    "duration": 14,
    "start_time": "2022-04-26T09:33:06.842Z"
   },
   {
    "duration": 4,
    "start_time": "2022-04-26T09:33:06.857Z"
   },
   {
    "duration": 20,
    "start_time": "2022-04-26T09:33:06.862Z"
   },
   {
    "duration": 25,
    "start_time": "2022-04-26T09:33:06.884Z"
   },
   {
    "duration": 6,
    "start_time": "2022-04-26T09:33:06.911Z"
   },
   {
    "duration": 9,
    "start_time": "2022-04-26T09:33:06.919Z"
   },
   {
    "duration": 9,
    "start_time": "2022-04-26T09:33:06.930Z"
   },
   {
    "duration": 227,
    "start_time": "2022-04-26T09:33:06.941Z"
   },
   {
    "duration": 9,
    "start_time": "2022-04-26T09:33:07.169Z"
   },
   {
    "duration": 23,
    "start_time": "2022-04-26T09:33:07.179Z"
   },
   {
    "duration": 10,
    "start_time": "2022-04-26T09:33:07.203Z"
   },
   {
    "duration": 11,
    "start_time": "2022-04-26T09:33:07.214Z"
   },
   {
    "duration": 9,
    "start_time": "2022-04-26T09:33:07.226Z"
   },
   {
    "duration": 9,
    "start_time": "2022-04-26T09:33:07.237Z"
   },
   {
    "duration": 7,
    "start_time": "2022-04-26T09:33:07.248Z"
   },
   {
    "duration": 44,
    "start_time": "2022-04-26T09:33:07.257Z"
   },
   {
    "duration": 11,
    "start_time": "2022-04-26T09:33:07.303Z"
   },
   {
    "duration": 7,
    "start_time": "2022-04-26T09:33:07.317Z"
   },
   {
    "duration": 12,
    "start_time": "2022-04-26T09:33:07.325Z"
   },
   {
    "duration": 10,
    "start_time": "2022-04-26T09:33:07.338Z"
   },
   {
    "duration": 11,
    "start_time": "2022-04-26T09:33:07.349Z"
   },
   {
    "duration": 39,
    "start_time": "2022-04-26T09:33:07.362Z"
   },
   {
    "duration": 9,
    "start_time": "2022-04-26T09:33:07.402Z"
   },
   {
    "duration": 6,
    "start_time": "2022-04-26T09:33:07.412Z"
   },
   {
    "duration": 31,
    "start_time": "2022-04-26T09:33:07.419Z"
   },
   {
    "duration": 10,
    "start_time": "2022-04-26T09:33:07.451Z"
   },
   {
    "duration": 40,
    "start_time": "2022-04-26T09:33:07.462Z"
   },
   {
    "duration": 11,
    "start_time": "2022-04-26T09:33:07.503Z"
   },
   {
    "duration": 12,
    "start_time": "2022-04-26T09:33:07.515Z"
   },
   {
    "duration": 8,
    "start_time": "2022-04-26T09:33:07.528Z"
   },
   {
    "duration": 9,
    "start_time": "2022-04-26T09:33:07.537Z"
   },
   {
    "duration": 9,
    "start_time": "2022-04-26T09:33:07.548Z"
   },
   {
    "duration": 47,
    "start_time": "2022-04-26T09:33:07.558Z"
   },
   {
    "duration": 8,
    "start_time": "2022-04-26T09:33:07.606Z"
   },
   {
    "duration": 12,
    "start_time": "2022-04-26T09:33:07.615Z"
   },
   {
    "duration": 9,
    "start_time": "2022-04-26T09:33:07.628Z"
   },
   {
    "duration": 10,
    "start_time": "2022-04-26T09:33:07.638Z"
   },
   {
    "duration": 8,
    "start_time": "2022-04-26T09:33:07.650Z"
   },
   {
    "duration": 43,
    "start_time": "2022-04-26T09:33:07.659Z"
   },
   {
    "duration": 26,
    "start_time": "2022-04-26T09:33:07.703Z"
   },
   {
    "duration": 27,
    "start_time": "2022-04-26T09:33:07.730Z"
   },
   {
    "duration": 285,
    "start_time": "2022-04-26T09:33:07.759Z"
   },
   {
    "duration": 20,
    "start_time": "2022-04-26T09:33:08.046Z"
   },
   {
    "duration": 5,
    "start_time": "2022-04-26T09:33:08.068Z"
   },
   {
    "duration": 215,
    "start_time": "2022-04-26T09:33:08.074Z"
   },
   {
    "duration": 648,
    "start_time": "2022-04-26T09:34:23.524Z"
   },
   {
    "duration": 200,
    "start_time": "2022-04-26T09:34:59.445Z"
   },
   {
    "duration": 223,
    "start_time": "2022-04-26T09:35:30.411Z"
   },
   {
    "duration": 111,
    "start_time": "2022-04-26T09:35:51.338Z"
   },
   {
    "duration": 304,
    "start_time": "2022-04-26T09:36:12.285Z"
   },
   {
    "duration": 674,
    "start_time": "2022-04-26T09:36:20.599Z"
   },
   {
    "duration": 108,
    "start_time": "2022-04-26T09:36:26.337Z"
   },
   {
    "duration": 132,
    "start_time": "2022-04-26T09:36:34.650Z"
   },
   {
    "duration": 9,
    "start_time": "2022-04-26T09:49:52.754Z"
   },
   {
    "duration": 256,
    "start_time": "2022-04-26T09:54:27.766Z"
   },
   {
    "duration": 133,
    "start_time": "2022-04-26T09:55:46.805Z"
   },
   {
    "duration": 148,
    "start_time": "2022-04-26T09:55:47.806Z"
   },
   {
    "duration": 246,
    "start_time": "2022-04-26T09:55:48.727Z"
   },
   {
    "duration": 129,
    "start_time": "2022-04-26T09:55:49.562Z"
   },
   {
    "duration": 122,
    "start_time": "2022-04-26T09:56:19.708Z"
   },
   {
    "duration": 128,
    "start_time": "2022-04-26T10:10:12.514Z"
   },
   {
    "duration": 15,
    "start_time": "2022-04-26T10:12:52.270Z"
   },
   {
    "duration": 358,
    "start_time": "2022-04-26T10:16:10.105Z"
   },
   {
    "duration": 124,
    "start_time": "2022-04-26T10:18:12.258Z"
   },
   {
    "duration": 146,
    "start_time": "2022-04-26T10:18:35.483Z"
   },
   {
    "duration": 157,
    "start_time": "2022-04-26T10:18:41.382Z"
   },
   {
    "duration": 167,
    "start_time": "2022-04-26T10:18:46.049Z"
   },
   {
    "duration": 355,
    "start_time": "2022-04-26T10:20:34.788Z"
   },
   {
    "duration": 1252,
    "start_time": "2022-04-26T10:20:57.722Z"
   },
   {
    "duration": 87,
    "start_time": "2022-04-26T10:20:58.976Z"
   },
   {
    "duration": 12,
    "start_time": "2022-04-26T10:20:59.065Z"
   },
   {
    "duration": 92,
    "start_time": "2022-04-26T10:20:59.079Z"
   },
   {
    "duration": 33,
    "start_time": "2022-04-26T10:20:59.173Z"
   },
   {
    "duration": 25,
    "start_time": "2022-04-26T10:20:59.208Z"
   },
   {
    "duration": 4,
    "start_time": "2022-04-26T10:20:59.235Z"
   },
   {
    "duration": 18,
    "start_time": "2022-04-26T10:20:59.241Z"
   },
   {
    "duration": 23,
    "start_time": "2022-04-26T10:20:59.260Z"
   },
   {
    "duration": 27,
    "start_time": "2022-04-26T10:20:59.286Z"
   },
   {
    "duration": 10,
    "start_time": "2022-04-26T10:20:59.315Z"
   },
   {
    "duration": 4,
    "start_time": "2022-04-26T10:20:59.327Z"
   },
   {
    "duration": 12,
    "start_time": "2022-04-26T10:20:59.332Z"
   },
   {
    "duration": 14,
    "start_time": "2022-04-26T10:20:59.345Z"
   },
   {
    "duration": 7,
    "start_time": "2022-04-26T10:20:59.361Z"
   },
   {
    "duration": 12,
    "start_time": "2022-04-26T10:20:59.369Z"
   },
   {
    "duration": 13,
    "start_time": "2022-04-26T10:20:59.402Z"
   },
   {
    "duration": 236,
    "start_time": "2022-04-26T10:20:59.416Z"
   },
   {
    "duration": 9,
    "start_time": "2022-04-26T10:20:59.654Z"
   },
   {
    "duration": 10,
    "start_time": "2022-04-26T10:20:59.664Z"
   },
   {
    "duration": 29,
    "start_time": "2022-04-26T10:20:59.676Z"
   },
   {
    "duration": 20,
    "start_time": "2022-04-26T10:20:59.707Z"
   },
   {
    "duration": 9,
    "start_time": "2022-04-26T10:20:59.729Z"
   },
   {
    "duration": 11,
    "start_time": "2022-04-26T10:20:59.739Z"
   },
   {
    "duration": 8,
    "start_time": "2022-04-26T10:20:59.751Z"
   },
   {
    "duration": 11,
    "start_time": "2022-04-26T10:20:59.760Z"
   },
   {
    "duration": 28,
    "start_time": "2022-04-26T10:20:59.773Z"
   },
   {
    "duration": 8,
    "start_time": "2022-04-26T10:20:59.812Z"
   },
   {
    "duration": 8,
    "start_time": "2022-04-26T10:20:59.821Z"
   },
   {
    "duration": 10,
    "start_time": "2022-04-26T10:20:59.831Z"
   },
   {
    "duration": 11,
    "start_time": "2022-04-26T10:20:59.842Z"
   },
   {
    "duration": 8,
    "start_time": "2022-04-26T10:20:59.855Z"
   },
   {
    "duration": 45,
    "start_time": "2022-04-26T10:20:59.864Z"
   },
   {
    "duration": 12,
    "start_time": "2022-04-26T10:20:59.911Z"
   },
   {
    "duration": 31,
    "start_time": "2022-04-26T10:20:59.924Z"
   },
   {
    "duration": 10,
    "start_time": "2022-04-26T10:20:59.956Z"
   },
   {
    "duration": 35,
    "start_time": "2022-04-26T10:20:59.967Z"
   },
   {
    "duration": 13,
    "start_time": "2022-04-26T10:21:00.004Z"
   },
   {
    "duration": 12,
    "start_time": "2022-04-26T10:21:00.019Z"
   },
   {
    "duration": 6,
    "start_time": "2022-04-26T10:21:00.033Z"
   },
   {
    "duration": 9,
    "start_time": "2022-04-26T10:21:00.041Z"
   },
   {
    "duration": 10,
    "start_time": "2022-04-26T10:21:00.051Z"
   },
   {
    "duration": 40,
    "start_time": "2022-04-26T10:21:00.063Z"
   },
   {
    "duration": 15,
    "start_time": "2022-04-26T10:21:00.105Z"
   },
   {
    "duration": 12,
    "start_time": "2022-04-26T10:21:00.121Z"
   },
   {
    "duration": 9,
    "start_time": "2022-04-26T10:21:00.135Z"
   },
   {
    "duration": 12,
    "start_time": "2022-04-26T10:21:00.146Z"
   },
   {
    "duration": 11,
    "start_time": "2022-04-26T10:21:00.159Z"
   },
   {
    "duration": 16,
    "start_time": "2022-04-26T10:21:00.202Z"
   },
   {
    "duration": 40,
    "start_time": "2022-04-26T10:21:00.219Z"
   },
   {
    "duration": 41,
    "start_time": "2022-04-26T10:21:00.261Z"
   },
   {
    "duration": 317,
    "start_time": "2022-04-26T10:21:00.304Z"
   },
   {
    "duration": 23,
    "start_time": "2022-04-26T10:21:00.623Z"
   },
   {
    "duration": 9,
    "start_time": "2022-04-26T10:21:00.648Z"
   },
   {
    "duration": 239,
    "start_time": "2022-04-26T10:21:00.659Z"
   },
   {
    "duration": 168,
    "start_time": "2022-04-26T10:21:00.900Z"
   },
   {
    "duration": 297,
    "start_time": "2022-04-26T10:21:01.070Z"
   },
   {
    "duration": 0,
    "start_time": "2022-04-26T10:21:01.368Z"
   },
   {
    "duration": 1,
    "start_time": "2022-04-26T10:21:01.369Z"
   },
   {
    "duration": 0,
    "start_time": "2022-04-26T10:21:01.370Z"
   },
   {
    "duration": 227,
    "start_time": "2022-04-26T10:21:24.299Z"
   },
   {
    "duration": 199,
    "start_time": "2022-04-26T10:22:54.660Z"
   },
   {
    "duration": 67,
    "start_time": "2022-04-26T10:24:36.703Z"
   },
   {
    "duration": 97,
    "start_time": "2022-04-26T10:25:14.319Z"
   },
   {
    "duration": 10,
    "start_time": "2022-04-26T10:25:45.774Z"
   },
   {
    "duration": 10,
    "start_time": "2022-04-26T10:26:04.477Z"
   },
   {
    "duration": 3139,
    "start_time": "2022-04-26T10:27:17.678Z"
   },
   {
    "duration": 199,
    "start_time": "2022-04-26T10:37:29.106Z"
   },
   {
    "duration": 126,
    "start_time": "2022-04-26T10:37:37.791Z"
   },
   {
    "duration": 15,
    "start_time": "2022-04-26T12:35:31.206Z"
   },
   {
    "duration": 10,
    "start_time": "2022-04-26T12:36:57.227Z"
   },
   {
    "duration": 1252,
    "start_time": "2022-04-26T12:37:52.190Z"
   },
   {
    "duration": 91,
    "start_time": "2022-04-26T12:37:53.444Z"
   },
   {
    "duration": 9,
    "start_time": "2022-04-26T12:37:53.537Z"
   },
   {
    "duration": 85,
    "start_time": "2022-04-26T12:37:53.548Z"
   },
   {
    "duration": 22,
    "start_time": "2022-04-26T12:37:53.635Z"
   },
   {
    "duration": 16,
    "start_time": "2022-04-26T12:37:53.658Z"
   },
   {
    "duration": 28,
    "start_time": "2022-04-26T12:37:53.676Z"
   },
   {
    "duration": 17,
    "start_time": "2022-04-26T12:37:53.707Z"
   },
   {
    "duration": 23,
    "start_time": "2022-04-26T12:37:53.726Z"
   },
   {
    "duration": 8,
    "start_time": "2022-04-26T12:37:53.751Z"
   },
   {
    "duration": 11,
    "start_time": "2022-04-26T12:37:53.761Z"
   },
   {
    "duration": 38,
    "start_time": "2022-04-26T12:37:53.773Z"
   },
   {
    "duration": 10,
    "start_time": "2022-04-26T12:37:53.814Z"
   },
   {
    "duration": 11,
    "start_time": "2022-04-26T12:37:53.825Z"
   },
   {
    "duration": 11,
    "start_time": "2022-04-26T12:37:53.837Z"
   },
   {
    "duration": 7,
    "start_time": "2022-04-26T12:37:53.849Z"
   },
   {
    "duration": 19,
    "start_time": "2022-04-26T12:37:53.858Z"
   },
   {
    "duration": 36,
    "start_time": "2022-04-26T12:37:53.879Z"
   },
   {
    "duration": 227,
    "start_time": "2022-04-26T12:37:53.916Z"
   },
   {
    "duration": 9,
    "start_time": "2022-04-26T12:37:54.145Z"
   },
   {
    "duration": 11,
    "start_time": "2022-04-26T12:37:54.155Z"
   },
   {
    "duration": 8,
    "start_time": "2022-04-26T12:37:54.168Z"
   },
   {
    "duration": 33,
    "start_time": "2022-04-26T12:37:54.178Z"
   },
   {
    "duration": 10,
    "start_time": "2022-04-26T12:37:54.213Z"
   },
   {
    "duration": 11,
    "start_time": "2022-04-26T12:37:54.225Z"
   },
   {
    "duration": 8,
    "start_time": "2022-04-26T12:37:54.238Z"
   },
   {
    "duration": 8,
    "start_time": "2022-04-26T12:37:54.248Z"
   },
   {
    "duration": 55,
    "start_time": "2022-04-26T12:37:54.260Z"
   },
   {
    "duration": 7,
    "start_time": "2022-04-26T12:37:54.316Z"
   },
   {
    "duration": 9,
    "start_time": "2022-04-26T12:37:54.324Z"
   },
   {
    "duration": 9,
    "start_time": "2022-04-26T12:37:54.334Z"
   },
   {
    "duration": 10,
    "start_time": "2022-04-26T12:37:54.345Z"
   },
   {
    "duration": 7,
    "start_time": "2022-04-26T12:37:54.356Z"
   },
   {
    "duration": 49,
    "start_time": "2022-04-26T12:37:54.364Z"
   },
   {
    "duration": 7,
    "start_time": "2022-04-26T12:37:54.415Z"
   },
   {
    "duration": 32,
    "start_time": "2022-04-26T12:37:54.423Z"
   },
   {
    "duration": 10,
    "start_time": "2022-04-26T12:37:54.457Z"
   },
   {
    "duration": 36,
    "start_time": "2022-04-26T12:37:54.469Z"
   },
   {
    "duration": 14,
    "start_time": "2022-04-26T12:37:54.508Z"
   },
   {
    "duration": 12,
    "start_time": "2022-04-26T12:37:54.524Z"
   },
   {
    "duration": 11,
    "start_time": "2022-04-26T12:37:54.537Z"
   },
   {
    "duration": 8,
    "start_time": "2022-04-26T12:37:54.550Z"
   },
   {
    "duration": 8,
    "start_time": "2022-04-26T12:37:54.560Z"
   },
   {
    "duration": 46,
    "start_time": "2022-04-26T12:37:54.570Z"
   },
   {
    "duration": 7,
    "start_time": "2022-04-26T12:37:54.618Z"
   },
   {
    "duration": 9,
    "start_time": "2022-04-26T12:37:54.627Z"
   },
   {
    "duration": 9,
    "start_time": "2022-04-26T12:37:54.637Z"
   },
   {
    "duration": 10,
    "start_time": "2022-04-26T12:37:54.647Z"
   },
   {
    "duration": 46,
    "start_time": "2022-04-26T12:37:54.659Z"
   },
   {
    "duration": 15,
    "start_time": "2022-04-26T12:37:54.708Z"
   },
   {
    "duration": 23,
    "start_time": "2022-04-26T12:37:54.724Z"
   },
   {
    "duration": 27,
    "start_time": "2022-04-26T12:37:54.749Z"
   },
   {
    "duration": 330,
    "start_time": "2022-04-26T12:37:54.778Z"
   },
   {
    "duration": 23,
    "start_time": "2022-04-26T12:37:55.110Z"
   },
   {
    "duration": 5,
    "start_time": "2022-04-26T12:37:55.134Z"
   },
   {
    "duration": 242,
    "start_time": "2022-04-26T12:37:55.141Z"
   },
   {
    "duration": 162,
    "start_time": "2022-04-26T12:37:55.384Z"
   },
   {
    "duration": 229,
    "start_time": "2022-04-26T12:37:55.548Z"
   },
   {
    "duration": 170,
    "start_time": "2022-04-26T12:37:55.779Z"
   },
   {
    "duration": 223,
    "start_time": "2022-04-26T12:37:55.951Z"
   },
   {
    "duration": 155,
    "start_time": "2022-04-26T12:37:56.176Z"
   },
   {
    "duration": 3300,
    "start_time": "2022-04-26T12:37:56.333Z"
   },
   {
    "duration": 17,
    "start_time": "2022-04-26T12:40:12.439Z"
   },
   {
    "duration": 15,
    "start_time": "2022-04-26T12:41:10.693Z"
   },
   {
    "duration": 195,
    "start_time": "2022-04-26T12:43:21.476Z"
   },
   {
    "duration": 50,
    "start_time": "2022-04-26T12:47:35.765Z"
   },
   {
    "duration": 21,
    "start_time": "2022-04-26T12:54:56.634Z"
   },
   {
    "duration": 282,
    "start_time": "2022-04-26T12:55:35.918Z"
   },
   {
    "duration": 160,
    "start_time": "2022-04-26T13:09:37.750Z"
   },
   {
    "duration": 105,
    "start_time": "2022-04-26T13:14:18.057Z"
   },
   {
    "duration": 171,
    "start_time": "2022-04-26T13:14:44.857Z"
   },
   {
    "duration": 171,
    "start_time": "2022-04-26T13:15:17.358Z"
   },
   {
    "duration": 14,
    "start_time": "2022-04-26T13:15:23.562Z"
   },
   {
    "duration": 2941,
    "start_time": "2022-04-26T13:17:34.456Z"
   },
   {
    "duration": 408,
    "start_time": "2022-04-26T13:18:01.697Z"
   },
   {
    "duration": 449,
    "start_time": "2022-04-26T13:18:07.908Z"
   },
   {
    "duration": 136,
    "start_time": "2022-04-26T13:18:59.622Z"
   },
   {
    "duration": 134,
    "start_time": "2022-04-26T13:19:37.827Z"
   },
   {
    "duration": 9,
    "start_time": "2022-04-26T13:21:44.775Z"
   },
   {
    "duration": 121545,
    "start_time": "2022-04-26T13:22:41.921Z"
   },
   {
    "duration": 654,
    "start_time": "2022-04-26T13:24:51.139Z"
   },
   {
    "duration": 547,
    "start_time": "2022-04-26T13:25:14.112Z"
   },
   {
    "duration": 230,
    "start_time": "2022-04-26T13:26:40.594Z"
   },
   {
    "duration": 136,
    "start_time": "2022-04-26T13:27:39.226Z"
   },
   {
    "duration": 227,
    "start_time": "2022-04-26T13:27:47.283Z"
   },
   {
    "duration": 226,
    "start_time": "2022-04-26T13:28:02.448Z"
   },
   {
    "duration": 243,
    "start_time": "2022-04-26T13:28:08.064Z"
   },
   {
    "duration": 156,
    "start_time": "2022-04-26T13:28:17.072Z"
   },
   {
    "duration": 231,
    "start_time": "2022-04-26T13:28:37.105Z"
   },
   {
    "duration": 172,
    "start_time": "2022-04-26T13:28:50.914Z"
   },
   {
    "duration": 6,
    "start_time": "2022-04-26T13:29:25.825Z"
   },
   {
    "duration": 7,
    "start_time": "2022-04-26T13:29:44.754Z"
   },
   {
    "duration": 162,
    "start_time": "2022-04-26T13:30:08.557Z"
   },
   {
    "duration": 156,
    "start_time": "2022-04-26T13:30:20.652Z"
   },
   {
    "duration": 164,
    "start_time": "2022-04-26T13:30:29.673Z"
   },
   {
    "duration": 7,
    "start_time": "2022-04-26T13:31:28.392Z"
   },
   {
    "duration": 7,
    "start_time": "2022-04-26T13:31:38.461Z"
   },
   {
    "duration": 164,
    "start_time": "2022-04-26T13:31:52.489Z"
   },
   {
    "duration": 227,
    "start_time": "2022-04-26T14:06:49.196Z"
   },
   {
    "duration": 169,
    "start_time": "2022-04-26T14:06:58.988Z"
   },
   {
    "duration": 176,
    "start_time": "2022-04-26T14:07:08.540Z"
   },
   {
    "duration": 248,
    "start_time": "2022-04-26T14:10:25.574Z"
   },
   {
    "duration": 269,
    "start_time": "2022-04-26T14:10:32.445Z"
   },
   {
    "duration": 427,
    "start_time": "2022-04-26T14:10:44.965Z"
   },
   {
    "duration": 294,
    "start_time": "2022-04-26T14:10:53.149Z"
   },
   {
    "duration": 395,
    "start_time": "2022-04-26T14:11:00.849Z"
   },
   {
    "duration": 10,
    "start_time": "2022-04-26T14:20:45.730Z"
   },
   {
    "duration": 10,
    "start_time": "2022-04-26T14:21:16.538Z"
   },
   {
    "duration": 2647,
    "start_time": "2022-04-26T14:21:33.760Z"
   },
   {
    "duration": 591,
    "start_time": "2022-04-26T14:21:44.030Z"
   },
   {
    "duration": 439,
    "start_time": "2022-04-26T14:21:50.498Z"
   },
   {
    "duration": 8,
    "start_time": "2022-04-26T14:22:20.816Z"
   },
   {
    "duration": 9,
    "start_time": "2022-04-26T14:22:42.286Z"
   },
   {
    "duration": 9,
    "start_time": "2022-04-26T14:31:00.427Z"
   },
   {
    "duration": 253,
    "start_time": "2022-04-26T14:32:05.814Z"
   },
   {
    "duration": 238,
    "start_time": "2022-04-26T14:32:21.288Z"
   },
   {
    "duration": 8,
    "start_time": "2022-04-26T14:33:26.771Z"
   },
   {
    "duration": 3,
    "start_time": "2022-04-26T14:34:24.271Z"
   },
   {
    "duration": 1212,
    "start_time": "2022-04-26T14:34:37.580Z"
   },
   {
    "duration": 77,
    "start_time": "2022-04-26T14:34:38.794Z"
   },
   {
    "duration": 9,
    "start_time": "2022-04-26T14:34:38.873Z"
   },
   {
    "duration": 77,
    "start_time": "2022-04-26T14:34:38.884Z"
   },
   {
    "duration": 22,
    "start_time": "2022-04-26T14:34:38.962Z"
   },
   {
    "duration": 27,
    "start_time": "2022-04-26T14:34:38.985Z"
   },
   {
    "duration": 6,
    "start_time": "2022-04-26T14:34:39.013Z"
   },
   {
    "duration": 17,
    "start_time": "2022-04-26T14:34:39.020Z"
   },
   {
    "duration": 22,
    "start_time": "2022-04-26T14:34:39.038Z"
   },
   {
    "duration": 8,
    "start_time": "2022-04-26T14:34:39.063Z"
   },
   {
    "duration": 44,
    "start_time": "2022-04-26T14:34:39.073Z"
   },
   {
    "duration": 14,
    "start_time": "2022-04-26T14:34:39.118Z"
   },
   {
    "duration": 13,
    "start_time": "2022-04-26T14:34:39.134Z"
   },
   {
    "duration": 18,
    "start_time": "2022-04-26T14:34:39.148Z"
   },
   {
    "duration": 55,
    "start_time": "2022-04-26T14:34:39.168Z"
   },
   {
    "duration": 7,
    "start_time": "2022-04-26T14:34:39.224Z"
   },
   {
    "duration": 12,
    "start_time": "2022-04-26T14:34:39.233Z"
   },
   {
    "duration": 217,
    "start_time": "2022-04-26T14:34:39.246Z"
   },
   {
    "duration": 12,
    "start_time": "2022-04-26T14:34:39.464Z"
   },
   {
    "duration": 9,
    "start_time": "2022-04-26T14:34:39.477Z"
   },
   {
    "duration": 14,
    "start_time": "2022-04-26T14:34:39.500Z"
   },
   {
    "duration": 15,
    "start_time": "2022-04-26T14:34:39.516Z"
   },
   {
    "duration": 11,
    "start_time": "2022-04-26T14:34:39.533Z"
   },
   {
    "duration": 7,
    "start_time": "2022-04-26T14:34:39.546Z"
   },
   {
    "duration": 29,
    "start_time": "2022-04-26T14:34:39.555Z"
   },
   {
    "duration": 45,
    "start_time": "2022-04-26T14:34:39.585Z"
   },
   {
    "duration": 13,
    "start_time": "2022-04-26T14:34:39.631Z"
   },
   {
    "duration": 7,
    "start_time": "2022-04-26T14:34:39.649Z"
   },
   {
    "duration": 11,
    "start_time": "2022-04-26T14:34:39.657Z"
   },
   {
    "duration": 12,
    "start_time": "2022-04-26T14:34:39.669Z"
   },
   {
    "duration": 19,
    "start_time": "2022-04-26T14:34:39.683Z"
   },
   {
    "duration": 14,
    "start_time": "2022-04-26T14:34:39.703Z"
   },
   {
    "duration": 8,
    "start_time": "2022-04-26T14:34:39.718Z"
   },
   {
    "duration": 31,
    "start_time": "2022-04-26T14:34:39.728Z"
   },
   {
    "duration": 10,
    "start_time": "2022-04-26T14:34:39.761Z"
   },
   {
    "duration": 40,
    "start_time": "2022-04-26T14:34:39.772Z"
   },
   {
    "duration": 10,
    "start_time": "2022-04-26T14:34:39.814Z"
   },
   {
    "duration": 11,
    "start_time": "2022-04-26T14:34:39.826Z"
   },
   {
    "duration": 8,
    "start_time": "2022-04-26T14:34:39.838Z"
   },
   {
    "duration": 8,
    "start_time": "2022-04-26T14:34:39.848Z"
   },
   {
    "duration": 46,
    "start_time": "2022-04-26T14:34:39.858Z"
   },
   {
    "duration": 15,
    "start_time": "2022-04-26T14:34:39.905Z"
   },
   {
    "duration": 10,
    "start_time": "2022-04-26T14:34:39.922Z"
   },
   {
    "duration": 11,
    "start_time": "2022-04-26T14:34:39.933Z"
   },
   {
    "duration": 12,
    "start_time": "2022-04-26T14:34:39.946Z"
   },
   {
    "duration": 12,
    "start_time": "2022-04-26T14:34:39.960Z"
   },
   {
    "duration": 38,
    "start_time": "2022-04-26T14:34:39.973Z"
   },
   {
    "duration": 21,
    "start_time": "2022-04-26T14:34:40.013Z"
   },
   {
    "duration": 38,
    "start_time": "2022-04-26T14:34:40.035Z"
   },
   {
    "duration": 58,
    "start_time": "2022-04-26T14:34:40.075Z"
   },
   {
    "duration": 474,
    "start_time": "2022-04-26T14:34:40.135Z"
   },
   {
    "duration": 24,
    "start_time": "2022-04-26T14:34:40.610Z"
   },
   {
    "duration": 7,
    "start_time": "2022-04-26T14:34:40.635Z"
   },
   {
    "duration": 228,
    "start_time": "2022-04-26T14:34:40.644Z"
   },
   {
    "duration": 8,
    "start_time": "2022-04-26T14:34:40.874Z"
   },
   {
    "duration": 234,
    "start_time": "2022-04-26T14:34:40.884Z"
   },
   {
    "duration": 8,
    "start_time": "2022-04-26T14:34:41.120Z"
   },
   {
    "duration": 154,
    "start_time": "2022-04-26T14:34:41.129Z"
   },
   {
    "duration": 17,
    "start_time": "2022-04-26T14:34:41.284Z"
   },
   {
    "duration": 275,
    "start_time": "2022-04-26T14:34:41.302Z"
   },
   {
    "duration": 8,
    "start_time": "2022-04-26T14:34:41.578Z"
   },
   {
    "duration": 220,
    "start_time": "2022-04-26T14:34:41.587Z"
   },
   {
    "duration": 5,
    "start_time": "2022-04-26T14:34:41.808Z"
   },
   {
    "duration": 5,
    "start_time": "2022-04-26T14:35:21.178Z"
   },
   {
    "duration": 145,
    "start_time": "2022-04-26T14:36:40.190Z"
   },
   {
    "duration": 192,
    "start_time": "2022-04-26T14:36:46.943Z"
   },
   {
    "duration": 190,
    "start_time": "2022-04-26T14:38:26.071Z"
   },
   {
    "duration": 109,
    "start_time": "2022-04-26T14:38:43.990Z"
   },
   {
    "duration": 14,
    "start_time": "2022-04-26T14:39:00.869Z"
   },
   {
    "duration": 119,
    "start_time": "2022-04-26T14:39:13.761Z"
   },
   {
    "duration": 6,
    "start_time": "2022-04-26T14:39:43.026Z"
   },
   {
    "duration": 5,
    "start_time": "2022-04-26T14:39:58.371Z"
   },
   {
    "duration": 13,
    "start_time": "2022-04-26T14:48:10.868Z"
   },
   {
    "duration": 11,
    "start_time": "2022-04-26T14:54:11.339Z"
   },
   {
    "duration": 777,
    "start_time": "2022-04-26T14:54:36.793Z"
   },
   {
    "duration": 101,
    "start_time": "2022-04-26T14:56:40.227Z"
   },
   {
    "duration": 103,
    "start_time": "2022-04-26T14:56:45.778Z"
   },
   {
    "duration": 14,
    "start_time": "2022-04-26T15:08:40.121Z"
   },
   {
    "duration": 14,
    "start_time": "2022-04-26T15:08:41.059Z"
   },
   {
    "duration": 12,
    "start_time": "2022-04-26T15:09:09.974Z"
   },
   {
    "duration": 14,
    "start_time": "2022-04-26T15:09:55.234Z"
   },
   {
    "duration": 12,
    "start_time": "2022-04-26T15:10:09.645Z"
   },
   {
    "duration": 21,
    "start_time": "2022-04-26T15:11:08.446Z"
   },
   {
    "duration": 4,
    "start_time": "2022-04-26T15:47:39.564Z"
   },
   {
    "duration": 120,
    "start_time": "2022-04-26T15:51:02.985Z"
   },
   {
    "duration": 245,
    "start_time": "2022-04-26T15:52:43.220Z"
   },
   {
    "duration": 270,
    "start_time": "2022-04-26T15:52:52.239Z"
   },
   {
    "duration": 7,
    "start_time": "2022-04-26T15:53:03.790Z"
   },
   {
    "duration": 9,
    "start_time": "2022-04-26T16:20:48.546Z"
   },
   {
    "duration": 10,
    "start_time": "2022-04-26T16:21:16.016Z"
   },
   {
    "duration": 10,
    "start_time": "2022-04-26T16:23:58.394Z"
   },
   {
    "duration": 10,
    "start_time": "2022-04-26T16:24:16.809Z"
   },
   {
    "duration": 9,
    "start_time": "2022-04-26T16:24:39.346Z"
   },
   {
    "duration": 9,
    "start_time": "2022-04-26T16:24:56.744Z"
   },
   {
    "duration": 9,
    "start_time": "2022-04-26T16:25:06.333Z"
   },
   {
    "duration": 4,
    "start_time": "2022-04-26T16:25:15.156Z"
   },
   {
    "duration": 79,
    "start_time": "2022-04-27T16:47:30.711Z"
   },
   {
    "duration": 1717,
    "start_time": "2022-04-27T16:47:41.659Z"
   },
   {
    "duration": 88,
    "start_time": "2022-04-27T16:47:43.379Z"
   },
   {
    "duration": 14,
    "start_time": "2022-04-27T16:47:43.470Z"
   },
   {
    "duration": 104,
    "start_time": "2022-04-27T16:47:43.487Z"
   },
   {
    "duration": 36,
    "start_time": "2022-04-27T16:47:43.594Z"
   },
   {
    "duration": 33,
    "start_time": "2022-04-27T16:47:43.633Z"
   },
   {
    "duration": 7,
    "start_time": "2022-04-27T16:47:43.668Z"
   },
   {
    "duration": 23,
    "start_time": "2022-04-27T16:47:43.677Z"
   },
   {
    "duration": 66,
    "start_time": "2022-04-27T16:47:43.702Z"
   },
   {
    "duration": 12,
    "start_time": "2022-04-27T16:47:43.772Z"
   },
   {
    "duration": 18,
    "start_time": "2022-04-27T16:47:43.786Z"
   },
   {
    "duration": 16,
    "start_time": "2022-04-27T16:47:43.806Z"
   },
   {
    "duration": 40,
    "start_time": "2022-04-27T16:47:43.824Z"
   },
   {
    "duration": 16,
    "start_time": "2022-04-27T16:47:43.866Z"
   },
   {
    "duration": 22,
    "start_time": "2022-04-27T16:47:43.884Z"
   },
   {
    "duration": 49,
    "start_time": "2022-04-27T16:47:43.908Z"
   },
   {
    "duration": 15,
    "start_time": "2022-04-27T16:47:43.959Z"
   },
   {
    "duration": 405,
    "start_time": "2022-04-27T16:47:43.977Z"
   },
   {
    "duration": 19,
    "start_time": "2022-04-27T16:47:44.384Z"
   },
   {
    "duration": 14,
    "start_time": "2022-04-27T16:47:44.405Z"
   },
   {
    "duration": 39,
    "start_time": "2022-04-27T16:47:44.421Z"
   },
   {
    "duration": 20,
    "start_time": "2022-04-27T16:47:44.462Z"
   },
   {
    "duration": 15,
    "start_time": "2022-04-27T16:47:44.484Z"
   },
   {
    "duration": 11,
    "start_time": "2022-04-27T16:47:44.501Z"
   },
   {
    "duration": 47,
    "start_time": "2022-04-27T16:47:44.514Z"
   },
   {
    "duration": 16,
    "start_time": "2022-04-27T16:47:44.563Z"
   },
   {
    "duration": 12,
    "start_time": "2022-04-27T16:47:44.581Z"
   },
   {
    "duration": 10,
    "start_time": "2022-04-27T16:47:44.598Z"
   },
   {
    "duration": 54,
    "start_time": "2022-04-27T16:47:44.610Z"
   },
   {
    "duration": 29,
    "start_time": "2022-04-27T16:47:44.666Z"
   },
   {
    "duration": 11,
    "start_time": "2022-04-27T16:47:44.697Z"
   },
   {
    "duration": 13,
    "start_time": "2022-04-27T16:47:44.710Z"
   },
   {
    "duration": 34,
    "start_time": "2022-04-27T16:47:44.725Z"
   },
   {
    "duration": 47,
    "start_time": "2022-04-27T16:47:44.760Z"
   },
   {
    "duration": 43,
    "start_time": "2022-04-27T16:47:44.809Z"
   },
   {
    "duration": 18,
    "start_time": "2022-04-27T16:47:44.854Z"
   },
   {
    "duration": 15,
    "start_time": "2022-04-27T16:47:44.874Z"
   },
   {
    "duration": 17,
    "start_time": "2022-04-27T16:47:44.891Z"
   },
   {
    "duration": 43,
    "start_time": "2022-04-27T16:47:44.910Z"
   },
   {
    "duration": 14,
    "start_time": "2022-04-27T16:47:44.955Z"
   },
   {
    "duration": 13,
    "start_time": "2022-04-27T16:47:44.971Z"
   },
   {
    "duration": 16,
    "start_time": "2022-04-27T16:47:44.986Z"
   },
   {
    "duration": 52,
    "start_time": "2022-04-27T16:47:45.004Z"
   },
   {
    "duration": 13,
    "start_time": "2022-04-27T16:47:45.059Z"
   },
   {
    "duration": 14,
    "start_time": "2022-04-27T16:47:45.074Z"
   },
   {
    "duration": 17,
    "start_time": "2022-04-27T16:47:45.090Z"
   },
   {
    "duration": 51,
    "start_time": "2022-04-27T16:47:45.109Z"
   },
   {
    "duration": 16,
    "start_time": "2022-04-27T16:47:45.162Z"
   },
   {
    "duration": 41,
    "start_time": "2022-04-27T16:47:45.180Z"
   },
   {
    "duration": 71,
    "start_time": "2022-04-27T16:47:45.224Z"
   },
   {
    "duration": 505,
    "start_time": "2022-04-27T16:47:45.297Z"
   },
   {
    "duration": 49,
    "start_time": "2022-04-27T16:47:45.804Z"
   },
   {
    "duration": 10,
    "start_time": "2022-04-27T16:47:45.855Z"
   },
   {
    "duration": 394,
    "start_time": "2022-04-27T16:47:45.867Z"
   },
   {
    "duration": 11,
    "start_time": "2022-04-27T16:47:46.263Z"
   },
   {
    "duration": 401,
    "start_time": "2022-04-27T16:47:46.276Z"
   },
   {
    "duration": 10,
    "start_time": "2022-04-27T16:47:46.679Z"
   },
   {
    "duration": 254,
    "start_time": "2022-04-27T16:47:46.691Z"
   },
   {
    "duration": 11,
    "start_time": "2022-04-27T16:47:46.951Z"
   },
   {
    "duration": 423,
    "start_time": "2022-04-27T16:47:46.964Z"
   },
   {
    "duration": 11,
    "start_time": "2022-04-27T16:47:47.389Z"
   },
   {
    "duration": 235,
    "start_time": "2022-04-27T16:47:47.402Z"
   },
   {
    "duration": 14,
    "start_time": "2022-04-27T16:47:47.639Z"
   },
   {
    "duration": 8,
    "start_time": "2022-04-27T16:47:47.656Z"
   },
   {
    "duration": 8,
    "start_time": "2022-04-27T16:47:47.666Z"
   },
   {
    "duration": 27,
    "start_time": "2022-04-27T16:47:47.676Z"
   },
   {
    "duration": 54,
    "start_time": "2022-04-27T16:47:47.705Z"
   },
   {
    "duration": 21,
    "start_time": "2022-04-27T16:47:47.761Z"
   },
   {
    "duration": 169,
    "start_time": "2022-04-27T16:47:47.784Z"
   },
   {
    "duration": 11,
    "start_time": "2022-04-27T16:48:18.483Z"
   },
   {
    "duration": 30,
    "start_time": "2022-04-27T16:48:31.837Z"
   },
   {
    "duration": 20,
    "start_time": "2022-04-27T16:48:48.580Z"
   },
   {
    "duration": 869,
    "start_time": "2022-04-27T16:49:43.446Z"
   },
   {
    "duration": 702,
    "start_time": "2022-04-27T16:50:14.576Z"
   },
   {
    "duration": 97,
    "start_time": "2022-04-27T16:50:53.560Z"
   },
   {
    "duration": 329,
    "start_time": "2022-04-27T17:09:10.519Z"
   },
   {
    "duration": 279,
    "start_time": "2022-04-27T17:09:38.753Z"
   },
   {
    "duration": 265,
    "start_time": "2022-04-27T17:09:46.395Z"
   },
   {
    "duration": 282,
    "start_time": "2022-04-27T17:11:06.307Z"
   },
   {
    "duration": 451,
    "start_time": "2022-04-27T17:11:36.915Z"
   },
   {
    "duration": 454,
    "start_time": "2022-04-27T17:11:47.081Z"
   },
   {
    "duration": 172,
    "start_time": "2022-04-27T17:15:35.215Z"
   },
   {
    "duration": 242,
    "start_time": "2022-04-27T17:15:46.290Z"
   },
   {
    "duration": 224,
    "start_time": "2022-04-27T17:16:58.396Z"
   },
   {
    "duration": 304,
    "start_time": "2022-04-27T17:17:30.129Z"
   },
   {
    "duration": 227,
    "start_time": "2022-04-27T17:17:42.650Z"
   },
   {
    "duration": 21,
    "start_time": "2022-04-27T17:17:59.821Z"
   },
   {
    "duration": 257,
    "start_time": "2022-04-27T17:18:14.457Z"
   },
   {
    "duration": 197,
    "start_time": "2022-04-27T17:18:27.273Z"
   },
   {
    "duration": 237,
    "start_time": "2022-04-27T17:18:39.541Z"
   },
   {
    "duration": 245,
    "start_time": "2022-04-27T17:22:20.862Z"
   },
   {
    "duration": 28,
    "start_time": "2022-04-27T17:29:11.748Z"
   },
   {
    "duration": 256,
    "start_time": "2022-04-27T17:29:25.328Z"
   },
   {
    "duration": 1807,
    "start_time": "2022-04-28T05:43:11.865Z"
   },
   {
    "duration": 92,
    "start_time": "2022-04-28T05:43:13.675Z"
   },
   {
    "duration": 14,
    "start_time": "2022-04-28T05:43:13.770Z"
   },
   {
    "duration": 111,
    "start_time": "2022-04-28T05:43:13.787Z"
   },
   {
    "duration": 41,
    "start_time": "2022-04-28T05:43:13.900Z"
   },
   {
    "duration": 21,
    "start_time": "2022-04-28T05:43:13.944Z"
   },
   {
    "duration": 6,
    "start_time": "2022-04-28T05:43:13.967Z"
   },
   {
    "duration": 54,
    "start_time": "2022-04-28T05:43:13.975Z"
   },
   {
    "duration": 34,
    "start_time": "2022-04-28T05:43:14.031Z"
   },
   {
    "duration": 14,
    "start_time": "2022-04-28T05:43:14.069Z"
   },
   {
    "duration": 51,
    "start_time": "2022-04-28T05:43:14.084Z"
   },
   {
    "duration": 15,
    "start_time": "2022-04-28T05:43:14.137Z"
   },
   {
    "duration": 14,
    "start_time": "2022-04-28T05:43:14.155Z"
   },
   {
    "duration": 17,
    "start_time": "2022-04-28T05:43:14.171Z"
   },
   {
    "duration": 54,
    "start_time": "2022-04-28T05:43:14.191Z"
   },
   {
    "duration": 13,
    "start_time": "2022-04-28T05:43:14.248Z"
   },
   {
    "duration": 19,
    "start_time": "2022-04-28T05:43:14.263Z"
   },
   {
    "duration": 417,
    "start_time": "2022-04-28T05:43:14.285Z"
   },
   {
    "duration": 30,
    "start_time": "2022-04-28T05:43:14.704Z"
   },
   {
    "duration": 16,
    "start_time": "2022-04-28T05:43:14.736Z"
   },
   {
    "duration": 32,
    "start_time": "2022-04-28T05:43:14.754Z"
   },
   {
    "duration": 37,
    "start_time": "2022-04-28T05:43:14.788Z"
   },
   {
    "duration": 16,
    "start_time": "2022-04-28T05:43:14.827Z"
   },
   {
    "duration": 12,
    "start_time": "2022-04-28T05:43:14.845Z"
   },
   {
    "duration": 23,
    "start_time": "2022-04-28T05:43:14.859Z"
   },
   {
    "duration": 48,
    "start_time": "2022-04-28T05:43:14.884Z"
   },
   {
    "duration": 10,
    "start_time": "2022-04-28T05:43:14.934Z"
   },
   {
    "duration": 19,
    "start_time": "2022-04-28T05:43:14.950Z"
   },
   {
    "duration": 20,
    "start_time": "2022-04-28T05:43:14.971Z"
   },
   {
    "duration": 42,
    "start_time": "2022-04-28T05:43:14.993Z"
   },
   {
    "duration": 38,
    "start_time": "2022-04-28T05:43:15.037Z"
   },
   {
    "duration": 22,
    "start_time": "2022-04-28T05:43:15.077Z"
   },
   {
    "duration": 30,
    "start_time": "2022-04-28T05:43:15.101Z"
   },
   {
    "duration": 62,
    "start_time": "2022-04-28T05:43:15.133Z"
   },
   {
    "duration": 27,
    "start_time": "2022-04-28T05:43:15.197Z"
   },
   {
    "duration": 32,
    "start_time": "2022-04-28T05:43:15.226Z"
   },
   {
    "duration": 16,
    "start_time": "2022-04-28T05:43:15.260Z"
   },
   {
    "duration": 27,
    "start_time": "2022-04-28T05:43:15.278Z"
   },
   {
    "duration": 24,
    "start_time": "2022-04-28T05:43:15.306Z"
   },
   {
    "duration": 29,
    "start_time": "2022-04-28T05:43:15.332Z"
   },
   {
    "duration": 17,
    "start_time": "2022-04-28T05:43:15.364Z"
   },
   {
    "duration": 24,
    "start_time": "2022-04-28T05:43:15.383Z"
   },
   {
    "duration": 23,
    "start_time": "2022-04-28T05:43:15.409Z"
   },
   {
    "duration": 13,
    "start_time": "2022-04-28T05:43:15.434Z"
   },
   {
    "duration": 14,
    "start_time": "2022-04-28T05:43:15.450Z"
   },
   {
    "duration": 32,
    "start_time": "2022-04-28T05:43:15.466Z"
   },
   {
    "duration": 36,
    "start_time": "2022-04-28T05:43:15.500Z"
   },
   {
    "duration": 22,
    "start_time": "2022-04-28T05:43:15.538Z"
   },
   {
    "duration": 63,
    "start_time": "2022-04-28T05:43:15.562Z"
   },
   {
    "duration": 45,
    "start_time": "2022-04-28T05:43:15.627Z"
   },
   {
    "duration": 501,
    "start_time": "2022-04-28T05:43:15.675Z"
   },
   {
    "duration": 49,
    "start_time": "2022-04-28T05:43:16.178Z"
   },
   {
    "duration": 11,
    "start_time": "2022-04-28T05:43:16.229Z"
   },
   {
    "duration": 393,
    "start_time": "2022-04-28T05:43:16.242Z"
   },
   {
    "duration": 14,
    "start_time": "2022-04-28T05:43:16.637Z"
   },
   {
    "duration": 397,
    "start_time": "2022-04-28T05:43:16.653Z"
   },
   {
    "duration": 12,
    "start_time": "2022-04-28T05:43:17.052Z"
   },
   {
    "duration": 266,
    "start_time": "2022-04-28T05:43:17.066Z"
   },
   {
    "duration": 12,
    "start_time": "2022-04-28T05:43:17.335Z"
   },
   {
    "duration": 452,
    "start_time": "2022-04-28T05:43:17.349Z"
   },
   {
    "duration": 24,
    "start_time": "2022-04-28T05:43:17.803Z"
   },
   {
    "duration": 222,
    "start_time": "2022-04-28T05:43:17.829Z"
   },
   {
    "duration": 6,
    "start_time": "2022-04-28T05:43:18.054Z"
   },
   {
    "duration": 26,
    "start_time": "2022-04-28T05:43:18.063Z"
   },
   {
    "duration": 17,
    "start_time": "2022-04-28T05:43:18.091Z"
   },
   {
    "duration": 41,
    "start_time": "2022-04-28T05:43:18.110Z"
   },
   {
    "duration": 21,
    "start_time": "2022-04-28T05:43:18.153Z"
   },
   {
    "duration": 21,
    "start_time": "2022-04-28T05:43:18.176Z"
   },
   {
    "duration": 323,
    "start_time": "2022-04-28T05:43:18.199Z"
   },
   {
    "duration": 258,
    "start_time": "2022-04-28T05:43:18.524Z"
   },
   {
    "duration": 286,
    "start_time": "2022-04-28T14:54:08.825Z"
   },
   {
    "duration": 324,
    "start_time": "2022-04-28T14:55:43.010Z"
   },
   {
    "duration": 37,
    "start_time": "2022-04-28T14:56:17.698Z"
   },
   {
    "duration": 20,
    "start_time": "2022-04-28T14:56:42.830Z"
   },
   {
    "duration": 389,
    "start_time": "2022-04-28T14:57:11.887Z"
   },
   {
    "duration": 32,
    "start_time": "2022-04-28T14:57:21.824Z"
   },
   {
    "duration": 21,
    "start_time": "2022-04-28T14:59:11.594Z"
   },
   {
    "duration": 32,
    "start_time": "2022-04-28T14:59:13.120Z"
   },
   {
    "duration": 20,
    "start_time": "2022-04-28T14:59:14.163Z"
   },
   {
    "duration": 9,
    "start_time": "2022-04-28T15:01:11.146Z"
   },
   {
    "duration": 9,
    "start_time": "2022-04-28T15:01:50.982Z"
   },
   {
    "duration": 9,
    "start_time": "2022-04-28T15:02:15.756Z"
   },
   {
    "duration": 366,
    "start_time": "2022-04-28T15:05:24.550Z"
   },
   {
    "duration": 239,
    "start_time": "2022-04-28T15:05:44.946Z"
   },
   {
    "duration": 322,
    "start_time": "2022-04-28T15:05:55.120Z"
   },
   {
    "duration": 38,
    "start_time": "2022-04-28T15:17:28.723Z"
   },
   {
    "duration": 22,
    "start_time": "2022-04-28T15:18:07.999Z"
   },
   {
    "duration": 25,
    "start_time": "2022-04-28T15:18:41.543Z"
   },
   {
    "duration": 40,
    "start_time": "2022-04-28T15:18:58.517Z"
   },
   {
    "duration": 51,
    "start_time": "2022-04-28T15:19:13.692Z"
   },
   {
    "duration": 33,
    "start_time": "2022-04-28T15:27:33.762Z"
   },
   {
    "duration": 30,
    "start_time": "2022-04-28T15:28:00.864Z"
   },
   {
    "duration": 35,
    "start_time": "2022-04-28T15:28:22.421Z"
   },
   {
    "duration": 21,
    "start_time": "2022-04-28T15:28:48.890Z"
   },
   {
    "duration": 61,
    "start_time": "2022-04-28T17:53:17.997Z"
   },
   {
    "duration": 1620,
    "start_time": "2022-04-28T17:53:34.225Z"
   },
   {
    "duration": 96,
    "start_time": "2022-04-28T17:53:35.848Z"
   },
   {
    "duration": 15,
    "start_time": "2022-04-28T17:53:35.946Z"
   },
   {
    "duration": 160,
    "start_time": "2022-04-28T17:53:35.964Z"
   },
   {
    "duration": 38,
    "start_time": "2022-04-28T17:53:36.127Z"
   },
   {
    "duration": 25,
    "start_time": "2022-04-28T17:53:36.168Z"
   },
   {
    "duration": 31,
    "start_time": "2022-04-28T17:53:36.195Z"
   },
   {
    "duration": 30,
    "start_time": "2022-04-28T17:53:36.228Z"
   },
   {
    "duration": 80,
    "start_time": "2022-04-28T17:53:36.261Z"
   },
   {
    "duration": 19,
    "start_time": "2022-04-28T17:53:36.343Z"
   },
   {
    "duration": 31,
    "start_time": "2022-04-28T17:53:36.365Z"
   },
   {
    "duration": 38,
    "start_time": "2022-04-28T17:53:36.399Z"
   },
   {
    "duration": 16,
    "start_time": "2022-04-28T17:53:36.439Z"
   },
   {
    "duration": 18,
    "start_time": "2022-04-28T17:53:36.460Z"
   },
   {
    "duration": 67,
    "start_time": "2022-04-28T17:53:36.480Z"
   },
   {
    "duration": 11,
    "start_time": "2022-04-28T17:53:36.550Z"
   },
   {
    "duration": 21,
    "start_time": "2022-04-28T17:53:36.563Z"
   },
   {
    "duration": 415,
    "start_time": "2022-04-28T17:53:36.587Z"
   },
   {
    "duration": 24,
    "start_time": "2022-04-28T17:53:37.004Z"
   },
   {
    "duration": 17,
    "start_time": "2022-04-28T17:53:37.031Z"
   },
   {
    "duration": 20,
    "start_time": "2022-04-28T17:53:37.051Z"
   },
   {
    "duration": 57,
    "start_time": "2022-04-28T17:53:37.073Z"
   },
   {
    "duration": 17,
    "start_time": "2022-04-28T17:53:37.132Z"
   },
   {
    "duration": 14,
    "start_time": "2022-04-28T17:53:37.151Z"
   },
   {
    "duration": 22,
    "start_time": "2022-04-28T17:53:37.167Z"
   },
   {
    "duration": 50,
    "start_time": "2022-04-28T17:53:37.191Z"
   },
   {
    "duration": 12,
    "start_time": "2022-04-28T17:53:37.243Z"
   },
   {
    "duration": 11,
    "start_time": "2022-04-28T17:53:37.257Z"
   },
   {
    "duration": 57,
    "start_time": "2022-04-28T17:53:37.271Z"
   },
   {
    "duration": 17,
    "start_time": "2022-04-28T17:53:37.330Z"
   },
   {
    "duration": 12,
    "start_time": "2022-04-28T17:53:37.350Z"
   },
   {
    "duration": 18,
    "start_time": "2022-04-28T17:53:37.364Z"
   },
   {
    "duration": 43,
    "start_time": "2022-04-28T17:53:37.384Z"
   },
   {
    "duration": 53,
    "start_time": "2022-04-28T17:53:37.430Z"
   },
   {
    "duration": 39,
    "start_time": "2022-04-28T17:53:37.485Z"
   },
   {
    "duration": 20,
    "start_time": "2022-04-28T17:53:37.527Z"
   },
   {
    "duration": 16,
    "start_time": "2022-04-28T17:53:37.549Z"
   },
   {
    "duration": 20,
    "start_time": "2022-04-28T17:53:37.567Z"
   },
   {
    "duration": 13,
    "start_time": "2022-04-28T17:53:37.624Z"
   },
   {
    "duration": 17,
    "start_time": "2022-04-28T17:53:37.639Z"
   },
   {
    "duration": 15,
    "start_time": "2022-04-28T17:53:37.664Z"
   },
   {
    "duration": 50,
    "start_time": "2022-04-28T17:53:37.682Z"
   },
   {
    "duration": 12,
    "start_time": "2022-04-28T17:53:37.734Z"
   },
   {
    "duration": 14,
    "start_time": "2022-04-28T17:53:37.749Z"
   },
   {
    "duration": 16,
    "start_time": "2022-04-28T17:53:37.766Z"
   },
   {
    "duration": 21,
    "start_time": "2022-04-28T17:53:37.824Z"
   },
   {
    "duration": 15,
    "start_time": "2022-04-28T17:53:37.847Z"
   },
   {
    "duration": 18,
    "start_time": "2022-04-28T17:53:37.864Z"
   },
   {
    "duration": 77,
    "start_time": "2022-04-28T17:53:37.884Z"
   },
   {
    "duration": 62,
    "start_time": "2022-04-28T17:53:37.964Z"
   },
   {
    "duration": 498,
    "start_time": "2022-04-28T17:53:38.028Z"
   },
   {
    "duration": 36,
    "start_time": "2022-04-28T17:53:38.528Z"
   },
   {
    "duration": 12,
    "start_time": "2022-04-28T17:53:38.566Z"
   },
   {
    "duration": 410,
    "start_time": "2022-04-28T17:53:38.580Z"
   },
   {
    "duration": 13,
    "start_time": "2022-04-28T17:53:38.993Z"
   },
   {
    "duration": 611,
    "start_time": "2022-04-28T17:53:39.008Z"
   },
   {
    "duration": 13,
    "start_time": "2022-04-28T17:53:39.625Z"
   },
   {
    "duration": 297,
    "start_time": "2022-04-28T17:53:39.640Z"
   },
   {
    "duration": 11,
    "start_time": "2022-04-28T17:53:39.940Z"
   },
   {
    "duration": 471,
    "start_time": "2022-04-28T17:53:39.953Z"
   },
   {
    "duration": 15,
    "start_time": "2022-04-28T17:53:40.427Z"
   },
   {
    "duration": 245,
    "start_time": "2022-04-28T17:53:40.444Z"
   },
   {
    "duration": 6,
    "start_time": "2022-04-28T17:53:40.691Z"
   },
   {
    "duration": 28,
    "start_time": "2022-04-28T17:53:40.700Z"
   },
   {
    "duration": 7,
    "start_time": "2022-04-28T17:53:40.730Z"
   },
   {
    "duration": 23,
    "start_time": "2022-04-28T17:53:40.739Z"
   },
   {
    "duration": 19,
    "start_time": "2022-04-28T17:53:40.764Z"
   },
   {
    "duration": 60,
    "start_time": "2022-04-28T17:53:40.785Z"
   },
   {
    "duration": 321,
    "start_time": "2022-04-28T17:53:40.847Z"
   },
   {
    "duration": 422,
    "start_time": "2022-04-28T17:53:41.170Z"
   },
   {
    "duration": 285,
    "start_time": "2022-04-28T17:53:41.595Z"
   },
   {
    "duration": 281,
    "start_time": "2022-04-28T17:53:41.882Z"
   },
   {
    "duration": 21,
    "start_time": "2022-04-28T17:53:42.166Z"
   },
   {
    "duration": 8,
    "start_time": "2022-04-28T17:53:42.189Z"
   },
   {
    "duration": 20,
    "start_time": "2022-04-28T17:53:42.224Z"
   },
   {
    "duration": 8,
    "start_time": "2022-04-28T17:53:42.247Z"
   },
   {
    "duration": 21,
    "start_time": "2022-04-28T17:53:42.257Z"
   },
   {
    "duration": 47,
    "start_time": "2022-04-28T17:53:42.280Z"
   },
   {
    "duration": 22,
    "start_time": "2022-04-28T17:53:42.329Z"
   },
   {
    "duration": 23,
    "start_time": "2022-04-28T17:53:42.353Z"
   },
   {
    "duration": 247,
    "start_time": "2022-04-28T17:53:42.379Z"
   },
   {
    "duration": 31,
    "start_time": "2022-04-28T17:58:31.546Z"
   },
   {
    "duration": 25,
    "start_time": "2022-04-28T17:59:23.210Z"
   },
   {
    "duration": 32,
    "start_time": "2022-04-28T17:59:41.464Z"
   },
   {
    "duration": 45,
    "start_time": "2022-04-28T18:02:52.463Z"
   },
   {
    "duration": 1854,
    "start_time": "2022-04-28T18:03:26.716Z"
   },
   {
    "duration": 103,
    "start_time": "2022-04-28T18:03:28.573Z"
   },
   {
    "duration": 17,
    "start_time": "2022-04-28T18:03:28.678Z"
   },
   {
    "duration": 176,
    "start_time": "2022-04-28T18:03:28.700Z"
   },
   {
    "duration": 61,
    "start_time": "2022-04-28T18:03:28.880Z"
   },
   {
    "duration": 28,
    "start_time": "2022-04-28T18:03:28.943Z"
   },
   {
    "duration": 7,
    "start_time": "2022-04-28T18:03:28.974Z"
   },
   {
    "duration": 60,
    "start_time": "2022-04-28T18:03:28.984Z"
   },
   {
    "duration": 38,
    "start_time": "2022-04-28T18:03:29.046Z"
   },
   {
    "duration": 15,
    "start_time": "2022-04-28T18:03:29.088Z"
   },
   {
    "duration": 39,
    "start_time": "2022-04-28T18:03:29.129Z"
   },
   {
    "duration": 18,
    "start_time": "2022-04-28T18:03:29.170Z"
   },
   {
    "duration": 38,
    "start_time": "2022-04-28T18:03:29.190Z"
   },
   {
    "duration": 26,
    "start_time": "2022-04-28T18:03:29.230Z"
   },
   {
    "duration": 24,
    "start_time": "2022-04-28T18:03:29.259Z"
   },
   {
    "duration": 41,
    "start_time": "2022-04-28T18:03:29.286Z"
   },
   {
    "duration": 17,
    "start_time": "2022-04-28T18:03:29.332Z"
   },
   {
    "duration": 434,
    "start_time": "2022-04-28T18:03:29.352Z"
   },
   {
    "duration": 45,
    "start_time": "2022-04-28T18:03:29.788Z"
   },
   {
    "duration": 23,
    "start_time": "2022-04-28T18:03:29.837Z"
   },
   {
    "duration": 23,
    "start_time": "2022-04-28T18:03:29.862Z"
   },
   {
    "duration": 59,
    "start_time": "2022-04-28T18:03:29.888Z"
   },
   {
    "duration": 19,
    "start_time": "2022-04-28T18:03:29.950Z"
   },
   {
    "duration": 13,
    "start_time": "2022-04-28T18:03:29.971Z"
   },
   {
    "duration": 51,
    "start_time": "2022-04-28T18:03:29.986Z"
   },
   {
    "duration": 29,
    "start_time": "2022-04-28T18:03:30.041Z"
   },
   {
    "duration": 19,
    "start_time": "2022-04-28T18:03:30.072Z"
   },
   {
    "duration": 32,
    "start_time": "2022-04-28T18:03:30.098Z"
   },
   {
    "duration": 18,
    "start_time": "2022-04-28T18:03:30.132Z"
   },
   {
    "duration": 23,
    "start_time": "2022-04-28T18:03:30.153Z"
   },
   {
    "duration": 37,
    "start_time": "2022-04-28T18:03:30.179Z"
   },
   {
    "duration": 36,
    "start_time": "2022-04-28T18:03:30.224Z"
   },
   {
    "duration": 23,
    "start_time": "2022-04-28T18:03:30.263Z"
   },
   {
    "duration": 81,
    "start_time": "2022-04-28T18:03:30.289Z"
   },
   {
    "duration": 16,
    "start_time": "2022-04-28T18:03:30.373Z"
   },
   {
    "duration": 42,
    "start_time": "2022-04-28T18:03:30.392Z"
   },
   {
    "duration": 20,
    "start_time": "2022-04-28T18:03:30.437Z"
   },
   {
    "duration": 27,
    "start_time": "2022-04-28T18:03:30.459Z"
   },
   {
    "duration": 42,
    "start_time": "2022-04-28T18:03:30.489Z"
   },
   {
    "duration": 19,
    "start_time": "2022-04-28T18:03:30.534Z"
   },
   {
    "duration": 27,
    "start_time": "2022-04-28T18:03:30.556Z"
   },
   {
    "duration": 23,
    "start_time": "2022-04-28T18:03:30.586Z"
   },
   {
    "duration": 18,
    "start_time": "2022-04-28T18:03:30.625Z"
   },
   {
    "duration": 19,
    "start_time": "2022-04-28T18:03:30.646Z"
   },
   {
    "duration": 14,
    "start_time": "2022-04-28T18:03:30.667Z"
   },
   {
    "duration": 54,
    "start_time": "2022-04-28T18:03:30.684Z"
   },
   {
    "duration": 16,
    "start_time": "2022-04-28T18:03:30.741Z"
   },
   {
    "duration": 27,
    "start_time": "2022-04-28T18:03:30.759Z"
   },
   {
    "duration": 64,
    "start_time": "2022-04-28T18:03:30.789Z"
   },
   {
    "duration": 49,
    "start_time": "2022-04-28T18:03:30.856Z"
   },
   {
    "duration": 563,
    "start_time": "2022-04-28T18:03:30.907Z"
   },
   {
    "duration": 53,
    "start_time": "2022-04-28T18:03:31.473Z"
   },
   {
    "duration": 13,
    "start_time": "2022-04-28T18:03:31.532Z"
   },
   {
    "duration": 416,
    "start_time": "2022-04-28T18:03:31.547Z"
   },
   {
    "duration": 12,
    "start_time": "2022-04-28T18:03:31.965Z"
   },
   {
    "duration": 456,
    "start_time": "2022-04-28T18:03:31.980Z"
   },
   {
    "duration": 17,
    "start_time": "2022-04-28T18:03:32.438Z"
   },
   {
    "duration": 283,
    "start_time": "2022-04-28T18:03:32.458Z"
   },
   {
    "duration": 12,
    "start_time": "2022-04-28T18:03:32.743Z"
   },
   {
    "duration": 752,
    "start_time": "2022-04-28T18:03:32.758Z"
   },
   {
    "duration": 24,
    "start_time": "2022-04-28T18:03:33.513Z"
   },
   {
    "duration": 261,
    "start_time": "2022-04-28T18:03:33.541Z"
   },
   {
    "duration": 7,
    "start_time": "2022-04-28T18:03:33.804Z"
   },
   {
    "duration": 13,
    "start_time": "2022-04-28T18:03:33.826Z"
   },
   {
    "duration": 25,
    "start_time": "2022-04-28T18:03:33.845Z"
   },
   {
    "duration": 69,
    "start_time": "2022-04-28T18:03:33.873Z"
   },
   {
    "duration": 51,
    "start_time": "2022-04-28T18:03:33.945Z"
   },
   {
    "duration": 46,
    "start_time": "2022-04-28T18:03:33.998Z"
   },
   {
    "duration": 469,
    "start_time": "2022-04-28T18:03:34.047Z"
   },
   {
    "duration": 387,
    "start_time": "2022-04-28T18:03:34.519Z"
   },
   {
    "duration": 327,
    "start_time": "2022-04-28T18:03:34.910Z"
   },
   {
    "duration": 291,
    "start_time": "2022-04-28T18:03:35.240Z"
   },
   {
    "duration": 22,
    "start_time": "2022-04-28T18:03:35.533Z"
   },
   {
    "duration": 10,
    "start_time": "2022-04-28T18:03:35.557Z"
   },
   {
    "duration": 62,
    "start_time": "2022-04-28T18:03:35.569Z"
   },
   {
    "duration": 8,
    "start_time": "2022-04-28T18:03:35.634Z"
   },
   {
    "duration": 27,
    "start_time": "2022-04-28T18:03:35.647Z"
   },
   {
    "duration": 8,
    "start_time": "2022-04-28T18:03:35.678Z"
   },
   {
    "duration": 48,
    "start_time": "2022-04-28T18:03:35.689Z"
   },
   {
    "duration": 39,
    "start_time": "2022-04-28T18:03:35.743Z"
   },
   {
    "duration": 33,
    "start_time": "2022-04-28T18:03:35.785Z"
   },
   {
    "duration": 172,
    "start_time": "2022-04-28T18:04:48.768Z"
   },
   {
    "duration": 44,
    "start_time": "2022-04-28T18:05:20.905Z"
   },
   {
    "duration": 41,
    "start_time": "2022-04-28T18:05:44.877Z"
   },
   {
    "duration": 31,
    "start_time": "2022-04-28T18:06:12.176Z"
   },
   {
    "duration": 23,
    "start_time": "2022-04-28T18:06:45.155Z"
   },
   {
    "duration": 25,
    "start_time": "2022-04-28T18:07:21.233Z"
   },
   {
    "duration": 85,
    "start_time": "2022-04-28T18:10:22.111Z"
   },
   {
    "duration": 67,
    "start_time": "2022-04-28T18:10:38.015Z"
   },
   {
    "duration": 49,
    "start_time": "2022-04-28T18:10:55.050Z"
   },
   {
    "duration": 31,
    "start_time": "2022-04-28T18:12:17.764Z"
   },
   {
    "duration": 115,
    "start_time": "2022-04-28T18:17:19.457Z"
   },
   {
    "duration": 52,
    "start_time": "2022-04-28T18:17:48.034Z"
   },
   {
    "duration": 37,
    "start_time": "2022-04-28T18:18:44.509Z"
   },
   {
    "duration": 24,
    "start_time": "2022-04-28T18:19:26.915Z"
   },
   {
    "duration": 37,
    "start_time": "2022-04-28T18:20:19.401Z"
   },
   {
    "duration": 28,
    "start_time": "2022-04-28T18:22:49.723Z"
   },
   {
    "duration": 23,
    "start_time": "2022-04-28T18:23:04.178Z"
   },
   {
    "duration": 16,
    "start_time": "2022-04-28T18:25:33.263Z"
   },
   {
    "duration": 15,
    "start_time": "2022-04-28T18:28:06.253Z"
   },
   {
    "duration": 30,
    "start_time": "2022-04-28T18:29:16.193Z"
   },
   {
    "duration": 30,
    "start_time": "2022-04-28T18:49:12.736Z"
   },
   {
    "duration": 31,
    "start_time": "2022-04-28T18:49:18.460Z"
   },
   {
    "duration": 14,
    "start_time": "2022-04-28T18:53:32.513Z"
   },
   {
    "duration": 9,
    "start_time": "2022-04-28T18:54:31.047Z"
   },
   {
    "duration": 8,
    "start_time": "2022-04-28T18:54:47.140Z"
   },
   {
    "duration": 459,
    "start_time": "2022-04-28T19:02:05.740Z"
   },
   {
    "duration": 451,
    "start_time": "2022-04-28T19:02:15.146Z"
   },
   {
    "duration": 486,
    "start_time": "2022-04-28T19:03:04.827Z"
   },
   {
    "duration": 535,
    "start_time": "2022-04-28T19:04:13.050Z"
   },
   {
    "duration": 632,
    "start_time": "2022-04-28T19:04:42.149Z"
   },
   {
    "duration": 740,
    "start_time": "2022-04-28T19:05:08.933Z"
   },
   {
    "duration": 589,
    "start_time": "2022-04-28T19:06:45.943Z"
   },
   {
    "duration": 577,
    "start_time": "2022-04-28T19:07:31.376Z"
   },
   {
    "duration": 281,
    "start_time": "2022-04-28T19:11:48.957Z"
   },
   {
    "duration": 269,
    "start_time": "2022-04-28T19:12:06.586Z"
   },
   {
    "duration": 267,
    "start_time": "2022-04-28T19:12:40.229Z"
   },
   {
    "duration": 285,
    "start_time": "2022-04-28T19:12:54.902Z"
   },
   {
    "duration": 1775,
    "start_time": "2022-04-29T06:02:20.810Z"
   },
   {
    "duration": 86,
    "start_time": "2022-04-29T06:02:22.588Z"
   },
   {
    "duration": 13,
    "start_time": "2022-04-29T06:02:22.677Z"
   },
   {
    "duration": 115,
    "start_time": "2022-04-29T06:02:22.693Z"
   },
   {
    "duration": 47,
    "start_time": "2022-04-29T06:02:22.810Z"
   },
   {
    "duration": 25,
    "start_time": "2022-04-29T06:02:22.859Z"
   },
   {
    "duration": 6,
    "start_time": "2022-04-29T06:02:22.886Z"
   },
   {
    "duration": 34,
    "start_time": "2022-04-29T06:02:22.894Z"
   },
   {
    "duration": 51,
    "start_time": "2022-04-29T06:02:22.930Z"
   },
   {
    "duration": 12,
    "start_time": "2022-04-29T06:02:22.985Z"
   },
   {
    "duration": 33,
    "start_time": "2022-04-29T06:02:22.999Z"
   },
   {
    "duration": 29,
    "start_time": "2022-04-29T06:02:23.034Z"
   },
   {
    "duration": 15,
    "start_time": "2022-04-29T06:02:23.065Z"
   },
   {
    "duration": 20,
    "start_time": "2022-04-29T06:02:23.082Z"
   },
   {
    "duration": 52,
    "start_time": "2022-04-29T06:02:23.104Z"
   },
   {
    "duration": 12,
    "start_time": "2022-04-29T06:02:23.158Z"
   },
   {
    "duration": 23,
    "start_time": "2022-04-29T06:02:23.172Z"
   },
   {
    "duration": 397,
    "start_time": "2022-04-29T06:02:23.197Z"
   },
   {
    "duration": 17,
    "start_time": "2022-04-29T06:02:23.597Z"
   },
   {
    "duration": 22,
    "start_time": "2022-04-29T06:02:23.616Z"
   },
   {
    "duration": 33,
    "start_time": "2022-04-29T06:02:23.640Z"
   },
   {
    "duration": 14,
    "start_time": "2022-04-29T06:02:23.675Z"
   },
   {
    "duration": 19,
    "start_time": "2022-04-29T06:02:23.691Z"
   },
   {
    "duration": 42,
    "start_time": "2022-04-29T06:02:23.712Z"
   },
   {
    "duration": 26,
    "start_time": "2022-04-29T06:02:23.756Z"
   },
   {
    "duration": 24,
    "start_time": "2022-04-29T06:02:23.785Z"
   },
   {
    "duration": 33,
    "start_time": "2022-04-29T06:02:23.811Z"
   },
   {
    "duration": 23,
    "start_time": "2022-04-29T06:02:23.850Z"
   },
   {
    "duration": 20,
    "start_time": "2022-04-29T06:02:23.876Z"
   },
   {
    "duration": 30,
    "start_time": "2022-04-29T06:02:23.898Z"
   },
   {
    "duration": 13,
    "start_time": "2022-04-29T06:02:23.930Z"
   },
   {
    "duration": 30,
    "start_time": "2022-04-29T06:02:23.946Z"
   },
   {
    "duration": 9,
    "start_time": "2022-04-29T06:02:23.979Z"
   },
   {
    "duration": 63,
    "start_time": "2022-04-29T06:02:23.991Z"
   },
   {
    "duration": 18,
    "start_time": "2022-04-29T06:02:24.057Z"
   },
   {
    "duration": 20,
    "start_time": "2022-04-29T06:02:24.077Z"
   },
   {
    "duration": 53,
    "start_time": "2022-04-29T06:02:24.100Z"
   },
   {
    "duration": 20,
    "start_time": "2022-04-29T06:02:24.156Z"
   },
   {
    "duration": 17,
    "start_time": "2022-04-29T06:02:24.179Z"
   },
   {
    "duration": 27,
    "start_time": "2022-04-29T06:02:24.198Z"
   },
   {
    "duration": 38,
    "start_time": "2022-04-29T06:02:24.228Z"
   },
   {
    "duration": 26,
    "start_time": "2022-04-29T06:02:24.268Z"
   },
   {
    "duration": 22,
    "start_time": "2022-04-29T06:02:24.297Z"
   },
   {
    "duration": 35,
    "start_time": "2022-04-29T06:02:24.321Z"
   },
   {
    "duration": 16,
    "start_time": "2022-04-29T06:02:24.359Z"
   },
   {
    "duration": 27,
    "start_time": "2022-04-29T06:02:24.377Z"
   },
   {
    "duration": 45,
    "start_time": "2022-04-29T06:02:24.407Z"
   },
   {
    "duration": 18,
    "start_time": "2022-04-29T06:02:24.454Z"
   },
   {
    "duration": 55,
    "start_time": "2022-04-29T06:02:24.474Z"
   },
   {
    "duration": 58,
    "start_time": "2022-04-29T06:02:24.532Z"
   },
   {
    "duration": 496,
    "start_time": "2022-04-29T06:02:24.592Z"
   },
   {
    "duration": 36,
    "start_time": "2022-04-29T06:02:25.090Z"
   },
   {
    "duration": 32,
    "start_time": "2022-04-29T06:02:25.128Z"
   },
   {
    "duration": 431,
    "start_time": "2022-04-29T06:02:25.162Z"
   },
   {
    "duration": 12,
    "start_time": "2022-04-29T06:02:25.595Z"
   },
   {
    "duration": 437,
    "start_time": "2022-04-29T06:02:25.609Z"
   },
   {
    "duration": 11,
    "start_time": "2022-04-29T06:02:26.051Z"
   },
   {
    "duration": 352,
    "start_time": "2022-04-29T06:02:26.064Z"
   },
   {
    "duration": 43,
    "start_time": "2022-04-29T06:02:26.418Z"
   },
   {
    "duration": 530,
    "start_time": "2022-04-29T06:02:26.463Z"
   },
   {
    "duration": 11,
    "start_time": "2022-04-29T06:02:26.995Z"
   },
   {
    "duration": 234,
    "start_time": "2022-04-29T06:02:27.008Z"
   },
   {
    "duration": 11,
    "start_time": "2022-04-29T06:02:27.244Z"
   },
   {
    "duration": 22,
    "start_time": "2022-04-29T06:02:27.257Z"
   },
   {
    "duration": 17,
    "start_time": "2022-04-29T06:02:27.281Z"
   },
   {
    "duration": 44,
    "start_time": "2022-04-29T06:02:27.300Z"
   },
   {
    "duration": 18,
    "start_time": "2022-04-29T06:02:27.347Z"
   },
   {
    "duration": 22,
    "start_time": "2022-04-29T06:02:27.367Z"
   },
   {
    "duration": 320,
    "start_time": "2022-04-29T06:02:27.391Z"
   },
   {
    "duration": 257,
    "start_time": "2022-04-29T06:02:27.713Z"
   },
   {
    "duration": 269,
    "start_time": "2022-04-29T06:02:27.972Z"
   },
   {
    "duration": 261,
    "start_time": "2022-04-29T06:02:28.243Z"
   },
   {
    "duration": 19,
    "start_time": "2022-04-29T06:02:28.507Z"
   },
   {
    "duration": 24,
    "start_time": "2022-04-29T06:02:28.529Z"
   },
   {
    "duration": 18,
    "start_time": "2022-04-29T06:02:28.555Z"
   },
   {
    "duration": 6,
    "start_time": "2022-04-29T06:02:28.576Z"
   },
   {
    "duration": 21,
    "start_time": "2022-04-29T06:02:28.584Z"
   },
   {
    "duration": 11,
    "start_time": "2022-04-29T06:02:28.607Z"
   },
   {
    "duration": 17,
    "start_time": "2022-04-29T06:02:28.652Z"
   },
   {
    "duration": 22,
    "start_time": "2022-04-29T06:02:28.671Z"
   },
   {
    "duration": 57,
    "start_time": "2022-04-29T06:02:28.695Z"
   },
   {
    "duration": 256,
    "start_time": "2022-04-29T06:02:28.759Z"
   },
   {
    "duration": 260,
    "start_time": "2022-04-29T06:21:02.379Z"
   },
   {
    "duration": 245,
    "start_time": "2022-04-29T06:21:22.291Z"
   },
   {
    "duration": 31,
    "start_time": "2022-04-29T06:23:36.007Z"
   },
   {
    "duration": 255,
    "start_time": "2022-04-29T06:23:48.760Z"
   },
   {
    "duration": 338,
    "start_time": "2022-04-29T06:23:54.353Z"
   },
   {
    "duration": 16,
    "start_time": "2022-04-29T06:28:19.371Z"
   },
   {
    "duration": 12,
    "start_time": "2022-04-29T06:28:35.363Z"
   },
   {
    "duration": 13,
    "start_time": "2022-04-29T06:29:06.688Z"
   },
   {
    "duration": 157,
    "start_time": "2022-04-29T06:35:46.491Z"
   },
   {
    "duration": 108,
    "start_time": "2022-04-29T06:36:01.069Z"
   },
   {
    "duration": 125,
    "start_time": "2022-04-29T06:37:24.305Z"
   },
   {
    "duration": 114,
    "start_time": "2022-04-29T06:37:32.937Z"
   },
   {
    "duration": 70,
    "start_time": "2022-04-29T06:37:39.546Z"
   },
   {
    "duration": 48,
    "start_time": "2022-04-29T06:40:20.179Z"
   },
   {
    "duration": 20,
    "start_time": "2022-04-29T06:45:20.579Z"
   },
   {
    "duration": 24,
    "start_time": "2022-04-29T06:45:54.584Z"
   },
   {
    "duration": 6,
    "start_time": "2022-04-29T06:59:46.313Z"
   },
   {
    "duration": 144,
    "start_time": "2022-04-29T07:00:10.193Z"
   },
   {
    "duration": 7,
    "start_time": "2022-04-29T07:00:27.130Z"
   },
   {
    "duration": 24,
    "start_time": "2022-04-29T07:03:07.087Z"
   },
   {
    "duration": 7,
    "start_time": "2022-04-29T07:04:27.591Z"
   },
   {
    "duration": 23,
    "start_time": "2022-04-29T07:05:10.214Z"
   },
   {
    "duration": 6,
    "start_time": "2022-04-29T07:05:31.041Z"
   },
   {
    "duration": 21,
    "start_time": "2022-04-29T07:05:47.327Z"
   },
   {
    "duration": 22,
    "start_time": "2022-04-29T07:06:02.872Z"
   },
   {
    "duration": 22,
    "start_time": "2022-04-29T07:06:22.268Z"
   },
   {
    "duration": 21,
    "start_time": "2022-04-29T07:06:45.057Z"
   },
   {
    "duration": 22,
    "start_time": "2022-04-29T07:07:31.680Z"
   },
   {
    "duration": 19,
    "start_time": "2022-04-29T07:08:40.107Z"
   },
   {
    "duration": 34,
    "start_time": "2022-04-29T07:08:50.372Z"
   },
   {
    "duration": 28,
    "start_time": "2022-04-29T07:09:07.290Z"
   },
   {
    "duration": 22,
    "start_time": "2022-04-29T07:09:25.256Z"
   },
   {
    "duration": 22,
    "start_time": "2022-04-29T07:10:07.409Z"
   },
   {
    "duration": 34,
    "start_time": "2022-04-29T07:11:08.708Z"
   },
   {
    "duration": 32,
    "start_time": "2022-04-29T07:11:31.963Z"
   },
   {
    "duration": 32,
    "start_time": "2022-04-29T07:11:42.924Z"
   },
   {
    "duration": 28,
    "start_time": "2022-04-29T07:12:16.962Z"
   },
   {
    "duration": 68,
    "start_time": "2022-04-29T07:13:35.053Z"
   },
   {
    "duration": 332,
    "start_time": "2022-04-29T07:14:03.775Z"
   },
   {
    "duration": 23,
    "start_time": "2022-04-29T07:14:13.977Z"
   },
   {
    "duration": 30,
    "start_time": "2022-04-29T07:15:15.525Z"
   },
   {
    "duration": 17,
    "start_time": "2022-04-29T07:15:55.752Z"
   },
   {
    "duration": 23,
    "start_time": "2022-04-29T07:16:13.004Z"
   },
   {
    "duration": 21,
    "start_time": "2022-04-29T07:17:02.437Z"
   },
   {
    "duration": 22,
    "start_time": "2022-04-29T07:17:05.496Z"
   },
   {
    "duration": 27,
    "start_time": "2022-04-29T07:19:19.306Z"
   },
   {
    "duration": 34,
    "start_time": "2022-04-29T07:20:00.821Z"
   },
   {
    "duration": 35,
    "start_time": "2022-04-29T07:20:32.814Z"
   },
   {
    "duration": 37,
    "start_time": "2022-04-29T07:26:26.307Z"
   },
   {
    "duration": 34,
    "start_time": "2022-04-29T07:26:58.414Z"
   },
   {
    "duration": 33,
    "start_time": "2022-04-29T07:27:31.604Z"
   },
   {
    "duration": 30,
    "start_time": "2022-04-29T07:39:07.925Z"
   },
   {
    "duration": 26,
    "start_time": "2022-04-29T07:39:39.822Z"
   },
   {
    "duration": 29,
    "start_time": "2022-04-29T07:40:33.013Z"
   },
   {
    "duration": 32,
    "start_time": "2022-04-29T07:40:57.504Z"
   },
   {
    "duration": 29,
    "start_time": "2022-04-29T07:41:15.847Z"
   },
   {
    "duration": 30,
    "start_time": "2022-04-29T07:42:08.425Z"
   },
   {
    "duration": 27,
    "start_time": "2022-04-29T07:42:35.886Z"
   },
   {
    "duration": 389,
    "start_time": "2022-04-29T07:52:16.285Z"
   },
   {
    "duration": 203,
    "start_time": "2022-04-29T07:55:43.329Z"
   },
   {
    "duration": 390,
    "start_time": "2022-04-29T07:55:49.765Z"
   },
   {
    "duration": 160,
    "start_time": "2022-04-29T08:06:13.872Z"
   },
   {
    "duration": 1190,
    "start_time": "2022-04-29T08:06:20.366Z"
   },
   {
    "duration": 1233,
    "start_time": "2022-04-29T08:07:15.856Z"
   },
   {
    "duration": 158,
    "start_time": "2022-04-29T08:07:34.286Z"
   },
   {
    "duration": 159,
    "start_time": "2022-04-29T08:08:31.909Z"
   },
   {
    "duration": 236,
    "start_time": "2022-04-29T08:10:01.081Z"
   },
   {
    "duration": 1174,
    "start_time": "2022-04-29T08:10:06.248Z"
   },
   {
    "duration": 1173,
    "start_time": "2022-04-29T08:13:43.036Z"
   },
   {
    "duration": 1229,
    "start_time": "2022-04-29T08:13:50.999Z"
   },
   {
    "duration": 1142,
    "start_time": "2022-04-29T08:13:59.470Z"
   },
   {
    "duration": 1153,
    "start_time": "2022-04-29T08:14:09.142Z"
   },
   {
    "duration": 1295,
    "start_time": "2022-04-29T08:18:00.204Z"
   },
   {
    "duration": 10701,
    "start_time": "2022-04-29T08:18:47.235Z"
   },
   {
    "duration": 8372,
    "start_time": "2022-04-29T08:19:02.427Z"
   },
   {
    "duration": 7752,
    "start_time": "2022-04-29T08:19:49.316Z"
   },
   {
    "duration": 8654,
    "start_time": "2022-04-29T08:20:05.331Z"
   },
   {
    "duration": 9468,
    "start_time": "2022-04-29T08:20:22.285Z"
   },
   {
    "duration": 70,
    "start_time": "2022-04-29T08:21:40.511Z"
   },
   {
    "duration": 358,
    "start_time": "2022-04-29T08:27:17.684Z"
   },
   {
    "duration": 360,
    "start_time": "2022-04-29T08:27:23.831Z"
   },
   {
    "duration": 379,
    "start_time": "2022-04-29T08:27:31.022Z"
   },
   {
    "duration": 363,
    "start_time": "2022-04-29T08:27:35.995Z"
   },
   {
    "duration": 376,
    "start_time": "2022-04-29T08:27:50.253Z"
   },
   {
    "duration": 10,
    "start_time": "2022-04-29T08:31:02.394Z"
   },
   {
    "duration": 8,
    "start_time": "2022-04-29T08:31:28.557Z"
   },
   {
    "duration": 242,
    "start_time": "2022-04-29T08:31:38.915Z"
   },
   {
    "duration": 973,
    "start_time": "2022-04-29T08:52:09.981Z"
   },
   {
    "duration": 250,
    "start_time": "2022-04-29T08:53:22.686Z"
   },
   {
    "duration": 7,
    "start_time": "2022-04-29T09:01:17.724Z"
   },
   {
    "duration": 26,
    "start_time": "2022-04-29T09:20:39.471Z"
   },
   {
    "duration": 8,
    "start_time": "2022-04-29T09:21:11.724Z"
   },
   {
    "duration": 21,
    "start_time": "2022-04-29T09:24:31.869Z"
   },
   {
    "duration": 23,
    "start_time": "2022-04-29T09:24:52.099Z"
   },
   {
    "duration": 7,
    "start_time": "2022-04-29T09:25:29.605Z"
   },
   {
    "duration": 7,
    "start_time": "2022-04-29T09:35:52.452Z"
   },
   {
    "duration": 24,
    "start_time": "2022-04-29T09:36:34.046Z"
   },
   {
    "duration": 23,
    "start_time": "2022-04-29T09:36:52.646Z"
   },
   {
    "duration": 20,
    "start_time": "2022-04-29T09:37:01.184Z"
   },
   {
    "duration": 24,
    "start_time": "2022-04-29T09:37:29.753Z"
   },
   {
    "duration": 686,
    "start_time": "2022-04-29T09:38:22.834Z"
   },
   {
    "duration": 6,
    "start_time": "2022-04-29T09:38:39.130Z"
   },
   {
    "duration": 7,
    "start_time": "2022-04-29T09:39:52.383Z"
   },
   {
    "duration": 8,
    "start_time": "2022-04-29T09:40:07.792Z"
   },
   {
    "duration": 7,
    "start_time": "2022-04-29T09:40:23.428Z"
   },
   {
    "duration": 21,
    "start_time": "2022-04-29T09:53:12.583Z"
   },
   {
    "duration": 18,
    "start_time": "2022-04-29T09:53:21.016Z"
   },
   {
    "duration": 29,
    "start_time": "2022-04-29T10:02:57.007Z"
   },
   {
    "duration": 261,
    "start_time": "2022-04-29T10:10:15.369Z"
   },
   {
    "duration": 8,
    "start_time": "2022-04-29T10:23:02.231Z"
   },
   {
    "duration": 23,
    "start_time": "2022-04-29T10:26:15.938Z"
   },
   {
    "duration": 9,
    "start_time": "2022-04-29T10:26:24.083Z"
   },
   {
    "duration": 29,
    "start_time": "2022-04-29T10:27:03.018Z"
   },
   {
    "duration": 72,
    "start_time": "2022-05-04T09:37:18.334Z"
   },
   {
    "duration": 1405,
    "start_time": "2022-05-04T09:37:31.143Z"
   },
   {
    "duration": 73,
    "start_time": "2022-05-04T09:37:32.550Z"
   },
   {
    "duration": 11,
    "start_time": "2022-05-04T09:37:32.624Z"
   },
   {
    "duration": 74,
    "start_time": "2022-05-04T09:37:32.638Z"
   },
   {
    "duration": 36,
    "start_time": "2022-05-04T09:37:32.714Z"
   },
   {
    "duration": 16,
    "start_time": "2022-05-04T09:37:32.751Z"
   },
   {
    "duration": 4,
    "start_time": "2022-05-04T09:37:32.769Z"
   },
   {
    "duration": 18,
    "start_time": "2022-05-04T09:37:32.775Z"
   },
   {
    "duration": 57,
    "start_time": "2022-05-04T09:37:32.795Z"
   },
   {
    "duration": 11,
    "start_time": "2022-05-04T09:37:32.855Z"
   },
   {
    "duration": 40,
    "start_time": "2022-05-04T09:37:32.867Z"
   },
   {
    "duration": 16,
    "start_time": "2022-05-04T09:37:32.910Z"
   },
   {
    "duration": 15,
    "start_time": "2022-05-04T09:37:32.928Z"
   },
   {
    "duration": 21,
    "start_time": "2022-05-04T09:37:32.946Z"
   },
   {
    "duration": 26,
    "start_time": "2022-05-04T09:37:32.969Z"
   },
   {
    "duration": 41,
    "start_time": "2022-05-04T09:37:32.997Z"
   },
   {
    "duration": 17,
    "start_time": "2022-05-04T09:37:33.040Z"
   },
   {
    "duration": 246,
    "start_time": "2022-05-04T09:37:33.060Z"
   },
   {
    "duration": 13,
    "start_time": "2022-05-04T09:37:33.308Z"
   },
   {
    "duration": 20,
    "start_time": "2022-05-04T09:37:33.323Z"
   },
   {
    "duration": 12,
    "start_time": "2022-05-04T09:37:33.345Z"
   },
   {
    "duration": 11,
    "start_time": "2022-05-04T09:37:33.359Z"
   },
   {
    "duration": 13,
    "start_time": "2022-05-04T09:37:33.371Z"
   },
   {
    "duration": 9,
    "start_time": "2022-05-04T09:37:33.385Z"
   },
   {
    "duration": 49,
    "start_time": "2022-05-04T09:37:33.396Z"
   },
   {
    "duration": 16,
    "start_time": "2022-05-04T09:37:33.447Z"
   },
   {
    "duration": 24,
    "start_time": "2022-05-04T09:37:33.465Z"
   },
   {
    "duration": 7,
    "start_time": "2022-05-04T09:37:33.494Z"
   },
   {
    "duration": 14,
    "start_time": "2022-05-04T09:37:33.503Z"
   },
   {
    "duration": 30,
    "start_time": "2022-05-04T09:37:33.518Z"
   },
   {
    "duration": 14,
    "start_time": "2022-05-04T09:37:33.550Z"
   },
   {
    "duration": 26,
    "start_time": "2022-05-04T09:37:33.566Z"
   },
   {
    "duration": 9,
    "start_time": "2022-05-04T09:37:33.594Z"
   },
   {
    "duration": 58,
    "start_time": "2022-05-04T09:37:33.606Z"
   },
   {
    "duration": 12,
    "start_time": "2022-05-04T09:37:33.666Z"
   },
   {
    "duration": 14,
    "start_time": "2022-05-04T09:37:33.680Z"
   },
   {
    "duration": 39,
    "start_time": "2022-05-04T09:37:33.696Z"
   },
   {
    "duration": 14,
    "start_time": "2022-05-04T09:37:33.737Z"
   },
   {
    "duration": 9,
    "start_time": "2022-05-04T09:37:33.752Z"
   },
   {
    "duration": 12,
    "start_time": "2022-05-04T09:37:33.762Z"
   },
   {
    "duration": 11,
    "start_time": "2022-05-04T09:37:33.776Z"
   },
   {
    "duration": 45,
    "start_time": "2022-05-04T09:37:33.789Z"
   },
   {
    "duration": 9,
    "start_time": "2022-05-04T09:37:33.836Z"
   },
   {
    "duration": 11,
    "start_time": "2022-05-04T09:37:33.847Z"
   },
   {
    "duration": 11,
    "start_time": "2022-05-04T09:37:33.860Z"
   },
   {
    "duration": 13,
    "start_time": "2022-05-04T09:37:33.872Z"
   },
   {
    "duration": 49,
    "start_time": "2022-05-04T09:37:33.886Z"
   },
   {
    "duration": 13,
    "start_time": "2022-05-04T09:37:33.936Z"
   },
   {
    "duration": 28,
    "start_time": "2022-05-04T09:37:33.951Z"
   },
   {
    "duration": 59,
    "start_time": "2022-05-04T09:37:33.981Z"
   },
   {
    "duration": 323,
    "start_time": "2022-05-04T09:37:34.041Z"
   },
   {
    "duration": 25,
    "start_time": "2022-05-04T09:37:34.366Z"
   },
   {
    "duration": 9,
    "start_time": "2022-05-04T09:37:34.393Z"
   },
   {
    "duration": 283,
    "start_time": "2022-05-04T09:37:34.404Z"
   },
   {
    "duration": 10,
    "start_time": "2022-05-04T09:37:34.690Z"
   },
   {
    "duration": 251,
    "start_time": "2022-05-04T09:37:34.702Z"
   },
   {
    "duration": 9,
    "start_time": "2022-05-04T09:37:34.955Z"
   },
   {
    "duration": 180,
    "start_time": "2022-05-04T09:37:34.966Z"
   },
   {
    "duration": 9,
    "start_time": "2022-05-04T09:37:35.148Z"
   },
   {
    "duration": 458,
    "start_time": "2022-05-04T09:37:35.159Z"
   },
   {
    "duration": 0,
    "start_time": "2022-05-04T09:37:35.619Z"
   },
   {
    "duration": 0,
    "start_time": "2022-05-04T09:37:35.620Z"
   },
   {
    "duration": 0,
    "start_time": "2022-05-04T09:37:35.621Z"
   },
   {
    "duration": 0,
    "start_time": "2022-05-04T09:37:35.623Z"
   },
   {
    "duration": 0,
    "start_time": "2022-05-04T09:37:35.633Z"
   },
   {
    "duration": 0,
    "start_time": "2022-05-04T09:37:35.635Z"
   },
   {
    "duration": 0,
    "start_time": "2022-05-04T09:37:35.635Z"
   },
   {
    "duration": 0,
    "start_time": "2022-05-04T09:37:35.637Z"
   },
   {
    "duration": 0,
    "start_time": "2022-05-04T09:37:35.638Z"
   },
   {
    "duration": 0,
    "start_time": "2022-05-04T09:37:35.639Z"
   },
   {
    "duration": 0,
    "start_time": "2022-05-04T09:37:35.641Z"
   },
   {
    "duration": 0,
    "start_time": "2022-05-04T09:37:35.641Z"
   },
   {
    "duration": 0,
    "start_time": "2022-05-04T09:37:35.643Z"
   },
   {
    "duration": 0,
    "start_time": "2022-05-04T09:37:35.644Z"
   },
   {
    "duration": 0,
    "start_time": "2022-05-04T09:37:35.645Z"
   },
   {
    "duration": 0,
    "start_time": "2022-05-04T09:37:35.646Z"
   },
   {
    "duration": 0,
    "start_time": "2022-05-04T09:37:35.647Z"
   },
   {
    "duration": 0,
    "start_time": "2022-05-04T09:37:35.648Z"
   },
   {
    "duration": 0,
    "start_time": "2022-05-04T09:37:35.649Z"
   },
   {
    "duration": 0,
    "start_time": "2022-05-04T09:37:35.651Z"
   },
   {
    "duration": 0,
    "start_time": "2022-05-04T09:37:35.652Z"
   },
   {
    "duration": 0,
    "start_time": "2022-05-04T09:37:35.653Z"
   },
   {
    "duration": 0,
    "start_time": "2022-05-04T09:37:35.654Z"
   },
   {
    "duration": 0,
    "start_time": "2022-05-04T09:37:35.655Z"
   },
   {
    "duration": 0,
    "start_time": "2022-05-04T09:37:35.656Z"
   },
   {
    "duration": 0,
    "start_time": "2022-05-04T09:37:35.657Z"
   },
   {
    "duration": 0,
    "start_time": "2022-05-04T09:37:35.659Z"
   },
   {
    "duration": 0,
    "start_time": "2022-05-04T09:37:35.660Z"
   },
   {
    "duration": 0,
    "start_time": "2022-05-04T09:37:35.661Z"
   },
   {
    "duration": 0,
    "start_time": "2022-05-04T09:37:35.662Z"
   },
   {
    "duration": 0,
    "start_time": "2022-05-04T09:37:35.663Z"
   },
   {
    "duration": 0,
    "start_time": "2022-05-04T09:37:35.664Z"
   },
   {
    "duration": 0,
    "start_time": "2022-05-04T09:37:35.665Z"
   },
   {
    "duration": 0,
    "start_time": "2022-05-04T09:37:35.667Z"
   },
   {
    "duration": 0,
    "start_time": "2022-05-04T09:37:35.668Z"
   },
   {
    "duration": 0,
    "start_time": "2022-05-04T09:37:35.734Z"
   },
   {
    "duration": 236,
    "start_time": "2022-05-04T09:38:23.223Z"
   },
   {
    "duration": 272,
    "start_time": "2022-05-04T09:38:50.051Z"
   },
   {
    "duration": 152,
    "start_time": "2022-05-04T09:42:26.487Z"
   },
   {
    "duration": 164,
    "start_time": "2022-05-04T09:42:36.170Z"
   },
   {
    "duration": 180,
    "start_time": "2022-05-04T09:42:44.475Z"
   },
   {
    "duration": 8,
    "start_time": "2022-05-04T09:59:05.888Z"
   },
   {
    "duration": 12,
    "start_time": "2022-05-04T09:59:19.487Z"
   },
   {
    "duration": 10,
    "start_time": "2022-05-04T09:59:51.364Z"
   },
   {
    "duration": 5,
    "start_time": "2022-05-04T10:00:21.450Z"
   },
   {
    "duration": 17,
    "start_time": "2022-05-04T10:04:03.036Z"
   },
   {
    "duration": 5,
    "start_time": "2022-05-04T10:06:19.328Z"
   },
   {
    "duration": 15,
    "start_time": "2022-05-04T10:06:40.474Z"
   },
   {
    "duration": 10,
    "start_time": "2022-05-04T10:07:07.285Z"
   },
   {
    "duration": 12,
    "start_time": "2022-05-04T10:07:25.971Z"
   },
   {
    "duration": 15,
    "start_time": "2022-05-04T10:07:55.398Z"
   },
   {
    "duration": 7,
    "start_time": "2022-05-04T10:10:11.927Z"
   },
   {
    "duration": 7,
    "start_time": "2022-05-04T10:10:44.380Z"
   },
   {
    "duration": 8,
    "start_time": "2022-05-04T10:10:51.572Z"
   },
   {
    "duration": 7,
    "start_time": "2022-05-04T10:11:01.779Z"
   },
   {
    "duration": 8,
    "start_time": "2022-05-04T10:11:59.578Z"
   },
   {
    "duration": 240,
    "start_time": "2022-05-04T10:12:16.738Z"
   },
   {
    "duration": 331,
    "start_time": "2022-05-04T10:12:22.366Z"
   },
   {
    "duration": 254,
    "start_time": "2022-05-04T10:12:25.634Z"
   },
   {
    "duration": 252,
    "start_time": "2022-05-04T10:12:30.140Z"
   },
   {
    "duration": 7,
    "start_time": "2022-05-04T10:14:56.202Z"
   },
   {
    "duration": 8,
    "start_time": "2022-05-04T10:15:17.105Z"
   },
   {
    "duration": 3074,
    "start_time": "2022-05-04T10:20:48.551Z"
   },
   {
    "duration": 1502,
    "start_time": "2022-05-04T10:21:13.383Z"
   },
   {
    "duration": 74,
    "start_time": "2022-05-04T10:21:14.887Z"
   },
   {
    "duration": 11,
    "start_time": "2022-05-04T10:21:14.963Z"
   },
   {
    "duration": 91,
    "start_time": "2022-05-04T10:21:14.976Z"
   },
   {
    "duration": 29,
    "start_time": "2022-05-04T10:21:15.069Z"
   },
   {
    "duration": 38,
    "start_time": "2022-05-04T10:21:15.100Z"
   },
   {
    "duration": 6,
    "start_time": "2022-05-04T10:21:15.140Z"
   },
   {
    "duration": 17,
    "start_time": "2022-05-04T10:21:15.148Z"
   },
   {
    "duration": 26,
    "start_time": "2022-05-04T10:21:15.168Z"
   },
   {
    "duration": 39,
    "start_time": "2022-05-04T10:21:15.198Z"
   },
   {
    "duration": 24,
    "start_time": "2022-05-04T10:21:15.239Z"
   },
   {
    "duration": 12,
    "start_time": "2022-05-04T10:21:15.265Z"
   },
   {
    "duration": 10,
    "start_time": "2022-05-04T10:21:15.279Z"
   },
   {
    "duration": 12,
    "start_time": "2022-05-04T10:21:15.291Z"
   },
   {
    "duration": 39,
    "start_time": "2022-05-04T10:21:15.304Z"
   },
   {
    "duration": 9,
    "start_time": "2022-05-04T10:21:15.344Z"
   },
   {
    "duration": 24,
    "start_time": "2022-05-04T10:21:15.354Z"
   },
   {
    "duration": 247,
    "start_time": "2022-05-04T10:21:15.380Z"
   },
   {
    "duration": 15,
    "start_time": "2022-05-04T10:21:15.629Z"
   },
   {
    "duration": 12,
    "start_time": "2022-05-04T10:21:15.645Z"
   },
   {
    "duration": 17,
    "start_time": "2022-05-04T10:21:15.659Z"
   },
   {
    "duration": 10,
    "start_time": "2022-05-04T10:21:15.678Z"
   },
   {
    "duration": 44,
    "start_time": "2022-05-04T10:21:15.689Z"
   },
   {
    "duration": 9,
    "start_time": "2022-05-04T10:21:15.735Z"
   },
   {
    "duration": 12,
    "start_time": "2022-05-04T10:21:15.746Z"
   },
   {
    "duration": 13,
    "start_time": "2022-05-04T10:21:15.760Z"
   },
   {
    "duration": 13,
    "start_time": "2022-05-04T10:21:15.774Z"
   },
   {
    "duration": 7,
    "start_time": "2022-05-04T10:21:15.792Z"
   },
   {
    "duration": 37,
    "start_time": "2022-05-04T10:21:15.801Z"
   },
   {
    "duration": 21,
    "start_time": "2022-05-04T10:21:15.840Z"
   },
   {
    "duration": 8,
    "start_time": "2022-05-04T10:21:15.863Z"
   },
   {
    "duration": 13,
    "start_time": "2022-05-04T10:21:15.873Z"
   },
   {
    "duration": 6,
    "start_time": "2022-05-04T10:21:15.888Z"
   },
   {
    "duration": 64,
    "start_time": "2022-05-04T10:21:15.896Z"
   },
   {
    "duration": 12,
    "start_time": "2022-05-04T10:21:15.962Z"
   },
   {
    "duration": 14,
    "start_time": "2022-05-04T10:21:15.975Z"
   },
   {
    "duration": 13,
    "start_time": "2022-05-04T10:21:15.991Z"
   },
   {
    "duration": 40,
    "start_time": "2022-05-04T10:21:16.005Z"
   },
   {
    "duration": 8,
    "start_time": "2022-05-04T10:21:16.047Z"
   },
   {
    "duration": 17,
    "start_time": "2022-05-04T10:21:16.057Z"
   },
   {
    "duration": 23,
    "start_time": "2022-05-04T10:21:16.075Z"
   },
   {
    "duration": 13,
    "start_time": "2022-05-04T10:21:16.099Z"
   },
   {
    "duration": 11,
    "start_time": "2022-05-04T10:21:16.134Z"
   },
   {
    "duration": 12,
    "start_time": "2022-05-04T10:21:16.146Z"
   },
   {
    "duration": 24,
    "start_time": "2022-05-04T10:21:16.160Z"
   },
   {
    "duration": 13,
    "start_time": "2022-05-04T10:21:16.185Z"
   },
   {
    "duration": 12,
    "start_time": "2022-05-04T10:21:16.199Z"
   },
   {
    "duration": 13,
    "start_time": "2022-05-04T10:21:16.234Z"
   },
   {
    "duration": 29,
    "start_time": "2022-05-04T10:21:16.249Z"
   },
   {
    "duration": 59,
    "start_time": "2022-05-04T10:21:16.280Z"
   },
   {
    "duration": 320,
    "start_time": "2022-05-04T10:21:16.340Z"
   },
   {
    "duration": 24,
    "start_time": "2022-05-04T10:21:16.662Z"
   },
   {
    "duration": 12,
    "start_time": "2022-05-04T10:21:16.688Z"
   },
   {
    "duration": 264,
    "start_time": "2022-05-04T10:21:16.701Z"
   },
   {
    "duration": 10,
    "start_time": "2022-05-04T10:21:16.966Z"
   },
   {
    "duration": 25,
    "start_time": "2022-05-04T10:21:16.978Z"
   },
   {
    "duration": 34,
    "start_time": "2022-05-04T10:21:17.005Z"
   },
   {
    "duration": 2581,
    "start_time": "2022-05-04T10:21:17.041Z"
   },
   {
    "duration": 0,
    "start_time": "2022-05-04T10:21:19.624Z"
   },
   {
    "duration": 0,
    "start_time": "2022-05-04T10:21:19.626Z"
   },
   {
    "duration": 0,
    "start_time": "2022-05-04T10:21:19.626Z"
   },
   {
    "duration": 0,
    "start_time": "2022-05-04T10:21:19.628Z"
   },
   {
    "duration": 0,
    "start_time": "2022-05-04T10:21:19.629Z"
   },
   {
    "duration": 0,
    "start_time": "2022-05-04T10:21:19.629Z"
   },
   {
    "duration": 0,
    "start_time": "2022-05-04T10:21:19.631Z"
   },
   {
    "duration": 0,
    "start_time": "2022-05-04T10:21:19.632Z"
   },
   {
    "duration": 0,
    "start_time": "2022-05-04T10:21:19.633Z"
   },
   {
    "duration": 0,
    "start_time": "2022-05-04T10:21:19.634Z"
   },
   {
    "duration": 0,
    "start_time": "2022-05-04T10:21:19.636Z"
   },
   {
    "duration": 0,
    "start_time": "2022-05-04T10:21:19.637Z"
   },
   {
    "duration": 0,
    "start_time": "2022-05-04T10:21:19.637Z"
   },
   {
    "duration": 0,
    "start_time": "2022-05-04T10:21:19.639Z"
   },
   {
    "duration": 0,
    "start_time": "2022-05-04T10:21:19.640Z"
   },
   {
    "duration": 0,
    "start_time": "2022-05-04T10:21:19.641Z"
   },
   {
    "duration": 0,
    "start_time": "2022-05-04T10:21:19.642Z"
   },
   {
    "duration": 0,
    "start_time": "2022-05-04T10:21:19.645Z"
   },
   {
    "duration": 0,
    "start_time": "2022-05-04T10:21:19.646Z"
   },
   {
    "duration": 0,
    "start_time": "2022-05-04T10:21:19.647Z"
   },
   {
    "duration": 0,
    "start_time": "2022-05-04T10:21:19.648Z"
   },
   {
    "duration": 0,
    "start_time": "2022-05-04T10:21:19.649Z"
   },
   {
    "duration": 1,
    "start_time": "2022-05-04T10:21:19.650Z"
   },
   {
    "duration": 0,
    "start_time": "2022-05-04T10:21:19.652Z"
   },
   {
    "duration": 0,
    "start_time": "2022-05-04T10:21:19.653Z"
   },
   {
    "duration": 0,
    "start_time": "2022-05-04T10:21:19.655Z"
   },
   {
    "duration": 0,
    "start_time": "2022-05-04T10:21:19.656Z"
   },
   {
    "duration": 0,
    "start_time": "2022-05-04T10:21:19.658Z"
   },
   {
    "duration": 0,
    "start_time": "2022-05-04T10:21:19.659Z"
   },
   {
    "duration": 0,
    "start_time": "2022-05-04T10:21:19.661Z"
   },
   {
    "duration": 0,
    "start_time": "2022-05-04T10:21:19.662Z"
   },
   {
    "duration": 0,
    "start_time": "2022-05-04T10:21:19.664Z"
   },
   {
    "duration": 0,
    "start_time": "2022-05-04T10:21:19.665Z"
   },
   {
    "duration": 0,
    "start_time": "2022-05-04T10:21:19.667Z"
   },
   {
    "duration": 0,
    "start_time": "2022-05-04T10:21:19.668Z"
   },
   {
    "duration": 0,
    "start_time": "2022-05-04T10:21:19.670Z"
   },
   {
    "duration": 0,
    "start_time": "2022-05-04T10:21:19.671Z"
   },
   {
    "duration": 0,
    "start_time": "2022-05-04T10:21:19.734Z"
   },
   {
    "duration": 0,
    "start_time": "2022-05-04T10:21:19.735Z"
   },
   {
    "duration": 0,
    "start_time": "2022-05-04T10:21:19.736Z"
   },
   {
    "duration": 0,
    "start_time": "2022-05-04T10:21:19.737Z"
   },
   {
    "duration": 12,
    "start_time": "2022-05-04T10:27:21.361Z"
   },
   {
    "duration": 9,
    "start_time": "2022-05-04T10:29:59.864Z"
   },
   {
    "duration": 1235,
    "start_time": "2022-05-04T10:30:14.051Z"
   },
   {
    "duration": 79,
    "start_time": "2022-05-04T10:30:15.288Z"
   },
   {
    "duration": 10,
    "start_time": "2022-05-04T10:30:15.369Z"
   },
   {
    "duration": 87,
    "start_time": "2022-05-04T10:30:15.381Z"
   },
   {
    "duration": 28,
    "start_time": "2022-05-04T10:30:15.470Z"
   },
   {
    "duration": 33,
    "start_time": "2022-05-04T10:30:15.500Z"
   },
   {
    "duration": 5,
    "start_time": "2022-05-04T10:30:15.535Z"
   },
   {
    "duration": 18,
    "start_time": "2022-05-04T10:30:15.542Z"
   },
   {
    "duration": 25,
    "start_time": "2022-05-04T10:30:15.562Z"
   },
   {
    "duration": 10,
    "start_time": "2022-05-04T10:30:15.590Z"
   },
   {
    "duration": 12,
    "start_time": "2022-05-04T10:30:15.634Z"
   },
   {
    "duration": 11,
    "start_time": "2022-05-04T10:30:15.648Z"
   },
   {
    "duration": 11,
    "start_time": "2022-05-04T10:30:15.660Z"
   },
   {
    "duration": 12,
    "start_time": "2022-05-04T10:30:15.673Z"
   },
   {
    "duration": 58,
    "start_time": "2022-05-04T10:30:15.686Z"
   },
   {
    "duration": 8,
    "start_time": "2022-05-04T10:30:15.745Z"
   },
   {
    "duration": 13,
    "start_time": "2022-05-04T10:30:15.754Z"
   },
   {
    "duration": 253,
    "start_time": "2022-05-04T10:30:15.769Z"
   },
   {
    "duration": 20,
    "start_time": "2022-05-04T10:30:16.024Z"
   },
   {
    "duration": 12,
    "start_time": "2022-05-04T10:30:16.046Z"
   },
   {
    "duration": 23,
    "start_time": "2022-05-04T10:30:16.059Z"
   },
   {
    "duration": 11,
    "start_time": "2022-05-04T10:30:16.084Z"
   },
   {
    "duration": 39,
    "start_time": "2022-05-04T10:30:16.096Z"
   },
   {
    "duration": 10,
    "start_time": "2022-05-04T10:30:16.136Z"
   },
   {
    "duration": 16,
    "start_time": "2022-05-04T10:30:16.148Z"
   },
   {
    "duration": 17,
    "start_time": "2022-05-04T10:30:16.165Z"
   },
   {
    "duration": 16,
    "start_time": "2022-05-04T10:30:16.183Z"
   },
   {
    "duration": 35,
    "start_time": "2022-05-04T10:30:16.205Z"
   },
   {
    "duration": 12,
    "start_time": "2022-05-04T10:30:16.242Z"
   },
   {
    "duration": 13,
    "start_time": "2022-05-04T10:30:16.256Z"
   },
   {
    "duration": 10,
    "start_time": "2022-05-04T10:30:16.271Z"
   },
   {
    "duration": 11,
    "start_time": "2022-05-04T10:30:16.284Z"
   },
   {
    "duration": 7,
    "start_time": "2022-05-04T10:30:16.334Z"
   },
   {
    "duration": 34,
    "start_time": "2022-05-04T10:30:16.343Z"
   },
   {
    "duration": 13,
    "start_time": "2022-05-04T10:30:16.378Z"
   },
   {
    "duration": 45,
    "start_time": "2022-05-04T10:30:16.392Z"
   },
   {
    "duration": 14,
    "start_time": "2022-05-04T10:30:16.439Z"
   },
   {
    "duration": 15,
    "start_time": "2022-05-04T10:30:16.455Z"
   },
   {
    "duration": 8,
    "start_time": "2022-05-04T10:30:16.472Z"
   },
   {
    "duration": 27,
    "start_time": "2022-05-04T10:30:16.482Z"
   },
   {
    "duration": 11,
    "start_time": "2022-05-04T10:30:16.533Z"
   },
   {
    "duration": 12,
    "start_time": "2022-05-04T10:30:16.546Z"
   },
   {
    "duration": 8,
    "start_time": "2022-05-04T10:30:16.560Z"
   },
   {
    "duration": 9,
    "start_time": "2022-05-04T10:30:16.570Z"
   },
   {
    "duration": 10,
    "start_time": "2022-05-04T10:30:16.581Z"
   },
   {
    "duration": 51,
    "start_time": "2022-05-04T10:30:16.593Z"
   },
   {
    "duration": 11,
    "start_time": "2022-05-04T10:30:16.646Z"
   },
   {
    "duration": 12,
    "start_time": "2022-05-04T10:30:16.659Z"
   },
   {
    "duration": 27,
    "start_time": "2022-05-04T10:30:16.673Z"
   },
   {
    "duration": 62,
    "start_time": "2022-05-04T10:30:16.701Z"
   },
   {
    "duration": 313,
    "start_time": "2022-05-04T10:30:16.765Z"
   },
   {
    "duration": 27,
    "start_time": "2022-05-04T10:30:17.080Z"
   },
   {
    "duration": 26,
    "start_time": "2022-05-04T10:30:17.109Z"
   },
   {
    "duration": 259,
    "start_time": "2022-05-04T10:30:17.137Z"
   },
   {
    "duration": 9,
    "start_time": "2022-05-04T10:30:17.398Z"
   },
   {
    "duration": 22,
    "start_time": "2022-05-04T10:30:17.408Z"
   },
   {
    "duration": 8,
    "start_time": "2022-05-04T10:30:17.432Z"
   },
   {
    "duration": 17,
    "start_time": "2022-05-04T10:30:17.442Z"
   },
   {
    "duration": 113,
    "start_time": "2022-05-04T10:30:17.461Z"
   },
   {
    "duration": 0,
    "start_time": "2022-05-04T10:30:17.576Z"
   },
   {
    "duration": 0,
    "start_time": "2022-05-04T10:30:17.578Z"
   },
   {
    "duration": 0,
    "start_time": "2022-05-04T10:30:17.579Z"
   },
   {
    "duration": 0,
    "start_time": "2022-05-04T10:30:17.580Z"
   },
   {
    "duration": 0,
    "start_time": "2022-05-04T10:30:17.582Z"
   },
   {
    "duration": 0,
    "start_time": "2022-05-04T10:30:17.583Z"
   },
   {
    "duration": 0,
    "start_time": "2022-05-04T10:30:17.584Z"
   },
   {
    "duration": 0,
    "start_time": "2022-05-04T10:30:17.586Z"
   },
   {
    "duration": 0,
    "start_time": "2022-05-04T10:30:17.587Z"
   },
   {
    "duration": 0,
    "start_time": "2022-05-04T10:30:17.589Z"
   },
   {
    "duration": 0,
    "start_time": "2022-05-04T10:30:17.590Z"
   },
   {
    "duration": 1,
    "start_time": "2022-05-04T10:30:17.591Z"
   },
   {
    "duration": 0,
    "start_time": "2022-05-04T10:30:17.593Z"
   },
   {
    "duration": 0,
    "start_time": "2022-05-04T10:30:17.594Z"
   },
   {
    "duration": 0,
    "start_time": "2022-05-04T10:30:17.596Z"
   },
   {
    "duration": 0,
    "start_time": "2022-05-04T10:30:17.634Z"
   },
   {
    "duration": 0,
    "start_time": "2022-05-04T10:30:17.635Z"
   },
   {
    "duration": 0,
    "start_time": "2022-05-04T10:30:17.637Z"
   },
   {
    "duration": 0,
    "start_time": "2022-05-04T10:30:17.638Z"
   },
   {
    "duration": 0,
    "start_time": "2022-05-04T10:30:17.640Z"
   },
   {
    "duration": 0,
    "start_time": "2022-05-04T10:30:17.641Z"
   },
   {
    "duration": 0,
    "start_time": "2022-05-04T10:30:17.643Z"
   },
   {
    "duration": 0,
    "start_time": "2022-05-04T10:30:17.644Z"
   },
   {
    "duration": 0,
    "start_time": "2022-05-04T10:30:17.645Z"
   },
   {
    "duration": 0,
    "start_time": "2022-05-04T10:30:17.647Z"
   },
   {
    "duration": 0,
    "start_time": "2022-05-04T10:30:17.648Z"
   },
   {
    "duration": 0,
    "start_time": "2022-05-04T10:30:17.650Z"
   },
   {
    "duration": 0,
    "start_time": "2022-05-04T10:30:17.651Z"
   },
   {
    "duration": 0,
    "start_time": "2022-05-04T10:30:17.652Z"
   },
   {
    "duration": 0,
    "start_time": "2022-05-04T10:30:17.654Z"
   },
   {
    "duration": 0,
    "start_time": "2022-05-04T10:30:17.655Z"
   },
   {
    "duration": 0,
    "start_time": "2022-05-04T10:30:17.657Z"
   },
   {
    "duration": 0,
    "start_time": "2022-05-04T10:30:17.659Z"
   },
   {
    "duration": 0,
    "start_time": "2022-05-04T10:30:17.660Z"
   },
   {
    "duration": 0,
    "start_time": "2022-05-04T10:30:17.661Z"
   },
   {
    "duration": 0,
    "start_time": "2022-05-04T10:30:17.663Z"
   },
   {
    "duration": 0,
    "start_time": "2022-05-04T10:30:17.665Z"
   },
   {
    "duration": 0,
    "start_time": "2022-05-04T10:30:17.666Z"
   },
   {
    "duration": 0,
    "start_time": "2022-05-04T10:30:17.667Z"
   },
   {
    "duration": 0,
    "start_time": "2022-05-04T10:30:17.668Z"
   },
   {
    "duration": 11,
    "start_time": "2022-05-04T10:30:48.778Z"
   },
   {
    "duration": 1907,
    "start_time": "2022-05-04T10:30:49.918Z"
   },
   {
    "duration": 5266,
    "start_time": "2022-05-04T10:31:13.501Z"
   },
   {
    "duration": 5276,
    "start_time": "2022-05-04T10:31:31.363Z"
   },
   {
    "duration": 2149,
    "start_time": "2022-05-04T10:31:45.341Z"
   },
   {
    "duration": 2219,
    "start_time": "2022-05-04T10:31:51.497Z"
   },
   {
    "duration": 2259,
    "start_time": "2022-05-04T10:31:56.248Z"
   },
   {
    "duration": 5585,
    "start_time": "2022-05-04T10:32:01.229Z"
   },
   {
    "duration": 98,
    "start_time": "2022-05-04T10:32:35.245Z"
   },
   {
    "duration": 702,
    "start_time": "2022-05-04T10:32:47.023Z"
   },
   {
    "duration": 256,
    "start_time": "2022-05-04T10:32:51.878Z"
   },
   {
    "duration": 268,
    "start_time": "2022-05-04T10:32:55.037Z"
   },
   {
    "duration": 255,
    "start_time": "2022-05-04T10:32:58.262Z"
   },
   {
    "duration": 256,
    "start_time": "2022-05-04T10:33:02.023Z"
   },
   {
    "duration": 250,
    "start_time": "2022-05-04T10:33:05.118Z"
   },
   {
    "duration": 243,
    "start_time": "2022-05-04T10:33:08.515Z"
   },
   {
    "duration": 261,
    "start_time": "2022-05-04T10:33:12.419Z"
   },
   {
    "duration": 247,
    "start_time": "2022-05-04T10:35:59.172Z"
   },
   {
    "duration": 557,
    "start_time": "2022-05-04T10:36:05.266Z"
   },
   {
    "duration": 13,
    "start_time": "2022-05-04T10:37:21.604Z"
   },
   {
    "duration": 12,
    "start_time": "2022-05-04T10:37:30.318Z"
   },
   {
    "duration": 4947,
    "start_time": "2022-05-04T10:37:31.806Z"
   },
   {
    "duration": 5038,
    "start_time": "2022-05-04T10:37:42.367Z"
   },
   {
    "duration": 11192,
    "start_time": "2022-05-04T11:03:10.131Z"
   },
   {
    "duration": 194,
    "start_time": "2022-05-04T11:03:48.446Z"
   },
   {
    "duration": 253,
    "start_time": "2022-05-04T11:04:03.247Z"
   },
   {
    "duration": 584,
    "start_time": "2022-05-04T11:04:06.939Z"
   },
   {
    "duration": 239,
    "start_time": "2022-05-04T11:04:11.004Z"
   },
   {
    "duration": 232,
    "start_time": "2022-05-04T11:04:14.272Z"
   },
   {
    "duration": 228,
    "start_time": "2022-05-04T11:04:17.492Z"
   },
   {
    "duration": 236,
    "start_time": "2022-05-04T11:04:23.952Z"
   },
   {
    "duration": 8,
    "start_time": "2022-05-04T11:04:48.348Z"
   },
   {
    "duration": 208,
    "start_time": "2022-05-04T11:06:40.963Z"
   },
   {
    "duration": 8,
    "start_time": "2022-05-04T11:06:42.281Z"
   },
   {
    "duration": 237,
    "start_time": "2022-05-04T11:06:53.837Z"
   },
   {
    "duration": 200,
    "start_time": "2022-05-04T11:07:27.680Z"
   },
   {
    "duration": 1293,
    "start_time": "2022-05-04T11:07:55.426Z"
   },
   {
    "duration": 86,
    "start_time": "2022-05-04T11:07:56.721Z"
   },
   {
    "duration": 10,
    "start_time": "2022-05-04T11:07:56.809Z"
   },
   {
    "duration": 84,
    "start_time": "2022-05-04T11:07:56.821Z"
   },
   {
    "duration": 31,
    "start_time": "2022-05-04T11:07:56.907Z"
   },
   {
    "duration": 16,
    "start_time": "2022-05-04T11:07:56.941Z"
   },
   {
    "duration": 6,
    "start_time": "2022-05-04T11:07:56.959Z"
   },
   {
    "duration": 16,
    "start_time": "2022-05-04T11:07:56.967Z"
   },
   {
    "duration": 68,
    "start_time": "2022-05-04T11:07:56.985Z"
   },
   {
    "duration": 10,
    "start_time": "2022-05-04T11:07:57.057Z"
   },
   {
    "duration": 14,
    "start_time": "2022-05-04T11:07:57.069Z"
   },
   {
    "duration": 14,
    "start_time": "2022-05-04T11:07:57.084Z"
   },
   {
    "duration": 41,
    "start_time": "2022-05-04T11:07:57.100Z"
   },
   {
    "duration": 14,
    "start_time": "2022-05-04T11:07:57.143Z"
   },
   {
    "duration": 18,
    "start_time": "2022-05-04T11:07:57.159Z"
   },
   {
    "duration": 9,
    "start_time": "2022-05-04T11:07:57.179Z"
   },
   {
    "duration": 48,
    "start_time": "2022-05-04T11:07:57.190Z"
   },
   {
    "duration": 241,
    "start_time": "2022-05-04T11:07:57.239Z"
   },
   {
    "duration": 15,
    "start_time": "2022-05-04T11:07:57.482Z"
   },
   {
    "duration": 13,
    "start_time": "2022-05-04T11:07:57.499Z"
   },
   {
    "duration": 13,
    "start_time": "2022-05-04T11:07:57.534Z"
   },
   {
    "duration": 13,
    "start_time": "2022-05-04T11:07:57.549Z"
   },
   {
    "duration": 15,
    "start_time": "2022-05-04T11:07:57.564Z"
   },
   {
    "duration": 10,
    "start_time": "2022-05-04T11:07:57.581Z"
   },
   {
    "duration": 12,
    "start_time": "2022-05-04T11:07:57.634Z"
   },
   {
    "duration": 13,
    "start_time": "2022-05-04T11:07:57.648Z"
   },
   {
    "duration": 13,
    "start_time": "2022-05-04T11:07:57.664Z"
   },
   {
    "duration": 12,
    "start_time": "2022-05-04T11:07:57.683Z"
   },
   {
    "duration": 42,
    "start_time": "2022-05-04T11:07:57.697Z"
   },
   {
    "duration": 15,
    "start_time": "2022-05-04T11:07:57.741Z"
   },
   {
    "duration": 9,
    "start_time": "2022-05-04T11:07:57.757Z"
   },
   {
    "duration": 11,
    "start_time": "2022-05-04T11:07:57.768Z"
   },
   {
    "duration": 10,
    "start_time": "2022-05-04T11:07:57.781Z"
   },
   {
    "duration": 87,
    "start_time": "2022-05-04T11:07:57.793Z"
   },
   {
    "duration": 13,
    "start_time": "2022-05-04T11:07:57.882Z"
   },
   {
    "duration": 39,
    "start_time": "2022-05-04T11:07:57.897Z"
   },
   {
    "duration": 12,
    "start_time": "2022-05-04T11:07:57.938Z"
   },
   {
    "duration": 13,
    "start_time": "2022-05-04T11:07:57.951Z"
   },
   {
    "duration": 8,
    "start_time": "2022-05-04T11:07:57.966Z"
   },
   {
    "duration": 10,
    "start_time": "2022-05-04T11:07:57.976Z"
   },
   {
    "duration": 55,
    "start_time": "2022-05-04T11:07:57.987Z"
   },
   {
    "duration": 13,
    "start_time": "2022-05-04T11:07:58.043Z"
   },
   {
    "duration": 8,
    "start_time": "2022-05-04T11:07:58.058Z"
   },
   {
    "duration": 9,
    "start_time": "2022-05-04T11:07:58.068Z"
   },
   {
    "duration": 13,
    "start_time": "2022-05-04T11:07:58.079Z"
   },
   {
    "duration": 52,
    "start_time": "2022-05-04T11:07:58.094Z"
   },
   {
    "duration": 12,
    "start_time": "2022-05-04T11:07:58.148Z"
   },
   {
    "duration": 13,
    "start_time": "2022-05-04T11:07:58.162Z"
   },
   {
    "duration": 77,
    "start_time": "2022-05-04T11:07:58.177Z"
   },
   {
    "duration": 35,
    "start_time": "2022-05-04T11:07:58.257Z"
   },
   {
    "duration": 327,
    "start_time": "2022-05-04T11:07:58.294Z"
   },
   {
    "duration": 32,
    "start_time": "2022-05-04T11:07:58.623Z"
   },
   {
    "duration": 9,
    "start_time": "2022-05-04T11:07:58.657Z"
   },
   {
    "duration": 280,
    "start_time": "2022-05-04T11:07:58.668Z"
   },
   {
    "duration": 11,
    "start_time": "2022-05-04T11:07:58.950Z"
   },
   {
    "duration": 8,
    "start_time": "2022-05-04T11:07:58.963Z"
   },
   {
    "duration": 13,
    "start_time": "2022-05-04T11:07:58.973Z"
   },
   {
    "duration": 259,
    "start_time": "2022-05-04T11:07:58.988Z"
   },
   {
    "duration": 7,
    "start_time": "2022-05-04T11:07:59.249Z"
   },
   {
    "duration": 267,
    "start_time": "2022-05-04T11:07:59.257Z"
   },
   {
    "duration": 13,
    "start_time": "2022-05-04T11:07:59.526Z"
   },
   {
    "duration": 170,
    "start_time": "2022-05-04T11:07:59.541Z"
   },
   {
    "duration": 20,
    "start_time": "2022-05-04T11:07:59.713Z"
   },
   {
    "duration": 332,
    "start_time": "2022-05-04T11:07:59.735Z"
   },
   {
    "duration": 9,
    "start_time": "2022-05-04T11:08:00.069Z"
   },
   {
    "duration": 169,
    "start_time": "2022-05-04T11:08:00.080Z"
   },
   {
    "duration": 5,
    "start_time": "2022-05-04T11:08:00.251Z"
   },
   {
    "duration": 9,
    "start_time": "2022-05-04T11:08:00.258Z"
   },
   {
    "duration": 14,
    "start_time": "2022-05-04T11:08:00.269Z"
   },
   {
    "duration": 34,
    "start_time": "2022-05-04T11:08:00.285Z"
   },
   {
    "duration": 15,
    "start_time": "2022-05-04T11:08:00.320Z"
   },
   {
    "duration": 16,
    "start_time": "2022-05-04T11:08:00.337Z"
   },
   {
    "duration": 9,
    "start_time": "2022-05-04T11:08:00.355Z"
   },
   {
    "duration": 26,
    "start_time": "2022-05-04T11:08:00.366Z"
   },
   {
    "duration": 6,
    "start_time": "2022-05-04T11:08:00.393Z"
   },
   {
    "duration": 44,
    "start_time": "2022-05-04T11:08:00.401Z"
   },
   {
    "duration": 8,
    "start_time": "2022-05-04T11:08:00.447Z"
   },
   {
    "duration": 34,
    "start_time": "2022-05-04T11:08:00.456Z"
   },
   {
    "duration": 10,
    "start_time": "2022-05-04T11:08:00.492Z"
   },
   {
    "duration": 35,
    "start_time": "2022-05-04T11:08:00.504Z"
   },
   {
    "duration": 8,
    "start_time": "2022-05-04T11:08:00.541Z"
   },
   {
    "duration": 14,
    "start_time": "2022-05-04T11:08:00.555Z"
   },
   {
    "duration": 5,
    "start_time": "2022-05-04T11:08:00.571Z"
   },
   {
    "duration": 25,
    "start_time": "2022-05-04T11:08:00.578Z"
   },
   {
    "duration": 22,
    "start_time": "2022-05-04T11:08:00.633Z"
   },
   {
    "duration": 195,
    "start_time": "2022-05-04T11:08:00.657Z"
   },
   {
    "duration": 121,
    "start_time": "2022-05-04T11:08:00.854Z"
   },
   {
    "duration": 0,
    "start_time": "2022-05-04T11:08:00.977Z"
   },
   {
    "duration": 0,
    "start_time": "2022-05-04T11:08:00.978Z"
   },
   {
    "duration": 0,
    "start_time": "2022-05-04T11:08:00.980Z"
   },
   {
    "duration": 0,
    "start_time": "2022-05-04T11:08:00.982Z"
   },
   {
    "duration": 0,
    "start_time": "2022-05-04T11:08:00.982Z"
   },
   {
    "duration": 0,
    "start_time": "2022-05-04T11:08:00.984Z"
   },
   {
    "duration": 0,
    "start_time": "2022-05-04T11:08:00.985Z"
   },
   {
    "duration": 0,
    "start_time": "2022-05-04T11:08:00.985Z"
   },
   {
    "duration": 0,
    "start_time": "2022-05-04T11:08:00.986Z"
   },
   {
    "duration": 0,
    "start_time": "2022-05-04T11:08:00.987Z"
   },
   {
    "duration": 0,
    "start_time": "2022-05-04T11:08:00.988Z"
   },
   {
    "duration": 0,
    "start_time": "2022-05-04T11:08:00.989Z"
   },
   {
    "duration": 0,
    "start_time": "2022-05-04T11:08:00.990Z"
   },
   {
    "duration": 7,
    "start_time": "2022-05-04T11:08:53.938Z"
   },
   {
    "duration": 134,
    "start_time": "2022-05-04T12:08:44.035Z"
   },
   {
    "duration": 145,
    "start_time": "2022-05-04T12:09:09.189Z"
   },
   {
    "duration": 155,
    "start_time": "2022-05-04T12:09:50.933Z"
   },
   {
    "duration": 253,
    "start_time": "2022-05-04T13:42:15.485Z"
   },
   {
    "duration": 176,
    "start_time": "2022-05-04T13:53:09.008Z"
   },
   {
    "duration": 176,
    "start_time": "2022-05-04T13:56:33.605Z"
   },
   {
    "duration": 168,
    "start_time": "2022-05-04T13:56:52.318Z"
   },
   {
    "duration": 175,
    "start_time": "2022-05-04T14:02:39.171Z"
   },
   {
    "duration": 202,
    "start_time": "2022-05-04T14:10:18.847Z"
   },
   {
    "duration": 192,
    "start_time": "2022-05-04T14:12:05.554Z"
   },
   {
    "duration": 253,
    "start_time": "2022-05-04T15:08:38.596Z"
   },
   {
    "duration": 191,
    "start_time": "2022-05-04T15:09:34.477Z"
   },
   {
    "duration": 176,
    "start_time": "2022-05-04T15:10:17.295Z"
   },
   {
    "duration": 190,
    "start_time": "2022-05-04T15:10:39.257Z"
   },
   {
    "duration": 1215,
    "start_time": "2022-05-04T15:13:42.829Z"
   },
   {
    "duration": 90,
    "start_time": "2022-05-04T15:13:44.046Z"
   },
   {
    "duration": 10,
    "start_time": "2022-05-04T15:13:44.138Z"
   },
   {
    "duration": 95,
    "start_time": "2022-05-04T15:13:44.151Z"
   },
   {
    "duration": 27,
    "start_time": "2022-05-04T15:13:44.248Z"
   },
   {
    "duration": 15,
    "start_time": "2022-05-04T15:13:44.277Z"
   },
   {
    "duration": 16,
    "start_time": "2022-05-04T15:13:44.293Z"
   },
   {
    "duration": 30,
    "start_time": "2022-05-04T15:13:44.311Z"
   },
   {
    "duration": 31,
    "start_time": "2022-05-04T15:13:44.343Z"
   },
   {
    "duration": 9,
    "start_time": "2022-05-04T15:13:44.377Z"
   },
   {
    "duration": 15,
    "start_time": "2022-05-04T15:13:44.388Z"
   },
   {
    "duration": 29,
    "start_time": "2022-05-04T15:13:44.405Z"
   },
   {
    "duration": 11,
    "start_time": "2022-05-04T15:13:44.436Z"
   },
   {
    "duration": 17,
    "start_time": "2022-05-04T15:13:44.449Z"
   },
   {
    "duration": 33,
    "start_time": "2022-05-04T15:13:44.468Z"
   },
   {
    "duration": 13,
    "start_time": "2022-05-04T15:13:44.502Z"
   },
   {
    "duration": 33,
    "start_time": "2022-05-04T15:13:44.517Z"
   },
   {
    "duration": 238,
    "start_time": "2022-05-04T15:13:44.552Z"
   },
   {
    "duration": 12,
    "start_time": "2022-05-04T15:13:44.792Z"
   },
   {
    "duration": 17,
    "start_time": "2022-05-04T15:13:44.806Z"
   },
   {
    "duration": 19,
    "start_time": "2022-05-04T15:13:44.824Z"
   },
   {
    "duration": 24,
    "start_time": "2022-05-04T15:13:44.845Z"
   },
   {
    "duration": 17,
    "start_time": "2022-05-04T15:13:44.871Z"
   },
   {
    "duration": 10,
    "start_time": "2022-05-04T15:13:44.890Z"
   },
   {
    "duration": 12,
    "start_time": "2022-05-04T15:13:44.902Z"
   },
   {
    "duration": 24,
    "start_time": "2022-05-04T15:13:44.916Z"
   },
   {
    "duration": 8,
    "start_time": "2022-05-04T15:13:44.942Z"
   },
   {
    "duration": 9,
    "start_time": "2022-05-04T15:13:44.954Z"
   },
   {
    "duration": 16,
    "start_time": "2022-05-04T15:13:44.964Z"
   },
   {
    "duration": 12,
    "start_time": "2022-05-04T15:13:44.981Z"
   },
   {
    "duration": 40,
    "start_time": "2022-05-04T15:13:44.994Z"
   },
   {
    "duration": 11,
    "start_time": "2022-05-04T15:13:45.036Z"
   },
   {
    "duration": 11,
    "start_time": "2022-05-04T15:13:45.049Z"
   },
   {
    "duration": 36,
    "start_time": "2022-05-04T15:13:45.062Z"
   },
   {
    "duration": 34,
    "start_time": "2022-05-04T15:13:45.100Z"
   },
   {
    "duration": 15,
    "start_time": "2022-05-04T15:13:45.136Z"
   },
   {
    "duration": 12,
    "start_time": "2022-05-04T15:13:45.152Z"
   },
   {
    "duration": 13,
    "start_time": "2022-05-04T15:13:45.166Z"
   },
   {
    "duration": 8,
    "start_time": "2022-05-04T15:13:45.181Z"
   },
   {
    "duration": 51,
    "start_time": "2022-05-04T15:13:45.191Z"
   },
   {
    "duration": 10,
    "start_time": "2022-05-04T15:13:45.244Z"
   },
   {
    "duration": 13,
    "start_time": "2022-05-04T15:13:45.256Z"
   },
   {
    "duration": 9,
    "start_time": "2022-05-04T15:13:45.271Z"
   },
   {
    "duration": 10,
    "start_time": "2022-05-04T15:13:45.282Z"
   },
   {
    "duration": 44,
    "start_time": "2022-05-04T15:13:45.294Z"
   },
   {
    "duration": 12,
    "start_time": "2022-05-04T15:13:45.340Z"
   },
   {
    "duration": 10,
    "start_time": "2022-05-04T15:13:45.354Z"
   },
   {
    "duration": 12,
    "start_time": "2022-05-04T15:13:45.365Z"
   },
   {
    "duration": 54,
    "start_time": "2022-05-04T15:13:45.379Z"
   },
   {
    "duration": 33,
    "start_time": "2022-05-04T15:13:45.435Z"
   },
   {
    "duration": 316,
    "start_time": "2022-05-04T15:13:45.470Z"
   },
   {
    "duration": 25,
    "start_time": "2022-05-04T15:13:45.787Z"
   },
   {
    "duration": 22,
    "start_time": "2022-05-04T15:13:45.814Z"
   },
   {
    "duration": 259,
    "start_time": "2022-05-04T15:13:45.838Z"
   },
   {
    "duration": 10,
    "start_time": "2022-05-04T15:13:46.099Z"
   },
   {
    "duration": 246,
    "start_time": "2022-05-04T15:13:46.110Z"
   },
   {
    "duration": 256,
    "start_time": "2022-05-04T15:13:46.358Z"
   },
   {
    "duration": 18,
    "start_time": "2022-05-04T15:13:46.616Z"
   },
   {
    "duration": 167,
    "start_time": "2022-05-04T15:13:46.636Z"
   },
   {
    "duration": 10,
    "start_time": "2022-05-04T15:13:46.804Z"
   },
   {
    "duration": 324,
    "start_time": "2022-05-04T15:13:46.816Z"
   },
   {
    "duration": 9,
    "start_time": "2022-05-04T15:13:47.141Z"
   },
   {
    "duration": 154,
    "start_time": "2022-05-04T15:13:47.152Z"
   },
   {
    "duration": 4,
    "start_time": "2022-05-04T15:13:47.308Z"
   },
   {
    "duration": 24,
    "start_time": "2022-05-04T15:13:47.314Z"
   },
   {
    "duration": 14,
    "start_time": "2022-05-04T15:13:47.340Z"
   },
   {
    "duration": 172,
    "start_time": "2022-05-04T15:13:47.356Z"
   },
   {
    "duration": 6,
    "start_time": "2022-05-04T15:13:47.530Z"
   },
   {
    "duration": 205,
    "start_time": "2022-05-04T15:13:47.538Z"
   },
   {
    "duration": 6,
    "start_time": "2022-05-04T15:13:47.745Z"
   },
   {
    "duration": 205,
    "start_time": "2022-05-04T15:13:47.753Z"
   },
   {
    "duration": 6,
    "start_time": "2022-05-04T15:13:47.961Z"
   },
   {
    "duration": 189,
    "start_time": "2022-05-04T15:13:47.969Z"
   },
   {
    "duration": 7,
    "start_time": "2022-05-04T15:13:48.160Z"
   },
   {
    "duration": 207,
    "start_time": "2022-05-04T15:13:48.169Z"
   },
   {
    "duration": 7,
    "start_time": "2022-05-04T15:13:48.378Z"
   },
   {
    "duration": 200,
    "start_time": "2022-05-04T15:13:48.387Z"
   },
   {
    "duration": 6,
    "start_time": "2022-05-04T15:13:48.590Z"
   },
   {
    "duration": 200,
    "start_time": "2022-05-04T15:13:48.598Z"
   },
   {
    "duration": 6,
    "start_time": "2022-05-04T15:13:48.800Z"
   },
   {
    "duration": 37,
    "start_time": "2022-05-04T15:13:48.808Z"
   },
   {
    "duration": 22,
    "start_time": "2022-05-04T15:13:48.851Z"
   },
   {
    "duration": 185,
    "start_time": "2022-05-04T15:13:48.875Z"
   },
   {
    "duration": 116,
    "start_time": "2022-05-04T15:13:49.063Z"
   },
   {
    "duration": 0,
    "start_time": "2022-05-04T15:13:49.181Z"
   },
   {
    "duration": 0,
    "start_time": "2022-05-04T15:13:49.183Z"
   },
   {
    "duration": 0,
    "start_time": "2022-05-04T15:13:49.185Z"
   },
   {
    "duration": 0,
    "start_time": "2022-05-04T15:13:49.186Z"
   },
   {
    "duration": 0,
    "start_time": "2022-05-04T15:13:49.188Z"
   },
   {
    "duration": 0,
    "start_time": "2022-05-04T15:13:49.189Z"
   },
   {
    "duration": 0,
    "start_time": "2022-05-04T15:13:49.191Z"
   },
   {
    "duration": 0,
    "start_time": "2022-05-04T15:13:49.192Z"
   },
   {
    "duration": 0,
    "start_time": "2022-05-04T15:13:49.194Z"
   },
   {
    "duration": 0,
    "start_time": "2022-05-04T15:13:49.195Z"
   },
   {
    "duration": 0,
    "start_time": "2022-05-04T15:13:49.197Z"
   },
   {
    "duration": 0,
    "start_time": "2022-05-04T15:13:49.198Z"
   },
   {
    "duration": 0,
    "start_time": "2022-05-04T15:13:49.199Z"
   },
   {
    "duration": 19,
    "start_time": "2022-05-04T15:17:22.037Z"
   },
   {
    "duration": 6,
    "start_time": "2022-05-04T15:17:29.785Z"
   },
   {
    "duration": 274,
    "start_time": "2022-05-04T15:20:02.565Z"
   },
   {
    "duration": 40,
    "start_time": "2022-05-04T15:21:24.663Z"
   },
   {
    "duration": 9,
    "start_time": "2022-05-04T15:22:21.258Z"
   },
   {
    "duration": 4,
    "start_time": "2022-05-04T15:22:42.342Z"
   },
   {
    "duration": 4,
    "start_time": "2022-05-04T15:22:47.736Z"
   },
   {
    "duration": 171,
    "start_time": "2022-05-04T15:24:08.299Z"
   },
   {
    "duration": 1251,
    "start_time": "2022-05-04T15:24:24.400Z"
   },
   {
    "duration": 78,
    "start_time": "2022-05-04T15:24:25.653Z"
   },
   {
    "duration": 10,
    "start_time": "2022-05-04T15:24:25.733Z"
   },
   {
    "duration": 93,
    "start_time": "2022-05-04T15:24:25.745Z"
   },
   {
    "duration": 28,
    "start_time": "2022-05-04T15:24:25.840Z"
   },
   {
    "duration": 16,
    "start_time": "2022-05-04T15:24:25.870Z"
   },
   {
    "duration": 5,
    "start_time": "2022-05-04T15:24:25.888Z"
   },
   {
    "duration": 45,
    "start_time": "2022-05-04T15:24:25.894Z"
   },
   {
    "duration": 27,
    "start_time": "2022-05-04T15:24:25.941Z"
   },
   {
    "duration": 10,
    "start_time": "2022-05-04T15:24:25.970Z"
   },
   {
    "duration": 24,
    "start_time": "2022-05-04T15:24:25.982Z"
   },
   {
    "duration": 33,
    "start_time": "2022-05-04T15:24:26.008Z"
   },
   {
    "duration": 16,
    "start_time": "2022-05-04T15:24:26.044Z"
   },
   {
    "duration": 14,
    "start_time": "2022-05-04T15:24:26.065Z"
   },
   {
    "duration": 19,
    "start_time": "2022-05-04T15:24:26.082Z"
   },
   {
    "duration": 37,
    "start_time": "2022-05-04T15:24:26.103Z"
   },
   {
    "duration": 17,
    "start_time": "2022-05-04T15:24:26.142Z"
   },
   {
    "duration": 260,
    "start_time": "2022-05-04T15:24:26.161Z"
   },
   {
    "duration": 18,
    "start_time": "2022-05-04T15:24:26.423Z"
   },
   {
    "duration": 12,
    "start_time": "2022-05-04T15:24:26.443Z"
   },
   {
    "duration": 15,
    "start_time": "2022-05-04T15:24:26.456Z"
   },
   {
    "duration": 11,
    "start_time": "2022-05-04T15:24:26.473Z"
   },
   {
    "duration": 13,
    "start_time": "2022-05-04T15:24:26.486Z"
   },
   {
    "duration": 9,
    "start_time": "2022-05-04T15:24:26.534Z"
   },
   {
    "duration": 10,
    "start_time": "2022-05-04T15:24:26.545Z"
   },
   {
    "duration": 13,
    "start_time": "2022-05-04T15:24:26.557Z"
   },
   {
    "duration": 11,
    "start_time": "2022-05-04T15:24:26.572Z"
   },
   {
    "duration": 8,
    "start_time": "2022-05-04T15:24:26.584Z"
   },
   {
    "duration": 42,
    "start_time": "2022-05-04T15:24:26.593Z"
   },
   {
    "duration": 13,
    "start_time": "2022-05-04T15:24:26.637Z"
   },
   {
    "duration": 8,
    "start_time": "2022-05-04T15:24:26.652Z"
   },
   {
    "duration": 12,
    "start_time": "2022-05-04T15:24:26.662Z"
   },
   {
    "duration": 7,
    "start_time": "2022-05-04T15:24:26.675Z"
   },
   {
    "duration": 67,
    "start_time": "2022-05-04T15:24:26.683Z"
   },
   {
    "duration": 12,
    "start_time": "2022-05-04T15:24:26.752Z"
   },
   {
    "duration": 13,
    "start_time": "2022-05-04T15:24:26.766Z"
   },
   {
    "duration": 12,
    "start_time": "2022-05-04T15:24:26.781Z"
   },
   {
    "duration": 43,
    "start_time": "2022-05-04T15:24:26.794Z"
   },
   {
    "duration": 8,
    "start_time": "2022-05-04T15:24:26.839Z"
   },
   {
    "duration": 10,
    "start_time": "2022-05-04T15:24:26.849Z"
   },
   {
    "duration": 11,
    "start_time": "2022-05-04T15:24:26.865Z"
   },
   {
    "duration": 13,
    "start_time": "2022-05-04T15:24:26.877Z"
   },
   {
    "duration": 44,
    "start_time": "2022-05-04T15:24:26.891Z"
   },
   {
    "duration": 18,
    "start_time": "2022-05-04T15:24:26.937Z"
   },
   {
    "duration": 16,
    "start_time": "2022-05-04T15:24:26.957Z"
   },
   {
    "duration": 13,
    "start_time": "2022-05-04T15:24:26.975Z"
   },
   {
    "duration": 14,
    "start_time": "2022-05-04T15:24:26.990Z"
   },
   {
    "duration": 34,
    "start_time": "2022-05-04T15:24:27.006Z"
   },
   {
    "duration": 27,
    "start_time": "2022-05-04T15:24:27.042Z"
   },
   {
    "duration": 34,
    "start_time": "2022-05-04T15:24:27.071Z"
   },
   {
    "duration": 341,
    "start_time": "2022-05-04T15:24:27.107Z"
   },
   {
    "duration": 27,
    "start_time": "2022-05-04T15:24:27.449Z"
   },
   {
    "duration": 10,
    "start_time": "2022-05-04T15:24:27.478Z"
   },
   {
    "duration": 284,
    "start_time": "2022-05-04T15:24:27.489Z"
   },
   {
    "duration": 10,
    "start_time": "2022-05-04T15:24:27.775Z"
   },
   {
    "duration": 264,
    "start_time": "2022-05-04T15:24:27.788Z"
   },
   {
    "duration": 270,
    "start_time": "2022-05-04T15:24:28.054Z"
   },
   {
    "duration": 16,
    "start_time": "2022-05-04T15:24:28.326Z"
   },
   {
    "duration": 189,
    "start_time": "2022-05-04T15:24:28.344Z"
   },
   {
    "duration": 11,
    "start_time": "2022-05-04T15:24:28.535Z"
   },
   {
    "duration": 344,
    "start_time": "2022-05-04T15:24:28.548Z"
   },
   {
    "duration": 10,
    "start_time": "2022-05-04T15:24:28.894Z"
   },
   {
    "duration": 163,
    "start_time": "2022-05-04T15:24:28.906Z"
   },
   {
    "duration": 5,
    "start_time": "2022-05-04T15:24:29.072Z"
   },
   {
    "duration": 11,
    "start_time": "2022-05-04T15:24:29.079Z"
   },
   {
    "duration": 6,
    "start_time": "2022-05-04T15:24:29.092Z"
   },
   {
    "duration": 207,
    "start_time": "2022-05-04T15:24:29.100Z"
   },
   {
    "duration": 6,
    "start_time": "2022-05-04T15:24:29.309Z"
   },
   {
    "duration": 207,
    "start_time": "2022-05-04T15:24:29.317Z"
   },
   {
    "duration": 9,
    "start_time": "2022-05-04T15:24:29.525Z"
   },
   {
    "duration": 212,
    "start_time": "2022-05-04T15:24:29.536Z"
   },
   {
    "duration": 6,
    "start_time": "2022-05-04T15:24:29.751Z"
   },
   {
    "duration": 189,
    "start_time": "2022-05-04T15:24:29.758Z"
   },
   {
    "duration": 6,
    "start_time": "2022-05-04T15:24:29.949Z"
   },
   {
    "duration": 215,
    "start_time": "2022-05-04T15:24:29.957Z"
   },
   {
    "duration": 5,
    "start_time": "2022-05-04T15:24:30.174Z"
   },
   {
    "duration": 201,
    "start_time": "2022-05-04T15:24:30.181Z"
   },
   {
    "duration": 5,
    "start_time": "2022-05-04T15:24:30.383Z"
   },
   {
    "duration": 220,
    "start_time": "2022-05-04T15:24:30.390Z"
   },
   {
    "duration": 5,
    "start_time": "2022-05-04T15:24:30.612Z"
   },
   {
    "duration": 31,
    "start_time": "2022-05-04T15:24:30.618Z"
   },
   {
    "duration": 22,
    "start_time": "2022-05-04T15:24:30.651Z"
   },
   {
    "duration": 204,
    "start_time": "2022-05-04T15:24:30.674Z"
   },
   {
    "duration": 209,
    "start_time": "2022-05-04T15:24:30.880Z"
   },
   {
    "duration": 18,
    "start_time": "2022-05-04T15:24:31.090Z"
   },
   {
    "duration": 140,
    "start_time": "2022-05-04T15:24:31.109Z"
   },
   {
    "duration": 5,
    "start_time": "2022-05-04T15:24:31.251Z"
   },
   {
    "duration": 199,
    "start_time": "2022-05-04T15:24:31.258Z"
   },
   {
    "duration": 18,
    "start_time": "2022-05-04T15:24:31.459Z"
   },
   {
    "duration": 6,
    "start_time": "2022-05-04T15:24:31.478Z"
   },
   {
    "duration": 23,
    "start_time": "2022-05-04T15:24:31.486Z"
   },
   {
    "duration": 26,
    "start_time": "2022-05-04T15:24:31.511Z"
   },
   {
    "duration": 32,
    "start_time": "2022-05-04T15:24:31.539Z"
   },
   {
    "duration": 6,
    "start_time": "2022-05-04T15:24:31.573Z"
   },
   {
    "duration": 45,
    "start_time": "2022-05-04T15:24:31.581Z"
   },
   {
    "duration": 23,
    "start_time": "2022-05-04T15:24:31.628Z"
   },
   {
    "duration": 23,
    "start_time": "2022-05-04T15:24:31.652Z"
   },
   {
    "duration": 22,
    "start_time": "2022-05-04T15:24:31.677Z"
   },
   {
    "duration": 45,
    "start_time": "2022-05-04T15:24:31.701Z"
   },
   {
    "duration": 488,
    "start_time": "2022-05-04T15:26:11.688Z"
   },
   {
    "duration": 301,
    "start_time": "2022-05-04T15:26:37.229Z"
   },
   {
    "duration": 162,
    "start_time": "2022-05-04T15:29:03.111Z"
   },
   {
    "duration": 169,
    "start_time": "2022-05-04T15:29:45.713Z"
   },
   {
    "duration": 157,
    "start_time": "2022-05-04T15:30:06.826Z"
   },
   {
    "duration": 161,
    "start_time": "2022-05-04T15:30:23.743Z"
   },
   {
    "duration": 166,
    "start_time": "2022-05-04T15:32:25.677Z"
   },
   {
    "duration": 178,
    "start_time": "2022-05-04T15:33:09.346Z"
   },
   {
    "duration": 151,
    "start_time": "2022-05-04T15:33:32.888Z"
   },
   {
    "duration": 154,
    "start_time": "2022-05-04T15:33:41.726Z"
   },
   {
    "duration": 158,
    "start_time": "2022-05-04T15:33:53.169Z"
   },
   {
    "duration": 150,
    "start_time": "2022-05-04T15:34:38.098Z"
   },
   {
    "duration": 155,
    "start_time": "2022-05-04T15:35:39.287Z"
   },
   {
    "duration": 169,
    "start_time": "2022-05-04T15:36:12.339Z"
   },
   {
    "duration": 258,
    "start_time": "2022-05-04T15:36:36.084Z"
   },
   {
    "duration": 149,
    "start_time": "2022-05-04T15:36:59.468Z"
   },
   {
    "duration": 168,
    "start_time": "2022-05-04T15:37:49.956Z"
   },
   {
    "duration": 171,
    "start_time": "2022-05-04T15:39:56.722Z"
   },
   {
    "duration": 163,
    "start_time": "2022-05-04T15:40:08.763Z"
   },
   {
    "duration": 167,
    "start_time": "2022-05-04T15:44:16.473Z"
   }
  ],
  "kernelspec": {
   "display_name": "Python 3 (ipykernel)",
   "language": "python",
   "name": "python3"
  },
  "language_info": {
   "codemirror_mode": {
    "name": "ipython",
    "version": 3
   },
   "file_extension": ".py",
   "mimetype": "text/x-python",
   "name": "python",
   "nbconvert_exporter": "python",
   "pygments_lexer": "ipython3",
   "version": "3.9.5"
  },
  "toc": {
   "base_numbering": 1,
   "nav_menu": {},
   "number_sections": true,
   "sideBar": true,
   "skip_h1_title": true,
   "title_cell": "Содержание",
   "title_sidebar": "Contents",
   "toc_cell": true,
   "toc_position": {
    "height": "calc(100% - 180px)",
    "left": "10px",
    "top": "150px",
    "width": "173.6px"
   },
   "toc_section_display": true,
   "toc_window_display": false
  }
 },
 "nbformat": 4,
 "nbformat_minor": 4
}
