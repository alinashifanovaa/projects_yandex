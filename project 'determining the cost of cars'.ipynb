{
 "cells": [
  {
   "cell_type": "markdown",
   "metadata": {},
   "source": [
    "# Определение стоимости автомобилей"
   ]
  },
  {
   "cell_type": "markdown",
   "metadata": {},
   "source": [
    "Сервис по продаже автомобилей с пробегом «Не бит, не крашен» разрабатывает приложение для привлечения новых клиентов. В нём можно быстро узнать рыночную стоимость своего автомобиля. В нашем распоряжении исторические данные: технические характеристики, комплектации и цены автомобилей. \n",
    "**Целью данного проекта будет построить модель для определения стоимости автомобиля.**\n",
    "\n",
    "Заказчику важны:\n",
    "\n",
    "- качество предсказания;\n",
    "- скорость предсказания;\n",
    "- время обучения."
   ]
  },
  {
   "cell_type": "markdown",
   "metadata": {},
   "source": [
    "## Подготовка данных"
   ]
  },
  {
   "cell_type": "markdown",
   "metadata": {},
   "source": [
    "На первом этапе импортируем библиотеки, которые потребуются нам для работы, а также проведём первичный осмотр и анализ данных."
   ]
  },
  {
   "cell_type": "code",
   "execution_count": 1,
   "metadata": {},
   "outputs": [],
   "source": [
    "import pandas as pd\n",
    "import numpy as np\n",
    "\n",
    "from sklearn.model_selection import train_test_split\n",
    "\n",
    "from sklearn.preprocessing import OrdinalEncoder\n",
    "\n",
    "from sklearn.tree import DecisionTreeRegressor\n",
    "from sklearn.ensemble import RandomForestRegressor\n",
    "from catboost import CatBoostRegressor\n",
    "from lightgbm import LGBMRegressor\n",
    "\n",
    "from sklearn.metrics import mean_squared_error\n",
    "from sklearn.model_selection import cross_val_score\n",
    "from sklearn.model_selection import GridSearchCV\n",
    "\n",
    "import warnings\n",
    "warnings.filterwarnings('ignore')"
   ]
  },
  {
   "cell_type": "code",
   "execution_count": 2,
   "metadata": {},
   "outputs": [],
   "source": [
    "data = pd.read_csv('/datasets/autos.csv')"
   ]
  },
  {
   "cell_type": "code",
   "execution_count": 3,
   "metadata": {},
   "outputs": [
    {
     "data": {
      "text/html": [
       "<div>\n",
       "<style scoped>\n",
       "    .dataframe tbody tr th:only-of-type {\n",
       "        vertical-align: middle;\n",
       "    }\n",
       "\n",
       "    .dataframe tbody tr th {\n",
       "        vertical-align: top;\n",
       "    }\n",
       "\n",
       "    .dataframe thead th {\n",
       "        text-align: right;\n",
       "    }\n",
       "</style>\n",
       "<table border=\"1\" class=\"dataframe\">\n",
       "  <thead>\n",
       "    <tr style=\"text-align: right;\">\n",
       "      <th></th>\n",
       "      <th>DateCrawled</th>\n",
       "      <th>Price</th>\n",
       "      <th>VehicleType</th>\n",
       "      <th>RegistrationYear</th>\n",
       "      <th>Gearbox</th>\n",
       "      <th>Power</th>\n",
       "      <th>Model</th>\n",
       "      <th>Kilometer</th>\n",
       "      <th>RegistrationMonth</th>\n",
       "      <th>FuelType</th>\n",
       "      <th>Brand</th>\n",
       "      <th>Repaired</th>\n",
       "      <th>DateCreated</th>\n",
       "      <th>NumberOfPictures</th>\n",
       "      <th>PostalCode</th>\n",
       "      <th>LastSeen</th>\n",
       "    </tr>\n",
       "  </thead>\n",
       "  <tbody>\n",
       "    <tr>\n",
       "      <th>0</th>\n",
       "      <td>2016-03-24 11:52:17</td>\n",
       "      <td>480</td>\n",
       "      <td>NaN</td>\n",
       "      <td>1993</td>\n",
       "      <td>manual</td>\n",
       "      <td>0</td>\n",
       "      <td>golf</td>\n",
       "      <td>150000</td>\n",
       "      <td>0</td>\n",
       "      <td>petrol</td>\n",
       "      <td>volkswagen</td>\n",
       "      <td>NaN</td>\n",
       "      <td>2016-03-24 00:00:00</td>\n",
       "      <td>0</td>\n",
       "      <td>70435</td>\n",
       "      <td>2016-04-07 03:16:57</td>\n",
       "    </tr>\n",
       "    <tr>\n",
       "      <th>1</th>\n",
       "      <td>2016-03-24 10:58:45</td>\n",
       "      <td>18300</td>\n",
       "      <td>coupe</td>\n",
       "      <td>2011</td>\n",
       "      <td>manual</td>\n",
       "      <td>190</td>\n",
       "      <td>NaN</td>\n",
       "      <td>125000</td>\n",
       "      <td>5</td>\n",
       "      <td>gasoline</td>\n",
       "      <td>audi</td>\n",
       "      <td>yes</td>\n",
       "      <td>2016-03-24 00:00:00</td>\n",
       "      <td>0</td>\n",
       "      <td>66954</td>\n",
       "      <td>2016-04-07 01:46:50</td>\n",
       "    </tr>\n",
       "    <tr>\n",
       "      <th>2</th>\n",
       "      <td>2016-03-14 12:52:21</td>\n",
       "      <td>9800</td>\n",
       "      <td>suv</td>\n",
       "      <td>2004</td>\n",
       "      <td>auto</td>\n",
       "      <td>163</td>\n",
       "      <td>grand</td>\n",
       "      <td>125000</td>\n",
       "      <td>8</td>\n",
       "      <td>gasoline</td>\n",
       "      <td>jeep</td>\n",
       "      <td>NaN</td>\n",
       "      <td>2016-03-14 00:00:00</td>\n",
       "      <td>0</td>\n",
       "      <td>90480</td>\n",
       "      <td>2016-04-05 12:47:46</td>\n",
       "    </tr>\n",
       "    <tr>\n",
       "      <th>3</th>\n",
       "      <td>2016-03-17 16:54:04</td>\n",
       "      <td>1500</td>\n",
       "      <td>small</td>\n",
       "      <td>2001</td>\n",
       "      <td>manual</td>\n",
       "      <td>75</td>\n",
       "      <td>golf</td>\n",
       "      <td>150000</td>\n",
       "      <td>6</td>\n",
       "      <td>petrol</td>\n",
       "      <td>volkswagen</td>\n",
       "      <td>no</td>\n",
       "      <td>2016-03-17 00:00:00</td>\n",
       "      <td>0</td>\n",
       "      <td>91074</td>\n",
       "      <td>2016-03-17 17:40:17</td>\n",
       "    </tr>\n",
       "    <tr>\n",
       "      <th>4</th>\n",
       "      <td>2016-03-31 17:25:20</td>\n",
       "      <td>3600</td>\n",
       "      <td>small</td>\n",
       "      <td>2008</td>\n",
       "      <td>manual</td>\n",
       "      <td>69</td>\n",
       "      <td>fabia</td>\n",
       "      <td>90000</td>\n",
       "      <td>7</td>\n",
       "      <td>gasoline</td>\n",
       "      <td>skoda</td>\n",
       "      <td>no</td>\n",
       "      <td>2016-03-31 00:00:00</td>\n",
       "      <td>0</td>\n",
       "      <td>60437</td>\n",
       "      <td>2016-04-06 10:17:21</td>\n",
       "    </tr>\n",
       "    <tr>\n",
       "      <th>5</th>\n",
       "      <td>2016-04-04 17:36:23</td>\n",
       "      <td>650</td>\n",
       "      <td>sedan</td>\n",
       "      <td>1995</td>\n",
       "      <td>manual</td>\n",
       "      <td>102</td>\n",
       "      <td>3er</td>\n",
       "      <td>150000</td>\n",
       "      <td>10</td>\n",
       "      <td>petrol</td>\n",
       "      <td>bmw</td>\n",
       "      <td>yes</td>\n",
       "      <td>2016-04-04 00:00:00</td>\n",
       "      <td>0</td>\n",
       "      <td>33775</td>\n",
       "      <td>2016-04-06 19:17:07</td>\n",
       "    </tr>\n",
       "    <tr>\n",
       "      <th>6</th>\n",
       "      <td>2016-04-01 20:48:51</td>\n",
       "      <td>2200</td>\n",
       "      <td>convertible</td>\n",
       "      <td>2004</td>\n",
       "      <td>manual</td>\n",
       "      <td>109</td>\n",
       "      <td>2_reihe</td>\n",
       "      <td>150000</td>\n",
       "      <td>8</td>\n",
       "      <td>petrol</td>\n",
       "      <td>peugeot</td>\n",
       "      <td>no</td>\n",
       "      <td>2016-04-01 00:00:00</td>\n",
       "      <td>0</td>\n",
       "      <td>67112</td>\n",
       "      <td>2016-04-05 18:18:39</td>\n",
       "    </tr>\n",
       "    <tr>\n",
       "      <th>7</th>\n",
       "      <td>2016-03-21 18:54:38</td>\n",
       "      <td>0</td>\n",
       "      <td>sedan</td>\n",
       "      <td>1980</td>\n",
       "      <td>manual</td>\n",
       "      <td>50</td>\n",
       "      <td>other</td>\n",
       "      <td>40000</td>\n",
       "      <td>7</td>\n",
       "      <td>petrol</td>\n",
       "      <td>volkswagen</td>\n",
       "      <td>no</td>\n",
       "      <td>2016-03-21 00:00:00</td>\n",
       "      <td>0</td>\n",
       "      <td>19348</td>\n",
       "      <td>2016-03-25 16:47:58</td>\n",
       "    </tr>\n",
       "    <tr>\n",
       "      <th>8</th>\n",
       "      <td>2016-04-04 23:42:13</td>\n",
       "      <td>14500</td>\n",
       "      <td>bus</td>\n",
       "      <td>2014</td>\n",
       "      <td>manual</td>\n",
       "      <td>125</td>\n",
       "      <td>c_max</td>\n",
       "      <td>30000</td>\n",
       "      <td>8</td>\n",
       "      <td>petrol</td>\n",
       "      <td>ford</td>\n",
       "      <td>NaN</td>\n",
       "      <td>2016-04-04 00:00:00</td>\n",
       "      <td>0</td>\n",
       "      <td>94505</td>\n",
       "      <td>2016-04-04 23:42:13</td>\n",
       "    </tr>\n",
       "    <tr>\n",
       "      <th>9</th>\n",
       "      <td>2016-03-17 10:53:50</td>\n",
       "      <td>999</td>\n",
       "      <td>small</td>\n",
       "      <td>1998</td>\n",
       "      <td>manual</td>\n",
       "      <td>101</td>\n",
       "      <td>golf</td>\n",
       "      <td>150000</td>\n",
       "      <td>0</td>\n",
       "      <td>NaN</td>\n",
       "      <td>volkswagen</td>\n",
       "      <td>NaN</td>\n",
       "      <td>2016-03-17 00:00:00</td>\n",
       "      <td>0</td>\n",
       "      <td>27472</td>\n",
       "      <td>2016-03-31 17:17:06</td>\n",
       "    </tr>\n",
       "  </tbody>\n",
       "</table>\n",
       "</div>"
      ],
      "text/plain": [
       "           DateCrawled  Price  VehicleType  RegistrationYear Gearbox  Power  \\\n",
       "0  2016-03-24 11:52:17    480          NaN              1993  manual      0   \n",
       "1  2016-03-24 10:58:45  18300        coupe              2011  manual    190   \n",
       "2  2016-03-14 12:52:21   9800          suv              2004    auto    163   \n",
       "3  2016-03-17 16:54:04   1500        small              2001  manual     75   \n",
       "4  2016-03-31 17:25:20   3600        small              2008  manual     69   \n",
       "5  2016-04-04 17:36:23    650        sedan              1995  manual    102   \n",
       "6  2016-04-01 20:48:51   2200  convertible              2004  manual    109   \n",
       "7  2016-03-21 18:54:38      0        sedan              1980  manual     50   \n",
       "8  2016-04-04 23:42:13  14500          bus              2014  manual    125   \n",
       "9  2016-03-17 10:53:50    999        small              1998  manual    101   \n",
       "\n",
       "     Model  Kilometer  RegistrationMonth  FuelType       Brand Repaired  \\\n",
       "0     golf     150000                  0    petrol  volkswagen      NaN   \n",
       "1      NaN     125000                  5  gasoline        audi      yes   \n",
       "2    grand     125000                  8  gasoline        jeep      NaN   \n",
       "3     golf     150000                  6    petrol  volkswagen       no   \n",
       "4    fabia      90000                  7  gasoline       skoda       no   \n",
       "5      3er     150000                 10    petrol         bmw      yes   \n",
       "6  2_reihe     150000                  8    petrol     peugeot       no   \n",
       "7    other      40000                  7    petrol  volkswagen       no   \n",
       "8    c_max      30000                  8    petrol        ford      NaN   \n",
       "9     golf     150000                  0       NaN  volkswagen      NaN   \n",
       "\n",
       "           DateCreated  NumberOfPictures  PostalCode             LastSeen  \n",
       "0  2016-03-24 00:00:00                 0       70435  2016-04-07 03:16:57  \n",
       "1  2016-03-24 00:00:00                 0       66954  2016-04-07 01:46:50  \n",
       "2  2016-03-14 00:00:00                 0       90480  2016-04-05 12:47:46  \n",
       "3  2016-03-17 00:00:00                 0       91074  2016-03-17 17:40:17  \n",
       "4  2016-03-31 00:00:00                 0       60437  2016-04-06 10:17:21  \n",
       "5  2016-04-04 00:00:00                 0       33775  2016-04-06 19:17:07  \n",
       "6  2016-04-01 00:00:00                 0       67112  2016-04-05 18:18:39  \n",
       "7  2016-03-21 00:00:00                 0       19348  2016-03-25 16:47:58  \n",
       "8  2016-04-04 00:00:00                 0       94505  2016-04-04 23:42:13  \n",
       "9  2016-03-17 00:00:00                 0       27472  2016-03-31 17:17:06  "
      ]
     },
     "metadata": {},
     "output_type": "display_data"
    }
   ],
   "source": [
    "display(data.head(10))"
   ]
  },
  {
   "cell_type": "code",
   "execution_count": 4,
   "metadata": {},
   "outputs": [
    {
     "name": "stdout",
     "output_type": "stream",
     "text": [
      "<class 'pandas.core.frame.DataFrame'>\n",
      "RangeIndex: 354369 entries, 0 to 354368\n",
      "Data columns (total 16 columns):\n",
      " #   Column             Non-Null Count   Dtype \n",
      "---  ------             --------------   ----- \n",
      " 0   DateCrawled        354369 non-null  object\n",
      " 1   Price              354369 non-null  int64 \n",
      " 2   VehicleType        316879 non-null  object\n",
      " 3   RegistrationYear   354369 non-null  int64 \n",
      " 4   Gearbox            334536 non-null  object\n",
      " 5   Power              354369 non-null  int64 \n",
      " 6   Model              334664 non-null  object\n",
      " 7   Kilometer          354369 non-null  int64 \n",
      " 8   RegistrationMonth  354369 non-null  int64 \n",
      " 9   FuelType           321474 non-null  object\n",
      " 10  Brand              354369 non-null  object\n",
      " 11  Repaired           283215 non-null  object\n",
      " 12  DateCreated        354369 non-null  object\n",
      " 13  NumberOfPictures   354369 non-null  int64 \n",
      " 14  PostalCode         354369 non-null  int64 \n",
      " 15  LastSeen           354369 non-null  object\n",
      "dtypes: int64(7), object(9)\n",
      "memory usage: 43.3+ MB\n"
     ]
    }
   ],
   "source": [
    "data.info()"
   ]
  },
  {
   "cell_type": "markdown",
   "metadata": {},
   "source": [
    "**Наши признаки:**\n",
    "\n",
    "- DateCrawled — дата скачивания анкеты из базы\n",
    "- VehicleType — тип автомобильного кузова\n",
    "- RegistrationYear — год регистрации автомобиля\n",
    "- Gearbox — тип коробки передач\n",
    "- Power — мощность (л. с.)\n",
    "- Model — модель автомобиля\n",
    "- Kilometer — пробег (км)\n",
    "- RegistrationMonth — месяц регистрации автомобиля\n",
    "- FuelType — тип топлива\n",
    "- Brand — марка автомобиля\n",
    "- Repaired — была машина в ремонте или нет\n",
    "- DateCreated — дата создания анкеты\n",
    "- NumberOfPictures — количество фотографий автомобиля\n",
    "- PostalCode — почтовый индекс владельца анкеты (пользователя)\n",
    "- LastSeen — дата последней активности пользователя\n",
    "\n",
    "**Целевой признак:** \n",
    "\n",
    "- Price — цена (евро)\n",
    "\n",
    "Мы видим, что в данных присутствуют пропуски. Поочерёдно более детально исследуем каждый столбец, разбираясь поэтапно с пропусками и аномалиями в данных. Приведём данные к нужным типам (где потребуется). Переименуем столбцы для удобства работы с ними."
   ]
  },
  {
   "cell_type": "code",
   "execution_count": 5,
   "metadata": {},
   "outputs": [],
   "source": [
    "data = data.rename(columns={'DateCrawled':'date_crawled', 'VehicleType':'vehicle_type', \n",
    "                            'RegistrationYear':'registration_year', 'Gearbox':'gearbox', 'Power':'power', 'Model':'model', \n",
    "                            'Kilometer':'kilometer', 'RegistrationMonth':'registration_month', 'FuelType':'fuel_type', \n",
    "                            'Brand':'brand', 'Repaired':'repaired', 'DateCreated':'date_created', \n",
    "                            'NumberOfPictures':'number_of_pictures', 'PostalCode':'postal_code', 'LastSeen':'last_seen', \n",
    "                            'Price':'price'})"
   ]
  },
  {
   "cell_type": "markdown",
   "metadata": {},
   "source": [
    "Не все столбцы понадобятся нам для работы, оставим только те, которые непосредственно влияют на стоимость автомобиля, затем приступим к предобработке данных."
   ]
  },
  {
   "cell_type": "code",
   "execution_count": 6,
   "metadata": {},
   "outputs": [
    {
     "name": "stdout",
     "output_type": "stream",
     "text": [
      "<class 'pandas.core.frame.DataFrame'>\n",
      "RangeIndex: 354369 entries, 0 to 354368\n",
      "Data columns (total 10 columns):\n",
      " #   Column             Non-Null Count   Dtype \n",
      "---  ------             --------------   ----- \n",
      " 0   price              354369 non-null  int64 \n",
      " 1   vehicle_type       316879 non-null  object\n",
      " 2   registration_year  354369 non-null  int64 \n",
      " 3   gearbox            334536 non-null  object\n",
      " 4   power              354369 non-null  int64 \n",
      " 5   model              334664 non-null  object\n",
      " 6   kilometer          354369 non-null  int64 \n",
      " 7   fuel_type          321474 non-null  object\n",
      " 8   brand              354369 non-null  object\n",
      " 9   repaired           283215 non-null  object\n",
      "dtypes: int64(4), object(6)\n",
      "memory usage: 27.0+ MB\n"
     ]
    }
   ],
   "source": [
    "data = data.drop(['date_crawled', 'date_created', 'registration_month', 'number_of_pictures', 'postal_code', 'last_seen'], axis=1)\n",
    "data.info()"
   ]
  },
  {
   "cell_type": "code",
   "execution_count": 7,
   "metadata": {},
   "outputs": [
    {
     "data": {
      "text/plain": [
       "array([1993, 2011, 2004, 2001, 2008, 1995, 1980, 2014, 1998, 2005, 1910,\n",
       "       2016, 2007, 2009, 2002, 2018, 1997, 1990, 2017, 1981, 2003, 1994,\n",
       "       1991, 1984, 2006, 1999, 2012, 2010, 2000, 1992, 2013, 1996, 1985,\n",
       "       1989, 2015, 1982, 1976, 1983, 1973, 1111, 1969, 1971, 1987, 1986,\n",
       "       1988, 1970, 1965, 1945, 1925, 1974, 1979, 1955, 1978, 1972, 1968,\n",
       "       1977, 1961, 1960, 1966, 1975, 1963, 1964, 5000, 1954, 1958, 1967,\n",
       "       1959, 9999, 1956, 3200, 1000, 1941, 8888, 1500, 2200, 4100, 1962,\n",
       "       1929, 1957, 1940, 3000, 2066, 1949, 2019, 1937, 1951, 1800, 1953,\n",
       "       1234, 8000, 5300, 9000, 2900, 6000, 5900, 5911, 1933, 1400, 1950,\n",
       "       4000, 1948, 1952, 1200, 8500, 1932, 1255, 3700, 3800, 4800, 1942,\n",
       "       7000, 1935, 1936, 6500, 1923, 2290, 2500, 1930, 1001, 9450, 1944,\n",
       "       1943, 1934, 1938, 1688, 2800, 1253, 1928, 1919, 5555, 5600, 1600,\n",
       "       2222, 1039, 9996, 1300, 8455, 1931, 1915, 4500, 1920, 1602, 7800,\n",
       "       9229, 1947, 1927, 7100, 8200, 1946, 7500, 3500])"
      ]
     },
     "execution_count": 7,
     "metadata": {},
     "output_type": "execute_result"
    }
   ],
   "source": [
    "data['registration_year'].unique()"
   ]
  },
  {
   "cell_type": "markdown",
   "metadata": {},
   "source": [
    "Можно заметить аномальные значения в этом столбце. Установим границу для даты регистрации автомобиля. \n",
    "\n",
    "Нижней границей поставим 1930 год и посмотрим с помощью графика на выбросы."
   ]
  },
  {
   "cell_type": "code",
   "execution_count": 8,
   "metadata": {},
   "outputs": [
    {
     "data": {
      "text/plain": [
       "<AxesSubplot:>"
      ]
     },
     "execution_count": 8,
     "metadata": {},
     "output_type": "execute_result"
    },
    {
     "data": {
      "image/png": "[encoded data removed]",
      "text/plain": [
       "<Figure size 864x648 with 1 Axes>"
      ]
     },
     "metadata": {
      "needs_background": "light"
     },
     "output_type": "display_data"
    }
   ],
   "source": [
    "data = data.query('1930 <= registration_year <= 2016') \n",
    "data['registration_year'].hist(bins=100, figsize=(12,9))"
   ]
  },
  {
   "cell_type": "markdown",
   "metadata": {},
   "source": [
    "Нижней границей даты регистрации автомобиля оставим 1970 год."
   ]
  },
  {
   "cell_type": "code",
   "execution_count": 9,
   "metadata": {},
   "outputs": [],
   "source": [
    "data = data.query('1970 <= registration_year <= 2016') "
   ]
  },
  {
   "cell_type": "code",
   "execution_count": 10,
   "metadata": {},
   "outputs": [
    {
     "data": {
      "text/html": [
       "<div>\n",
       "<style scoped>\n",
       "    .dataframe tbody tr th:only-of-type {\n",
       "        vertical-align: middle;\n",
       "    }\n",
       "\n",
       "    .dataframe tbody tr th {\n",
       "        vertical-align: top;\n",
       "    }\n",
       "\n",
       "    .dataframe thead th {\n",
       "        text-align: right;\n",
       "    }\n",
       "</style>\n",
       "<table border=\"1\" class=\"dataframe\">\n",
       "  <thead>\n",
       "    <tr style=\"text-align: right;\">\n",
       "      <th></th>\n",
       "      <th>price</th>\n",
       "    </tr>\n",
       "  </thead>\n",
       "  <tbody>\n",
       "    <tr>\n",
       "      <th>0</th>\n",
       "      <td>9858</td>\n",
       "    </tr>\n",
       "    <tr>\n",
       "      <th>1</th>\n",
       "      <td>1093</td>\n",
       "    </tr>\n",
       "    <tr>\n",
       "      <th>2</th>\n",
       "      <td>10</td>\n",
       "    </tr>\n",
       "    <tr>\n",
       "      <th>3</th>\n",
       "      <td>7</td>\n",
       "    </tr>\n",
       "    <tr>\n",
       "      <th>4</th>\n",
       "      <td>1</td>\n",
       "    </tr>\n",
       "    <tr>\n",
       "      <th>...</th>\n",
       "      <td>...</td>\n",
       "    </tr>\n",
       "    <tr>\n",
       "      <th>19995</th>\n",
       "      <td>10</td>\n",
       "    </tr>\n",
       "    <tr>\n",
       "      <th>19997</th>\n",
       "      <td>1</td>\n",
       "    </tr>\n",
       "    <tr>\n",
       "      <th>19998</th>\n",
       "      <td>6</td>\n",
       "    </tr>\n",
       "    <tr>\n",
       "      <th>19999</th>\n",
       "      <td>272</td>\n",
       "    </tr>\n",
       "    <tr>\n",
       "      <th>20000</th>\n",
       "      <td>255</td>\n",
       "    </tr>\n",
       "  </tbody>\n",
       "</table>\n",
       "<p>3690 rows × 1 columns</p>\n",
       "</div>"
      ],
      "text/plain": [
       "       price\n",
       "0       9858\n",
       "1       1093\n",
       "2         10\n",
       "3          7\n",
       "4          1\n",
       "...      ...\n",
       "19995     10\n",
       "19997      1\n",
       "19998      6\n",
       "19999    272\n",
       "20000    255\n",
       "\n",
       "[3690 rows x 1 columns]"
      ]
     },
     "execution_count": 10,
     "metadata": {},
     "output_type": "execute_result"
    }
   ],
   "source": [
    "data['price'].value_counts(dropna=False).sort_index(ascending=True).to_frame()"
   ]
  },
  {
   "cell_type": "markdown",
   "metadata": {},
   "source": [
    "Мы можем видеть аномальные значения в столбце с целевым признаком. Цену меньше 500 евро за автомобиль будем считать ошибкой в данных. Удалим эти значения, так как в ином случае они могут некорректно повлиять на работу моделей. "
   ]
  },
  {
   "cell_type": "code",
   "execution_count": 11,
   "metadata": {},
   "outputs": [
    {
     "data": {
      "text/plain": [
       "array([18300,  9800,  1500, ..., 12395, 18429, 10985])"
      ]
     },
     "execution_count": 11,
     "metadata": {},
     "output_type": "execute_result"
    }
   ],
   "source": [
    "data = data.query('price >= 500')\n",
    "data['price'].unique()"
   ]
  },
  {
   "cell_type": "code",
   "execution_count": 12,
   "metadata": {},
   "outputs": [
    {
     "data": {
      "text/html": [
       "<div>\n",
       "<style scoped>\n",
       "    .dataframe tbody tr th:only-of-type {\n",
       "        vertical-align: middle;\n",
       "    }\n",
       "\n",
       "    .dataframe tbody tr th {\n",
       "        vertical-align: top;\n",
       "    }\n",
       "\n",
       "    .dataframe thead th {\n",
       "        text-align: right;\n",
       "    }\n",
       "</style>\n",
       "<table border=\"1\" class=\"dataframe\">\n",
       "  <thead>\n",
       "    <tr style=\"text-align: right;\">\n",
       "      <th></th>\n",
       "      <th>vehicle_type</th>\n",
       "    </tr>\n",
       "  </thead>\n",
       "  <tbody>\n",
       "    <tr>\n",
       "      <th>bus</th>\n",
       "      <td>27809</td>\n",
       "    </tr>\n",
       "    <tr>\n",
       "      <th>convertible</th>\n",
       "      <td>19444</td>\n",
       "    </tr>\n",
       "    <tr>\n",
       "      <th>coupe</th>\n",
       "      <td>14674</td>\n",
       "    </tr>\n",
       "    <tr>\n",
       "      <th>other</th>\n",
       "      <td>2709</td>\n",
       "    </tr>\n",
       "    <tr>\n",
       "      <th>sedan</th>\n",
       "      <td>85070</td>\n",
       "    </tr>\n",
       "    <tr>\n",
       "      <th>small</th>\n",
       "      <td>68195</td>\n",
       "    </tr>\n",
       "    <tr>\n",
       "      <th>suv</th>\n",
       "      <td>11639</td>\n",
       "    </tr>\n",
       "    <tr>\n",
       "      <th>wagon</th>\n",
       "      <td>60703</td>\n",
       "    </tr>\n",
       "    <tr>\n",
       "      <th>NaN</th>\n",
       "      <td>13981</td>\n",
       "    </tr>\n",
       "  </tbody>\n",
       "</table>\n",
       "</div>"
      ],
      "text/plain": [
       "             vehicle_type\n",
       "bus                 27809\n",
       "convertible         19444\n",
       "coupe               14674\n",
       "other                2709\n",
       "sedan               85070\n",
       "small               68195\n",
       "suv                 11639\n",
       "wagon               60703\n",
       "NaN                 13981"
      ]
     },
     "execution_count": 12,
     "metadata": {},
     "output_type": "execute_result"
    }
   ],
   "source": [
    "data['vehicle_type'].value_counts(dropna=False).sort_index(ascending=True).to_frame()"
   ]
  },
  {
   "cell_type": "markdown",
   "metadata": {},
   "source": [
    "Заполним пропуски наиболее популярным типом кузова - это седан."
   ]
  },
  {
   "cell_type": "code",
   "execution_count": 13,
   "metadata": {},
   "outputs": [
    {
     "data": {
      "text/html": [
       "<div>\n",
       "<style scoped>\n",
       "    .dataframe tbody tr th:only-of-type {\n",
       "        vertical-align: middle;\n",
       "    }\n",
       "\n",
       "    .dataframe tbody tr th {\n",
       "        vertical-align: top;\n",
       "    }\n",
       "\n",
       "    .dataframe thead th {\n",
       "        text-align: right;\n",
       "    }\n",
       "</style>\n",
       "<table border=\"1\" class=\"dataframe\">\n",
       "  <thead>\n",
       "    <tr style=\"text-align: right;\">\n",
       "      <th></th>\n",
       "      <th>vehicle_type</th>\n",
       "    </tr>\n",
       "  </thead>\n",
       "  <tbody>\n",
       "    <tr>\n",
       "      <th>bus</th>\n",
       "      <td>27809</td>\n",
       "    </tr>\n",
       "    <tr>\n",
       "      <th>convertible</th>\n",
       "      <td>19444</td>\n",
       "    </tr>\n",
       "    <tr>\n",
       "      <th>coupe</th>\n",
       "      <td>14674</td>\n",
       "    </tr>\n",
       "    <tr>\n",
       "      <th>other</th>\n",
       "      <td>2709</td>\n",
       "    </tr>\n",
       "    <tr>\n",
       "      <th>sedan</th>\n",
       "      <td>99051</td>\n",
       "    </tr>\n",
       "    <tr>\n",
       "      <th>small</th>\n",
       "      <td>68195</td>\n",
       "    </tr>\n",
       "    <tr>\n",
       "      <th>suv</th>\n",
       "      <td>11639</td>\n",
       "    </tr>\n",
       "    <tr>\n",
       "      <th>wagon</th>\n",
       "      <td>60703</td>\n",
       "    </tr>\n",
       "  </tbody>\n",
       "</table>\n",
       "</div>"
      ],
      "text/plain": [
       "             vehicle_type\n",
       "bus                 27809\n",
       "convertible         19444\n",
       "coupe               14674\n",
       "other                2709\n",
       "sedan               99051\n",
       "small               68195\n",
       "suv                 11639\n",
       "wagon               60703"
      ]
     },
     "execution_count": 13,
     "metadata": {},
     "output_type": "execute_result"
    }
   ],
   "source": [
    "data.fillna({'vehicle_type':'sedan'}, inplace=True)\n",
    "data['vehicle_type'].value_counts(dropna=False).sort_index(ascending=True).to_frame()"
   ]
  },
  {
   "cell_type": "code",
   "execution_count": 14,
   "metadata": {},
   "outputs": [
    {
     "data": {
      "text/html": [
       "<div>\n",
       "<style scoped>\n",
       "    .dataframe tbody tr th:only-of-type {\n",
       "        vertical-align: middle;\n",
       "    }\n",
       "\n",
       "    .dataframe tbody tr th {\n",
       "        vertical-align: top;\n",
       "    }\n",
       "\n",
       "    .dataframe thead th {\n",
       "        text-align: right;\n",
       "    }\n",
       "</style>\n",
       "<table border=\"1\" class=\"dataframe\">\n",
       "  <thead>\n",
       "    <tr style=\"text-align: right;\">\n",
       "      <th></th>\n",
       "      <th>gearbox</th>\n",
       "    </tr>\n",
       "  </thead>\n",
       "  <tbody>\n",
       "    <tr>\n",
       "      <th>auto</th>\n",
       "      <td>61404</td>\n",
       "    </tr>\n",
       "    <tr>\n",
       "      <th>manual</th>\n",
       "      <td>231206</td>\n",
       "    </tr>\n",
       "    <tr>\n",
       "      <th>NaN</th>\n",
       "      <td>11614</td>\n",
       "    </tr>\n",
       "  </tbody>\n",
       "</table>\n",
       "</div>"
      ],
      "text/plain": [
       "        gearbox\n",
       "auto      61404\n",
       "manual   231206\n",
       "NaN       11614"
      ]
     },
     "execution_count": 14,
     "metadata": {},
     "output_type": "execute_result"
    }
   ],
   "source": [
    "data['gearbox'].value_counts(dropna=False).sort_index(ascending=True).to_frame()"
   ]
  },
  {
   "cell_type": "markdown",
   "metadata": {},
   "source": [
    "Добавим пропущенные значения механическую коробку передач, так как это наиболее популярное значение."
   ]
  },
  {
   "cell_type": "code",
   "execution_count": 15,
   "metadata": {},
   "outputs": [
    {
     "data": {
      "text/html": [
       "<div>\n",
       "<style scoped>\n",
       "    .dataframe tbody tr th:only-of-type {\n",
       "        vertical-align: middle;\n",
       "    }\n",
       "\n",
       "    .dataframe tbody tr th {\n",
       "        vertical-align: top;\n",
       "    }\n",
       "\n",
       "    .dataframe thead th {\n",
       "        text-align: right;\n",
       "    }\n",
       "</style>\n",
       "<table border=\"1\" class=\"dataframe\">\n",
       "  <thead>\n",
       "    <tr style=\"text-align: right;\">\n",
       "      <th></th>\n",
       "      <th>gearbox</th>\n",
       "    </tr>\n",
       "  </thead>\n",
       "  <tbody>\n",
       "    <tr>\n",
       "      <th>auto</th>\n",
       "      <td>61404</td>\n",
       "    </tr>\n",
       "    <tr>\n",
       "      <th>manual</th>\n",
       "      <td>242820</td>\n",
       "    </tr>\n",
       "  </tbody>\n",
       "</table>\n",
       "</div>"
      ],
      "text/plain": [
       "        gearbox\n",
       "auto      61404\n",
       "manual   242820"
      ]
     },
     "execution_count": 15,
     "metadata": {},
     "output_type": "execute_result"
    }
   ],
   "source": [
    "data.fillna({'gearbox':'manual'}, inplace=True)\n",
    "data['gearbox'].value_counts(dropna=False).sort_index(ascending=True).to_frame()"
   ]
  },
  {
   "cell_type": "code",
   "execution_count": 16,
   "metadata": {},
   "outputs": [
    {
     "data": {
      "text/plain": [
       "array([  190,   163,    75,    69,   102,   109,   125,   101,   105,\n",
       "         140,   115,   131,   136,   160,   231,   118,   193,    99,\n",
       "          50,    60,   113,   218,   122,     0,   129,    70,   306,\n",
       "          95,    61,   177,   170,    55,   143,   232,   150,   156,\n",
       "          80,    82,    90,   185,    87,   180,    86,    84,   224,\n",
       "         235,   200,   178,   265,    77,   110,   120,    54,   286,\n",
       "         116,   184,   126,   204,    88,   194,    64,   305,   197,\n",
       "         179,   250,    45,   313,    41,   165,    98,   130,   114,\n",
       "         211,    56,   201,   213,   107,    83,   174,   100,   220,\n",
       "          73,   192,    68,    66,   299,    74,    58,    52,   147,\n",
       "         310,    71,    97,    65,   239,   203,     5,   144,   300,\n",
       "         103,    85,   258,   320,    63,    81,   148,    44,   145,\n",
       "         280,   260,   104,   188,   333,   186,   117,   141,   132,\n",
       "         155,   234,   158,    39,    92,    51,   135,    59,   230,\n",
       "         209,    43,   146,    67,   106,   166,   276,   344,    72,\n",
       "         249,   237,   245,   111,   326,   279,    23,   138,   175,\n",
       "          96,   226,    26,    37,   301,   334,   128,   133,   124,\n",
       "          33,   219,   241,   167,    94,   182,   196,   238,  1398,\n",
       "         228,   112,    48,   272,   139,    79,   256,   243,   252,\n",
       "         396,   340,   121,   345,   187,   289,   222,   198,   284,\n",
       "         450,   233,   387,   347,   172,    57,   137,   212,   476,\n",
       "         314,     7,    47,   173,   290,   207,   205,   171,    78,\n",
       "          91,    89,   349,   108,   325,    76,   350,   953,    93,\n",
       "         142,   343,   199,   164,    16,   264,   367,   240,   208,\n",
       "         210,    46,   435,  1001,   225,   127,   176,   161,    40,\n",
       "         603,   152,   307,   354,    35,   206,   771,   355,   273,\n",
       "         223,   255,   151,    30,   123,   154,   149,  7515,  1400,\n",
       "         268,   620,   400,   275,    34,     2,   242,  1779,   285,\n",
       "         162,   328,  1753,   329,   134,   420,   247,   168,   215,\n",
       "         360,    18,   330,   283,   500,   183,   254,    15,   321,\n",
       "         315,   952,   169,   600,   181,   119,   426,   379,    22,\n",
       "         157,    42,   195,    53,     4,   309,   507,   381,   271,\n",
       "         440,   189,   401,  2729,   236,  1240,  1704,   521,     1,\n",
       "        1900,   270,    24,   159,   292,    62,   303,    29,    38,\n",
       "        1993,   216,   504,    49,   267,   331,   261,  1011,   253,\n",
       "         696, 10520,   376,   227,   311,    27,   217,    20,   322,\n",
       "          10,    11,  1056,    25,   394,    12,   298,   296,   515,\n",
       "        1659,   294,  6920,   246,    17,   363,   390,   221,  1367,\n",
       "         259,  1597,   266,   374,   392,     9,   405,    13,    14,\n",
       "         262,   430,   295,     8,   411,   900,  7512,   382, 10218,\n",
       "        7544,   287,    19,   214,   751,   297,  1090,   457,   282,\n",
       "         602,   388,   385,     6,  5411,   335,  1360,   202,   805,\n",
       "        1062,  2017,  1024, 11530,   364,  1796,   269,   460,   288,\n",
       "        1780, 12012, 17932,   316,  2005,  1800,  1399,   191,   278,\n",
       "         380,   257,   449,  1256,   153,  1653,   520,   560,   281,\n",
       "       12510,     3,  1500,   386,  1202,  2016,  1436,  1405,   671,\n",
       "         274,  1288,  1055, 10912,  6226,  1115,   277,  1105,   341,\n",
       "        1223,  2340,  8404,  1968,   338,   445,  1920,   517,  4400,\n",
       "       10710, 10522,   431,  1164, 11509,   371,  1501,   428, 11635,\n",
       "         304,   348,   370,  1995,   579, 10000,   358,   408,  1403,\n",
       "         489, 19211,   585,   365,   353,   490,   352,  1801,  1000,\n",
       "         346,   550,  3199,   800,  7508,  1937,   950,  1600,  3454,\n",
       "       19208,   251,   850,   337,   700,  2331,  2789,   487,   519,\n",
       "        2461,   606,  6006,  3500,  6018,  1781,  1503,   612,  1596,\n",
       "         229,    31,  1506,  5809, 15020,  1300,  5867,  2172,  1598,\n",
       "       17410,  1363,   584,  1054,   851,  1339,   318,   510,   525,\n",
       "          28,  1151,   685,  6011,   317,   703,  1771, 15001,   514,\n",
       "         362,   332,   324,  6045,   308,  6010,   475,   903,   640,\n",
       "        2000,   248,   651,  2799,   368, 17011,   505,  1521,   601,\n",
       "         398,   750,  1998, 10311,   409, 17019,  8259,  1895,  1317,\n",
       "         871,   909,  1595,   776, 17700, 11011,  1199,   357,  1162,\n",
       "       15033,  1896,   339,   361,  6512,   454,   650, 13616,   604,\n",
       "         999, 16312,  1082,   336, 20000,   416,  1401,  1021,  1870,\n",
       "       13636,  1250,  6012,   323,  2009,  6062,  1275,   572,   244,\n",
       "         399,  1016,   743,  1221,  2402,  1362,   544,   645,   907,\n",
       "         702,  1003,  1432,  9013,   442,    21,  1017, 15017, 10910,\n",
       "        1992,   540,  2018, 11025,  1433,  1701,  2792,  1502,  1390,\n",
       "       14009,  1160,  1783,  9007,    36,   923,  4700,  1149,  2004,\n",
       "        5420,  1793,   356, 12512,  7511,  1299,   293, 19312,  1079,\n",
       "        1689,  1100,  1933,   508, 16311,   551,   682,  1922,  7529,\n",
       "         732,  2389,  1005,  1707,  1416,  1700,  8500,  1012, 10110,\n",
       "         421,  1631,  7518,   377,  9012,  2007,  2598,  1548])"
      ]
     },
     "execution_count": 16,
     "metadata": {},
     "output_type": "execute_result"
    }
   ],
   "source": [
    "data['power'].unique()"
   ]
  },
  {
   "cell_type": "markdown",
   "metadata": {},
   "source": [
    "В столбце с мощностью автомобиля можно также заметить аномальные значения - нулевая мощность и слишком большая мощность. Возьмём минимальное значение мощности 100 л.с., а максимальное - 4000 (2028 л.с. для легковых авто, 4000 для грузовых)."
   ]
  },
  {
   "cell_type": "code",
   "execution_count": 17,
   "metadata": {},
   "outputs": [
    {
     "data": {
      "text/plain": [
       "array([ 190,  163,   75,   69,  102,  109,  125,  101,  105,  140,  115,\n",
       "        131,  136,  160,  231,  118,  193,   99,   50,   60,  113,  218,\n",
       "        122,  129,   70,  306,   95,   61,  177,  170,   55,  143,  232,\n",
       "        150,  156,   80,   82,   90,  185,   87,  180,   86,   84,  224,\n",
       "        235,  200,  178,  265,   77,  110,  120,   54,  286,  116,  184,\n",
       "        126,  204,   88,  194,   64,  305,  197,  179,  250,  313,  165,\n",
       "         98,  130,  114,  211,   56,  201,  213,  107,   83,  174,  100,\n",
       "        220,   73,  192,   68,   66,  299,   74,   58,   52,  147,  310,\n",
       "         71,   97,   65,  239,  203,  144,  300,  103,   85,  258,  320,\n",
       "         63,   81,  148,  145,  280,  260,  104,  188,  333,  186,  117,\n",
       "        141,  132,  155,  234,  158,   92,   51,  135,   59,  230,  209,\n",
       "        146,   67,  106,  166,  276,  344,   72,  249,  237,  245,  111,\n",
       "        326,  279,  138,  175,   96,  226,  301,  334,  128,  133,  124,\n",
       "        219,  241,  167,   94,  182,  196,  238, 1398,  228,  112,  272,\n",
       "        139,   79,  256,  243,  252,  396,  340,  121,  345,  187,  289,\n",
       "        222,  198,  284,  450,  233,  387,  347,  172,   57,  137,  212,\n",
       "        476,  314,  173,  290,  207,  205,  171,   78,   91,   89,  349,\n",
       "        108,  325,   76,  350,  953,   93,  142,  343,  199,  164,  264,\n",
       "        367,  240,  208,  210,  435, 1001,  225,  127,  176,  161,  603,\n",
       "        152,  307,  354,  206,  771,  355,  273,  223,  255,  151,  123,\n",
       "        154,  149, 1400,  268,  620,  400,  275,  242, 1779,  285,  162,\n",
       "        328, 1753,  329,  134,  420,  247,  168,  215,  360,  330,  283,\n",
       "        500,  183,  254,  321,  315,  952,  169,  600,  181,  119,  426,\n",
       "        379,  157,  195,   53,  309,  507,  381,  271,  440,  189,  401,\n",
       "        236, 1240, 1704,  521, 1900,  270,  159,  292,   62,  303, 1993,\n",
       "        216,  504,  267,  331,  261, 1011,  253,  696,  376,  227,  311,\n",
       "        217,  322, 1056,  394,  298,  296,  515, 1659,  294,  246,  363,\n",
       "        390,  221, 1367,  259, 1597,  266,  374,  392,  405,  262,  430,\n",
       "        295,  411,  900,  382,  287,  214,  751,  297, 1090,  457,  282,\n",
       "        602,  388,  385,  335, 1360,  202,  805, 1062, 1024,  364, 1796,\n",
       "        269,  460,  288, 1780,  316, 1800, 1399,  191,  278,  380,  257,\n",
       "        449, 1256,  153, 1653,  520,  560,  281, 1500,  386, 1202, 1436,\n",
       "       1405,  671,  274, 1288, 1055, 1115,  277, 1105,  341, 1223, 1968,\n",
       "        338,  445, 1920,  517,  431, 1164,  371, 1501,  428,  304,  348,\n",
       "        370, 1995,  579,  358,  408, 1403,  489,  585,  365,  353,  490,\n",
       "        352, 1801, 1000,  346,  550,  800, 1937,  950, 1600,  251,  850,\n",
       "        337,  700,  487,  519,  606, 1781, 1503,  612, 1596,  229, 1506,\n",
       "       1300, 1598, 1363,  584, 1054,  851, 1339,  318,  510,  525, 1151,\n",
       "        685,  317,  703, 1771,  514,  362,  332,  324,  308,  475,  903,\n",
       "        640, 2000,  248,  651,  368,  505, 1521,  601,  398,  750, 1998,\n",
       "        409, 1895, 1317,  871,  909, 1595,  776, 1199,  357, 1162, 1896,\n",
       "        339,  361,  454,  650,  604,  999, 1082,  336,  416, 1401, 1021,\n",
       "       1870, 1250,  323, 1275,  572,  244,  399, 1016,  743, 1221, 1362,\n",
       "        544,  645,  907,  702, 1003, 1432,  442, 1017, 1992,  540, 1433,\n",
       "       1701, 1502, 1390, 1160, 1783,  923, 1149, 1793,  356, 1299,  293,\n",
       "       1079, 1689, 1100, 1933,  508,  551,  682, 1922,  732, 1005, 1707,\n",
       "       1416, 1700, 1012,  421, 1631,  377, 1548])"
      ]
     },
     "execution_count": 17,
     "metadata": {},
     "output_type": "execute_result"
    }
   ],
   "source": [
    "data = data.query('50 <= power <= 2000') \n",
    "data['power'].unique()"
   ]
  },
  {
   "cell_type": "code",
   "execution_count": 18,
   "metadata": {},
   "outputs": [
    {
     "data": {
      "text/html": [
       "<div>\n",
       "<style scoped>\n",
       "    .dataframe tbody tr th:only-of-type {\n",
       "        vertical-align: middle;\n",
       "    }\n",
       "\n",
       "    .dataframe tbody tr th {\n",
       "        vertical-align: top;\n",
       "    }\n",
       "\n",
       "    .dataframe thead th {\n",
       "        text-align: right;\n",
       "    }\n",
       "</style>\n",
       "<table border=\"1\" class=\"dataframe\">\n",
       "  <thead>\n",
       "    <tr style=\"text-align: right;\">\n",
       "      <th></th>\n",
       "      <th>model</th>\n",
       "    </tr>\n",
       "  </thead>\n",
       "  <tbody>\n",
       "    <tr>\n",
       "      <th>100</th>\n",
       "      <td>323</td>\n",
       "    </tr>\n",
       "    <tr>\n",
       "      <th>145</th>\n",
       "      <td>24</td>\n",
       "    </tr>\n",
       "    <tr>\n",
       "      <th>147</th>\n",
       "      <td>481</td>\n",
       "    </tr>\n",
       "    <tr>\n",
       "      <th>156</th>\n",
       "      <td>481</td>\n",
       "    </tr>\n",
       "    <tr>\n",
       "      <th>159</th>\n",
       "      <td>196</td>\n",
       "    </tr>\n",
       "    <tr>\n",
       "      <th>...</th>\n",
       "      <td>...</td>\n",
       "    </tr>\n",
       "    <tr>\n",
       "      <th>yeti</th>\n",
       "      <td>171</td>\n",
       "    </tr>\n",
       "    <tr>\n",
       "      <th>ypsilon</th>\n",
       "      <td>147</td>\n",
       "    </tr>\n",
       "    <tr>\n",
       "      <th>z_reihe</th>\n",
       "      <td>683</td>\n",
       "    </tr>\n",
       "    <tr>\n",
       "      <th>zafira</th>\n",
       "      <td>2491</td>\n",
       "    </tr>\n",
       "    <tr>\n",
       "      <th>NaN</th>\n",
       "      <td>9227</td>\n",
       "    </tr>\n",
       "  </tbody>\n",
       "</table>\n",
       "<p>250 rows × 1 columns</p>\n",
       "</div>"
      ],
      "text/plain": [
       "         model\n",
       "100        323\n",
       "145         24\n",
       "147        481\n",
       "156        481\n",
       "159        196\n",
       "...        ...\n",
       "yeti       171\n",
       "ypsilon    147\n",
       "z_reihe    683\n",
       "zafira    2491\n",
       "NaN       9227\n",
       "\n",
       "[250 rows x 1 columns]"
      ]
     },
     "execution_count": 18,
     "metadata": {},
     "output_type": "execute_result"
    }
   ],
   "source": [
    "data['model'].value_counts(dropna=False).sort_index(ascending=True).to_frame()"
   ]
  },
  {
   "cell_type": "markdown",
   "metadata": {},
   "source": [
    "Заменим пропущенные значения в этом столбце на 'unknown'."
   ]
  },
  {
   "cell_type": "code",
   "execution_count": 19,
   "metadata": {},
   "outputs": [
    {
     "data": {
      "text/html": [
       "<div>\n",
       "<style scoped>\n",
       "    .dataframe tbody tr th:only-of-type {\n",
       "        vertical-align: middle;\n",
       "    }\n",
       "\n",
       "    .dataframe tbody tr th {\n",
       "        vertical-align: top;\n",
       "    }\n",
       "\n",
       "    .dataframe thead th {\n",
       "        text-align: right;\n",
       "    }\n",
       "</style>\n",
       "<table border=\"1\" class=\"dataframe\">\n",
       "  <thead>\n",
       "    <tr style=\"text-align: right;\">\n",
       "      <th></th>\n",
       "      <th>model</th>\n",
       "    </tr>\n",
       "  </thead>\n",
       "  <tbody>\n",
       "    <tr>\n",
       "      <th>100</th>\n",
       "      <td>323</td>\n",
       "    </tr>\n",
       "    <tr>\n",
       "      <th>145</th>\n",
       "      <td>24</td>\n",
       "    </tr>\n",
       "    <tr>\n",
       "      <th>147</th>\n",
       "      <td>481</td>\n",
       "    </tr>\n",
       "    <tr>\n",
       "      <th>156</th>\n",
       "      <td>481</td>\n",
       "    </tr>\n",
       "    <tr>\n",
       "      <th>159</th>\n",
       "      <td>196</td>\n",
       "    </tr>\n",
       "    <tr>\n",
       "      <th>...</th>\n",
       "      <td>...</td>\n",
       "    </tr>\n",
       "    <tr>\n",
       "      <th>yaris</th>\n",
       "      <td>911</td>\n",
       "    </tr>\n",
       "    <tr>\n",
       "      <th>yeti</th>\n",
       "      <td>171</td>\n",
       "    </tr>\n",
       "    <tr>\n",
       "      <th>ypsilon</th>\n",
       "      <td>147</td>\n",
       "    </tr>\n",
       "    <tr>\n",
       "      <th>z_reihe</th>\n",
       "      <td>683</td>\n",
       "    </tr>\n",
       "    <tr>\n",
       "      <th>zafira</th>\n",
       "      <td>2491</td>\n",
       "    </tr>\n",
       "  </tbody>\n",
       "</table>\n",
       "<p>250 rows × 1 columns</p>\n",
       "</div>"
      ],
      "text/plain": [
       "         model\n",
       "100        323\n",
       "145         24\n",
       "147        481\n",
       "156        481\n",
       "159        196\n",
       "...        ...\n",
       "yaris      911\n",
       "yeti       171\n",
       "ypsilon    147\n",
       "z_reihe    683\n",
       "zafira    2491\n",
       "\n",
       "[250 rows x 1 columns]"
      ]
     },
     "execution_count": 19,
     "metadata": {},
     "output_type": "execute_result"
    }
   ],
   "source": [
    "data.fillna({'model':'unknown'}, inplace=True)\n",
    "data['model'].value_counts(dropna=False).sort_index(ascending=True).to_frame()"
   ]
  },
  {
   "cell_type": "code",
   "execution_count": 20,
   "metadata": {},
   "outputs": [
    {
     "data": {
      "text/html": [
       "<div>\n",
       "<style scoped>\n",
       "    .dataframe tbody tr th:only-of-type {\n",
       "        vertical-align: middle;\n",
       "    }\n",
       "\n",
       "    .dataframe tbody tr th {\n",
       "        vertical-align: top;\n",
       "    }\n",
       "\n",
       "    .dataframe thead th {\n",
       "        text-align: right;\n",
       "    }\n",
       "</style>\n",
       "<table border=\"1\" class=\"dataframe\">\n",
       "  <thead>\n",
       "    <tr style=\"text-align: right;\">\n",
       "      <th></th>\n",
       "      <th>kilometer</th>\n",
       "    </tr>\n",
       "  </thead>\n",
       "  <tbody>\n",
       "    <tr>\n",
       "      <th>5000</th>\n",
       "      <td>2232</td>\n",
       "    </tr>\n",
       "    <tr>\n",
       "      <th>10000</th>\n",
       "      <td>832</td>\n",
       "    </tr>\n",
       "    <tr>\n",
       "      <th>20000</th>\n",
       "      <td>3032</td>\n",
       "    </tr>\n",
       "    <tr>\n",
       "      <th>30000</th>\n",
       "      <td>3683</td>\n",
       "    </tr>\n",
       "    <tr>\n",
       "      <th>40000</th>\n",
       "      <td>4357</td>\n",
       "    </tr>\n",
       "    <tr>\n",
       "      <th>50000</th>\n",
       "      <td>5458</td>\n",
       "    </tr>\n",
       "    <tr>\n",
       "      <th>60000</th>\n",
       "      <td>6597</td>\n",
       "    </tr>\n",
       "    <tr>\n",
       "      <th>70000</th>\n",
       "      <td>7539</td>\n",
       "    </tr>\n",
       "    <tr>\n",
       "      <th>80000</th>\n",
       "      <td>8678</td>\n",
       "    </tr>\n",
       "    <tr>\n",
       "      <th>90000</th>\n",
       "      <td>9837</td>\n",
       "    </tr>\n",
       "    <tr>\n",
       "      <th>100000</th>\n",
       "      <td>12170</td>\n",
       "    </tr>\n",
       "    <tr>\n",
       "      <th>125000</th>\n",
       "      <td>30060</td>\n",
       "    </tr>\n",
       "    <tr>\n",
       "      <th>150000</th>\n",
       "      <td>180768</td>\n",
       "    </tr>\n",
       "  </tbody>\n",
       "</table>\n",
       "</div>"
      ],
      "text/plain": [
       "        kilometer\n",
       "5000         2232\n",
       "10000         832\n",
       "20000        3032\n",
       "30000        3683\n",
       "40000        4357\n",
       "50000        5458\n",
       "60000        6597\n",
       "70000        7539\n",
       "80000        8678\n",
       "90000        9837\n",
       "100000      12170\n",
       "125000      30060\n",
       "150000     180768"
      ]
     },
     "execution_count": 20,
     "metadata": {},
     "output_type": "execute_result"
    }
   ],
   "source": [
    "data['kilometer'].value_counts(dropna=False).sort_index(ascending=True).to_frame()"
   ]
  },
  {
   "cell_type": "code",
   "execution_count": 21,
   "metadata": {},
   "outputs": [
    {
     "data": {
      "text/html": [
       "<div>\n",
       "<style scoped>\n",
       "    .dataframe tbody tr th:only-of-type {\n",
       "        vertical-align: middle;\n",
       "    }\n",
       "\n",
       "    .dataframe tbody tr th {\n",
       "        vertical-align: top;\n",
       "    }\n",
       "\n",
       "    .dataframe thead th {\n",
       "        text-align: right;\n",
       "    }\n",
       "</style>\n",
       "<table border=\"1\" class=\"dataframe\">\n",
       "  <thead>\n",
       "    <tr style=\"text-align: right;\">\n",
       "      <th></th>\n",
       "      <th>fuel_type</th>\n",
       "    </tr>\n",
       "  </thead>\n",
       "  <tbody>\n",
       "    <tr>\n",
       "      <th>cng</th>\n",
       "      <td>466</td>\n",
       "    </tr>\n",
       "    <tr>\n",
       "      <th>electric</th>\n",
       "      <td>31</td>\n",
       "    </tr>\n",
       "    <tr>\n",
       "      <th>gasoline</th>\n",
       "      <td>86432</td>\n",
       "    </tr>\n",
       "    <tr>\n",
       "      <th>hybrid</th>\n",
       "      <td>199</td>\n",
       "    </tr>\n",
       "    <tr>\n",
       "      <th>lpg</th>\n",
       "      <td>4579</td>\n",
       "    </tr>\n",
       "    <tr>\n",
       "      <th>other</th>\n",
       "      <td>47</td>\n",
       "    </tr>\n",
       "    <tr>\n",
       "      <th>petrol</th>\n",
       "      <td>171085</td>\n",
       "    </tr>\n",
       "    <tr>\n",
       "      <th>NaN</th>\n",
       "      <td>12404</td>\n",
       "    </tr>\n",
       "  </tbody>\n",
       "</table>\n",
       "</div>"
      ],
      "text/plain": [
       "          fuel_type\n",
       "cng             466\n",
       "electric         31\n",
       "gasoline      86432\n",
       "hybrid          199\n",
       "lpg            4579\n",
       "other            47\n",
       "petrol       171085\n",
       "NaN           12404"
      ]
     },
     "execution_count": 21,
     "metadata": {},
     "output_type": "execute_result"
    }
   ],
   "source": [
    "data['fuel_type'].value_counts(dropna=False).sort_index(ascending=True).to_frame()"
   ]
  },
  {
   "cell_type": "markdown",
   "metadata": {},
   "source": [
    "Заполним пропуски в столбце, взяв за основу самый популярный тип топлива."
   ]
  },
  {
   "cell_type": "code",
   "execution_count": 22,
   "metadata": {},
   "outputs": [
    {
     "data": {
      "text/html": [
       "<div>\n",
       "<style scoped>\n",
       "    .dataframe tbody tr th:only-of-type {\n",
       "        vertical-align: middle;\n",
       "    }\n",
       "\n",
       "    .dataframe tbody tr th {\n",
       "        vertical-align: top;\n",
       "    }\n",
       "\n",
       "    .dataframe thead th {\n",
       "        text-align: right;\n",
       "    }\n",
       "</style>\n",
       "<table border=\"1\" class=\"dataframe\">\n",
       "  <thead>\n",
       "    <tr style=\"text-align: right;\">\n",
       "      <th></th>\n",
       "      <th>fuel_type</th>\n",
       "    </tr>\n",
       "  </thead>\n",
       "  <tbody>\n",
       "    <tr>\n",
       "      <th>cng</th>\n",
       "      <td>466</td>\n",
       "    </tr>\n",
       "    <tr>\n",
       "      <th>electric</th>\n",
       "      <td>31</td>\n",
       "    </tr>\n",
       "    <tr>\n",
       "      <th>gasoline</th>\n",
       "      <td>86432</td>\n",
       "    </tr>\n",
       "    <tr>\n",
       "      <th>hybrid</th>\n",
       "      <td>199</td>\n",
       "    </tr>\n",
       "    <tr>\n",
       "      <th>lpg</th>\n",
       "      <td>4579</td>\n",
       "    </tr>\n",
       "    <tr>\n",
       "      <th>other</th>\n",
       "      <td>47</td>\n",
       "    </tr>\n",
       "    <tr>\n",
       "      <th>petrol</th>\n",
       "      <td>183489</td>\n",
       "    </tr>\n",
       "  </tbody>\n",
       "</table>\n",
       "</div>"
      ],
      "text/plain": [
       "          fuel_type\n",
       "cng             466\n",
       "electric         31\n",
       "gasoline      86432\n",
       "hybrid          199\n",
       "lpg            4579\n",
       "other            47\n",
       "petrol       183489"
      ]
     },
     "execution_count": 22,
     "metadata": {},
     "output_type": "execute_result"
    }
   ],
   "source": [
    "data.fillna({'fuel_type':'petrol'}, inplace=True)\n",
    "data['fuel_type'].value_counts(dropna=False).sort_index(ascending=True).to_frame()"
   ]
  },
  {
   "cell_type": "code",
   "execution_count": 23,
   "metadata": {},
   "outputs": [
    {
     "data": {
      "text/html": [
       "<div>\n",
       "<style scoped>\n",
       "    .dataframe tbody tr th:only-of-type {\n",
       "        vertical-align: middle;\n",
       "    }\n",
       "\n",
       "    .dataframe tbody tr th {\n",
       "        vertical-align: top;\n",
       "    }\n",
       "\n",
       "    .dataframe thead th {\n",
       "        text-align: right;\n",
       "    }\n",
       "</style>\n",
       "<table border=\"1\" class=\"dataframe\">\n",
       "  <thead>\n",
       "    <tr style=\"text-align: right;\">\n",
       "      <th></th>\n",
       "      <th>brand</th>\n",
       "    </tr>\n",
       "  </thead>\n",
       "  <tbody>\n",
       "    <tr>\n",
       "      <th>alfa_romeo</th>\n",
       "      <td>1855</td>\n",
       "    </tr>\n",
       "    <tr>\n",
       "      <th>audi</th>\n",
       "      <td>24997</td>\n",
       "    </tr>\n",
       "    <tr>\n",
       "      <th>bmw</th>\n",
       "      <td>31568</td>\n",
       "    </tr>\n",
       "    <tr>\n",
       "      <th>chevrolet</th>\n",
       "      <td>1424</td>\n",
       "    </tr>\n",
       "    <tr>\n",
       "      <th>chrysler</th>\n",
       "      <td>1101</td>\n",
       "    </tr>\n",
       "    <tr>\n",
       "      <th>citroen</th>\n",
       "      <td>3915</td>\n",
       "    </tr>\n",
       "    <tr>\n",
       "      <th>dacia</th>\n",
       "      <td>799</td>\n",
       "    </tr>\n",
       "    <tr>\n",
       "      <th>daewoo</th>\n",
       "      <td>329</td>\n",
       "    </tr>\n",
       "    <tr>\n",
       "      <th>daihatsu</th>\n",
       "      <td>472</td>\n",
       "    </tr>\n",
       "    <tr>\n",
       "      <th>fiat</th>\n",
       "      <td>6565</td>\n",
       "    </tr>\n",
       "    <tr>\n",
       "      <th>ford</th>\n",
       "      <td>18285</td>\n",
       "    </tr>\n",
       "    <tr>\n",
       "      <th>honda</th>\n",
       "      <td>2248</td>\n",
       "    </tr>\n",
       "    <tr>\n",
       "      <th>hyundai</th>\n",
       "      <td>3014</td>\n",
       "    </tr>\n",
       "    <tr>\n",
       "      <th>jaguar</th>\n",
       "      <td>431</td>\n",
       "    </tr>\n",
       "    <tr>\n",
       "      <th>jeep</th>\n",
       "      <td>562</td>\n",
       "    </tr>\n",
       "    <tr>\n",
       "      <th>kia</th>\n",
       "      <td>2026</td>\n",
       "    </tr>\n",
       "    <tr>\n",
       "      <th>lada</th>\n",
       "      <td>154</td>\n",
       "    </tr>\n",
       "    <tr>\n",
       "      <th>lancia</th>\n",
       "      <td>331</td>\n",
       "    </tr>\n",
       "    <tr>\n",
       "      <th>land_rover</th>\n",
       "      <td>461</td>\n",
       "    </tr>\n",
       "    <tr>\n",
       "      <th>mazda</th>\n",
       "      <td>4402</td>\n",
       "    </tr>\n",
       "    <tr>\n",
       "      <th>mercedes_benz</th>\n",
       "      <td>27017</td>\n",
       "    </tr>\n",
       "    <tr>\n",
       "      <th>mini</th>\n",
       "      <td>2937</td>\n",
       "    </tr>\n",
       "    <tr>\n",
       "      <th>mitsubishi</th>\n",
       "      <td>2235</td>\n",
       "    </tr>\n",
       "    <tr>\n",
       "      <th>nissan</th>\n",
       "      <td>3709</td>\n",
       "    </tr>\n",
       "    <tr>\n",
       "      <th>opel</th>\n",
       "      <td>28325</td>\n",
       "    </tr>\n",
       "    <tr>\n",
       "      <th>peugeot</th>\n",
       "      <td>8708</td>\n",
       "    </tr>\n",
       "    <tr>\n",
       "      <th>porsche</th>\n",
       "      <td>615</td>\n",
       "    </tr>\n",
       "    <tr>\n",
       "      <th>renault</th>\n",
       "      <td>12276</td>\n",
       "    </tr>\n",
       "    <tr>\n",
       "      <th>rover</th>\n",
       "      <td>305</td>\n",
       "    </tr>\n",
       "    <tr>\n",
       "      <th>saab</th>\n",
       "      <td>453</td>\n",
       "    </tr>\n",
       "    <tr>\n",
       "      <th>seat</th>\n",
       "      <td>5422</td>\n",
       "    </tr>\n",
       "    <tr>\n",
       "      <th>skoda</th>\n",
       "      <td>4854</td>\n",
       "    </tr>\n",
       "    <tr>\n",
       "      <th>smart</th>\n",
       "      <td>3604</td>\n",
       "    </tr>\n",
       "    <tr>\n",
       "      <th>sonstige_autos</th>\n",
       "      <td>1390</td>\n",
       "    </tr>\n",
       "    <tr>\n",
       "      <th>subaru</th>\n",
       "      <td>578</td>\n",
       "    </tr>\n",
       "    <tr>\n",
       "      <th>suzuki</th>\n",
       "      <td>1803</td>\n",
       "    </tr>\n",
       "    <tr>\n",
       "      <th>toyota</th>\n",
       "      <td>3970</td>\n",
       "    </tr>\n",
       "    <tr>\n",
       "      <th>trabant</th>\n",
       "      <td>6</td>\n",
       "    </tr>\n",
       "    <tr>\n",
       "      <th>volkswagen</th>\n",
       "      <td>59449</td>\n",
       "    </tr>\n",
       "    <tr>\n",
       "      <th>volvo</th>\n",
       "      <td>2648</td>\n",
       "    </tr>\n",
       "  </tbody>\n",
       "</table>\n",
       "</div>"
      ],
      "text/plain": [
       "                brand\n",
       "alfa_romeo       1855\n",
       "audi            24997\n",
       "bmw             31568\n",
       "chevrolet        1424\n",
       "chrysler         1101\n",
       "citroen          3915\n",
       "dacia             799\n",
       "daewoo            329\n",
       "daihatsu          472\n",
       "fiat             6565\n",
       "ford            18285\n",
       "honda            2248\n",
       "hyundai          3014\n",
       "jaguar            431\n",
       "jeep              562\n",
       "kia              2026\n",
       "lada              154\n",
       "lancia            331\n",
       "land_rover        461\n",
       "mazda            4402\n",
       "mercedes_benz   27017\n",
       "mini             2937\n",
       "mitsubishi       2235\n",
       "nissan           3709\n",
       "opel            28325\n",
       "peugeot          8708\n",
       "porsche           615\n",
       "renault         12276\n",
       "rover             305\n",
       "saab              453\n",
       "seat             5422\n",
       "skoda            4854\n",
       "smart            3604\n",
       "sonstige_autos   1390\n",
       "subaru            578\n",
       "suzuki           1803\n",
       "toyota           3970\n",
       "trabant             6\n",
       "volkswagen      59449\n",
       "volvo            2648"
      ]
     },
     "execution_count": 23,
     "metadata": {},
     "output_type": "execute_result"
    }
   ],
   "source": [
    "data['brand'].value_counts(dropna=False).sort_index(ascending=True).to_frame()"
   ]
  },
  {
   "cell_type": "code",
   "execution_count": 24,
   "metadata": {},
   "outputs": [
    {
     "data": {
      "text/html": [
       "<div>\n",
       "<style scoped>\n",
       "    .dataframe tbody tr th:only-of-type {\n",
       "        vertical-align: middle;\n",
       "    }\n",
       "\n",
       "    .dataframe tbody tr th {\n",
       "        vertical-align: top;\n",
       "    }\n",
       "\n",
       "    .dataframe thead th {\n",
       "        text-align: right;\n",
       "    }\n",
       "</style>\n",
       "<table border=\"1\" class=\"dataframe\">\n",
       "  <thead>\n",
       "    <tr style=\"text-align: right;\">\n",
       "      <th></th>\n",
       "      <th>repaired</th>\n",
       "    </tr>\n",
       "  </thead>\n",
       "  <tbody>\n",
       "    <tr>\n",
       "      <th>no</th>\n",
       "      <td>216490</td>\n",
       "    </tr>\n",
       "    <tr>\n",
       "      <th>yes</th>\n",
       "      <td>22785</td>\n",
       "    </tr>\n",
       "    <tr>\n",
       "      <th>NaN</th>\n",
       "      <td>35968</td>\n",
       "    </tr>\n",
       "  </tbody>\n",
       "</table>\n",
       "</div>"
      ],
      "text/plain": [
       "     repaired\n",
       "no     216490\n",
       "yes     22785\n",
       "NaN     35968"
      ]
     },
     "execution_count": 24,
     "metadata": {},
     "output_type": "execute_result"
    }
   ],
   "source": [
    "data['repaired'].value_counts(dropna=False).sort_index(ascending=True).to_frame()"
   ]
  },
  {
   "cell_type": "markdown",
   "metadata": {},
   "source": [
    "Добавим пропущенные значения в этом столбце в ответ 'no', так как можно предположить, что продавцы, не ремонтировавшие машины, пропускали этот ответ."
   ]
  },
  {
   "cell_type": "code",
   "execution_count": 25,
   "metadata": {},
   "outputs": [
    {
     "data": {
      "text/html": [
       "<div>\n",
       "<style scoped>\n",
       "    .dataframe tbody tr th:only-of-type {\n",
       "        vertical-align: middle;\n",
       "    }\n",
       "\n",
       "    .dataframe tbody tr th {\n",
       "        vertical-align: top;\n",
       "    }\n",
       "\n",
       "    .dataframe thead th {\n",
       "        text-align: right;\n",
       "    }\n",
       "</style>\n",
       "<table border=\"1\" class=\"dataframe\">\n",
       "  <thead>\n",
       "    <tr style=\"text-align: right;\">\n",
       "      <th></th>\n",
       "      <th>repaired</th>\n",
       "    </tr>\n",
       "  </thead>\n",
       "  <tbody>\n",
       "    <tr>\n",
       "      <th>no</th>\n",
       "      <td>252458</td>\n",
       "    </tr>\n",
       "    <tr>\n",
       "      <th>yes</th>\n",
       "      <td>22785</td>\n",
       "    </tr>\n",
       "  </tbody>\n",
       "</table>\n",
       "</div>"
      ],
      "text/plain": [
       "     repaired\n",
       "no     252458\n",
       "yes     22785"
      ]
     },
     "execution_count": 25,
     "metadata": {},
     "output_type": "execute_result"
    }
   ],
   "source": [
    "data.fillna({'repaired':'no'}, inplace=True)\n",
    "data['repaired'].value_counts(dropna=False).sort_index(ascending=True).to_frame()"
   ]
  },
  {
   "cell_type": "markdown",
   "metadata": {},
   "source": [
    "Выделим признаки, разобьём данные на выборки и проведём кодирование категориальных признаков."
   ]
  },
  {
   "cell_type": "code",
   "execution_count": 26,
   "metadata": {},
   "outputs": [],
   "source": [
    "features = data.drop(['price'], axis=1)\n",
    "target = data['price']"
   ]
  },
  {
   "cell_type": "code",
   "execution_count": 27,
   "metadata": {},
   "outputs": [],
   "source": [
    "#разделим наш датасет на обучающую и тестовую выборки\n",
    "\n",
    "features_train, features_test, target_train, target_test = train_test_split(features, target, test_size=0.2, random_state=12345)"
   ]
  },
  {
   "cell_type": "code",
   "execution_count": 28,
   "metadata": {},
   "outputs": [],
   "source": [
    "# закодируем признаки \n",
    "\n",
    "categorial = ['vehicle_type', 'gearbox', 'model', 'fuel_type', 'brand', 'repaired'] # выделим категориальные признаки\n",
    "\n",
    "encoder = OrdinalEncoder()\n",
    "\n",
    "features_train[categorial] = encoder.fit_transform(features_train[categorial])\n",
    "features_test[categorial] = encoder.fit_transform(features_test[categorial])"
   ]
  },
  {
   "cell_type": "markdown",
   "metadata": {},
   "source": [
    "## Обучение моделей"
   ]
  },
  {
   "cell_type": "markdown",
   "metadata": {},
   "source": [
    "**Проверим в работе следующие модели:**\n",
    "\n",
    "- CatBoostRegressor\n",
    "- DecisionTreeRegressor\n",
    "- RandomForestRegressor\n",
    "- LightGBM \n",
    "\n",
    "**Нашей задачей будет рассчитать метрику RMSE, а также замерить время обучения и время предсказания каждой модели.**"
   ]
  },
  {
   "cell_type": "code",
   "execution_count": 29,
   "metadata": {},
   "outputs": [
    {
     "name": "stdout",
     "output_type": "stream",
     "text": [
      "CatBoostRegressor: 1357.88565394113\n",
      "Лучшие параметры: {'learning_rate': 0.5}\n",
      "CPU times: user 6min 34s, sys: 2.7 s, total: 6min 37s\n",
      "Wall time: 6min 53s\n"
     ]
    }
   ],
   "source": [
    "%%time\n",
    "\n",
    "parameters = [{'learning_rate':[0.1, 0.5, 0.8]}]\n",
    "\n",
    "model = CatBoostRegressor(loss_function='RMSE', random_state=12345, verbose=False) \n",
    "cat_model = GridSearchCV(model, parameters, scoring='neg_mean_squared_error')\n",
    "cat_model = cat_model.fit(features_train, target_train)\n",
    "\n",
    "print('CatBoostRegressor:', mean_squared_error(target_train, cat_model.predict(features_train), squared=False))\n",
    "print('Лучшие параметры:', cat_model.best_params_)"
   ]
  },
  {
   "cell_type": "code",
   "execution_count": 30,
   "metadata": {},
   "outputs": [
    {
     "name": "stdout",
     "output_type": "stream",
     "text": [
      "CPU times: user 30.6 s, sys: 232 ms, total: 30.8 s\n",
      "Wall time: 31.9 s\n"
     ]
    }
   ],
   "source": [
    "%%time\n",
    "\n",
    "model = CatBoostRegressor(learning_rate=0.5, loss_function='RMSE', random_state=12345, verbose=False) \n",
    "cat_model_train_time = model.fit(features_train, target_train)"
   ]
  },
  {
   "cell_type": "code",
   "execution_count": 31,
   "metadata": {},
   "outputs": [
    {
     "name": "stdout",
     "output_type": "stream",
     "text": [
      "CPU times: user 226 ms, sys: 3.93 ms, total: 229 ms\n",
      "Wall time: 235 ms\n"
     ]
    }
   ],
   "source": [
    "%%time\n",
    "\n",
    "cat_model_prediction_time = cat_model.predict(features_train)"
   ]
  },
  {
   "cell_type": "code",
   "execution_count": 32,
   "metadata": {},
   "outputs": [
    {
     "name": "stdout",
     "output_type": "stream",
     "text": [
      "DecisionTreeRegressor: 1485.5324945707007\n",
      "Лучшие параметры: {'max_depth': 14}\n",
      "CPU times: user 18.6 s, sys: 31.8 ms, total: 18.6 s\n",
      "Wall time: 18.6 s\n"
     ]
    }
   ],
   "source": [
    "%%time\n",
    "\n",
    "parameters = [{'max_depth': range(1, 15)}]\n",
    "\n",
    "model = DecisionTreeRegressor(random_state=12345)\n",
    "\n",
    "tree_model = GridSearchCV(model, parameters, scoring='neg_mean_squared_error')\n",
    "tree_model = tree_model.fit(features_train, target_train)\n",
    "\n",
    "print('DecisionTreeRegressor:', mean_squared_error(target_train, tree_model.predict(features_train), squared=False))\n",
    "print('Лучшие параметры:', tree_model.best_params_)"
   ]
  },
  {
   "cell_type": "code",
   "execution_count": 33,
   "metadata": {},
   "outputs": [
    {
     "name": "stdout",
     "output_type": "stream",
     "text": [
      "CPU times: user 591 ms, sys: 0 ns, total: 591 ms\n",
      "Wall time: 597 ms\n"
     ]
    }
   ],
   "source": [
    "%%time\n",
    "\n",
    "model = DecisionTreeRegressor(max_depth=16, random_state=12345)\n",
    "tree_model_train_time = model.fit(features_train, target_train)"
   ]
  },
  {
   "cell_type": "code",
   "execution_count": 34,
   "metadata": {},
   "outputs": [
    {
     "name": "stdout",
     "output_type": "stream",
     "text": [
      "CPU times: user 51.3 ms, sys: 0 ns, total: 51.3 ms\n",
      "Wall time: 55.4 ms\n"
     ]
    }
   ],
   "source": [
    "%%time\n",
    "\n",
    "tree_model_prediction_time = tree_model.predict(features_train)"
   ]
  },
  {
   "cell_type": "code",
   "execution_count": 35,
   "metadata": {},
   "outputs": [],
   "source": [
    "%%time\n",
    "\n",
    "parameters = [{'n_estimators': range(1, 30), 'max_depth': range(1, 8)}]\n",
    "\n",
    "model = RandomForestRegressor(random_state=12345)\n",
    "\n",
    "forest_model = GridSearchCV(model, parameters, scoring='neg_mean_squared_error')\n",
    "forest_model = forest_model.fit(features_train, target_train) \n",
    "\n",
    "print('RandomForestRegressor:', mean_squared_error(target_train, forest_model.predict(features_train), squared=False))\n",
    "print('Лучшие параметры:', forest_model.best_params_)"
   ]
  },
  {
   "cell_type": "code",
   "execution_count": 36,
   "metadata": {},
   "outputs": [],
   "source": [
    "%%time\n",
    "\n",
    "model = RandomForestRegressor(n_estimators=24, max_depth=7, random_state=12345)\n",
    "forest_model_train_time = model.fit(features_train, target_train)"
   ]
  },
  {
   "cell_type": "code",
   "execution_count": 37,
   "metadata": {},
   "outputs": [],
   "source": [
    "%%time\n",
    "\n",
    "forest_model_prediction_time = forest_model.predict(features_train)"
   ]
  },
  {
   "cell_type": "code",
   "execution_count": 38,
   "metadata": {},
   "outputs": [],
   "source": [
    "%%time\n",
    "\n",
    "parameters = [{'learning_rate':[0.1, 0.5, 0.8], 'n_estimators' : range(1, 15), 'random_state':[12345]}]\n",
    "\n",
    "model = LGBMRegressor()\n",
    "lgbmr_model = GridSearchCV(model, parameters, scoring='neg_mean_squared_error')\n",
    "lgbmr_model = lgbmr_model.fit(features_train, target_train)\n",
    "\n",
    "print('LGBMRegressor:', mean_squared_error(target_train, lgbmr_model.predict(features_train), squared=False))\n",
    "print('Лучшие параметры:', lgbmr_model.best_params_)"
   ]
  },
  {
   "cell_type": "code",
   "execution_count": 39,
   "metadata": {},
   "outputs": [],
   "source": [
    "%%time\n",
    "\n",
    "model = LGBMRegressor(learning_rate=0.5, n_estimators=14, random_state=12345)\n",
    "lgbmr_model_train_time = model.fit(features_train, target_train)"
   ]
  },
  {
   "cell_type": "code",
   "execution_count": 40,
   "metadata": {},
   "outputs": [],
   "source": [
    "%%time\n",
    "\n",
    "lgbmr_model_prediction_time = lgbmr_model.predict(features_train)"
   ]
  },
  {
   "cell_type": "markdown",
   "metadata": {},
   "source": [
    "## Анализ моделей"
   ]
  },
  {
   "cell_type": "markdown",
   "metadata": {},
   "source": [
    "**Посмотрим, какие результаты показали наши модели.** \n",
    "\n",
    "Лучший результат показала модель CatBoostRegressor: RMSE - **1357.88565394113**. Время обучения - 30.6 s, время предсказания - 226 ms.\n",
    "\n",
    "Модель **дерева решений в регрессии**: RMSE - 1485.5324945707007. Время обучения - 591 ms, время предсказания - 51.3 ms.\n",
    "\n",
    "Модель **случайного леса в регрессии**: RMSE - 2120.590165704048. Время обучения - 6.18 s, время предсказания - 314 ms.\n",
    "\n",
    "Модель **LGBMRegressor**: RMSE - 1753.3677156424444. Время обучения - 32.3 s, время предсказания - 284 ms.\n",
    "\n",
    "Проверим модель с лучшими гиперпараметрами на тестовой выборке. "
   ]
  },
  {
   "cell_type": "code",
   "execution_count": 41,
   "metadata": {},
   "outputs": [
    {
     "name": "stdout",
     "output_type": "stream",
     "text": [
      "Лучший показатель модели CatBoostRegressor на тестовой выборке: 1680.8347583198067\n"
     ]
    }
   ],
   "source": [
    "model = CatBoostRegressor(learning_rate=0.5, random_state=12345, verbose=False) \n",
    "model.fit(features_train, target_train)\n",
    "predictions = model.predict(features_test)\n",
    "result = mean_squared_error(predictions, target_test, squared=False) \n",
    "\n",
    "print('Лучший показатель модели CatBoostRegressor на тестовой выборке:', result)"
   ]
  },
  {
   "cell_type": "markdown",
   "metadata": {},
   "source": [
    "# Подведём итоги работы \n",
    "\n",
    "В ходе работы над проектом мы выполнили следующие шаги:\n",
    "\n",
    "- загрузили и проанализировали данные, выполнили предобработку данных;\n",
    "- выделили признаки и провели кодирование категориальных признаков;\n",
    "- сравнили четыре модели с разными наборами гиперпараметров;\n",
    "- нашли лучшую модель по результатам метрики RMSE и проверили её на тестовой выборке.\n",
    "\n",
    "- **Лучший результат показала модель CatBoostRegressor: RMSE 1357.88565394113 на обучающей выборке и 1680.8347583198067 на тестовой.** \n",
    "\n",
    "**Лучшее время показала модель DecisionTreeRegressor. Время обучения - 591 ms, время предсказания - 51.3 ms. При этом результат метрики RMSE - 1485.5324945707007.**"
   ]
  }
 ],
 "metadata": {
  "ExecuteTimeLog": [
   {
    "duration": 439,
    "start_time": "2023-02-10T14:11:35.324Z"
   },
   {
    "duration": 71,
    "start_time": "2023-02-10T14:11:36.468Z"
   },
   {
    "duration": 1216,
    "start_time": "2023-02-10T14:11:48.934Z"
   },
   {
    "duration": 22,
    "start_time": "2023-02-10T14:11:50.884Z"
   },
   {
    "duration": 143,
    "start_time": "2023-02-10T14:12:02.332Z"
   },
   {
    "duration": 517,
    "start_time": "2023-02-10T14:50:20.960Z"
   },
   {
    "duration": 886,
    "start_time": "2023-02-10T15:12:51.165Z"
   },
   {
    "duration": 186,
    "start_time": "2023-02-10T15:16:00.264Z"
   },
   {
    "duration": 218,
    "start_time": "2023-02-10T15:16:19.367Z"
   },
   {
    "duration": 394,
    "start_time": "2023-02-12T08:13:12.259Z"
   },
   {
    "duration": 1132,
    "start_time": "2023-02-12T08:13:12.655Z"
   },
   {
    "duration": 23,
    "start_time": "2023-02-12T08:13:13.789Z"
   },
   {
    "duration": 138,
    "start_time": "2023-02-12T08:13:13.815Z"
   },
   {
    "duration": 777,
    "start_time": "2023-02-12T08:13:13.955Z"
   },
   {
    "duration": 227,
    "start_time": "2023-02-12T08:13:14.734Z"
   },
   {
    "duration": 430,
    "start_time": "2023-02-12T08:28:09.436Z"
   },
   {
    "duration": 822,
    "start_time": "2023-02-12T08:28:09.869Z"
   },
   {
    "duration": 32,
    "start_time": "2023-02-12T08:28:10.693Z"
   },
   {
    "duration": 190,
    "start_time": "2023-02-12T08:28:10.728Z"
   },
   {
    "duration": 76,
    "start_time": "2023-02-12T08:28:10.920Z"
   },
   {
    "duration": 854,
    "start_time": "2023-02-12T08:28:10.998Z"
   },
   {
    "duration": 13,
    "start_time": "2023-02-12T08:28:11.854Z"
   },
   {
    "duration": 10,
    "start_time": "2023-02-12T08:28:11.869Z"
   },
   {
    "duration": 36,
    "start_time": "2023-02-12T08:28:11.880Z"
   },
   {
    "duration": 334,
    "start_time": "2023-02-12T08:28:11.919Z"
   },
   {
    "duration": 377,
    "start_time": "2023-02-12T08:35:28.894Z"
   },
   {
    "duration": 835,
    "start_time": "2023-02-12T08:35:29.274Z"
   },
   {
    "duration": 20,
    "start_time": "2023-02-12T08:35:30.111Z"
   },
   {
    "duration": 146,
    "start_time": "2023-02-12T08:35:30.133Z"
   },
   {
    "duration": 77,
    "start_time": "2023-02-12T08:35:30.280Z"
   },
   {
    "duration": 886,
    "start_time": "2023-02-12T08:35:30.358Z"
   },
   {
    "duration": 14,
    "start_time": "2023-02-12T08:35:31.246Z"
   },
   {
    "duration": 13,
    "start_time": "2023-02-12T08:35:31.262Z"
   },
   {
    "duration": 35,
    "start_time": "2023-02-12T08:35:31.277Z"
   },
   {
    "duration": 339,
    "start_time": "2023-02-12T08:35:31.314Z"
   },
   {
    "duration": 13,
    "start_time": "2023-02-12T08:35:31.656Z"
   },
   {
    "duration": 39,
    "start_time": "2023-02-12T08:35:31.671Z"
   },
   {
    "duration": 60,
    "start_time": "2023-02-12T08:35:31.712Z"
   },
   {
    "duration": 15,
    "start_time": "2023-02-12T08:35:31.774Z"
   },
   {
    "duration": 46,
    "start_time": "2023-02-12T08:35:31.791Z"
   },
   {
    "duration": 18,
    "start_time": "2023-02-12T08:35:31.839Z"
   },
   {
    "duration": 34,
    "start_time": "2023-02-12T08:35:31.859Z"
   },
   {
    "duration": 53,
    "start_time": "2023-02-12T08:35:31.894Z"
   },
   {
    "duration": 45,
    "start_time": "2023-02-12T08:35:31.949Z"
   },
   {
    "duration": 8,
    "start_time": "2023-02-12T08:35:31.995Z"
   },
   {
    "duration": 14,
    "start_time": "2023-02-12T08:35:32.005Z"
   },
   {
    "duration": 539,
    "start_time": "2023-02-12T08:35:32.021Z"
   },
   {
    "duration": 366,
    "start_time": "2023-02-12T09:00:53.588Z"
   },
   {
    "duration": 804,
    "start_time": "2023-02-12T09:00:53.956Z"
   },
   {
    "duration": 20,
    "start_time": "2023-02-12T09:00:54.762Z"
   },
   {
    "duration": 133,
    "start_time": "2023-02-12T09:00:54.784Z"
   },
   {
    "duration": 73,
    "start_time": "2023-02-12T09:00:54.919Z"
   },
   {
    "duration": 885,
    "start_time": "2023-02-12T09:00:54.993Z"
   },
   {
    "duration": 11,
    "start_time": "2023-02-12T09:00:55.880Z"
   },
   {
    "duration": 14,
    "start_time": "2023-02-12T09:00:55.893Z"
   },
   {
    "duration": 56,
    "start_time": "2023-02-12T09:00:55.909Z"
   },
   {
    "duration": 340,
    "start_time": "2023-02-12T09:00:55.968Z"
   },
   {
    "duration": 13,
    "start_time": "2023-02-12T09:00:56.309Z"
   },
   {
    "duration": 403,
    "start_time": "2023-02-12T09:01:42.578Z"
   },
   {
    "duration": 921,
    "start_time": "2023-02-12T09:01:42.983Z"
   },
   {
    "duration": 24,
    "start_time": "2023-02-12T09:01:43.905Z"
   },
   {
    "duration": 188,
    "start_time": "2023-02-12T09:01:43.931Z"
   },
   {
    "duration": 80,
    "start_time": "2023-02-12T09:01:44.121Z"
   },
   {
    "duration": 992,
    "start_time": "2023-02-12T09:01:44.204Z"
   },
   {
    "duration": 11,
    "start_time": "2023-02-12T09:01:45.198Z"
   },
   {
    "duration": 15,
    "start_time": "2023-02-12T09:01:45.211Z"
   },
   {
    "duration": 59,
    "start_time": "2023-02-12T09:01:45.228Z"
   },
   {
    "duration": 366,
    "start_time": "2023-02-12T09:01:45.290Z"
   },
   {
    "duration": 23,
    "start_time": "2023-02-12T09:01:45.659Z"
   },
   {
    "duration": 456,
    "start_time": "2023-02-12T09:03:08.174Z"
   },
   {
    "duration": 976,
    "start_time": "2023-02-12T09:03:08.632Z"
   },
   {
    "duration": 46,
    "start_time": "2023-02-12T09:03:09.610Z"
   },
   {
    "duration": 245,
    "start_time": "2023-02-12T09:03:09.658Z"
   },
   {
    "duration": 81,
    "start_time": "2023-02-12T09:03:09.906Z"
   },
   {
    "duration": 970,
    "start_time": "2023-02-12T09:03:09.989Z"
   },
   {
    "duration": 15,
    "start_time": "2023-02-12T09:03:10.961Z"
   },
   {
    "duration": 25,
    "start_time": "2023-02-12T09:03:10.978Z"
   },
   {
    "duration": 59,
    "start_time": "2023-02-12T09:03:11.005Z"
   },
   {
    "duration": 381,
    "start_time": "2023-02-12T09:03:11.066Z"
   },
   {
    "duration": 21,
    "start_time": "2023-02-12T09:03:11.453Z"
   },
   {
    "duration": 54105,
    "start_time": "2023-02-12T09:03:11.481Z"
   },
   {
    "duration": 39,
    "start_time": "2023-02-12T09:04:05.587Z"
   },
   {
    "duration": 56,
    "start_time": "2023-02-12T09:04:05.629Z"
   },
   {
    "duration": 13,
    "start_time": "2023-02-12T09:04:05.687Z"
   },
   {
    "duration": 56,
    "start_time": "2023-02-12T09:04:05.702Z"
   },
   {
    "duration": 11,
    "start_time": "2023-02-12T09:04:05.760Z"
   },
   {
    "duration": 46,
    "start_time": "2023-02-12T09:04:05.773Z"
   },
   {
    "duration": 106,
    "start_time": "2023-02-12T09:04:05.821Z"
   },
   {
    "duration": 47,
    "start_time": "2023-02-12T09:04:05.928Z"
   },
   {
    "duration": 29,
    "start_time": "2023-02-12T09:04:05.978Z"
   },
   {
    "duration": 50,
    "start_time": "2023-02-12T09:04:06.009Z"
   },
   {
    "duration": 581,
    "start_time": "2023-02-12T09:04:06.061Z"
   },
   {
    "duration": 420,
    "start_time": "2023-02-12T09:48:08.462Z"
   },
   {
    "duration": 813,
    "start_time": "2023-02-12T09:48:08.884Z"
   },
   {
    "duration": 23,
    "start_time": "2023-02-12T09:48:09.698Z"
   },
   {
    "duration": 166,
    "start_time": "2023-02-12T09:48:09.723Z"
   },
   {
    "duration": 79,
    "start_time": "2023-02-12T09:48:09.891Z"
   },
   {
    "duration": 153,
    "start_time": "2023-02-12T09:48:09.972Z"
   },
   {
    "duration": 47,
    "start_time": "2023-02-12T09:48:10.127Z"
   },
   {
    "duration": 183,
    "start_time": "2023-02-12T09:48:10.176Z"
   },
   {
    "duration": 14,
    "start_time": "2023-02-12T09:48:10.361Z"
   },
   {
    "duration": 2,
    "start_time": "2023-02-12T09:48:10.377Z"
   },
   {
    "duration": 52,
    "start_time": "2023-02-12T09:48:10.381Z"
   },
   {
    "duration": 38,
    "start_time": "2023-02-12T09:48:10.453Z"
   },
   {
    "duration": 13,
    "start_time": "2023-02-12T09:48:10.493Z"
   },
   {
    "duration": 61,
    "start_time": "2023-02-12T09:48:10.507Z"
   },
   {
    "duration": 12,
    "start_time": "2023-02-12T09:48:10.570Z"
   },
   {
    "duration": 41,
    "start_time": "2023-02-12T09:48:10.583Z"
   },
   {
    "duration": 65,
    "start_time": "2023-02-12T09:48:10.625Z"
   },
   {
    "duration": 37,
    "start_time": "2023-02-12T09:48:10.692Z"
   },
   {
    "duration": 31,
    "start_time": "2023-02-12T09:48:10.731Z"
   },
   {
    "duration": 378,
    "start_time": "2023-02-12T09:52:15.997Z"
   },
   {
    "duration": 801,
    "start_time": "2023-02-12T09:52:16.377Z"
   },
   {
    "duration": 23,
    "start_time": "2023-02-12T09:52:17.180Z"
   },
   {
    "duration": 148,
    "start_time": "2023-02-12T09:52:17.205Z"
   },
   {
    "duration": 64,
    "start_time": "2023-02-12T09:52:17.355Z"
   },
   {
    "duration": 181,
    "start_time": "2023-02-12T09:52:17.421Z"
   },
   {
    "duration": 56,
    "start_time": "2023-02-12T09:52:17.603Z"
   },
   {
    "duration": 173,
    "start_time": "2023-02-12T09:52:17.661Z"
   },
   {
    "duration": 20,
    "start_time": "2023-02-12T09:52:17.835Z"
   },
   {
    "duration": 2,
    "start_time": "2023-02-12T09:52:17.858Z"
   },
   {
    "duration": 35,
    "start_time": "2023-02-12T09:52:17.862Z"
   },
   {
    "duration": 35,
    "start_time": "2023-02-12T09:52:17.899Z"
   },
   {
    "duration": 25,
    "start_time": "2023-02-12T09:52:17.935Z"
   },
   {
    "duration": 35,
    "start_time": "2023-02-12T09:52:17.962Z"
   },
   {
    "duration": 9,
    "start_time": "2023-02-12T09:52:17.999Z"
   },
   {
    "duration": 61,
    "start_time": "2023-02-12T09:52:18.010Z"
   },
   {
    "duration": 39,
    "start_time": "2023-02-12T09:52:18.073Z"
   },
   {
    "duration": 48,
    "start_time": "2023-02-12T09:52:18.114Z"
   },
   {
    "duration": 30,
    "start_time": "2023-02-12T10:13:35.490Z"
   },
   {
    "duration": 451,
    "start_time": "2023-02-13T08:59:00.378Z"
   },
   {
    "duration": 3343,
    "start_time": "2023-02-13T08:59:00.831Z"
   },
   {
    "duration": 20,
    "start_time": "2023-02-13T08:59:04.176Z"
   },
   {
    "duration": 134,
    "start_time": "2023-02-13T08:59:04.198Z"
   },
   {
    "duration": 66,
    "start_time": "2023-02-13T08:59:04.334Z"
   },
   {
    "duration": 179,
    "start_time": "2023-02-13T08:59:04.402Z"
   },
   {
    "duration": 68,
    "start_time": "2023-02-13T08:59:04.584Z"
   },
   {
    "duration": 205,
    "start_time": "2023-02-13T08:59:04.654Z"
   },
   {
    "duration": 13,
    "start_time": "2023-02-13T08:59:04.862Z"
   },
   {
    "duration": 81,
    "start_time": "2023-02-13T08:59:04.877Z"
   },
   {
    "duration": 0,
    "start_time": "2023-02-13T08:59:04.960Z"
   },
   {
    "duration": 0,
    "start_time": "2023-02-13T08:59:04.961Z"
   },
   {
    "duration": 0,
    "start_time": "2023-02-13T08:59:04.962Z"
   },
   {
    "duration": 0,
    "start_time": "2023-02-13T08:59:04.963Z"
   },
   {
    "duration": 0,
    "start_time": "2023-02-13T08:59:04.964Z"
   },
   {
    "duration": 0,
    "start_time": "2023-02-13T08:59:04.965Z"
   },
   {
    "duration": 0,
    "start_time": "2023-02-13T08:59:04.966Z"
   },
   {
    "duration": 0,
    "start_time": "2023-02-13T08:59:04.967Z"
   },
   {
    "duration": 397,
    "start_time": "2023-02-13T08:59:48.983Z"
   },
   {
    "duration": 820,
    "start_time": "2023-02-13T08:59:49.382Z"
   },
   {
    "duration": 39,
    "start_time": "2023-02-13T08:59:50.204Z"
   },
   {
    "duration": 161,
    "start_time": "2023-02-13T08:59:50.247Z"
   },
   {
    "duration": 70,
    "start_time": "2023-02-13T08:59:50.410Z"
   },
   {
    "duration": 158,
    "start_time": "2023-02-13T08:59:50.482Z"
   },
   {
    "duration": 36,
    "start_time": "2023-02-13T08:59:50.641Z"
   },
   {
    "duration": 177,
    "start_time": "2023-02-13T08:59:50.679Z"
   },
   {
    "duration": 15,
    "start_time": "2023-02-13T08:59:50.858Z"
   },
   {
    "duration": 61,
    "start_time": "2023-02-13T08:59:50.875Z"
   },
   {
    "duration": 33,
    "start_time": "2023-02-13T08:59:50.938Z"
   },
   {
    "duration": 52,
    "start_time": "2023-02-13T08:59:50.973Z"
   },
   {
    "duration": 12,
    "start_time": "2023-02-13T08:59:51.026Z"
   },
   {
    "duration": 20,
    "start_time": "2023-02-13T08:59:51.039Z"
   },
   {
    "duration": 13,
    "start_time": "2023-02-13T08:59:51.061Z"
   },
   {
    "duration": 68,
    "start_time": "2023-02-13T08:59:51.076Z"
   },
   {
    "duration": 37,
    "start_time": "2023-02-13T08:59:51.145Z"
   },
   {
    "duration": 55,
    "start_time": "2023-02-13T08:59:51.183Z"
   },
   {
    "duration": 36,
    "start_time": "2023-02-13T09:12:46.858Z"
   },
   {
    "duration": 88,
    "start_time": "2023-02-13T09:21:44.368Z"
   },
   {
    "duration": 442,
    "start_time": "2023-02-13T09:21:59.108Z"
   },
   {
    "duration": 907,
    "start_time": "2023-02-13T09:21:59.552Z"
   },
   {
    "duration": 23,
    "start_time": "2023-02-13T09:22:00.460Z"
   },
   {
    "duration": 153,
    "start_time": "2023-02-13T09:22:00.485Z"
   },
   {
    "duration": 68,
    "start_time": "2023-02-13T09:22:00.640Z"
   },
   {
    "duration": 169,
    "start_time": "2023-02-13T09:22:00.710Z"
   },
   {
    "duration": 47,
    "start_time": "2023-02-13T09:22:00.881Z"
   },
   {
    "duration": 178,
    "start_time": "2023-02-13T09:22:00.929Z"
   },
   {
    "duration": 19,
    "start_time": "2023-02-13T09:22:01.109Z"
   },
   {
    "duration": 56,
    "start_time": "2023-02-13T09:22:01.131Z"
   },
   {
    "duration": 41,
    "start_time": "2023-02-13T09:22:01.189Z"
   },
   {
    "duration": 73,
    "start_time": "2023-02-13T09:22:01.231Z"
   },
   {
    "duration": 69,
    "start_time": "2023-02-13T09:22:01.306Z"
   },
   {
    "duration": 39,
    "start_time": "2023-02-13T09:22:01.376Z"
   },
   {
    "duration": 98,
    "start_time": "2023-02-13T09:22:01.417Z"
   },
   {
    "duration": 0,
    "start_time": "2023-02-13T09:22:01.517Z"
   },
   {
    "duration": 0,
    "start_time": "2023-02-13T09:22:01.519Z"
   },
   {
    "duration": 0,
    "start_time": "2023-02-13T09:22:01.521Z"
   },
   {
    "duration": 0,
    "start_time": "2023-02-13T09:22:01.522Z"
   },
   {
    "duration": 8,
    "start_time": "2023-02-13T09:22:26.497Z"
   },
   {
    "duration": 11,
    "start_time": "2023-02-13T09:24:08.732Z"
   },
   {
    "duration": 10,
    "start_time": "2023-02-13T09:25:40.358Z"
   },
   {
    "duration": 388,
    "start_time": "2023-02-13T09:30:47.977Z"
   },
   {
    "duration": 864,
    "start_time": "2023-02-13T09:30:48.367Z"
   },
   {
    "duration": 22,
    "start_time": "2023-02-13T09:30:49.233Z"
   },
   {
    "duration": 156,
    "start_time": "2023-02-13T09:30:49.257Z"
   },
   {
    "duration": 71,
    "start_time": "2023-02-13T09:30:49.421Z"
   },
   {
    "duration": 170,
    "start_time": "2023-02-13T09:30:49.493Z"
   },
   {
    "duration": 38,
    "start_time": "2023-02-13T09:30:49.665Z"
   },
   {
    "duration": 166,
    "start_time": "2023-02-13T09:30:49.721Z"
   },
   {
    "duration": 14,
    "start_time": "2023-02-13T09:30:49.889Z"
   },
   {
    "duration": 57,
    "start_time": "2023-02-13T09:30:49.905Z"
   },
   {
    "duration": 33,
    "start_time": "2023-02-13T09:30:49.964Z"
   },
   {
    "duration": 49,
    "start_time": "2023-02-13T09:30:49.999Z"
   },
   {
    "duration": 13,
    "start_time": "2023-02-13T09:30:50.050Z"
   },
   {
    "duration": 61,
    "start_time": "2023-02-13T09:30:50.065Z"
   },
   {
    "duration": 66,
    "start_time": "2023-02-13T09:30:50.128Z"
   },
   {
    "duration": 0,
    "start_time": "2023-02-13T09:30:50.196Z"
   },
   {
    "duration": 0,
    "start_time": "2023-02-13T09:30:50.197Z"
   },
   {
    "duration": 0,
    "start_time": "2023-02-13T09:30:50.198Z"
   },
   {
    "duration": 0,
    "start_time": "2023-02-13T09:30:50.221Z"
   },
   {
    "duration": 456,
    "start_time": "2023-02-13T09:31:07.614Z"
   },
   {
    "duration": 890,
    "start_time": "2023-02-13T09:31:08.072Z"
   },
   {
    "duration": 21,
    "start_time": "2023-02-13T09:31:08.964Z"
   },
   {
    "duration": 155,
    "start_time": "2023-02-13T09:31:08.986Z"
   },
   {
    "duration": 79,
    "start_time": "2023-02-13T09:31:09.143Z"
   },
   {
    "duration": 158,
    "start_time": "2023-02-13T09:31:09.224Z"
   },
   {
    "duration": 45,
    "start_time": "2023-02-13T09:31:09.384Z"
   },
   {
    "duration": 175,
    "start_time": "2023-02-13T09:31:09.431Z"
   },
   {
    "duration": 21,
    "start_time": "2023-02-13T09:31:09.608Z"
   },
   {
    "duration": 45,
    "start_time": "2023-02-13T09:31:09.631Z"
   },
   {
    "duration": 52,
    "start_time": "2023-02-13T09:31:09.678Z"
   },
   {
    "duration": 36,
    "start_time": "2023-02-13T09:31:09.731Z"
   },
   {
    "duration": 11,
    "start_time": "2023-02-13T09:31:09.769Z"
   },
   {
    "duration": 57,
    "start_time": "2023-02-13T09:31:09.783Z"
   },
   {
    "duration": 39,
    "start_time": "2023-02-13T09:31:09.842Z"
   },
   {
    "duration": 11,
    "start_time": "2023-02-13T09:31:09.883Z"
   },
   {
    "duration": 56,
    "start_time": "2023-02-13T09:31:09.896Z"
   },
   {
    "duration": 48,
    "start_time": "2023-02-13T09:31:09.954Z"
   },
   {
    "duration": 35,
    "start_time": "2023-02-13T09:31:10.021Z"
   },
   {
    "duration": 34,
    "start_time": "2023-02-13T09:31:31.658Z"
   },
   {
    "duration": 421,
    "start_time": "2023-02-13T09:32:14.273Z"
   },
   {
    "duration": 983,
    "start_time": "2023-02-13T09:32:14.697Z"
   },
   {
    "duration": 24,
    "start_time": "2023-02-13T09:32:15.682Z"
   },
   {
    "duration": 169,
    "start_time": "2023-02-13T09:32:15.708Z"
   },
   {
    "duration": 81,
    "start_time": "2023-02-13T09:32:15.880Z"
   },
   {
    "duration": 176,
    "start_time": "2023-02-13T09:32:15.963Z"
   },
   {
    "duration": 50,
    "start_time": "2023-02-13T09:32:16.142Z"
   },
   {
    "duration": 250,
    "start_time": "2023-02-13T09:32:16.193Z"
   },
   {
    "duration": 14,
    "start_time": "2023-02-13T09:32:16.445Z"
   },
   {
    "duration": 62,
    "start_time": "2023-02-13T09:32:16.461Z"
   },
   {
    "duration": 35,
    "start_time": "2023-02-13T09:32:16.525Z"
   },
   {
    "duration": 60,
    "start_time": "2023-02-13T09:32:16.562Z"
   },
   {
    "duration": 15,
    "start_time": "2023-02-13T09:32:16.624Z"
   },
   {
    "duration": 39,
    "start_time": "2023-02-13T09:32:16.641Z"
   },
   {
    "duration": 116,
    "start_time": "2023-02-13T09:32:16.682Z"
   },
   {
    "duration": 0,
    "start_time": "2023-02-13T09:32:16.799Z"
   },
   {
    "duration": 0,
    "start_time": "2023-02-13T09:32:16.801Z"
   },
   {
    "duration": 0,
    "start_time": "2023-02-13T09:32:16.802Z"
   },
   {
    "duration": 0,
    "start_time": "2023-02-13T09:32:16.803Z"
   },
   {
    "duration": 435,
    "start_time": "2023-02-13T09:32:29.810Z"
   },
   {
    "duration": 937,
    "start_time": "2023-02-13T09:32:30.247Z"
   },
   {
    "duration": 23,
    "start_time": "2023-02-13T09:32:31.186Z"
   },
   {
    "duration": 158,
    "start_time": "2023-02-13T09:32:31.221Z"
   },
   {
    "duration": 79,
    "start_time": "2023-02-13T09:32:31.381Z"
   },
   {
    "duration": 171,
    "start_time": "2023-02-13T09:32:31.461Z"
   },
   {
    "duration": 47,
    "start_time": "2023-02-13T09:32:31.633Z"
   },
   {
    "duration": 187,
    "start_time": "2023-02-13T09:32:31.682Z"
   },
   {
    "duration": 14,
    "start_time": "2023-02-13T09:32:31.871Z"
   },
   {
    "duration": 64,
    "start_time": "2023-02-13T09:32:31.888Z"
   },
   {
    "duration": 38,
    "start_time": "2023-02-13T09:32:31.954Z"
   },
   {
    "duration": 55,
    "start_time": "2023-02-13T09:32:31.994Z"
   },
   {
    "duration": 20,
    "start_time": "2023-02-13T09:32:32.051Z"
   },
   {
    "duration": 55,
    "start_time": "2023-02-13T09:32:32.072Z"
   },
   {
    "duration": 65,
    "start_time": "2023-02-13T09:32:32.128Z"
   },
   {
    "duration": 30,
    "start_time": "2023-02-13T09:32:32.195Z"
   },
   {
    "duration": 39,
    "start_time": "2023-02-13T09:32:32.228Z"
   },
   {
    "duration": 55,
    "start_time": "2023-02-13T09:32:32.269Z"
   },
   {
    "duration": 56,
    "start_time": "2023-02-13T09:32:32.327Z"
   },
   {
    "duration": 24,
    "start_time": "2023-02-13T09:33:27.287Z"
   },
   {
    "duration": 472,
    "start_time": "2023-02-13T09:37:54.495Z"
   },
   {
    "duration": 921,
    "start_time": "2023-02-13T09:37:54.970Z"
   },
   {
    "duration": 29,
    "start_time": "2023-02-13T09:37:55.893Z"
   },
   {
    "duration": 138,
    "start_time": "2023-02-13T09:37:55.924Z"
   },
   {
    "duration": 77,
    "start_time": "2023-02-13T09:37:56.064Z"
   },
   {
    "duration": 154,
    "start_time": "2023-02-13T09:37:56.143Z"
   },
   {
    "duration": 59,
    "start_time": "2023-02-13T09:37:56.299Z"
   },
   {
    "duration": 186,
    "start_time": "2023-02-13T09:37:56.360Z"
   },
   {
    "duration": 15,
    "start_time": "2023-02-13T09:37:56.548Z"
   },
   {
    "duration": 56,
    "start_time": "2023-02-13T09:37:56.567Z"
   },
   {
    "duration": 39,
    "start_time": "2023-02-13T09:37:56.625Z"
   },
   {
    "duration": 63,
    "start_time": "2023-02-13T09:37:56.666Z"
   },
   {
    "duration": 16,
    "start_time": "2023-02-13T09:37:56.731Z"
   },
   {
    "duration": 48,
    "start_time": "2023-02-13T09:37:56.749Z"
   },
   {
    "duration": 59,
    "start_time": "2023-02-13T09:37:56.799Z"
   },
   {
    "duration": 11,
    "start_time": "2023-02-13T09:37:56.860Z"
   },
   {
    "duration": 59,
    "start_time": "2023-02-13T09:37:56.873Z"
   },
   {
    "duration": 50,
    "start_time": "2023-02-13T09:37:56.933Z"
   },
   {
    "duration": 52,
    "start_time": "2023-02-13T09:37:56.985Z"
   },
   {
    "duration": 444,
    "start_time": "2023-02-13T09:47:47.432Z"
   },
   {
    "duration": 1021,
    "start_time": "2023-02-13T09:47:47.879Z"
   },
   {
    "duration": 32,
    "start_time": "2023-02-13T09:47:48.902Z"
   },
   {
    "duration": 172,
    "start_time": "2023-02-13T09:47:48.938Z"
   },
   {
    "duration": 81,
    "start_time": "2023-02-13T09:47:49.111Z"
   },
   {
    "duration": 194,
    "start_time": "2023-02-13T09:47:49.194Z"
   },
   {
    "duration": 53,
    "start_time": "2023-02-13T09:47:49.390Z"
   },
   {
    "duration": 198,
    "start_time": "2023-02-13T09:47:49.446Z"
   },
   {
    "duration": 14,
    "start_time": "2023-02-13T09:47:49.646Z"
   },
   {
    "duration": 65,
    "start_time": "2023-02-13T09:47:49.663Z"
   },
   {
    "duration": 38,
    "start_time": "2023-02-13T09:47:49.731Z"
   },
   {
    "duration": 54,
    "start_time": "2023-02-13T09:47:49.771Z"
   },
   {
    "duration": 28,
    "start_time": "2023-02-13T09:47:49.827Z"
   },
   {
    "duration": 28,
    "start_time": "2023-02-13T09:47:49.857Z"
   },
   {
    "duration": 52,
    "start_time": "2023-02-13T09:47:49.886Z"
   },
   {
    "duration": 40,
    "start_time": "2023-02-13T09:47:49.940Z"
   },
   {
    "duration": 11,
    "start_time": "2023-02-13T09:47:49.982Z"
   },
   {
    "duration": 58,
    "start_time": "2023-02-13T09:47:49.995Z"
   },
   {
    "duration": 47,
    "start_time": "2023-02-13T09:47:50.056Z"
   },
   {
    "duration": 42,
    "start_time": "2023-02-13T09:47:50.106Z"
   },
   {
    "duration": 403,
    "start_time": "2023-02-13T09:51:51.750Z"
   },
   {
    "duration": 935,
    "start_time": "2023-02-13T09:51:52.155Z"
   },
   {
    "duration": 30,
    "start_time": "2023-02-13T09:51:53.091Z"
   },
   {
    "duration": 166,
    "start_time": "2023-02-13T09:51:53.124Z"
   },
   {
    "duration": 84,
    "start_time": "2023-02-13T09:51:53.292Z"
   },
   {
    "duration": 176,
    "start_time": "2023-02-13T09:51:53.378Z"
   },
   {
    "duration": 40,
    "start_time": "2023-02-13T09:51:53.556Z"
   },
   {
    "duration": 207,
    "start_time": "2023-02-13T09:51:53.598Z"
   },
   {
    "duration": 30,
    "start_time": "2023-02-13T09:51:53.807Z"
   },
   {
    "duration": 44,
    "start_time": "2023-02-13T09:51:53.841Z"
   },
   {
    "duration": 55,
    "start_time": "2023-02-13T09:51:53.887Z"
   },
   {
    "duration": 35,
    "start_time": "2023-02-13T09:51:53.944Z"
   },
   {
    "duration": 14,
    "start_time": "2023-02-13T09:51:53.981Z"
   },
   {
    "duration": 58,
    "start_time": "2023-02-13T09:51:53.997Z"
   },
   {
    "duration": 28,
    "start_time": "2023-02-13T09:51:54.056Z"
   },
   {
    "duration": 68,
    "start_time": "2023-02-13T09:51:54.086Z"
   },
   {
    "duration": 9,
    "start_time": "2023-02-13T09:51:54.157Z"
   },
   {
    "duration": 25,
    "start_time": "2023-02-13T09:51:54.168Z"
   },
   {
    "duration": 55,
    "start_time": "2023-02-13T09:51:54.195Z"
   },
   {
    "duration": 28,
    "start_time": "2023-02-13T09:51:54.252Z"
   },
   {
    "duration": 53,
    "start_time": "2023-02-13T09:51:54.282Z"
   },
   {
    "duration": 1168,
    "start_time": "2023-02-13T10:42:29.321Z"
   },
   {
    "duration": 847,
    "start_time": "2023-02-13T10:42:30.491Z"
   },
   {
    "duration": 22,
    "start_time": "2023-02-13T10:42:31.340Z"
   },
   {
    "duration": 158,
    "start_time": "2023-02-13T10:42:31.364Z"
   },
   {
    "duration": 67,
    "start_time": "2023-02-13T10:42:31.524Z"
   },
   {
    "duration": 167,
    "start_time": "2023-02-13T10:42:31.593Z"
   },
   {
    "duration": 39,
    "start_time": "2023-02-13T10:42:31.762Z"
   },
   {
    "duration": 186,
    "start_time": "2023-02-13T10:42:31.803Z"
   },
   {
    "duration": 31,
    "start_time": "2023-02-13T10:42:31.991Z"
   },
   {
    "duration": 43,
    "start_time": "2023-02-13T10:42:32.024Z"
   },
   {
    "duration": 33,
    "start_time": "2023-02-13T10:42:32.069Z"
   },
   {
    "duration": 47,
    "start_time": "2023-02-13T10:42:32.104Z"
   },
   {
    "duration": 44,
    "start_time": "2023-02-13T10:42:32.152Z"
   },
   {
    "duration": 77,
    "start_time": "2023-02-13T10:42:32.198Z"
   },
   {
    "duration": 40,
    "start_time": "2023-02-13T10:42:32.276Z"
   },
   {
    "duration": 80,
    "start_time": "2023-02-13T10:42:32.318Z"
   },
   {
    "duration": 57,
    "start_time": "2023-02-13T10:42:32.400Z"
   },
   {
    "duration": 83,
    "start_time": "2023-02-13T10:42:32.459Z"
   },
   {
    "duration": 168,
    "start_time": "2023-02-13T10:42:32.544Z"
   },
   {
    "duration": 0,
    "start_time": "2023-02-13T10:42:32.714Z"
   },
   {
    "duration": 0,
    "start_time": "2023-02-13T10:42:32.715Z"
   },
   {
    "duration": 0,
    "start_time": "2023-02-13T10:42:32.720Z"
   },
   {
    "duration": 10,
    "start_time": "2023-02-13T10:44:08.469Z"
   },
   {
    "duration": 1110,
    "start_time": "2023-02-13T10:44:39.143Z"
   },
   {
    "duration": 884,
    "start_time": "2023-02-13T10:44:40.255Z"
   },
   {
    "duration": 24,
    "start_time": "2023-02-13T10:44:41.140Z"
   },
   {
    "duration": 143,
    "start_time": "2023-02-13T10:44:41.166Z"
   },
   {
    "duration": 69,
    "start_time": "2023-02-13T10:44:41.320Z"
   },
   {
    "duration": 173,
    "start_time": "2023-02-13T10:44:41.391Z"
   },
   {
    "duration": 40,
    "start_time": "2023-02-13T10:44:41.565Z"
   },
   {
    "duration": 216,
    "start_time": "2023-02-13T10:44:41.607Z"
   },
   {
    "duration": 12,
    "start_time": "2023-02-13T10:44:41.825Z"
   },
   {
    "duration": 42,
    "start_time": "2023-02-13T10:44:41.840Z"
   },
   {
    "duration": 58,
    "start_time": "2023-02-13T10:44:41.884Z"
   },
   {
    "duration": 36,
    "start_time": "2023-02-13T10:44:41.944Z"
   },
   {
    "duration": 39,
    "start_time": "2023-02-13T10:44:41.982Z"
   },
   {
    "duration": 30,
    "start_time": "2023-02-13T10:44:42.023Z"
   },
   {
    "duration": 27,
    "start_time": "2023-02-13T10:44:42.055Z"
   },
   {
    "duration": 61,
    "start_time": "2023-02-13T10:44:42.084Z"
   },
   {
    "duration": 10,
    "start_time": "2023-02-13T10:44:42.147Z"
   },
   {
    "duration": 26,
    "start_time": "2023-02-13T10:44:42.159Z"
   },
   {
    "duration": 133,
    "start_time": "2023-02-13T10:44:42.187Z"
   },
   {
    "duration": 0,
    "start_time": "2023-02-13T10:44:42.322Z"
   },
   {
    "duration": 0,
    "start_time": "2023-02-13T10:44:42.324Z"
   },
   {
    "duration": 0,
    "start_time": "2023-02-13T10:44:42.326Z"
   },
   {
    "duration": 531,
    "start_time": "2023-02-13T10:45:54.741Z"
   },
   {
    "duration": 863,
    "start_time": "2023-02-13T10:45:55.274Z"
   },
   {
    "duration": 24,
    "start_time": "2023-02-13T10:45:56.139Z"
   },
   {
    "duration": 203,
    "start_time": "2023-02-13T10:45:56.165Z"
   },
   {
    "duration": 75,
    "start_time": "2023-02-13T10:45:56.370Z"
   },
   {
    "duration": 180,
    "start_time": "2023-02-13T10:45:56.447Z"
   },
   {
    "duration": 52,
    "start_time": "2023-02-13T10:45:56.629Z"
   },
   {
    "duration": 236,
    "start_time": "2023-02-13T10:45:56.683Z"
   },
   {
    "duration": 18,
    "start_time": "2023-02-13T10:45:56.921Z"
   },
   {
    "duration": 48,
    "start_time": "2023-02-13T10:45:56.942Z"
   },
   {
    "duration": 52,
    "start_time": "2023-02-13T10:45:56.991Z"
   },
   {
    "duration": 34,
    "start_time": "2023-02-13T10:45:57.045Z"
   },
   {
    "duration": 14,
    "start_time": "2023-02-13T10:45:57.081Z"
   },
   {
    "duration": 31,
    "start_time": "2023-02-13T10:45:57.120Z"
   },
   {
    "duration": 28,
    "start_time": "2023-02-13T10:45:57.155Z"
   },
   {
    "duration": 57,
    "start_time": "2023-02-13T10:45:57.186Z"
   },
   {
    "duration": 9,
    "start_time": "2023-02-13T10:45:57.245Z"
   },
   {
    "duration": 153,
    "start_time": "2023-02-13T10:45:57.255Z"
   },
   {
    "duration": 27,
    "start_time": "2023-02-13T10:45:57.410Z"
   },
   {
    "duration": 27,
    "start_time": "2023-02-13T10:45:57.439Z"
   },
   {
    "duration": 69,
    "start_time": "2023-02-13T10:45:57.467Z"
   },
   {
    "duration": 37,
    "start_time": "2023-02-13T10:57:00.585Z"
   },
   {
    "duration": 396,
    "start_time": "2023-02-13T13:29:01.960Z"
   },
   {
    "duration": 903,
    "start_time": "2023-02-13T13:29:02.358Z"
   },
   {
    "duration": 24,
    "start_time": "2023-02-13T13:29:03.263Z"
   },
   {
    "duration": 170,
    "start_time": "2023-02-13T13:29:03.289Z"
   },
   {
    "duration": 77,
    "start_time": "2023-02-13T13:29:03.462Z"
   },
   {
    "duration": 163,
    "start_time": "2023-02-13T13:29:03.541Z"
   },
   {
    "duration": 56,
    "start_time": "2023-02-13T13:29:03.706Z"
   },
   {
    "duration": 193,
    "start_time": "2023-02-13T13:29:03.764Z"
   },
   {
    "duration": 14,
    "start_time": "2023-02-13T13:29:03.959Z"
   },
   {
    "duration": 62,
    "start_time": "2023-02-13T13:29:03.975Z"
   },
   {
    "duration": 37,
    "start_time": "2023-02-13T13:29:04.038Z"
   },
   {
    "duration": 87,
    "start_time": "2023-02-13T13:29:04.076Z"
   },
   {
    "duration": 12,
    "start_time": "2023-02-13T13:29:04.165Z"
   },
   {
    "duration": 44,
    "start_time": "2023-02-13T13:29:04.180Z"
   },
   {
    "duration": 29,
    "start_time": "2023-02-13T13:29:04.226Z"
   },
   {
    "duration": 37,
    "start_time": "2023-02-13T13:29:04.257Z"
   },
   {
    "duration": 31,
    "start_time": "2023-02-13T13:29:04.296Z"
   },
   {
    "duration": 26,
    "start_time": "2023-02-13T13:29:04.329Z"
   },
   {
    "duration": 107,
    "start_time": "2023-02-13T13:29:04.357Z"
   },
   {
    "duration": 28,
    "start_time": "2023-02-13T13:29:04.466Z"
   },
   {
    "duration": 40,
    "start_time": "2023-02-13T13:29:04.497Z"
   },
   {
    "duration": 35,
    "start_time": "2023-02-13T13:29:04.539Z"
   },
   {
    "duration": 441,
    "start_time": "2023-02-13T13:40:03.479Z"
   },
   {
    "duration": 1080,
    "start_time": "2023-02-13T13:40:03.926Z"
   },
   {
    "duration": 37,
    "start_time": "2023-02-13T13:40:05.009Z"
   },
   {
    "duration": 190,
    "start_time": "2023-02-13T13:40:05.049Z"
   },
   {
    "duration": 63,
    "start_time": "2023-02-13T13:40:05.240Z"
   },
   {
    "duration": 182,
    "start_time": "2023-02-13T13:40:05.305Z"
   },
   {
    "duration": 50,
    "start_time": "2023-02-13T13:40:05.489Z"
   },
   {
    "duration": 194,
    "start_time": "2023-02-13T13:40:05.541Z"
   },
   {
    "duration": 14,
    "start_time": "2023-02-13T13:40:05.737Z"
   },
   {
    "duration": 48,
    "start_time": "2023-02-13T13:40:05.754Z"
   },
   {
    "duration": 51,
    "start_time": "2023-02-13T13:40:05.804Z"
   },
   {
    "duration": 40,
    "start_time": "2023-02-13T13:40:05.857Z"
   },
   {
    "duration": 38,
    "start_time": "2023-02-13T13:40:05.900Z"
   },
   {
    "duration": 31,
    "start_time": "2023-02-13T13:40:05.940Z"
   },
   {
    "duration": 30,
    "start_time": "2023-02-13T13:40:05.972Z"
   },
   {
    "duration": 60,
    "start_time": "2023-02-13T13:40:06.003Z"
   },
   {
    "duration": 10,
    "start_time": "2023-02-13T13:40:06.065Z"
   },
   {
    "duration": 45,
    "start_time": "2023-02-13T13:40:06.077Z"
   },
   {
    "duration": 741,
    "start_time": "2023-02-13T13:40:06.138Z"
   },
   {
    "duration": 0,
    "start_time": "2023-02-13T13:40:06.882Z"
   },
   {
    "duration": 0,
    "start_time": "2023-02-13T13:40:06.883Z"
   },
   {
    "duration": 0,
    "start_time": "2023-02-13T13:40:06.884Z"
   },
   {
    "duration": 2716,
    "start_time": "2023-02-13T13:40:32.141Z"
   },
   {
    "duration": 2680,
    "start_time": "2023-02-13T13:40:49.183Z"
   },
   {
    "duration": 2349,
    "start_time": "2023-02-13T13:43:15.287Z"
   },
   {
    "duration": 1401,
    "start_time": "2023-02-13T13:44:18.877Z"
   },
   {
    "duration": 2336,
    "start_time": "2023-02-13T13:44:34.031Z"
   },
   {
    "duration": 29,
    "start_time": "2023-02-13T13:45:11.898Z"
   },
   {
    "duration": 2531,
    "start_time": "2023-02-13T13:51:31.199Z"
   },
   {
    "duration": 2572,
    "start_time": "2023-02-13T13:51:42.989Z"
   },
   {
    "duration": 2426,
    "start_time": "2023-02-13T13:52:02.076Z"
   },
   {
    "duration": 459,
    "start_time": "2023-02-13T13:53:59.481Z"
   },
   {
    "duration": 1004,
    "start_time": "2023-02-13T13:53:59.942Z"
   },
   {
    "duration": 25,
    "start_time": "2023-02-13T13:54:00.948Z"
   },
   {
    "duration": 226,
    "start_time": "2023-02-13T13:54:00.975Z"
   },
   {
    "duration": 109,
    "start_time": "2023-02-13T13:54:01.203Z"
   },
   {
    "duration": 177,
    "start_time": "2023-02-13T13:54:01.314Z"
   },
   {
    "duration": 63,
    "start_time": "2023-02-13T13:54:01.493Z"
   },
   {
    "duration": 232,
    "start_time": "2023-02-13T13:54:01.559Z"
   },
   {
    "duration": 16,
    "start_time": "2023-02-13T13:54:01.793Z"
   },
   {
    "duration": 47,
    "start_time": "2023-02-13T13:54:01.822Z"
   },
   {
    "duration": 37,
    "start_time": "2023-02-13T13:54:01.871Z"
   },
   {
    "duration": 4417,
    "start_time": "2023-02-13T13:54:01.911Z"
   },
   {
    "duration": 58,
    "start_time": "2023-02-13T13:54:06.330Z"
   },
   {
    "duration": 11,
    "start_time": "2023-02-13T13:54:06.390Z"
   },
   {
    "duration": 55,
    "start_time": "2023-02-13T13:54:06.403Z"
   },
   {
    "duration": 30,
    "start_time": "2023-02-13T13:54:06.460Z"
   },
   {
    "duration": 70,
    "start_time": "2023-02-13T13:54:06.491Z"
   },
   {
    "duration": 10,
    "start_time": "2023-02-13T13:54:06.563Z"
   },
   {
    "duration": 36,
    "start_time": "2023-02-13T13:54:06.575Z"
   },
   {
    "duration": 2670,
    "start_time": "2023-02-13T13:54:06.613Z"
   },
   {
    "duration": 50,
    "start_time": "2023-02-13T13:54:09.285Z"
   },
   {
    "duration": 27,
    "start_time": "2023-02-13T13:54:09.337Z"
   },
   {
    "duration": 37,
    "start_time": "2023-02-13T13:54:09.366Z"
   },
   {
    "duration": 34,
    "start_time": "2023-02-13T13:59:55.273Z"
   },
   {
    "duration": 386,
    "start_time": "2023-02-13T14:00:07.072Z"
   },
   {
    "duration": 909,
    "start_time": "2023-02-13T14:00:07.460Z"
   },
   {
    "duration": 26,
    "start_time": "2023-02-13T14:00:08.371Z"
   },
   {
    "duration": 161,
    "start_time": "2023-02-13T14:00:08.400Z"
   },
   {
    "duration": 77,
    "start_time": "2023-02-13T14:00:08.562Z"
   },
   {
    "duration": 165,
    "start_time": "2023-02-13T14:00:08.641Z"
   },
   {
    "duration": 45,
    "start_time": "2023-02-13T14:00:08.808Z"
   },
   {
    "duration": 183,
    "start_time": "2023-02-13T14:00:08.855Z"
   },
   {
    "duration": 14,
    "start_time": "2023-02-13T14:00:09.039Z"
   },
   {
    "duration": 45,
    "start_time": "2023-02-13T14:00:09.056Z"
   },
   {
    "duration": 52,
    "start_time": "2023-02-13T14:00:09.102Z"
   },
   {
    "duration": 44,
    "start_time": "2023-02-13T14:00:09.156Z"
   },
   {
    "duration": 64,
    "start_time": "2023-02-13T14:00:09.202Z"
   },
   {
    "duration": 11,
    "start_time": "2023-02-13T14:00:09.267Z"
   },
   {
    "duration": 50,
    "start_time": "2023-02-13T14:00:09.280Z"
   },
   {
    "duration": 26,
    "start_time": "2023-02-13T14:00:09.332Z"
   },
   {
    "duration": 36,
    "start_time": "2023-02-13T14:00:09.360Z"
   },
   {
    "duration": 28,
    "start_time": "2023-02-13T14:00:09.398Z"
   },
   {
    "duration": 27,
    "start_time": "2023-02-13T14:00:09.428Z"
   },
   {
    "duration": 28,
    "start_time": "2023-02-13T14:00:09.456Z"
   },
   {
    "duration": 55,
    "start_time": "2023-02-13T14:00:09.486Z"
   },
   {
    "duration": 34,
    "start_time": "2023-02-13T14:00:09.543Z"
   },
   {
    "duration": 27,
    "start_time": "2023-02-13T14:02:40.937Z"
   },
   {
    "duration": 26,
    "start_time": "2023-02-13T14:06:27.922Z"
   },
   {
    "duration": 1160,
    "start_time": "2023-02-13T14:36:28.021Z"
   },
   {
    "duration": 393,
    "start_time": "2023-02-13T14:39:15.550Z"
   },
   {
    "duration": 381,
    "start_time": "2023-02-13T14:42:00.384Z"
   },
   {
    "duration": 949,
    "start_time": "2023-02-13T14:44:52.935Z"
   },
   {
    "duration": 287,
    "start_time": "2023-02-13T14:46:57.498Z"
   },
   {
    "duration": 262,
    "start_time": "2023-02-13T14:47:53.779Z"
   },
   {
    "duration": 184,
    "start_time": "2023-02-13T14:48:09.117Z"
   },
   {
    "duration": 981,
    "start_time": "2023-02-13T14:50:29.219Z"
   },
   {
    "duration": 940,
    "start_time": "2023-02-13T14:52:04.446Z"
   },
   {
    "duration": 392,
    "start_time": "2023-02-13T14:52:42.464Z"
   },
   {
    "duration": 935,
    "start_time": "2023-02-13T14:52:42.858Z"
   },
   {
    "duration": 27,
    "start_time": "2023-02-13T14:52:43.795Z"
   },
   {
    "duration": 156,
    "start_time": "2023-02-13T14:52:43.825Z"
   },
   {
    "duration": 82,
    "start_time": "2023-02-13T14:52:43.983Z"
   },
   {
    "duration": 166,
    "start_time": "2023-02-13T14:52:44.067Z"
   },
   {
    "duration": 38,
    "start_time": "2023-02-13T14:52:44.235Z"
   },
   {
    "duration": 174,
    "start_time": "2023-02-13T14:52:44.274Z"
   },
   {
    "duration": 13,
    "start_time": "2023-02-13T14:52:44.449Z"
   },
   {
    "duration": 66,
    "start_time": "2023-02-13T14:52:44.464Z"
   },
   {
    "duration": 47,
    "start_time": "2023-02-13T14:52:44.532Z"
   },
   {
    "duration": 218,
    "start_time": "2023-02-13T14:52:44.582Z"
   },
   {
    "duration": 38,
    "start_time": "2023-02-13T14:52:44.802Z"
   },
   {
    "duration": 93,
    "start_time": "2023-02-13T14:52:44.842Z"
   },
   {
    "duration": 14,
    "start_time": "2023-02-13T14:52:44.937Z"
   },
   {
    "duration": 31,
    "start_time": "2023-02-13T14:52:44.952Z"
   },
   {
    "duration": 55,
    "start_time": "2023-02-13T14:52:44.984Z"
   },
   {
    "duration": 55,
    "start_time": "2023-02-13T14:52:45.041Z"
   },
   {
    "duration": 24,
    "start_time": "2023-02-13T14:52:45.098Z"
   },
   {
    "duration": 26,
    "start_time": "2023-02-13T14:52:45.124Z"
   },
   {
    "duration": 3,
    "start_time": "2023-02-13T14:52:45.152Z"
   },
   {
    "duration": 35,
    "start_time": "2023-02-13T14:52:45.157Z"
   },
   {
    "duration": 50,
    "start_time": "2023-02-13T14:52:45.194Z"
   },
   {
    "duration": 38,
    "start_time": "2023-02-13T14:52:45.246Z"
   },
   {
    "duration": 441,
    "start_time": "2023-02-13T15:00:27.588Z"
   },
   {
    "duration": 860,
    "start_time": "2023-02-13T15:00:28.032Z"
   },
   {
    "duration": 20,
    "start_time": "2023-02-13T15:00:28.894Z"
   },
   {
    "duration": 137,
    "start_time": "2023-02-13T15:00:28.922Z"
   },
   {
    "duration": 79,
    "start_time": "2023-02-13T15:00:29.060Z"
   },
   {
    "duration": 153,
    "start_time": "2023-02-13T15:00:29.141Z"
   },
   {
    "duration": 48,
    "start_time": "2023-02-13T15:00:29.296Z"
   },
   {
    "duration": 200,
    "start_time": "2023-02-13T15:00:29.346Z"
   },
   {
    "duration": 16,
    "start_time": "2023-02-13T15:00:29.548Z"
   },
   {
    "duration": 66,
    "start_time": "2023-02-13T15:00:29.567Z"
   },
   {
    "duration": 39,
    "start_time": "2023-02-13T15:00:29.635Z"
   },
   {
    "duration": 263,
    "start_time": "2023-02-13T15:00:29.676Z"
   },
   {
    "duration": 0,
    "start_time": "2023-02-13T15:00:29.941Z"
   },
   {
    "duration": 0,
    "start_time": "2023-02-13T15:00:29.942Z"
   },
   {
    "duration": 0,
    "start_time": "2023-02-13T15:00:29.944Z"
   },
   {
    "duration": 0,
    "start_time": "2023-02-13T15:00:29.946Z"
   },
   {
    "duration": 0,
    "start_time": "2023-02-13T15:00:29.947Z"
   },
   {
    "duration": 0,
    "start_time": "2023-02-13T15:00:29.949Z"
   },
   {
    "duration": 0,
    "start_time": "2023-02-13T15:00:29.950Z"
   },
   {
    "duration": 0,
    "start_time": "2023-02-13T15:00:29.952Z"
   },
   {
    "duration": 0,
    "start_time": "2023-02-13T15:00:29.953Z"
   },
   {
    "duration": 0,
    "start_time": "2023-02-13T15:00:29.954Z"
   },
   {
    "duration": 0,
    "start_time": "2023-02-13T15:00:29.955Z"
   },
   {
    "duration": 0,
    "start_time": "2023-02-13T15:00:29.957Z"
   },
   {
    "duration": 372,
    "start_time": "2023-02-13T15:01:22.264Z"
   },
   {
    "duration": 883,
    "start_time": "2023-02-13T15:01:22.638Z"
   },
   {
    "duration": 21,
    "start_time": "2023-02-13T15:01:23.525Z"
   },
   {
    "duration": 149,
    "start_time": "2023-02-13T15:01:23.547Z"
   },
   {
    "duration": 76,
    "start_time": "2023-02-13T15:01:23.698Z"
   },
   {
    "duration": 151,
    "start_time": "2023-02-13T15:01:23.776Z"
   },
   {
    "duration": 36,
    "start_time": "2023-02-13T15:01:23.929Z"
   },
   {
    "duration": 178,
    "start_time": "2023-02-13T15:01:23.967Z"
   },
   {
    "duration": 12,
    "start_time": "2023-02-13T15:01:24.148Z"
   },
   {
    "duration": 60,
    "start_time": "2023-02-13T15:01:24.162Z"
   },
   {
    "duration": 38,
    "start_time": "2023-02-13T15:01:24.224Z"
   },
   {
    "duration": 2841,
    "start_time": "2023-02-13T15:01:24.264Z"
   },
   {
    "duration": 34,
    "start_time": "2023-02-13T15:01:27.107Z"
   },
   {
    "duration": 46,
    "start_time": "2023-02-13T15:01:27.142Z"
   },
   {
    "duration": 33,
    "start_time": "2023-02-13T15:01:27.189Z"
   },
   {
    "duration": 29,
    "start_time": "2023-02-13T15:01:27.223Z"
   },
   {
    "duration": 25,
    "start_time": "2023-02-13T15:01:27.253Z"
   },
   {
    "duration": 51,
    "start_time": "2023-02-13T15:01:27.279Z"
   },
   {
    "duration": 8,
    "start_time": "2023-02-13T15:01:27.331Z"
   },
   {
    "duration": 23,
    "start_time": "2023-02-13T15:01:27.340Z"
   },
   {
    "duration": 2,
    "start_time": "2023-02-13T15:01:27.365Z"
   },
   {
    "duration": 30,
    "start_time": "2023-02-13T15:01:27.368Z"
   },
   {
    "duration": 21,
    "start_time": "2023-02-13T15:01:27.421Z"
   },
   {
    "duration": 31,
    "start_time": "2023-02-13T15:01:27.444Z"
   },
   {
    "duration": 91,
    "start_time": "2023-02-13T15:05:39.716Z"
   },
   {
    "duration": 401,
    "start_time": "2023-02-13T15:06:05.161Z"
   },
   {
    "duration": 900,
    "start_time": "2023-02-13T15:06:05.564Z"
   },
   {
    "duration": 22,
    "start_time": "2023-02-13T15:06:06.466Z"
   },
   {
    "duration": 157,
    "start_time": "2023-02-13T15:06:06.490Z"
   },
   {
    "duration": 80,
    "start_time": "2023-02-13T15:06:06.648Z"
   },
   {
    "duration": 160,
    "start_time": "2023-02-13T15:06:06.729Z"
   },
   {
    "duration": 240,
    "start_time": "2023-02-13T15:06:06.891Z"
   },
   {
    "duration": 494,
    "start_time": "2023-02-13T15:06:07.133Z"
   },
   {
    "duration": 37,
    "start_time": "2023-02-13T15:06:07.629Z"
   },
   {
    "duration": 161,
    "start_time": "2023-02-13T15:06:07.670Z"
   },
   {
    "duration": 14,
    "start_time": "2023-02-13T15:06:07.833Z"
   },
   {
    "duration": 37,
    "start_time": "2023-02-13T15:06:07.849Z"
   },
   {
    "duration": 56,
    "start_time": "2023-02-13T15:06:07.888Z"
   },
   {
    "duration": 2765,
    "start_time": "2023-02-13T15:06:07.946Z"
   },
   {
    "duration": 35,
    "start_time": "2023-02-13T15:06:10.713Z"
   },
   {
    "duration": 49,
    "start_time": "2023-02-13T15:06:10.750Z"
   },
   {
    "duration": 25,
    "start_time": "2023-02-13T15:06:10.801Z"
   },
   {
    "duration": 30,
    "start_time": "2023-02-13T15:06:10.827Z"
   },
   {
    "duration": 27,
    "start_time": "2023-02-13T15:06:10.859Z"
   },
   {
    "duration": 60,
    "start_time": "2023-02-13T15:06:10.888Z"
   },
   {
    "duration": 11,
    "start_time": "2023-02-13T15:06:10.950Z"
   },
   {
    "duration": 25,
    "start_time": "2023-02-13T15:06:10.962Z"
   },
   {
    "duration": 4,
    "start_time": "2023-02-13T15:06:10.988Z"
   },
   {
    "duration": 49,
    "start_time": "2023-02-13T15:06:10.994Z"
   },
   {
    "duration": 46,
    "start_time": "2023-02-13T15:06:11.044Z"
   },
   {
    "duration": 30,
    "start_time": "2023-02-13T15:06:11.092Z"
   },
   {
    "duration": 28,
    "start_time": "2023-02-13T15:10:44.679Z"
   },
   {
    "duration": 424,
    "start_time": "2023-02-13T15:12:46.177Z"
   },
   {
    "duration": 866,
    "start_time": "2023-02-13T15:12:46.604Z"
   },
   {
    "duration": 22,
    "start_time": "2023-02-13T15:12:47.472Z"
   },
   {
    "duration": 152,
    "start_time": "2023-02-13T15:12:47.496Z"
   },
   {
    "duration": 82,
    "start_time": "2023-02-13T15:12:47.651Z"
   },
   {
    "duration": 152,
    "start_time": "2023-02-13T15:12:47.735Z"
   },
   {
    "duration": 46,
    "start_time": "2023-02-13T15:12:47.889Z"
   },
   {
    "duration": 166,
    "start_time": "2023-02-13T15:12:47.937Z"
   },
   {
    "duration": 19,
    "start_time": "2023-02-13T15:12:48.105Z"
   },
   {
    "duration": 64,
    "start_time": "2023-02-13T15:12:48.128Z"
   },
   {
    "duration": 43,
    "start_time": "2023-02-13T15:12:48.193Z"
   },
   {
    "duration": 79,
    "start_time": "2023-02-13T15:12:48.237Z"
   },
   {
    "duration": 50,
    "start_time": "2023-02-13T15:12:48.318Z"
   },
   {
    "duration": 76,
    "start_time": "2023-02-13T15:12:48.370Z"
   },
   {
    "duration": 28,
    "start_time": "2023-02-13T15:12:48.448Z"
   },
   {
    "duration": 55,
    "start_time": "2023-02-13T15:12:48.478Z"
   },
   {
    "duration": 28,
    "start_time": "2023-02-13T15:12:48.535Z"
   },
   {
    "duration": 58,
    "start_time": "2023-02-13T15:12:48.564Z"
   },
   {
    "duration": 9,
    "start_time": "2023-02-13T15:12:48.624Z"
   },
   {
    "duration": 34,
    "start_time": "2023-02-13T15:12:48.635Z"
   },
   {
    "duration": 39,
    "start_time": "2023-02-13T15:12:48.671Z"
   },
   {
    "duration": 33,
    "start_time": "2023-02-13T15:12:48.712Z"
   },
   {
    "duration": 41,
    "start_time": "2023-02-13T15:12:48.747Z"
   },
   {
    "duration": 34,
    "start_time": "2023-02-13T15:12:48.790Z"
   },
   {
    "duration": 17,
    "start_time": "2023-02-13T15:13:48.630Z"
   },
   {
    "duration": 55,
    "start_time": "2023-02-13T15:14:01.817Z"
   },
   {
    "duration": 16,
    "start_time": "2023-02-13T15:14:19.344Z"
   },
   {
    "duration": 13,
    "start_time": "2023-02-13T15:22:37.830Z"
   },
   {
    "duration": 16,
    "start_time": "2023-02-13T15:24:35.597Z"
   },
   {
    "duration": 330,
    "start_time": "2023-02-13T15:27:09.851Z"
   },
   {
    "duration": 26,
    "start_time": "2023-02-13T15:27:11.060Z"
   },
   {
    "duration": 24,
    "start_time": "2023-02-13T15:27:17.481Z"
   },
   {
    "duration": 23,
    "start_time": "2023-02-13T15:27:20.596Z"
   },
   {
    "duration": 123,
    "start_time": "2023-02-13T15:29:10.899Z"
   },
   {
    "duration": 116,
    "start_time": "2023-02-13T15:29:42.769Z"
   },
   {
    "duration": 12,
    "start_time": "2023-02-13T15:56:38.251Z"
   },
   {
    "duration": 1391,
    "start_time": "2023-02-13T16:09:30.362Z"
   },
   {
    "duration": 905,
    "start_time": "2023-02-13T16:09:31.755Z"
   },
   {
    "duration": 22,
    "start_time": "2023-02-13T16:09:32.662Z"
   },
   {
    "duration": 159,
    "start_time": "2023-02-13T16:09:32.686Z"
   },
   {
    "duration": 74,
    "start_time": "2023-02-13T16:09:32.847Z"
   },
   {
    "duration": 198,
    "start_time": "2023-02-13T16:09:32.924Z"
   },
   {
    "duration": 40,
    "start_time": "2023-02-13T16:09:33.124Z"
   },
   {
    "duration": 181,
    "start_time": "2023-02-13T16:09:33.166Z"
   },
   {
    "duration": 15,
    "start_time": "2023-02-13T16:09:33.349Z"
   },
   {
    "duration": 63,
    "start_time": "2023-02-13T16:09:33.366Z"
   },
   {
    "duration": 36,
    "start_time": "2023-02-13T16:09:33.430Z"
   },
   {
    "duration": 67,
    "start_time": "2023-02-13T16:09:33.468Z"
   },
   {
    "duration": 37,
    "start_time": "2023-02-13T16:09:33.537Z"
   },
   {
    "duration": 66,
    "start_time": "2023-02-13T16:09:33.575Z"
   },
   {
    "duration": 12,
    "start_time": "2023-02-13T16:09:33.644Z"
   },
   {
    "duration": 29,
    "start_time": "2023-02-13T16:09:33.657Z"
   },
   {
    "duration": 47,
    "start_time": "2023-02-13T16:09:33.688Z"
   },
   {
    "duration": 37,
    "start_time": "2023-02-13T16:09:33.737Z"
   },
   {
    "duration": 8,
    "start_time": "2023-02-13T16:09:33.776Z"
   },
   {
    "duration": 49,
    "start_time": "2023-02-13T16:09:33.786Z"
   },
   {
    "duration": 36,
    "start_time": "2023-02-13T16:09:33.837Z"
   },
   {
    "duration": 54,
    "start_time": "2023-02-13T16:09:33.875Z"
   },
   {
    "duration": 26,
    "start_time": "2023-02-13T16:09:33.931Z"
   },
   {
    "duration": 36,
    "start_time": "2023-02-13T16:09:33.959Z"
   },
   {
    "duration": 31,
    "start_time": "2023-02-13T16:09:33.997Z"
   },
   {
    "duration": 16,
    "start_time": "2023-02-13T16:09:34.030Z"
   },
   {
    "duration": 351,
    "start_time": "2023-02-13T16:09:34.048Z"
   },
   {
    "duration": 31,
    "start_time": "2023-02-13T16:09:34.404Z"
   },
   {
    "duration": 19,
    "start_time": "2023-02-13T16:09:34.438Z"
   },
   {
    "duration": 16,
    "start_time": "2023-02-13T16:09:34.459Z"
   },
   {
    "duration": 137,
    "start_time": "2023-02-13T16:09:34.477Z"
   },
   {
    "duration": 3272,
    "start_time": "2023-02-13T16:22:55.027Z"
   },
   {
    "duration": 1299,
    "start_time": "2023-02-13T16:42:46.145Z"
   },
   {
    "duration": 835,
    "start_time": "2023-02-13T16:42:47.446Z"
   },
   {
    "duration": 20,
    "start_time": "2023-02-13T16:42:48.283Z"
   },
   {
    "duration": 147,
    "start_time": "2023-02-13T16:42:48.305Z"
   },
   {
    "duration": 80,
    "start_time": "2023-02-13T16:42:48.454Z"
   },
   {
    "duration": 149,
    "start_time": "2023-02-13T16:42:48.536Z"
   },
   {
    "duration": 48,
    "start_time": "2023-02-13T16:42:48.687Z"
   },
   {
    "duration": 169,
    "start_time": "2023-02-13T16:42:48.737Z"
   },
   {
    "duration": 21,
    "start_time": "2023-02-13T16:42:48.908Z"
   },
   {
    "duration": 42,
    "start_time": "2023-02-13T16:42:48.932Z"
   },
   {
    "duration": 57,
    "start_time": "2023-02-13T16:42:48.976Z"
   },
   {
    "duration": 47,
    "start_time": "2023-02-13T16:42:49.035Z"
   },
   {
    "duration": 46,
    "start_time": "2023-02-13T16:42:49.084Z"
   },
   {
    "duration": 55,
    "start_time": "2023-02-13T16:42:49.131Z"
   },
   {
    "duration": 10,
    "start_time": "2023-02-13T16:42:49.188Z"
   },
   {
    "duration": 45,
    "start_time": "2023-02-13T16:42:49.200Z"
   },
   {
    "duration": 25,
    "start_time": "2023-02-13T16:42:49.247Z"
   },
   {
    "duration": 48,
    "start_time": "2023-02-13T16:42:49.274Z"
   },
   {
    "duration": 9,
    "start_time": "2023-02-13T16:42:49.323Z"
   },
   {
    "duration": 33,
    "start_time": "2023-02-13T16:42:49.334Z"
   },
   {
    "duration": 33,
    "start_time": "2023-02-13T16:42:49.368Z"
   },
   {
    "duration": 40,
    "start_time": "2023-02-13T16:42:49.403Z"
   },
   {
    "duration": 28,
    "start_time": "2023-02-13T16:42:49.445Z"
   },
   {
    "duration": 46,
    "start_time": "2023-02-13T16:42:49.475Z"
   },
   {
    "duration": 11,
    "start_time": "2023-02-13T16:42:49.523Z"
   },
   {
    "duration": 17,
    "start_time": "2023-02-13T16:42:49.535Z"
   },
   {
    "duration": 2,
    "start_time": "2023-02-13T16:42:49.553Z"
   },
   {
    "duration": 15,
    "start_time": "2023-02-13T16:42:49.558Z"
   },
   {
    "duration": 210,
    "start_time": "2023-02-13T16:42:49.575Z"
   },
   {
    "duration": 2,
    "start_time": "2023-02-13T16:42:49.787Z"
   },
   {
    "duration": 8,
    "start_time": "2023-02-13T16:42:49.790Z"
   },
   {
    "duration": 5,
    "start_time": "2023-02-13T16:42:49.800Z"
   },
   {
    "duration": 1285,
    "start_time": "2023-02-13T16:48:47.677Z"
   },
   {
    "duration": 5,
    "start_time": "2023-02-13T16:51:20.008Z"
   },
   {
    "duration": 11,
    "start_time": "2023-02-13T16:55:08.521Z"
   },
   {
    "duration": 16,
    "start_time": "2023-02-13T16:55:29.960Z"
   },
   {
    "duration": 355,
    "start_time": "2023-02-13T17:20:00.582Z"
   },
   {
    "duration": 126,
    "start_time": "2023-02-13T17:22:26.090Z"
   },
   {
    "duration": 96,
    "start_time": "2023-02-13T17:29:38.906Z"
   },
   {
    "duration": 1461,
    "start_time": "2023-02-13T17:29:55.584Z"
   },
   {
    "duration": 987,
    "start_time": "2023-02-13T17:29:57.047Z"
   },
   {
    "duration": 23,
    "start_time": "2023-02-13T17:29:58.038Z"
   },
   {
    "duration": 151,
    "start_time": "2023-02-13T17:29:58.064Z"
   },
   {
    "duration": 72,
    "start_time": "2023-02-13T17:29:58.222Z"
   },
   {
    "duration": 182,
    "start_time": "2023-02-13T17:29:58.296Z"
   },
   {
    "duration": 54,
    "start_time": "2023-02-13T17:29:58.480Z"
   },
   {
    "duration": 184,
    "start_time": "2023-02-13T17:29:58.537Z"
   },
   {
    "duration": 18,
    "start_time": "2023-02-13T17:29:58.723Z"
   },
   {
    "duration": 46,
    "start_time": "2023-02-13T17:29:58.743Z"
   },
   {
    "duration": 60,
    "start_time": "2023-02-13T17:29:58.790Z"
   },
   {
    "duration": 84,
    "start_time": "2023-02-13T17:29:58.851Z"
   },
   {
    "duration": 35,
    "start_time": "2023-02-13T17:29:58.937Z"
   },
   {
    "duration": 64,
    "start_time": "2023-02-13T17:29:58.976Z"
   },
   {
    "duration": 13,
    "start_time": "2023-02-13T17:29:59.042Z"
   },
   {
    "duration": 31,
    "start_time": "2023-02-13T17:29:59.056Z"
   },
   {
    "duration": 53,
    "start_time": "2023-02-13T17:29:59.089Z"
   },
   {
    "duration": 35,
    "start_time": "2023-02-13T17:29:59.144Z"
   },
   {
    "duration": 9,
    "start_time": "2023-02-13T17:29:59.181Z"
   },
   {
    "duration": 60,
    "start_time": "2023-02-13T17:29:59.192Z"
   },
   {
    "duration": 32,
    "start_time": "2023-02-13T17:29:59.254Z"
   },
   {
    "duration": 53,
    "start_time": "2023-02-13T17:29:59.288Z"
   },
   {
    "duration": 27,
    "start_time": "2023-02-13T17:29:59.343Z"
   },
   {
    "duration": 54,
    "start_time": "2023-02-13T17:29:59.372Z"
   },
   {
    "duration": 14,
    "start_time": "2023-02-13T17:29:59.430Z"
   },
   {
    "duration": 18,
    "start_time": "2023-02-13T17:29:59.446Z"
   },
   {
    "duration": 372,
    "start_time": "2023-02-13T17:29:59.466Z"
   },
   {
    "duration": 121,
    "start_time": "2023-02-13T17:29:59.841Z"
   },
   {
    "duration": 276,
    "start_time": "2023-02-13T17:29:59.965Z"
   },
   {
    "duration": 3,
    "start_time": "2023-02-13T17:30:00.243Z"
   },
   {
    "duration": 35,
    "start_time": "2023-02-13T17:30:00.247Z"
   },
   {
    "duration": 12,
    "start_time": "2023-02-13T17:30:00.284Z"
   },
   {
    "duration": 162,
    "start_time": "2023-02-13T17:31:15.094Z"
   },
   {
    "duration": 3186,
    "start_time": "2023-02-13T17:31:31.545Z"
   },
   {
    "duration": 11,
    "start_time": "2023-02-13T18:40:32.854Z"
   },
   {
    "duration": 2543,
    "start_time": "2023-02-13T18:44:59.942Z"
   },
   {
    "duration": 887,
    "start_time": "2023-02-13T18:45:02.487Z"
   },
   {
    "duration": 25,
    "start_time": "2023-02-13T18:45:03.376Z"
   },
   {
    "duration": 158,
    "start_time": "2023-02-13T18:45:03.403Z"
   },
   {
    "duration": 84,
    "start_time": "2023-02-13T18:45:03.563Z"
   },
   {
    "duration": 160,
    "start_time": "2023-02-13T18:45:03.649Z"
   },
   {
    "duration": 47,
    "start_time": "2023-02-13T18:45:03.811Z"
   },
   {
    "duration": 178,
    "start_time": "2023-02-13T18:45:03.860Z"
   },
   {
    "duration": 13,
    "start_time": "2023-02-13T18:45:04.040Z"
   },
   {
    "duration": 40,
    "start_time": "2023-02-13T18:45:04.056Z"
   },
   {
    "duration": 57,
    "start_time": "2023-02-13T18:45:04.097Z"
   },
   {
    "duration": 66,
    "start_time": "2023-02-13T18:45:04.156Z"
   },
   {
    "duration": 36,
    "start_time": "2023-02-13T18:45:04.224Z"
   },
   {
    "duration": 66,
    "start_time": "2023-02-13T18:45:04.262Z"
   },
   {
    "duration": 15,
    "start_time": "2023-02-13T18:45:04.330Z"
   },
   {
    "duration": 35,
    "start_time": "2023-02-13T18:45:04.347Z"
   },
   {
    "duration": 47,
    "start_time": "2023-02-13T18:45:04.384Z"
   },
   {
    "duration": 38,
    "start_time": "2023-02-13T18:45:04.432Z"
   },
   {
    "duration": 8,
    "start_time": "2023-02-13T18:45:04.472Z"
   },
   {
    "duration": 51,
    "start_time": "2023-02-13T18:45:04.482Z"
   },
   {
    "duration": 37,
    "start_time": "2023-02-13T18:45:04.535Z"
   },
   {
    "duration": 33,
    "start_time": "2023-02-13T18:45:04.574Z"
   },
   {
    "duration": 33,
    "start_time": "2023-02-13T18:45:04.620Z"
   },
   {
    "duration": 41,
    "start_time": "2023-02-13T18:45:04.656Z"
   },
   {
    "duration": 30,
    "start_time": "2023-02-13T18:45:04.700Z"
   },
   {
    "duration": 19,
    "start_time": "2023-02-13T18:45:04.733Z"
   },
   {
    "duration": 427,
    "start_time": "2023-02-13T18:45:04.754Z"
   },
   {
    "duration": 440,
    "start_time": "2023-02-13T18:45:05.185Z"
   },
   {
    "duration": 149,
    "start_time": "2023-02-13T18:45:05.626Z"
   },
   {
    "duration": 0,
    "start_time": "2023-02-13T18:45:05.777Z"
   },
   {
    "duration": 0,
    "start_time": "2023-02-13T18:45:05.779Z"
   },
   {
    "duration": 0,
    "start_time": "2023-02-13T18:45:05.780Z"
   },
   {
    "duration": 0,
    "start_time": "2023-02-13T18:45:05.781Z"
   },
   {
    "duration": 0,
    "start_time": "2023-02-13T18:45:05.782Z"
   },
   {
    "duration": 1441,
    "start_time": "2023-02-13T18:46:24.328Z"
   },
   {
    "duration": 872,
    "start_time": "2023-02-13T18:46:25.771Z"
   },
   {
    "duration": 22,
    "start_time": "2023-02-13T18:46:26.645Z"
   },
   {
    "duration": 158,
    "start_time": "2023-02-13T18:46:26.670Z"
   },
   {
    "duration": 67,
    "start_time": "2023-02-13T18:46:26.829Z"
   },
   {
    "duration": 169,
    "start_time": "2023-02-13T18:46:26.898Z"
   },
   {
    "duration": 39,
    "start_time": "2023-02-13T18:46:27.069Z"
   },
   {
    "duration": 178,
    "start_time": "2023-02-13T18:46:27.109Z"
   },
   {
    "duration": 15,
    "start_time": "2023-02-13T18:46:27.289Z"
   },
   {
    "duration": 42,
    "start_time": "2023-02-13T18:46:27.322Z"
   },
   {
    "duration": 55,
    "start_time": "2023-02-13T18:46:27.366Z"
   },
   {
    "duration": 49,
    "start_time": "2023-02-13T18:46:27.423Z"
   },
   {
    "duration": 48,
    "start_time": "2023-02-13T18:46:27.474Z"
   },
   {
    "duration": 48,
    "start_time": "2023-02-13T18:46:27.524Z"
   },
   {
    "duration": 12,
    "start_time": "2023-02-13T18:46:27.573Z"
   },
   {
    "duration": 52,
    "start_time": "2023-02-13T18:46:27.587Z"
   },
   {
    "duration": 28,
    "start_time": "2023-02-13T18:46:27.640Z"
   },
   {
    "duration": 57,
    "start_time": "2023-02-13T18:46:27.670Z"
   },
   {
    "duration": 8,
    "start_time": "2023-02-13T18:46:27.729Z"
   },
   {
    "duration": 28,
    "start_time": "2023-02-13T18:46:27.739Z"
   },
   {
    "duration": 40,
    "start_time": "2023-02-13T18:46:27.769Z"
   },
   {
    "duration": 37,
    "start_time": "2023-02-13T18:46:27.810Z"
   },
   {
    "duration": 28,
    "start_time": "2023-02-13T18:46:27.849Z"
   },
   {
    "duration": 47,
    "start_time": "2023-02-13T18:46:27.879Z"
   },
   {
    "duration": 12,
    "start_time": "2023-02-13T18:46:27.928Z"
   },
   {
    "duration": 17,
    "start_time": "2023-02-13T18:46:27.942Z"
   },
   {
    "duration": 358,
    "start_time": "2023-02-13T18:46:27.960Z"
   },
   {
    "duration": 373,
    "start_time": "2023-02-13T18:46:28.324Z"
   },
   {
    "duration": 38,
    "start_time": "2023-02-13T18:46:28.698Z"
   },
   {
    "duration": 111,
    "start_time": "2023-02-13T18:46:28.738Z"
   },
   {
    "duration": 615,
    "start_time": "2023-02-13T18:46:28.851Z"
   },
   {
    "duration": 3,
    "start_time": "2023-02-13T18:46:29.467Z"
   },
   {
    "duration": 5,
    "start_time": "2023-02-13T18:46:29.472Z"
   },
   {
    "duration": 6,
    "start_time": "2023-02-13T18:46:29.479Z"
   },
   {
    "duration": 5902,
    "start_time": "2023-02-13T18:47:04.301Z"
   },
   {
    "duration": 5933,
    "start_time": "2023-02-13T18:53:10.864Z"
   },
   {
    "duration": 5449,
    "start_time": "2023-02-13T18:54:57.036Z"
   },
   {
    "duration": 37,
    "start_time": "2023-02-13T18:58:47.383Z"
   },
   {
    "duration": 40,
    "start_time": "2023-02-13T18:58:58.334Z"
   },
   {
    "duration": 62,
    "start_time": "2023-02-13T18:59:07.616Z"
   },
   {
    "duration": 39,
    "start_time": "2023-02-13T18:59:23.577Z"
   },
   {
    "duration": 40,
    "start_time": "2023-02-13T18:59:56.283Z"
   },
   {
    "duration": 102,
    "start_time": "2023-02-13T19:00:16.084Z"
   },
   {
    "duration": 159,
    "start_time": "2023-02-13T19:00:30.279Z"
   },
   {
    "duration": 110,
    "start_time": "2023-02-13T19:02:19.136Z"
   },
   {
    "duration": 96,
    "start_time": "2023-02-13T19:02:32.382Z"
   },
   {
    "duration": 5242,
    "start_time": "2023-02-13T19:02:47.810Z"
   },
   {
    "duration": 22830,
    "start_time": "2023-02-13T19:03:54.539Z"
   },
   {
    "duration": 20559,
    "start_time": "2023-02-13T19:07:57.634Z"
   },
   {
    "duration": 20297,
    "start_time": "2023-02-13T19:08:32.241Z"
   },
   {
    "duration": 94,
    "start_time": "2023-02-13T19:09:24.607Z"
   },
   {
    "duration": 20152,
    "start_time": "2023-02-13T19:09:41.271Z"
   },
   {
    "duration": 284545,
    "start_time": "2023-02-13T19:17:08.332Z"
   },
   {
    "duration": 263974,
    "start_time": "2023-02-13T19:25:52.634Z"
   },
   {
    "duration": 20219,
    "start_time": "2023-02-13T19:35:43.385Z"
   },
   {
    "duration": 6,
    "start_time": "2023-02-13T19:41:41.490Z"
   },
   {
    "duration": 1506,
    "start_time": "2023-02-13T20:07:31.097Z"
   },
   {
    "duration": 900,
    "start_time": "2023-02-13T20:07:32.605Z"
   },
   {
    "duration": 25,
    "start_time": "2023-02-13T20:07:33.507Z"
   },
   {
    "duration": 152,
    "start_time": "2023-02-13T20:07:33.535Z"
   },
   {
    "duration": 81,
    "start_time": "2023-02-13T20:07:33.689Z"
   },
   {
    "duration": 156,
    "start_time": "2023-02-13T20:07:33.772Z"
   },
   {
    "duration": 39,
    "start_time": "2023-02-13T20:07:33.930Z"
   },
   {
    "duration": 189,
    "start_time": "2023-02-13T20:07:33.971Z"
   },
   {
    "duration": 14,
    "start_time": "2023-02-13T20:07:34.162Z"
   },
   {
    "duration": 56,
    "start_time": "2023-02-13T20:07:34.179Z"
   },
   {
    "duration": 35,
    "start_time": "2023-02-13T20:07:34.237Z"
   },
   {
    "duration": 69,
    "start_time": "2023-02-13T20:07:34.274Z"
   },
   {
    "duration": 37,
    "start_time": "2023-02-13T20:07:34.345Z"
   },
   {
    "duration": 70,
    "start_time": "2023-02-13T20:07:34.384Z"
   },
   {
    "duration": 11,
    "start_time": "2023-02-13T20:07:34.456Z"
   },
   {
    "duration": 52,
    "start_time": "2023-02-13T20:07:34.468Z"
   },
   {
    "duration": 38,
    "start_time": "2023-02-13T20:07:34.525Z"
   },
   {
    "duration": 59,
    "start_time": "2023-02-13T20:07:34.566Z"
   },
   {
    "duration": 11,
    "start_time": "2023-02-13T20:07:34.627Z"
   },
   {
    "duration": 33,
    "start_time": "2023-02-13T20:07:34.641Z"
   },
   {
    "duration": 68,
    "start_time": "2023-02-13T20:07:34.676Z"
   },
   {
    "duration": 48,
    "start_time": "2023-02-13T20:07:34.746Z"
   },
   {
    "duration": 36,
    "start_time": "2023-02-13T20:07:34.797Z"
   },
   {
    "duration": 36,
    "start_time": "2023-02-13T20:07:34.835Z"
   },
   {
    "duration": 11,
    "start_time": "2023-02-13T20:07:34.873Z"
   },
   {
    "duration": 47,
    "start_time": "2023-02-13T20:07:34.885Z"
   },
   {
    "duration": 360,
    "start_time": "2023-02-13T20:07:34.934Z"
   },
   {
    "duration": 426,
    "start_time": "2023-02-13T20:07:35.297Z"
   },
   {
    "duration": 32,
    "start_time": "2023-02-13T20:07:35.725Z"
   },
   {
    "duration": 116,
    "start_time": "2023-02-13T20:07:35.759Z"
   },
   {
    "duration": 273588,
    "start_time": "2023-02-13T20:07:35.877Z"
   },
   {
    "duration": 20354,
    "start_time": "2023-02-13T20:12:09.467Z"
   },
   {
    "duration": 5877434,
    "start_time": "2023-02-13T20:12:29.824Z"
   },
   {
    "duration": 7954281,
    "start_time": "2023-02-13T21:50:27.260Z"
   },
   {
    "duration": 1299,
    "start_time": "2023-02-14T06:31:13.158Z"
   },
   {
    "duration": 3065,
    "start_time": "2023-02-14T06:31:14.459Z"
   },
   {
    "duration": 21,
    "start_time": "2023-02-14T06:31:17.525Z"
   },
   {
    "duration": 133,
    "start_time": "2023-02-14T06:31:17.548Z"
   },
   {
    "duration": 61,
    "start_time": "2023-02-14T06:31:17.683Z"
   },
   {
    "duration": 231,
    "start_time": "2023-02-14T06:31:17.746Z"
   },
   {
    "duration": 34,
    "start_time": "2023-02-14T06:31:17.979Z"
   },
   {
    "duration": 174,
    "start_time": "2023-02-14T06:31:18.015Z"
   },
   {
    "duration": 13,
    "start_time": "2023-02-14T06:31:18.191Z"
   },
   {
    "duration": 45,
    "start_time": "2023-02-14T06:31:18.207Z"
   },
   {
    "duration": 44,
    "start_time": "2023-02-14T06:31:18.254Z"
   },
   {
    "duration": 70,
    "start_time": "2023-02-14T06:31:18.300Z"
   },
   {
    "duration": 61,
    "start_time": "2023-02-14T06:31:18.373Z"
   },
   {
    "duration": 65,
    "start_time": "2023-02-14T06:31:18.437Z"
   },
   {
    "duration": 16,
    "start_time": "2023-02-14T06:31:18.504Z"
   },
   {
    "duration": 46,
    "start_time": "2023-02-14T06:31:18.522Z"
   },
   {
    "duration": 30,
    "start_time": "2023-02-14T06:31:18.569Z"
   },
   {
    "duration": 73,
    "start_time": "2023-02-14T06:31:18.601Z"
   },
   {
    "duration": 11,
    "start_time": "2023-02-14T06:31:18.676Z"
   },
   {
    "duration": 33,
    "start_time": "2023-02-14T06:31:18.689Z"
   },
   {
    "duration": 77,
    "start_time": "2023-02-14T06:31:18.724Z"
   },
   {
    "duration": 33,
    "start_time": "2023-02-14T06:31:18.803Z"
   },
   {
    "duration": 48,
    "start_time": "2023-02-14T06:31:18.838Z"
   },
   {
    "duration": 34,
    "start_time": "2023-02-14T06:31:18.888Z"
   },
   {
    "duration": 19,
    "start_time": "2023-02-14T06:31:18.924Z"
   },
   {
    "duration": 37,
    "start_time": "2023-02-14T06:31:18.945Z"
   },
   {
    "duration": 336,
    "start_time": "2023-02-14T06:31:18.984Z"
   },
   {
    "duration": 391,
    "start_time": "2023-02-14T06:31:19.325Z"
   },
   {
    "duration": 30,
    "start_time": "2023-02-14T06:31:19.718Z"
   },
   {
    "duration": 122,
    "start_time": "2023-02-14T06:31:19.750Z"
   },
   {
    "duration": 185,
    "start_time": "2023-02-14T06:31:19.874Z"
   },
   {
    "duration": 2,
    "start_time": "2023-02-14T06:31:20.061Z"
   },
   {
    "duration": 19341,
    "start_time": "2023-02-14T06:31:20.065Z"
   },
   {
    "duration": 3,
    "start_time": "2023-02-14T06:31:39.407Z"
   },
   {
    "duration": 7,
    "start_time": "2023-02-14T06:31:39.412Z"
   },
   {
    "duration": 1228,
    "start_time": "2023-02-14T06:43:25.914Z"
   },
   {
    "duration": 763,
    "start_time": "2023-02-14T06:43:27.144Z"
   },
   {
    "duration": 22,
    "start_time": "2023-02-14T06:43:27.909Z"
   },
   {
    "duration": 142,
    "start_time": "2023-02-14T06:43:27.933Z"
   },
   {
    "duration": 64,
    "start_time": "2023-02-14T06:43:28.077Z"
   },
   {
    "duration": 152,
    "start_time": "2023-02-14T06:43:28.144Z"
   },
   {
    "duration": 36,
    "start_time": "2023-02-14T06:43:28.297Z"
   },
   {
    "duration": 160,
    "start_time": "2023-02-14T06:43:28.335Z"
   },
   {
    "duration": 12,
    "start_time": "2023-02-14T06:43:28.497Z"
   },
   {
    "duration": 38,
    "start_time": "2023-02-14T06:43:28.512Z"
   },
   {
    "duration": 35,
    "start_time": "2023-02-14T06:43:28.567Z"
   },
   {
    "duration": 43,
    "start_time": "2023-02-14T06:43:28.603Z"
   },
   {
    "duration": 47,
    "start_time": "2023-02-14T06:43:28.647Z"
   },
   {
    "duration": 45,
    "start_time": "2023-02-14T06:43:28.695Z"
   },
   {
    "duration": 27,
    "start_time": "2023-02-14T06:43:28.741Z"
   },
   {
    "duration": 26,
    "start_time": "2023-02-14T06:43:28.769Z"
   },
   {
    "duration": 25,
    "start_time": "2023-02-14T06:43:28.797Z"
   },
   {
    "duration": 50,
    "start_time": "2023-02-14T06:43:28.823Z"
   },
   {
    "duration": 8,
    "start_time": "2023-02-14T06:43:28.874Z"
   },
   {
    "duration": 22,
    "start_time": "2023-02-14T06:43:28.883Z"
   },
   {
    "duration": 30,
    "start_time": "2023-02-14T06:43:28.907Z"
   },
   {
    "duration": 44,
    "start_time": "2023-02-14T06:43:28.938Z"
   },
   {
    "duration": 20,
    "start_time": "2023-02-14T06:43:28.984Z"
   },
   {
    "duration": 31,
    "start_time": "2023-02-14T06:43:29.006Z"
   },
   {
    "duration": 33,
    "start_time": "2023-02-14T06:43:29.039Z"
   },
   {
    "duration": 14,
    "start_time": "2023-02-14T06:43:29.073Z"
   },
   {
    "duration": 304,
    "start_time": "2023-02-14T06:43:29.089Z"
   },
   {
    "duration": 344,
    "start_time": "2023-02-14T06:43:29.395Z"
   },
   {
    "duration": 35,
    "start_time": "2023-02-14T06:43:29.741Z"
   },
   {
    "duration": 102,
    "start_time": "2023-02-14T06:43:29.778Z"
   },
   {
    "duration": 4446,
    "start_time": "2023-02-14T06:43:29.881Z"
   },
   {
    "duration": 3,
    "start_time": "2023-02-14T06:43:34.328Z"
   },
   {
    "duration": 18109,
    "start_time": "2023-02-14T06:43:34.333Z"
   },
   {
    "duration": 2,
    "start_time": "2023-02-14T06:43:52.444Z"
   },
   {
    "duration": 26,
    "start_time": "2023-02-14T06:43:52.448Z"
   },
   {
    "duration": 838,
    "start_time": "2023-02-14T06:51:13.304Z"
   },
   {
    "duration": 84,
    "start_time": "2023-02-14T06:52:25.814Z"
   },
   {
    "duration": 19022,
    "start_time": "2023-02-14T06:54:50.904Z"
   },
   {
    "duration": 18413,
    "start_time": "2023-02-14T07:23:20.936Z"
   },
   {
    "duration": 18829,
    "start_time": "2023-02-14T07:25:01.628Z"
   },
   {
    "duration": 251520,
    "start_time": "2023-02-14T07:27:39.532Z"
   },
   {
    "duration": 942554,
    "start_time": "2023-02-14T07:34:29.626Z"
   },
   {
    "duration": 1183897,
    "start_time": "2023-02-14T07:54:04.074Z"
   },
   {
    "duration": 16,
    "start_time": "2023-02-14T08:34:45.849Z"
   },
   {
    "duration": 1249,
    "start_time": "2023-02-14T08:49:39.889Z"
   },
   {
    "duration": 817,
    "start_time": "2023-02-14T08:49:41.140Z"
   },
   {
    "duration": 31,
    "start_time": "2023-02-14T08:49:41.958Z"
   },
   {
    "duration": 142,
    "start_time": "2023-02-14T08:49:41.991Z"
   },
   {
    "duration": 73,
    "start_time": "2023-02-14T08:49:42.135Z"
   },
   {
    "duration": 142,
    "start_time": "2023-02-14T08:49:42.209Z"
   },
   {
    "duration": 39,
    "start_time": "2023-02-14T08:49:42.353Z"
   },
   {
    "duration": 162,
    "start_time": "2023-02-14T08:49:42.394Z"
   },
   {
    "duration": 17,
    "start_time": "2023-02-14T08:49:42.558Z"
   },
   {
    "duration": 44,
    "start_time": "2023-02-14T08:49:42.578Z"
   },
   {
    "duration": 51,
    "start_time": "2023-02-14T08:49:42.626Z"
   },
   {
    "duration": 66,
    "start_time": "2023-02-14T08:49:42.679Z"
   },
   {
    "duration": 37,
    "start_time": "2023-02-14T08:49:42.747Z"
   },
   {
    "duration": 56,
    "start_time": "2023-02-14T08:49:42.786Z"
   },
   {
    "duration": 11,
    "start_time": "2023-02-14T08:49:42.844Z"
   },
   {
    "duration": 62,
    "start_time": "2023-02-14T08:49:42.856Z"
   },
   {
    "duration": 26,
    "start_time": "2023-02-14T08:49:42.920Z"
   },
   {
    "duration": 59,
    "start_time": "2023-02-14T08:49:42.947Z"
   },
   {
    "duration": 18,
    "start_time": "2023-02-14T08:49:43.008Z"
   },
   {
    "duration": 37,
    "start_time": "2023-02-14T08:49:43.028Z"
   },
   {
    "duration": 51,
    "start_time": "2023-02-14T08:49:43.068Z"
   },
   {
    "duration": 26,
    "start_time": "2023-02-14T08:49:43.120Z"
   },
   {
    "duration": 53,
    "start_time": "2023-02-14T08:49:43.147Z"
   },
   {
    "duration": 32,
    "start_time": "2023-02-14T08:49:43.202Z"
   },
   {
    "duration": 11,
    "start_time": "2023-02-14T08:49:43.236Z"
   },
   {
    "duration": 34,
    "start_time": "2023-02-14T08:49:43.248Z"
   },
   {
    "duration": 9,
    "start_time": "2023-02-14T08:49:43.284Z"
   },
   {
    "duration": 402,
    "start_time": "2023-02-14T08:49:43.296Z"
   },
   {
    "duration": 19,
    "start_time": "2023-02-14T08:49:43.700Z"
   },
   {
    "duration": 8,
    "start_time": "2023-02-14T08:49:43.721Z"
   },
   {
    "duration": 5,
    "start_time": "2023-02-14T08:49:43.731Z"
   },
   {
    "duration": 1264,
    "start_time": "2023-02-14T08:50:08.407Z"
   },
   {
    "duration": 809,
    "start_time": "2023-02-14T08:50:09.674Z"
   },
   {
    "duration": 20,
    "start_time": "2023-02-14T08:50:10.487Z"
   },
   {
    "duration": 158,
    "start_time": "2023-02-14T08:50:10.509Z"
   },
   {
    "duration": 68,
    "start_time": "2023-02-14T08:50:10.669Z"
   },
   {
    "duration": 161,
    "start_time": "2023-02-14T08:50:10.738Z"
   },
   {
    "duration": 36,
    "start_time": "2023-02-14T08:50:10.900Z"
   },
   {
    "duration": 194,
    "start_time": "2023-02-14T08:50:10.937Z"
   },
   {
    "duration": 12,
    "start_time": "2023-02-14T08:50:11.135Z"
   },
   {
    "duration": 77,
    "start_time": "2023-02-14T08:50:11.148Z"
   },
   {
    "duration": 34,
    "start_time": "2023-02-14T08:50:11.226Z"
   },
   {
    "duration": 70,
    "start_time": "2023-02-14T08:50:11.261Z"
   },
   {
    "duration": 33,
    "start_time": "2023-02-14T08:50:11.333Z"
   },
   {
    "duration": 59,
    "start_time": "2023-02-14T08:50:11.368Z"
   },
   {
    "duration": 9,
    "start_time": "2023-02-14T08:50:11.429Z"
   },
   {
    "duration": 50,
    "start_time": "2023-02-14T08:50:11.439Z"
   },
   {
    "duration": 23,
    "start_time": "2023-02-14T08:50:11.491Z"
   },
   {
    "duration": 30,
    "start_time": "2023-02-14T08:50:11.515Z"
   },
   {
    "duration": 31,
    "start_time": "2023-02-14T08:50:11.546Z"
   },
   {
    "duration": 35,
    "start_time": "2023-02-14T08:50:11.579Z"
   },
   {
    "duration": 65,
    "start_time": "2023-02-14T08:50:11.616Z"
   },
   {
    "duration": 33,
    "start_time": "2023-02-14T08:50:11.682Z"
   },
   {
    "duration": 29,
    "start_time": "2023-02-14T08:50:11.717Z"
   },
   {
    "duration": 43,
    "start_time": "2023-02-14T08:50:11.748Z"
   },
   {
    "duration": 10,
    "start_time": "2023-02-14T08:50:11.792Z"
   },
   {
    "duration": 30,
    "start_time": "2023-02-14T08:50:11.804Z"
   },
   {
    "duration": 3,
    "start_time": "2023-02-14T08:50:11.837Z"
   },
   {
    "duration": 395,
    "start_time": "2023-02-14T08:50:11.841Z"
   },
   {
    "duration": 17,
    "start_time": "2023-02-14T08:50:12.238Z"
   },
   {
    "duration": 14,
    "start_time": "2023-02-14T08:50:12.268Z"
   },
   {
    "duration": 8,
    "start_time": "2023-02-14T08:50:12.283Z"
   },
   {
    "duration": 240222,
    "start_time": "2023-02-14T08:50:12.292Z"
   },
   {
    "duration": 17664,
    "start_time": "2023-02-14T08:54:12.516Z"
   },
   {
    "duration": 879621,
    "start_time": "2023-02-14T08:54:30.181Z"
   },
   {
    "duration": 710476,
    "start_time": "2023-02-14T09:09:09.804Z"
   },
   {
    "duration": 19530,
    "start_time": "2023-02-14T09:21:00.282Z"
   },
   {
    "duration": 1471,
    "start_time": "2023-02-15T17:21:09.611Z"
   },
   {
    "duration": 881,
    "start_time": "2023-02-15T17:21:11.085Z"
   },
   {
    "duration": 22,
    "start_time": "2023-02-15T17:21:11.968Z"
   },
   {
    "duration": 310,
    "start_time": "2023-02-15T17:21:11.991Z"
   },
   {
    "duration": 54,
    "start_time": "2023-02-15T17:21:12.303Z"
   },
   {
    "duration": 288,
    "start_time": "2023-02-15T17:21:12.359Z"
   },
   {
    "duration": 27,
    "start_time": "2023-02-15T17:21:12.649Z"
   },
   {
    "duration": 272,
    "start_time": "2023-02-15T17:21:12.678Z"
   },
   {
    "duration": 11,
    "start_time": "2023-02-15T17:21:12.952Z"
   },
   {
    "duration": 62,
    "start_time": "2023-02-15T17:21:12.964Z"
   },
   {
    "duration": 16,
    "start_time": "2023-02-15T17:21:13.028Z"
   },
   {
    "duration": 36,
    "start_time": "2023-02-15T17:21:13.046Z"
   },
   {
    "duration": 16,
    "start_time": "2023-02-15T17:21:13.084Z"
   },
   {
    "duration": 54,
    "start_time": "2023-02-15T17:21:13.103Z"
   },
   {
    "duration": 11,
    "start_time": "2023-02-15T17:21:13.159Z"
   },
   {
    "duration": 28,
    "start_time": "2023-02-15T17:21:13.172Z"
   },
   {
    "duration": 36,
    "start_time": "2023-02-15T17:21:13.201Z"
   },
   {
    "duration": 25,
    "start_time": "2023-02-15T17:21:13.239Z"
   },
   {
    "duration": 8,
    "start_time": "2023-02-15T17:21:13.266Z"
   },
   {
    "duration": 15,
    "start_time": "2023-02-15T17:21:13.276Z"
   },
   {
    "duration": 51,
    "start_time": "2023-02-15T17:21:13.293Z"
   },
   {
    "duration": 13,
    "start_time": "2023-02-15T17:21:13.346Z"
   },
   {
    "duration": 27,
    "start_time": "2023-02-15T17:21:13.361Z"
   },
   {
    "duration": 32,
    "start_time": "2023-02-15T17:21:13.391Z"
   },
   {
    "duration": 139,
    "start_time": "2023-02-15T17:21:13.427Z"
   },
   {
    "duration": 0,
    "start_time": "2023-02-15T17:21:13.568Z"
   },
   {
    "duration": 0,
    "start_time": "2023-02-15T17:21:13.571Z"
   },
   {
    "duration": 0,
    "start_time": "2023-02-15T17:21:13.572Z"
   },
   {
    "duration": 0,
    "start_time": "2023-02-15T17:21:13.573Z"
   },
   {
    "duration": 0,
    "start_time": "2023-02-15T17:21:13.575Z"
   },
   {
    "duration": 0,
    "start_time": "2023-02-15T17:21:13.576Z"
   },
   {
    "duration": 0,
    "start_time": "2023-02-15T17:21:13.577Z"
   },
   {
    "duration": 0,
    "start_time": "2023-02-15T17:21:13.578Z"
   },
   {
    "duration": 0,
    "start_time": "2023-02-15T17:21:13.580Z"
   },
   {
    "duration": 0,
    "start_time": "2023-02-15T17:21:13.581Z"
   },
   {
    "duration": 114,
    "start_time": "2023-02-15T17:21:35.563Z"
   },
   {
    "duration": 35,
    "start_time": "2023-02-15T17:22:06.056Z"
   },
   {
    "duration": 19,
    "start_time": "2023-02-15T17:24:16.105Z"
   },
   {
    "duration": 10,
    "start_time": "2023-02-15T17:24:23.423Z"
   },
   {
    "duration": 20,
    "start_time": "2023-02-15T17:24:25.271Z"
   },
   {
    "duration": 1649,
    "start_time": "2023-02-15T17:25:53.964Z"
   },
   {
    "duration": 863,
    "start_time": "2023-02-15T17:25:55.615Z"
   },
   {
    "duration": 17,
    "start_time": "2023-02-15T17:25:56.479Z"
   },
   {
    "duration": 321,
    "start_time": "2023-02-15T17:25:56.498Z"
   },
   {
    "duration": 47,
    "start_time": "2023-02-15T17:25:56.821Z"
   },
   {
    "duration": 292,
    "start_time": "2023-02-15T17:25:56.870Z"
   },
   {
    "duration": 19,
    "start_time": "2023-02-15T17:25:57.164Z"
   },
   {
    "duration": 263,
    "start_time": "2023-02-15T17:25:57.185Z"
   },
   {
    "duration": 12,
    "start_time": "2023-02-15T17:25:57.450Z"
   },
   {
    "duration": 41,
    "start_time": "2023-02-15T17:25:57.465Z"
   },
   {
    "duration": 50,
    "start_time": "2023-02-15T17:25:57.508Z"
   },
   {
    "duration": 16,
    "start_time": "2023-02-15T17:25:57.560Z"
   },
   {
    "duration": 50,
    "start_time": "2023-02-15T17:25:57.578Z"
   },
   {
    "duration": 17,
    "start_time": "2023-02-15T17:25:57.630Z"
   },
   {
    "duration": 37,
    "start_time": "2023-02-15T17:25:57.649Z"
   },
   {
    "duration": 12,
    "start_time": "2023-02-15T17:25:57.688Z"
   },
   {
    "duration": 53,
    "start_time": "2023-02-15T17:25:57.701Z"
   },
   {
    "duration": 17,
    "start_time": "2023-02-15T17:25:57.756Z"
   },
   {
    "duration": 50,
    "start_time": "2023-02-15T17:25:57.774Z"
   },
   {
    "duration": 8,
    "start_time": "2023-02-15T17:25:57.826Z"
   },
   {
    "duration": 14,
    "start_time": "2023-02-15T17:25:57.836Z"
   },
   {
    "duration": 24,
    "start_time": "2023-02-15T17:25:57.852Z"
   },
   {
    "duration": 16,
    "start_time": "2023-02-15T17:25:57.877Z"
   },
   {
    "duration": 38,
    "start_time": "2023-02-15T17:25:57.895Z"
   },
   {
    "duration": 23,
    "start_time": "2023-02-15T17:25:57.935Z"
   },
   {
    "duration": 9,
    "start_time": "2023-02-15T17:25:57.960Z"
   },
   {
    "duration": 19,
    "start_time": "2023-02-15T17:25:57.971Z"
   },
   {
    "duration": 316,
    "start_time": "2023-02-15T17:25:57.993Z"
   },
   {
    "duration": 21,
    "start_time": "2023-02-15T17:25:58.311Z"
   },
   {
    "duration": 11,
    "start_time": "2023-02-15T17:25:58.334Z"
   },
   {
    "duration": 1287,
    "start_time": "2023-02-15T17:26:53.660Z"
   },
   {
    "duration": 887,
    "start_time": "2023-02-15T17:26:54.949Z"
   },
   {
    "duration": 16,
    "start_time": "2023-02-15T17:26:55.840Z"
   },
   {
    "duration": 345,
    "start_time": "2023-02-15T17:26:55.858Z"
   },
   {
    "duration": 48,
    "start_time": "2023-02-15T17:26:56.206Z"
   },
   {
    "duration": 305,
    "start_time": "2023-02-15T17:26:56.256Z"
   },
   {
    "duration": 18,
    "start_time": "2023-02-15T17:26:56.562Z"
   },
   {
    "duration": 269,
    "start_time": "2023-02-15T17:26:56.581Z"
   },
   {
    "duration": 12,
    "start_time": "2023-02-15T17:26:56.853Z"
   },
   {
    "duration": 51,
    "start_time": "2023-02-15T17:26:56.867Z"
   },
   {
    "duration": 22,
    "start_time": "2023-02-15T17:26:56.920Z"
   },
   {
    "duration": 38,
    "start_time": "2023-02-15T17:26:56.944Z"
   },
   {
    "duration": 19,
    "start_time": "2023-02-15T17:26:56.984Z"
   },
   {
    "duration": 57,
    "start_time": "2023-02-15T17:26:57.006Z"
   },
   {
    "duration": 11,
    "start_time": "2023-02-15T17:26:57.065Z"
   },
   {
    "duration": 35,
    "start_time": "2023-02-15T17:26:57.078Z"
   },
   {
    "duration": 30,
    "start_time": "2023-02-15T17:26:57.127Z"
   },
   {
    "duration": 17,
    "start_time": "2023-02-15T17:26:57.159Z"
   },
   {
    "duration": 29,
    "start_time": "2023-02-15T17:26:57.178Z"
   },
   {
    "duration": 9,
    "start_time": "2023-02-15T17:26:57.228Z"
   },
   {
    "duration": 15,
    "start_time": "2023-02-15T17:26:57.239Z"
   },
   {
    "duration": 32,
    "start_time": "2023-02-15T17:26:57.255Z"
   },
   {
    "duration": 40,
    "start_time": "2023-02-15T17:26:57.288Z"
   },
   {
    "duration": 13,
    "start_time": "2023-02-15T17:26:57.329Z"
   },
   {
    "duration": 31,
    "start_time": "2023-02-15T17:26:57.343Z"
   },
   {
    "duration": 10,
    "start_time": "2023-02-15T17:26:57.376Z"
   },
   {
    "duration": 20,
    "start_time": "2023-02-15T17:26:57.388Z"
   },
   {
    "duration": 305,
    "start_time": "2023-02-15T17:26:57.426Z"
   },
   {
    "duration": 21,
    "start_time": "2023-02-15T17:26:57.733Z"
   },
   {
    "duration": 9,
    "start_time": "2023-02-15T17:26:57.755Z"
   },
   {
    "duration": 1348,
    "start_time": "2023-02-15T17:28:19.696Z"
   },
   {
    "duration": 873,
    "start_time": "2023-02-15T17:28:21.046Z"
   },
   {
    "duration": 23,
    "start_time": "2023-02-15T17:28:21.920Z"
   },
   {
    "duration": 354,
    "start_time": "2023-02-15T17:28:21.945Z"
   },
   {
    "duration": 48,
    "start_time": "2023-02-15T17:28:22.301Z"
   },
   {
    "duration": 294,
    "start_time": "2023-02-15T17:28:22.350Z"
   },
   {
    "duration": 20,
    "start_time": "2023-02-15T17:28:22.646Z"
   },
   {
    "duration": 266,
    "start_time": "2023-02-15T17:28:22.667Z"
   },
   {
    "duration": 11,
    "start_time": "2023-02-15T17:28:22.935Z"
   },
   {
    "duration": 35,
    "start_time": "2023-02-15T17:28:22.949Z"
   },
   {
    "duration": 16,
    "start_time": "2023-02-15T17:28:22.986Z"
   },
   {
    "duration": 39,
    "start_time": "2023-02-15T17:28:23.028Z"
   },
   {
    "duration": 15,
    "start_time": "2023-02-15T17:28:23.069Z"
   },
   {
    "duration": 49,
    "start_time": "2023-02-15T17:28:23.086Z"
   },
   {
    "duration": 10,
    "start_time": "2023-02-15T17:28:23.137Z"
   },
   {
    "duration": 34,
    "start_time": "2023-02-15T17:28:23.149Z"
   },
   {
    "duration": 47,
    "start_time": "2023-02-15T17:28:23.185Z"
   },
   {
    "duration": 14,
    "start_time": "2023-02-15T17:28:23.234Z"
   },
   {
    "duration": 27,
    "start_time": "2023-02-15T17:28:23.250Z"
   },
   {
    "duration": 9,
    "start_time": "2023-02-15T17:28:23.279Z"
   },
   {
    "duration": 14,
    "start_time": "2023-02-15T17:28:23.290Z"
   },
   {
    "duration": 23,
    "start_time": "2023-02-15T17:28:23.328Z"
   },
   {
    "duration": 14,
    "start_time": "2023-02-15T17:28:23.353Z"
   },
   {
    "duration": 12,
    "start_time": "2023-02-15T17:28:23.368Z"
   },
   {
    "duration": 46,
    "start_time": "2023-02-15T17:28:23.382Z"
   },
   {
    "duration": 10,
    "start_time": "2023-02-15T17:28:23.430Z"
   },
   {
    "duration": 22,
    "start_time": "2023-02-15T17:28:23.442Z"
   },
   {
    "duration": 303,
    "start_time": "2023-02-15T17:28:23.467Z"
   },
   {
    "duration": 17,
    "start_time": "2023-02-15T17:28:23.772Z"
   },
   {
    "duration": 9,
    "start_time": "2023-02-15T17:28:23.790Z"
   },
   {
    "duration": 1219,
    "start_time": "2023-02-15T17:30:08.646Z"
   },
   {
    "duration": 1041,
    "start_time": "2023-02-15T17:30:09.867Z"
   },
   {
    "duration": 22,
    "start_time": "2023-02-15T17:30:10.910Z"
   },
   {
    "duration": 313,
    "start_time": "2023-02-15T17:30:10.935Z"
   },
   {
    "duration": 42,
    "start_time": "2023-02-15T17:30:11.250Z"
   },
   {
    "duration": 299,
    "start_time": "2023-02-15T17:30:11.294Z"
   },
   {
    "duration": 19,
    "start_time": "2023-02-15T17:30:11.595Z"
   },
   {
    "duration": 258,
    "start_time": "2023-02-15T17:30:11.628Z"
   },
   {
    "duration": 12,
    "start_time": "2023-02-15T17:30:11.888Z"
   },
   {
    "duration": 55,
    "start_time": "2023-02-15T17:30:11.902Z"
   },
   {
    "duration": 16,
    "start_time": "2023-02-15T17:30:11.958Z"
   },
   {
    "duration": 52,
    "start_time": "2023-02-15T17:30:11.976Z"
   },
   {
    "duration": 17,
    "start_time": "2023-02-15T17:30:12.030Z"
   },
   {
    "duration": 35,
    "start_time": "2023-02-15T17:30:12.049Z"
   },
   {
    "duration": 11,
    "start_time": "2023-02-15T17:30:12.085Z"
   },
   {
    "duration": 63,
    "start_time": "2023-02-15T17:30:12.098Z"
   },
   {
    "duration": 16,
    "start_time": "2023-02-15T17:30:12.163Z"
   },
   {
    "duration": 57,
    "start_time": "2023-02-15T17:30:12.180Z"
   },
   {
    "duration": 13,
    "start_time": "2023-02-15T17:30:12.239Z"
   },
   {
    "duration": 30,
    "start_time": "2023-02-15T17:30:12.254Z"
   },
   {
    "duration": 70,
    "start_time": "2023-02-15T17:30:12.285Z"
   },
   {
    "duration": 19,
    "start_time": "2023-02-15T17:30:12.357Z"
   },
   {
    "duration": 24,
    "start_time": "2023-02-15T17:30:12.379Z"
   },
   {
    "duration": 35,
    "start_time": "2023-02-15T17:30:12.404Z"
   },
   {
    "duration": 10,
    "start_time": "2023-02-15T17:30:12.441Z"
   },
   {
    "duration": 21,
    "start_time": "2023-02-15T17:30:12.454Z"
   },
   {
    "duration": 323,
    "start_time": "2023-02-15T17:30:12.477Z"
   },
   {
    "duration": 25,
    "start_time": "2023-02-15T17:30:12.804Z"
   },
   {
    "duration": 23,
    "start_time": "2023-02-15T17:30:12.831Z"
   },
   {
    "duration": 9,
    "start_time": "2023-02-15T17:30:12.856Z"
   },
   {
    "duration": 1332,
    "start_time": "2023-02-15T17:59:06.839Z"
   },
   {
    "duration": 3614,
    "start_time": "2023-02-15T17:59:08.173Z"
   },
   {
    "duration": 22,
    "start_time": "2023-02-15T17:59:11.788Z"
   },
   {
    "duration": 150,
    "start_time": "2023-02-15T17:59:11.811Z"
   },
   {
    "duration": 67,
    "start_time": "2023-02-15T17:59:11.964Z"
   },
   {
    "duration": 171,
    "start_time": "2023-02-15T17:59:12.033Z"
   },
   {
    "duration": 13,
    "start_time": "2023-02-15T17:59:12.206Z"
   },
   {
    "duration": 182,
    "start_time": "2023-02-15T17:59:12.221Z"
   },
   {
    "duration": 12,
    "start_time": "2023-02-15T17:59:12.405Z"
   },
   {
    "duration": 148,
    "start_time": "2023-02-15T17:59:12.419Z"
   },
   {
    "duration": 36,
    "start_time": "2023-02-15T17:59:12.569Z"
   },
   {
    "duration": 58,
    "start_time": "2023-02-15T17:59:12.607Z"
   },
   {
    "duration": 37,
    "start_time": "2023-02-15T17:59:12.667Z"
   },
   {
    "duration": 67,
    "start_time": "2023-02-15T17:59:12.706Z"
   },
   {
    "duration": 10,
    "start_time": "2023-02-15T17:59:12.775Z"
   },
   {
    "duration": 28,
    "start_time": "2023-02-15T17:59:12.787Z"
   },
   {
    "duration": 51,
    "start_time": "2023-02-15T17:59:12.817Z"
   },
   {
    "duration": 38,
    "start_time": "2023-02-15T17:59:12.870Z"
   },
   {
    "duration": 8,
    "start_time": "2023-02-15T17:59:12.910Z"
   },
   {
    "duration": 45,
    "start_time": "2023-02-15T17:59:12.920Z"
   },
   {
    "duration": 38,
    "start_time": "2023-02-15T17:59:12.967Z"
   },
   {
    "duration": 27,
    "start_time": "2023-02-15T17:59:13.006Z"
   },
   {
    "duration": 39,
    "start_time": "2023-02-15T17:59:13.035Z"
   },
   {
    "duration": 32,
    "start_time": "2023-02-15T17:59:13.076Z"
   },
   {
    "duration": 11,
    "start_time": "2023-02-15T17:59:13.109Z"
   },
   {
    "duration": 44,
    "start_time": "2023-02-15T17:59:13.121Z"
   },
   {
    "duration": 438,
    "start_time": "2023-02-15T17:59:13.167Z"
   },
   {
    "duration": 21,
    "start_time": "2023-02-15T17:59:13.607Z"
   },
   {
    "duration": 24,
    "start_time": "2023-02-15T17:59:13.630Z"
   },
   {
    "duration": 24,
    "start_time": "2023-02-15T17:59:13.656Z"
   },
   {
    "duration": 8,
    "start_time": "2023-02-15T17:59:13.681Z"
   },
   {
    "duration": 9,
    "start_time": "2023-02-15T17:59:13.690Z"
   },
   {
    "duration": 5,
    "start_time": "2023-02-15T17:59:13.701Z"
   },
   {
    "duration": 8,
    "start_time": "2023-02-15T17:59:13.708Z"
   },
   {
    "duration": 115,
    "start_time": "2023-02-15T17:59:49.880Z"
   },
   {
    "duration": 1409,
    "start_time": "2023-02-15T18:00:14.369Z"
   },
   {
    "duration": 952,
    "start_time": "2023-02-15T18:00:15.781Z"
   },
   {
    "duration": 35,
    "start_time": "2023-02-15T18:00:16.735Z"
   },
   {
    "duration": 170,
    "start_time": "2023-02-15T18:00:16.783Z"
   },
   {
    "duration": 65,
    "start_time": "2023-02-15T18:00:16.960Z"
   },
   {
    "duration": 197,
    "start_time": "2023-02-15T18:00:17.028Z"
   },
   {
    "duration": 60,
    "start_time": "2023-02-15T18:00:17.227Z"
   },
   {
    "duration": 1543,
    "start_time": "2023-02-15T18:00:17.289Z"
   },
   {
    "duration": 0,
    "start_time": "2023-02-15T18:00:18.834Z"
   },
   {
    "duration": 0,
    "start_time": "2023-02-15T18:00:18.837Z"
   },
   {
    "duration": 0,
    "start_time": "2023-02-15T18:00:18.838Z"
   },
   {
    "duration": 0,
    "start_time": "2023-02-15T18:00:18.840Z"
   },
   {
    "duration": 0,
    "start_time": "2023-02-15T18:00:18.841Z"
   },
   {
    "duration": 0,
    "start_time": "2023-02-15T18:00:18.842Z"
   },
   {
    "duration": 0,
    "start_time": "2023-02-15T18:00:18.843Z"
   },
   {
    "duration": 0,
    "start_time": "2023-02-15T18:00:18.844Z"
   },
   {
    "duration": 0,
    "start_time": "2023-02-15T18:00:18.846Z"
   },
   {
    "duration": 0,
    "start_time": "2023-02-15T18:00:18.849Z"
   },
   {
    "duration": 0,
    "start_time": "2023-02-15T18:00:18.850Z"
   },
   {
    "duration": 1,
    "start_time": "2023-02-15T18:00:18.851Z"
   },
   {
    "duration": 0,
    "start_time": "2023-02-15T18:00:18.852Z"
   },
   {
    "duration": 0,
    "start_time": "2023-02-15T18:00:18.853Z"
   },
   {
    "duration": 0,
    "start_time": "2023-02-15T18:00:18.856Z"
   },
   {
    "duration": 0,
    "start_time": "2023-02-15T18:00:18.858Z"
   },
   {
    "duration": 0,
    "start_time": "2023-02-15T18:00:18.859Z"
   },
   {
    "duration": 0,
    "start_time": "2023-02-15T18:00:18.864Z"
   },
   {
    "duration": 0,
    "start_time": "2023-02-15T18:00:18.865Z"
   },
   {
    "duration": 0,
    "start_time": "2023-02-15T18:00:18.865Z"
   },
   {
    "duration": 0,
    "start_time": "2023-02-15T18:00:18.866Z"
   },
   {
    "duration": 0,
    "start_time": "2023-02-15T18:00:18.867Z"
   },
   {
    "duration": 0,
    "start_time": "2023-02-15T18:00:18.870Z"
   },
   {
    "duration": 0,
    "start_time": "2023-02-15T18:00:18.872Z"
   },
   {
    "duration": 0,
    "start_time": "2023-02-15T18:00:18.873Z"
   },
   {
    "duration": 0,
    "start_time": "2023-02-15T18:00:18.874Z"
   },
   {
    "duration": 1397,
    "start_time": "2023-02-15T18:00:56.668Z"
   },
   {
    "duration": 113,
    "start_time": "2023-02-15T18:01:05.973Z"
   },
   {
    "duration": 35,
    "start_time": "2023-02-15T18:01:30.528Z"
   },
   {
    "duration": 22,
    "start_time": "2023-02-15T18:03:45.369Z"
   },
   {
    "duration": 9,
    "start_time": "2023-02-15T18:05:42.177Z"
   },
   {
    "duration": 1366,
    "start_time": "2023-02-15T18:06:01.903Z"
   },
   {
    "duration": 995,
    "start_time": "2023-02-15T18:06:03.272Z"
   },
   {
    "duration": 22,
    "start_time": "2023-02-15T18:06:04.269Z"
   },
   {
    "duration": 166,
    "start_time": "2023-02-15T18:06:04.293Z"
   },
   {
    "duration": 69,
    "start_time": "2023-02-15T18:06:04.467Z"
   },
   {
    "duration": 148,
    "start_time": "2023-02-15T18:06:04.537Z"
   },
   {
    "duration": 6,
    "start_time": "2023-02-15T18:06:04.687Z"
   },
   {
    "duration": 9,
    "start_time": "2023-02-15T18:06:04.695Z"
   },
   {
    "duration": 45,
    "start_time": "2023-02-15T18:06:04.705Z"
   },
   {
    "duration": 60,
    "start_time": "2023-02-15T18:06:04.762Z"
   },
   {
    "duration": 58,
    "start_time": "2023-02-15T18:06:04.824Z"
   },
   {
    "duration": 49,
    "start_time": "2023-02-15T18:06:04.884Z"
   },
   {
    "duration": 49,
    "start_time": "2023-02-15T18:06:04.935Z"
   },
   {
    "duration": 61,
    "start_time": "2023-02-15T18:06:04.986Z"
   },
   {
    "duration": 14,
    "start_time": "2023-02-15T18:06:05.052Z"
   },
   {
    "duration": 62,
    "start_time": "2023-02-15T18:06:05.068Z"
   },
   {
    "duration": 30,
    "start_time": "2023-02-15T18:06:05.132Z"
   },
   {
    "duration": 61,
    "start_time": "2023-02-15T18:06:05.165Z"
   },
   {
    "duration": 9,
    "start_time": "2023-02-15T18:06:05.227Z"
   },
   {
    "duration": 60,
    "start_time": "2023-02-15T18:06:05.237Z"
   },
   {
    "duration": 70,
    "start_time": "2023-02-15T18:06:05.299Z"
   },
   {
    "duration": 35,
    "start_time": "2023-02-15T18:06:05.370Z"
   },
   {
    "duration": 65,
    "start_time": "2023-02-15T18:06:05.407Z"
   },
   {
    "duration": 42,
    "start_time": "2023-02-15T18:06:05.474Z"
   },
   {
    "duration": 9,
    "start_time": "2023-02-15T18:06:05.518Z"
   },
   {
    "duration": 48,
    "start_time": "2023-02-15T18:06:05.529Z"
   },
   {
    "duration": 504,
    "start_time": "2023-02-15T18:06:05.578Z"
   },
   {
    "duration": 21,
    "start_time": "2023-02-15T18:06:06.085Z"
   },
   {
    "duration": 14,
    "start_time": "2023-02-15T18:06:06.108Z"
   },
   {
    "duration": 26,
    "start_time": "2023-02-15T18:06:06.124Z"
   },
   {
    "duration": 43,
    "start_time": "2023-02-15T18:06:06.153Z"
   },
   {
    "duration": 25,
    "start_time": "2023-02-15T18:06:06.200Z"
   },
   {
    "duration": 23,
    "start_time": "2023-02-15T18:06:06.227Z"
   },
   {
    "duration": 57,
    "start_time": "2023-02-15T18:06:06.258Z"
   },
   {
    "duration": 25,
    "start_time": "2023-02-15T18:12:25.193Z"
   },
   {
    "duration": 5,
    "start_time": "2023-02-15T18:13:12.014Z"
   },
   {
    "duration": 30,
    "start_time": "2023-02-15T18:14:37.715Z"
   },
   {
    "duration": 1416,
    "start_time": "2023-02-15T18:45:02.347Z"
   },
   {
    "duration": 876,
    "start_time": "2023-02-15T18:45:03.767Z"
   },
   {
    "duration": 33,
    "start_time": "2023-02-15T18:45:04.644Z"
   },
   {
    "duration": 143,
    "start_time": "2023-02-15T18:45:04.678Z"
   },
   {
    "duration": 67,
    "start_time": "2023-02-15T18:45:04.823Z"
   },
   {
    "duration": 151,
    "start_time": "2023-02-15T18:45:04.892Z"
   },
   {
    "duration": 45,
    "start_time": "2023-02-15T18:45:05.048Z"
   },
   {
    "duration": 69,
    "start_time": "2023-02-15T18:45:05.095Z"
   },
   {
    "duration": 14,
    "start_time": "2023-02-15T18:45:05.166Z"
   },
   {
    "duration": 48,
    "start_time": "2023-02-15T18:45:05.183Z"
   },
   {
    "duration": 43,
    "start_time": "2023-02-15T18:45:05.233Z"
   },
   {
    "duration": 54,
    "start_time": "2023-02-15T18:45:05.277Z"
   },
   {
    "duration": 59,
    "start_time": "2023-02-15T18:45:05.333Z"
   },
   {
    "duration": 95,
    "start_time": "2023-02-15T18:45:05.393Z"
   },
   {
    "duration": 10,
    "start_time": "2023-02-15T18:45:05.490Z"
   },
   {
    "duration": 61,
    "start_time": "2023-02-15T18:45:05.501Z"
   },
   {
    "duration": 49,
    "start_time": "2023-02-15T18:45:05.563Z"
   },
   {
    "duration": 86,
    "start_time": "2023-02-15T18:45:05.613Z"
   },
   {
    "duration": 11,
    "start_time": "2023-02-15T18:45:05.701Z"
   },
   {
    "duration": 53,
    "start_time": "2023-02-15T18:45:05.714Z"
   },
   {
    "duration": 71,
    "start_time": "2023-02-15T18:45:05.769Z"
   },
   {
    "duration": 42,
    "start_time": "2023-02-15T18:45:05.842Z"
   },
   {
    "duration": 78,
    "start_time": "2023-02-15T18:45:05.885Z"
   },
   {
    "duration": 59,
    "start_time": "2023-02-15T18:45:05.965Z"
   },
   {
    "duration": 12,
    "start_time": "2023-02-15T18:45:06.026Z"
   },
   {
    "duration": 83,
    "start_time": "2023-02-15T18:45:06.039Z"
   },
   {
    "duration": 119,
    "start_time": "2023-02-15T18:45:06.124Z"
   },
   {
    "duration": 0,
    "start_time": "2023-02-15T18:45:06.246Z"
   },
   {
    "duration": 0,
    "start_time": "2023-02-15T18:45:06.247Z"
   },
   {
    "duration": 0,
    "start_time": "2023-02-15T18:45:06.248Z"
   },
   {
    "duration": 0,
    "start_time": "2023-02-15T18:45:06.249Z"
   },
   {
    "duration": 0,
    "start_time": "2023-02-15T18:45:06.250Z"
   },
   {
    "duration": 1388,
    "start_time": "2023-02-15T18:46:13.973Z"
   },
   {
    "duration": 903,
    "start_time": "2023-02-15T18:46:15.364Z"
   },
   {
    "duration": 36,
    "start_time": "2023-02-15T18:46:16.278Z"
   },
   {
    "duration": 210,
    "start_time": "2023-02-15T18:46:16.316Z"
   },
   {
    "duration": 85,
    "start_time": "2023-02-15T18:46:16.530Z"
   },
   {
    "duration": 177,
    "start_time": "2023-02-15T18:46:16.618Z"
   },
   {
    "duration": 7,
    "start_time": "2023-02-15T18:46:16.797Z"
   },
   {
    "duration": 73,
    "start_time": "2023-02-15T18:46:16.806Z"
   },
   {
    "duration": 12,
    "start_time": "2023-02-15T18:46:16.880Z"
   },
   {
    "duration": 26,
    "start_time": "2023-02-15T18:46:16.893Z"
   },
   {
    "duration": 66,
    "start_time": "2023-02-15T18:46:16.921Z"
   },
   {
    "duration": 55,
    "start_time": "2023-02-15T18:46:16.988Z"
   },
   {
    "duration": 55,
    "start_time": "2023-02-15T18:46:17.045Z"
   },
   {
    "duration": 79,
    "start_time": "2023-02-15T18:46:17.104Z"
   },
   {
    "duration": 7,
    "start_time": "2023-02-15T18:46:17.185Z"
   },
   {
    "duration": 27,
    "start_time": "2023-02-15T18:46:17.194Z"
   },
   {
    "duration": 62,
    "start_time": "2023-02-15T18:46:17.223Z"
   },
   {
    "duration": 45,
    "start_time": "2023-02-15T18:46:17.286Z"
   },
   {
    "duration": 28,
    "start_time": "2023-02-15T18:46:17.357Z"
   },
   {
    "duration": 38,
    "start_time": "2023-02-15T18:46:17.387Z"
   },
   {
    "duration": 63,
    "start_time": "2023-02-15T18:46:17.426Z"
   },
   {
    "duration": 37,
    "start_time": "2023-02-15T18:46:17.491Z"
   },
   {
    "duration": 62,
    "start_time": "2023-02-15T18:46:17.529Z"
   },
   {
    "duration": 44,
    "start_time": "2023-02-15T18:46:17.593Z"
   },
   {
    "duration": 30,
    "start_time": "2023-02-15T18:46:17.639Z"
   },
   {
    "duration": 60,
    "start_time": "2023-02-15T18:46:17.676Z"
   },
   {
    "duration": 156,
    "start_time": "2023-02-15T18:46:17.738Z"
   },
   {
    "duration": 0,
    "start_time": "2023-02-15T18:46:17.896Z"
   },
   {
    "duration": 0,
    "start_time": "2023-02-15T18:46:17.897Z"
   },
   {
    "duration": 0,
    "start_time": "2023-02-15T18:46:17.898Z"
   },
   {
    "duration": 0,
    "start_time": "2023-02-15T18:46:17.899Z"
   },
   {
    "duration": 0,
    "start_time": "2023-02-15T18:46:17.900Z"
   },
   {
    "duration": 1448,
    "start_time": "2023-02-15T18:52:52.389Z"
   },
   {
    "duration": 986,
    "start_time": "2023-02-15T18:52:53.840Z"
   },
   {
    "duration": 40,
    "start_time": "2023-02-15T18:52:54.828Z"
   },
   {
    "duration": 177,
    "start_time": "2023-02-15T18:52:54.876Z"
   },
   {
    "duration": 67,
    "start_time": "2023-02-15T18:52:55.054Z"
   },
   {
    "duration": 179,
    "start_time": "2023-02-15T18:52:55.123Z"
   },
   {
    "duration": 9,
    "start_time": "2023-02-15T18:52:55.304Z"
   },
   {
    "duration": 72,
    "start_time": "2023-02-15T18:52:55.315Z"
   },
   {
    "duration": 19,
    "start_time": "2023-02-15T18:52:55.389Z"
   },
   {
    "duration": 31,
    "start_time": "2023-02-15T18:52:55.411Z"
   },
   {
    "duration": 56,
    "start_time": "2023-02-15T18:52:55.453Z"
   },
   {
    "duration": 78,
    "start_time": "2023-02-15T18:52:55.510Z"
   },
   {
    "duration": 46,
    "start_time": "2023-02-15T18:52:55.590Z"
   },
   {
    "duration": 78,
    "start_time": "2023-02-15T18:52:55.638Z"
   },
   {
    "duration": 8,
    "start_time": "2023-02-15T18:52:55.717Z"
   },
   {
    "duration": 48,
    "start_time": "2023-02-15T18:52:55.726Z"
   },
   {
    "duration": 44,
    "start_time": "2023-02-15T18:52:55.780Z"
   },
   {
    "duration": 74,
    "start_time": "2023-02-15T18:52:55.825Z"
   },
   {
    "duration": 9,
    "start_time": "2023-02-15T18:52:55.901Z"
   },
   {
    "duration": 31,
    "start_time": "2023-02-15T18:52:55.912Z"
   },
   {
    "duration": 68,
    "start_time": "2023-02-15T18:52:55.958Z"
   },
   {
    "duration": 63,
    "start_time": "2023-02-15T18:52:56.028Z"
   },
   {
    "duration": 32,
    "start_time": "2023-02-15T18:52:56.098Z"
   },
   {
    "duration": 76,
    "start_time": "2023-02-15T18:52:56.132Z"
   },
   {
    "duration": 12,
    "start_time": "2023-02-15T18:52:56.210Z"
   },
   {
    "duration": 76,
    "start_time": "2023-02-15T18:52:56.224Z"
   },
   {
    "duration": 408,
    "start_time": "2023-02-15T18:52:56.302Z"
   },
   {
    "duration": 0,
    "start_time": "2023-02-15T18:52:56.713Z"
   },
   {
    "duration": 0,
    "start_time": "2023-02-15T18:52:56.715Z"
   },
   {
    "duration": 0,
    "start_time": "2023-02-15T18:52:56.716Z"
   },
   {
    "duration": 0,
    "start_time": "2023-02-15T18:52:56.718Z"
   },
   {
    "duration": 0,
    "start_time": "2023-02-15T18:52:56.719Z"
   },
   {
    "duration": 952,
    "start_time": "2023-02-15T18:55:10.083Z"
   },
   {
    "duration": 1502,
    "start_time": "2023-02-15T18:55:36.996Z"
   },
   {
    "duration": 961,
    "start_time": "2023-02-15T18:55:38.500Z"
   },
   {
    "duration": 30,
    "start_time": "2023-02-15T18:55:39.463Z"
   },
   {
    "duration": 162,
    "start_time": "2023-02-15T18:55:39.495Z"
   },
   {
    "duration": 70,
    "start_time": "2023-02-15T18:55:39.659Z"
   },
   {
    "duration": 183,
    "start_time": "2023-02-15T18:55:39.731Z"
   },
   {
    "duration": 8,
    "start_time": "2023-02-15T18:55:39.915Z"
   },
   {
    "duration": 84,
    "start_time": "2023-02-15T18:55:39.924Z"
   },
   {
    "duration": 20,
    "start_time": "2023-02-15T18:55:40.011Z"
   },
   {
    "duration": 51,
    "start_time": "2023-02-15T18:55:40.034Z"
   },
   {
    "duration": 35,
    "start_time": "2023-02-15T18:55:40.087Z"
   },
   {
    "duration": 86,
    "start_time": "2023-02-15T18:55:40.124Z"
   },
   {
    "duration": 41,
    "start_time": "2023-02-15T18:55:40.211Z"
   },
   {
    "duration": 58,
    "start_time": "2023-02-15T18:55:40.258Z"
   },
   {
    "duration": 7,
    "start_time": "2023-02-15T18:55:40.318Z"
   },
   {
    "duration": 97,
    "start_time": "2023-02-15T18:55:40.326Z"
   },
   {
    "duration": 48,
    "start_time": "2023-02-15T18:55:40.425Z"
   },
   {
    "duration": 66,
    "start_time": "2023-02-15T18:55:40.475Z"
   },
   {
    "duration": 14,
    "start_time": "2023-02-15T18:55:40.543Z"
   },
   {
    "duration": 55,
    "start_time": "2023-02-15T18:55:40.559Z"
   },
   {
    "duration": 54,
    "start_time": "2023-02-15T18:55:40.616Z"
   },
   {
    "duration": 65,
    "start_time": "2023-02-15T18:55:40.672Z"
   },
   {
    "duration": 73,
    "start_time": "2023-02-15T18:55:40.739Z"
   },
   {
    "duration": 72,
    "start_time": "2023-02-15T18:55:40.814Z"
   },
   {
    "duration": 19,
    "start_time": "2023-02-15T18:55:40.889Z"
   },
   {
    "duration": 71,
    "start_time": "2023-02-15T18:55:40.910Z"
   },
   {
    "duration": 1028,
    "start_time": "2023-02-15T18:55:40.983Z"
   },
   {
    "duration": 3,
    "start_time": "2023-02-15T18:55:42.013Z"
   },
   {
    "duration": 5,
    "start_time": "2023-02-15T18:55:42.018Z"
   },
   {
    "duration": 4,
    "start_time": "2023-02-15T18:55:42.026Z"
   },
   {
    "duration": 20,
    "start_time": "2023-02-15T18:55:42.032Z"
   },
   {
    "duration": 60,
    "start_time": "2023-02-15T18:55:42.054Z"
   },
   {
    "duration": 98,
    "start_time": "2023-02-15T19:05:03.306Z"
   },
   {
    "duration": 42,
    "start_time": "2023-02-15T19:05:24.187Z"
   },
   {
    "duration": 66,
    "start_time": "2023-02-15T19:06:31.334Z"
   },
   {
    "duration": 454868,
    "start_time": "2023-02-15T19:08:02.574Z"
   },
   {
    "duration": 456652,
    "start_time": "2023-02-15T19:18:14.319Z"
   },
   {
    "duration": 449244,
    "start_time": "2023-02-15T19:29:50.039Z"
   },
   {
    "duration": 33687,
    "start_time": "2023-02-15T19:37:59.437Z"
   },
   {
    "duration": 1349,
    "start_time": "2023-02-15T19:44:07.721Z"
   },
   {
    "duration": 876,
    "start_time": "2023-02-15T19:44:09.072Z"
   },
   {
    "duration": 32,
    "start_time": "2023-02-15T19:44:09.950Z"
   },
   {
    "duration": 167,
    "start_time": "2023-02-15T19:44:09.983Z"
   },
   {
    "duration": 65,
    "start_time": "2023-02-15T19:44:10.152Z"
   },
   {
    "duration": 169,
    "start_time": "2023-02-15T19:44:10.220Z"
   },
   {
    "duration": 6,
    "start_time": "2023-02-15T19:44:10.391Z"
   },
   {
    "duration": 73,
    "start_time": "2023-02-15T19:44:10.398Z"
   },
   {
    "duration": 23,
    "start_time": "2023-02-15T19:44:10.473Z"
   },
   {
    "duration": 56,
    "start_time": "2023-02-15T19:44:10.498Z"
   },
   {
    "duration": 56,
    "start_time": "2023-02-15T19:44:10.557Z"
   },
   {
    "duration": 67,
    "start_time": "2023-02-15T19:44:10.615Z"
   },
   {
    "duration": 37,
    "start_time": "2023-02-15T19:44:10.684Z"
   },
   {
    "duration": 74,
    "start_time": "2023-02-15T19:44:10.725Z"
   },
   {
    "duration": 9,
    "start_time": "2023-02-15T19:44:10.801Z"
   },
   {
    "duration": 58,
    "start_time": "2023-02-15T19:44:10.811Z"
   },
   {
    "duration": 52,
    "start_time": "2023-02-15T19:44:10.871Z"
   },
   {
    "duration": 71,
    "start_time": "2023-02-15T19:44:10.926Z"
   },
   {
    "duration": 9,
    "start_time": "2023-02-15T19:44:10.999Z"
   },
   {
    "duration": 59,
    "start_time": "2023-02-15T19:44:11.010Z"
   },
   {
    "duration": 55,
    "start_time": "2023-02-15T19:44:11.071Z"
   },
   {
    "duration": 45,
    "start_time": "2023-02-15T19:44:11.129Z"
   },
   {
    "duration": 30,
    "start_time": "2023-02-15T19:44:11.177Z"
   },
   {
    "duration": 74,
    "start_time": "2023-02-15T19:44:11.209Z"
   },
   {
    "duration": 13,
    "start_time": "2023-02-15T19:44:11.284Z"
   },
   {
    "duration": 76,
    "start_time": "2023-02-15T19:44:11.299Z"
   },
   {
    "duration": 989,
    "start_time": "2023-02-15T19:44:11.378Z"
   },
   {
    "duration": 438216,
    "start_time": "2023-02-15T19:44:12.369Z"
   },
   {
    "duration": 35447,
    "start_time": "2023-02-15T19:51:30.587Z"
   },
   {
    "duration": 1365,
    "start_time": "2023-02-15T19:59:10.300Z"
   },
   {
    "duration": 851,
    "start_time": "2023-02-15T19:59:11.667Z"
   },
   {
    "duration": 20,
    "start_time": "2023-02-15T19:59:12.520Z"
   },
   {
    "duration": 169,
    "start_time": "2023-02-15T19:59:12.542Z"
   },
   {
    "duration": 77,
    "start_time": "2023-02-15T19:59:12.713Z"
   },
   {
    "duration": 150,
    "start_time": "2023-02-15T19:59:12.791Z"
   },
   {
    "duration": 15,
    "start_time": "2023-02-15T19:59:12.943Z"
   },
   {
    "duration": 58,
    "start_time": "2023-02-15T19:59:12.959Z"
   },
   {
    "duration": 14,
    "start_time": "2023-02-15T19:59:13.019Z"
   },
   {
    "duration": 35,
    "start_time": "2023-02-15T19:59:13.051Z"
   },
   {
    "duration": 34,
    "start_time": "2023-02-15T19:59:13.088Z"
   },
   {
    "duration": 64,
    "start_time": "2023-02-15T19:59:13.124Z"
   },
   {
    "duration": 33,
    "start_time": "2023-02-15T19:59:13.189Z"
   },
   {
    "duration": 70,
    "start_time": "2023-02-15T19:59:13.223Z"
   },
   {
    "duration": 9,
    "start_time": "2023-02-15T19:59:13.295Z"
   },
   {
    "duration": 51,
    "start_time": "2023-02-15T19:59:13.306Z"
   },
   {
    "duration": 36,
    "start_time": "2023-02-15T19:59:13.359Z"
   },
   {
    "duration": 76,
    "start_time": "2023-02-15T19:59:13.397Z"
   },
   {
    "duration": 13,
    "start_time": "2023-02-15T19:59:13.475Z"
   },
   {
    "duration": 37,
    "start_time": "2023-02-15T19:59:13.490Z"
   },
   {
    "duration": 80,
    "start_time": "2023-02-15T19:59:13.529Z"
   },
   {
    "duration": 55,
    "start_time": "2023-02-15T19:59:13.611Z"
   },
   {
    "duration": 41,
    "start_time": "2023-02-15T19:59:13.669Z"
   },
   {
    "duration": 67,
    "start_time": "2023-02-15T19:59:13.712Z"
   },
   {
    "duration": 21,
    "start_time": "2023-02-15T19:59:13.782Z"
   },
   {
    "duration": 77,
    "start_time": "2023-02-15T19:59:13.805Z"
   },
   {
    "duration": 902,
    "start_time": "2023-02-15T19:59:13.884Z"
   },
   {
    "duration": 416909,
    "start_time": "2023-02-15T19:59:14.789Z"
   },
   {
    "duration": 33732,
    "start_time": "2023-02-15T20:06:11.700Z"
   },
   {
    "duration": 1710467,
    "start_time": "2023-02-15T20:06:45.434Z"
   },
   {
    "duration": 221,
    "start_time": "2023-02-15T20:35:15.903Z"
   },
   {
    "duration": 2,
    "start_time": "2023-02-15T20:35:16.126Z"
   },
   {
    "duration": 1397,
    "start_time": "2023-02-15T20:37:10.325Z"
   },
   {
    "duration": 3259,
    "start_time": "2023-02-15T20:37:11.723Z"
   },
   {
    "duration": 22,
    "start_time": "2023-02-15T20:37:14.985Z"
   },
   {
    "duration": 158,
    "start_time": "2023-02-15T20:37:15.009Z"
   },
   {
    "duration": 71,
    "start_time": "2023-02-15T20:37:15.168Z"
   },
   {
    "duration": 165,
    "start_time": "2023-02-15T20:37:15.250Z"
   },
   {
    "duration": 7,
    "start_time": "2023-02-15T20:37:15.418Z"
   },
   {
    "duration": 66,
    "start_time": "2023-02-15T20:37:15.427Z"
   },
   {
    "duration": 14,
    "start_time": "2023-02-15T20:37:15.495Z"
   },
   {
    "duration": 63,
    "start_time": "2023-02-15T20:37:15.513Z"
   },
   {
    "duration": 34,
    "start_time": "2023-02-15T20:37:15.577Z"
   },
   {
    "duration": 70,
    "start_time": "2023-02-15T20:37:15.613Z"
   },
   {
    "duration": 37,
    "start_time": "2023-02-15T20:37:15.685Z"
   },
   {
    "duration": 61,
    "start_time": "2023-02-15T20:37:15.727Z"
   },
   {
    "duration": 9,
    "start_time": "2023-02-15T20:37:15.790Z"
   },
   {
    "duration": 28,
    "start_time": "2023-02-15T20:37:15.801Z"
   },
   {
    "duration": 58,
    "start_time": "2023-02-15T20:37:15.831Z"
   },
   {
    "duration": 75,
    "start_time": "2023-02-15T20:37:15.890Z"
   },
   {
    "duration": 9,
    "start_time": "2023-02-15T20:37:15.966Z"
   },
   {
    "duration": 31,
    "start_time": "2023-02-15T20:37:15.977Z"
   },
   {
    "duration": 63,
    "start_time": "2023-02-15T20:37:16.010Z"
   },
   {
    "duration": 33,
    "start_time": "2023-02-15T20:37:16.075Z"
   },
   {
    "duration": 55,
    "start_time": "2023-02-15T20:37:16.110Z"
   },
   {
    "duration": 41,
    "start_time": "2023-02-15T20:37:16.166Z"
   },
   {
    "duration": 13,
    "start_time": "2023-02-15T20:37:16.209Z"
   },
   {
    "duration": 71,
    "start_time": "2023-02-15T20:37:16.224Z"
   },
   {
    "duration": 993,
    "start_time": "2023-02-15T20:37:16.296Z"
   },
   {
    "duration": 2,
    "start_time": "2023-02-15T20:37:17.293Z"
   },
   {
    "duration": 1786,
    "start_time": "2023-02-15T20:37:17.296Z"
   },
   {
    "duration": 2,
    "start_time": "2023-02-15T20:37:19.084Z"
   },
   {
    "duration": 7,
    "start_time": "2023-02-15T20:37:19.088Z"
   },
   {
    "duration": 5,
    "start_time": "2023-02-15T20:37:19.097Z"
   },
   {
    "duration": 34368,
    "start_time": "2023-02-15T20:37:47.318Z"
   },
   {
    "duration": 34168,
    "start_time": "2023-02-15T20:38:34.836Z"
   },
   {
    "duration": 422884,
    "start_time": "2023-02-15T20:39:29.790Z"
   },
   {
    "duration": 1454,
    "start_time": "2023-02-15T20:47:05.479Z"
   },
   {
    "duration": 837,
    "start_time": "2023-02-15T20:47:06.935Z"
   },
   {
    "duration": 22,
    "start_time": "2023-02-15T20:47:07.774Z"
   },
   {
    "duration": 162,
    "start_time": "2023-02-15T20:47:07.798Z"
   },
   {
    "duration": 69,
    "start_time": "2023-02-15T20:47:07.961Z"
   },
   {
    "duration": 147,
    "start_time": "2023-02-15T20:47:08.031Z"
   },
   {
    "duration": 7,
    "start_time": "2023-02-15T20:47:08.180Z"
   },
   {
    "duration": 63,
    "start_time": "2023-02-15T20:47:08.189Z"
   },
   {
    "duration": 14,
    "start_time": "2023-02-15T20:47:08.265Z"
   },
   {
    "duration": 30,
    "start_time": "2023-02-15T20:47:08.281Z"
   },
   {
    "duration": 58,
    "start_time": "2023-02-15T20:47:08.313Z"
   },
   {
    "duration": 53,
    "start_time": "2023-02-15T20:47:08.373Z"
   },
   {
    "duration": 54,
    "start_time": "2023-02-15T20:47:08.428Z"
   },
   {
    "duration": 50,
    "start_time": "2023-02-15T20:47:08.483Z"
   },
   {
    "duration": 31,
    "start_time": "2023-02-15T20:47:08.534Z"
   },
   {
    "duration": 27,
    "start_time": "2023-02-15T20:47:08.567Z"
   },
   {
    "duration": 33,
    "start_time": "2023-02-15T20:47:08.596Z"
   },
   {
    "duration": 61,
    "start_time": "2023-02-15T20:47:08.631Z"
   },
   {
    "duration": 9,
    "start_time": "2023-02-15T20:47:08.694Z"
   },
   {
    "duration": 56,
    "start_time": "2023-02-15T20:47:08.705Z"
   },
   {
    "duration": 43,
    "start_time": "2023-02-15T20:47:08.762Z"
   },
   {
    "duration": 30,
    "start_time": "2023-02-15T20:47:08.807Z"
   },
   {
    "duration": 42,
    "start_time": "2023-02-15T20:47:08.839Z"
   },
   {
    "duration": 41,
    "start_time": "2023-02-15T20:47:08.883Z"
   },
   {
    "duration": 37,
    "start_time": "2023-02-15T20:47:08.926Z"
   },
   {
    "duration": 54,
    "start_time": "2023-02-15T20:47:08.965Z"
   },
   {
    "duration": 919,
    "start_time": "2023-02-15T20:47:09.021Z"
   },
   {
    "duration": 408067,
    "start_time": "2023-02-15T20:47:09.943Z"
   },
   {
    "duration": 31747,
    "start_time": "2023-02-15T20:53:58.012Z"
   },
   {
    "duration": 1552118,
    "start_time": "2023-02-15T20:54:29.761Z"
   },
   {
    "duration": 2031885,
    "start_time": "2023-02-15T21:20:21.881Z"
   },
   {
    "duration": 2,
    "start_time": "2023-02-15T21:54:13.772Z"
   },
   {
    "duration": 108,
    "start_time": "2023-02-15T21:57:12.917Z"
   },
   {
    "duration": 30873,
    "start_time": "2023-02-15T21:57:22.578Z"
   },
   {
    "duration": 1688,
    "start_time": "2023-02-16T08:35:55.822Z"
   },
   {
    "duration": 3936,
    "start_time": "2023-02-16T08:35:57.513Z"
   },
   {
    "duration": 23,
    "start_time": "2023-02-16T08:36:01.451Z"
   },
   {
    "duration": 228,
    "start_time": "2023-02-16T08:36:01.476Z"
   },
   {
    "duration": 71,
    "start_time": "2023-02-16T08:36:01.713Z"
   },
   {
    "duration": 146,
    "start_time": "2023-02-16T08:36:01.786Z"
   },
   {
    "duration": 9,
    "start_time": "2023-02-16T08:36:01.933Z"
   },
   {
    "duration": 832,
    "start_time": "2023-02-16T08:36:01.944Z"
   },
   {
    "duration": 48,
    "start_time": "2023-02-16T08:36:02.779Z"
   },
   {
    "duration": 46,
    "start_time": "2023-02-16T08:36:02.833Z"
   },
   {
    "duration": 42,
    "start_time": "2023-02-16T08:36:02.880Z"
   },
   {
    "duration": 58,
    "start_time": "2023-02-16T08:36:02.924Z"
   },
   {
    "duration": 46,
    "start_time": "2023-02-16T08:36:02.984Z"
   },
   {
    "duration": 83,
    "start_time": "2023-02-16T08:36:03.035Z"
   },
   {
    "duration": 33,
    "start_time": "2023-02-16T08:36:03.120Z"
   },
   {
    "duration": 32,
    "start_time": "2023-02-16T08:36:03.155Z"
   },
   {
    "duration": 53,
    "start_time": "2023-02-16T08:36:03.188Z"
   },
   {
    "duration": 65,
    "start_time": "2023-02-16T08:36:03.243Z"
   },
   {
    "duration": 16,
    "start_time": "2023-02-16T08:36:03.310Z"
   },
   {
    "duration": 70,
    "start_time": "2023-02-16T08:36:03.331Z"
   },
   {
    "duration": 74,
    "start_time": "2023-02-16T08:36:03.403Z"
   },
   {
    "duration": 44,
    "start_time": "2023-02-16T08:36:03.478Z"
   },
   {
    "duration": 63,
    "start_time": "2023-02-16T08:36:03.523Z"
   },
   {
    "duration": 75,
    "start_time": "2023-02-16T08:36:03.587Z"
   },
   {
    "duration": 13,
    "start_time": "2023-02-16T08:36:03.664Z"
   },
   {
    "duration": 77,
    "start_time": "2023-02-16T08:36:03.679Z"
   },
   {
    "duration": 1015,
    "start_time": "2023-02-16T08:36:03.758Z"
   },
   {
    "duration": 5,
    "start_time": "2023-02-16T08:36:04.775Z"
   },
   {
    "duration": 62,
    "start_time": "2023-02-16T08:36:04.782Z"
   },
   {
    "duration": 30,
    "start_time": "2023-02-16T08:36:04.846Z"
   },
   {
    "duration": 11,
    "start_time": "2023-02-16T08:36:04.879Z"
   },
   {
    "duration": 37734,
    "start_time": "2023-02-16T08:36:04.892Z"
   },
   {
    "duration": 448,
    "start_time": "2023-02-16T08:38:30.137Z"
   },
   {
    "duration": 373,
    "start_time": "2023-02-16T08:38:39.835Z"
   },
   {
    "duration": 21,
    "start_time": "2023-02-16T08:39:26.850Z"
   },
   {
    "duration": 378,
    "start_time": "2023-02-16T08:39:40.946Z"
   },
   {
    "duration": 450,
    "start_time": "2023-02-16T08:39:51.860Z"
   },
   {
    "duration": 1942,
    "start_time": "2023-02-16T08:40:09.423Z"
   },
   {
    "duration": 1091,
    "start_time": "2023-02-16T08:40:11.370Z"
   },
   {
    "duration": 19,
    "start_time": "2023-02-16T08:40:12.464Z"
   },
   {
    "duration": 182,
    "start_time": "2023-02-16T08:40:12.485Z"
   },
   {
    "duration": 82,
    "start_time": "2023-02-16T08:40:12.669Z"
   },
   {
    "duration": 162,
    "start_time": "2023-02-16T08:40:12.760Z"
   },
   {
    "duration": 11,
    "start_time": "2023-02-16T08:40:12.925Z"
   },
   {
    "duration": 654,
    "start_time": "2023-02-16T08:40:12.946Z"
   },
   {
    "duration": 37,
    "start_time": "2023-02-16T08:40:13.602Z"
   },
   {
    "duration": 29,
    "start_time": "2023-02-16T08:40:13.648Z"
   },
   {
    "duration": 35,
    "start_time": "2023-02-16T08:40:13.678Z"
   },
   {
    "duration": 47,
    "start_time": "2023-02-16T08:40:13.715Z"
   },
   {
    "duration": 85,
    "start_time": "2023-02-16T08:40:13.764Z"
   },
   {
    "duration": 39,
    "start_time": "2023-02-16T08:40:13.851Z"
   },
   {
    "duration": 72,
    "start_time": "2023-02-16T08:40:13.896Z"
   },
   {
    "duration": 14,
    "start_time": "2023-02-16T08:40:13.970Z"
   },
   {
    "duration": 37,
    "start_time": "2023-02-16T08:40:13.985Z"
   },
   {
    "duration": 54,
    "start_time": "2023-02-16T08:40:14.024Z"
   },
   {
    "duration": 108,
    "start_time": "2023-02-16T08:40:14.080Z"
   },
   {
    "duration": 25,
    "start_time": "2023-02-16T08:40:14.189Z"
   },
   {
    "duration": 69,
    "start_time": "2023-02-16T08:40:14.217Z"
   },
   {
    "duration": 92,
    "start_time": "2023-02-16T08:40:14.288Z"
   },
   {
    "duration": 53,
    "start_time": "2023-02-16T08:40:14.381Z"
   },
   {
    "duration": 71,
    "start_time": "2023-02-16T08:40:14.436Z"
   },
   {
    "duration": 122,
    "start_time": "2023-02-16T08:40:14.509Z"
   },
   {
    "duration": 18,
    "start_time": "2023-02-16T08:40:14.637Z"
   },
   {
    "duration": 102,
    "start_time": "2023-02-16T08:40:14.657Z"
   },
   {
    "duration": 1112,
    "start_time": "2023-02-16T08:40:14.763Z"
   },
   {
    "duration": 3,
    "start_time": "2023-02-16T08:40:15.876Z"
   },
   {
    "duration": 22,
    "start_time": "2023-02-16T08:40:15.881Z"
   },
   {
    "duration": 46,
    "start_time": "2023-02-16T08:40:15.918Z"
   },
   {
    "duration": 18,
    "start_time": "2023-02-16T08:40:15.966Z"
   },
   {
    "duration": 36256,
    "start_time": "2023-02-16T08:40:15.987Z"
   },
   {
    "duration": 36000,
    "start_time": "2023-02-16T08:54:57.440Z"
   },
   {
    "duration": 771,
    "start_time": "2023-02-16T08:56:35.537Z"
   },
   {
    "duration": 68,
    "start_time": "2023-02-16T08:56:40.483Z"
   },
   {
    "duration": 65,
    "start_time": "2023-02-16T08:57:13.765Z"
   },
   {
    "duration": 474912,
    "start_time": "2023-02-16T08:58:17.964Z"
   },
   {
    "duration": 35122,
    "start_time": "2023-02-16T09:06:31.431Z"
   },
   {
    "duration": 291,
    "start_time": "2023-02-16T09:07:06.555Z"
   },
   {
    "duration": 1780303,
    "start_time": "2023-02-16T09:10:00.372Z"
   },
   {
    "duration": 6248,
    "start_time": "2023-02-16T09:42:07.151Z"
   },
   {
    "duration": 336,
    "start_time": "2023-02-16T09:42:13.401Z"
   },
   {
    "duration": 5520175,
    "start_time": "2023-02-16T09:42:13.740Z"
   },
   {
    "duration": 32600,
    "start_time": "2023-02-16T11:16:48.662Z"
   },
   {
    "duration": 277,
    "start_time": "2023-02-16T11:17:21.264Z"
   },
   {
    "duration": 134,
    "start_time": "2023-02-16T11:18:15.535Z"
   },
   {
    "duration": 12,
    "start_time": "2023-02-16T11:18:48.627Z"
   },
   {
    "duration": 1559,
    "start_time": "2023-02-16T12:38:54.885Z"
   },
   {
    "duration": 878,
    "start_time": "2023-02-16T12:38:56.447Z"
   },
   {
    "duration": 24,
    "start_time": "2023-02-16T12:38:57.326Z"
   },
   {
    "duration": 153,
    "start_time": "2023-02-16T12:38:57.353Z"
   },
   {
    "duration": 67,
    "start_time": "2023-02-16T12:38:57.508Z"
   },
   {
    "duration": 152,
    "start_time": "2023-02-16T12:38:57.578Z"
   },
   {
    "duration": 6,
    "start_time": "2023-02-16T12:38:57.732Z"
   },
   {
    "duration": 476,
    "start_time": "2023-02-16T12:38:57.740Z"
   },
   {
    "duration": 32,
    "start_time": "2023-02-16T12:38:58.217Z"
   },
   {
    "duration": 13,
    "start_time": "2023-02-16T12:38:58.252Z"
   },
   {
    "duration": 50,
    "start_time": "2023-02-16T12:38:58.266Z"
   },
   {
    "duration": 29,
    "start_time": "2023-02-16T12:38:58.317Z"
   },
   {
    "duration": 63,
    "start_time": "2023-02-16T12:38:58.348Z"
   },
   {
    "duration": 29,
    "start_time": "2023-02-16T12:38:58.413Z"
   },
   {
    "duration": 56,
    "start_time": "2023-02-16T12:38:58.444Z"
   },
   {
    "duration": 11,
    "start_time": "2023-02-16T12:38:58.502Z"
   },
   {
    "duration": 30,
    "start_time": "2023-02-16T12:38:58.515Z"
   },
   {
    "duration": 45,
    "start_time": "2023-02-16T12:38:58.548Z"
   },
   {
    "duration": 47,
    "start_time": "2023-02-16T12:38:58.596Z"
   },
   {
    "duration": 16,
    "start_time": "2023-02-16T12:38:58.645Z"
   },
   {
    "duration": 58,
    "start_time": "2023-02-16T12:38:58.663Z"
   },
   {
    "duration": 39,
    "start_time": "2023-02-16T12:38:58.723Z"
   },
   {
    "duration": 48,
    "start_time": "2023-02-16T12:38:58.764Z"
   },
   {
    "duration": 27,
    "start_time": "2023-02-16T12:38:58.815Z"
   },
   {
    "duration": 80,
    "start_time": "2023-02-16T12:38:58.844Z"
   },
   {
    "duration": 14,
    "start_time": "2023-02-16T12:38:58.926Z"
   },
   {
    "duration": 75,
    "start_time": "2023-02-16T12:38:58.942Z"
   },
   {
    "duration": 921,
    "start_time": "2023-02-16T12:38:59.021Z"
   },
   {
    "duration": 1384,
    "start_time": "2023-02-16T13:30:10.840Z"
   },
   {
    "duration": 891,
    "start_time": "2023-02-16T13:30:12.226Z"
   },
   {
    "duration": 21,
    "start_time": "2023-02-16T13:30:13.119Z"
   },
   {
    "duration": 141,
    "start_time": "2023-02-16T13:30:13.142Z"
   },
   {
    "duration": 73,
    "start_time": "2023-02-16T13:30:13.285Z"
   },
   {
    "duration": 144,
    "start_time": "2023-02-16T13:30:13.361Z"
   },
   {
    "duration": 6,
    "start_time": "2023-02-16T13:30:13.507Z"
   },
   {
    "duration": 505,
    "start_time": "2023-02-16T13:30:13.514Z"
   },
   {
    "duration": 33,
    "start_time": "2023-02-16T13:30:14.021Z"
   },
   {
    "duration": 14,
    "start_time": "2023-02-16T13:30:14.057Z"
   },
   {
    "duration": 38,
    "start_time": "2023-02-16T13:30:14.092Z"
   },
   {
    "duration": 31,
    "start_time": "2023-02-16T13:30:14.131Z"
   },
   {
    "duration": 75,
    "start_time": "2023-02-16T13:30:14.163Z"
   },
   {
    "duration": 29,
    "start_time": "2023-02-16T13:30:14.240Z"
   },
   {
    "duration": 61,
    "start_time": "2023-02-16T13:30:14.271Z"
   },
   {
    "duration": 15,
    "start_time": "2023-02-16T13:30:14.334Z"
   },
   {
    "duration": 42,
    "start_time": "2023-02-16T13:30:14.351Z"
   },
   {
    "duration": 32,
    "start_time": "2023-02-16T13:30:14.395Z"
   },
   {
    "duration": 40,
    "start_time": "2023-02-16T13:30:14.430Z"
   },
   {
    "duration": 10,
    "start_time": "2023-02-16T13:30:14.491Z"
   },
   {
    "duration": 29,
    "start_time": "2023-02-16T13:30:14.503Z"
   },
   {
    "duration": 72,
    "start_time": "2023-02-16T13:30:14.534Z"
   },
   {
    "duration": 29,
    "start_time": "2023-02-16T13:30:14.608Z"
   },
   {
    "duration": 31,
    "start_time": "2023-02-16T13:30:14.638Z"
   },
   {
    "duration": 57,
    "start_time": "2023-02-16T13:30:14.670Z"
   },
   {
    "duration": 18,
    "start_time": "2023-02-16T13:30:14.729Z"
   },
   {
    "duration": 62,
    "start_time": "2023-02-16T13:30:14.748Z"
   },
   {
    "duration": 913,
    "start_time": "2023-02-16T13:30:14.814Z"
   },
   {
    "duration": 413244,
    "start_time": "2023-02-16T13:30:15.729Z"
   },
   {
    "duration": 31913,
    "start_time": "2023-02-16T13:37:08.975Z"
   },
   {
    "duration": 238,
    "start_time": "2023-02-16T13:37:40.889Z"
   },
   {
    "duration": 18643,
    "start_time": "2023-02-16T13:37:41.129Z"
   },
   {
    "duration": 601,
    "start_time": "2023-02-16T13:37:59.773Z"
   },
   {
    "duration": 59,
    "start_time": "2023-02-16T13:38:00.376Z"
   },
   {
    "duration": 3,
    "start_time": "2023-02-16T13:38:00.437Z"
   },
   {
    "duration": 40,
    "start_time": "2023-02-16T13:38:00.442Z"
   },
   {
    "duration": 23,
    "start_time": "2023-02-16T13:38:00.484Z"
   },
   {
    "duration": 12,
    "start_time": "2023-02-16T13:38:00.509Z"
   },
   {
    "duration": 30,
    "start_time": "2023-02-16T13:38:00.524Z"
   },
   {
    "duration": 27,
    "start_time": "2023-02-16T13:38:00.555Z"
   },
   {
    "duration": 31984,
    "start_time": "2023-02-16T13:38:00.584Z"
   }
  ],
  "kernelspec": {
   "display_name": "Python 3 (ipykernel)",
   "language": "python",
   "name": "python3"
  },
  "language_info": {
   "codemirror_mode": {
    "name": "ipython",
    "version": 3
   },
   "file_extension": ".py",
   "mimetype": "text/x-python",
   "name": "python",
   "nbconvert_exporter": "python",
   "pygments_lexer": "ipython3",
   "version": "3.9.5"
  },
  "toc": {
   "base_numbering": 1,
   "nav_menu": {},
   "number_sections": true,
   "sideBar": true,
   "skip_h1_title": true,
   "title_cell": "Table of Contents",
   "title_sidebar": "Contents",
   "toc_cell": false,
   "toc_position": {},
   "toc_section_display": true,
   "toc_window_display": false
  }
 },
 "nbformat": 4,
 "nbformat_minor": 2
}
