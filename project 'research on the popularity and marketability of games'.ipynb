{
 "cells": [
  {
   "cell_type": "markdown",
   "metadata": {},
   "source": [
    "# **Исследование данных о популярности и продаваемости игр**\n",
    "\n",
    "В данном исследовании мы проверим исторические данные о продажах игр, оценках пользователей и экспертов, жанрах и платформах с целью выявить определяющие успешность игры закономерности, чтобы сделать ставку на потенциально популярный продукт и спланировать рекламные кампании для интернет-магазина \"Стримчик\".\n",
    "\n",
    "**Основные задачи проекта:** \n",
    "\n",
    "- определим наиболее популярные платформы;\n",
    "- определим, какие жанры пользуются наибольшей популярностью;\n",
    "- проверим, какие факторы влияют на продажи игр (платформа/жанр/оценки критиков и пользователей/рейтинг от организации ESRB).\n",
    "\n",
    "**Также мы проверим отличаются ли продажи и популярность определённых платформ и жанров игр в разных регионах - Северной Америке, Европе и Японии.**\n",
    "\n",
    "**Проверим гипотезы:**\n",
    "\n",
    "- Средние пользовательские рейтинги платформ Xbox One и PC одинаковые;\n",
    "- Средние пользовательские рейтинги жанров Action и Sports разные.\n",
    "\n",
    "**Подведём итоги исследования и дадим рекомендации по планированию рекламной кампании.**\n"
   ]
  },
  {
   "cell_type": "markdown",
   "metadata": {},
   "source": [
    "## Подготовка и предобработка данных "
   ]
  },
  {
   "cell_type": "code",
   "execution_count": 1,
   "metadata": {},
   "outputs": [],
   "source": [
    "#импортируем библиотеки, которые нам понадобятся в нашем исследовании \n",
    "\n",
    "import pandas as pd\n",
    "import matplotlib.pyplot as plt\n",
    "import seaborn as sns\n",
    "import numpy as np\n",
    "from scipy import stats as st"
   ]
  },
  {
   "cell_type": "code",
   "execution_count": 2,
   "metadata": {},
   "outputs": [],
   "source": [
    "game_data = pd.read_csv('/datasets/games.csv')"
   ]
  },
  {
   "cell_type": "code",
   "execution_count": 3,
   "metadata": {},
   "outputs": [
    {
     "data": {
      "text/html": [
       "<div>\n",
       "<style scoped>\n",
       "    .dataframe tbody tr th:only-of-type {\n",
       "        vertical-align: middle;\n",
       "    }\n",
       "\n",
       "    .dataframe tbody tr th {\n",
       "        vertical-align: top;\n",
       "    }\n",
       "\n",
       "    .dataframe thead th {\n",
       "        text-align: right;\n",
       "    }\n",
       "</style>\n",
       "<table border=\"1\" class=\"dataframe\">\n",
       "  <thead>\n",
       "    <tr style=\"text-align: right;\">\n",
       "      <th></th>\n",
       "      <th>Name</th>\n",
       "      <th>Platform</th>\n",
       "      <th>Year_of_Release</th>\n",
       "      <th>Genre</th>\n",
       "      <th>NA_sales</th>\n",
       "      <th>EU_sales</th>\n",
       "      <th>JP_sales</th>\n",
       "      <th>Other_sales</th>\n",
       "      <th>Critic_Score</th>\n",
       "      <th>User_Score</th>\n",
       "      <th>Rating</th>\n",
       "    </tr>\n",
       "  </thead>\n",
       "  <tbody>\n",
       "    <tr>\n",
       "      <th>0</th>\n",
       "      <td>Wii Sports</td>\n",
       "      <td>Wii</td>\n",
       "      <td>2006.0</td>\n",
       "      <td>Sports</td>\n",
       "      <td>41.36</td>\n",
       "      <td>28.96</td>\n",
       "      <td>3.77</td>\n",
       "      <td>8.45</td>\n",
       "      <td>76.0</td>\n",
       "      <td>8</td>\n",
       "      <td>E</td>\n",
       "    </tr>\n",
       "    <tr>\n",
       "      <th>1</th>\n",
       "      <td>Super Mario Bros.</td>\n",
       "      <td>NES</td>\n",
       "      <td>1985.0</td>\n",
       "      <td>Platform</td>\n",
       "      <td>29.08</td>\n",
       "      <td>3.58</td>\n",
       "      <td>6.81</td>\n",
       "      <td>0.77</td>\n",
       "      <td>NaN</td>\n",
       "      <td>NaN</td>\n",
       "      <td>NaN</td>\n",
       "    </tr>\n",
       "    <tr>\n",
       "      <th>2</th>\n",
       "      <td>Mario Kart Wii</td>\n",
       "      <td>Wii</td>\n",
       "      <td>2008.0</td>\n",
       "      <td>Racing</td>\n",
       "      <td>15.68</td>\n",
       "      <td>12.76</td>\n",
       "      <td>3.79</td>\n",
       "      <td>3.29</td>\n",
       "      <td>82.0</td>\n",
       "      <td>8.3</td>\n",
       "      <td>E</td>\n",
       "    </tr>\n",
       "    <tr>\n",
       "      <th>3</th>\n",
       "      <td>Wii Sports Resort</td>\n",
       "      <td>Wii</td>\n",
       "      <td>2009.0</td>\n",
       "      <td>Sports</td>\n",
       "      <td>15.61</td>\n",
       "      <td>10.93</td>\n",
       "      <td>3.28</td>\n",
       "      <td>2.95</td>\n",
       "      <td>80.0</td>\n",
       "      <td>8</td>\n",
       "      <td>E</td>\n",
       "    </tr>\n",
       "    <tr>\n",
       "      <th>4</th>\n",
       "      <td>Pokemon Red/Pokemon Blue</td>\n",
       "      <td>GB</td>\n",
       "      <td>1996.0</td>\n",
       "      <td>Role-Playing</td>\n",
       "      <td>11.27</td>\n",
       "      <td>8.89</td>\n",
       "      <td>10.22</td>\n",
       "      <td>1.00</td>\n",
       "      <td>NaN</td>\n",
       "      <td>NaN</td>\n",
       "      <td>NaN</td>\n",
       "    </tr>\n",
       "    <tr>\n",
       "      <th>5</th>\n",
       "      <td>Tetris</td>\n",
       "      <td>GB</td>\n",
       "      <td>1989.0</td>\n",
       "      <td>Puzzle</td>\n",
       "      <td>23.20</td>\n",
       "      <td>2.26</td>\n",
       "      <td>4.22</td>\n",
       "      <td>0.58</td>\n",
       "      <td>NaN</td>\n",
       "      <td>NaN</td>\n",
       "      <td>NaN</td>\n",
       "    </tr>\n",
       "    <tr>\n",
       "      <th>6</th>\n",
       "      <td>New Super Mario Bros.</td>\n",
       "      <td>DS</td>\n",
       "      <td>2006.0</td>\n",
       "      <td>Platform</td>\n",
       "      <td>11.28</td>\n",
       "      <td>9.14</td>\n",
       "      <td>6.50</td>\n",
       "      <td>2.88</td>\n",
       "      <td>89.0</td>\n",
       "      <td>8.5</td>\n",
       "      <td>E</td>\n",
       "    </tr>\n",
       "    <tr>\n",
       "      <th>7</th>\n",
       "      <td>Wii Play</td>\n",
       "      <td>Wii</td>\n",
       "      <td>2006.0</td>\n",
       "      <td>Misc</td>\n",
       "      <td>13.96</td>\n",
       "      <td>9.18</td>\n",
       "      <td>2.93</td>\n",
       "      <td>2.84</td>\n",
       "      <td>58.0</td>\n",
       "      <td>6.6</td>\n",
       "      <td>E</td>\n",
       "    </tr>\n",
       "    <tr>\n",
       "      <th>8</th>\n",
       "      <td>New Super Mario Bros. Wii</td>\n",
       "      <td>Wii</td>\n",
       "      <td>2009.0</td>\n",
       "      <td>Platform</td>\n",
       "      <td>14.44</td>\n",
       "      <td>6.94</td>\n",
       "      <td>4.70</td>\n",
       "      <td>2.24</td>\n",
       "      <td>87.0</td>\n",
       "      <td>8.4</td>\n",
       "      <td>E</td>\n",
       "    </tr>\n",
       "    <tr>\n",
       "      <th>9</th>\n",
       "      <td>Duck Hunt</td>\n",
       "      <td>NES</td>\n",
       "      <td>1984.0</td>\n",
       "      <td>Shooter</td>\n",
       "      <td>26.93</td>\n",
       "      <td>0.63</td>\n",
       "      <td>0.28</td>\n",
       "      <td>0.47</td>\n",
       "      <td>NaN</td>\n",
       "      <td>NaN</td>\n",
       "      <td>NaN</td>\n",
       "    </tr>\n",
       "  </tbody>\n",
       "</table>\n",
       "</div>"
      ],
      "text/plain": [
       "                        Name Platform  Year_of_Release         Genre  \\\n",
       "0                 Wii Sports      Wii           2006.0        Sports   \n",
       "1          Super Mario Bros.      NES           1985.0      Platform   \n",
       "2             Mario Kart Wii      Wii           2008.0        Racing   \n",
       "3          Wii Sports Resort      Wii           2009.0        Sports   \n",
       "4   Pokemon Red/Pokemon Blue       GB           1996.0  Role-Playing   \n",
       "5                     Tetris       GB           1989.0        Puzzle   \n",
       "6      New Super Mario Bros.       DS           2006.0      Platform   \n",
       "7                   Wii Play      Wii           2006.0          Misc   \n",
       "8  New Super Mario Bros. Wii      Wii           2009.0      Platform   \n",
       "9                  Duck Hunt      NES           1984.0       Shooter   \n",
       "\n",
       "   NA_sales  EU_sales  JP_sales  Other_sales  Critic_Score User_Score Rating  \n",
       "0     41.36     28.96      3.77         8.45          76.0          8      E  \n",
       "1     29.08      3.58      6.81         0.77           NaN        NaN    NaN  \n",
       "2     15.68     12.76      3.79         3.29          82.0        8.3      E  \n",
       "3     15.61     10.93      3.28         2.95          80.0          8      E  \n",
       "4     11.27      8.89     10.22         1.00           NaN        NaN    NaN  \n",
       "5     23.20      2.26      4.22         0.58           NaN        NaN    NaN  \n",
       "6     11.28      9.14      6.50         2.88          89.0        8.5      E  \n",
       "7     13.96      9.18      2.93         2.84          58.0        6.6      E  \n",
       "8     14.44      6.94      4.70         2.24          87.0        8.4      E  \n",
       "9     26.93      0.63      0.28         0.47           NaN        NaN    NaN  "
      ]
     },
     "metadata": {},
     "output_type": "display_data"
    }
   ],
   "source": [
    "display(game_data.head(10))"
   ]
  },
  {
   "cell_type": "code",
   "execution_count": 4,
   "metadata": {},
   "outputs": [
    {
     "name": "stdout",
     "output_type": "stream",
     "text": [
      "<class 'pandas.core.frame.DataFrame'>\n",
      "RangeIndex: 16715 entries, 0 to 16714\n",
      "Data columns (total 11 columns):\n",
      " #   Column           Non-Null Count  Dtype  \n",
      "---  ------           --------------  -----  \n",
      " 0   Name             16713 non-null  object \n",
      " 1   Platform         16715 non-null  object \n",
      " 2   Year_of_Release  16446 non-null  float64\n",
      " 3   Genre            16713 non-null  object \n",
      " 4   NA_sales         16715 non-null  float64\n",
      " 5   EU_sales         16715 non-null  float64\n",
      " 6   JP_sales         16715 non-null  float64\n",
      " 7   Other_sales      16715 non-null  float64\n",
      " 8   Critic_Score     8137 non-null   float64\n",
      " 9   User_Score       10014 non-null  object \n",
      " 10  Rating           9949 non-null   object \n",
      "dtypes: float64(6), object(5)\n",
      "memory usage: 1.4+ MB\n"
     ]
    }
   ],
   "source": [
    "#посмотрим на объём данных и общую информацию о таблице при помощи метода info()\n",
    "\n",
    "game_data.info()"
   ]
  },
  {
   "cell_type": "markdown",
   "metadata": {},
   "source": [
    "Теперь мы можем выделить для себя самые очевидные проблемы в данных, с которыми нужно будет разобраться в первую очередь:\n",
    "\n",
    "- поищем явные и неявные дубликаты в данных\n",
    "- изменим названия столбцов (приведём названия к нижнему регистру) \n",
    "- поработаем с пропусками в данных\n",
    "- приведём данные к нужным типам "
   ]
  },
  {
   "cell_type": "code",
   "execution_count": 5,
   "metadata": {},
   "outputs": [
    {
     "data": {
      "text/plain": [
       "0"
      ]
     },
     "execution_count": 5,
     "metadata": {},
     "output_type": "execute_result"
    }
   ],
   "source": [
    "#посчитаем количество явных дубликатов с помощью методов duplicated() и sum()\n",
    "\n",
    "game_data.duplicated().sum()"
   ]
  },
  {
   "cell_type": "code",
   "execution_count": 6,
   "metadata": {},
   "outputs": [],
   "source": [
    "#изменим названия столбцов с помощью метода rename()\n",
    "\n",
    "game_data = game_data.rename(columns={\n",
    "    'Name':'name', \n",
    "    'Platform':'platform', \n",
    "    'Year_of_Release':'year_of_release', \n",
    "    'Genre':'genre', \n",
    "    'NA_sales':'north_america_sales', \n",
    "    'EU_sales':'europe_sales', \n",
    "    'JP_sales':'japan_sales', \n",
    "    'Other_sales':'other_sales', \n",
    "    'Critic_Score':'critic_score', \n",
    "    'User_Score':'user_score', \n",
    "    'Rating':'rating'})"
   ]
  },
  {
   "cell_type": "code",
   "execution_count": 7,
   "metadata": {},
   "outputs": [
    {
     "data": {
      "text/plain": [
       "Index(['name', 'platform', 'year_of_release', 'genre', 'north_america_sales',\n",
       "       'europe_sales', 'japan_sales', 'other_sales', 'critic_score',\n",
       "       'user_score', 'rating'],\n",
       "      dtype='object')"
      ]
     },
     "execution_count": 7,
     "metadata": {},
     "output_type": "execute_result"
    }
   ],
   "source": [
    "#проверим результат изменения названий столбцов - применим метод columns, который вызовет перечень названий столбцов \n",
    "\n",
    "game_data.columns"
   ]
  },
  {
   "cell_type": "markdown",
   "metadata": {},
   "source": [
    "Для проверки на неявные дубликаты мы применим к каждому столбцу следующие методы: \n",
    "* value_counts() для подсчёта уникальных значений, в параметрах к методу запишем dropna=False для включения в подсчёт NaN значений\n",
    "* метод sort_index с параметром ascending=True отсортирует данные в алфавитном порядке\n",
    "* метод to_frame() выведет результат в формате Dataframe \n",
    "\n",
    "Пройдёмся по всем столбцам, чтобы проверить их и устранить в них проблемы."
   ]
  },
  {
   "cell_type": "code",
   "execution_count": 8,
   "metadata": {},
   "outputs": [
    {
     "data": {
      "text/html": [
       "<div>\n",
       "<style scoped>\n",
       "    .dataframe tbody tr th:only-of-type {\n",
       "        vertical-align: middle;\n",
       "    }\n",
       "\n",
       "    .dataframe tbody tr th {\n",
       "        vertical-align: top;\n",
       "    }\n",
       "\n",
       "    .dataframe thead th {\n",
       "        text-align: right;\n",
       "    }\n",
       "</style>\n",
       "<table border=\"1\" class=\"dataframe\">\n",
       "  <thead>\n",
       "    <tr style=\"text-align: right;\">\n",
       "      <th></th>\n",
       "      <th>name</th>\n",
       "    </tr>\n",
       "  </thead>\n",
       "  <tbody>\n",
       "    <tr>\n",
       "      <th>Beyblade Burst</th>\n",
       "      <td>1</td>\n",
       "    </tr>\n",
       "    <tr>\n",
       "      <th>Fire Emblem Fates</th>\n",
       "      <td>1</td>\n",
       "    </tr>\n",
       "    <tr>\n",
       "      <th>Frozen: Olaf's Quest</th>\n",
       "      <td>2</td>\n",
       "    </tr>\n",
       "    <tr>\n",
       "      <th>Haikyu!! Cross Team Match!</th>\n",
       "      <td>1</td>\n",
       "    </tr>\n",
       "    <tr>\n",
       "      <th>Tales of Xillia 2</th>\n",
       "      <td>1</td>\n",
       "    </tr>\n",
       "    <tr>\n",
       "      <th>...</th>\n",
       "      <td>...</td>\n",
       "    </tr>\n",
       "    <tr>\n",
       "      <th>uDraw Studio</th>\n",
       "      <td>1</td>\n",
       "    </tr>\n",
       "    <tr>\n",
       "      <th>uDraw Studio: Instant Artist</th>\n",
       "      <td>2</td>\n",
       "    </tr>\n",
       "    <tr>\n",
       "      <th>wwe Smackdown vs. Raw 2006</th>\n",
       "      <td>1</td>\n",
       "    </tr>\n",
       "    <tr>\n",
       "      <th>¡Shin Chan Flipa en colores!</th>\n",
       "      <td>1</td>\n",
       "    </tr>\n",
       "    <tr>\n",
       "      <th>NaN</th>\n",
       "      <td>2</td>\n",
       "    </tr>\n",
       "  </tbody>\n",
       "</table>\n",
       "<p>11560 rows × 1 columns</p>\n",
       "</div>"
      ],
      "text/plain": [
       "                              name\n",
       " Beyblade Burst                  1\n",
       " Fire Emblem Fates               1\n",
       " Frozen: Olaf's Quest            2\n",
       " Haikyu!! Cross Team Match!      1\n",
       " Tales of Xillia 2               1\n",
       "...                            ...\n",
       "uDraw Studio                     1\n",
       "uDraw Studio: Instant Artist     2\n",
       "wwe Smackdown vs. Raw 2006       1\n",
       "¡Shin Chan Flipa en colores!     1\n",
       "NaN                              2\n",
       "\n",
       "[11560 rows x 1 columns]"
      ]
     },
     "execution_count": 8,
     "metadata": {},
     "output_type": "execute_result"
    }
   ],
   "source": [
    "game_data['name'].value_counts(dropna=False).sort_index(ascending=True).to_frame()"
   ]
  },
  {
   "cell_type": "code",
   "execution_count": 9,
   "metadata": {},
   "outputs": [
    {
     "data": {
      "text/html": [
       "<div>\n",
       "<style scoped>\n",
       "    .dataframe tbody tr th:only-of-type {\n",
       "        vertical-align: middle;\n",
       "    }\n",
       "\n",
       "    .dataframe tbody tr th {\n",
       "        vertical-align: top;\n",
       "    }\n",
       "\n",
       "    .dataframe thead th {\n",
       "        text-align: right;\n",
       "    }\n",
       "</style>\n",
       "<table border=\"1\" class=\"dataframe\">\n",
       "  <thead>\n",
       "    <tr style=\"text-align: right;\">\n",
       "      <th></th>\n",
       "      <th>name</th>\n",
       "    </tr>\n",
       "  </thead>\n",
       "  <tbody>\n",
       "    <tr>\n",
       "      <th>Beyblade Burst</th>\n",
       "      <td>1</td>\n",
       "    </tr>\n",
       "    <tr>\n",
       "      <th>Fire Emblem Fates</th>\n",
       "      <td>1</td>\n",
       "    </tr>\n",
       "    <tr>\n",
       "      <th>Frozen: Olaf's Quest</th>\n",
       "      <td>2</td>\n",
       "    </tr>\n",
       "    <tr>\n",
       "      <th>Haikyu!! Cross Team Match!</th>\n",
       "      <td>1</td>\n",
       "    </tr>\n",
       "    <tr>\n",
       "      <th>Tales of Xillia 2</th>\n",
       "      <td>1</td>\n",
       "    </tr>\n",
       "    <tr>\n",
       "      <th>...</th>\n",
       "      <td>...</td>\n",
       "    </tr>\n",
       "    <tr>\n",
       "      <th>thinkSMART: Chess for Kids</th>\n",
       "      <td>1</td>\n",
       "    </tr>\n",
       "    <tr>\n",
       "      <th>uDraw Studio</th>\n",
       "      <td>1</td>\n",
       "    </tr>\n",
       "    <tr>\n",
       "      <th>uDraw Studio: Instant Artist</th>\n",
       "      <td>2</td>\n",
       "    </tr>\n",
       "    <tr>\n",
       "      <th>wwe Smackdown vs. Raw 2006</th>\n",
       "      <td>1</td>\n",
       "    </tr>\n",
       "    <tr>\n",
       "      <th>¡Shin Chan Flipa en colores!</th>\n",
       "      <td>1</td>\n",
       "    </tr>\n",
       "  </tbody>\n",
       "</table>\n",
       "<p>11559 rows × 1 columns</p>\n",
       "</div>"
      ],
      "text/plain": [
       "                              name\n",
       " Beyblade Burst                  1\n",
       " Fire Emblem Fates               1\n",
       " Frozen: Olaf's Quest            2\n",
       " Haikyu!! Cross Team Match!      1\n",
       " Tales of Xillia 2               1\n",
       "...                            ...\n",
       "thinkSMART: Chess for Kids       1\n",
       "uDraw Studio                     1\n",
       "uDraw Studio: Instant Artist     2\n",
       "wwe Smackdown vs. Raw 2006       1\n",
       "¡Shin Chan Flipa en colores!     1\n",
       "\n",
       "[11559 rows x 1 columns]"
      ]
     },
     "execution_count": 9,
     "metadata": {},
     "output_type": "execute_result"
    }
   ],
   "source": [
    "game_data = game_data[game_data['name'].notna()]\n",
    "game_data['name'].value_counts(dropna=False).sort_index(ascending=True).to_frame()"
   ]
  },
  {
   "cell_type": "code",
   "execution_count": 10,
   "metadata": {},
   "outputs": [
    {
     "data": {
      "text/html": [
       "<div>\n",
       "<style scoped>\n",
       "    .dataframe tbody tr th:only-of-type {\n",
       "        vertical-align: middle;\n",
       "    }\n",
       "\n",
       "    .dataframe tbody tr th {\n",
       "        vertical-align: top;\n",
       "    }\n",
       "\n",
       "    .dataframe thead th {\n",
       "        text-align: right;\n",
       "    }\n",
       "</style>\n",
       "<table border=\"1\" class=\"dataframe\">\n",
       "  <thead>\n",
       "    <tr style=\"text-align: right;\">\n",
       "      <th></th>\n",
       "      <th>platform</th>\n",
       "    </tr>\n",
       "  </thead>\n",
       "  <tbody>\n",
       "    <tr>\n",
       "      <th>2600</th>\n",
       "      <td>133</td>\n",
       "    </tr>\n",
       "    <tr>\n",
       "      <th>3DO</th>\n",
       "      <td>3</td>\n",
       "    </tr>\n",
       "    <tr>\n",
       "      <th>3DS</th>\n",
       "      <td>520</td>\n",
       "    </tr>\n",
       "    <tr>\n",
       "      <th>DC</th>\n",
       "      <td>52</td>\n",
       "    </tr>\n",
       "    <tr>\n",
       "      <th>DS</th>\n",
       "      <td>2151</td>\n",
       "    </tr>\n",
       "    <tr>\n",
       "      <th>GB</th>\n",
       "      <td>98</td>\n",
       "    </tr>\n",
       "    <tr>\n",
       "      <th>GBA</th>\n",
       "      <td>822</td>\n",
       "    </tr>\n",
       "    <tr>\n",
       "      <th>GC</th>\n",
       "      <td>556</td>\n",
       "    </tr>\n",
       "    <tr>\n",
       "      <th>GEN</th>\n",
       "      <td>27</td>\n",
       "    </tr>\n",
       "    <tr>\n",
       "      <th>GG</th>\n",
       "      <td>1</td>\n",
       "    </tr>\n",
       "    <tr>\n",
       "      <th>N64</th>\n",
       "      <td>319</td>\n",
       "    </tr>\n",
       "    <tr>\n",
       "      <th>NES</th>\n",
       "      <td>98</td>\n",
       "    </tr>\n",
       "    <tr>\n",
       "      <th>NG</th>\n",
       "      <td>12</td>\n",
       "    </tr>\n",
       "    <tr>\n",
       "      <th>PC</th>\n",
       "      <td>974</td>\n",
       "    </tr>\n",
       "    <tr>\n",
       "      <th>PCFX</th>\n",
       "      <td>1</td>\n",
       "    </tr>\n",
       "    <tr>\n",
       "      <th>PS</th>\n",
       "      <td>1197</td>\n",
       "    </tr>\n",
       "    <tr>\n",
       "      <th>PS2</th>\n",
       "      <td>2161</td>\n",
       "    </tr>\n",
       "    <tr>\n",
       "      <th>PS3</th>\n",
       "      <td>1331</td>\n",
       "    </tr>\n",
       "    <tr>\n",
       "      <th>PS4</th>\n",
       "      <td>392</td>\n",
       "    </tr>\n",
       "    <tr>\n",
       "      <th>PSP</th>\n",
       "      <td>1209</td>\n",
       "    </tr>\n",
       "    <tr>\n",
       "      <th>PSV</th>\n",
       "      <td>430</td>\n",
       "    </tr>\n",
       "    <tr>\n",
       "      <th>SAT</th>\n",
       "      <td>173</td>\n",
       "    </tr>\n",
       "    <tr>\n",
       "      <th>SCD</th>\n",
       "      <td>6</td>\n",
       "    </tr>\n",
       "    <tr>\n",
       "      <th>SNES</th>\n",
       "      <td>239</td>\n",
       "    </tr>\n",
       "    <tr>\n",
       "      <th>TG16</th>\n",
       "      <td>2</td>\n",
       "    </tr>\n",
       "    <tr>\n",
       "      <th>WS</th>\n",
       "      <td>6</td>\n",
       "    </tr>\n",
       "    <tr>\n",
       "      <th>Wii</th>\n",
       "      <td>1320</td>\n",
       "    </tr>\n",
       "    <tr>\n",
       "      <th>WiiU</th>\n",
       "      <td>147</td>\n",
       "    </tr>\n",
       "    <tr>\n",
       "      <th>X360</th>\n",
       "      <td>1262</td>\n",
       "    </tr>\n",
       "    <tr>\n",
       "      <th>XB</th>\n",
       "      <td>824</td>\n",
       "    </tr>\n",
       "    <tr>\n",
       "      <th>XOne</th>\n",
       "      <td>247</td>\n",
       "    </tr>\n",
       "  </tbody>\n",
       "</table>\n",
       "</div>"
      ],
      "text/plain": [
       "      platform\n",
       "2600       133\n",
       "3DO          3\n",
       "3DS        520\n",
       "DC          52\n",
       "DS        2151\n",
       "GB          98\n",
       "GBA        822\n",
       "GC         556\n",
       "GEN         27\n",
       "GG           1\n",
       "N64        319\n",
       "NES         98\n",
       "NG          12\n",
       "PC         974\n",
       "PCFX         1\n",
       "PS        1197\n",
       "PS2       2161\n",
       "PS3       1331\n",
       "PS4        392\n",
       "PSP       1209\n",
       "PSV        430\n",
       "SAT        173\n",
       "SCD          6\n",
       "SNES       239\n",
       "TG16         2\n",
       "WS           6\n",
       "Wii       1320\n",
       "WiiU       147\n",
       "X360      1262\n",
       "XB         824\n",
       "XOne       247"
      ]
     },
     "execution_count": 10,
     "metadata": {},
     "output_type": "execute_result"
    }
   ],
   "source": [
    "game_data['platform'].value_counts(dropna=False).sort_index(ascending=True).to_frame()"
   ]
  },
  {
   "cell_type": "markdown",
   "metadata": {},
   "source": [
    "**С этим столбцом всё в порядке, перейдём к следующему.**"
   ]
  },
  {
   "cell_type": "code",
   "execution_count": 11,
   "metadata": {},
   "outputs": [
    {
     "data": {
      "text/html": [
       "<div>\n",
       "<style scoped>\n",
       "    .dataframe tbody tr th:only-of-type {\n",
       "        vertical-align: middle;\n",
       "    }\n",
       "\n",
       "    .dataframe tbody tr th {\n",
       "        vertical-align: top;\n",
       "    }\n",
       "\n",
       "    .dataframe thead th {\n",
       "        text-align: right;\n",
       "    }\n",
       "</style>\n",
       "<table border=\"1\" class=\"dataframe\">\n",
       "  <thead>\n",
       "    <tr style=\"text-align: right;\">\n",
       "      <th></th>\n",
       "      <th>year_of_release</th>\n",
       "    </tr>\n",
       "  </thead>\n",
       "  <tbody>\n",
       "    <tr>\n",
       "      <th>1980.0</th>\n",
       "      <td>9</td>\n",
       "    </tr>\n",
       "    <tr>\n",
       "      <th>1981.0</th>\n",
       "      <td>46</td>\n",
       "    </tr>\n",
       "    <tr>\n",
       "      <th>1982.0</th>\n",
       "      <td>36</td>\n",
       "    </tr>\n",
       "    <tr>\n",
       "      <th>1983.0</th>\n",
       "      <td>17</td>\n",
       "    </tr>\n",
       "    <tr>\n",
       "      <th>1984.0</th>\n",
       "      <td>14</td>\n",
       "    </tr>\n",
       "    <tr>\n",
       "      <th>1985.0</th>\n",
       "      <td>14</td>\n",
       "    </tr>\n",
       "    <tr>\n",
       "      <th>1986.0</th>\n",
       "      <td>21</td>\n",
       "    </tr>\n",
       "    <tr>\n",
       "      <th>1987.0</th>\n",
       "      <td>16</td>\n",
       "    </tr>\n",
       "    <tr>\n",
       "      <th>1988.0</th>\n",
       "      <td>15</td>\n",
       "    </tr>\n",
       "    <tr>\n",
       "      <th>1989.0</th>\n",
       "      <td>17</td>\n",
       "    </tr>\n",
       "    <tr>\n",
       "      <th>1990.0</th>\n",
       "      <td>16</td>\n",
       "    </tr>\n",
       "    <tr>\n",
       "      <th>1991.0</th>\n",
       "      <td>41</td>\n",
       "    </tr>\n",
       "    <tr>\n",
       "      <th>1992.0</th>\n",
       "      <td>43</td>\n",
       "    </tr>\n",
       "    <tr>\n",
       "      <th>1993.0</th>\n",
       "      <td>60</td>\n",
       "    </tr>\n",
       "    <tr>\n",
       "      <th>1994.0</th>\n",
       "      <td>121</td>\n",
       "    </tr>\n",
       "    <tr>\n",
       "      <th>1995.0</th>\n",
       "      <td>219</td>\n",
       "    </tr>\n",
       "    <tr>\n",
       "      <th>1996.0</th>\n",
       "      <td>263</td>\n",
       "    </tr>\n",
       "    <tr>\n",
       "      <th>1997.0</th>\n",
       "      <td>289</td>\n",
       "    </tr>\n",
       "    <tr>\n",
       "      <th>1998.0</th>\n",
       "      <td>379</td>\n",
       "    </tr>\n",
       "    <tr>\n",
       "      <th>1999.0</th>\n",
       "      <td>338</td>\n",
       "    </tr>\n",
       "    <tr>\n",
       "      <th>2000.0</th>\n",
       "      <td>350</td>\n",
       "    </tr>\n",
       "    <tr>\n",
       "      <th>2001.0</th>\n",
       "      <td>482</td>\n",
       "    </tr>\n",
       "    <tr>\n",
       "      <th>2002.0</th>\n",
       "      <td>829</td>\n",
       "    </tr>\n",
       "    <tr>\n",
       "      <th>2003.0</th>\n",
       "      <td>775</td>\n",
       "    </tr>\n",
       "    <tr>\n",
       "      <th>2004.0</th>\n",
       "      <td>762</td>\n",
       "    </tr>\n",
       "    <tr>\n",
       "      <th>2005.0</th>\n",
       "      <td>939</td>\n",
       "    </tr>\n",
       "    <tr>\n",
       "      <th>2006.0</th>\n",
       "      <td>1006</td>\n",
       "    </tr>\n",
       "    <tr>\n",
       "      <th>2007.0</th>\n",
       "      <td>1197</td>\n",
       "    </tr>\n",
       "    <tr>\n",
       "      <th>2008.0</th>\n",
       "      <td>1427</td>\n",
       "    </tr>\n",
       "    <tr>\n",
       "      <th>2009.0</th>\n",
       "      <td>1426</td>\n",
       "    </tr>\n",
       "    <tr>\n",
       "      <th>2010.0</th>\n",
       "      <td>1255</td>\n",
       "    </tr>\n",
       "    <tr>\n",
       "      <th>2011.0</th>\n",
       "      <td>1136</td>\n",
       "    </tr>\n",
       "    <tr>\n",
       "      <th>2012.0</th>\n",
       "      <td>653</td>\n",
       "    </tr>\n",
       "    <tr>\n",
       "      <th>2013.0</th>\n",
       "      <td>544</td>\n",
       "    </tr>\n",
       "    <tr>\n",
       "      <th>2014.0</th>\n",
       "      <td>581</td>\n",
       "    </tr>\n",
       "    <tr>\n",
       "      <th>2015.0</th>\n",
       "      <td>606</td>\n",
       "    </tr>\n",
       "    <tr>\n",
       "      <th>2016.0</th>\n",
       "      <td>502</td>\n",
       "    </tr>\n",
       "    <tr>\n",
       "      <th>NaN</th>\n",
       "      <td>269</td>\n",
       "    </tr>\n",
       "  </tbody>\n",
       "</table>\n",
       "</div>"
      ],
      "text/plain": [
       "        year_of_release\n",
       "1980.0                9\n",
       "1981.0               46\n",
       "1982.0               36\n",
       "1983.0               17\n",
       "1984.0               14\n",
       "1985.0               14\n",
       "1986.0               21\n",
       "1987.0               16\n",
       "1988.0               15\n",
       "1989.0               17\n",
       "1990.0               16\n",
       "1991.0               41\n",
       "1992.0               43\n",
       "1993.0               60\n",
       "1994.0              121\n",
       "1995.0              219\n",
       "1996.0              263\n",
       "1997.0              289\n",
       "1998.0              379\n",
       "1999.0              338\n",
       "2000.0              350\n",
       "2001.0              482\n",
       "2002.0              829\n",
       "2003.0              775\n",
       "2004.0              762\n",
       "2005.0              939\n",
       "2006.0             1006\n",
       "2007.0             1197\n",
       "2008.0             1427\n",
       "2009.0             1426\n",
       "2010.0             1255\n",
       "2011.0             1136\n",
       "2012.0              653\n",
       "2013.0              544\n",
       "2014.0              581\n",
       "2015.0              606\n",
       "2016.0              502\n",
       "NaN                 269"
      ]
     },
     "execution_count": 11,
     "metadata": {},
     "output_type": "execute_result"
    }
   ],
   "source": [
    "game_data['year_of_release'].value_counts(dropna=False).sort_index(ascending=True).to_frame()"
   ]
  },
  {
   "cell_type": "code",
   "execution_count": 12,
   "metadata": {},
   "outputs": [
    {
     "data": {
      "text/html": [
       "<div>\n",
       "<style scoped>\n",
       "    .dataframe tbody tr th:only-of-type {\n",
       "        vertical-align: middle;\n",
       "    }\n",
       "\n",
       "    .dataframe tbody tr th {\n",
       "        vertical-align: top;\n",
       "    }\n",
       "\n",
       "    .dataframe thead th {\n",
       "        text-align: right;\n",
       "    }\n",
       "</style>\n",
       "<table border=\"1\" class=\"dataframe\">\n",
       "  <thead>\n",
       "    <tr style=\"text-align: right;\">\n",
       "      <th></th>\n",
       "      <th>min</th>\n",
       "      <th>max</th>\n",
       "      <th>years_of_life</th>\n",
       "    </tr>\n",
       "    <tr>\n",
       "      <th>platform</th>\n",
       "      <th></th>\n",
       "      <th></th>\n",
       "      <th></th>\n",
       "    </tr>\n",
       "  </thead>\n",
       "  <tbody>\n",
       "    <tr>\n",
       "      <th>2600</th>\n",
       "      <td>1980.0</td>\n",
       "      <td>1989.0</td>\n",
       "      <td>9.0</td>\n",
       "    </tr>\n",
       "    <tr>\n",
       "      <th>3DO</th>\n",
       "      <td>1994.0</td>\n",
       "      <td>1995.0</td>\n",
       "      <td>1.0</td>\n",
       "    </tr>\n",
       "    <tr>\n",
       "      <th>3DS</th>\n",
       "      <td>2011.0</td>\n",
       "      <td>2016.0</td>\n",
       "      <td>5.0</td>\n",
       "    </tr>\n",
       "    <tr>\n",
       "      <th>DC</th>\n",
       "      <td>1998.0</td>\n",
       "      <td>2008.0</td>\n",
       "      <td>10.0</td>\n",
       "    </tr>\n",
       "    <tr>\n",
       "      <th>DS</th>\n",
       "      <td>1985.0</td>\n",
       "      <td>2013.0</td>\n",
       "      <td>28.0</td>\n",
       "    </tr>\n",
       "    <tr>\n",
       "      <th>GB</th>\n",
       "      <td>1988.0</td>\n",
       "      <td>2001.0</td>\n",
       "      <td>13.0</td>\n",
       "    </tr>\n",
       "    <tr>\n",
       "      <th>GBA</th>\n",
       "      <td>2000.0</td>\n",
       "      <td>2007.0</td>\n",
       "      <td>7.0</td>\n",
       "    </tr>\n",
       "    <tr>\n",
       "      <th>GC</th>\n",
       "      <td>2001.0</td>\n",
       "      <td>2007.0</td>\n",
       "      <td>6.0</td>\n",
       "    </tr>\n",
       "    <tr>\n",
       "      <th>GEN</th>\n",
       "      <td>1990.0</td>\n",
       "      <td>1994.0</td>\n",
       "      <td>4.0</td>\n",
       "    </tr>\n",
       "    <tr>\n",
       "      <th>GG</th>\n",
       "      <td>1992.0</td>\n",
       "      <td>1992.0</td>\n",
       "      <td>0.0</td>\n",
       "    </tr>\n",
       "    <tr>\n",
       "      <th>N64</th>\n",
       "      <td>1996.0</td>\n",
       "      <td>2002.0</td>\n",
       "      <td>6.0</td>\n",
       "    </tr>\n",
       "    <tr>\n",
       "      <th>NES</th>\n",
       "      <td>1983.0</td>\n",
       "      <td>1994.0</td>\n",
       "      <td>11.0</td>\n",
       "    </tr>\n",
       "    <tr>\n",
       "      <th>NG</th>\n",
       "      <td>1993.0</td>\n",
       "      <td>1996.0</td>\n",
       "      <td>3.0</td>\n",
       "    </tr>\n",
       "    <tr>\n",
       "      <th>PC</th>\n",
       "      <td>1985.0</td>\n",
       "      <td>2016.0</td>\n",
       "      <td>31.0</td>\n",
       "    </tr>\n",
       "    <tr>\n",
       "      <th>PCFX</th>\n",
       "      <td>1996.0</td>\n",
       "      <td>1996.0</td>\n",
       "      <td>0.0</td>\n",
       "    </tr>\n",
       "    <tr>\n",
       "      <th>PS</th>\n",
       "      <td>1994.0</td>\n",
       "      <td>2003.0</td>\n",
       "      <td>9.0</td>\n",
       "    </tr>\n",
       "    <tr>\n",
       "      <th>PS2</th>\n",
       "      <td>2000.0</td>\n",
       "      <td>2011.0</td>\n",
       "      <td>11.0</td>\n",
       "    </tr>\n",
       "    <tr>\n",
       "      <th>PS3</th>\n",
       "      <td>2006.0</td>\n",
       "      <td>2016.0</td>\n",
       "      <td>10.0</td>\n",
       "    </tr>\n",
       "    <tr>\n",
       "      <th>PS4</th>\n",
       "      <td>2013.0</td>\n",
       "      <td>2016.0</td>\n",
       "      <td>3.0</td>\n",
       "    </tr>\n",
       "    <tr>\n",
       "      <th>PSP</th>\n",
       "      <td>2004.0</td>\n",
       "      <td>2015.0</td>\n",
       "      <td>11.0</td>\n",
       "    </tr>\n",
       "    <tr>\n",
       "      <th>PSV</th>\n",
       "      <td>2011.0</td>\n",
       "      <td>2016.0</td>\n",
       "      <td>5.0</td>\n",
       "    </tr>\n",
       "    <tr>\n",
       "      <th>SAT</th>\n",
       "      <td>1994.0</td>\n",
       "      <td>1999.0</td>\n",
       "      <td>5.0</td>\n",
       "    </tr>\n",
       "    <tr>\n",
       "      <th>SCD</th>\n",
       "      <td>1993.0</td>\n",
       "      <td>1994.0</td>\n",
       "      <td>1.0</td>\n",
       "    </tr>\n",
       "    <tr>\n",
       "      <th>SNES</th>\n",
       "      <td>1990.0</td>\n",
       "      <td>1999.0</td>\n",
       "      <td>9.0</td>\n",
       "    </tr>\n",
       "    <tr>\n",
       "      <th>TG16</th>\n",
       "      <td>1995.0</td>\n",
       "      <td>1995.0</td>\n",
       "      <td>0.0</td>\n",
       "    </tr>\n",
       "    <tr>\n",
       "      <th>WS</th>\n",
       "      <td>1999.0</td>\n",
       "      <td>2001.0</td>\n",
       "      <td>2.0</td>\n",
       "    </tr>\n",
       "    <tr>\n",
       "      <th>Wii</th>\n",
       "      <td>2006.0</td>\n",
       "      <td>2016.0</td>\n",
       "      <td>10.0</td>\n",
       "    </tr>\n",
       "    <tr>\n",
       "      <th>WiiU</th>\n",
       "      <td>2012.0</td>\n",
       "      <td>2016.0</td>\n",
       "      <td>4.0</td>\n",
       "    </tr>\n",
       "    <tr>\n",
       "      <th>X360</th>\n",
       "      <td>2005.0</td>\n",
       "      <td>2016.0</td>\n",
       "      <td>11.0</td>\n",
       "    </tr>\n",
       "    <tr>\n",
       "      <th>XB</th>\n",
       "      <td>2000.0</td>\n",
       "      <td>2008.0</td>\n",
       "      <td>8.0</td>\n",
       "    </tr>\n",
       "    <tr>\n",
       "      <th>XOne</th>\n",
       "      <td>2013.0</td>\n",
       "      <td>2016.0</td>\n",
       "      <td>3.0</td>\n",
       "    </tr>\n",
       "  </tbody>\n",
       "</table>\n",
       "</div>"
      ],
      "text/plain": [
       "             min     max  years_of_life\n",
       "platform                               \n",
       "2600      1980.0  1989.0            9.0\n",
       "3DO       1994.0  1995.0            1.0\n",
       "3DS       2011.0  2016.0            5.0\n",
       "DC        1998.0  2008.0           10.0\n",
       "DS        1985.0  2013.0           28.0\n",
       "GB        1988.0  2001.0           13.0\n",
       "GBA       2000.0  2007.0            7.0\n",
       "GC        2001.0  2007.0            6.0\n",
       "GEN       1990.0  1994.0            4.0\n",
       "GG        1992.0  1992.0            0.0\n",
       "N64       1996.0  2002.0            6.0\n",
       "NES       1983.0  1994.0           11.0\n",
       "NG        1993.0  1996.0            3.0\n",
       "PC        1985.0  2016.0           31.0\n",
       "PCFX      1996.0  1996.0            0.0\n",
       "PS        1994.0  2003.0            9.0\n",
       "PS2       2000.0  2011.0           11.0\n",
       "PS3       2006.0  2016.0           10.0\n",
       "PS4       2013.0  2016.0            3.0\n",
       "PSP       2004.0  2015.0           11.0\n",
       "PSV       2011.0  2016.0            5.0\n",
       "SAT       1994.0  1999.0            5.0\n",
       "SCD       1993.0  1994.0            1.0\n",
       "SNES      1990.0  1999.0            9.0\n",
       "TG16      1995.0  1995.0            0.0\n",
       "WS        1999.0  2001.0            2.0\n",
       "Wii       2006.0  2016.0           10.0\n",
       "WiiU      2012.0  2016.0            4.0\n",
       "X360      2005.0  2016.0           11.0\n",
       "XB        2000.0  2008.0            8.0\n",
       "XOne      2013.0  2016.0            3.0"
      ]
     },
     "execution_count": 12,
     "metadata": {},
     "output_type": "execute_result"
    }
   ],
   "source": [
    "#посмотрим на жизненный срок платформы\n",
    "\n",
    "years_of_life = game_data.pivot_table(index='platform',values='year_of_release',aggfunc=['min','max'])\n",
    "years_of_life.columns=['min','max']\n",
    "years_of_life['years_of_life']=years_of_life['max']-years_of_life['min']\n",
    "years_of_life"
   ]
  },
  {
   "cell_type": "code",
   "execution_count": 13,
   "metadata": {},
   "outputs": [
    {
     "data": {
      "text/plain": [
       "array(['PS2', 'Wii', '2600', 'X360', 'GBA', 'PC', 'PS3', 'PS', 'PSP',\n",
       "       'XB', 'GB', 'DS', 'GC', '3DS', 'N64', 'PSV'], dtype=object)"
      ]
     },
     "execution_count": 13,
     "metadata": {},
     "output_type": "execute_result"
    }
   ],
   "source": [
    "#проверим, к каким платформам относятся пропуски\n",
    "\n",
    "game_data[game_data['year_of_release'].isna()]['platform'].unique()"
   ]
  },
  {
   "cell_type": "code",
   "execution_count": 14,
   "metadata": {},
   "outputs": [],
   "source": [
    "#с помощью логической индексации и метода notna() избавимся от пропусков в данных\n",
    "\n",
    "game_data = game_data[game_data['year_of_release'].notna()]"
   ]
  },
  {
   "cell_type": "code",
   "execution_count": 15,
   "metadata": {},
   "outputs": [
    {
     "data": {
      "text/html": [
       "<div>\n",
       "<style scoped>\n",
       "    .dataframe tbody tr th:only-of-type {\n",
       "        vertical-align: middle;\n",
       "    }\n",
       "\n",
       "    .dataframe tbody tr th {\n",
       "        vertical-align: top;\n",
       "    }\n",
       "\n",
       "    .dataframe thead th {\n",
       "        text-align: right;\n",
       "    }\n",
       "</style>\n",
       "<table border=\"1\" class=\"dataframe\">\n",
       "  <thead>\n",
       "    <tr style=\"text-align: right;\">\n",
       "      <th></th>\n",
       "      <th>year_of_release</th>\n",
       "    </tr>\n",
       "  </thead>\n",
       "  <tbody>\n",
       "    <tr>\n",
       "      <th>1980</th>\n",
       "      <td>9</td>\n",
       "    </tr>\n",
       "    <tr>\n",
       "      <th>1981</th>\n",
       "      <td>46</td>\n",
       "    </tr>\n",
       "    <tr>\n",
       "      <th>1982</th>\n",
       "      <td>36</td>\n",
       "    </tr>\n",
       "    <tr>\n",
       "      <th>1983</th>\n",
       "      <td>17</td>\n",
       "    </tr>\n",
       "    <tr>\n",
       "      <th>1984</th>\n",
       "      <td>14</td>\n",
       "    </tr>\n",
       "    <tr>\n",
       "      <th>1985</th>\n",
       "      <td>14</td>\n",
       "    </tr>\n",
       "    <tr>\n",
       "      <th>1986</th>\n",
       "      <td>21</td>\n",
       "    </tr>\n",
       "    <tr>\n",
       "      <th>1987</th>\n",
       "      <td>16</td>\n",
       "    </tr>\n",
       "    <tr>\n",
       "      <th>1988</th>\n",
       "      <td>15</td>\n",
       "    </tr>\n",
       "    <tr>\n",
       "      <th>1989</th>\n",
       "      <td>17</td>\n",
       "    </tr>\n",
       "    <tr>\n",
       "      <th>1990</th>\n",
       "      <td>16</td>\n",
       "    </tr>\n",
       "    <tr>\n",
       "      <th>1991</th>\n",
       "      <td>41</td>\n",
       "    </tr>\n",
       "    <tr>\n",
       "      <th>1992</th>\n",
       "      <td>43</td>\n",
       "    </tr>\n",
       "    <tr>\n",
       "      <th>1993</th>\n",
       "      <td>60</td>\n",
       "    </tr>\n",
       "    <tr>\n",
       "      <th>1994</th>\n",
       "      <td>121</td>\n",
       "    </tr>\n",
       "    <tr>\n",
       "      <th>1995</th>\n",
       "      <td>219</td>\n",
       "    </tr>\n",
       "    <tr>\n",
       "      <th>1996</th>\n",
       "      <td>263</td>\n",
       "    </tr>\n",
       "    <tr>\n",
       "      <th>1997</th>\n",
       "      <td>289</td>\n",
       "    </tr>\n",
       "    <tr>\n",
       "      <th>1998</th>\n",
       "      <td>379</td>\n",
       "    </tr>\n",
       "    <tr>\n",
       "      <th>1999</th>\n",
       "      <td>338</td>\n",
       "    </tr>\n",
       "    <tr>\n",
       "      <th>2000</th>\n",
       "      <td>350</td>\n",
       "    </tr>\n",
       "    <tr>\n",
       "      <th>2001</th>\n",
       "      <td>482</td>\n",
       "    </tr>\n",
       "    <tr>\n",
       "      <th>2002</th>\n",
       "      <td>829</td>\n",
       "    </tr>\n",
       "    <tr>\n",
       "      <th>2003</th>\n",
       "      <td>775</td>\n",
       "    </tr>\n",
       "    <tr>\n",
       "      <th>2004</th>\n",
       "      <td>762</td>\n",
       "    </tr>\n",
       "    <tr>\n",
       "      <th>2005</th>\n",
       "      <td>939</td>\n",
       "    </tr>\n",
       "    <tr>\n",
       "      <th>2006</th>\n",
       "      <td>1006</td>\n",
       "    </tr>\n",
       "    <tr>\n",
       "      <th>2007</th>\n",
       "      <td>1197</td>\n",
       "    </tr>\n",
       "    <tr>\n",
       "      <th>2008</th>\n",
       "      <td>1427</td>\n",
       "    </tr>\n",
       "    <tr>\n",
       "      <th>2009</th>\n",
       "      <td>1426</td>\n",
       "    </tr>\n",
       "    <tr>\n",
       "      <th>2010</th>\n",
       "      <td>1255</td>\n",
       "    </tr>\n",
       "    <tr>\n",
       "      <th>2011</th>\n",
       "      <td>1136</td>\n",
       "    </tr>\n",
       "    <tr>\n",
       "      <th>2012</th>\n",
       "      <td>653</td>\n",
       "    </tr>\n",
       "    <tr>\n",
       "      <th>2013</th>\n",
       "      <td>544</td>\n",
       "    </tr>\n",
       "    <tr>\n",
       "      <th>2014</th>\n",
       "      <td>581</td>\n",
       "    </tr>\n",
       "    <tr>\n",
       "      <th>2015</th>\n",
       "      <td>606</td>\n",
       "    </tr>\n",
       "    <tr>\n",
       "      <th>2016</th>\n",
       "      <td>502</td>\n",
       "    </tr>\n",
       "  </tbody>\n",
       "</table>\n",
       "</div>"
      ],
      "text/plain": [
       "      year_of_release\n",
       "1980                9\n",
       "1981               46\n",
       "1982               36\n",
       "1983               17\n",
       "1984               14\n",
       "1985               14\n",
       "1986               21\n",
       "1987               16\n",
       "1988               15\n",
       "1989               17\n",
       "1990               16\n",
       "1991               41\n",
       "1992               43\n",
       "1993               60\n",
       "1994              121\n",
       "1995              219\n",
       "1996              263\n",
       "1997              289\n",
       "1998              379\n",
       "1999              338\n",
       "2000              350\n",
       "2001              482\n",
       "2002              829\n",
       "2003              775\n",
       "2004              762\n",
       "2005              939\n",
       "2006             1006\n",
       "2007             1197\n",
       "2008             1427\n",
       "2009             1426\n",
       "2010             1255\n",
       "2011             1136\n",
       "2012              653\n",
       "2013              544\n",
       "2014              581\n",
       "2015              606\n",
       "2016              502"
      ]
     },
     "execution_count": 15,
     "metadata": {},
     "output_type": "execute_result"
    }
   ],
   "source": [
    "#изменим тип данных на целочисленный и проверим результат\n",
    "\n",
    "game_data['year_of_release'] = game_data['year_of_release'].astype('int')\n",
    "game_data['year_of_release'].value_counts(dropna=False).sort_index(ascending=True).to_frame()"
   ]
  },
  {
   "cell_type": "code",
   "execution_count": 16,
   "metadata": {},
   "outputs": [
    {
     "data": {
      "text/html": [
       "<div>\n",
       "<style scoped>\n",
       "    .dataframe tbody tr th:only-of-type {\n",
       "        vertical-align: middle;\n",
       "    }\n",
       "\n",
       "    .dataframe tbody tr th {\n",
       "        vertical-align: top;\n",
       "    }\n",
       "\n",
       "    .dataframe thead th {\n",
       "        text-align: right;\n",
       "    }\n",
       "</style>\n",
       "<table border=\"1\" class=\"dataframe\">\n",
       "  <thead>\n",
       "    <tr style=\"text-align: right;\">\n",
       "      <th></th>\n",
       "      <th>min</th>\n",
       "      <th>max</th>\n",
       "      <th>years_of_life</th>\n",
       "    </tr>\n",
       "    <tr>\n",
       "      <th>platform</th>\n",
       "      <th></th>\n",
       "      <th></th>\n",
       "      <th></th>\n",
       "    </tr>\n",
       "  </thead>\n",
       "  <tbody>\n",
       "    <tr>\n",
       "      <th>2600</th>\n",
       "      <td>1980</td>\n",
       "      <td>1989</td>\n",
       "      <td>9</td>\n",
       "    </tr>\n",
       "    <tr>\n",
       "      <th>3DO</th>\n",
       "      <td>1994</td>\n",
       "      <td>1995</td>\n",
       "      <td>1</td>\n",
       "    </tr>\n",
       "    <tr>\n",
       "      <th>3DS</th>\n",
       "      <td>2011</td>\n",
       "      <td>2016</td>\n",
       "      <td>5</td>\n",
       "    </tr>\n",
       "    <tr>\n",
       "      <th>DC</th>\n",
       "      <td>1998</td>\n",
       "      <td>2008</td>\n",
       "      <td>10</td>\n",
       "    </tr>\n",
       "    <tr>\n",
       "      <th>DS</th>\n",
       "      <td>1985</td>\n",
       "      <td>2013</td>\n",
       "      <td>28</td>\n",
       "    </tr>\n",
       "    <tr>\n",
       "      <th>GB</th>\n",
       "      <td>1988</td>\n",
       "      <td>2001</td>\n",
       "      <td>13</td>\n",
       "    </tr>\n",
       "    <tr>\n",
       "      <th>GBA</th>\n",
       "      <td>2000</td>\n",
       "      <td>2007</td>\n",
       "      <td>7</td>\n",
       "    </tr>\n",
       "    <tr>\n",
       "      <th>GC</th>\n",
       "      <td>2001</td>\n",
       "      <td>2007</td>\n",
       "      <td>6</td>\n",
       "    </tr>\n",
       "    <tr>\n",
       "      <th>GEN</th>\n",
       "      <td>1990</td>\n",
       "      <td>1994</td>\n",
       "      <td>4</td>\n",
       "    </tr>\n",
       "    <tr>\n",
       "      <th>GG</th>\n",
       "      <td>1992</td>\n",
       "      <td>1992</td>\n",
       "      <td>0</td>\n",
       "    </tr>\n",
       "    <tr>\n",
       "      <th>N64</th>\n",
       "      <td>1996</td>\n",
       "      <td>2002</td>\n",
       "      <td>6</td>\n",
       "    </tr>\n",
       "    <tr>\n",
       "      <th>NES</th>\n",
       "      <td>1983</td>\n",
       "      <td>1994</td>\n",
       "      <td>11</td>\n",
       "    </tr>\n",
       "    <tr>\n",
       "      <th>NG</th>\n",
       "      <td>1993</td>\n",
       "      <td>1996</td>\n",
       "      <td>3</td>\n",
       "    </tr>\n",
       "    <tr>\n",
       "      <th>PC</th>\n",
       "      <td>1985</td>\n",
       "      <td>2016</td>\n",
       "      <td>31</td>\n",
       "    </tr>\n",
       "    <tr>\n",
       "      <th>PCFX</th>\n",
       "      <td>1996</td>\n",
       "      <td>1996</td>\n",
       "      <td>0</td>\n",
       "    </tr>\n",
       "    <tr>\n",
       "      <th>PS</th>\n",
       "      <td>1994</td>\n",
       "      <td>2003</td>\n",
       "      <td>9</td>\n",
       "    </tr>\n",
       "    <tr>\n",
       "      <th>PS2</th>\n",
       "      <td>2000</td>\n",
       "      <td>2011</td>\n",
       "      <td>11</td>\n",
       "    </tr>\n",
       "    <tr>\n",
       "      <th>PS3</th>\n",
       "      <td>2006</td>\n",
       "      <td>2016</td>\n",
       "      <td>10</td>\n",
       "    </tr>\n",
       "    <tr>\n",
       "      <th>PS4</th>\n",
       "      <td>2013</td>\n",
       "      <td>2016</td>\n",
       "      <td>3</td>\n",
       "    </tr>\n",
       "    <tr>\n",
       "      <th>PSP</th>\n",
       "      <td>2004</td>\n",
       "      <td>2015</td>\n",
       "      <td>11</td>\n",
       "    </tr>\n",
       "    <tr>\n",
       "      <th>PSV</th>\n",
       "      <td>2011</td>\n",
       "      <td>2016</td>\n",
       "      <td>5</td>\n",
       "    </tr>\n",
       "    <tr>\n",
       "      <th>SAT</th>\n",
       "      <td>1994</td>\n",
       "      <td>1999</td>\n",
       "      <td>5</td>\n",
       "    </tr>\n",
       "    <tr>\n",
       "      <th>SCD</th>\n",
       "      <td>1993</td>\n",
       "      <td>1994</td>\n",
       "      <td>1</td>\n",
       "    </tr>\n",
       "    <tr>\n",
       "      <th>SNES</th>\n",
       "      <td>1990</td>\n",
       "      <td>1999</td>\n",
       "      <td>9</td>\n",
       "    </tr>\n",
       "    <tr>\n",
       "      <th>TG16</th>\n",
       "      <td>1995</td>\n",
       "      <td>1995</td>\n",
       "      <td>0</td>\n",
       "    </tr>\n",
       "    <tr>\n",
       "      <th>WS</th>\n",
       "      <td>1999</td>\n",
       "      <td>2001</td>\n",
       "      <td>2</td>\n",
       "    </tr>\n",
       "    <tr>\n",
       "      <th>Wii</th>\n",
       "      <td>2006</td>\n",
       "      <td>2016</td>\n",
       "      <td>10</td>\n",
       "    </tr>\n",
       "    <tr>\n",
       "      <th>WiiU</th>\n",
       "      <td>2012</td>\n",
       "      <td>2016</td>\n",
       "      <td>4</td>\n",
       "    </tr>\n",
       "    <tr>\n",
       "      <th>X360</th>\n",
       "      <td>2005</td>\n",
       "      <td>2016</td>\n",
       "      <td>11</td>\n",
       "    </tr>\n",
       "    <tr>\n",
       "      <th>XB</th>\n",
       "      <td>2000</td>\n",
       "      <td>2008</td>\n",
       "      <td>8</td>\n",
       "    </tr>\n",
       "    <tr>\n",
       "      <th>XOne</th>\n",
       "      <td>2013</td>\n",
       "      <td>2016</td>\n",
       "      <td>3</td>\n",
       "    </tr>\n",
       "  </tbody>\n",
       "</table>\n",
       "</div>"
      ],
      "text/plain": [
       "           min   max  years_of_life\n",
       "platform                           \n",
       "2600      1980  1989              9\n",
       "3DO       1994  1995              1\n",
       "3DS       2011  2016              5\n",
       "DC        1998  2008             10\n",
       "DS        1985  2013             28\n",
       "GB        1988  2001             13\n",
       "GBA       2000  2007              7\n",
       "GC        2001  2007              6\n",
       "GEN       1990  1994              4\n",
       "GG        1992  1992              0\n",
       "N64       1996  2002              6\n",
       "NES       1983  1994             11\n",
       "NG        1993  1996              3\n",
       "PC        1985  2016             31\n",
       "PCFX      1996  1996              0\n",
       "PS        1994  2003              9\n",
       "PS2       2000  2011             11\n",
       "PS3       2006  2016             10\n",
       "PS4       2013  2016              3\n",
       "PSP       2004  2015             11\n",
       "PSV       2011  2016              5\n",
       "SAT       1994  1999              5\n",
       "SCD       1993  1994              1\n",
       "SNES      1990  1999              9\n",
       "TG16      1995  1995              0\n",
       "WS        1999  2001              2\n",
       "Wii       2006  2016             10\n",
       "WiiU      2012  2016              4\n",
       "X360      2005  2016             11\n",
       "XB        2000  2008              8\n",
       "XOne      2013  2016              3"
      ]
     },
     "execution_count": 16,
     "metadata": {},
     "output_type": "execute_result"
    }
   ],
   "source": [
    "years_of_life = game_data.pivot_table(index='platform',values='year_of_release',aggfunc=['min','max'])\n",
    "years_of_life.columns=['min','max']\n",
    "years_of_life['years_of_life']=years_of_life['max']-years_of_life['min']\n",
    "years_of_life"
   ]
  },
  {
   "cell_type": "code",
   "execution_count": 17,
   "metadata": {},
   "outputs": [
    {
     "data": {
      "text/html": [
       "<div>\n",
       "<style scoped>\n",
       "    .dataframe tbody tr th:only-of-type {\n",
       "        vertical-align: middle;\n",
       "    }\n",
       "\n",
       "    .dataframe tbody tr th {\n",
       "        vertical-align: top;\n",
       "    }\n",
       "\n",
       "    .dataframe thead th {\n",
       "        text-align: right;\n",
       "    }\n",
       "</style>\n",
       "<table border=\"1\" class=\"dataframe\">\n",
       "  <thead>\n",
       "    <tr style=\"text-align: right;\">\n",
       "      <th></th>\n",
       "      <th>genre</th>\n",
       "    </tr>\n",
       "  </thead>\n",
       "  <tbody>\n",
       "    <tr>\n",
       "      <th>Action</th>\n",
       "      <td>3307</td>\n",
       "    </tr>\n",
       "    <tr>\n",
       "      <th>Adventure</th>\n",
       "      <td>1293</td>\n",
       "    </tr>\n",
       "    <tr>\n",
       "      <th>Fighting</th>\n",
       "      <td>837</td>\n",
       "    </tr>\n",
       "    <tr>\n",
       "      <th>Misc</th>\n",
       "      <td>1721</td>\n",
       "    </tr>\n",
       "    <tr>\n",
       "      <th>Platform</th>\n",
       "      <td>878</td>\n",
       "    </tr>\n",
       "    <tr>\n",
       "      <th>Puzzle</th>\n",
       "      <td>569</td>\n",
       "    </tr>\n",
       "    <tr>\n",
       "      <th>Racing</th>\n",
       "      <td>1226</td>\n",
       "    </tr>\n",
       "    <tr>\n",
       "      <th>Role-Playing</th>\n",
       "      <td>1481</td>\n",
       "    </tr>\n",
       "    <tr>\n",
       "      <th>Shooter</th>\n",
       "      <td>1296</td>\n",
       "    </tr>\n",
       "    <tr>\n",
       "      <th>Simulation</th>\n",
       "      <td>857</td>\n",
       "    </tr>\n",
       "    <tr>\n",
       "      <th>Sports</th>\n",
       "      <td>2306</td>\n",
       "    </tr>\n",
       "    <tr>\n",
       "      <th>Strategy</th>\n",
       "      <td>673</td>\n",
       "    </tr>\n",
       "  </tbody>\n",
       "</table>\n",
       "</div>"
      ],
      "text/plain": [
       "              genre\n",
       "Action         3307\n",
       "Adventure      1293\n",
       "Fighting        837\n",
       "Misc           1721\n",
       "Platform        878\n",
       "Puzzle          569\n",
       "Racing         1226\n",
       "Role-Playing   1481\n",
       "Shooter        1296\n",
       "Simulation      857\n",
       "Sports         2306\n",
       "Strategy        673"
      ]
     },
     "execution_count": 17,
     "metadata": {},
     "output_type": "execute_result"
    }
   ],
   "source": [
    "game_data['genre'].value_counts(dropna=False).sort_index(ascending=True).to_frame()"
   ]
  },
  {
   "cell_type": "code",
   "execution_count": 18,
   "metadata": {},
   "outputs": [
    {
     "data": {
      "text/html": [
       "<div>\n",
       "<style scoped>\n",
       "    .dataframe tbody tr th:only-of-type {\n",
       "        vertical-align: middle;\n",
       "    }\n",
       "\n",
       "    .dataframe tbody tr th {\n",
       "        vertical-align: top;\n",
       "    }\n",
       "\n",
       "    .dataframe thead th {\n",
       "        text-align: right;\n",
       "    }\n",
       "</style>\n",
       "<table border=\"1\" class=\"dataframe\">\n",
       "  <thead>\n",
       "    <tr style=\"text-align: right;\">\n",
       "      <th></th>\n",
       "      <th>genre</th>\n",
       "    </tr>\n",
       "  </thead>\n",
       "  <tbody>\n",
       "    <tr>\n",
       "      <th>Action</th>\n",
       "      <td>3307</td>\n",
       "    </tr>\n",
       "    <tr>\n",
       "      <th>Adventure</th>\n",
       "      <td>1293</td>\n",
       "    </tr>\n",
       "    <tr>\n",
       "      <th>Fighting</th>\n",
       "      <td>837</td>\n",
       "    </tr>\n",
       "    <tr>\n",
       "      <th>Misc</th>\n",
       "      <td>1721</td>\n",
       "    </tr>\n",
       "    <tr>\n",
       "      <th>Platform</th>\n",
       "      <td>878</td>\n",
       "    </tr>\n",
       "    <tr>\n",
       "      <th>Puzzle</th>\n",
       "      <td>569</td>\n",
       "    </tr>\n",
       "    <tr>\n",
       "      <th>Racing</th>\n",
       "      <td>1226</td>\n",
       "    </tr>\n",
       "    <tr>\n",
       "      <th>Role-Playing</th>\n",
       "      <td>1481</td>\n",
       "    </tr>\n",
       "    <tr>\n",
       "      <th>Shooter</th>\n",
       "      <td>1296</td>\n",
       "    </tr>\n",
       "    <tr>\n",
       "      <th>Simulation</th>\n",
       "      <td>857</td>\n",
       "    </tr>\n",
       "    <tr>\n",
       "      <th>Sports</th>\n",
       "      <td>2306</td>\n",
       "    </tr>\n",
       "    <tr>\n",
       "      <th>Strategy</th>\n",
       "      <td>673</td>\n",
       "    </tr>\n",
       "  </tbody>\n",
       "</table>\n",
       "</div>"
      ],
      "text/plain": [
       "              genre\n",
       "Action         3307\n",
       "Adventure      1293\n",
       "Fighting        837\n",
       "Misc           1721\n",
       "Platform        878\n",
       "Puzzle          569\n",
       "Racing         1226\n",
       "Role-Playing   1481\n",
       "Shooter        1296\n",
       "Simulation      857\n",
       "Sports         2306\n",
       "Strategy        673"
      ]
     },
     "execution_count": 18,
     "metadata": {},
     "output_type": "execute_result"
    }
   ],
   "source": [
    "game_data = game_data[game_data['genre'].notna()]\n",
    "game_data['genre'].value_counts(dropna=False).sort_index(ascending=True).to_frame()"
   ]
  },
  {
   "cell_type": "code",
   "execution_count": 19,
   "metadata": {},
   "outputs": [
    {
     "data": {
      "text/html": [
       "<div>\n",
       "<style scoped>\n",
       "    .dataframe tbody tr th:only-of-type {\n",
       "        vertical-align: middle;\n",
       "    }\n",
       "\n",
       "    .dataframe tbody tr th {\n",
       "        vertical-align: top;\n",
       "    }\n",
       "\n",
       "    .dataframe thead th {\n",
       "        text-align: right;\n",
       "    }\n",
       "</style>\n",
       "<table border=\"1\" class=\"dataframe\">\n",
       "  <thead>\n",
       "    <tr style=\"text-align: right;\">\n",
       "      <th></th>\n",
       "      <th>north_america_sales</th>\n",
       "    </tr>\n",
       "  </thead>\n",
       "  <tbody>\n",
       "    <tr>\n",
       "      <th>0.00</th>\n",
       "      <td>4449</td>\n",
       "    </tr>\n",
       "    <tr>\n",
       "      <th>0.01</th>\n",
       "      <td>530</td>\n",
       "    </tr>\n",
       "    <tr>\n",
       "      <th>0.02</th>\n",
       "      <td>562</td>\n",
       "    </tr>\n",
       "    <tr>\n",
       "      <th>0.03</th>\n",
       "      <td>554</td>\n",
       "    </tr>\n",
       "    <tr>\n",
       "      <th>0.04</th>\n",
       "      <td>543</td>\n",
       "    </tr>\n",
       "    <tr>\n",
       "      <th>...</th>\n",
       "      <td>...</td>\n",
       "    </tr>\n",
       "    <tr>\n",
       "      <th>15.68</th>\n",
       "      <td>1</td>\n",
       "    </tr>\n",
       "    <tr>\n",
       "      <th>23.20</th>\n",
       "      <td>1</td>\n",
       "    </tr>\n",
       "    <tr>\n",
       "      <th>26.93</th>\n",
       "      <td>1</td>\n",
       "    </tr>\n",
       "    <tr>\n",
       "      <th>29.08</th>\n",
       "      <td>1</td>\n",
       "    </tr>\n",
       "    <tr>\n",
       "      <th>41.36</th>\n",
       "      <td>1</td>\n",
       "    </tr>\n",
       "  </tbody>\n",
       "</table>\n",
       "<p>401 rows × 1 columns</p>\n",
       "</div>"
      ],
      "text/plain": [
       "       north_america_sales\n",
       "0.00                  4449\n",
       "0.01                   530\n",
       "0.02                   562\n",
       "0.03                   554\n",
       "0.04                   543\n",
       "...                    ...\n",
       "15.68                    1\n",
       "23.20                    1\n",
       "26.93                    1\n",
       "29.08                    1\n",
       "41.36                    1\n",
       "\n",
       "[401 rows x 1 columns]"
      ]
     },
     "execution_count": 19,
     "metadata": {},
     "output_type": "execute_result"
    }
   ],
   "source": [
    "game_data['north_america_sales'].value_counts(dropna=False).sort_index(ascending=True).to_frame()"
   ]
  },
  {
   "cell_type": "markdown",
   "metadata": {},
   "source": [
    "**Пока что не будем трогать столбцы с продажами, тип float в данном случае пригодится для более точных рассчётов продаж игр.**"
   ]
  },
  {
   "cell_type": "code",
   "execution_count": 20,
   "metadata": {},
   "outputs": [
    {
     "data": {
      "text/html": [
       "<div>\n",
       "<style scoped>\n",
       "    .dataframe tbody tr th:only-of-type {\n",
       "        vertical-align: middle;\n",
       "    }\n",
       "\n",
       "    .dataframe tbody tr th {\n",
       "        vertical-align: top;\n",
       "    }\n",
       "\n",
       "    .dataframe thead th {\n",
       "        text-align: right;\n",
       "    }\n",
       "</style>\n",
       "<table border=\"1\" class=\"dataframe\">\n",
       "  <thead>\n",
       "    <tr style=\"text-align: right;\">\n",
       "      <th></th>\n",
       "      <th>europe_sales</th>\n",
       "    </tr>\n",
       "  </thead>\n",
       "  <tbody>\n",
       "    <tr>\n",
       "      <th>0.00</th>\n",
       "      <td>5766</td>\n",
       "    </tr>\n",
       "    <tr>\n",
       "      <th>0.01</th>\n",
       "      <td>1467</td>\n",
       "    </tr>\n",
       "    <tr>\n",
       "      <th>0.02</th>\n",
       "      <td>1290</td>\n",
       "    </tr>\n",
       "    <tr>\n",
       "      <th>0.03</th>\n",
       "      <td>911</td>\n",
       "    </tr>\n",
       "    <tr>\n",
       "      <th>0.04</th>\n",
       "      <td>702</td>\n",
       "    </tr>\n",
       "    <tr>\n",
       "      <th>...</th>\n",
       "      <td>...</td>\n",
       "    </tr>\n",
       "    <tr>\n",
       "      <th>9.20</th>\n",
       "      <td>1</td>\n",
       "    </tr>\n",
       "    <tr>\n",
       "      <th>10.93</th>\n",
       "      <td>1</td>\n",
       "    </tr>\n",
       "    <tr>\n",
       "      <th>10.95</th>\n",
       "      <td>1</td>\n",
       "    </tr>\n",
       "    <tr>\n",
       "      <th>12.76</th>\n",
       "      <td>1</td>\n",
       "    </tr>\n",
       "    <tr>\n",
       "      <th>28.96</th>\n",
       "      <td>1</td>\n",
       "    </tr>\n",
       "  </tbody>\n",
       "</table>\n",
       "<p>307 rows × 1 columns</p>\n",
       "</div>"
      ],
      "text/plain": [
       "       europe_sales\n",
       "0.00           5766\n",
       "0.01           1467\n",
       "0.02           1290\n",
       "0.03            911\n",
       "0.04            702\n",
       "...             ...\n",
       "9.20              1\n",
       "10.93             1\n",
       "10.95             1\n",
       "12.76             1\n",
       "28.96             1\n",
       "\n",
       "[307 rows x 1 columns]"
      ]
     },
     "execution_count": 20,
     "metadata": {},
     "output_type": "execute_result"
    }
   ],
   "source": [
    "game_data['europe_sales'].value_counts(dropna=False).sort_index(ascending=True).to_frame()"
   ]
  },
  {
   "cell_type": "code",
   "execution_count": 21,
   "metadata": {},
   "outputs": [
    {
     "data": {
      "text/html": [
       "<div>\n",
       "<style scoped>\n",
       "    .dataframe tbody tr th:only-of-type {\n",
       "        vertical-align: middle;\n",
       "    }\n",
       "\n",
       "    .dataframe tbody tr th {\n",
       "        vertical-align: top;\n",
       "    }\n",
       "\n",
       "    .dataframe thead th {\n",
       "        text-align: right;\n",
       "    }\n",
       "</style>\n",
       "<table border=\"1\" class=\"dataframe\">\n",
       "  <thead>\n",
       "    <tr style=\"text-align: right;\">\n",
       "      <th></th>\n",
       "      <th>japan_sales</th>\n",
       "    </tr>\n",
       "  </thead>\n",
       "  <tbody>\n",
       "    <tr>\n",
       "      <th>0.00</th>\n",
       "      <td>10300</td>\n",
       "    </tr>\n",
       "    <tr>\n",
       "      <th>0.01</th>\n",
       "      <td>697</td>\n",
       "    </tr>\n",
       "    <tr>\n",
       "      <th>0.02</th>\n",
       "      <td>733</td>\n",
       "    </tr>\n",
       "    <tr>\n",
       "      <th>0.03</th>\n",
       "      <td>540</td>\n",
       "    </tr>\n",
       "    <tr>\n",
       "      <th>0.04</th>\n",
       "      <td>391</td>\n",
       "    </tr>\n",
       "    <tr>\n",
       "      <th>...</th>\n",
       "      <td>...</td>\n",
       "    </tr>\n",
       "    <tr>\n",
       "      <th>6.04</th>\n",
       "      <td>1</td>\n",
       "    </tr>\n",
       "    <tr>\n",
       "      <th>6.50</th>\n",
       "      <td>1</td>\n",
       "    </tr>\n",
       "    <tr>\n",
       "      <th>6.81</th>\n",
       "      <td>1</td>\n",
       "    </tr>\n",
       "    <tr>\n",
       "      <th>7.20</th>\n",
       "      <td>1</td>\n",
       "    </tr>\n",
       "    <tr>\n",
       "      <th>10.22</th>\n",
       "      <td>1</td>\n",
       "    </tr>\n",
       "  </tbody>\n",
       "</table>\n",
       "<p>244 rows × 1 columns</p>\n",
       "</div>"
      ],
      "text/plain": [
       "       japan_sales\n",
       "0.00         10300\n",
       "0.01           697\n",
       "0.02           733\n",
       "0.03           540\n",
       "0.04           391\n",
       "...            ...\n",
       "6.04             1\n",
       "6.50             1\n",
       "6.81             1\n",
       "7.20             1\n",
       "10.22            1\n",
       "\n",
       "[244 rows x 1 columns]"
      ]
     },
     "execution_count": 21,
     "metadata": {},
     "output_type": "execute_result"
    }
   ],
   "source": [
    "game_data['japan_sales'].value_counts(dropna=False).sort_index(ascending=True).to_frame()"
   ]
  },
  {
   "cell_type": "code",
   "execution_count": 22,
   "metadata": {},
   "outputs": [
    {
     "data": {
      "text/html": [
       "<div>\n",
       "<style scoped>\n",
       "    .dataframe tbody tr th:only-of-type {\n",
       "        vertical-align: middle;\n",
       "    }\n",
       "\n",
       "    .dataframe tbody tr th {\n",
       "        vertical-align: top;\n",
       "    }\n",
       "\n",
       "    .dataframe thead th {\n",
       "        text-align: right;\n",
       "    }\n",
       "</style>\n",
       "<table border=\"1\" class=\"dataframe\">\n",
       "  <thead>\n",
       "    <tr style=\"text-align: right;\">\n",
       "      <th></th>\n",
       "      <th>other_sales</th>\n",
       "    </tr>\n",
       "  </thead>\n",
       "  <tbody>\n",
       "    <tr>\n",
       "      <th>0.00</th>\n",
       "      <td>6492</td>\n",
       "    </tr>\n",
       "    <tr>\n",
       "      <th>0.01</th>\n",
       "      <td>3398</td>\n",
       "    </tr>\n",
       "    <tr>\n",
       "      <th>0.02</th>\n",
       "      <td>1596</td>\n",
       "    </tr>\n",
       "    <tr>\n",
       "      <th>0.03</th>\n",
       "      <td>910</td>\n",
       "    </tr>\n",
       "    <tr>\n",
       "      <th>0.04</th>\n",
       "      <td>641</td>\n",
       "    </tr>\n",
       "    <tr>\n",
       "      <th>...</th>\n",
       "      <td>...</td>\n",
       "    </tr>\n",
       "    <tr>\n",
       "      <th>3.29</th>\n",
       "      <td>1</td>\n",
       "    </tr>\n",
       "    <tr>\n",
       "      <th>3.96</th>\n",
       "      <td>1</td>\n",
       "    </tr>\n",
       "    <tr>\n",
       "      <th>7.53</th>\n",
       "      <td>1</td>\n",
       "    </tr>\n",
       "    <tr>\n",
       "      <th>8.45</th>\n",
       "      <td>1</td>\n",
       "    </tr>\n",
       "    <tr>\n",
       "      <th>10.57</th>\n",
       "      <td>1</td>\n",
       "    </tr>\n",
       "  </tbody>\n",
       "</table>\n",
       "<p>155 rows × 1 columns</p>\n",
       "</div>"
      ],
      "text/plain": [
       "       other_sales\n",
       "0.00          6492\n",
       "0.01          3398\n",
       "0.02          1596\n",
       "0.03           910\n",
       "0.04           641\n",
       "...            ...\n",
       "3.29             1\n",
       "3.96             1\n",
       "7.53             1\n",
       "8.45             1\n",
       "10.57            1\n",
       "\n",
       "[155 rows x 1 columns]"
      ]
     },
     "execution_count": 22,
     "metadata": {},
     "output_type": "execute_result"
    }
   ],
   "source": [
    "game_data['other_sales'].value_counts(dropna=False).sort_index(ascending=True).to_frame()"
   ]
  },
  {
   "cell_type": "code",
   "execution_count": 23,
   "metadata": {},
   "outputs": [
    {
     "data": {
      "text/html": [
       "<div>\n",
       "<style scoped>\n",
       "    .dataframe tbody tr th:only-of-type {\n",
       "        vertical-align: middle;\n",
       "    }\n",
       "\n",
       "    .dataframe tbody tr th {\n",
       "        vertical-align: top;\n",
       "    }\n",
       "\n",
       "    .dataframe thead th {\n",
       "        text-align: right;\n",
       "    }\n",
       "</style>\n",
       "<table border=\"1\" class=\"dataframe\">\n",
       "  <thead>\n",
       "    <tr style=\"text-align: right;\">\n",
       "      <th></th>\n",
       "      <th>critic_score</th>\n",
       "    </tr>\n",
       "  </thead>\n",
       "  <tbody>\n",
       "    <tr>\n",
       "      <th>13.0</th>\n",
       "      <td>1</td>\n",
       "    </tr>\n",
       "    <tr>\n",
       "      <th>17.0</th>\n",
       "      <td>1</td>\n",
       "    </tr>\n",
       "    <tr>\n",
       "      <th>19.0</th>\n",
       "      <td>6</td>\n",
       "    </tr>\n",
       "    <tr>\n",
       "      <th>20.0</th>\n",
       "      <td>3</td>\n",
       "    </tr>\n",
       "    <tr>\n",
       "      <th>21.0</th>\n",
       "      <td>1</td>\n",
       "    </tr>\n",
       "    <tr>\n",
       "      <th>...</th>\n",
       "      <td>...</td>\n",
       "    </tr>\n",
       "    <tr>\n",
       "      <th>95.0</th>\n",
       "      <td>16</td>\n",
       "    </tr>\n",
       "    <tr>\n",
       "      <th>96.0</th>\n",
       "      <td>18</td>\n",
       "    </tr>\n",
       "    <tr>\n",
       "      <th>97.0</th>\n",
       "      <td>11</td>\n",
       "    </tr>\n",
       "    <tr>\n",
       "      <th>98.0</th>\n",
       "      <td>4</td>\n",
       "    </tr>\n",
       "    <tr>\n",
       "      <th>NaN</th>\n",
       "      <td>8461</td>\n",
       "    </tr>\n",
       "  </tbody>\n",
       "</table>\n",
       "<p>82 rows × 1 columns</p>\n",
       "</div>"
      ],
      "text/plain": [
       "      critic_score\n",
       "13.0             1\n",
       "17.0             1\n",
       "19.0             6\n",
       "20.0             3\n",
       "21.0             1\n",
       "...            ...\n",
       "95.0            16\n",
       "96.0            18\n",
       "97.0            11\n",
       "98.0             4\n",
       "NaN           8461\n",
       "\n",
       "[82 rows x 1 columns]"
      ]
     },
     "execution_count": 23,
     "metadata": {},
     "output_type": "execute_result"
    }
   ],
   "source": [
    "game_data['critic_score'].value_counts(dropna=False).sort_index(ascending=True).to_frame()"
   ]
  },
  {
   "cell_type": "code",
   "execution_count": 25,
   "metadata": {},
   "outputs": [
    {
     "data": {
      "text/html": [
       "<div>\n",
       "<style scoped>\n",
       "    .dataframe tbody tr th:only-of-type {\n",
       "        vertical-align: middle;\n",
       "    }\n",
       "\n",
       "    .dataframe tbody tr th {\n",
       "        vertical-align: top;\n",
       "    }\n",
       "\n",
       "    .dataframe thead th {\n",
       "        text-align: right;\n",
       "    }\n",
       "</style>\n",
       "<table border=\"1\" class=\"dataframe\">\n",
       "  <thead>\n",
       "    <tr style=\"text-align: right;\">\n",
       "      <th></th>\n",
       "      <th>user_score</th>\n",
       "    </tr>\n",
       "  </thead>\n",
       "  <tbody>\n",
       "    <tr>\n",
       "      <th>0</th>\n",
       "      <td>1</td>\n",
       "    </tr>\n",
       "    <tr>\n",
       "      <th>0.2</th>\n",
       "      <td>2</td>\n",
       "    </tr>\n",
       "    <tr>\n",
       "      <th>0.3</th>\n",
       "      <td>2</td>\n",
       "    </tr>\n",
       "    <tr>\n",
       "      <th>0.5</th>\n",
       "      <td>2</td>\n",
       "    </tr>\n",
       "    <tr>\n",
       "      <th>0.6</th>\n",
       "      <td>2</td>\n",
       "    </tr>\n",
       "    <tr>\n",
       "      <th>...</th>\n",
       "      <td>...</td>\n",
       "    </tr>\n",
       "    <tr>\n",
       "      <th>9.5</th>\n",
       "      <td>5</td>\n",
       "    </tr>\n",
       "    <tr>\n",
       "      <th>9.6</th>\n",
       "      <td>2</td>\n",
       "    </tr>\n",
       "    <tr>\n",
       "      <th>9.7</th>\n",
       "      <td>1</td>\n",
       "    </tr>\n",
       "    <tr>\n",
       "      <th>tbd</th>\n",
       "      <td>2376</td>\n",
       "    </tr>\n",
       "    <tr>\n",
       "      <th>NaN</th>\n",
       "      <td>6605</td>\n",
       "    </tr>\n",
       "  </tbody>\n",
       "</table>\n",
       "<p>97 rows × 1 columns</p>\n",
       "</div>"
      ],
      "text/plain": [
       "     user_score\n",
       "0             1\n",
       "0.2           2\n",
       "0.3           2\n",
       "0.5           2\n",
       "0.6           2\n",
       "..          ...\n",
       "9.5           5\n",
       "9.6           2\n",
       "9.7           1\n",
       "tbd        2376\n",
       "NaN        6605\n",
       "\n",
       "[97 rows x 1 columns]"
      ]
     },
     "execution_count": 25,
     "metadata": {},
     "output_type": "execute_result"
    }
   ],
   "source": [
    "game_data['user_score'].value_counts(dropna=False).sort_index(ascending=True).to_frame()"
   ]
  },
  {
   "cell_type": "markdown",
   "metadata": {},
   "source": [
    "**Аббревиатура 'tbd' означает, что данные не определены, поэтому не попали ни в одну из категорий - ни в определённую оценку, ни в NaN. Также, в этом столбце тип данных object, это нужно поменять. Изменим тип данных на float64 с помощью метода to_numeric, аргументом к которому пропишем errors='coerce' - тогда значения из tbd принудительно заменятся на NaN; после этого мы сможем заполнить пропуски медианой.**"
   ]
  },
  {
   "cell_type": "code",
   "execution_count": 26,
   "metadata": {},
   "outputs": [
    {
     "data": {
      "text/html": [
       "<div>\n",
       "<style scoped>\n",
       "    .dataframe tbody tr th:only-of-type {\n",
       "        vertical-align: middle;\n",
       "    }\n",
       "\n",
       "    .dataframe tbody tr th {\n",
       "        vertical-align: top;\n",
       "    }\n",
       "\n",
       "    .dataframe thead th {\n",
       "        text-align: right;\n",
       "    }\n",
       "</style>\n",
       "<table border=\"1\" class=\"dataframe\">\n",
       "  <thead>\n",
       "    <tr style=\"text-align: right;\">\n",
       "      <th></th>\n",
       "      <th>user_score</th>\n",
       "    </tr>\n",
       "  </thead>\n",
       "  <tbody>\n",
       "    <tr>\n",
       "      <th>0.0</th>\n",
       "      <td>1</td>\n",
       "    </tr>\n",
       "    <tr>\n",
       "      <th>0.2</th>\n",
       "      <td>2</td>\n",
       "    </tr>\n",
       "    <tr>\n",
       "      <th>0.3</th>\n",
       "      <td>2</td>\n",
       "    </tr>\n",
       "    <tr>\n",
       "      <th>0.5</th>\n",
       "      <td>2</td>\n",
       "    </tr>\n",
       "    <tr>\n",
       "      <th>0.6</th>\n",
       "      <td>2</td>\n",
       "    </tr>\n",
       "    <tr>\n",
       "      <th>...</th>\n",
       "      <td>...</td>\n",
       "    </tr>\n",
       "    <tr>\n",
       "      <th>9.4</th>\n",
       "      <td>11</td>\n",
       "    </tr>\n",
       "    <tr>\n",
       "      <th>9.5</th>\n",
       "      <td>5</td>\n",
       "    </tr>\n",
       "    <tr>\n",
       "      <th>9.6</th>\n",
       "      <td>2</td>\n",
       "    </tr>\n",
       "    <tr>\n",
       "      <th>9.7</th>\n",
       "      <td>1</td>\n",
       "    </tr>\n",
       "    <tr>\n",
       "      <th>NaN</th>\n",
       "      <td>8981</td>\n",
       "    </tr>\n",
       "  </tbody>\n",
       "</table>\n",
       "<p>96 rows × 1 columns</p>\n",
       "</div>"
      ],
      "text/plain": [
       "     user_score\n",
       "0.0           1\n",
       "0.2           2\n",
       "0.3           2\n",
       "0.5           2\n",
       "0.6           2\n",
       "..          ...\n",
       "9.4          11\n",
       "9.5           5\n",
       "9.6           2\n",
       "9.7           1\n",
       "NaN        8981\n",
       "\n",
       "[96 rows x 1 columns]"
      ]
     },
     "execution_count": 26,
     "metadata": {},
     "output_type": "execute_result"
    }
   ],
   "source": [
    "game_data['user_score'] = pd.to_numeric(game_data['user_score'], errors = 'coerce')     \n",
    "game_data['user_score'].value_counts(dropna=False).sort_index(ascending=True).to_frame()"
   ]
  },
  {
   "cell_type": "code",
   "execution_count": 27,
   "metadata": {},
   "outputs": [
    {
     "data": {
      "text/html": [
       "<div>\n",
       "<style scoped>\n",
       "    .dataframe tbody tr th:only-of-type {\n",
       "        vertical-align: middle;\n",
       "    }\n",
       "\n",
       "    .dataframe tbody tr th {\n",
       "        vertical-align: top;\n",
       "    }\n",
       "\n",
       "    .dataframe thead th {\n",
       "        text-align: right;\n",
       "    }\n",
       "</style>\n",
       "<table border=\"1\" class=\"dataframe\">\n",
       "  <thead>\n",
       "    <tr style=\"text-align: right;\">\n",
       "      <th></th>\n",
       "      <th>rating</th>\n",
       "    </tr>\n",
       "  </thead>\n",
       "  <tbody>\n",
       "    <tr>\n",
       "      <th>AO</th>\n",
       "      <td>1</td>\n",
       "    </tr>\n",
       "    <tr>\n",
       "      <th>E</th>\n",
       "      <td>3921</td>\n",
       "    </tr>\n",
       "    <tr>\n",
       "      <th>E10+</th>\n",
       "      <td>1393</td>\n",
       "    </tr>\n",
       "    <tr>\n",
       "      <th>EC</th>\n",
       "      <td>8</td>\n",
       "    </tr>\n",
       "    <tr>\n",
       "      <th>K-A</th>\n",
       "      <td>3</td>\n",
       "    </tr>\n",
       "    <tr>\n",
       "      <th>M</th>\n",
       "      <td>1536</td>\n",
       "    </tr>\n",
       "    <tr>\n",
       "      <th>RP</th>\n",
       "      <td>1</td>\n",
       "    </tr>\n",
       "    <tr>\n",
       "      <th>T</th>\n",
       "      <td>2905</td>\n",
       "    </tr>\n",
       "    <tr>\n",
       "      <th>NaN</th>\n",
       "      <td>6676</td>\n",
       "    </tr>\n",
       "  </tbody>\n",
       "</table>\n",
       "</div>"
      ],
      "text/plain": [
       "      rating\n",
       "AO         1\n",
       "E       3921\n",
       "E10+    1393\n",
       "EC         8\n",
       "K-A        3\n",
       "M       1536\n",
       "RP         1\n",
       "T       2905\n",
       "NaN     6676"
      ]
     },
     "execution_count": 27,
     "metadata": {},
     "output_type": "execute_result"
    }
   ],
   "source": [
    "game_data['rating'].value_counts(dropna=False).sort_index(ascending=True).to_frame()"
   ]
  },
  {
   "cell_type": "markdown",
   "metadata": {},
   "source": [
    "**Заметим, что большинство игр имеет рейтинги E и T.** \n",
    "\n",
    "**В этом столбце так же очень много пропусков, с которыми нужно поработать. \n",
    "Скорее всего эти пропуски, как и в предыдущих двух столбцах, с которыми мы работали - *случайные*. Заменим пропуски в этом столбце на значение \"unknown\".** "
   ]
  },
  {
   "cell_type": "code",
   "execution_count": 28,
   "metadata": {},
   "outputs": [
    {
     "data": {
      "text/html": [
       "<div>\n",
       "<style scoped>\n",
       "    .dataframe tbody tr th:only-of-type {\n",
       "        vertical-align: middle;\n",
       "    }\n",
       "\n",
       "    .dataframe tbody tr th {\n",
       "        vertical-align: top;\n",
       "    }\n",
       "\n",
       "    .dataframe thead th {\n",
       "        text-align: right;\n",
       "    }\n",
       "</style>\n",
       "<table border=\"1\" class=\"dataframe\">\n",
       "  <thead>\n",
       "    <tr style=\"text-align: right;\">\n",
       "      <th></th>\n",
       "      <th>rating</th>\n",
       "    </tr>\n",
       "  </thead>\n",
       "  <tbody>\n",
       "    <tr>\n",
       "      <th>AO</th>\n",
       "      <td>1</td>\n",
       "    </tr>\n",
       "    <tr>\n",
       "      <th>E</th>\n",
       "      <td>3921</td>\n",
       "    </tr>\n",
       "    <tr>\n",
       "      <th>E10+</th>\n",
       "      <td>1393</td>\n",
       "    </tr>\n",
       "    <tr>\n",
       "      <th>EC</th>\n",
       "      <td>8</td>\n",
       "    </tr>\n",
       "    <tr>\n",
       "      <th>K-A</th>\n",
       "      <td>3</td>\n",
       "    </tr>\n",
       "    <tr>\n",
       "      <th>M</th>\n",
       "      <td>1536</td>\n",
       "    </tr>\n",
       "    <tr>\n",
       "      <th>RP</th>\n",
       "      <td>1</td>\n",
       "    </tr>\n",
       "    <tr>\n",
       "      <th>T</th>\n",
       "      <td>2905</td>\n",
       "    </tr>\n",
       "    <tr>\n",
       "      <th>unknown</th>\n",
       "      <td>6676</td>\n",
       "    </tr>\n",
       "  </tbody>\n",
       "</table>\n",
       "</div>"
      ],
      "text/plain": [
       "         rating\n",
       "AO            1\n",
       "E          3921\n",
       "E10+       1393\n",
       "EC            8\n",
       "K-A           3\n",
       "M          1536\n",
       "RP            1\n",
       "T          2905\n",
       "unknown    6676"
      ]
     },
     "execution_count": 28,
     "metadata": {},
     "output_type": "execute_result"
    }
   ],
   "source": [
    "game_data['rating'] = game_data['rating'].fillna('unknown')\n",
    "game_data['rating'].value_counts(dropna=False).sort_index(ascending=True).to_frame()"
   ]
  },
  {
   "cell_type": "markdown",
   "metadata": {},
   "source": [
    "**Объединим некоторые рейтинги в один:**\n",
    "\n",
    "\n",
    "\n",
    "- **M** и **AO** объединим в **M** (только для взрослых)\n",
    "- **E**, **RP** и **K-A** объединим в **E** (для всех)"
   ]
  },
  {
   "cell_type": "code",
   "execution_count": 29,
   "metadata": {},
   "outputs": [
    {
     "data": {
      "text/html": [
       "<div>\n",
       "<style scoped>\n",
       "    .dataframe tbody tr th:only-of-type {\n",
       "        vertical-align: middle;\n",
       "    }\n",
       "\n",
       "    .dataframe tbody tr th {\n",
       "        vertical-align: top;\n",
       "    }\n",
       "\n",
       "    .dataframe thead th {\n",
       "        text-align: right;\n",
       "    }\n",
       "</style>\n",
       "<table border=\"1\" class=\"dataframe\">\n",
       "  <thead>\n",
       "    <tr style=\"text-align: right;\">\n",
       "      <th></th>\n",
       "      <th>rating</th>\n",
       "    </tr>\n",
       "  </thead>\n",
       "  <tbody>\n",
       "    <tr>\n",
       "      <th>E</th>\n",
       "      <td>3925</td>\n",
       "    </tr>\n",
       "    <tr>\n",
       "      <th>E10+</th>\n",
       "      <td>1393</td>\n",
       "    </tr>\n",
       "    <tr>\n",
       "      <th>M</th>\n",
       "      <td>1537</td>\n",
       "    </tr>\n",
       "    <tr>\n",
       "      <th>T</th>\n",
       "      <td>2913</td>\n",
       "    </tr>\n",
       "    <tr>\n",
       "      <th>unknown</th>\n",
       "      <td>6676</td>\n",
       "    </tr>\n",
       "  </tbody>\n",
       "</table>\n",
       "</div>"
      ],
      "text/plain": [
       "         rating\n",
       "E          3925\n",
       "E10+       1393\n",
       "M          1537\n",
       "T          2913\n",
       "unknown    6676"
      ]
     },
     "execution_count": 29,
     "metadata": {},
     "output_type": "execute_result"
    }
   ],
   "source": [
    "game_data.loc[game_data['rating'] == 'AO', 'rating'] = 'M'\n",
    "game_data.loc[game_data['rating'] == 'K-A', 'rating'] = 'E'\n",
    "game_data.loc[game_data['rating'] == 'RP', 'rating'] = 'E'\n",
    "game_data.loc[game_data['rating'] == 'EC', 'rating'] = 'T'\n",
    "game_data['rating'].value_counts(dropna=False).sort_index(ascending=True).to_frame()"
   ]
  },
  {
   "cell_type": "markdown",
   "metadata": {},
   "source": [
    "**Посчитаем суммарные продажи во всех регионах. Создадим для этого новый столбец в нашей таблице.**"
   ]
  },
  {
   "cell_type": "code",
   "execution_count": 30,
   "metadata": {},
   "outputs": [
    {
     "data": {
      "text/html": [
       "<div>\n",
       "<style scoped>\n",
       "    .dataframe tbody tr th:only-of-type {\n",
       "        vertical-align: middle;\n",
       "    }\n",
       "\n",
       "    .dataframe tbody tr th {\n",
       "        vertical-align: top;\n",
       "    }\n",
       "\n",
       "    .dataframe thead th {\n",
       "        text-align: right;\n",
       "    }\n",
       "</style>\n",
       "<table border=\"1\" class=\"dataframe\">\n",
       "  <thead>\n",
       "    <tr style=\"text-align: right;\">\n",
       "      <th></th>\n",
       "      <th>name</th>\n",
       "      <th>platform</th>\n",
       "      <th>year_of_release</th>\n",
       "      <th>genre</th>\n",
       "      <th>north_america_sales</th>\n",
       "      <th>europe_sales</th>\n",
       "      <th>japan_sales</th>\n",
       "      <th>other_sales</th>\n",
       "      <th>critic_score</th>\n",
       "      <th>user_score</th>\n",
       "      <th>rating</th>\n",
       "      <th>total_sales</th>\n",
       "    </tr>\n",
       "  </thead>\n",
       "  <tbody>\n",
       "    <tr>\n",
       "      <th>0</th>\n",
       "      <td>Wii Sports</td>\n",
       "      <td>Wii</td>\n",
       "      <td>2006</td>\n",
       "      <td>Sports</td>\n",
       "      <td>41.36</td>\n",
       "      <td>28.96</td>\n",
       "      <td>3.77</td>\n",
       "      <td>8.45</td>\n",
       "      <td>76.0</td>\n",
       "      <td>8.0</td>\n",
       "      <td>E</td>\n",
       "      <td>82.54</td>\n",
       "    </tr>\n",
       "    <tr>\n",
       "      <th>1</th>\n",
       "      <td>Super Mario Bros.</td>\n",
       "      <td>NES</td>\n",
       "      <td>1985</td>\n",
       "      <td>Platform</td>\n",
       "      <td>29.08</td>\n",
       "      <td>3.58</td>\n",
       "      <td>6.81</td>\n",
       "      <td>0.77</td>\n",
       "      <td>NaN</td>\n",
       "      <td>NaN</td>\n",
       "      <td>unknown</td>\n",
       "      <td>40.24</td>\n",
       "    </tr>\n",
       "    <tr>\n",
       "      <th>2</th>\n",
       "      <td>Mario Kart Wii</td>\n",
       "      <td>Wii</td>\n",
       "      <td>2008</td>\n",
       "      <td>Racing</td>\n",
       "      <td>15.68</td>\n",
       "      <td>12.76</td>\n",
       "      <td>3.79</td>\n",
       "      <td>3.29</td>\n",
       "      <td>82.0</td>\n",
       "      <td>8.3</td>\n",
       "      <td>E</td>\n",
       "      <td>35.52</td>\n",
       "    </tr>\n",
       "    <tr>\n",
       "      <th>3</th>\n",
       "      <td>Wii Sports Resort</td>\n",
       "      <td>Wii</td>\n",
       "      <td>2009</td>\n",
       "      <td>Sports</td>\n",
       "      <td>15.61</td>\n",
       "      <td>10.93</td>\n",
       "      <td>3.28</td>\n",
       "      <td>2.95</td>\n",
       "      <td>80.0</td>\n",
       "      <td>8.0</td>\n",
       "      <td>E</td>\n",
       "      <td>32.77</td>\n",
       "    </tr>\n",
       "    <tr>\n",
       "      <th>4</th>\n",
       "      <td>Pokemon Red/Pokemon Blue</td>\n",
       "      <td>GB</td>\n",
       "      <td>1996</td>\n",
       "      <td>Role-Playing</td>\n",
       "      <td>11.27</td>\n",
       "      <td>8.89</td>\n",
       "      <td>10.22</td>\n",
       "      <td>1.00</td>\n",
       "      <td>NaN</td>\n",
       "      <td>NaN</td>\n",
       "      <td>unknown</td>\n",
       "      <td>31.38</td>\n",
       "    </tr>\n",
       "    <tr>\n",
       "      <th>...</th>\n",
       "      <td>...</td>\n",
       "      <td>...</td>\n",
       "      <td>...</td>\n",
       "      <td>...</td>\n",
       "      <td>...</td>\n",
       "      <td>...</td>\n",
       "      <td>...</td>\n",
       "      <td>...</td>\n",
       "      <td>...</td>\n",
       "      <td>...</td>\n",
       "      <td>...</td>\n",
       "      <td>...</td>\n",
       "    </tr>\n",
       "    <tr>\n",
       "      <th>16710</th>\n",
       "      <td>Samurai Warriors: Sanada Maru</td>\n",
       "      <td>PS3</td>\n",
       "      <td>2016</td>\n",
       "      <td>Action</td>\n",
       "      <td>0.00</td>\n",
       "      <td>0.00</td>\n",
       "      <td>0.01</td>\n",
       "      <td>0.00</td>\n",
       "      <td>NaN</td>\n",
       "      <td>NaN</td>\n",
       "      <td>unknown</td>\n",
       "      <td>0.01</td>\n",
       "    </tr>\n",
       "    <tr>\n",
       "      <th>16711</th>\n",
       "      <td>LMA Manager 2007</td>\n",
       "      <td>X360</td>\n",
       "      <td>2006</td>\n",
       "      <td>Sports</td>\n",
       "      <td>0.00</td>\n",
       "      <td>0.01</td>\n",
       "      <td>0.00</td>\n",
       "      <td>0.00</td>\n",
       "      <td>NaN</td>\n",
       "      <td>NaN</td>\n",
       "      <td>unknown</td>\n",
       "      <td>0.01</td>\n",
       "    </tr>\n",
       "    <tr>\n",
       "      <th>16712</th>\n",
       "      <td>Haitaka no Psychedelica</td>\n",
       "      <td>PSV</td>\n",
       "      <td>2016</td>\n",
       "      <td>Adventure</td>\n",
       "      <td>0.00</td>\n",
       "      <td>0.00</td>\n",
       "      <td>0.01</td>\n",
       "      <td>0.00</td>\n",
       "      <td>NaN</td>\n",
       "      <td>NaN</td>\n",
       "      <td>unknown</td>\n",
       "      <td>0.01</td>\n",
       "    </tr>\n",
       "    <tr>\n",
       "      <th>16713</th>\n",
       "      <td>Spirits &amp; Spells</td>\n",
       "      <td>GBA</td>\n",
       "      <td>2003</td>\n",
       "      <td>Platform</td>\n",
       "      <td>0.01</td>\n",
       "      <td>0.00</td>\n",
       "      <td>0.00</td>\n",
       "      <td>0.00</td>\n",
       "      <td>NaN</td>\n",
       "      <td>NaN</td>\n",
       "      <td>unknown</td>\n",
       "      <td>0.01</td>\n",
       "    </tr>\n",
       "    <tr>\n",
       "      <th>16714</th>\n",
       "      <td>Winning Post 8 2016</td>\n",
       "      <td>PSV</td>\n",
       "      <td>2016</td>\n",
       "      <td>Simulation</td>\n",
       "      <td>0.00</td>\n",
       "      <td>0.00</td>\n",
       "      <td>0.01</td>\n",
       "      <td>0.00</td>\n",
       "      <td>NaN</td>\n",
       "      <td>NaN</td>\n",
       "      <td>unknown</td>\n",
       "      <td>0.01</td>\n",
       "    </tr>\n",
       "  </tbody>\n",
       "</table>\n",
       "<p>16444 rows × 12 columns</p>\n",
       "</div>"
      ],
      "text/plain": [
       "                                name platform  year_of_release         genre  \\\n",
       "0                         Wii Sports      Wii             2006        Sports   \n",
       "1                  Super Mario Bros.      NES             1985      Platform   \n",
       "2                     Mario Kart Wii      Wii             2008        Racing   \n",
       "3                  Wii Sports Resort      Wii             2009        Sports   \n",
       "4           Pokemon Red/Pokemon Blue       GB             1996  Role-Playing   \n",
       "...                              ...      ...              ...           ...   \n",
       "16710  Samurai Warriors: Sanada Maru      PS3             2016        Action   \n",
       "16711               LMA Manager 2007     X360             2006        Sports   \n",
       "16712        Haitaka no Psychedelica      PSV             2016     Adventure   \n",
       "16713               Spirits & Spells      GBA             2003      Platform   \n",
       "16714            Winning Post 8 2016      PSV             2016    Simulation   \n",
       "\n",
       "       north_america_sales  europe_sales  japan_sales  other_sales  \\\n",
       "0                    41.36         28.96         3.77         8.45   \n",
       "1                    29.08          3.58         6.81         0.77   \n",
       "2                    15.68         12.76         3.79         3.29   \n",
       "3                    15.61         10.93         3.28         2.95   \n",
       "4                    11.27          8.89        10.22         1.00   \n",
       "...                    ...           ...          ...          ...   \n",
       "16710                 0.00          0.00         0.01         0.00   \n",
       "16711                 0.00          0.01         0.00         0.00   \n",
       "16712                 0.00          0.00         0.01         0.00   \n",
       "16713                 0.01          0.00         0.00         0.00   \n",
       "16714                 0.00          0.00         0.01         0.00   \n",
       "\n",
       "       critic_score  user_score   rating  total_sales  \n",
       "0              76.0         8.0        E        82.54  \n",
       "1               NaN         NaN  unknown        40.24  \n",
       "2              82.0         8.3        E        35.52  \n",
       "3              80.0         8.0        E        32.77  \n",
       "4               NaN         NaN  unknown        31.38  \n",
       "...             ...         ...      ...          ...  \n",
       "16710           NaN         NaN  unknown         0.01  \n",
       "16711           NaN         NaN  unknown         0.01  \n",
       "16712           NaN         NaN  unknown         0.01  \n",
       "16713           NaN         NaN  unknown         0.01  \n",
       "16714           NaN         NaN  unknown         0.01  \n",
       "\n",
       "[16444 rows x 12 columns]"
      ]
     },
     "metadata": {},
     "output_type": "display_data"
    }
   ],
   "source": [
    "game_data['total_sales'] = game_data['north_america_sales'] + game_data['japan_sales'] + game_data['europe_sales'] + game_data['other_sales']\n",
    "display(game_data)"
   ]
  },
  {
   "cell_type": "markdown",
   "metadata": {},
   "source": [
    "## Исследовательский анализ данных."
   ]
  },
  {
   "cell_type": "markdown",
   "metadata": {},
   "source": [
    "**Проверим, сколько игр выпускалось в разные годы и определим, важны ли нам данные за все периоды.**"
   ]
  },
  {
   "cell_type": "code",
   "execution_count": 32,
   "metadata": {},
   "outputs": [
    {
     "data": {
      "text/html": [
       "<div>\n",
       "<style scoped>\n",
       "    .dataframe tbody tr th:only-of-type {\n",
       "        vertical-align: middle;\n",
       "    }\n",
       "\n",
       "    .dataframe tbody tr th {\n",
       "        vertical-align: top;\n",
       "    }\n",
       "\n",
       "    .dataframe thead th {\n",
       "        text-align: right;\n",
       "    }\n",
       "</style>\n",
       "<table border=\"1\" class=\"dataframe\">\n",
       "  <thead>\n",
       "    <tr style=\"text-align: right;\">\n",
       "      <th></th>\n",
       "      <th>name</th>\n",
       "    </tr>\n",
       "    <tr>\n",
       "      <th>year_of_release</th>\n",
       "      <th></th>\n",
       "    </tr>\n",
       "  </thead>\n",
       "  <tbody>\n",
       "    <tr>\n",
       "      <th>1980</th>\n",
       "      <td>9</td>\n",
       "    </tr>\n",
       "    <tr>\n",
       "      <th>1981</th>\n",
       "      <td>46</td>\n",
       "    </tr>\n",
       "    <tr>\n",
       "      <th>1982</th>\n",
       "      <td>36</td>\n",
       "    </tr>\n",
       "    <tr>\n",
       "      <th>1983</th>\n",
       "      <td>17</td>\n",
       "    </tr>\n",
       "    <tr>\n",
       "      <th>1984</th>\n",
       "      <td>14</td>\n",
       "    </tr>\n",
       "    <tr>\n",
       "      <th>1985</th>\n",
       "      <td>14</td>\n",
       "    </tr>\n",
       "    <tr>\n",
       "      <th>1986</th>\n",
       "      <td>21</td>\n",
       "    </tr>\n",
       "    <tr>\n",
       "      <th>1987</th>\n",
       "      <td>16</td>\n",
       "    </tr>\n",
       "    <tr>\n",
       "      <th>1988</th>\n",
       "      <td>15</td>\n",
       "    </tr>\n",
       "    <tr>\n",
       "      <th>1989</th>\n",
       "      <td>17</td>\n",
       "    </tr>\n",
       "    <tr>\n",
       "      <th>1990</th>\n",
       "      <td>16</td>\n",
       "    </tr>\n",
       "    <tr>\n",
       "      <th>1991</th>\n",
       "      <td>41</td>\n",
       "    </tr>\n",
       "    <tr>\n",
       "      <th>1992</th>\n",
       "      <td>43</td>\n",
       "    </tr>\n",
       "    <tr>\n",
       "      <th>1993</th>\n",
       "      <td>60</td>\n",
       "    </tr>\n",
       "    <tr>\n",
       "      <th>1994</th>\n",
       "      <td>121</td>\n",
       "    </tr>\n",
       "    <tr>\n",
       "      <th>1995</th>\n",
       "      <td>219</td>\n",
       "    </tr>\n",
       "    <tr>\n",
       "      <th>1996</th>\n",
       "      <td>263</td>\n",
       "    </tr>\n",
       "    <tr>\n",
       "      <th>1997</th>\n",
       "      <td>289</td>\n",
       "    </tr>\n",
       "    <tr>\n",
       "      <th>1998</th>\n",
       "      <td>379</td>\n",
       "    </tr>\n",
       "    <tr>\n",
       "      <th>1999</th>\n",
       "      <td>338</td>\n",
       "    </tr>\n",
       "    <tr>\n",
       "      <th>2000</th>\n",
       "      <td>350</td>\n",
       "    </tr>\n",
       "    <tr>\n",
       "      <th>2001</th>\n",
       "      <td>482</td>\n",
       "    </tr>\n",
       "    <tr>\n",
       "      <th>2002</th>\n",
       "      <td>829</td>\n",
       "    </tr>\n",
       "    <tr>\n",
       "      <th>2003</th>\n",
       "      <td>775</td>\n",
       "    </tr>\n",
       "    <tr>\n",
       "      <th>2004</th>\n",
       "      <td>762</td>\n",
       "    </tr>\n",
       "    <tr>\n",
       "      <th>2005</th>\n",
       "      <td>939</td>\n",
       "    </tr>\n",
       "    <tr>\n",
       "      <th>2006</th>\n",
       "      <td>1006</td>\n",
       "    </tr>\n",
       "    <tr>\n",
       "      <th>2007</th>\n",
       "      <td>1197</td>\n",
       "    </tr>\n",
       "    <tr>\n",
       "      <th>2008</th>\n",
       "      <td>1427</td>\n",
       "    </tr>\n",
       "    <tr>\n",
       "      <th>2009</th>\n",
       "      <td>1426</td>\n",
       "    </tr>\n",
       "    <tr>\n",
       "      <th>2010</th>\n",
       "      <td>1255</td>\n",
       "    </tr>\n",
       "    <tr>\n",
       "      <th>2011</th>\n",
       "      <td>1136</td>\n",
       "    </tr>\n",
       "    <tr>\n",
       "      <th>2012</th>\n",
       "      <td>653</td>\n",
       "    </tr>\n",
       "    <tr>\n",
       "      <th>2013</th>\n",
       "      <td>544</td>\n",
       "    </tr>\n",
       "    <tr>\n",
       "      <th>2014</th>\n",
       "      <td>581</td>\n",
       "    </tr>\n",
       "    <tr>\n",
       "      <th>2015</th>\n",
       "      <td>606</td>\n",
       "    </tr>\n",
       "    <tr>\n",
       "      <th>2016</th>\n",
       "      <td>502</td>\n",
       "    </tr>\n",
       "  </tbody>\n",
       "</table>\n",
       "</div>"
      ],
      "text/plain": [
       "                 name\n",
       "year_of_release      \n",
       "1980                9\n",
       "1981               46\n",
       "1982               36\n",
       "1983               17\n",
       "1984               14\n",
       "1985               14\n",
       "1986               21\n",
       "1987               16\n",
       "1988               15\n",
       "1989               17\n",
       "1990               16\n",
       "1991               41\n",
       "1992               43\n",
       "1993               60\n",
       "1994              121\n",
       "1995              219\n",
       "1996              263\n",
       "1997              289\n",
       "1998              379\n",
       "1999              338\n",
       "2000              350\n",
       "2001              482\n",
       "2002              829\n",
       "2003              775\n",
       "2004              762\n",
       "2005              939\n",
       "2006             1006\n",
       "2007             1197\n",
       "2008             1427\n",
       "2009             1426\n",
       "2010             1255\n",
       "2011             1136\n",
       "2012              653\n",
       "2013              544\n",
       "2014              581\n",
       "2015              606\n",
       "2016              502"
      ]
     },
     "execution_count": 32,
     "metadata": {},
     "output_type": "execute_result"
    }
   ],
   "source": [
    "#будем использовать сводные таблицы\n",
    "\n",
    "game_data.pivot_table(index='year_of_release', values='name', aggfunc='count')"
   ]
  },
  {
   "cell_type": "markdown",
   "metadata": {},
   "source": [
    "**Первые выводы по данным:**\n",
    "\n",
    "- с 1994 года началася уверенный рост в числе выпускаемых игр\n",
    "- самые высокие показатели выпуска игр в период с 2007 до 2009"
   ]
  },
  {
   "cell_type": "markdown",
   "metadata": {},
   "source": [
    "**Посмотрим, как менялись продажи по платформам. \n",
    "Выберем платформы с наибольшими суммарными продажами и построим распределение по годам. \n",
    "Определим, за какой характерный срок появляются новые и исчезают старые платформы.**"
   ]
  },
  {
   "cell_type": "code",
   "execution_count": 33,
   "metadata": {},
   "outputs": [
    {
     "data": {
      "text/html": [
       "<div>\n",
       "<style scoped>\n",
       "    .dataframe tbody tr th:only-of-type {\n",
       "        vertical-align: middle;\n",
       "    }\n",
       "\n",
       "    .dataframe tbody tr th {\n",
       "        vertical-align: top;\n",
       "    }\n",
       "\n",
       "    .dataframe thead th {\n",
       "        text-align: right;\n",
       "    }\n",
       "</style>\n",
       "<table border=\"1\" class=\"dataframe\">\n",
       "  <thead>\n",
       "    <tr style=\"text-align: right;\">\n",
       "      <th></th>\n",
       "      <th>total_sales</th>\n",
       "    </tr>\n",
       "    <tr>\n",
       "      <th>platform</th>\n",
       "      <th></th>\n",
       "    </tr>\n",
       "  </thead>\n",
       "  <tbody>\n",
       "    <tr>\n",
       "      <th>2600</th>\n",
       "      <td>86.48</td>\n",
       "    </tr>\n",
       "    <tr>\n",
       "      <th>3DO</th>\n",
       "      <td>0.10</td>\n",
       "    </tr>\n",
       "    <tr>\n",
       "      <th>3DS</th>\n",
       "      <td>257.81</td>\n",
       "    </tr>\n",
       "    <tr>\n",
       "      <th>DC</th>\n",
       "      <td>15.95</td>\n",
       "    </tr>\n",
       "    <tr>\n",
       "      <th>DS</th>\n",
       "      <td>802.78</td>\n",
       "    </tr>\n",
       "    <tr>\n",
       "      <th>GB</th>\n",
       "      <td>254.43</td>\n",
       "    </tr>\n",
       "    <tr>\n",
       "      <th>GBA</th>\n",
       "      <td>312.88</td>\n",
       "    </tr>\n",
       "    <tr>\n",
       "      <th>GC</th>\n",
       "      <td>196.73</td>\n",
       "    </tr>\n",
       "    <tr>\n",
       "      <th>GEN</th>\n",
       "      <td>28.35</td>\n",
       "    </tr>\n",
       "    <tr>\n",
       "      <th>GG</th>\n",
       "      <td>0.04</td>\n",
       "    </tr>\n",
       "    <tr>\n",
       "      <th>N64</th>\n",
       "      <td>218.01</td>\n",
       "    </tr>\n",
       "    <tr>\n",
       "      <th>NES</th>\n",
       "      <td>251.05</td>\n",
       "    </tr>\n",
       "    <tr>\n",
       "      <th>NG</th>\n",
       "      <td>1.44</td>\n",
       "    </tr>\n",
       "    <tr>\n",
       "      <th>PC</th>\n",
       "      <td>255.76</td>\n",
       "    </tr>\n",
       "    <tr>\n",
       "      <th>PCFX</th>\n",
       "      <td>0.03</td>\n",
       "    </tr>\n",
       "    <tr>\n",
       "      <th>PS</th>\n",
       "      <td>727.58</td>\n",
       "    </tr>\n",
       "    <tr>\n",
       "      <th>PS2</th>\n",
       "      <td>1233.56</td>\n",
       "    </tr>\n",
       "    <tr>\n",
       "      <th>PS3</th>\n",
       "      <td>931.34</td>\n",
       "    </tr>\n",
       "    <tr>\n",
       "      <th>PS4</th>\n",
       "      <td>314.14</td>\n",
       "    </tr>\n",
       "    <tr>\n",
       "      <th>PSP</th>\n",
       "      <td>289.53</td>\n",
       "    </tr>\n",
       "    <tr>\n",
       "      <th>PSV</th>\n",
       "      <td>53.81</td>\n",
       "    </tr>\n",
       "    <tr>\n",
       "      <th>SAT</th>\n",
       "      <td>33.59</td>\n",
       "    </tr>\n",
       "    <tr>\n",
       "      <th>SCD</th>\n",
       "      <td>1.86</td>\n",
       "    </tr>\n",
       "    <tr>\n",
       "      <th>SNES</th>\n",
       "      <td>200.04</td>\n",
       "    </tr>\n",
       "    <tr>\n",
       "      <th>TG16</th>\n",
       "      <td>0.16</td>\n",
       "    </tr>\n",
       "    <tr>\n",
       "      <th>WS</th>\n",
       "      <td>1.42</td>\n",
       "    </tr>\n",
       "    <tr>\n",
       "      <th>Wii</th>\n",
       "      <td>891.18</td>\n",
       "    </tr>\n",
       "    <tr>\n",
       "      <th>WiiU</th>\n",
       "      <td>82.19</td>\n",
       "    </tr>\n",
       "    <tr>\n",
       "      <th>X360</th>\n",
       "      <td>961.24</td>\n",
       "    </tr>\n",
       "    <tr>\n",
       "      <th>XB</th>\n",
       "      <td>251.57</td>\n",
       "    </tr>\n",
       "    <tr>\n",
       "      <th>XOne</th>\n",
       "      <td>159.32</td>\n",
       "    </tr>\n",
       "  </tbody>\n",
       "</table>\n",
       "</div>"
      ],
      "text/plain": [
       "          total_sales\n",
       "platform             \n",
       "2600            86.48\n",
       "3DO              0.10\n",
       "3DS            257.81\n",
       "DC              15.95\n",
       "DS             802.78\n",
       "GB             254.43\n",
       "GBA            312.88\n",
       "GC             196.73\n",
       "GEN             28.35\n",
       "GG               0.04\n",
       "N64            218.01\n",
       "NES            251.05\n",
       "NG               1.44\n",
       "PC             255.76\n",
       "PCFX             0.03\n",
       "PS             727.58\n",
       "PS2           1233.56\n",
       "PS3            931.34\n",
       "PS4            314.14\n",
       "PSP            289.53\n",
       "PSV             53.81\n",
       "SAT             33.59\n",
       "SCD              1.86\n",
       "SNES           200.04\n",
       "TG16             0.16\n",
       "WS               1.42\n",
       "Wii            891.18\n",
       "WiiU            82.19\n",
       "X360           961.24\n",
       "XB             251.57\n",
       "XOne           159.32"
      ]
     },
     "execution_count": 33,
     "metadata": {},
     "output_type": "execute_result"
    }
   ],
   "source": [
    "game_data.pivot_table(index='platform', values='total_sales', aggfunc='sum')"
   ]
  },
  {
   "cell_type": "markdown",
   "metadata": {},
   "source": [
    "**Платформы с наибольшими суммарными продажами - PS2, X360, PS3, Wii, DS. Построим график и определим актуальный период, который возьмём для дальнейшего исследования.** "
   ]
  },
  {
   "cell_type": "code",
   "execution_count": 34,
   "metadata": {},
   "outputs": [
    {
     "data": {
      "image/png": "[encoded data removed]",
      "text/plain": [
       "<Figure size 1080x504 with 1 Axes>"
      ]
     },
     "metadata": {
      "needs_background": "light"
     },
     "output_type": "display_data"
    }
   ],
   "source": [
    "most_sales = game_data.query('platform == [\"PS2\", \"X360\", \"PS3\", \"Wii\", \"DS\"]')\n",
    "most_sales.pivot_table(index=['platform', 'year_of_release'], values='total_sales', aggfunc='sum').plot(grid=True, figsize=(15, 7));"
   ]
  },
  {
   "cell_type": "markdown",
   "metadata": {},
   "source": [
    "**Возьмём данные за период с 2013 по 2015 гг.**\n",
    "\n",
    "**Определим, какие платформы лидируют по продажам, растут или падают? Выберем несколько потенциально прибыльных платформ. Построим график «ящик с усами» по глобальным продажам игр в разбивке по платформам.**"
   ]
  },
  {
   "cell_type": "code",
   "execution_count": 35,
   "metadata": {},
   "outputs": [
    {
     "data": {
      "text/html": [
       "<div>\n",
       "<style scoped>\n",
       "    .dataframe tbody tr th:only-of-type {\n",
       "        vertical-align: middle;\n",
       "    }\n",
       "\n",
       "    .dataframe tbody tr th {\n",
       "        vertical-align: top;\n",
       "    }\n",
       "\n",
       "    .dataframe thead th {\n",
       "        text-align: right;\n",
       "    }\n",
       "</style>\n",
       "<table border=\"1\" class=\"dataframe\">\n",
       "  <thead>\n",
       "    <tr style=\"text-align: right;\">\n",
       "      <th></th>\n",
       "      <th>total_sales</th>\n",
       "    </tr>\n",
       "    <tr>\n",
       "      <th>platform</th>\n",
       "      <th></th>\n",
       "    </tr>\n",
       "  </thead>\n",
       "  <tbody>\n",
       "    <tr>\n",
       "      <th>3DS</th>\n",
       "      <td>128.11</td>\n",
       "    </tr>\n",
       "    <tr>\n",
       "      <th>DS</th>\n",
       "      <td>1.54</td>\n",
       "    </tr>\n",
       "    <tr>\n",
       "      <th>PC</th>\n",
       "      <td>34.18</td>\n",
       "    </tr>\n",
       "    <tr>\n",
       "      <th>PS3</th>\n",
       "      <td>177.83</td>\n",
       "    </tr>\n",
       "    <tr>\n",
       "      <th>PS4</th>\n",
       "      <td>244.89</td>\n",
       "    </tr>\n",
       "    <tr>\n",
       "      <th>PSP</th>\n",
       "      <td>3.50</td>\n",
       "    </tr>\n",
       "    <tr>\n",
       "      <th>PSV</th>\n",
       "      <td>28.74</td>\n",
       "    </tr>\n",
       "    <tr>\n",
       "      <th>Wii</th>\n",
       "      <td>13.48</td>\n",
       "    </tr>\n",
       "    <tr>\n",
       "      <th>WiiU</th>\n",
       "      <td>60.03</td>\n",
       "    </tr>\n",
       "    <tr>\n",
       "      <th>X360</th>\n",
       "      <td>135.28</td>\n",
       "    </tr>\n",
       "    <tr>\n",
       "      <th>XOne</th>\n",
       "      <td>133.17</td>\n",
       "    </tr>\n",
       "  </tbody>\n",
       "</table>\n",
       "</div>"
      ],
      "text/plain": [
       "          total_sales\n",
       "platform             \n",
       "3DS            128.11\n",
       "DS               1.54\n",
       "PC              34.18\n",
       "PS3            177.83\n",
       "PS4            244.89\n",
       "PSP              3.50\n",
       "PSV             28.74\n",
       "Wii             13.48\n",
       "WiiU            60.03\n",
       "X360           135.28\n",
       "XOne           133.17"
      ]
     },
     "execution_count": 35,
     "metadata": {},
     "output_type": "execute_result"
    }
   ],
   "source": [
    "#с помощью среза данных и сводной таблицы проанализируем данные\n",
    "\n",
    "game_data.query('year_of_release >= 2013 and year_of_release <= 2015').pivot_table(index='platform', values='total_sales', aggfunc='sum')"
   ]
  },
  {
   "cell_type": "markdown",
   "metadata": {},
   "source": [
    "**Судя по сводной таблице, потенциально прибыльные платформы - PS4, PS3, X360, XOne и 3DS.**"
   ]
  },
  {
   "cell_type": "code",
   "execution_count": 36,
   "metadata": {},
   "outputs": [
    {
     "data": {
      "image/png": "[encoded data removed]",
      "text/plain": [
       "<Figure size 720x360 with 1 Axes>"
      ]
     },
     "metadata": {
      "needs_background": "light"
     },
     "output_type": "display_data"
    }
   ],
   "source": [
    "most_pop = game_data.query('platform == [\"PS4\", \"X360\", \"PS3\", \"3DS\", \"XOne\"]')\n",
    "most_pop.query('year_of_release >= 2013 and year_of_release <= 2015').pivot_table(index=['year_of_release', 'platform'], values='total_sales', aggfunc='sum').plot(grid=True, figsize=(10, 5));"
   ]
  },
  {
   "cell_type": "code",
   "execution_count": 38,
   "metadata": {},
   "outputs": [
    {
     "data": {
      "image/png": "[encoded data removed]",
      "text/plain": [
       "<Figure size 720x504 with 1 Axes>"
      ]
     },
     "metadata": {
      "needs_background": "light"
     },
     "output_type": "display_data"
    }
   ],
   "source": [
    "#построим \"ящик с усами\"\n",
    "\n",
    "game_data.query('year_of_release >= 2013 and year_of_release <= 2015').boxplot(column='total_sales', by='platform', figsize=(10, 7)).set(ylim=(0,3));"
   ]
  },
  {
   "cell_type": "markdown",
   "metadata": {},
   "source": [
    "**Посмотрим, как влияют на продажи внутри одной популярной платформы отзывы пользователей и критиков. Построим диаграмму рассеяния и посчитаем корреляцию между отзывами и продажами. Для анализа возьмём четыре самые популярные платформы - PS4, X360, PS3 и XOne.**\n",
    "\n",
    "*Будем использовать диаграмму рассеяния для наглядности и корреляцию Пирсона для более точной оценки.*"
   ]
  },
  {
   "cell_type": "code",
   "execution_count": 40,
   "metadata": {},
   "outputs": [
    {
     "data": {
      "image/png": "[encoded data removed]",
      "text/plain": [
       "<Figure size 720x432 with 1 Axes>"
      ]
     },
     "metadata": {
      "needs_background": "light"
     },
     "output_type": "display_data"
    }
   ],
   "source": [
    "score_and_sale = game_data.query('year_of_release >= 2013 and year_of_release <= 2015')\n",
    "score_and_sale = score_and_sale.query('platform == \"PS3\"')\n",
    "fig, ax = plt.subplots(figsize=(10, 6))\n",
    "ax.scatter(x = score_and_sale['critic_score'], y = score_and_sale['total_sales'], color='blue')\n",
    "plt.xlabel(\"critic_score\")\n",
    "plt.ylabel(\"total_sales\")\n",
    "\n",
    "plt.show()"
   ]
  },
  {
   "cell_type": "code",
   "execution_count": 41,
   "metadata": {},
   "outputs": [
    {
     "data": {
      "text/plain": [
       "0.3342853393371919"
      ]
     },
     "execution_count": 41,
     "metadata": {},
     "output_type": "execute_result"
    }
   ],
   "source": [
    "score_and_sale['critic_score'].corr(score_and_sale['total_sales'])"
   ]
  },
  {
   "cell_type": "code",
   "execution_count": 42,
   "metadata": {},
   "outputs": [
    {
     "data": {
      "image/png": "[encoded data removed]",
      "text/plain": [
       "<Figure size 720x432 with 1 Axes>"
      ]
     },
     "metadata": {
      "needs_background": "light"
     },
     "output_type": "display_data"
    }
   ],
   "source": [
    "score_and_sale = game_data.query('year_of_release >= 2013 and year_of_release <= 2015')\n",
    "score_and_sale = score_and_sale.query('platform == \"PS3\"')\n",
    "fig, ax = plt.subplots(figsize=(10, 6))\n",
    "ax.scatter(x = score_and_sale['user_score'], y = score_and_sale['total_sales'], color='blue')\n",
    "plt.xlabel(\"user_score\")\n",
    "plt.ylabel(\"total_sales\")\n",
    "\n",
    "plt.show()"
   ]
  },
  {
   "cell_type": "code",
   "execution_count": 43,
   "metadata": {},
   "outputs": [
    {
     "data": {
      "text/plain": [
       "-0.016332728343513417"
      ]
     },
     "execution_count": 43,
     "metadata": {},
     "output_type": "execute_result"
    }
   ],
   "source": [
    "score_and_sale['user_score'].corr(score_and_sale['total_sales'])"
   ]
  },
  {
   "cell_type": "markdown",
   "metadata": {},
   "source": [
    "**Промежуточный вывод после сравнения: корреляцию между оценками пользователей/критиков и продажами можно назвать слабой.**"
   ]
  },
  {
   "cell_type": "code",
   "execution_count": 44,
   "metadata": {},
   "outputs": [
    {
     "data": {
      "image/png": "[encoded data removed]",
      "text/plain": [
       "<Figure size 720x432 with 1 Axes>"
      ]
     },
     "metadata": {
      "needs_background": "light"
     },
     "output_type": "display_data"
    }
   ],
   "source": [
    "score_and_sale = game_data.query('year_of_release >= 2013 and year_of_release <= 2015')\n",
    "score_and_sale = score_and_sale.query('platform == \"PS4\"')\n",
    "fig, ax = plt.subplots(figsize=(10, 6))\n",
    "ax.scatter(x = score_and_sale['critic_score'], y = score_and_sale['total_sales'], color='orange')\n",
    "plt.xlabel(\"critic_score\")\n",
    "plt.ylabel(\"total_sales\")\n",
    "\n",
    "plt.show()"
   ]
  },
  {
   "cell_type": "code",
   "execution_count": 45,
   "metadata": {},
   "outputs": [
    {
     "data": {
      "text/plain": [
       "0.43184820499820054"
      ]
     },
     "execution_count": 45,
     "metadata": {},
     "output_type": "execute_result"
    }
   ],
   "source": [
    "score_and_sale['critic_score'].corr(score_and_sale['total_sales'])"
   ]
  },
  {
   "cell_type": "code",
   "execution_count": 46,
   "metadata": {},
   "outputs": [
    {
     "data": {
      "image/png": "[encoded data removed]",
      "text/plain": [
       "<Figure size 720x432 with 1 Axes>"
      ]
     },
     "metadata": {
      "needs_background": "light"
     },
     "output_type": "display_data"
    }
   ],
   "source": [
    "score_and_sale = game_data.query('year_of_release >= 2013 and year_of_release <= 2015')\n",
    "score_and_sale = score_and_sale.query('platform == \"PS4\"')\n",
    "fig, ax = plt.subplots(figsize=(10, 6))\n",
    "ax.scatter(x = score_and_sale['user_score'], y = score_and_sale['total_sales'], color='orange')\n",
    "plt.xlabel(\"user_score\")\n",
    "plt.ylabel(\"total_sales\")\n",
    "\n",
    "plt.show()"
   ]
  },
  {
   "cell_type": "code",
   "execution_count": 47,
   "metadata": {},
   "outputs": [
    {
     "data": {
      "text/plain": [
       "0.02423083236062255"
      ]
     },
     "execution_count": 47,
     "metadata": {},
     "output_type": "execute_result"
    }
   ],
   "source": [
    "score_and_sale['user_score'].corr(score_and_sale['total_sales'])"
   ]
  },
  {
   "cell_type": "code",
   "execution_count": 48,
   "metadata": {},
   "outputs": [
    {
     "data": {
      "image/png": "[encoded data removed]",
      "text/plain": [
       "<Figure size 720x432 with 1 Axes>"
      ]
     },
     "metadata": {
      "needs_background": "light"
     },
     "output_type": "display_data"
    }
   ],
   "source": [
    "score_and_sale = game_data.query('year_of_release >= 2013 and year_of_release <= 2015')\n",
    "score_and_sale = score_and_sale.query('platform == \"X360\"')\n",
    "fig, ax = plt.subplots(figsize=(10, 6))\n",
    "ax.scatter(x = score_and_sale['critic_score'], y = score_and_sale['total_sales'], color='red')\n",
    "plt.xlabel(\"critic_score\")\n",
    "plt.ylabel(\"total_sales\")\n",
    "\n",
    "plt.show()"
   ]
  },
  {
   "cell_type": "code",
   "execution_count": 49,
   "metadata": {},
   "outputs": [
    {
     "data": {
      "text/plain": [
       "0.3503445460228664"
      ]
     },
     "execution_count": 49,
     "metadata": {},
     "output_type": "execute_result"
    }
   ],
   "source": [
    "score_and_sale['critic_score'].corr(score_and_sale['total_sales'])"
   ]
  },
  {
   "cell_type": "code",
   "execution_count": 50,
   "metadata": {},
   "outputs": [
    {
     "data": {
      "image/png": "[encoded data removed]",
      "text/plain": [
       "<Figure size 720x432 with 1 Axes>"
      ]
     },
     "metadata": {
      "needs_background": "light"
     },
     "output_type": "display_data"
    }
   ],
   "source": [
    "score_and_sale = game_data.query('year_of_release >= 2013 and year_of_release <= 2015')\n",
    "score_and_sale = score_and_sale.query('platform == \"X360\"')\n",
    "fig, ax = plt.subplots(figsize=(10, 6))\n",
    "ax.scatter(x = score_and_sale['user_score'], y = score_and_sale['total_sales'], color='red')\n",
    "plt.xlabel(\"user_score\")\n",
    "plt.ylabel(\"total_sales\")\n",
    "\n",
    "plt.show()"
   ]
  },
  {
   "cell_type": "code",
   "execution_count": 51,
   "metadata": {},
   "outputs": [
    {
     "data": {
      "text/plain": [
       "-0.034562454100238206"
      ]
     },
     "execution_count": 51,
     "metadata": {},
     "output_type": "execute_result"
    }
   ],
   "source": [
    "score_and_sale['user_score'].corr(score_and_sale['total_sales'])"
   ]
  },
  {
   "cell_type": "code",
   "execution_count": 52,
   "metadata": {},
   "outputs": [
    {
     "data": {
      "image/png": "[encoded data removed]",
      "text/plain": [
       "<Figure size 720x432 with 1 Axes>"
      ]
     },
     "metadata": {
      "needs_background": "light"
     },
     "output_type": "display_data"
    }
   ],
   "source": [
    "score_and_sale = game_data.query('year_of_release >= 2013 and year_of_release <= 2015')\n",
    "score_and_sale = score_and_sale.query('platform == \"XOne\"')\n",
    "fig, ax = plt.subplots(figsize=(10, 6))\n",
    "ax.scatter(x = score_and_sale['critic_score'], y = score_and_sale['total_sales'], color='purple')\n",
    "plt.xlabel(\"critic_score\")\n",
    "plt.ylabel(\"total_sales\")\n",
    "\n",
    "plt.show()"
   ]
  },
  {
   "cell_type": "code",
   "execution_count": 53,
   "metadata": {},
   "outputs": [
    {
     "data": {
      "text/plain": [
       "0.45938456807071054"
      ]
     },
     "execution_count": 53,
     "metadata": {},
     "output_type": "execute_result"
    }
   ],
   "source": [
    "score_and_sale['critic_score'].corr(score_and_sale['total_sales'])"
   ]
  },
  {
   "cell_type": "code",
   "execution_count": 54,
   "metadata": {},
   "outputs": [
    {
     "data": {
      "image/png": "[encoded data removed]",
      "text/plain": [
       "<Figure size 720x432 with 1 Axes>"
      ]
     },
     "metadata": {
      "needs_background": "light"
     },
     "output_type": "display_data"
    }
   ],
   "source": [
    "score_and_sale = game_data.query('year_of_release >= 2013 and year_of_release <= 2015')\n",
    "score_and_sale = score_and_sale.query('platform == \"XOne\"')\n",
    "fig, ax = plt.subplots(figsize=(10, 6))\n",
    "ax.scatter(x = score_and_sale['user_score'], y = score_and_sale['total_sales'], color='purple')\n",
    "plt.xlabel(\"user_score\")\n",
    "plt.ylabel(\"total_sales\")\n",
    "\n",
    "plt.show()"
   ]
  },
  {
   "cell_type": "code",
   "execution_count": 55,
   "metadata": {},
   "outputs": [
    {
     "data": {
      "text/plain": [
       "-0.03926828544552199"
      ]
     },
     "execution_count": 55,
     "metadata": {},
     "output_type": "execute_result"
    }
   ],
   "source": [
    "score_and_sale['user_score'].corr(score_and_sale['total_sales'])"
   ]
  },
  {
   "cell_type": "markdown",
   "metadata": {},
   "source": [
    "**Вывод: анализ самых популярных платформ показал, что корреляция между оценками пользователей/критиков и продажами достаточно слабая и оценки не являются критическим фактором для больших продаж.**"
   ]
  },
  {
   "cell_type": "markdown",
   "metadata": {},
   "source": [
    "**Посмотрим на общее распределение игр по жанрам. Что можно сказать о самых прибыльных жанрах? Выделяются ли жанры с высокими и низкими продажами?**"
   ]
  },
  {
   "cell_type": "code",
   "execution_count": 56,
   "metadata": {},
   "outputs": [
    {
     "data": {
      "text/html": [
       "<div>\n",
       "<style scoped>\n",
       "    .dataframe tbody tr th:only-of-type {\n",
       "        vertical-align: middle;\n",
       "    }\n",
       "\n",
       "    .dataframe tbody tr th {\n",
       "        vertical-align: top;\n",
       "    }\n",
       "\n",
       "    .dataframe thead th {\n",
       "        text-align: right;\n",
       "    }\n",
       "</style>\n",
       "<table border=\"1\" class=\"dataframe\">\n",
       "  <thead>\n",
       "    <tr style=\"text-align: right;\">\n",
       "      <th></th>\n",
       "      <th>total_sales</th>\n",
       "    </tr>\n",
       "    <tr>\n",
       "      <th>genre</th>\n",
       "      <th></th>\n",
       "    </tr>\n",
       "  </thead>\n",
       "  <tbody>\n",
       "    <tr>\n",
       "      <th>Action</th>\n",
       "      <td>291.76</td>\n",
       "    </tr>\n",
       "    <tr>\n",
       "      <th>Adventure</th>\n",
       "      <td>19.82</td>\n",
       "    </tr>\n",
       "    <tr>\n",
       "      <th>Fighting</th>\n",
       "      <td>30.84</td>\n",
       "    </tr>\n",
       "    <tr>\n",
       "      <th>Misc</th>\n",
       "      <td>60.22</td>\n",
       "    </tr>\n",
       "    <tr>\n",
       "      <th>Platform</th>\n",
       "      <td>39.40</td>\n",
       "    </tr>\n",
       "    <tr>\n",
       "      <th>Puzzle</th>\n",
       "      <td>3.16</td>\n",
       "    </tr>\n",
       "    <tr>\n",
       "      <th>Racing</th>\n",
       "      <td>37.10</td>\n",
       "    </tr>\n",
       "    <tr>\n",
       "      <th>Role-Playing</th>\n",
       "      <td>127.71</td>\n",
       "    </tr>\n",
       "    <tr>\n",
       "      <th>Shooter</th>\n",
       "      <td>194.76</td>\n",
       "    </tr>\n",
       "    <tr>\n",
       "      <th>Simulation</th>\n",
       "      <td>19.87</td>\n",
       "    </tr>\n",
       "    <tr>\n",
       "      <th>Sports</th>\n",
       "      <td>127.16</td>\n",
       "    </tr>\n",
       "    <tr>\n",
       "      <th>Strategy</th>\n",
       "      <td>8.95</td>\n",
       "    </tr>\n",
       "  </tbody>\n",
       "</table>\n",
       "</div>"
      ],
      "text/plain": [
       "              total_sales\n",
       "genre                    \n",
       "Action             291.76\n",
       "Adventure           19.82\n",
       "Fighting            30.84\n",
       "Misc                60.22\n",
       "Platform            39.40\n",
       "Puzzle               3.16\n",
       "Racing              37.10\n",
       "Role-Playing       127.71\n",
       "Shooter            194.76\n",
       "Simulation          19.87\n",
       "Sports             127.16\n",
       "Strategy             8.95"
      ]
     },
     "execution_count": 56,
     "metadata": {},
     "output_type": "execute_result"
    }
   ],
   "source": [
    "game_data.query('year_of_release >= 2013 and year_of_release <= 2015').pivot_table(index='genre', values='total_sales', aggfunc='sum')"
   ]
  },
  {
   "cell_type": "code",
   "execution_count": 57,
   "metadata": {},
   "outputs": [
    {
     "data": {
      "image/png": "[encoded data removed]",
      "text/plain": [
       "<Figure size 864x504 with 1 Axes>"
      ]
     },
     "metadata": {
      "needs_background": "light"
     },
     "output_type": "display_data"
    }
   ],
   "source": [
    "game_data.query('year_of_release >= 2013 and year_of_release <= 2015').boxplot(column='total_sales', by='genre', figsize=(12, 7)).set(ylim=(0,3));"
   ]
  },
  {
   "cell_type": "markdown",
   "metadata": {},
   "source": [
    "**Самые прибыльные жанры - Action, shooter, role-playing и sports. Самые низкие продажи у 'adventure', 'puzzle', 'strategy' и 'simulation'.**"
   ]
  },
  {
   "cell_type": "markdown",
   "metadata": {},
   "source": [
    "## Составим портрет пользователя каждого региона"
   ]
  },
  {
   "cell_type": "markdown",
   "metadata": {},
   "source": [
    "**Определим для пользователя каждого региона (NA, EU, JP):**\n",
    "\n",
    "- самые популярные платформы (топ-5). Опишите различия в долях продаж.\n",
    "- самые популярные жанры (топ-5). Поясните разницу.\n",
    "- влияет ли рейтинг ESRB на продажи в отдельном регионе?"
   ]
  },
  {
   "cell_type": "code",
   "execution_count": 58,
   "metadata": {},
   "outputs": [
    {
     "data": {
      "text/html": [
       "<div>\n",
       "<style scoped>\n",
       "    .dataframe tbody tr th:only-of-type {\n",
       "        vertical-align: middle;\n",
       "    }\n",
       "\n",
       "    .dataframe tbody tr th {\n",
       "        vertical-align: top;\n",
       "    }\n",
       "\n",
       "    .dataframe thead th {\n",
       "        text-align: right;\n",
       "    }\n",
       "</style>\n",
       "<table border=\"1\" class=\"dataframe\">\n",
       "  <thead>\n",
       "    <tr style=\"text-align: right;\">\n",
       "      <th></th>\n",
       "      <th>north_america_sales</th>\n",
       "    </tr>\n",
       "    <tr>\n",
       "      <th>platform</th>\n",
       "      <th></th>\n",
       "    </tr>\n",
       "  </thead>\n",
       "  <tbody>\n",
       "    <tr>\n",
       "      <th>3DS</th>\n",
       "      <td>34.06</td>\n",
       "    </tr>\n",
       "    <tr>\n",
       "      <th>DS</th>\n",
       "      <td>0.57</td>\n",
       "    </tr>\n",
       "    <tr>\n",
       "      <th>PC</th>\n",
       "      <td>9.75</td>\n",
       "    </tr>\n",
       "    <tr>\n",
       "      <th>PS3</th>\n",
       "      <td>62.83</td>\n",
       "    </tr>\n",
       "    <tr>\n",
       "      <th>PS4</th>\n",
       "      <td>87.25</td>\n",
       "    </tr>\n",
       "    <tr>\n",
       "      <th>PSP</th>\n",
       "      <td>0.00</td>\n",
       "    </tr>\n",
       "    <tr>\n",
       "      <th>PSV</th>\n",
       "      <td>4.89</td>\n",
       "    </tr>\n",
       "    <tr>\n",
       "      <th>Wii</th>\n",
       "      <td>6.50</td>\n",
       "    </tr>\n",
       "    <tr>\n",
       "      <th>WiiU</th>\n",
       "      <td>27.11</td>\n",
       "    </tr>\n",
       "    <tr>\n",
       "      <th>X360</th>\n",
       "      <td>80.97</td>\n",
       "    </tr>\n",
       "    <tr>\n",
       "      <th>XOne</th>\n",
       "      <td>78.85</td>\n",
       "    </tr>\n",
       "  </tbody>\n",
       "</table>\n",
       "</div>"
      ],
      "text/plain": [
       "          north_america_sales\n",
       "platform                     \n",
       "3DS                     34.06\n",
       "DS                       0.57\n",
       "PC                       9.75\n",
       "PS3                     62.83\n",
       "PS4                     87.25\n",
       "PSP                      0.00\n",
       "PSV                      4.89\n",
       "Wii                      6.50\n",
       "WiiU                    27.11\n",
       "X360                    80.97\n",
       "XOne                    78.85"
      ]
     },
     "execution_count": 58,
     "metadata": {},
     "output_type": "execute_result"
    }
   ],
   "source": [
    "game_data.query('year_of_release >= 2013 and year_of_release <= 2015').pivot_table(index='platform', values='north_america_sales', aggfunc='sum')"
   ]
  },
  {
   "cell_type": "code",
   "execution_count": 59,
   "metadata": {},
   "outputs": [
    {
     "data": {
      "text/html": [
       "<div>\n",
       "<style scoped>\n",
       "    .dataframe tbody tr th:only-of-type {\n",
       "        vertical-align: middle;\n",
       "    }\n",
       "\n",
       "    .dataframe tbody tr th {\n",
       "        vertical-align: top;\n",
       "    }\n",
       "\n",
       "    .dataframe thead th {\n",
       "        text-align: right;\n",
       "    }\n",
       "</style>\n",
       "<table border=\"1\" class=\"dataframe\">\n",
       "  <thead>\n",
       "    <tr style=\"text-align: right;\">\n",
       "      <th></th>\n",
       "      <th>europe_sales</th>\n",
       "    </tr>\n",
       "    <tr>\n",
       "      <th>platform</th>\n",
       "      <th></th>\n",
       "    </tr>\n",
       "  </thead>\n",
       "  <tbody>\n",
       "    <tr>\n",
       "      <th>3DS</th>\n",
       "      <td>28.63</td>\n",
       "    </tr>\n",
       "    <tr>\n",
       "      <th>DS</th>\n",
       "      <td>0.85</td>\n",
       "    </tr>\n",
       "    <tr>\n",
       "      <th>PC</th>\n",
       "      <td>21.83</td>\n",
       "    </tr>\n",
       "    <tr>\n",
       "      <th>PS3</th>\n",
       "      <td>66.55</td>\n",
       "    </tr>\n",
       "    <tr>\n",
       "      <th>PS4</th>\n",
       "      <td>109.31</td>\n",
       "    </tr>\n",
       "    <tr>\n",
       "      <th>PSP</th>\n",
       "      <td>0.17</td>\n",
       "    </tr>\n",
       "    <tr>\n",
       "      <th>PSV</th>\n",
       "      <td>5.71</td>\n",
       "    </tr>\n",
       "    <tr>\n",
       "      <th>Wii</th>\n",
       "      <td>5.82</td>\n",
       "    </tr>\n",
       "    <tr>\n",
       "      <th>WiiU</th>\n",
       "      <td>18.37</td>\n",
       "    </tr>\n",
       "    <tr>\n",
       "      <th>X360</th>\n",
       "      <td>41.81</td>\n",
       "    </tr>\n",
       "    <tr>\n",
       "      <th>XOne</th>\n",
       "      <td>41.96</td>\n",
       "    </tr>\n",
       "  </tbody>\n",
       "</table>\n",
       "</div>"
      ],
      "text/plain": [
       "          europe_sales\n",
       "platform              \n",
       "3DS              28.63\n",
       "DS                0.85\n",
       "PC               21.83\n",
       "PS3              66.55\n",
       "PS4             109.31\n",
       "PSP               0.17\n",
       "PSV               5.71\n",
       "Wii               5.82\n",
       "WiiU             18.37\n",
       "X360             41.81\n",
       "XOne             41.96"
      ]
     },
     "execution_count": 59,
     "metadata": {},
     "output_type": "execute_result"
    }
   ],
   "source": [
    "game_data.query('year_of_release >= 2013 and year_of_release <= 2015').pivot_table(index='platform', values='europe_sales', aggfunc='sum')"
   ]
  },
  {
   "cell_type": "code",
   "execution_count": 60,
   "metadata": {},
   "outputs": [
    {
     "data": {
      "text/html": [
       "<div>\n",
       "<style scoped>\n",
       "    .dataframe tbody tr th:only-of-type {\n",
       "        vertical-align: middle;\n",
       "    }\n",
       "\n",
       "    .dataframe tbody tr th {\n",
       "        vertical-align: top;\n",
       "    }\n",
       "\n",
       "    .dataframe thead th {\n",
       "        text-align: right;\n",
       "    }\n",
       "</style>\n",
       "<table border=\"1\" class=\"dataframe\">\n",
       "  <thead>\n",
       "    <tr style=\"text-align: right;\">\n",
       "      <th></th>\n",
       "      <th>japan_sales</th>\n",
       "    </tr>\n",
       "    <tr>\n",
       "      <th>platform</th>\n",
       "      <th></th>\n",
       "    </tr>\n",
       "  </thead>\n",
       "  <tbody>\n",
       "    <tr>\n",
       "      <th>3DS</th>\n",
       "      <td>59.78</td>\n",
       "    </tr>\n",
       "    <tr>\n",
       "      <th>DS</th>\n",
       "      <td>0.00</td>\n",
       "    </tr>\n",
       "    <tr>\n",
       "      <th>PC</th>\n",
       "      <td>0.00</td>\n",
       "    </tr>\n",
       "    <tr>\n",
       "      <th>PS3</th>\n",
       "      <td>22.05</td>\n",
       "    </tr>\n",
       "    <tr>\n",
       "      <th>PS4</th>\n",
       "      <td>10.22</td>\n",
       "    </tr>\n",
       "    <tr>\n",
       "      <th>PSP</th>\n",
       "      <td>3.29</td>\n",
       "    </tr>\n",
       "    <tr>\n",
       "      <th>PSV</th>\n",
       "      <td>15.03</td>\n",
       "    </tr>\n",
       "    <tr>\n",
       "      <th>Wii</th>\n",
       "      <td>0.05</td>\n",
       "    </tr>\n",
       "    <tr>\n",
       "      <th>WiiU</th>\n",
       "      <td>10.21</td>\n",
       "    </tr>\n",
       "    <tr>\n",
       "      <th>X360</th>\n",
       "      <td>0.51</td>\n",
       "    </tr>\n",
       "    <tr>\n",
       "      <th>XOne</th>\n",
       "      <td>0.33</td>\n",
       "    </tr>\n",
       "  </tbody>\n",
       "</table>\n",
       "</div>"
      ],
      "text/plain": [
       "          japan_sales\n",
       "platform             \n",
       "3DS             59.78\n",
       "DS               0.00\n",
       "PC               0.00\n",
       "PS3             22.05\n",
       "PS4             10.22\n",
       "PSP              3.29\n",
       "PSV             15.03\n",
       "Wii              0.05\n",
       "WiiU            10.21\n",
       "X360             0.51\n",
       "XOne             0.33"
      ]
     },
     "execution_count": 60,
     "metadata": {},
     "output_type": "execute_result"
    }
   ],
   "source": [
    "game_data.query('year_of_release >= 2013 and year_of_release <= 2015').pivot_table(index='platform', values='japan_sales', aggfunc='sum')"
   ]
  },
  {
   "cell_type": "code",
   "execution_count": 61,
   "metadata": {},
   "outputs": [],
   "source": [
    "import warnings\n",
    "warnings.filterwarnings(\"ignore\")\n",
    "\n",
    "actual_period = game_data.query('year_of_release >= 2013 and year_of_release <= 2015')\n",
    "na_sales_top = actual_period.pivot_table(index='platform', columns=None, values='north_america_sales', aggfunc='sum').sort_values('north_america_sales', ascending=False).query('north_america_sales > 34')\n",
    "actual_period['top_platform_north_america'] = (actual_period['platform'].where(actual_period['platform'].isin(na_sales_top.index), 'Другие'))\n",
    "na_sales = actual_period.pivot_table(index=['top_platform_north_america'], columns=None, values='north_america_sales', aggfunc='sum').sort_values('north_america_sales', ascending=False)"
   ]
  },
  {
   "cell_type": "code",
   "execution_count": 62,
   "metadata": {},
   "outputs": [],
   "source": [
    "import warnings\n",
    "warnings.filterwarnings(\"ignore\")\n",
    "\n",
    "actual_period = game_data.query('year_of_release >= 2013 and year_of_release <= 2015')\n",
    "eu_sales_top = actual_period.pivot_table(index='platform', columns=None, values='europe_sales', aggfunc='sum').sort_values('europe_sales', ascending=False).query('europe_sales > 28')\n",
    "actual_period['top_platform_europe'] = (actual_period['platform'].where(actual_period['platform'].isin(eu_sales_top.index), 'Другие'))\n",
    "eu_sales = actual_period.pivot_table(index=['top_platform_europe'], columns=None, values='europe_sales', aggfunc='sum').sort_values('europe_sales', ascending=False)"
   ]
  },
  {
   "cell_type": "code",
   "execution_count": 63,
   "metadata": {},
   "outputs": [],
   "source": [
    "import warnings\n",
    "warnings.filterwarnings(\"ignore\")\n",
    "\n",
    "actual_period = game_data.query('year_of_release >= 2013 and year_of_release <= 2015')\n",
    "jp_sales_top = actual_period.pivot_table(index='platform', columns=None, values='japan_sales', aggfunc='sum').sort_values('japan_sales', ascending=False).query('japan_sales > 10')\n",
    "actual_period['top_platform_japan'] = (actual_period['platform'].where(actual_period['platform'].isin(jp_sales_top.index), 'Другие'))\n",
    "jp_sales = actual_period.pivot_table(index='top_platform_japan', columns=None, values='japan_sales', aggfunc='sum').sort_values('japan_sales', ascending=False)"
   ]
  },
  {
   "cell_type": "code",
   "execution_count": 64,
   "metadata": {},
   "outputs": [
    {
     "data": {
      "image/png": "[encoded data removed]",
      "text/plain": [
       "<Figure size 1440x360 with 3 Axes>"
      ]
     },
     "metadata": {},
     "output_type": "display_data"
    }
   ],
   "source": [
    "import warnings\n",
    "warnings.filterwarnings(\"ignore\")\n",
    "\n",
    "fig, (ax1, ax2, ax3) = plt.subplots(1, 3, subplot_kw={'aspect':'equal'}, figsize=(20,5))\n",
    "fig.suptitle('Рейтинг платформ',\n",
    "             y = 1.2,\n",
    "             fontsize = 30)\n",
    "\n",
    "ax1.pie(na_sales['north_america_sales'])\n",
    "ax1.set_title('Северная Америка', fontsize = 20)\n",
    "labels = ['PS4', 'X360', 'XOne', 'PS3', '3DS', 'Другие']\n",
    "ax1.legend(labels, loc=\"upper left\")\n",
    "\n",
    "ax2.pie(eu_sales['europe_sales'])\n",
    "ax2.set_title('Европа', fontsize = 20)\n",
    "labels = ['PS4', 'PS3', 'XOne', 'X360', '3DS', 'Другие']\n",
    "ax2.legend(labels, loc=\"upper left\")\n",
    "\n",
    "ax3.pie(jp_sales['japan_sales'])\n",
    "ax3.set_title('Япония', fontsize = 20)\n",
    "labels = ['3DS', 'PS3', 'PSV', 'PS4', 'WiiU', 'Другие']\n",
    "ax3.legend(labels, loc=\"upper left\")\n",
    "\n",
    "plt.show()"
   ]
  },
  {
   "cell_type": "code",
   "execution_count": 67,
   "metadata": {},
   "outputs": [
    {
     "data": {
      "text/html": [
       "<div>\n",
       "<style scoped>\n",
       "    .dataframe tbody tr th:only-of-type {\n",
       "        vertical-align: middle;\n",
       "    }\n",
       "\n",
       "    .dataframe tbody tr th {\n",
       "        vertical-align: top;\n",
       "    }\n",
       "\n",
       "    .dataframe thead th {\n",
       "        text-align: right;\n",
       "    }\n",
       "</style>\n",
       "<table border=\"1\" class=\"dataframe\">\n",
       "  <thead>\n",
       "    <tr style=\"text-align: right;\">\n",
       "      <th></th>\n",
       "      <th>north_america_sales</th>\n",
       "    </tr>\n",
       "    <tr>\n",
       "      <th>genre</th>\n",
       "      <th></th>\n",
       "    </tr>\n",
       "  </thead>\n",
       "  <tbody>\n",
       "    <tr>\n",
       "      <th>Action</th>\n",
       "      <td>116.76</td>\n",
       "    </tr>\n",
       "    <tr>\n",
       "      <th>Adventure</th>\n",
       "      <td>6.19</td>\n",
       "    </tr>\n",
       "    <tr>\n",
       "      <th>Fighting</th>\n",
       "      <td>13.71</td>\n",
       "    </tr>\n",
       "    <tr>\n",
       "      <th>Misc</th>\n",
       "      <td>26.73</td>\n",
       "    </tr>\n",
       "    <tr>\n",
       "      <th>Platform</th>\n",
       "      <td>16.85</td>\n",
       "    </tr>\n",
       "    <tr>\n",
       "      <th>Puzzle</th>\n",
       "      <td>0.83</td>\n",
       "    </tr>\n",
       "    <tr>\n",
       "      <th>Racing</th>\n",
       "      <td>12.23</td>\n",
       "    </tr>\n",
       "    <tr>\n",
       "      <th>Role-Playing</th>\n",
       "      <td>40.51</td>\n",
       "    </tr>\n",
       "    <tr>\n",
       "      <th>Shooter</th>\n",
       "      <td>93.50</td>\n",
       "    </tr>\n",
       "    <tr>\n",
       "      <th>Simulation</th>\n",
       "      <td>4.70</td>\n",
       "    </tr>\n",
       "    <tr>\n",
       "      <th>Sports</th>\n",
       "      <td>57.73</td>\n",
       "    </tr>\n",
       "    <tr>\n",
       "      <th>Strategy</th>\n",
       "      <td>3.04</td>\n",
       "    </tr>\n",
       "  </tbody>\n",
       "</table>\n",
       "</div>"
      ],
      "text/plain": [
       "              north_america_sales\n",
       "genre                            \n",
       "Action                     116.76\n",
       "Adventure                    6.19\n",
       "Fighting                    13.71\n",
       "Misc                        26.73\n",
       "Platform                    16.85\n",
       "Puzzle                       0.83\n",
       "Racing                      12.23\n",
       "Role-Playing                40.51\n",
       "Shooter                     93.50\n",
       "Simulation                   4.70\n",
       "Sports                      57.73\n",
       "Strategy                     3.04"
      ]
     },
     "execution_count": 67,
     "metadata": {},
     "output_type": "execute_result"
    }
   ],
   "source": [
    "game_data.query('year_of_release >= 2013 and year_of_release <= 2015').pivot_table(index='genre', values='north_america_sales', aggfunc='sum')"
   ]
  },
  {
   "cell_type": "code",
   "execution_count": 68,
   "metadata": {},
   "outputs": [
    {
     "data": {
      "text/html": [
       "<div>\n",
       "<style scoped>\n",
       "    .dataframe tbody tr th:only-of-type {\n",
       "        vertical-align: middle;\n",
       "    }\n",
       "\n",
       "    .dataframe tbody tr th {\n",
       "        vertical-align: top;\n",
       "    }\n",
       "\n",
       "    .dataframe thead th {\n",
       "        text-align: right;\n",
       "    }\n",
       "</style>\n",
       "<table border=\"1\" class=\"dataframe\">\n",
       "  <thead>\n",
       "    <tr style=\"text-align: right;\">\n",
       "      <th></th>\n",
       "      <th>europe_sales</th>\n",
       "    </tr>\n",
       "    <tr>\n",
       "      <th>genre</th>\n",
       "      <th></th>\n",
       "    </tr>\n",
       "  </thead>\n",
       "  <tbody>\n",
       "    <tr>\n",
       "      <th>Action</th>\n",
       "      <td>107.45</td>\n",
       "    </tr>\n",
       "    <tr>\n",
       "      <th>Adventure</th>\n",
       "      <td>6.93</td>\n",
       "    </tr>\n",
       "    <tr>\n",
       "      <th>Fighting</th>\n",
       "      <td>7.21</td>\n",
       "    </tr>\n",
       "    <tr>\n",
       "      <th>Misc</th>\n",
       "      <td>19.38</td>\n",
       "    </tr>\n",
       "    <tr>\n",
       "      <th>Platform</th>\n",
       "      <td>14.19</td>\n",
       "    </tr>\n",
       "    <tr>\n",
       "      <th>Puzzle</th>\n",
       "      <td>0.99</td>\n",
       "    </tr>\n",
       "    <tr>\n",
       "      <th>Racing</th>\n",
       "      <td>18.42</td>\n",
       "    </tr>\n",
       "    <tr>\n",
       "      <th>Role-Playing</th>\n",
       "      <td>32.69</td>\n",
       "    </tr>\n",
       "    <tr>\n",
       "      <th>Shooter</th>\n",
       "      <td>71.96</td>\n",
       "    </tr>\n",
       "    <tr>\n",
       "      <th>Simulation</th>\n",
       "      <td>9.65</td>\n",
       "    </tr>\n",
       "    <tr>\n",
       "      <th>Sports</th>\n",
       "      <td>48.51</td>\n",
       "    </tr>\n",
       "    <tr>\n",
       "      <th>Strategy</th>\n",
       "      <td>3.63</td>\n",
       "    </tr>\n",
       "  </tbody>\n",
       "</table>\n",
       "</div>"
      ],
      "text/plain": [
       "              europe_sales\n",
       "genre                     \n",
       "Action              107.45\n",
       "Adventure             6.93\n",
       "Fighting              7.21\n",
       "Misc                 19.38\n",
       "Platform             14.19\n",
       "Puzzle                0.99\n",
       "Racing               18.42\n",
       "Role-Playing         32.69\n",
       "Shooter              71.96\n",
       "Simulation            9.65\n",
       "Sports               48.51\n",
       "Strategy              3.63"
      ]
     },
     "execution_count": 68,
     "metadata": {},
     "output_type": "execute_result"
    }
   ],
   "source": [
    "game_data.query('year_of_release >= 2013 and year_of_release <= 2015').pivot_table(index='genre', values='europe_sales', aggfunc='sum')"
   ]
  },
  {
   "cell_type": "code",
   "execution_count": 69,
   "metadata": {},
   "outputs": [
    {
     "data": {
      "text/html": [
       "<div>\n",
       "<style scoped>\n",
       "    .dataframe tbody tr th:only-of-type {\n",
       "        vertical-align: middle;\n",
       "    }\n",
       "\n",
       "    .dataframe tbody tr th {\n",
       "        vertical-align: top;\n",
       "    }\n",
       "\n",
       "    .dataframe thead th {\n",
       "        text-align: right;\n",
       "    }\n",
       "</style>\n",
       "<table border=\"1\" class=\"dataframe\">\n",
       "  <thead>\n",
       "    <tr style=\"text-align: right;\">\n",
       "      <th></th>\n",
       "      <th>japan_sales</th>\n",
       "    </tr>\n",
       "    <tr>\n",
       "      <th>genre</th>\n",
       "      <th></th>\n",
       "    </tr>\n",
       "  </thead>\n",
       "  <tbody>\n",
       "    <tr>\n",
       "      <th>Action</th>\n",
       "      <td>33.42</td>\n",
       "    </tr>\n",
       "    <tr>\n",
       "      <th>Adventure</th>\n",
       "      <td>4.64</td>\n",
       "    </tr>\n",
       "    <tr>\n",
       "      <th>Fighting</th>\n",
       "      <td>6.90</td>\n",
       "    </tr>\n",
       "    <tr>\n",
       "      <th>Misc</th>\n",
       "      <td>8.16</td>\n",
       "    </tr>\n",
       "    <tr>\n",
       "      <th>Platform</th>\n",
       "      <td>4.68</td>\n",
       "    </tr>\n",
       "    <tr>\n",
       "      <th>Puzzle</th>\n",
       "      <td>1.18</td>\n",
       "    </tr>\n",
       "    <tr>\n",
       "      <th>Racing</th>\n",
       "      <td>2.29</td>\n",
       "    </tr>\n",
       "    <tr>\n",
       "      <th>Role-Playing</th>\n",
       "      <td>44.43</td>\n",
       "    </tr>\n",
       "    <tr>\n",
       "      <th>Shooter</th>\n",
       "      <td>5.55</td>\n",
       "    </tr>\n",
       "    <tr>\n",
       "      <th>Simulation</th>\n",
       "      <td>4.19</td>\n",
       "    </tr>\n",
       "    <tr>\n",
       "      <th>Sports</th>\n",
       "      <td>4.49</td>\n",
       "    </tr>\n",
       "    <tr>\n",
       "      <th>Strategy</th>\n",
       "      <td>1.54</td>\n",
       "    </tr>\n",
       "  </tbody>\n",
       "</table>\n",
       "</div>"
      ],
      "text/plain": [
       "              japan_sales\n",
       "genre                    \n",
       "Action              33.42\n",
       "Adventure            4.64\n",
       "Fighting             6.90\n",
       "Misc                 8.16\n",
       "Platform             4.68\n",
       "Puzzle               1.18\n",
       "Racing               2.29\n",
       "Role-Playing        44.43\n",
       "Shooter              5.55\n",
       "Simulation           4.19\n",
       "Sports               4.49\n",
       "Strategy             1.54"
      ]
     },
     "execution_count": 69,
     "metadata": {},
     "output_type": "execute_result"
    }
   ],
   "source": [
    "game_data.query('year_of_release >= 2013 and year_of_release <= 2015').pivot_table(index='genre', values='japan_sales', aggfunc='sum')"
   ]
  },
  {
   "cell_type": "code",
   "execution_count": 70,
   "metadata": {},
   "outputs": [],
   "source": [
    "actual_period = game_data.query('year_of_release >= 2013 and year_of_release <= 2015')\n",
    "na_sales_top = actual_period.pivot_table(index='genre', columns=None, values='north_america_sales', aggfunc='sum').sort_values('north_america_sales', ascending=False).query('north_america_sales >= 26.73')\n",
    "actual_period['top_genre_north_america'] = (actual_period['genre'].where(actual_period['genre'].isin(na_sales_top.index), 'Другие'))\n",
    "na_sales = actual_period.pivot_table(index=['top_genre_north_america'], columns=None, values='north_america_sales', aggfunc='sum').sort_values('north_america_sales', ascending=False)"
   ]
  },
  {
   "cell_type": "code",
   "execution_count": 71,
   "metadata": {},
   "outputs": [],
   "source": [
    "actual_period = game_data.query('year_of_release >= 2013 and year_of_release <= 2015')\n",
    "eu_sales_top = actual_period.pivot_table(index='genre', columns=None, values='europe_sales', aggfunc='sum').sort_values('europe_sales', ascending=False).query('europe_sales >= 19.38')\n",
    "actual_period['top_genre_europe'] = (actual_period['genre'].where(actual_period['genre'].isin(eu_sales_top.index), 'Другие'))\n",
    "eu_sales = actual_period.pivot_table(index=['top_genre_europe'], columns=None, values='europe_sales', aggfunc='sum').sort_values('europe_sales', ascending=False)"
   ]
  },
  {
   "cell_type": "code",
   "execution_count": 72,
   "metadata": {},
   "outputs": [],
   "source": [
    "actual_period = game_data.query('year_of_release >= 2013 and year_of_release <= 2015')\n",
    "jp_sales_top = actual_period.pivot_table(index='genre', columns=None, values='japan_sales', aggfunc='sum').sort_values('japan_sales', ascending=False).query('japan_sales > 5')\n",
    "actual_period['top_genre_japan'] = (actual_period['genre'].where(actual_period['genre'].isin(jp_sales_top.index), 'Другие'))\n",
    "jp_sales = actual_period.pivot_table(index='top_genre_japan', columns=None, values='japan_sales', aggfunc='sum').sort_values('japan_sales', ascending=False)"
   ]
  },
  {
   "cell_type": "code",
   "execution_count": 73,
   "metadata": {},
   "outputs": [
    {
     "data": {
      "image/png": "[encoded data removed]",
      "text/plain": [
       "<Figure size 1440x360 with 3 Axes>"
      ]
     },
     "metadata": {},
     "output_type": "display_data"
    }
   ],
   "source": [
    "import warnings\n",
    "warnings.filterwarnings(\"ignore\")\n",
    "\n",
    "fig, (ax1, ax2, ax3) = plt.subplots(1, 3, subplot_kw={'aspect':'equal'}, figsize=(20,5))\n",
    "fig.suptitle('Рейтинг жанров',\n",
    "             y = 1.2,\n",
    "             fontsize = 30)\n",
    "\n",
    "ax1.pie(na_sales['north_america_sales'])\n",
    "ax1.set_title('Северная Америка', fontsize = 20)\n",
    "labels = ['Action', 'Shooter', 'Sports', 'Role-Playing', 'Misc', 'Другие']\n",
    "ax1.legend(labels, loc=\"upper left\")\n",
    "\n",
    "ax2.pie(eu_sales['europe_sales'])\n",
    "ax2.set_title('Европа', fontsize = 20)\n",
    "labels = ['Action', 'Shooter', 'Sports', 'Role-Playing', 'Misc', 'Другие']\n",
    "ax2.legend(labels, loc=\"upper left\")\n",
    "\n",
    "ax3.pie(jp_sales['japan_sales'])\n",
    "ax3.set_title('Япония', fontsize = 20)\n",
    "labels = ['Role-Playing', 'Action', 'Misc', 'Fighting', 'Shooter', 'Другие']\n",
    "ax3.legend(labels, loc=\"upper left\")\n",
    "\n",
    "plt.show()"
   ]
  },
  {
   "cell_type": "markdown",
   "metadata": {},
   "source": [
    "**Вывод:**\n",
    "\n",
    "**Северная Америка и Европа достаточно похожи между собой:**\n",
    "\n",
    "- первые четыре места по жанрам у них сходятся: **Action**, **Shooter**, **Sports** и **Role-Playing**\n",
    "- самая популярная платформа - **PS4**; также в топ-5 входят одни и те же платформы, разница лишь в месте в топе\n",
    "\n",
    "**Япония несколько отличается от двух других рассматриваемых регионов:**\n",
    "\n",
    "- на первом месте по жанру у Японии **Role-Playing**, который у Америки и Европы на 4-ом месте, а на последнем - **Shooter**, находящийся на втором месте у Америки и Европы\n",
    "- самая популярная платформа - **3DS**, у Америки и Европы она на последнем месте в топ-5; также, в топ вошли две платформы, которых нет в пятёрке у Америки и Европы - **PSV** и **WiiU**"
   ]
  },
  {
   "cell_type": "code",
   "execution_count": 74,
   "metadata": {},
   "outputs": [
    {
     "data": {
      "text/html": [
       "<div>\n",
       "<style scoped>\n",
       "    .dataframe tbody tr th:only-of-type {\n",
       "        vertical-align: middle;\n",
       "    }\n",
       "\n",
       "    .dataframe tbody tr th {\n",
       "        vertical-align: top;\n",
       "    }\n",
       "\n",
       "    .dataframe thead th {\n",
       "        text-align: right;\n",
       "    }\n",
       "</style>\n",
       "<table border=\"1\" class=\"dataframe\">\n",
       "  <thead>\n",
       "    <tr style=\"text-align: right;\">\n",
       "      <th></th>\n",
       "      <th>north_america_sales</th>\n",
       "    </tr>\n",
       "    <tr>\n",
       "      <th>rating</th>\n",
       "      <th></th>\n",
       "    </tr>\n",
       "  </thead>\n",
       "  <tbody>\n",
       "    <tr>\n",
       "      <th>E</th>\n",
       "      <td>71.08</td>\n",
       "    </tr>\n",
       "    <tr>\n",
       "      <th>E10+</th>\n",
       "      <td>50.43</td>\n",
       "    </tr>\n",
       "    <tr>\n",
       "      <th>M</th>\n",
       "      <td>149.54</td>\n",
       "    </tr>\n",
       "    <tr>\n",
       "      <th>T</th>\n",
       "      <td>40.84</td>\n",
       "    </tr>\n",
       "    <tr>\n",
       "      <th>unknown</th>\n",
       "      <td>80.89</td>\n",
       "    </tr>\n",
       "  </tbody>\n",
       "</table>\n",
       "</div>"
      ],
      "text/plain": [
       "         north_america_sales\n",
       "rating                      \n",
       "E                      71.08\n",
       "E10+                   50.43\n",
       "M                     149.54\n",
       "T                      40.84\n",
       "unknown                80.89"
      ]
     },
     "execution_count": 74,
     "metadata": {},
     "output_type": "execute_result"
    }
   ],
   "source": [
    "game_data.query('year_of_release >= 2013 and year_of_release <= 2015').pivot_table(index='rating', values='north_america_sales', aggfunc='sum')"
   ]
  },
  {
   "cell_type": "code",
   "execution_count": 75,
   "metadata": {},
   "outputs": [
    {
     "data": {
      "text/html": [
       "<div>\n",
       "<style scoped>\n",
       "    .dataframe tbody tr th:only-of-type {\n",
       "        vertical-align: middle;\n",
       "    }\n",
       "\n",
       "    .dataframe tbody tr th {\n",
       "        vertical-align: top;\n",
       "    }\n",
       "\n",
       "    .dataframe thead th {\n",
       "        text-align: right;\n",
       "    }\n",
       "</style>\n",
       "<table border=\"1\" class=\"dataframe\">\n",
       "  <thead>\n",
       "    <tr style=\"text-align: right;\">\n",
       "      <th></th>\n",
       "      <th>europe_sales</th>\n",
       "    </tr>\n",
       "    <tr>\n",
       "      <th>rating</th>\n",
       "      <th></th>\n",
       "    </tr>\n",
       "  </thead>\n",
       "  <tbody>\n",
       "    <tr>\n",
       "      <th>E</th>\n",
       "      <td>69.75</td>\n",
       "    </tr>\n",
       "    <tr>\n",
       "      <th>E10+</th>\n",
       "      <td>38.88</td>\n",
       "    </tr>\n",
       "    <tr>\n",
       "      <th>M</th>\n",
       "      <td>128.78</td>\n",
       "    </tr>\n",
       "    <tr>\n",
       "      <th>T</th>\n",
       "      <td>32.16</td>\n",
       "    </tr>\n",
       "    <tr>\n",
       "      <th>unknown</th>\n",
       "      <td>71.44</td>\n",
       "    </tr>\n",
       "  </tbody>\n",
       "</table>\n",
       "</div>"
      ],
      "text/plain": [
       "         europe_sales\n",
       "rating               \n",
       "E               69.75\n",
       "E10+            38.88\n",
       "M              128.78\n",
       "T               32.16\n",
       "unknown         71.44"
      ]
     },
     "execution_count": 75,
     "metadata": {},
     "output_type": "execute_result"
    }
   ],
   "source": [
    "game_data.query('year_of_release >= 2013 and year_of_release <= 2015').pivot_table(index='rating', values='europe_sales', aggfunc='sum')"
   ]
  },
  {
   "cell_type": "code",
   "execution_count": 76,
   "metadata": {},
   "outputs": [
    {
     "data": {
      "text/html": [
       "<div>\n",
       "<style scoped>\n",
       "    .dataframe tbody tr th:only-of-type {\n",
       "        vertical-align: middle;\n",
       "    }\n",
       "\n",
       "    .dataframe tbody tr th {\n",
       "        vertical-align: top;\n",
       "    }\n",
       "\n",
       "    .dataframe thead th {\n",
       "        text-align: right;\n",
       "    }\n",
       "</style>\n",
       "<table border=\"1\" class=\"dataframe\">\n",
       "  <thead>\n",
       "    <tr style=\"text-align: right;\">\n",
       "      <th></th>\n",
       "      <th>japan_sales</th>\n",
       "    </tr>\n",
       "    <tr>\n",
       "      <th>rating</th>\n",
       "      <th></th>\n",
       "    </tr>\n",
       "  </thead>\n",
       "  <tbody>\n",
       "    <tr>\n",
       "      <th>E</th>\n",
       "      <td>14.07</td>\n",
       "    </tr>\n",
       "    <tr>\n",
       "      <th>E10+</th>\n",
       "      <td>5.44</td>\n",
       "    </tr>\n",
       "    <tr>\n",
       "      <th>M</th>\n",
       "      <td>12.91</td>\n",
       "    </tr>\n",
       "    <tr>\n",
       "      <th>T</th>\n",
       "      <td>18.32</td>\n",
       "    </tr>\n",
       "    <tr>\n",
       "      <th>unknown</th>\n",
       "      <td>70.73</td>\n",
       "    </tr>\n",
       "  </tbody>\n",
       "</table>\n",
       "</div>"
      ],
      "text/plain": [
       "         japan_sales\n",
       "rating              \n",
       "E              14.07\n",
       "E10+            5.44\n",
       "M              12.91\n",
       "T              18.32\n",
       "unknown        70.73"
      ]
     },
     "execution_count": 76,
     "metadata": {},
     "output_type": "execute_result"
    }
   ],
   "source": [
    "game_data.query('year_of_release >= 2013 and year_of_release <= 2015').pivot_table(index='rating', values='japan_sales', aggfunc='sum')"
   ]
  },
  {
   "cell_type": "markdown",
   "metadata": {},
   "source": [
    "**В Северной Америке и Европе большинство проданных копий у игр с рейтингом M, на втором месте игры с неизвестным рейтингом. В Японии на первом месте по продажам игры с неизвестным рейтингом, на втором - с рейтингом T.**"
   ]
  },
  {
   "cell_type": "markdown",
   "metadata": {},
   "source": [
    "## Формулирование и проверка гипотез"
   ]
  },
  {
   "cell_type": "markdown",
   "metadata": {},
   "source": [
    "**Проверим гипотезы:**\n",
    "\n",
    "**1.** Средние пользовательские рейтинги платформ Xbox One и PC одинаковые;\n",
    "\n",
    "\n",
    "**2.** Средние пользовательские рейтинги жанров Action (англ. «действие», экшен-игры) и Sports (англ. «спортивные соревнования») разные."
   ]
  },
  {
   "cell_type": "markdown",
   "metadata": {},
   "source": [
    "# **1.**\n",
    "\n",
    "**H_0: Средние пользовательские рейтинги платформ Xbox One и PC равны**\n",
    "\n",
    "**H_a: Средние пользовательские рейтинги платформ Xbox One и PC не равны**\n",
    "\n",
    "Значение alpha возьмём 0.05"
   ]
  },
  {
   "cell_type": "code",
   "execution_count": 77,
   "metadata": {},
   "outputs": [
    {
     "name": "stdout",
     "output_type": "stream",
     "text": [
      "p-значение: 0.14759594013430463\n",
      "Не получилось отвергнуть нулевую гипотезу\n"
     ]
    }
   ],
   "source": [
    "#сохраним нужные срезы по интересующим нас платформам и с помощью st.ttest_ind проведём тест для подтверждения или опровержения\n",
    "#нашей нулевой гипотезы\n",
    "game_data = game_data[game_data['user_score'].notna()]\n",
    "actual_data = game_data.query('year_of_release >= 2013 and year_of_release <= 2016')\n",
    "\n",
    "xbox_one_platform = actual_data.query('platform == \"XOne\"')\n",
    "pc_platform = actual_data.query('platform == \"PC\"')\n",
    "result = st.ttest_ind(xbox_one_platform['user_score'], pc_platform['user_score'], equal_var=False)\n",
    "\n",
    "alpha = 0.05 \n",
    "\n",
    "print('p-значение:', result.pvalue)\n",
    "if result.pvalue < alpha:\n",
    "    print(\"Отвергаем нулевую гипотезу\")\n",
    "else:\n",
    "    print(\"Не получилось отвергнуть нулевую гипотезу\")"
   ]
  },
  {
   "cell_type": "markdown",
   "metadata": {},
   "source": [
    "**Вывод: полученное p-значение говорит о том, средние пользовательские рейтинги рассматриваемых платформ хоть и не равны, с вероятностью в почти 15% такое или большее различие можно получить случайно, поэтому мы не можем сделать вывод о критическом различии средних пользовательских рейтингов на платформах Xbox One и PC**"
   ]
  },
  {
   "cell_type": "markdown",
   "metadata": {},
   "source": [
    "**2.**\n",
    "\n",
    "H_0: Средние пользовательские рейтинги жанров Action и Sports равны\n",
    "\n",
    "H_a: Средние пользовательские рейтинги жанров Action и Sports не равны\n",
    "\n",
    "Значение alpha возьмём 0.05"
   ]
  },
  {
   "cell_type": "code",
   "execution_count": 80,
   "metadata": {},
   "outputs": [
    {
     "name": "stdout",
     "output_type": "stream",
     "text": [
      "1.4460039700704315e-20\n",
      "Отвергаем нулевую гипотезу\n"
     ]
    }
   ],
   "source": [
    "game_data = game_data[game_data['user_score'].notna()]\n",
    "actual_data = game_data.query('year_of_release >= 2013 and year_of_release <= 2016')\n",
    "\n",
    "action_genre = actual_data.query('genre == \"Action\"')\n",
    "sports_genre = actual_data.query('genre == \"Sports\"')\n",
    "result = st.ttest_ind(action_genre['user_score'], sports_genre['user_score'], equal_var=False)\n",
    "\n",
    "alpha = 0.05 \n",
    "\n",
    "print(result.pvalue)\n",
    "if result.pvalue < alpha:\n",
    "    print(\"Отвергаем нулевую гипотезу\")\n",
    "else:\n",
    "    print(\"Не получилось отвергнуть нулевую гипотезу\")"
   ]
  },
  {
   "cell_type": "markdown",
   "metadata": {},
   "source": [
    "**Вывод: p-значение сильно меньше значения альфа, следовательно мы отвергаем нулевую гипотезу и делаем вывод о том, что средние пользовательские рейтинги жанров Action и Sports не равны**"
   ]
  },
  {
   "cell_type": "markdown",
   "metadata": {},
   "source": [
    "# Общий вывод\n",
    "\n",
    "**На основе проведённого исследования можно сделать следующий вывод и дать магазину \"Стримчик\" следующие рекомендации для планирования рекламной кампании:**\n",
    "\n",
    "\n",
    "- Наиболее популярные игровые платформы - **PS4**, **X360** и **XOne**, а для японского рынка стоит обратить внимание на **3DS**, так как эта платформа там наиболее популярна.\n",
    "\n",
    "- Игры в жанре **shooter** и **action** показали хорошие продажи в Европе и Америке, на них стоит обратить внимание, в Японии самый популярный жанр - **role-playing**. \n",
    "\n",
    "- Как показало исследование, оценки пользователей слабо влияют на продажи, на оценки критиков можно обратить внимание, но и они напрямую не влияют на продажи.\n",
    "\n",
    "- Рейтинг **M** можно считать желаемым для хороших продаж. "
   ]
  }
 ],
 "metadata": {
  "ExecuteTimeLog": [
   {
    "duration": 1247,
    "start_time": "2022-08-08T08:35:49.287Z"
   },
   {
    "duration": 88,
    "start_time": "2022-08-08T08:37:58.388Z"
   },
   {
    "duration": 19,
    "start_time": "2022-08-08T08:38:39.460Z"
   },
   {
    "duration": 13,
    "start_time": "2022-08-08T08:39:58.027Z"
   },
   {
    "duration": 16,
    "start_time": "2022-08-08T08:47:05.474Z"
   },
   {
    "duration": 5,
    "start_time": "2022-08-08T11:31:51.233Z"
   },
   {
    "duration": 4,
    "start_time": "2022-08-08T11:31:52.323Z"
   },
   {
    "duration": 4,
    "start_time": "2022-08-08T11:33:52.697Z"
   },
   {
    "duration": 4,
    "start_time": "2022-08-08T11:33:53.642Z"
   },
   {
    "duration": 1123,
    "start_time": "2022-08-08T11:34:09.986Z"
   },
   {
    "duration": 64,
    "start_time": "2022-08-08T11:34:11.111Z"
   },
   {
    "duration": 21,
    "start_time": "2022-08-08T11:34:11.177Z"
   },
   {
    "duration": 16,
    "start_time": "2022-08-08T11:34:11.200Z"
   },
   {
    "duration": 18,
    "start_time": "2022-08-08T11:34:11.218Z"
   },
   {
    "duration": 4,
    "start_time": "2022-08-08T11:34:11.238Z"
   },
   {
    "duration": 17,
    "start_time": "2022-08-08T11:34:11.244Z"
   },
   {
    "duration": 7,
    "start_time": "2022-08-08T11:35:48.207Z"
   },
   {
    "duration": 23,
    "start_time": "2022-08-08T11:38:19.786Z"
   },
   {
    "duration": 21,
    "start_time": "2022-08-08T11:39:55.585Z"
   },
   {
    "duration": 9,
    "start_time": "2022-08-08T11:54:47.818Z"
   },
   {
    "duration": 10,
    "start_time": "2022-08-08T11:54:58.896Z"
   },
   {
    "duration": 9,
    "start_time": "2022-08-08T11:55:08.425Z"
   },
   {
    "duration": 10,
    "start_time": "2022-08-08T11:55:17.822Z"
   },
   {
    "duration": 10,
    "start_time": "2022-08-08T11:55:27.770Z"
   },
   {
    "duration": 14,
    "start_time": "2022-08-08T11:55:32.765Z"
   },
   {
    "duration": 9,
    "start_time": "2022-08-08T11:55:36.821Z"
   },
   {
    "duration": 11,
    "start_time": "2022-08-08T11:55:39.644Z"
   },
   {
    "duration": 10,
    "start_time": "2022-08-08T11:55:45.938Z"
   },
   {
    "duration": 9,
    "start_time": "2022-08-08T11:55:52.866Z"
   },
   {
    "duration": 14,
    "start_time": "2022-08-08T12:00:24.376Z"
   },
   {
    "duration": 9,
    "start_time": "2022-08-08T12:00:59.518Z"
   },
   {
    "duration": 26,
    "start_time": "2022-08-08T12:01:21.406Z"
   },
   {
    "duration": 9,
    "start_time": "2022-08-08T12:01:29.941Z"
   },
   {
    "duration": 10,
    "start_time": "2022-08-08T12:02:06.769Z"
   },
   {
    "duration": 10,
    "start_time": "2022-08-08T12:02:30.128Z"
   },
   {
    "duration": 6,
    "start_time": "2022-08-08T15:28:28.433Z"
   },
   {
    "duration": 10,
    "start_time": "2022-08-08T15:29:29.546Z"
   },
   {
    "duration": 10,
    "start_time": "2022-08-08T15:30:28.056Z"
   },
   {
    "duration": 8,
    "start_time": "2022-08-08T16:06:15.333Z"
   },
   {
    "duration": 9,
    "start_time": "2022-08-08T16:57:49.068Z"
   },
   {
    "duration": 1031,
    "start_time": "2022-08-08T16:58:16.838Z"
   },
   {
    "duration": 52,
    "start_time": "2022-08-08T16:58:17.871Z"
   },
   {
    "duration": 19,
    "start_time": "2022-08-08T16:58:17.925Z"
   },
   {
    "duration": 13,
    "start_time": "2022-08-08T16:58:17.946Z"
   },
   {
    "duration": 20,
    "start_time": "2022-08-08T16:58:17.961Z"
   },
   {
    "duration": 17,
    "start_time": "2022-08-08T16:58:17.983Z"
   },
   {
    "duration": 8,
    "start_time": "2022-08-08T16:58:18.002Z"
   },
   {
    "duration": 22,
    "start_time": "2022-08-08T16:58:18.012Z"
   },
   {
    "duration": 9,
    "start_time": "2022-08-08T16:58:18.036Z"
   },
   {
    "duration": 11,
    "start_time": "2022-08-08T16:58:18.047Z"
   },
   {
    "duration": 11,
    "start_time": "2022-08-08T16:58:18.060Z"
   },
   {
    "duration": 10,
    "start_time": "2022-08-08T16:58:18.100Z"
   },
   {
    "duration": 54,
    "start_time": "2022-08-08T16:58:18.112Z"
   },
   {
    "duration": 41,
    "start_time": "2022-08-08T16:58:18.170Z"
   },
   {
    "duration": 30,
    "start_time": "2022-08-08T16:58:18.213Z"
   },
   {
    "duration": 9,
    "start_time": "2022-08-08T16:58:18.245Z"
   },
   {
    "duration": 13,
    "start_time": "2022-08-08T16:58:18.256Z"
   },
   {
    "duration": 11,
    "start_time": "2022-08-08T16:58:18.271Z"
   },
   {
    "duration": 22,
    "start_time": "2022-08-08T16:58:18.284Z"
   },
   {
    "duration": 14,
    "start_time": "2022-08-08T16:58:18.308Z"
   },
   {
    "duration": 92,
    "start_time": "2022-08-08T16:59:50.535Z"
   },
   {
    "duration": 5083,
    "start_time": "2022-08-08T17:00:09.978Z"
   },
   {
    "duration": 5424,
    "start_time": "2022-08-08T17:00:57.430Z"
   },
   {
    "duration": 1279,
    "start_time": "2022-08-09T07:46:28.830Z"
   },
   {
    "duration": 174,
    "start_time": "2022-08-09T07:46:30.111Z"
   },
   {
    "duration": 20,
    "start_time": "2022-08-09T07:46:30.286Z"
   },
   {
    "duration": 20,
    "start_time": "2022-08-09T07:46:30.307Z"
   },
   {
    "duration": 14,
    "start_time": "2022-08-09T07:46:30.329Z"
   },
   {
    "duration": 7,
    "start_time": "2022-08-09T07:46:30.344Z"
   },
   {
    "duration": 17,
    "start_time": "2022-08-09T07:46:30.353Z"
   },
   {
    "duration": 25,
    "start_time": "2022-08-09T07:46:30.371Z"
   },
   {
    "duration": 9,
    "start_time": "2022-08-09T07:46:30.398Z"
   },
   {
    "duration": 28,
    "start_time": "2022-08-09T07:46:30.408Z"
   },
   {
    "duration": 11,
    "start_time": "2022-08-09T07:46:30.438Z"
   },
   {
    "duration": 8,
    "start_time": "2022-08-09T07:46:30.451Z"
   },
   {
    "duration": 20,
    "start_time": "2022-08-09T07:46:30.460Z"
   },
   {
    "duration": 4912,
    "start_time": "2022-08-09T07:46:30.483Z"
   },
   {
    "duration": 8,
    "start_time": "2022-08-09T07:46:35.396Z"
   },
   {
    "duration": 7,
    "start_time": "2022-08-09T07:46:35.406Z"
   },
   {
    "duration": 24,
    "start_time": "2022-08-09T07:46:35.414Z"
   },
   {
    "duration": 20,
    "start_time": "2022-08-09T07:46:35.440Z"
   },
   {
    "duration": 24,
    "start_time": "2022-08-09T07:46:35.461Z"
   },
   {
    "duration": 28,
    "start_time": "2022-08-09T07:46:35.486Z"
   },
   {
    "duration": 4951,
    "start_time": "2022-08-09T07:47:03.759Z"
   },
   {
    "duration": 4861,
    "start_time": "2022-08-09T07:47:20.730Z"
   },
   {
    "duration": 4815,
    "start_time": "2022-08-09T07:47:31.223Z"
   },
   {
    "duration": 9,
    "start_time": "2022-08-09T07:47:37.025Z"
   },
   {
    "duration": 1144,
    "start_time": "2022-08-11T08:00:13.376Z"
   },
   {
    "duration": 186,
    "start_time": "2022-08-11T08:00:14.521Z"
   },
   {
    "duration": 18,
    "start_time": "2022-08-11T08:00:14.709Z"
   },
   {
    "duration": 17,
    "start_time": "2022-08-11T08:00:14.728Z"
   },
   {
    "duration": 13,
    "start_time": "2022-08-11T08:00:14.747Z"
   },
   {
    "duration": 3,
    "start_time": "2022-08-11T08:00:14.762Z"
   },
   {
    "duration": 7,
    "start_time": "2022-08-11T08:00:14.767Z"
   },
   {
    "duration": 22,
    "start_time": "2022-08-11T08:00:14.775Z"
   },
   {
    "duration": 8,
    "start_time": "2022-08-11T08:00:14.799Z"
   },
   {
    "duration": 11,
    "start_time": "2022-08-11T08:00:14.808Z"
   },
   {
    "duration": 9,
    "start_time": "2022-08-11T08:00:14.821Z"
   },
   {
    "duration": 8,
    "start_time": "2022-08-11T08:00:14.855Z"
   },
   {
    "duration": 16,
    "start_time": "2022-08-11T08:00:14.865Z"
   },
   {
    "duration": 9,
    "start_time": "2022-08-11T08:00:14.883Z"
   },
   {
    "duration": 9,
    "start_time": "2022-08-11T08:00:14.893Z"
   },
   {
    "duration": 9,
    "start_time": "2022-08-11T08:00:14.903Z"
   },
   {
    "duration": 9,
    "start_time": "2022-08-11T08:00:14.913Z"
   },
   {
    "duration": 38,
    "start_time": "2022-08-11T08:00:14.923Z"
   },
   {
    "duration": 11,
    "start_time": "2022-08-11T08:00:14.963Z"
   },
   {
    "duration": 4,
    "start_time": "2022-08-11T08:00:59.355Z"
   },
   {
    "duration": 5,
    "start_time": "2022-08-11T08:01:30.813Z"
   },
   {
    "duration": 4,
    "start_time": "2022-08-11T08:01:59.345Z"
   },
   {
    "duration": 5,
    "start_time": "2022-08-11T08:02:34.384Z"
   },
   {
    "duration": 9,
    "start_time": "2022-08-11T14:33:33.281Z"
   },
   {
    "duration": 4,
    "start_time": "2022-08-11T14:34:11.980Z"
   },
   {
    "duration": 6,
    "start_time": "2022-08-11T14:34:31.172Z"
   },
   {
    "duration": 7,
    "start_time": "2022-08-11T14:34:50.326Z"
   },
   {
    "duration": 1519,
    "start_time": "2022-08-11T14:35:05.740Z"
   },
   {
    "duration": 65,
    "start_time": "2022-08-11T14:35:07.261Z"
   },
   {
    "duration": 20,
    "start_time": "2022-08-11T14:35:07.330Z"
   },
   {
    "duration": 20,
    "start_time": "2022-08-11T14:35:07.353Z"
   },
   {
    "duration": 31,
    "start_time": "2022-08-11T14:35:07.376Z"
   },
   {
    "duration": 5,
    "start_time": "2022-08-11T14:35:07.409Z"
   },
   {
    "duration": 6,
    "start_time": "2022-08-11T14:35:07.416Z"
   },
   {
    "duration": 26,
    "start_time": "2022-08-11T14:35:07.424Z"
   },
   {
    "duration": 14,
    "start_time": "2022-08-11T14:35:07.454Z"
   },
   {
    "duration": 34,
    "start_time": "2022-08-11T14:35:07.469Z"
   },
   {
    "duration": 12,
    "start_time": "2022-08-11T14:35:07.505Z"
   },
   {
    "duration": 19,
    "start_time": "2022-08-11T14:35:07.519Z"
   },
   {
    "duration": 13,
    "start_time": "2022-08-11T14:35:07.542Z"
   },
   {
    "duration": 34,
    "start_time": "2022-08-11T14:35:07.557Z"
   },
   {
    "duration": 12,
    "start_time": "2022-08-11T14:35:07.593Z"
   },
   {
    "duration": 34,
    "start_time": "2022-08-11T14:35:07.607Z"
   },
   {
    "duration": 9,
    "start_time": "2022-08-11T14:35:07.642Z"
   },
   {
    "duration": 26,
    "start_time": "2022-08-11T14:35:07.653Z"
   },
   {
    "duration": 14,
    "start_time": "2022-08-11T14:35:07.681Z"
   },
   {
    "duration": 11,
    "start_time": "2022-08-11T14:35:07.696Z"
   },
   {
    "duration": 10,
    "start_time": "2022-08-11T14:35:07.709Z"
   },
   {
    "duration": 13,
    "start_time": "2022-08-11T14:35:07.721Z"
   },
   {
    "duration": 114,
    "start_time": "2022-08-11T14:37:50.322Z"
   },
   {
    "duration": 100,
    "start_time": "2022-08-11T14:38:00.045Z"
   },
   {
    "duration": 88,
    "start_time": "2022-08-11T14:38:12.034Z"
   },
   {
    "duration": 8,
    "start_time": "2022-08-11T14:38:23.271Z"
   },
   {
    "duration": 7,
    "start_time": "2022-08-11T14:38:36.344Z"
   },
   {
    "duration": 102,
    "start_time": "2022-08-11T14:43:06.526Z"
   },
   {
    "duration": 6,
    "start_time": "2022-08-11T14:43:48.774Z"
   },
   {
    "duration": 5,
    "start_time": "2022-08-11T14:43:55.418Z"
   },
   {
    "duration": 9,
    "start_time": "2022-08-11T14:44:23.108Z"
   },
   {
    "duration": 5,
    "start_time": "2022-08-11T14:44:33.102Z"
   },
   {
    "duration": 21,
    "start_time": "2022-08-11T14:56:12.552Z"
   },
   {
    "duration": 21,
    "start_time": "2022-08-11T14:56:35.847Z"
   },
   {
    "duration": 14,
    "start_time": "2022-08-11T14:57:41.878Z"
   },
   {
    "duration": 95,
    "start_time": "2022-08-11T14:59:00.704Z"
   },
   {
    "duration": 14,
    "start_time": "2022-08-11T14:59:08.718Z"
   },
   {
    "duration": 9,
    "start_time": "2022-08-11T15:04:11.873Z"
   },
   {
    "duration": 15,
    "start_time": "2022-08-11T15:04:22.958Z"
   },
   {
    "duration": 12,
    "start_time": "2022-08-11T15:05:12.599Z"
   },
   {
    "duration": 5,
    "start_time": "2022-08-11T15:05:26.966Z"
   },
   {
    "duration": 16,
    "start_time": "2022-08-11T17:08:28.539Z"
   },
   {
    "duration": 2276,
    "start_time": "2022-08-11T17:10:32.985Z"
   },
   {
    "duration": 11,
    "start_time": "2022-08-11T17:11:22.550Z"
   },
   {
    "duration": 10,
    "start_time": "2022-08-11T17:12:00.933Z"
   },
   {
    "duration": 11,
    "start_time": "2022-08-11T17:15:24.338Z"
   },
   {
    "duration": 1486,
    "start_time": "2022-08-12T04:49:10.134Z"
   },
   {
    "duration": 146,
    "start_time": "2022-08-12T04:49:11.626Z"
   },
   {
    "duration": 52,
    "start_time": "2022-08-12T04:49:11.773Z"
   },
   {
    "duration": 18,
    "start_time": "2022-08-12T04:49:11.829Z"
   },
   {
    "duration": 17,
    "start_time": "2022-08-12T04:49:11.849Z"
   },
   {
    "duration": 4,
    "start_time": "2022-08-12T04:49:11.868Z"
   },
   {
    "duration": 10,
    "start_time": "2022-08-12T04:49:11.874Z"
   },
   {
    "duration": 51,
    "start_time": "2022-08-12T04:49:11.886Z"
   },
   {
    "duration": 11,
    "start_time": "2022-08-12T04:49:11.939Z"
   },
   {
    "duration": 20,
    "start_time": "2022-08-12T04:49:11.952Z"
   },
   {
    "duration": 26,
    "start_time": "2022-08-12T04:49:11.975Z"
   },
   {
    "duration": 11,
    "start_time": "2022-08-12T04:49:12.007Z"
   },
   {
    "duration": 23,
    "start_time": "2022-08-12T04:49:12.023Z"
   },
   {
    "duration": 13,
    "start_time": "2022-08-12T04:49:12.049Z"
   },
   {
    "duration": 16,
    "start_time": "2022-08-12T04:49:12.063Z"
   },
   {
    "duration": 55,
    "start_time": "2022-08-12T04:49:12.081Z"
   },
   {
    "duration": 16,
    "start_time": "2022-08-12T04:49:12.138Z"
   },
   {
    "duration": 8,
    "start_time": "2022-08-12T04:49:12.156Z"
   },
   {
    "duration": 8,
    "start_time": "2022-08-12T04:49:12.166Z"
   },
   {
    "duration": 9,
    "start_time": "2022-08-12T04:49:12.176Z"
   },
   {
    "duration": 30,
    "start_time": "2022-08-12T04:49:12.186Z"
   },
   {
    "duration": 22,
    "start_time": "2022-08-12T04:49:12.222Z"
   },
   {
    "duration": 20,
    "start_time": "2022-08-12T04:49:12.246Z"
   },
   {
    "duration": 112,
    "start_time": "2022-08-12T04:49:12.267Z"
   },
   {
    "duration": 8,
    "start_time": "2022-08-12T04:49:12.381Z"
   },
   {
    "duration": 41,
    "start_time": "2022-08-12T04:49:12.391Z"
   },
   {
    "duration": 242,
    "start_time": "2022-08-12T04:50:40.505Z"
   },
   {
    "duration": 197,
    "start_time": "2022-08-12T04:51:10.391Z"
   },
   {
    "duration": 162,
    "start_time": "2022-08-12T04:52:21.970Z"
   },
   {
    "duration": 418,
    "start_time": "2022-08-12T04:52:33.148Z"
   },
   {
    "duration": 138,
    "start_time": "2022-08-12T04:52:55.658Z"
   },
   {
    "duration": 15,
    "start_time": "2022-08-12T09:27:41.828Z"
   },
   {
    "duration": 641,
    "start_time": "2022-08-12T09:28:54.531Z"
   },
   {
    "duration": 606,
    "start_time": "2022-08-12T09:29:45.445Z"
   },
   {
    "duration": 98,
    "start_time": "2022-08-12T09:30:22.515Z"
   },
   {
    "duration": 93,
    "start_time": "2022-08-12T09:30:35.328Z"
   },
   {
    "duration": 20,
    "start_time": "2022-08-12T09:31:03.362Z"
   },
   {
    "duration": 561,
    "start_time": "2022-08-12T09:31:16.926Z"
   },
   {
    "duration": 86,
    "start_time": "2022-08-12T09:32:54.948Z"
   },
   {
    "duration": 82,
    "start_time": "2022-08-12T09:33:01.424Z"
   },
   {
    "duration": 1173,
    "start_time": "2022-08-12T10:05:48.640Z"
   },
   {
    "duration": 57,
    "start_time": "2022-08-12T10:05:49.815Z"
   },
   {
    "duration": 21,
    "start_time": "2022-08-12T10:05:49.874Z"
   },
   {
    "duration": 22,
    "start_time": "2022-08-12T10:05:49.896Z"
   },
   {
    "duration": 18,
    "start_time": "2022-08-12T10:05:49.921Z"
   },
   {
    "duration": 6,
    "start_time": "2022-08-12T10:05:49.940Z"
   },
   {
    "duration": 10,
    "start_time": "2022-08-12T10:05:49.947Z"
   },
   {
    "duration": 53,
    "start_time": "2022-08-12T10:05:49.959Z"
   },
   {
    "duration": 11,
    "start_time": "2022-08-12T10:05:50.014Z"
   },
   {
    "duration": 17,
    "start_time": "2022-08-12T10:05:50.026Z"
   },
   {
    "duration": 13,
    "start_time": "2022-08-12T10:05:50.045Z"
   },
   {
    "duration": 10,
    "start_time": "2022-08-12T10:05:50.059Z"
   },
   {
    "duration": 39,
    "start_time": "2022-08-12T10:05:50.071Z"
   },
   {
    "duration": 11,
    "start_time": "2022-08-12T10:05:50.113Z"
   },
   {
    "duration": 17,
    "start_time": "2022-08-12T10:05:50.126Z"
   },
   {
    "duration": 10,
    "start_time": "2022-08-12T10:05:50.145Z"
   },
   {
    "duration": 14,
    "start_time": "2022-08-12T10:05:50.157Z"
   },
   {
    "duration": 37,
    "start_time": "2022-08-12T10:05:50.173Z"
   },
   {
    "duration": 7,
    "start_time": "2022-08-12T10:05:50.212Z"
   },
   {
    "duration": 9,
    "start_time": "2022-08-12T10:05:50.220Z"
   },
   {
    "duration": 12,
    "start_time": "2022-08-12T10:05:50.230Z"
   },
   {
    "duration": 4,
    "start_time": "2022-08-12T10:05:50.243Z"
   },
   {
    "duration": 20,
    "start_time": "2022-08-12T10:05:50.249Z"
   },
   {
    "duration": 3,
    "start_time": "2022-08-12T10:05:50.271Z"
   },
   {
    "duration": 42,
    "start_time": "2022-08-12T10:05:50.275Z"
   },
   {
    "duration": 11,
    "start_time": "2022-08-12T10:05:50.319Z"
   },
   {
    "duration": 13,
    "start_time": "2022-08-12T10:10:39.781Z"
   },
   {
    "duration": 5,
    "start_time": "2022-08-12T10:19:31.119Z"
   },
   {
    "duration": 123,
    "start_time": "2022-08-12T10:23:59.830Z"
   },
   {
    "duration": 11,
    "start_time": "2022-08-12T10:31:50.119Z"
   },
   {
    "duration": 12,
    "start_time": "2022-08-12T10:35:08.124Z"
   },
   {
    "duration": 17,
    "start_time": "2022-08-12T10:59:42.056Z"
   },
   {
    "duration": 33,
    "start_time": "2022-08-12T10:59:55.210Z"
   },
   {
    "duration": 1497,
    "start_time": "2022-08-12T11:00:50.240Z"
   },
   {
    "duration": 59,
    "start_time": "2022-08-12T11:01:14.630Z"
   },
   {
    "duration": 17,
    "start_time": "2022-08-12T11:01:28.223Z"
   },
   {
    "duration": 36,
    "start_time": "2022-08-12T11:29:41.222Z"
   },
   {
    "duration": 190,
    "start_time": "2022-08-12T11:30:20.247Z"
   },
   {
    "duration": 41,
    "start_time": "2022-08-12T11:59:48.296Z"
   },
   {
    "duration": 34,
    "start_time": "2022-08-12T12:00:44.169Z"
   },
   {
    "duration": 49,
    "start_time": "2022-08-12T12:00:59.918Z"
   },
   {
    "duration": 48,
    "start_time": "2022-08-12T12:01:13.015Z"
   },
   {
    "duration": 53,
    "start_time": "2022-08-12T12:01:54.195Z"
   },
   {
    "duration": 39,
    "start_time": "2022-08-12T12:02:02.490Z"
   },
   {
    "duration": 39,
    "start_time": "2022-08-12T12:02:13.611Z"
   },
   {
    "duration": 7,
    "start_time": "2022-08-12T12:08:00.224Z"
   },
   {
    "duration": 19,
    "start_time": "2022-08-12T12:08:31.713Z"
   },
   {
    "duration": 21,
    "start_time": "2022-08-12T12:09:21.144Z"
   },
   {
    "duration": 20,
    "start_time": "2022-08-12T12:09:58.417Z"
   },
   {
    "duration": 31,
    "start_time": "2022-08-12T13:00:10.306Z"
   },
   {
    "duration": 40,
    "start_time": "2022-08-12T13:00:19.954Z"
   },
   {
    "duration": 23,
    "start_time": "2022-08-12T13:01:59.016Z"
   },
   {
    "duration": 25,
    "start_time": "2022-08-12T15:14:51.110Z"
   },
   {
    "duration": 13,
    "start_time": "2022-08-12T15:15:14.946Z"
   },
   {
    "duration": 151,
    "start_time": "2022-08-12T16:54:49.726Z"
   },
   {
    "duration": 16,
    "start_time": "2022-08-12T16:59:08.656Z"
   },
   {
    "duration": 14,
    "start_time": "2022-08-12T16:59:28.202Z"
   },
   {
    "duration": 20,
    "start_time": "2022-08-12T16:59:36.626Z"
   },
   {
    "duration": 14,
    "start_time": "2022-08-12T16:59:46.710Z"
   },
   {
    "duration": 604,
    "start_time": "2022-08-12T17:07:45.784Z"
   },
   {
    "duration": 1113,
    "start_time": "2022-08-12T17:08:13.075Z"
   },
   {
    "duration": 55,
    "start_time": "2022-08-12T17:08:14.189Z"
   },
   {
    "duration": 23,
    "start_time": "2022-08-12T17:08:14.245Z"
   },
   {
    "duration": 12,
    "start_time": "2022-08-12T17:08:14.270Z"
   },
   {
    "duration": 15,
    "start_time": "2022-08-12T17:08:14.284Z"
   },
   {
    "duration": 6,
    "start_time": "2022-08-12T17:08:14.301Z"
   },
   {
    "duration": 6,
    "start_time": "2022-08-12T17:08:14.308Z"
   },
   {
    "duration": 25,
    "start_time": "2022-08-12T17:08:14.315Z"
   },
   {
    "duration": 9,
    "start_time": "2022-08-12T17:08:14.341Z"
   },
   {
    "duration": 13,
    "start_time": "2022-08-12T17:08:14.352Z"
   },
   {
    "duration": 41,
    "start_time": "2022-08-12T17:08:14.366Z"
   },
   {
    "duration": 11,
    "start_time": "2022-08-12T17:08:14.409Z"
   },
   {
    "duration": 15,
    "start_time": "2022-08-12T17:08:14.422Z"
   },
   {
    "duration": 11,
    "start_time": "2022-08-12T17:08:14.439Z"
   },
   {
    "duration": 12,
    "start_time": "2022-08-12T17:08:14.454Z"
   },
   {
    "duration": 37,
    "start_time": "2022-08-12T17:08:14.468Z"
   },
   {
    "duration": 14,
    "start_time": "2022-08-12T17:08:14.507Z"
   },
   {
    "duration": 6,
    "start_time": "2022-08-12T17:08:14.523Z"
   },
   {
    "duration": 10,
    "start_time": "2022-08-12T17:08:14.531Z"
   },
   {
    "duration": 12,
    "start_time": "2022-08-12T17:08:14.543Z"
   },
   {
    "duration": 41,
    "start_time": "2022-08-12T17:08:14.557Z"
   },
   {
    "duration": 16,
    "start_time": "2022-08-12T17:08:14.600Z"
   },
   {
    "duration": 9,
    "start_time": "2022-08-12T17:08:14.617Z"
   },
   {
    "duration": 12,
    "start_time": "2022-08-12T17:08:14.627Z"
   },
   {
    "duration": 24,
    "start_time": "2022-08-12T17:08:14.640Z"
   },
   {
    "duration": 41,
    "start_time": "2022-08-12T17:08:14.666Z"
   },
   {
    "duration": 14,
    "start_time": "2022-08-12T17:08:14.708Z"
   },
   {
    "duration": 996,
    "start_time": "2022-08-12T17:08:14.726Z"
   },
   {
    "duration": 468,
    "start_time": "2022-08-12T17:17:07.729Z"
   },
   {
    "duration": 23,
    "start_time": "2022-08-12T17:17:38.047Z"
   },
   {
    "duration": 457,
    "start_time": "2022-08-12T17:23:21.872Z"
   },
   {
    "duration": 34,
    "start_time": "2022-08-12T17:24:42.145Z"
   },
   {
    "duration": 175,
    "start_time": "2022-08-12T17:25:08.148Z"
   },
   {
    "duration": 1240,
    "start_time": "2022-08-13T07:26:36.544Z"
   },
   {
    "duration": 108,
    "start_time": "2022-08-13T07:26:37.785Z"
   },
   {
    "duration": 23,
    "start_time": "2022-08-13T07:26:37.894Z"
   },
   {
    "duration": 13,
    "start_time": "2022-08-13T07:26:37.918Z"
   },
   {
    "duration": 16,
    "start_time": "2022-08-13T07:26:37.932Z"
   },
   {
    "duration": 4,
    "start_time": "2022-08-13T07:26:37.949Z"
   },
   {
    "duration": 6,
    "start_time": "2022-08-13T07:26:37.955Z"
   },
   {
    "duration": 28,
    "start_time": "2022-08-13T07:26:37.963Z"
   },
   {
    "duration": 26,
    "start_time": "2022-08-13T07:26:37.993Z"
   },
   {
    "duration": 10,
    "start_time": "2022-08-13T07:26:38.021Z"
   },
   {
    "duration": 11,
    "start_time": "2022-08-13T07:26:38.032Z"
   },
   {
    "duration": 8,
    "start_time": "2022-08-13T07:26:38.044Z"
   },
   {
    "duration": 24,
    "start_time": "2022-08-13T07:26:38.053Z"
   },
   {
    "duration": 9,
    "start_time": "2022-08-13T07:26:38.079Z"
   },
   {
    "duration": 27,
    "start_time": "2022-08-13T07:26:38.090Z"
   },
   {
    "duration": 8,
    "start_time": "2022-08-13T07:26:38.119Z"
   },
   {
    "duration": 14,
    "start_time": "2022-08-13T07:26:38.128Z"
   },
   {
    "duration": 12,
    "start_time": "2022-08-13T07:26:38.143Z"
   },
   {
    "duration": 11,
    "start_time": "2022-08-13T07:26:38.157Z"
   },
   {
    "duration": 11,
    "start_time": "2022-08-13T07:26:38.169Z"
   },
   {
    "duration": 17,
    "start_time": "2022-08-13T07:26:38.182Z"
   },
   {
    "duration": 26,
    "start_time": "2022-08-13T07:26:38.201Z"
   },
   {
    "duration": 8,
    "start_time": "2022-08-13T07:26:38.229Z"
   },
   {
    "duration": 11,
    "start_time": "2022-08-13T07:26:38.238Z"
   },
   {
    "duration": 33,
    "start_time": "2022-08-13T07:26:38.250Z"
   },
   {
    "duration": 13,
    "start_time": "2022-08-13T07:26:38.284Z"
   },
   {
    "duration": 21,
    "start_time": "2022-08-13T07:26:38.298Z"
   },
   {
    "duration": 162,
    "start_time": "2022-08-13T07:26:38.322Z"
   },
   {
    "duration": 1271,
    "start_time": "2022-08-14T10:30:14.262Z"
   },
   {
    "duration": 103,
    "start_time": "2022-08-14T10:30:15.535Z"
   },
   {
    "duration": 23,
    "start_time": "2022-08-14T10:30:15.639Z"
   },
   {
    "duration": 12,
    "start_time": "2022-08-14T10:30:15.663Z"
   },
   {
    "duration": 14,
    "start_time": "2022-08-14T10:30:15.677Z"
   },
   {
    "duration": 5,
    "start_time": "2022-08-14T10:30:15.692Z"
   },
   {
    "duration": 6,
    "start_time": "2022-08-14T10:30:15.698Z"
   },
   {
    "duration": 32,
    "start_time": "2022-08-14T10:30:15.714Z"
   },
   {
    "duration": 8,
    "start_time": "2022-08-14T10:30:15.748Z"
   },
   {
    "duration": 11,
    "start_time": "2022-08-14T10:30:15.757Z"
   },
   {
    "duration": 11,
    "start_time": "2022-08-14T10:30:15.769Z"
   },
   {
    "duration": 8,
    "start_time": "2022-08-14T10:30:15.781Z"
   },
   {
    "duration": 12,
    "start_time": "2022-08-14T10:30:15.822Z"
   },
   {
    "duration": 12,
    "start_time": "2022-08-14T10:30:15.837Z"
   },
   {
    "duration": 10,
    "start_time": "2022-08-14T10:30:15.850Z"
   },
   {
    "duration": 9,
    "start_time": "2022-08-14T10:30:15.862Z"
   },
   {
    "duration": 8,
    "start_time": "2022-08-14T10:30:15.873Z"
   },
   {
    "duration": 39,
    "start_time": "2022-08-14T10:30:15.883Z"
   },
   {
    "duration": 5,
    "start_time": "2022-08-14T10:30:15.924Z"
   },
   {
    "duration": 10,
    "start_time": "2022-08-14T10:30:15.931Z"
   },
   {
    "duration": 9,
    "start_time": "2022-08-14T10:30:15.942Z"
   },
   {
    "duration": 27,
    "start_time": "2022-08-14T10:30:15.952Z"
   },
   {
    "duration": 7,
    "start_time": "2022-08-14T10:30:15.981Z"
   },
   {
    "duration": 10,
    "start_time": "2022-08-14T10:30:15.990Z"
   },
   {
    "duration": 38,
    "start_time": "2022-08-14T10:30:16.017Z"
   },
   {
    "duration": 16,
    "start_time": "2022-08-14T10:30:16.057Z"
   },
   {
    "duration": 51,
    "start_time": "2022-08-14T10:30:16.075Z"
   },
   {
    "duration": 154,
    "start_time": "2022-08-14T10:30:16.127Z"
   },
   {
    "duration": 152,
    "start_time": "2022-08-14T10:30:35.360Z"
   },
   {
    "duration": 37,
    "start_time": "2022-08-14T10:32:50.724Z"
   },
   {
    "duration": 139,
    "start_time": "2022-08-14T10:33:06.835Z"
   },
   {
    "duration": 214,
    "start_time": "2022-08-14T10:35:30.896Z"
   },
   {
    "duration": 211,
    "start_time": "2022-08-14T10:35:35.598Z"
   },
   {
    "duration": 292,
    "start_time": "2022-08-14T10:35:39.368Z"
   },
   {
    "duration": 208,
    "start_time": "2022-08-14T10:35:43.198Z"
   },
   {
    "duration": 1255,
    "start_time": "2022-08-14T10:35:52.308Z"
   },
   {
    "duration": 134,
    "start_time": "2022-08-14T10:38:41.476Z"
   },
   {
    "duration": 49,
    "start_time": "2022-08-15T09:19:36.945Z"
   },
   {
    "duration": 1324,
    "start_time": "2022-08-15T09:20:06.484Z"
   },
   {
    "duration": 115,
    "start_time": "2022-08-15T09:20:07.810Z"
   },
   {
    "duration": 33,
    "start_time": "2022-08-15T09:20:07.927Z"
   },
   {
    "duration": 20,
    "start_time": "2022-08-15T09:20:07.963Z"
   },
   {
    "duration": 17,
    "start_time": "2022-08-15T09:20:07.984Z"
   },
   {
    "duration": 5,
    "start_time": "2022-08-15T09:20:08.002Z"
   },
   {
    "duration": 15,
    "start_time": "2022-08-15T09:20:08.008Z"
   },
   {
    "duration": 26,
    "start_time": "2022-08-15T09:20:08.025Z"
   },
   {
    "duration": 34,
    "start_time": "2022-08-15T09:20:08.053Z"
   },
   {
    "duration": 16,
    "start_time": "2022-08-15T09:20:08.091Z"
   },
   {
    "duration": 18,
    "start_time": "2022-08-15T09:20:08.109Z"
   },
   {
    "duration": 11,
    "start_time": "2022-08-15T09:20:08.129Z"
   },
   {
    "duration": 19,
    "start_time": "2022-08-15T09:20:08.142Z"
   },
   {
    "duration": 31,
    "start_time": "2022-08-15T09:20:08.162Z"
   },
   {
    "duration": 19,
    "start_time": "2022-08-15T09:20:08.195Z"
   },
   {
    "duration": 15,
    "start_time": "2022-08-15T09:20:08.216Z"
   },
   {
    "duration": 11,
    "start_time": "2022-08-15T09:20:08.233Z"
   },
   {
    "duration": 18,
    "start_time": "2022-08-15T09:20:08.246Z"
   },
   {
    "duration": 22,
    "start_time": "2022-08-15T09:20:08.266Z"
   },
   {
    "duration": 20,
    "start_time": "2022-08-15T09:20:08.289Z"
   },
   {
    "duration": 15,
    "start_time": "2022-08-15T09:20:08.311Z"
   },
   {
    "duration": 31,
    "start_time": "2022-08-15T09:20:08.327Z"
   },
   {
    "duration": 10,
    "start_time": "2022-08-15T09:20:08.360Z"
   },
   {
    "duration": 19,
    "start_time": "2022-08-15T09:20:08.371Z"
   },
   {
    "duration": 55,
    "start_time": "2022-08-15T09:20:08.392Z"
   },
   {
    "duration": 16,
    "start_time": "2022-08-15T09:20:08.450Z"
   },
   {
    "duration": 20,
    "start_time": "2022-08-15T09:20:08.468Z"
   },
   {
    "duration": 175,
    "start_time": "2022-08-15T09:20:08.491Z"
   },
   {
    "duration": 35,
    "start_time": "2022-08-15T09:20:08.668Z"
   },
   {
    "duration": 288,
    "start_time": "2022-08-15T09:20:08.705Z"
   },
   {
    "duration": 301,
    "start_time": "2022-08-15T09:20:16.894Z"
   },
   {
    "duration": 298,
    "start_time": "2022-08-15T09:20:22.602Z"
   },
   {
    "duration": 344,
    "start_time": "2022-08-15T09:20:27.634Z"
   },
   {
    "duration": 203,
    "start_time": "2022-08-15T09:22:37.006Z"
   },
   {
    "duration": 120,
    "start_time": "2022-08-15T09:22:45.184Z"
   },
   {
    "duration": 138,
    "start_time": "2022-08-15T09:23:08.254Z"
   },
   {
    "duration": 46,
    "start_time": "2022-08-15T09:23:40.919Z"
   },
   {
    "duration": 119,
    "start_time": "2022-08-15T09:23:53.090Z"
   },
   {
    "duration": 292,
    "start_time": "2022-08-15T09:26:15.254Z"
   },
   {
    "duration": 116,
    "start_time": "2022-08-15T09:26:30.941Z"
   },
   {
    "duration": 111,
    "start_time": "2022-08-15T09:30:17.663Z"
   },
   {
    "duration": 98,
    "start_time": "2022-08-15T09:30:42.284Z"
   },
   {
    "duration": 16,
    "start_time": "2022-08-15T09:38:02.138Z"
   },
   {
    "duration": 114,
    "start_time": "2022-08-15T09:47:20.000Z"
   },
   {
    "duration": 27,
    "start_time": "2022-08-15T09:49:04.661Z"
   },
   {
    "duration": 23,
    "start_time": "2022-08-15T09:49:52.206Z"
   },
   {
    "duration": 1141,
    "start_time": "2022-08-15T09:50:03.617Z"
   },
   {
    "duration": 53,
    "start_time": "2022-08-15T09:50:04.760Z"
   },
   {
    "duration": 24,
    "start_time": "2022-08-15T09:50:04.815Z"
   },
   {
    "duration": 19,
    "start_time": "2022-08-15T09:50:04.841Z"
   },
   {
    "duration": 29,
    "start_time": "2022-08-15T09:50:04.862Z"
   },
   {
    "duration": 4,
    "start_time": "2022-08-15T09:50:04.893Z"
   },
   {
    "duration": 14,
    "start_time": "2022-08-15T09:50:04.899Z"
   },
   {
    "duration": 30,
    "start_time": "2022-08-15T09:50:04.914Z"
   },
   {
    "duration": 10,
    "start_time": "2022-08-15T09:50:04.945Z"
   },
   {
    "duration": 31,
    "start_time": "2022-08-15T09:50:04.956Z"
   },
   {
    "duration": 12,
    "start_time": "2022-08-15T09:50:04.989Z"
   },
   {
    "duration": 10,
    "start_time": "2022-08-15T09:50:05.002Z"
   },
   {
    "duration": 16,
    "start_time": "2022-08-15T09:50:05.013Z"
   },
   {
    "duration": 10,
    "start_time": "2022-08-15T09:50:05.032Z"
   },
   {
    "duration": 9,
    "start_time": "2022-08-15T09:50:05.044Z"
   },
   {
    "duration": 42,
    "start_time": "2022-08-15T09:50:05.055Z"
   },
   {
    "duration": 12,
    "start_time": "2022-08-15T09:50:05.099Z"
   },
   {
    "duration": 14,
    "start_time": "2022-08-15T09:50:05.112Z"
   },
   {
    "duration": 8,
    "start_time": "2022-08-15T09:50:05.128Z"
   },
   {
    "duration": 15,
    "start_time": "2022-08-15T09:50:05.138Z"
   },
   {
    "duration": 34,
    "start_time": "2022-08-15T09:50:05.154Z"
   },
   {
    "duration": 19,
    "start_time": "2022-08-15T09:50:05.189Z"
   },
   {
    "duration": 9,
    "start_time": "2022-08-15T09:50:05.210Z"
   },
   {
    "duration": 23,
    "start_time": "2022-08-15T09:50:05.221Z"
   },
   {
    "duration": 46,
    "start_time": "2022-08-15T09:50:05.246Z"
   },
   {
    "duration": 16,
    "start_time": "2022-08-15T09:50:05.297Z"
   },
   {
    "duration": 13,
    "start_time": "2022-08-15T09:50:05.315Z"
   },
   {
    "duration": 181,
    "start_time": "2022-08-15T09:50:05.330Z"
   },
   {
    "duration": 16,
    "start_time": "2022-08-15T09:50:05.512Z"
   },
   {
    "duration": 130,
    "start_time": "2022-08-15T09:50:05.530Z"
   },
   {
    "duration": 16,
    "start_time": "2022-08-15T09:51:18.276Z"
   },
   {
    "duration": 22,
    "start_time": "2022-08-15T09:51:25.270Z"
   },
   {
    "duration": 21,
    "start_time": "2022-08-15T09:51:36.664Z"
   },
   {
    "duration": 12,
    "start_time": "2022-08-15T09:57:26.351Z"
   },
   {
    "duration": 17,
    "start_time": "2022-08-15T09:57:46.762Z"
   },
   {
    "duration": 24,
    "start_time": "2022-08-15T09:58:08.642Z"
   },
   {
    "duration": 20,
    "start_time": "2022-08-15T09:59:20.658Z"
   },
   {
    "duration": 126,
    "start_time": "2022-08-15T09:59:46.274Z"
   },
   {
    "duration": 10,
    "start_time": "2022-08-15T10:01:17.824Z"
   },
   {
    "duration": 107,
    "start_time": "2022-08-15T10:01:30.510Z"
   },
   {
    "duration": 20,
    "start_time": "2022-08-15T10:01:44.058Z"
   },
   {
    "duration": 111,
    "start_time": "2022-08-15T10:22:17.216Z"
   },
   {
    "duration": 100,
    "start_time": "2022-08-15T10:22:30.599Z"
   },
   {
    "duration": 108,
    "start_time": "2022-08-15T10:23:37.299Z"
   },
   {
    "duration": 76,
    "start_time": "2022-08-15T10:23:52.960Z"
   },
   {
    "duration": 103,
    "start_time": "2022-08-15T10:24:02.519Z"
   },
   {
    "duration": 20,
    "start_time": "2022-08-15T10:35:41.198Z"
   },
   {
    "duration": 11,
    "start_time": "2022-08-15T10:46:22.709Z"
   },
   {
    "duration": 98,
    "start_time": "2022-08-15T10:46:32.813Z"
   },
   {
    "duration": 15,
    "start_time": "2022-08-15T10:46:46.764Z"
   },
   {
    "duration": 11,
    "start_time": "2022-08-15T10:47:07.480Z"
   },
   {
    "duration": 1132,
    "start_time": "2022-08-15T10:48:16.138Z"
   },
   {
    "duration": 1170,
    "start_time": "2022-08-15T10:48:35.069Z"
   },
   {
    "duration": 15,
    "start_time": "2022-08-15T10:49:14.251Z"
   },
   {
    "duration": 101,
    "start_time": "2022-08-15T10:49:30.754Z"
   },
   {
    "duration": 18,
    "start_time": "2022-08-15T10:49:38.380Z"
   },
   {
    "duration": 146,
    "start_time": "2022-08-15T10:50:10.025Z"
   },
   {
    "duration": 220,
    "start_time": "2022-08-15T10:50:14.690Z"
   },
   {
    "duration": 36,
    "start_time": "2022-08-15T10:54:02.480Z"
   },
   {
    "duration": 9,
    "start_time": "2022-08-15T10:54:14.196Z"
   },
   {
    "duration": 34,
    "start_time": "2022-08-15T10:55:39.693Z"
   },
   {
    "duration": 144,
    "start_time": "2022-08-15T10:56:05.852Z"
   },
   {
    "duration": 6,
    "start_time": "2022-08-15T10:56:16.754Z"
   },
   {
    "duration": 45,
    "start_time": "2022-08-15T10:57:27.070Z"
   },
   {
    "duration": 123,
    "start_time": "2022-08-15T10:57:35.043Z"
   },
   {
    "duration": 52,
    "start_time": "2022-08-15T11:09:14.462Z"
   },
   {
    "duration": 71,
    "start_time": "2022-08-15T11:09:20.848Z"
   },
   {
    "duration": 145,
    "start_time": "2022-08-15T11:09:34.390Z"
   },
   {
    "duration": 5,
    "start_time": "2022-08-15T11:09:47.949Z"
   },
   {
    "duration": 163,
    "start_time": "2022-08-15T11:34:18.594Z"
   },
   {
    "duration": 5,
    "start_time": "2022-08-15T11:34:21.355Z"
   },
   {
    "duration": 168,
    "start_time": "2022-08-15T11:44:12.334Z"
   },
   {
    "duration": 7,
    "start_time": "2022-08-15T11:44:15.973Z"
   },
   {
    "duration": 148,
    "start_time": "2022-08-15T11:44:22.263Z"
   },
   {
    "duration": 5,
    "start_time": "2022-08-15T11:44:24.902Z"
   },
   {
    "duration": 154,
    "start_time": "2022-08-15T11:46:16.876Z"
   },
   {
    "duration": 5,
    "start_time": "2022-08-15T11:46:20.139Z"
   },
   {
    "duration": 160,
    "start_time": "2022-08-15T11:46:24.117Z"
   },
   {
    "duration": 7,
    "start_time": "2022-08-15T11:46:26.727Z"
   },
   {
    "duration": 15,
    "start_time": "2022-08-15T12:10:58.767Z"
   },
   {
    "duration": 11,
    "start_time": "2022-08-15T12:12:55.911Z"
   },
   {
    "duration": 26,
    "start_time": "2022-08-15T12:13:09.183Z"
   },
   {
    "duration": 0,
    "start_time": "2022-08-15T12:17:01.159Z"
   },
   {
    "duration": 159,
    "start_time": "2022-08-15T12:17:17.783Z"
   },
   {
    "duration": 298,
    "start_time": "2022-08-15T12:17:20.568Z"
   },
   {
    "duration": 140,
    "start_time": "2022-08-15T12:18:22.417Z"
   },
   {
    "duration": 6,
    "start_time": "2022-08-15T12:21:42.407Z"
   },
   {
    "duration": 5,
    "start_time": "2022-08-15T12:21:55.034Z"
   },
   {
    "duration": 11,
    "start_time": "2022-08-15T13:08:19.825Z"
   },
   {
    "duration": 16,
    "start_time": "2022-08-15T13:08:36.607Z"
   },
   {
    "duration": 1169,
    "start_time": "2022-08-15T13:09:14.121Z"
   },
   {
    "duration": 58,
    "start_time": "2022-08-15T13:09:15.292Z"
   },
   {
    "duration": 24,
    "start_time": "2022-08-15T13:09:15.351Z"
   },
   {
    "duration": 15,
    "start_time": "2022-08-15T13:09:15.376Z"
   },
   {
    "duration": 15,
    "start_time": "2022-08-15T13:09:15.393Z"
   },
   {
    "duration": 4,
    "start_time": "2022-08-15T13:09:15.410Z"
   },
   {
    "duration": 17,
    "start_time": "2022-08-15T13:09:15.415Z"
   },
   {
    "duration": 29,
    "start_time": "2022-08-15T13:09:15.433Z"
   },
   {
    "duration": 10,
    "start_time": "2022-08-15T13:09:15.463Z"
   },
   {
    "duration": 11,
    "start_time": "2022-08-15T13:09:15.487Z"
   },
   {
    "duration": 13,
    "start_time": "2022-08-15T13:09:15.499Z"
   },
   {
    "duration": 9,
    "start_time": "2022-08-15T13:09:15.514Z"
   },
   {
    "duration": 14,
    "start_time": "2022-08-15T13:09:15.524Z"
   },
   {
    "duration": 10,
    "start_time": "2022-08-15T13:09:15.541Z"
   },
   {
    "duration": 39,
    "start_time": "2022-08-15T13:09:15.552Z"
   },
   {
    "duration": 15,
    "start_time": "2022-08-15T13:09:15.593Z"
   },
   {
    "duration": 10,
    "start_time": "2022-08-15T13:09:15.609Z"
   },
   {
    "duration": 5,
    "start_time": "2022-08-15T13:09:15.621Z"
   },
   {
    "duration": 5,
    "start_time": "2022-08-15T13:09:15.627Z"
   },
   {
    "duration": 10,
    "start_time": "2022-08-15T13:09:15.633Z"
   },
   {
    "duration": 49,
    "start_time": "2022-08-15T13:09:15.644Z"
   },
   {
    "duration": 19,
    "start_time": "2022-08-15T13:09:15.695Z"
   },
   {
    "duration": 9,
    "start_time": "2022-08-15T13:09:15.716Z"
   },
   {
    "duration": 15,
    "start_time": "2022-08-15T13:09:15.726Z"
   },
   {
    "duration": 51,
    "start_time": "2022-08-15T13:09:15.743Z"
   },
   {
    "duration": 14,
    "start_time": "2022-08-15T13:09:15.796Z"
   },
   {
    "duration": 13,
    "start_time": "2022-08-15T13:09:15.811Z"
   },
   {
    "duration": 189,
    "start_time": "2022-08-15T13:09:15.826Z"
   },
   {
    "duration": 16,
    "start_time": "2022-08-15T13:09:16.018Z"
   },
   {
    "duration": 119,
    "start_time": "2022-08-15T13:09:16.036Z"
   },
   {
    "duration": 19,
    "start_time": "2022-08-15T13:09:16.156Z"
   },
   {
    "duration": 166,
    "start_time": "2022-08-15T13:09:16.187Z"
   },
   {
    "duration": 6,
    "start_time": "2022-08-15T13:09:16.355Z"
   },
   {
    "duration": 192,
    "start_time": "2022-08-15T13:09:16.363Z"
   },
   {
    "duration": 9,
    "start_time": "2022-08-15T13:09:16.557Z"
   },
   {
    "duration": 169,
    "start_time": "2022-08-15T13:09:16.567Z"
   },
   {
    "duration": 5,
    "start_time": "2022-08-15T13:09:16.737Z"
   },
   {
    "duration": 144,
    "start_time": "2022-08-15T13:09:16.744Z"
   },
   {
    "duration": 6,
    "start_time": "2022-08-15T13:09:16.889Z"
   },
   {
    "duration": 156,
    "start_time": "2022-08-15T13:09:16.897Z"
   },
   {
    "duration": 5,
    "start_time": "2022-08-15T13:09:17.056Z"
   },
   {
    "duration": 151,
    "start_time": "2022-08-15T13:09:17.063Z"
   },
   {
    "duration": 4,
    "start_time": "2022-08-15T13:09:17.216Z"
   },
   {
    "duration": 18,
    "start_time": "2022-08-15T13:09:17.221Z"
   },
   {
    "duration": 9,
    "start_time": "2022-08-15T13:09:17.240Z"
   },
   {
    "duration": 11,
    "start_time": "2022-08-15T13:11:02.327Z"
   },
   {
    "duration": 8,
    "start_time": "2022-08-15T13:15:36.419Z"
   },
   {
    "duration": 1138,
    "start_time": "2022-08-15T13:16:17.340Z"
   },
   {
    "duration": 56,
    "start_time": "2022-08-15T13:16:18.479Z"
   },
   {
    "duration": 24,
    "start_time": "2022-08-15T13:16:18.536Z"
   },
   {
    "duration": 13,
    "start_time": "2022-08-15T13:16:18.562Z"
   },
   {
    "duration": 16,
    "start_time": "2022-08-15T13:16:18.577Z"
   },
   {
    "duration": 5,
    "start_time": "2022-08-15T13:16:18.595Z"
   },
   {
    "duration": 8,
    "start_time": "2022-08-15T13:16:18.601Z"
   },
   {
    "duration": 25,
    "start_time": "2022-08-15T13:16:18.611Z"
   },
   {
    "duration": 9,
    "start_time": "2022-08-15T13:16:18.637Z"
   },
   {
    "duration": 38,
    "start_time": "2022-08-15T13:16:18.649Z"
   },
   {
    "duration": 12,
    "start_time": "2022-08-15T13:16:18.689Z"
   },
   {
    "duration": 10,
    "start_time": "2022-08-15T13:16:18.703Z"
   },
   {
    "duration": 13,
    "start_time": "2022-08-15T13:16:18.714Z"
   },
   {
    "duration": 9,
    "start_time": "2022-08-15T13:16:18.729Z"
   },
   {
    "duration": 9,
    "start_time": "2022-08-15T13:16:18.740Z"
   },
   {
    "duration": 42,
    "start_time": "2022-08-15T13:16:18.750Z"
   },
   {
    "duration": 9,
    "start_time": "2022-08-15T13:16:18.794Z"
   },
   {
    "duration": 5,
    "start_time": "2022-08-15T13:16:18.805Z"
   },
   {
    "duration": 6,
    "start_time": "2022-08-15T13:16:18.811Z"
   },
   {
    "duration": 8,
    "start_time": "2022-08-15T13:16:18.819Z"
   },
   {
    "duration": 11,
    "start_time": "2022-08-15T13:16:18.829Z"
   },
   {
    "duration": 56,
    "start_time": "2022-08-15T13:16:18.841Z"
   },
   {
    "duration": 9,
    "start_time": "2022-08-15T13:16:18.898Z"
   },
   {
    "duration": 13,
    "start_time": "2022-08-15T13:16:18.909Z"
   },
   {
    "duration": 28,
    "start_time": "2022-08-15T13:16:18.923Z"
   },
   {
    "duration": 35,
    "start_time": "2022-08-15T13:16:18.953Z"
   },
   {
    "duration": 16,
    "start_time": "2022-08-15T13:16:18.990Z"
   },
   {
    "duration": 179,
    "start_time": "2022-08-15T13:16:19.009Z"
   },
   {
    "duration": 15,
    "start_time": "2022-08-15T13:16:19.190Z"
   },
   {
    "duration": 111,
    "start_time": "2022-08-15T13:16:19.206Z"
   },
   {
    "duration": 19,
    "start_time": "2022-08-15T13:16:19.318Z"
   },
   {
    "duration": 155,
    "start_time": "2022-08-15T13:16:19.338Z"
   },
   {
    "duration": 5,
    "start_time": "2022-08-15T13:16:19.495Z"
   },
   {
    "duration": 158,
    "start_time": "2022-08-15T13:16:19.502Z"
   },
   {
    "duration": 6,
    "start_time": "2022-08-15T13:16:19.662Z"
   },
   {
    "duration": 171,
    "start_time": "2022-08-15T13:16:19.669Z"
   },
   {
    "duration": 5,
    "start_time": "2022-08-15T13:16:19.841Z"
   },
   {
    "duration": 144,
    "start_time": "2022-08-15T13:16:19.847Z"
   },
   {
    "duration": 5,
    "start_time": "2022-08-15T13:16:19.992Z"
   },
   {
    "duration": 169,
    "start_time": "2022-08-15T13:16:19.999Z"
   },
   {
    "duration": 6,
    "start_time": "2022-08-15T13:16:20.170Z"
   },
   {
    "duration": 150,
    "start_time": "2022-08-15T13:16:20.186Z"
   },
   {
    "duration": 6,
    "start_time": "2022-08-15T13:16:20.338Z"
   },
   {
    "duration": 18,
    "start_time": "2022-08-15T13:16:20.346Z"
   },
   {
    "duration": 24,
    "start_time": "2022-08-15T13:16:20.366Z"
   },
   {
    "duration": 9,
    "start_time": "2022-08-15T13:16:20.392Z"
   },
   {
    "duration": 91,
    "start_time": "2022-08-15T13:16:20.402Z"
   },
   {
    "duration": 56,
    "start_time": "2022-08-15T13:58:40.661Z"
   },
   {
    "duration": 1217,
    "start_time": "2022-08-15T14:00:03.486Z"
   },
   {
    "duration": 61,
    "start_time": "2022-08-15T14:00:04.705Z"
   },
   {
    "duration": 28,
    "start_time": "2022-08-15T14:00:04.768Z"
   },
   {
    "duration": 17,
    "start_time": "2022-08-15T14:00:04.797Z"
   },
   {
    "duration": 31,
    "start_time": "2022-08-15T14:00:04.816Z"
   },
   {
    "duration": 13,
    "start_time": "2022-08-15T14:00:04.848Z"
   },
   {
    "duration": 21,
    "start_time": "2022-08-15T14:00:04.864Z"
   },
   {
    "duration": 47,
    "start_time": "2022-08-15T14:00:04.887Z"
   },
   {
    "duration": 10,
    "start_time": "2022-08-15T14:00:04.936Z"
   },
   {
    "duration": 19,
    "start_time": "2022-08-15T14:00:04.947Z"
   },
   {
    "duration": 11,
    "start_time": "2022-08-15T14:00:04.968Z"
   },
   {
    "duration": 9,
    "start_time": "2022-08-15T14:00:04.981Z"
   },
   {
    "duration": 14,
    "start_time": "2022-08-15T14:00:04.991Z"
   },
   {
    "duration": 10,
    "start_time": "2022-08-15T14:00:05.009Z"
   },
   {
    "duration": 11,
    "start_time": "2022-08-15T14:00:05.021Z"
   },
   {
    "duration": 10,
    "start_time": "2022-08-15T14:00:05.034Z"
   },
   {
    "duration": 44,
    "start_time": "2022-08-15T14:00:05.045Z"
   },
   {
    "duration": 6,
    "start_time": "2022-08-15T14:00:05.090Z"
   },
   {
    "duration": 22,
    "start_time": "2022-08-15T14:00:05.097Z"
   },
   {
    "duration": 14,
    "start_time": "2022-08-15T14:00:05.121Z"
   },
   {
    "duration": 11,
    "start_time": "2022-08-15T14:00:05.136Z"
   },
   {
    "duration": 25,
    "start_time": "2022-08-15T14:00:05.149Z"
   },
   {
    "duration": 12,
    "start_time": "2022-08-15T14:00:05.176Z"
   },
   {
    "duration": 15,
    "start_time": "2022-08-15T14:00:05.189Z"
   },
   {
    "duration": 27,
    "start_time": "2022-08-15T14:00:05.206Z"
   },
   {
    "duration": 14,
    "start_time": "2022-08-15T14:00:05.235Z"
   },
   {
    "duration": 44,
    "start_time": "2022-08-15T14:00:05.251Z"
   },
   {
    "duration": 174,
    "start_time": "2022-08-15T14:00:05.296Z"
   },
   {
    "duration": 23,
    "start_time": "2022-08-15T14:00:05.471Z"
   },
   {
    "duration": 112,
    "start_time": "2022-08-15T14:00:05.495Z"
   },
   {
    "duration": 22,
    "start_time": "2022-08-15T14:00:05.608Z"
   },
   {
    "duration": 155,
    "start_time": "2022-08-15T14:00:05.631Z"
   },
   {
    "duration": 5,
    "start_time": "2022-08-15T14:00:05.788Z"
   },
   {
    "duration": 149,
    "start_time": "2022-08-15T14:00:05.795Z"
   },
   {
    "duration": 5,
    "start_time": "2022-08-15T14:00:05.946Z"
   },
   {
    "duration": 174,
    "start_time": "2022-08-15T14:00:05.952Z"
   },
   {
    "duration": 5,
    "start_time": "2022-08-15T14:00:06.128Z"
   },
   {
    "duration": 173,
    "start_time": "2022-08-15T14:00:06.135Z"
   },
   {
    "duration": 6,
    "start_time": "2022-08-15T14:00:06.310Z"
   },
   {
    "duration": 188,
    "start_time": "2022-08-15T14:00:06.318Z"
   },
   {
    "duration": 5,
    "start_time": "2022-08-15T14:00:06.509Z"
   },
   {
    "duration": 176,
    "start_time": "2022-08-15T14:00:06.515Z"
   },
   {
    "duration": 5,
    "start_time": "2022-08-15T14:00:06.693Z"
   },
   {
    "duration": 23,
    "start_time": "2022-08-15T14:00:06.699Z"
   },
   {
    "duration": 26,
    "start_time": "2022-08-15T14:00:45.661Z"
   },
   {
    "duration": 10,
    "start_time": "2022-08-15T14:00:45.688Z"
   },
   {
    "duration": 11,
    "start_time": "2022-08-15T14:00:45.700Z"
   },
   {
    "duration": 1166,
    "start_time": "2022-08-15T14:01:28.006Z"
   },
   {
    "duration": 54,
    "start_time": "2022-08-15T14:01:29.174Z"
   },
   {
    "duration": 22,
    "start_time": "2022-08-15T14:01:29.230Z"
   },
   {
    "duration": 21,
    "start_time": "2022-08-15T14:01:29.257Z"
   },
   {
    "duration": 15,
    "start_time": "2022-08-15T14:01:29.279Z"
   },
   {
    "duration": 4,
    "start_time": "2022-08-15T14:01:29.296Z"
   },
   {
    "duration": 6,
    "start_time": "2022-08-15T14:01:29.301Z"
   },
   {
    "duration": 24,
    "start_time": "2022-08-15T14:01:29.309Z"
   },
   {
    "duration": 9,
    "start_time": "2022-08-15T14:01:29.334Z"
   },
   {
    "duration": 11,
    "start_time": "2022-08-15T14:01:29.344Z"
   },
   {
    "duration": 40,
    "start_time": "2022-08-15T14:01:29.357Z"
   },
   {
    "duration": 9,
    "start_time": "2022-08-15T14:01:29.399Z"
   },
   {
    "duration": 14,
    "start_time": "2022-08-15T14:01:29.410Z"
   },
   {
    "duration": 14,
    "start_time": "2022-08-15T14:01:29.427Z"
   },
   {
    "duration": 13,
    "start_time": "2022-08-15T14:01:29.442Z"
   },
   {
    "duration": 12,
    "start_time": "2022-08-15T14:01:29.456Z"
   },
   {
    "duration": 23,
    "start_time": "2022-08-15T14:01:29.469Z"
   },
   {
    "duration": 5,
    "start_time": "2022-08-15T14:01:29.493Z"
   },
   {
    "duration": 13,
    "start_time": "2022-08-15T14:01:29.499Z"
   },
   {
    "duration": 13,
    "start_time": "2022-08-15T14:01:29.513Z"
   },
   {
    "duration": 17,
    "start_time": "2022-08-15T14:01:29.527Z"
   },
   {
    "duration": 27,
    "start_time": "2022-08-15T14:01:29.546Z"
   },
   {
    "duration": 13,
    "start_time": "2022-08-15T14:01:29.575Z"
   },
   {
    "duration": 12,
    "start_time": "2022-08-15T14:01:29.589Z"
   },
   {
    "duration": 23,
    "start_time": "2022-08-15T14:01:29.602Z"
   },
   {
    "duration": 14,
    "start_time": "2022-08-15T14:01:29.627Z"
   },
   {
    "duration": 47,
    "start_time": "2022-08-15T14:01:29.643Z"
   },
   {
    "duration": 167,
    "start_time": "2022-08-15T14:01:29.693Z"
   },
   {
    "duration": 26,
    "start_time": "2022-08-15T14:01:29.862Z"
   },
   {
    "duration": 103,
    "start_time": "2022-08-15T14:01:29.889Z"
   },
   {
    "duration": 20,
    "start_time": "2022-08-15T14:01:29.994Z"
   },
   {
    "duration": 152,
    "start_time": "2022-08-15T14:01:30.015Z"
   },
   {
    "duration": 5,
    "start_time": "2022-08-15T14:01:30.169Z"
   },
   {
    "duration": 152,
    "start_time": "2022-08-15T14:01:30.176Z"
   },
   {
    "duration": 5,
    "start_time": "2022-08-15T14:01:30.330Z"
   },
   {
    "duration": 153,
    "start_time": "2022-08-15T14:01:30.336Z"
   },
   {
    "duration": 4,
    "start_time": "2022-08-15T14:01:30.491Z"
   },
   {
    "duration": 145,
    "start_time": "2022-08-15T14:01:30.497Z"
   },
   {
    "duration": 5,
    "start_time": "2022-08-15T14:01:30.643Z"
   },
   {
    "duration": 164,
    "start_time": "2022-08-15T14:01:30.650Z"
   },
   {
    "duration": 5,
    "start_time": "2022-08-15T14:01:30.818Z"
   },
   {
    "duration": 170,
    "start_time": "2022-08-15T14:01:30.824Z"
   },
   {
    "duration": 6,
    "start_time": "2022-08-15T14:01:30.995Z"
   },
   {
    "duration": 29,
    "start_time": "2022-08-15T14:01:31.002Z"
   },
   {
    "duration": 38,
    "start_time": "2022-08-15T14:01:31.033Z"
   },
   {
    "duration": 16,
    "start_time": "2022-08-15T14:01:31.073Z"
   },
   {
    "duration": 87,
    "start_time": "2022-08-15T14:01:31.090Z"
   },
   {
    "duration": 22,
    "start_time": "2022-08-15T14:01:31.178Z"
   },
   {
    "duration": 21,
    "start_time": "2022-08-15T14:02:50.959Z"
   },
   {
    "duration": 25,
    "start_time": "2022-08-15T14:04:23.922Z"
   },
   {
    "duration": 22,
    "start_time": "2022-08-15T14:04:26.131Z"
   },
   {
    "duration": 22,
    "start_time": "2022-08-15T14:12:41.871Z"
   },
   {
    "duration": 29,
    "start_time": "2022-08-15T14:13:03.272Z"
   },
   {
    "duration": 105,
    "start_time": "2022-08-15T14:16:22.987Z"
   },
   {
    "duration": 23,
    "start_time": "2022-08-15T14:16:41.152Z"
   },
   {
    "duration": 20,
    "start_time": "2022-08-15T14:19:18.714Z"
   },
   {
    "duration": 21,
    "start_time": "2022-08-15T14:19:30.409Z"
   },
   {
    "duration": 18,
    "start_time": "2022-08-15T14:20:41.644Z"
   },
   {
    "duration": 97,
    "start_time": "2022-08-15T14:21:00.257Z"
   },
   {
    "duration": 18,
    "start_time": "2022-08-15T14:21:08.240Z"
   },
   {
    "duration": 16,
    "start_time": "2022-08-15T14:21:20.767Z"
   },
   {
    "duration": 18,
    "start_time": "2022-08-15T14:22:00.512Z"
   },
   {
    "duration": 17,
    "start_time": "2022-08-15T14:22:27.553Z"
   },
   {
    "duration": 17,
    "start_time": "2022-08-15T14:22:45.870Z"
   },
   {
    "duration": 16,
    "start_time": "2022-08-15T14:49:48.785Z"
   },
   {
    "duration": 16,
    "start_time": "2022-08-15T14:49:50.938Z"
   },
   {
    "duration": 14,
    "start_time": "2022-08-15T14:49:53.200Z"
   },
   {
    "duration": 5,
    "start_time": "2022-08-15T15:17:07.684Z"
   },
   {
    "duration": 7,
    "start_time": "2022-08-15T15:17:18.857Z"
   },
   {
    "duration": 19,
    "start_time": "2022-08-15T15:18:24.100Z"
   },
   {
    "duration": 24,
    "start_time": "2022-08-15T15:18:26.369Z"
   },
   {
    "duration": 14,
    "start_time": "2022-08-15T15:18:28.858Z"
   },
   {
    "duration": 205,
    "start_time": "2022-08-15T15:21:44.476Z"
   },
   {
    "duration": 13,
    "start_time": "2022-08-15T16:14:40.099Z"
   },
   {
    "duration": 18,
    "start_time": "2022-08-15T16:14:50.815Z"
   },
   {
    "duration": 9,
    "start_time": "2022-08-15T16:16:20.240Z"
   },
   {
    "duration": 10,
    "start_time": "2022-08-15T16:32:48.977Z"
   },
   {
    "duration": 142,
    "start_time": "2022-08-15T17:46:58.552Z"
   },
   {
    "duration": 1110,
    "start_time": "2022-08-15T17:49:08.342Z"
   },
   {
    "duration": 56,
    "start_time": "2022-08-15T17:49:09.454Z"
   },
   {
    "duration": 24,
    "start_time": "2022-08-15T17:49:09.512Z"
   },
   {
    "duration": 14,
    "start_time": "2022-08-15T17:49:09.538Z"
   },
   {
    "duration": 38,
    "start_time": "2022-08-15T17:49:09.554Z"
   },
   {
    "duration": 6,
    "start_time": "2022-08-15T17:49:09.594Z"
   },
   {
    "duration": 10,
    "start_time": "2022-08-15T17:49:09.602Z"
   },
   {
    "duration": 24,
    "start_time": "2022-08-15T17:49:09.614Z"
   },
   {
    "duration": 11,
    "start_time": "2022-08-15T17:49:09.640Z"
   },
   {
    "duration": 39,
    "start_time": "2022-08-15T17:49:09.654Z"
   },
   {
    "duration": 17,
    "start_time": "2022-08-15T17:49:09.694Z"
   },
   {
    "duration": 13,
    "start_time": "2022-08-15T17:49:09.713Z"
   },
   {
    "duration": 13,
    "start_time": "2022-08-15T17:49:09.729Z"
   },
   {
    "duration": 13,
    "start_time": "2022-08-15T17:49:09.743Z"
   },
   {
    "duration": 10,
    "start_time": "2022-08-15T17:49:09.787Z"
   },
   {
    "duration": 11,
    "start_time": "2022-08-15T17:49:09.798Z"
   },
   {
    "duration": 9,
    "start_time": "2022-08-15T17:49:09.811Z"
   },
   {
    "duration": 5,
    "start_time": "2022-08-15T17:49:09.822Z"
   },
   {
    "duration": 5,
    "start_time": "2022-08-15T17:49:09.828Z"
   },
   {
    "duration": 11,
    "start_time": "2022-08-15T17:49:09.834Z"
   },
   {
    "duration": 48,
    "start_time": "2022-08-15T17:49:09.846Z"
   },
   {
    "duration": 25,
    "start_time": "2022-08-15T17:49:09.896Z"
   },
   {
    "duration": 9,
    "start_time": "2022-08-15T17:49:09.923Z"
   },
   {
    "duration": 10,
    "start_time": "2022-08-15T17:49:09.933Z"
   },
   {
    "duration": 46,
    "start_time": "2022-08-15T17:49:09.945Z"
   },
   {
    "duration": 15,
    "start_time": "2022-08-15T17:49:09.993Z"
   },
   {
    "duration": 18,
    "start_time": "2022-08-15T17:49:10.009Z"
   },
   {
    "duration": 193,
    "start_time": "2022-08-15T17:49:10.030Z"
   },
   {
    "duration": 17,
    "start_time": "2022-08-15T17:49:10.225Z"
   },
   {
    "duration": 129,
    "start_time": "2022-08-15T17:49:10.243Z"
   },
   {
    "duration": 26,
    "start_time": "2022-08-15T17:49:10.374Z"
   },
   {
    "duration": 156,
    "start_time": "2022-08-15T17:49:10.402Z"
   },
   {
    "duration": 5,
    "start_time": "2022-08-15T17:49:10.560Z"
   },
   {
    "duration": 155,
    "start_time": "2022-08-15T17:49:10.567Z"
   },
   {
    "duration": 5,
    "start_time": "2022-08-15T17:49:10.723Z"
   },
   {
    "duration": 158,
    "start_time": "2022-08-15T17:49:10.729Z"
   },
   {
    "duration": 4,
    "start_time": "2022-08-15T17:49:10.889Z"
   },
   {
    "duration": 143,
    "start_time": "2022-08-15T17:49:10.895Z"
   },
   {
    "duration": 4,
    "start_time": "2022-08-15T17:49:11.040Z"
   },
   {
    "duration": 147,
    "start_time": "2022-08-15T17:49:11.046Z"
   },
   {
    "duration": 5,
    "start_time": "2022-08-15T17:49:11.195Z"
   },
   {
    "duration": 161,
    "start_time": "2022-08-15T17:49:11.202Z"
   },
   {
    "duration": 6,
    "start_time": "2022-08-15T17:49:11.366Z"
   },
   {
    "duration": 24,
    "start_time": "2022-08-15T17:49:11.373Z"
   },
   {
    "duration": 15,
    "start_time": "2022-08-15T17:49:11.398Z"
   },
   {
    "duration": 14,
    "start_time": "2022-08-15T17:49:11.415Z"
   },
   {
    "duration": 15,
    "start_time": "2022-08-15T17:49:11.431Z"
   },
   {
    "duration": 46,
    "start_time": "2022-08-15T17:49:11.448Z"
   },
   {
    "duration": 16,
    "start_time": "2022-08-15T17:49:11.495Z"
   },
   {
    "duration": 100,
    "start_time": "2022-08-15T17:49:11.513Z"
   },
   {
    "duration": 15,
    "start_time": "2022-08-15T17:49:11.615Z"
   },
   {
    "duration": 13,
    "start_time": "2022-08-15T17:49:11.631Z"
   },
   {
    "duration": 14,
    "start_time": "2022-08-15T17:49:11.646Z"
   },
   {
    "duration": 6,
    "start_time": "2022-08-15T17:49:11.687Z"
   },
   {
    "duration": 12,
    "start_time": "2022-08-15T17:49:11.694Z"
   },
   {
    "duration": 11,
    "start_time": "2022-08-15T17:49:11.708Z"
   },
   {
    "duration": 1748,
    "start_time": "2022-08-15T18:18:13.893Z"
   },
   {
    "duration": 122,
    "start_time": "2022-08-15T18:18:15.643Z"
   },
   {
    "duration": 24,
    "start_time": "2022-08-15T18:18:15.766Z"
   },
   {
    "duration": 14,
    "start_time": "2022-08-15T18:18:15.791Z"
   },
   {
    "duration": 44,
    "start_time": "2022-08-15T18:18:15.807Z"
   },
   {
    "duration": 7,
    "start_time": "2022-08-15T18:18:15.853Z"
   },
   {
    "duration": 8,
    "start_time": "2022-08-15T18:18:15.862Z"
   },
   {
    "duration": 24,
    "start_time": "2022-08-15T18:18:15.871Z"
   },
   {
    "duration": 9,
    "start_time": "2022-08-15T18:18:15.896Z"
   },
   {
    "duration": 44,
    "start_time": "2022-08-15T18:18:15.906Z"
   },
   {
    "duration": 11,
    "start_time": "2022-08-15T18:18:15.952Z"
   },
   {
    "duration": 9,
    "start_time": "2022-08-15T18:18:15.964Z"
   },
   {
    "duration": 16,
    "start_time": "2022-08-15T18:18:15.974Z"
   },
   {
    "duration": 12,
    "start_time": "2022-08-15T18:18:15.993Z"
   },
   {
    "duration": 32,
    "start_time": "2022-08-15T18:18:16.006Z"
   },
   {
    "duration": 10,
    "start_time": "2022-08-15T18:18:16.053Z"
   },
   {
    "duration": 12,
    "start_time": "2022-08-15T18:18:16.065Z"
   },
   {
    "duration": 4,
    "start_time": "2022-08-15T18:18:16.078Z"
   },
   {
    "duration": 6,
    "start_time": "2022-08-15T18:18:16.084Z"
   },
   {
    "duration": 8,
    "start_time": "2022-08-15T18:18:16.091Z"
   },
   {
    "duration": 12,
    "start_time": "2022-08-15T18:18:16.100Z"
   },
   {
    "duration": 46,
    "start_time": "2022-08-15T18:18:16.126Z"
   },
   {
    "duration": 8,
    "start_time": "2022-08-15T18:18:16.174Z"
   },
   {
    "duration": 11,
    "start_time": "2022-08-15T18:18:16.184Z"
   },
   {
    "duration": 46,
    "start_time": "2022-08-15T18:18:16.196Z"
   },
   {
    "duration": 26,
    "start_time": "2022-08-15T18:18:16.243Z"
   },
   {
    "duration": 13,
    "start_time": "2022-08-15T18:18:16.271Z"
   },
   {
    "duration": 180,
    "start_time": "2022-08-15T18:18:16.286Z"
   },
   {
    "duration": 14,
    "start_time": "2022-08-15T18:18:16.468Z"
   },
   {
    "duration": 104,
    "start_time": "2022-08-15T18:18:16.484Z"
   },
   {
    "duration": 61,
    "start_time": "2022-08-15T18:18:16.589Z"
   },
   {
    "duration": 210,
    "start_time": "2022-08-15T18:18:16.651Z"
   },
   {
    "duration": 5,
    "start_time": "2022-08-15T18:18:16.863Z"
   },
   {
    "duration": 225,
    "start_time": "2022-08-15T18:18:16.870Z"
   },
   {
    "duration": 4,
    "start_time": "2022-08-15T18:18:17.097Z"
   },
   {
    "duration": 233,
    "start_time": "2022-08-15T18:18:17.102Z"
   },
   {
    "duration": 21,
    "start_time": "2022-08-15T18:18:17.337Z"
   },
   {
    "duration": 374,
    "start_time": "2022-08-15T18:18:17.360Z"
   },
   {
    "duration": 17,
    "start_time": "2022-08-15T18:18:17.736Z"
   },
   {
    "duration": 217,
    "start_time": "2022-08-15T18:18:17.757Z"
   },
   {
    "duration": 4,
    "start_time": "2022-08-15T18:18:17.978Z"
   },
   {
    "duration": 164,
    "start_time": "2022-08-15T18:18:17.984Z"
   },
   {
    "duration": 6,
    "start_time": "2022-08-15T18:18:18.150Z"
   },
   {
    "duration": 16,
    "start_time": "2022-08-15T18:18:18.158Z"
   },
   {
    "duration": 70,
    "start_time": "2022-08-15T18:18:18.175Z"
   },
   {
    "duration": 21,
    "start_time": "2022-08-15T18:18:18.248Z"
   },
   {
    "duration": 66,
    "start_time": "2022-08-15T18:18:18.271Z"
   },
   {
    "duration": 24,
    "start_time": "2022-08-15T18:18:18.339Z"
   },
   {
    "duration": 13,
    "start_time": "2022-08-15T18:18:18.364Z"
   },
   {
    "duration": 247,
    "start_time": "2022-08-15T18:18:18.378Z"
   },
   {
    "duration": 91,
    "start_time": "2022-08-15T18:18:18.627Z"
   },
   {
    "duration": 32,
    "start_time": "2022-08-15T18:18:18.720Z"
   },
   {
    "duration": 83,
    "start_time": "2022-08-15T18:18:18.754Z"
   },
   {
    "duration": 9,
    "start_time": "2022-08-15T18:18:18.840Z"
   },
   {
    "duration": 14,
    "start_time": "2022-08-15T18:18:18.851Z"
   },
   {
    "duration": 78,
    "start_time": "2022-08-15T18:18:18.867Z"
   },
   {
    "duration": 1897,
    "start_time": "2022-08-15T18:22:02.730Z"
   },
   {
    "duration": 100,
    "start_time": "2022-08-15T18:22:04.630Z"
   },
   {
    "duration": 78,
    "start_time": "2022-08-15T18:22:04.734Z"
   },
   {
    "duration": 23,
    "start_time": "2022-08-15T18:22:04.814Z"
   },
   {
    "duration": 37,
    "start_time": "2022-08-15T18:22:04.840Z"
   },
   {
    "duration": 13,
    "start_time": "2022-08-15T18:22:04.912Z"
   },
   {
    "duration": 46,
    "start_time": "2022-08-15T18:22:04.927Z"
   },
   {
    "duration": 74,
    "start_time": "2022-08-15T18:22:04.975Z"
   },
   {
    "duration": 15,
    "start_time": "2022-08-15T18:22:05.053Z"
   },
   {
    "duration": 87,
    "start_time": "2022-08-15T18:22:05.070Z"
   },
   {
    "duration": 83,
    "start_time": "2022-08-15T18:22:05.158Z"
   },
   {
    "duration": 17,
    "start_time": "2022-08-15T18:22:05.243Z"
   },
   {
    "duration": 82,
    "start_time": "2022-08-15T18:22:05.261Z"
   },
   {
    "duration": 16,
    "start_time": "2022-08-15T18:22:05.354Z"
   },
   {
    "duration": 53,
    "start_time": "2022-08-15T18:22:05.372Z"
   },
   {
    "duration": 19,
    "start_time": "2022-08-15T18:22:05.426Z"
   },
   {
    "duration": 17,
    "start_time": "2022-08-15T18:22:05.447Z"
   },
   {
    "duration": 9,
    "start_time": "2022-08-15T18:22:05.466Z"
   },
   {
    "duration": 12,
    "start_time": "2022-08-15T18:22:05.476Z"
   },
   {
    "duration": 7,
    "start_time": "2022-08-15T18:22:05.490Z"
   },
   {
    "duration": 53,
    "start_time": "2022-08-15T18:22:05.498Z"
   },
   {
    "duration": 13,
    "start_time": "2022-08-15T18:22:05.553Z"
   },
   {
    "duration": 14,
    "start_time": "2022-08-15T18:22:05.568Z"
   },
   {
    "duration": 21,
    "start_time": "2022-08-15T18:22:05.584Z"
   },
   {
    "duration": 16,
    "start_time": "2022-08-15T18:22:05.606Z"
   },
   {
    "duration": 60,
    "start_time": "2022-08-15T18:22:05.623Z"
   },
   {
    "duration": 61,
    "start_time": "2022-08-15T18:22:05.685Z"
   },
   {
    "duration": 15,
    "start_time": "2022-08-15T18:22:05.750Z"
   },
   {
    "duration": 12,
    "start_time": "2022-08-15T18:22:05.767Z"
   },
   {
    "duration": 197,
    "start_time": "2022-08-15T18:22:05.781Z"
   },
   {
    "duration": 16,
    "start_time": "2022-08-15T18:22:05.979Z"
   },
   {
    "duration": 126,
    "start_time": "2022-08-15T18:22:05.996Z"
   },
   {
    "duration": 29,
    "start_time": "2022-08-15T18:22:06.126Z"
   },
   {
    "duration": 169,
    "start_time": "2022-08-15T18:22:06.156Z"
   },
   {
    "duration": 16,
    "start_time": "2022-08-15T18:22:06.334Z"
   },
   {
    "duration": 144,
    "start_time": "2022-08-15T18:22:06.352Z"
   },
   {
    "duration": 4,
    "start_time": "2022-08-15T18:22:06.498Z"
   },
   {
    "duration": 162,
    "start_time": "2022-08-15T18:22:06.504Z"
   },
   {
    "duration": 5,
    "start_time": "2022-08-15T18:22:06.667Z"
   },
   {
    "duration": 166,
    "start_time": "2022-08-15T18:22:06.673Z"
   },
   {
    "duration": 5,
    "start_time": "2022-08-15T18:22:06.850Z"
   },
   {
    "duration": 185,
    "start_time": "2022-08-15T18:22:06.857Z"
   },
   {
    "duration": 9,
    "start_time": "2022-08-15T18:22:07.050Z"
   },
   {
    "duration": 158,
    "start_time": "2022-08-15T18:22:07.064Z"
   },
   {
    "duration": 20,
    "start_time": "2022-08-15T18:22:07.235Z"
   },
   {
    "duration": 18,
    "start_time": "2022-08-15T18:22:07.258Z"
   },
   {
    "duration": 14,
    "start_time": "2022-08-15T18:22:07.278Z"
   },
   {
    "duration": 14,
    "start_time": "2022-08-15T18:22:07.294Z"
   },
   {
    "duration": 36,
    "start_time": "2022-08-15T18:22:07.309Z"
   },
   {
    "duration": 25,
    "start_time": "2022-08-15T18:22:07.346Z"
   },
   {
    "duration": 13,
    "start_time": "2022-08-15T18:22:07.373Z"
   },
   {
    "duration": 97,
    "start_time": "2022-08-15T18:22:07.388Z"
   },
   {
    "duration": 17,
    "start_time": "2022-08-15T18:22:07.486Z"
   },
   {
    "duration": 38,
    "start_time": "2022-08-15T18:22:07.505Z"
   },
   {
    "duration": 28,
    "start_time": "2022-08-15T18:22:07.545Z"
   },
   {
    "duration": 6,
    "start_time": "2022-08-15T18:22:07.574Z"
   },
   {
    "duration": 17,
    "start_time": "2022-08-15T18:22:07.581Z"
   },
   {
    "duration": 65,
    "start_time": "2022-08-15T18:22:07.599Z"
   },
   {
    "duration": 2,
    "start_time": "2022-08-15T18:23:21.559Z"
   },
   {
    "duration": 13,
    "start_time": "2022-08-15T18:29:17.247Z"
   },
   {
    "duration": 2,
    "start_time": "2022-08-15T19:26:55.596Z"
   },
   {
    "duration": 1096,
    "start_time": "2022-08-15T19:43:40.259Z"
   },
   {
    "duration": 68,
    "start_time": "2022-08-15T19:43:41.357Z"
   },
   {
    "duration": 29,
    "start_time": "2022-08-15T19:43:41.446Z"
   },
   {
    "duration": 16,
    "start_time": "2022-08-15T19:43:41.476Z"
   },
   {
    "duration": 13,
    "start_time": "2022-08-15T19:43:41.494Z"
   },
   {
    "duration": 38,
    "start_time": "2022-08-15T19:43:41.508Z"
   },
   {
    "duration": 9,
    "start_time": "2022-08-15T19:43:41.548Z"
   },
   {
    "duration": 26,
    "start_time": "2022-08-15T19:43:41.558Z"
   },
   {
    "duration": 8,
    "start_time": "2022-08-15T19:43:41.585Z"
   },
   {
    "duration": 11,
    "start_time": "2022-08-15T19:43:41.595Z"
   },
   {
    "duration": 47,
    "start_time": "2022-08-15T19:43:41.607Z"
   },
   {
    "duration": 10,
    "start_time": "2022-08-15T19:43:41.656Z"
   },
   {
    "duration": 19,
    "start_time": "2022-08-15T19:43:41.668Z"
   },
   {
    "duration": 8,
    "start_time": "2022-08-15T19:43:41.690Z"
   },
   {
    "duration": 42,
    "start_time": "2022-08-15T19:43:41.699Z"
   },
   {
    "duration": 12,
    "start_time": "2022-08-15T19:43:41.746Z"
   },
   {
    "duration": 9,
    "start_time": "2022-08-15T19:43:41.759Z"
   },
   {
    "duration": 8,
    "start_time": "2022-08-15T19:43:41.769Z"
   },
   {
    "duration": 9,
    "start_time": "2022-08-15T19:43:41.778Z"
   },
   {
    "duration": 4,
    "start_time": "2022-08-15T19:43:41.788Z"
   },
   {
    "duration": 4,
    "start_time": "2022-08-15T19:43:41.794Z"
   },
   {
    "duration": 22,
    "start_time": "2022-08-15T19:43:41.799Z"
   },
   {
    "duration": 22,
    "start_time": "2022-08-15T19:43:41.822Z"
   },
   {
    "duration": 26,
    "start_time": "2022-08-15T19:43:41.845Z"
   },
   {
    "duration": 8,
    "start_time": "2022-08-15T19:43:41.873Z"
   },
   {
    "duration": 10,
    "start_time": "2022-08-15T19:43:41.883Z"
   },
   {
    "duration": 52,
    "start_time": "2022-08-15T19:43:41.894Z"
   },
   {
    "duration": 12,
    "start_time": "2022-08-15T19:43:41.947Z"
   },
   {
    "duration": 14,
    "start_time": "2022-08-15T19:43:41.961Z"
   },
   {
    "duration": 12,
    "start_time": "2022-08-15T19:43:41.977Z"
   },
   {
    "duration": 196,
    "start_time": "2022-08-15T19:43:41.991Z"
   },
   {
    "duration": 15,
    "start_time": "2022-08-15T19:43:42.189Z"
   },
   {
    "duration": 134,
    "start_time": "2022-08-15T19:43:42.205Z"
   },
   {
    "duration": 22,
    "start_time": "2022-08-15T19:43:42.347Z"
   },
   {
    "duration": 181,
    "start_time": "2022-08-15T19:43:42.370Z"
   },
   {
    "duration": 9,
    "start_time": "2022-08-15T19:43:42.556Z"
   },
   {
    "duration": 193,
    "start_time": "2022-08-15T19:43:42.568Z"
   },
   {
    "duration": 4,
    "start_time": "2022-08-15T19:43:42.763Z"
   },
   {
    "duration": 184,
    "start_time": "2022-08-15T19:43:42.769Z"
   },
   {
    "duration": 6,
    "start_time": "2022-08-15T19:43:42.955Z"
   },
   {
    "duration": 184,
    "start_time": "2022-08-15T19:43:42.965Z"
   },
   {
    "duration": 5,
    "start_time": "2022-08-15T19:43:43.151Z"
   },
   {
    "duration": 149,
    "start_time": "2022-08-15T19:43:43.157Z"
   },
   {
    "duration": 43,
    "start_time": "2022-08-15T19:43:43.307Z"
   },
   {
    "duration": 141,
    "start_time": "2022-08-15T19:43:43.352Z"
   },
   {
    "duration": 5,
    "start_time": "2022-08-15T19:43:43.494Z"
   },
   {
    "duration": 25,
    "start_time": "2022-08-15T19:43:43.500Z"
   },
   {
    "duration": 36,
    "start_time": "2022-08-15T19:43:43.526Z"
   },
   {
    "duration": 13,
    "start_time": "2022-08-15T19:43:43.563Z"
   },
   {
    "duration": 12,
    "start_time": "2022-08-15T19:43:43.578Z"
   },
   {
    "duration": 12,
    "start_time": "2022-08-15T19:43:43.592Z"
   },
   {
    "duration": 23,
    "start_time": "2022-08-15T19:43:43.610Z"
   },
   {
    "duration": 105,
    "start_time": "2022-08-15T19:43:43.634Z"
   },
   {
    "duration": 15,
    "start_time": "2022-08-15T19:43:43.740Z"
   },
   {
    "duration": 12,
    "start_time": "2022-08-15T19:43:43.757Z"
   },
   {
    "duration": 13,
    "start_time": "2022-08-15T19:43:43.770Z"
   },
   {
    "duration": 5,
    "start_time": "2022-08-15T19:43:43.785Z"
   },
   {
    "duration": 30,
    "start_time": "2022-08-15T19:43:43.792Z"
   },
   {
    "duration": 16,
    "start_time": "2022-08-15T19:43:43.830Z"
   },
   {
    "duration": 1126,
    "start_time": "2022-08-15T19:53:19.751Z"
   },
   {
    "duration": 71,
    "start_time": "2022-08-15T19:53:20.878Z"
   },
   {
    "duration": 24,
    "start_time": "2022-08-15T19:53:20.951Z"
   },
   {
    "duration": 13,
    "start_time": "2022-08-15T19:53:20.976Z"
   },
   {
    "duration": 49,
    "start_time": "2022-08-15T19:53:20.991Z"
   },
   {
    "duration": 5,
    "start_time": "2022-08-15T19:53:21.042Z"
   },
   {
    "duration": 9,
    "start_time": "2022-08-15T19:53:21.051Z"
   },
   {
    "duration": 24,
    "start_time": "2022-08-15T19:53:21.061Z"
   },
   {
    "duration": 9,
    "start_time": "2022-08-15T19:53:21.086Z"
   },
   {
    "duration": 21,
    "start_time": "2022-08-15T19:53:21.096Z"
   },
   {
    "duration": 42,
    "start_time": "2022-08-15T19:53:21.125Z"
   },
   {
    "duration": 11,
    "start_time": "2022-08-15T19:53:21.168Z"
   },
   {
    "duration": 21,
    "start_time": "2022-08-15T19:53:21.180Z"
   },
   {
    "duration": 39,
    "start_time": "2022-08-15T19:53:21.203Z"
   },
   {
    "duration": 10,
    "start_time": "2022-08-15T19:53:21.250Z"
   },
   {
    "duration": 10,
    "start_time": "2022-08-15T19:53:21.261Z"
   },
   {
    "duration": 8,
    "start_time": "2022-08-15T19:53:21.272Z"
   },
   {
    "duration": 8,
    "start_time": "2022-08-15T19:53:21.282Z"
   },
   {
    "duration": 8,
    "start_time": "2022-08-15T19:53:21.291Z"
   },
   {
    "duration": 6,
    "start_time": "2022-08-15T19:53:21.301Z"
   },
   {
    "duration": 21,
    "start_time": "2022-08-15T19:53:21.308Z"
   },
   {
    "duration": 26,
    "start_time": "2022-08-15T19:53:21.330Z"
   },
   {
    "duration": 11,
    "start_time": "2022-08-15T19:53:21.357Z"
   },
   {
    "duration": 15,
    "start_time": "2022-08-15T19:53:21.370Z"
   },
   {
    "duration": 9,
    "start_time": "2022-08-15T19:53:21.387Z"
   },
   {
    "duration": 45,
    "start_time": "2022-08-15T19:53:21.397Z"
   },
   {
    "duration": 24,
    "start_time": "2022-08-15T19:53:21.450Z"
   },
   {
    "duration": 14,
    "start_time": "2022-08-15T19:53:21.476Z"
   },
   {
    "duration": 13,
    "start_time": "2022-08-15T19:53:21.492Z"
   },
   {
    "duration": 40,
    "start_time": "2022-08-15T19:53:21.507Z"
   },
   {
    "duration": 170,
    "start_time": "2022-08-15T19:53:21.551Z"
   },
   {
    "duration": 23,
    "start_time": "2022-08-15T19:53:21.722Z"
   },
   {
    "duration": 106,
    "start_time": "2022-08-15T19:53:21.748Z"
   },
   {
    "duration": 18,
    "start_time": "2022-08-15T19:53:21.856Z"
   },
   {
    "duration": 170,
    "start_time": "2022-08-15T19:53:21.875Z"
   },
   {
    "duration": 6,
    "start_time": "2022-08-15T19:53:22.053Z"
   },
   {
    "duration": 136,
    "start_time": "2022-08-15T19:53:22.060Z"
   },
   {
    "duration": 5,
    "start_time": "2022-08-15T19:53:22.197Z"
   },
   {
    "duration": 158,
    "start_time": "2022-08-15T19:53:22.203Z"
   },
   {
    "duration": 4,
    "start_time": "2022-08-15T19:53:22.362Z"
   },
   {
    "duration": 159,
    "start_time": "2022-08-15T19:53:22.370Z"
   },
   {
    "duration": 6,
    "start_time": "2022-08-15T19:53:22.531Z"
   },
   {
    "duration": 186,
    "start_time": "2022-08-15T19:53:22.539Z"
   },
   {
    "duration": 11,
    "start_time": "2022-08-15T19:53:22.730Z"
   },
   {
    "duration": 190,
    "start_time": "2022-08-15T19:53:22.746Z"
   },
   {
    "duration": 10,
    "start_time": "2022-08-15T19:53:22.946Z"
   },
   {
    "duration": 19,
    "start_time": "2022-08-15T19:53:22.957Z"
   },
   {
    "duration": 15,
    "start_time": "2022-08-15T19:53:22.977Z"
   },
   {
    "duration": 51,
    "start_time": "2022-08-15T19:53:22.994Z"
   },
   {
    "duration": 26,
    "start_time": "2022-08-15T19:53:23.051Z"
   },
   {
    "duration": 16,
    "start_time": "2022-08-15T19:53:23.079Z"
   },
   {
    "duration": 20,
    "start_time": "2022-08-15T19:53:23.096Z"
   },
   {
    "duration": 83,
    "start_time": "2022-08-15T19:53:23.118Z"
   },
   {
    "duration": 41,
    "start_time": "2022-08-15T19:53:23.203Z"
   },
   {
    "duration": 15,
    "start_time": "2022-08-15T19:53:23.251Z"
   },
   {
    "duration": 12,
    "start_time": "2022-08-15T19:53:23.268Z"
   },
   {
    "duration": 4,
    "start_time": "2022-08-15T19:53:23.282Z"
   },
   {
    "duration": 8,
    "start_time": "2022-08-15T19:53:23.288Z"
   },
   {
    "duration": 8,
    "start_time": "2022-08-15T19:53:23.298Z"
   },
   {
    "duration": 62,
    "start_time": "2022-08-16T07:35:45.054Z"
   },
   {
    "duration": 1334,
    "start_time": "2022-08-16T07:35:57.386Z"
   },
   {
    "duration": 188,
    "start_time": "2022-08-16T07:35:58.722Z"
   },
   {
    "duration": 29,
    "start_time": "2022-08-16T07:35:58.912Z"
   },
   {
    "duration": 13,
    "start_time": "2022-08-16T07:35:58.944Z"
   },
   {
    "duration": 21,
    "start_time": "2022-08-16T07:35:58.959Z"
   },
   {
    "duration": 4,
    "start_time": "2022-08-16T07:35:58.981Z"
   },
   {
    "duration": 20,
    "start_time": "2022-08-16T07:35:58.987Z"
   },
   {
    "duration": 26,
    "start_time": "2022-08-16T07:35:59.008Z"
   },
   {
    "duration": 9,
    "start_time": "2022-08-16T07:35:59.035Z"
   },
   {
    "duration": 11,
    "start_time": "2022-08-16T07:35:59.046Z"
   },
   {
    "duration": 56,
    "start_time": "2022-08-16T07:35:59.059Z"
   },
   {
    "duration": 11,
    "start_time": "2022-08-16T07:35:59.116Z"
   },
   {
    "duration": 21,
    "start_time": "2022-08-16T07:35:59.129Z"
   },
   {
    "duration": 5,
    "start_time": "2022-08-16T07:35:59.151Z"
   },
   {
    "duration": 10,
    "start_time": "2022-08-16T07:35:59.158Z"
   },
   {
    "duration": 39,
    "start_time": "2022-08-16T07:35:59.169Z"
   },
   {
    "duration": 10,
    "start_time": "2022-08-16T07:35:59.210Z"
   },
   {
    "duration": 10,
    "start_time": "2022-08-16T07:35:59.222Z"
   },
   {
    "duration": 11,
    "start_time": "2022-08-16T07:35:59.233Z"
   },
   {
    "duration": 8,
    "start_time": "2022-08-16T07:35:59.246Z"
   },
   {
    "duration": 5,
    "start_time": "2022-08-16T07:35:59.256Z"
   },
   {
    "duration": 6,
    "start_time": "2022-08-16T07:35:59.262Z"
   },
   {
    "duration": 7,
    "start_time": "2022-08-16T07:35:59.306Z"
   },
   {
    "duration": 13,
    "start_time": "2022-08-16T07:35:59.315Z"
   },
   {
    "duration": 17,
    "start_time": "2022-08-16T07:35:59.330Z"
   },
   {
    "duration": 8,
    "start_time": "2022-08-16T07:35:59.349Z"
   },
   {
    "duration": 14,
    "start_time": "2022-08-16T07:35:59.359Z"
   },
   {
    "duration": 48,
    "start_time": "2022-08-16T07:35:59.376Z"
   },
   {
    "duration": 15,
    "start_time": "2022-08-16T07:35:59.426Z"
   },
   {
    "duration": 15,
    "start_time": "2022-08-16T07:35:59.443Z"
   },
   {
    "duration": 15,
    "start_time": "2022-08-16T07:35:59.460Z"
   },
   {
    "duration": 155,
    "start_time": "2022-08-16T07:35:59.506Z"
   },
   {
    "duration": 17,
    "start_time": "2022-08-16T07:35:59.662Z"
   },
   {
    "duration": 125,
    "start_time": "2022-08-16T07:35:59.681Z"
   },
   {
    "duration": 17,
    "start_time": "2022-08-16T07:35:59.807Z"
   },
   {
    "duration": 173,
    "start_time": "2022-08-16T07:35:59.826Z"
   },
   {
    "duration": 8,
    "start_time": "2022-08-16T07:36:00.001Z"
   },
   {
    "duration": 149,
    "start_time": "2022-08-16T07:36:00.011Z"
   },
   {
    "duration": 6,
    "start_time": "2022-08-16T07:36:00.161Z"
   },
   {
    "duration": 148,
    "start_time": "2022-08-16T07:36:00.168Z"
   },
   {
    "duration": 4,
    "start_time": "2022-08-16T07:36:00.318Z"
   },
   {
    "duration": 160,
    "start_time": "2022-08-16T07:36:00.324Z"
   },
   {
    "duration": 6,
    "start_time": "2022-08-16T07:36:00.486Z"
   },
   {
    "duration": 171,
    "start_time": "2022-08-16T07:36:00.493Z"
   },
   {
    "duration": 5,
    "start_time": "2022-08-16T07:36:00.666Z"
   },
   {
    "duration": 150,
    "start_time": "2022-08-16T07:36:00.673Z"
   },
   {
    "duration": 5,
    "start_time": "2022-08-16T07:36:00.825Z"
   },
   {
    "duration": 61,
    "start_time": "2022-08-16T07:36:00.831Z"
   },
   {
    "duration": 40,
    "start_time": "2022-08-16T07:36:00.893Z"
   },
   {
    "duration": 27,
    "start_time": "2022-08-16T07:36:00.935Z"
   },
   {
    "duration": 14,
    "start_time": "2022-08-16T07:36:00.964Z"
   },
   {
    "duration": 26,
    "start_time": "2022-08-16T07:36:00.980Z"
   },
   {
    "duration": 26,
    "start_time": "2022-08-16T07:36:01.008Z"
   },
   {
    "duration": 86,
    "start_time": "2022-08-16T07:36:01.036Z"
   },
   {
    "duration": 14,
    "start_time": "2022-08-16T07:36:01.123Z"
   },
   {
    "duration": 30,
    "start_time": "2022-08-16T07:36:01.139Z"
   },
   {
    "duration": 18,
    "start_time": "2022-08-16T07:36:01.171Z"
   },
   {
    "duration": 20,
    "start_time": "2022-08-16T07:36:01.191Z"
   },
   {
    "duration": 38,
    "start_time": "2022-08-16T07:36:01.212Z"
   },
   {
    "duration": 26,
    "start_time": "2022-08-16T07:36:01.251Z"
   },
   {
    "duration": 5,
    "start_time": "2022-08-16T07:38:58.214Z"
   },
   {
    "duration": 6,
    "start_time": "2022-08-16T07:39:31.376Z"
   },
   {
    "duration": 1064,
    "start_time": "2022-08-16T07:39:40.803Z"
   },
   {
    "duration": 49,
    "start_time": "2022-08-16T07:39:41.869Z"
   },
   {
    "duration": 23,
    "start_time": "2022-08-16T07:39:41.921Z"
   },
   {
    "duration": 40,
    "start_time": "2022-08-16T07:39:41.945Z"
   },
   {
    "duration": 28,
    "start_time": "2022-08-16T07:39:41.987Z"
   },
   {
    "duration": 9,
    "start_time": "2022-08-16T07:39:42.017Z"
   },
   {
    "duration": 30,
    "start_time": "2022-08-16T07:39:42.028Z"
   },
   {
    "duration": 46,
    "start_time": "2022-08-16T07:39:42.060Z"
   },
   {
    "duration": 12,
    "start_time": "2022-08-16T07:39:42.109Z"
   },
   {
    "duration": 41,
    "start_time": "2022-08-16T07:39:42.122Z"
   },
   {
    "duration": 21,
    "start_time": "2022-08-16T07:39:42.165Z"
   },
   {
    "duration": 54,
    "start_time": "2022-08-16T07:39:42.188Z"
   },
   {
    "duration": 13,
    "start_time": "2022-08-16T07:39:42.244Z"
   },
   {
    "duration": 56,
    "start_time": "2022-08-16T07:39:42.259Z"
   },
   {
    "duration": 16,
    "start_time": "2022-08-16T07:39:42.316Z"
   },
   {
    "duration": 29,
    "start_time": "2022-08-16T07:39:42.334Z"
   },
   {
    "duration": 27,
    "start_time": "2022-08-16T07:39:42.364Z"
   },
   {
    "duration": 30,
    "start_time": "2022-08-16T07:39:42.393Z"
   },
   {
    "duration": 26,
    "start_time": "2022-08-16T07:39:42.425Z"
   },
   {
    "duration": 29,
    "start_time": "2022-08-16T07:39:42.452Z"
   },
   {
    "duration": 25,
    "start_time": "2022-08-16T07:39:42.483Z"
   },
   {
    "duration": 21,
    "start_time": "2022-08-16T07:39:42.510Z"
   },
   {
    "duration": 36,
    "start_time": "2022-08-16T07:39:42.533Z"
   },
   {
    "duration": 37,
    "start_time": "2022-08-16T07:39:42.570Z"
   },
   {
    "duration": 37,
    "start_time": "2022-08-16T07:39:42.608Z"
   },
   {
    "duration": 42,
    "start_time": "2022-08-16T07:39:42.646Z"
   },
   {
    "duration": 41,
    "start_time": "2022-08-16T07:39:42.692Z"
   },
   {
    "duration": 48,
    "start_time": "2022-08-16T07:39:42.734Z"
   },
   {
    "duration": 13,
    "start_time": "2022-08-16T07:39:42.783Z"
   },
   {
    "duration": 30,
    "start_time": "2022-08-16T07:39:42.797Z"
   },
   {
    "duration": 41,
    "start_time": "2022-08-16T07:39:42.829Z"
   },
   {
    "duration": 186,
    "start_time": "2022-08-16T07:39:42.872Z"
   },
   {
    "duration": 13,
    "start_time": "2022-08-16T07:39:43.059Z"
   },
   {
    "duration": 111,
    "start_time": "2022-08-16T07:39:43.074Z"
   },
   {
    "duration": 24,
    "start_time": "2022-08-16T07:39:43.187Z"
   },
   {
    "duration": 135,
    "start_time": "2022-08-16T07:39:43.213Z"
   },
   {
    "duration": 4,
    "start_time": "2022-08-16T07:39:43.349Z"
   },
   {
    "duration": 166,
    "start_time": "2022-08-16T07:39:43.355Z"
   },
   {
    "duration": 5,
    "start_time": "2022-08-16T07:39:43.522Z"
   },
   {
    "duration": 177,
    "start_time": "2022-08-16T07:39:43.529Z"
   },
   {
    "duration": 5,
    "start_time": "2022-08-16T07:39:43.707Z"
   },
   {
    "duration": 136,
    "start_time": "2022-08-16T07:39:43.713Z"
   },
   {
    "duration": 5,
    "start_time": "2022-08-16T07:39:43.850Z"
   },
   {
    "duration": 152,
    "start_time": "2022-08-16T07:39:43.857Z"
   },
   {
    "duration": 5,
    "start_time": "2022-08-16T07:39:44.010Z"
   },
   {
    "duration": 142,
    "start_time": "2022-08-16T07:39:44.016Z"
   },
   {
    "duration": 5,
    "start_time": "2022-08-16T07:39:44.159Z"
   },
   {
    "duration": 16,
    "start_time": "2022-08-16T07:39:44.165Z"
   },
   {
    "duration": 29,
    "start_time": "2022-08-16T07:39:44.182Z"
   },
   {
    "duration": 15,
    "start_time": "2022-08-16T07:39:44.212Z"
   },
   {
    "duration": 25,
    "start_time": "2022-08-16T07:39:44.228Z"
   },
   {
    "duration": 15,
    "start_time": "2022-08-16T07:39:44.254Z"
   },
   {
    "duration": 21,
    "start_time": "2022-08-16T07:39:44.270Z"
   },
   {
    "duration": 89,
    "start_time": "2022-08-16T07:39:44.292Z"
   },
   {
    "duration": 23,
    "start_time": "2022-08-16T07:39:44.383Z"
   },
   {
    "duration": 12,
    "start_time": "2022-08-16T07:39:44.407Z"
   },
   {
    "duration": 14,
    "start_time": "2022-08-16T07:39:44.420Z"
   },
   {
    "duration": 15,
    "start_time": "2022-08-16T07:39:44.436Z"
   },
   {
    "duration": 8,
    "start_time": "2022-08-16T07:39:44.452Z"
   },
   {
    "duration": 11,
    "start_time": "2022-08-16T07:39:44.462Z"
   },
   {
    "duration": 91,
    "start_time": "2022-08-16T07:45:34.256Z"
   },
   {
    "duration": 11,
    "start_time": "2022-08-16T07:46:11.216Z"
   },
   {
    "duration": 12,
    "start_time": "2022-08-16T07:47:32.946Z"
   },
   {
    "duration": 4,
    "start_time": "2022-08-16T07:47:41.973Z"
   },
   {
    "duration": 12,
    "start_time": "2022-08-16T07:48:54.240Z"
   },
   {
    "duration": 7,
    "start_time": "2022-08-16T07:49:38.755Z"
   },
   {
    "duration": 1048,
    "start_time": "2022-08-16T07:49:48.110Z"
   },
   {
    "duration": 50,
    "start_time": "2022-08-16T07:49:49.160Z"
   },
   {
    "duration": 22,
    "start_time": "2022-08-16T07:49:49.211Z"
   },
   {
    "duration": 17,
    "start_time": "2022-08-16T07:49:49.235Z"
   },
   {
    "duration": 21,
    "start_time": "2022-08-16T07:49:49.254Z"
   },
   {
    "duration": 17,
    "start_time": "2022-08-16T07:49:49.277Z"
   },
   {
    "duration": 15,
    "start_time": "2022-08-16T07:49:49.296Z"
   },
   {
    "duration": 29,
    "start_time": "2022-08-16T07:49:49.313Z"
   },
   {
    "duration": 9,
    "start_time": "2022-08-16T07:49:49.344Z"
   },
   {
    "duration": 9,
    "start_time": "2022-08-16T07:49:49.356Z"
   },
   {
    "duration": 16,
    "start_time": "2022-08-16T07:49:49.366Z"
   },
   {
    "duration": 35,
    "start_time": "2022-08-16T07:49:49.384Z"
   },
   {
    "duration": 10,
    "start_time": "2022-08-16T07:49:49.420Z"
   },
   {
    "duration": 21,
    "start_time": "2022-08-16T07:49:49.431Z"
   },
   {
    "duration": 7,
    "start_time": "2022-08-16T07:49:49.454Z"
   },
   {
    "duration": 16,
    "start_time": "2022-08-16T07:49:49.463Z"
   },
   {
    "duration": 26,
    "start_time": "2022-08-16T07:49:49.480Z"
   },
   {
    "duration": 9,
    "start_time": "2022-08-16T07:49:49.507Z"
   },
   {
    "duration": 11,
    "start_time": "2022-08-16T07:49:49.517Z"
   },
   {
    "duration": 10,
    "start_time": "2022-08-16T07:49:49.529Z"
   },
   {
    "duration": 11,
    "start_time": "2022-08-16T07:49:49.540Z"
   },
   {
    "duration": 6,
    "start_time": "2022-08-16T07:49:49.552Z"
   },
   {
    "duration": 8,
    "start_time": "2022-08-16T07:49:49.559Z"
   },
   {
    "duration": 15,
    "start_time": "2022-08-16T07:49:49.568Z"
   },
   {
    "duration": 15,
    "start_time": "2022-08-16T07:49:49.606Z"
   },
   {
    "duration": 7,
    "start_time": "2022-08-16T07:49:49.622Z"
   },
   {
    "duration": 10,
    "start_time": "2022-08-16T07:49:49.630Z"
   },
   {
    "duration": 20,
    "start_time": "2022-08-16T07:49:49.643Z"
   },
   {
    "duration": 11,
    "start_time": "2022-08-16T07:49:49.664Z"
   },
   {
    "duration": 42,
    "start_time": "2022-08-16T07:49:49.676Z"
   },
   {
    "duration": 16,
    "start_time": "2022-08-16T07:49:49.719Z"
   },
   {
    "duration": 194,
    "start_time": "2022-08-16T07:49:49.737Z"
   },
   {
    "duration": 16,
    "start_time": "2022-08-16T07:49:49.933Z"
   },
   {
    "duration": 105,
    "start_time": "2022-08-16T07:49:49.951Z"
   },
   {
    "duration": 20,
    "start_time": "2022-08-16T07:49:50.058Z"
   },
   {
    "duration": 138,
    "start_time": "2022-08-16T07:49:50.080Z"
   },
   {
    "duration": 4,
    "start_time": "2022-08-16T07:49:50.219Z"
   },
   {
    "duration": 136,
    "start_time": "2022-08-16T07:49:50.224Z"
   },
   {
    "duration": 4,
    "start_time": "2022-08-16T07:49:50.361Z"
   },
   {
    "duration": 143,
    "start_time": "2022-08-16T07:49:50.367Z"
   },
   {
    "duration": 5,
    "start_time": "2022-08-16T07:49:50.511Z"
   },
   {
    "duration": 140,
    "start_time": "2022-08-16T07:49:50.517Z"
   },
   {
    "duration": 6,
    "start_time": "2022-08-16T07:49:50.659Z"
   },
   {
    "duration": 163,
    "start_time": "2022-08-16T07:49:50.666Z"
   },
   {
    "duration": 6,
    "start_time": "2022-08-16T07:49:50.831Z"
   },
   {
    "duration": 137,
    "start_time": "2022-08-16T07:49:50.838Z"
   },
   {
    "duration": 5,
    "start_time": "2022-08-16T07:49:50.976Z"
   },
   {
    "duration": 25,
    "start_time": "2022-08-16T07:49:50.983Z"
   },
   {
    "duration": 15,
    "start_time": "2022-08-16T07:49:51.010Z"
   },
   {
    "duration": 14,
    "start_time": "2022-08-16T07:49:51.026Z"
   },
   {
    "duration": 14,
    "start_time": "2022-08-16T07:49:51.042Z"
   },
   {
    "duration": 13,
    "start_time": "2022-08-16T07:49:51.058Z"
   },
   {
    "duration": 46,
    "start_time": "2022-08-16T07:49:51.072Z"
   },
   {
    "duration": 91,
    "start_time": "2022-08-16T07:49:51.120Z"
   },
   {
    "duration": 18,
    "start_time": "2022-08-16T07:49:51.213Z"
   },
   {
    "duration": 17,
    "start_time": "2022-08-16T07:49:51.232Z"
   },
   {
    "duration": 14,
    "start_time": "2022-08-16T07:49:51.250Z"
   },
   {
    "duration": 5,
    "start_time": "2022-08-16T07:49:51.265Z"
   },
   {
    "duration": 36,
    "start_time": "2022-08-16T07:49:51.272Z"
   },
   {
    "duration": 9,
    "start_time": "2022-08-16T07:49:51.310Z"
   },
   {
    "duration": 24,
    "start_time": "2022-08-16T07:50:10.035Z"
   },
   {
    "duration": 21,
    "start_time": "2022-08-16T07:50:26.666Z"
   },
   {
    "duration": 87,
    "start_time": "2022-08-16T07:51:24.397Z"
   },
   {
    "duration": 19,
    "start_time": "2022-08-16T07:51:33.476Z"
   },
   {
    "duration": 23,
    "start_time": "2022-08-16T07:51:42.631Z"
   },
   {
    "duration": 611,
    "start_time": "2022-08-16T07:53:16.599Z"
   },
   {
    "duration": 5,
    "start_time": "2022-08-16T07:53:33.672Z"
   },
   {
    "duration": 17,
    "start_time": "2022-08-16T07:55:07.659Z"
   },
   {
    "duration": 11,
    "start_time": "2022-08-16T08:19:28.554Z"
   },
   {
    "duration": 4,
    "start_time": "2022-08-16T08:19:59.142Z"
   },
   {
    "duration": 7,
    "start_time": "2022-08-16T08:20:44.754Z"
   },
   {
    "duration": 12,
    "start_time": "2022-08-16T08:21:15.195Z"
   },
   {
    "duration": 1072,
    "start_time": "2022-08-16T08:22:23.888Z"
   },
   {
    "duration": 53,
    "start_time": "2022-08-16T08:22:24.962Z"
   },
   {
    "duration": 22,
    "start_time": "2022-08-16T08:22:25.017Z"
   },
   {
    "duration": 12,
    "start_time": "2022-08-16T08:22:25.040Z"
   },
   {
    "duration": 13,
    "start_time": "2022-08-16T08:22:25.053Z"
   },
   {
    "duration": 4,
    "start_time": "2022-08-16T08:22:25.068Z"
   },
   {
    "duration": 8,
    "start_time": "2022-08-16T08:22:25.073Z"
   },
   {
    "duration": 44,
    "start_time": "2022-08-16T08:22:25.082Z"
   },
   {
    "duration": 8,
    "start_time": "2022-08-16T08:22:25.128Z"
   },
   {
    "duration": 11,
    "start_time": "2022-08-16T08:22:25.138Z"
   },
   {
    "duration": 32,
    "start_time": "2022-08-16T08:22:25.150Z"
   },
   {
    "duration": 25,
    "start_time": "2022-08-16T08:22:25.206Z"
   },
   {
    "duration": 2,
    "start_time": "2022-08-16T08:22:25.233Z"
   },
   {
    "duration": 26,
    "start_time": "2022-08-16T08:22:25.236Z"
   },
   {
    "duration": 7,
    "start_time": "2022-08-16T08:22:25.264Z"
   },
   {
    "duration": 9,
    "start_time": "2022-08-16T08:22:25.273Z"
   },
   {
    "duration": 30,
    "start_time": "2022-08-16T08:22:25.283Z"
   },
   {
    "duration": 8,
    "start_time": "2022-08-16T08:22:25.314Z"
   },
   {
    "duration": 8,
    "start_time": "2022-08-16T08:22:25.323Z"
   },
   {
    "duration": 9,
    "start_time": "2022-08-16T08:22:25.333Z"
   },
   {
    "duration": 4,
    "start_time": "2022-08-16T08:22:25.343Z"
   },
   {
    "duration": 5,
    "start_time": "2022-08-16T08:22:25.349Z"
   },
   {
    "duration": 8,
    "start_time": "2022-08-16T08:22:25.355Z"
   },
   {
    "duration": 45,
    "start_time": "2022-08-16T08:22:25.364Z"
   },
   {
    "duration": 16,
    "start_time": "2022-08-16T08:22:25.410Z"
   },
   {
    "duration": 7,
    "start_time": "2022-08-16T08:22:25.428Z"
   },
   {
    "duration": 10,
    "start_time": "2022-08-16T08:22:25.436Z"
   },
   {
    "duration": 21,
    "start_time": "2022-08-16T08:22:25.449Z"
   },
   {
    "duration": 38,
    "start_time": "2022-08-16T08:22:25.471Z"
   },
   {
    "duration": 14,
    "start_time": "2022-08-16T08:22:25.511Z"
   },
   {
    "duration": 12,
    "start_time": "2022-08-16T08:22:25.527Z"
   },
   {
    "duration": 158,
    "start_time": "2022-08-16T08:22:25.540Z"
   },
   {
    "duration": 14,
    "start_time": "2022-08-16T08:22:25.705Z"
   },
   {
    "duration": 101,
    "start_time": "2022-08-16T08:22:25.721Z"
   },
   {
    "duration": 17,
    "start_time": "2022-08-16T08:22:25.823Z"
   },
   {
    "duration": 137,
    "start_time": "2022-08-16T08:22:25.841Z"
   },
   {
    "duration": 4,
    "start_time": "2022-08-16T08:22:25.980Z"
   },
   {
    "duration": 198,
    "start_time": "2022-08-16T08:22:25.985Z"
   },
   {
    "duration": 4,
    "start_time": "2022-08-16T08:22:26.185Z"
   },
   {
    "duration": 161,
    "start_time": "2022-08-16T08:22:26.191Z"
   },
   {
    "duration": 5,
    "start_time": "2022-08-16T08:22:26.353Z"
   },
   {
    "duration": 185,
    "start_time": "2022-08-16T08:22:26.359Z"
   },
   {
    "duration": 5,
    "start_time": "2022-08-16T08:22:26.545Z"
   },
   {
    "duration": 205,
    "start_time": "2022-08-16T08:22:26.551Z"
   },
   {
    "duration": 5,
    "start_time": "2022-08-16T08:22:26.757Z"
   },
   {
    "duration": 143,
    "start_time": "2022-08-16T08:22:26.763Z"
   },
   {
    "duration": 5,
    "start_time": "2022-08-16T08:22:26.907Z"
   },
   {
    "duration": 16,
    "start_time": "2022-08-16T08:22:26.913Z"
   },
   {
    "duration": 14,
    "start_time": "2022-08-16T08:22:26.930Z"
   },
   {
    "duration": 14,
    "start_time": "2022-08-16T08:22:26.946Z"
   },
   {
    "duration": 15,
    "start_time": "2022-08-16T08:22:26.962Z"
   },
   {
    "duration": 15,
    "start_time": "2022-08-16T08:22:27.006Z"
   },
   {
    "duration": 13,
    "start_time": "2022-08-16T08:22:27.023Z"
   },
   {
    "duration": 96,
    "start_time": "2022-08-16T08:22:27.038Z"
   },
   {
    "duration": 14,
    "start_time": "2022-08-16T08:22:27.136Z"
   },
   {
    "duration": 13,
    "start_time": "2022-08-16T08:22:27.151Z"
   },
   {
    "duration": 12,
    "start_time": "2022-08-16T08:22:27.165Z"
   },
   {
    "duration": 29,
    "start_time": "2022-08-16T08:22:27.178Z"
   },
   {
    "duration": 9,
    "start_time": "2022-08-16T08:22:27.208Z"
   },
   {
    "duration": 9,
    "start_time": "2022-08-16T08:22:27.218Z"
   },
   {
    "duration": 1093,
    "start_time": "2022-08-16T08:23:52.282Z"
   },
   {
    "duration": 56,
    "start_time": "2022-08-16T08:23:53.377Z"
   },
   {
    "duration": 21,
    "start_time": "2022-08-16T08:23:53.435Z"
   },
   {
    "duration": 12,
    "start_time": "2022-08-16T08:23:53.458Z"
   },
   {
    "duration": 13,
    "start_time": "2022-08-16T08:23:53.471Z"
   },
   {
    "duration": 3,
    "start_time": "2022-08-16T08:23:53.486Z"
   },
   {
    "duration": 3,
    "start_time": "2022-08-16T08:23:53.505Z"
   },
   {
    "duration": 22,
    "start_time": "2022-08-16T08:23:53.510Z"
   },
   {
    "duration": 8,
    "start_time": "2022-08-16T08:23:53.533Z"
   },
   {
    "duration": 11,
    "start_time": "2022-08-16T08:23:53.543Z"
   },
   {
    "duration": 134,
    "start_time": "2022-08-16T08:23:53.555Z"
   },
   {
    "duration": 0,
    "start_time": "2022-08-16T08:23:53.692Z"
   },
   {
    "duration": 0,
    "start_time": "2022-08-16T08:23:53.694Z"
   },
   {
    "duration": 0,
    "start_time": "2022-08-16T08:23:53.695Z"
   },
   {
    "duration": 0,
    "start_time": "2022-08-16T08:23:53.705Z"
   },
   {
    "duration": 0,
    "start_time": "2022-08-16T08:23:53.706Z"
   },
   {
    "duration": 0,
    "start_time": "2022-08-16T08:23:53.708Z"
   },
   {
    "duration": 0,
    "start_time": "2022-08-16T08:23:53.709Z"
   },
   {
    "duration": 0,
    "start_time": "2022-08-16T08:23:53.710Z"
   },
   {
    "duration": 0,
    "start_time": "2022-08-16T08:23:53.711Z"
   },
   {
    "duration": 1,
    "start_time": "2022-08-16T08:23:53.711Z"
   },
   {
    "duration": 0,
    "start_time": "2022-08-16T08:23:53.713Z"
   },
   {
    "duration": 0,
    "start_time": "2022-08-16T08:23:53.714Z"
   },
   {
    "duration": 0,
    "start_time": "2022-08-16T08:23:53.715Z"
   },
   {
    "duration": 0,
    "start_time": "2022-08-16T08:23:53.716Z"
   },
   {
    "duration": 0,
    "start_time": "2022-08-16T08:23:53.717Z"
   },
   {
    "duration": 0,
    "start_time": "2022-08-16T08:23:53.718Z"
   },
   {
    "duration": 0,
    "start_time": "2022-08-16T08:23:53.718Z"
   },
   {
    "duration": 0,
    "start_time": "2022-08-16T08:23:53.719Z"
   },
   {
    "duration": 0,
    "start_time": "2022-08-16T08:23:53.720Z"
   },
   {
    "duration": 0,
    "start_time": "2022-08-16T08:23:53.721Z"
   },
   {
    "duration": 0,
    "start_time": "2022-08-16T08:23:53.722Z"
   },
   {
    "duration": 0,
    "start_time": "2022-08-16T08:23:53.723Z"
   },
   {
    "duration": 0,
    "start_time": "2022-08-16T08:23:53.724Z"
   },
   {
    "duration": 0,
    "start_time": "2022-08-16T08:23:53.725Z"
   },
   {
    "duration": 0,
    "start_time": "2022-08-16T08:23:53.725Z"
   },
   {
    "duration": 0,
    "start_time": "2022-08-16T08:23:53.726Z"
   },
   {
    "duration": 0,
    "start_time": "2022-08-16T08:23:53.727Z"
   },
   {
    "duration": 0,
    "start_time": "2022-08-16T08:23:53.728Z"
   },
   {
    "duration": 0,
    "start_time": "2022-08-16T08:23:53.729Z"
   },
   {
    "duration": 0,
    "start_time": "2022-08-16T08:23:53.730Z"
   },
   {
    "duration": 0,
    "start_time": "2022-08-16T08:23:53.731Z"
   },
   {
    "duration": 0,
    "start_time": "2022-08-16T08:23:53.732Z"
   },
   {
    "duration": 0,
    "start_time": "2022-08-16T08:23:53.732Z"
   },
   {
    "duration": 0,
    "start_time": "2022-08-16T08:23:53.733Z"
   },
   {
    "duration": 0,
    "start_time": "2022-08-16T08:23:53.734Z"
   },
   {
    "duration": 0,
    "start_time": "2022-08-16T08:23:53.735Z"
   },
   {
    "duration": 0,
    "start_time": "2022-08-16T08:23:53.736Z"
   },
   {
    "duration": 0,
    "start_time": "2022-08-16T08:23:53.736Z"
   },
   {
    "duration": 0,
    "start_time": "2022-08-16T08:23:53.737Z"
   },
   {
    "duration": 0,
    "start_time": "2022-08-16T08:23:53.738Z"
   },
   {
    "duration": 0,
    "start_time": "2022-08-16T08:23:53.739Z"
   },
   {
    "duration": 0,
    "start_time": "2022-08-16T08:23:53.740Z"
   },
   {
    "duration": 0,
    "start_time": "2022-08-16T08:23:53.741Z"
   },
   {
    "duration": 0,
    "start_time": "2022-08-16T08:23:53.742Z"
   },
   {
    "duration": 0,
    "start_time": "2022-08-16T08:23:53.743Z"
   },
   {
    "duration": 0,
    "start_time": "2022-08-16T08:23:53.744Z"
   },
   {
    "duration": 0,
    "start_time": "2022-08-16T08:23:53.806Z"
   },
   {
    "duration": 0,
    "start_time": "2022-08-16T08:23:53.808Z"
   },
   {
    "duration": 0,
    "start_time": "2022-08-16T08:23:53.808Z"
   },
   {
    "duration": 15,
    "start_time": "2022-08-16T08:24:45.227Z"
   },
   {
    "duration": 1089,
    "start_time": "2022-08-16T08:25:00.091Z"
   },
   {
    "duration": 57,
    "start_time": "2022-08-16T08:25:01.181Z"
   },
   {
    "duration": 22,
    "start_time": "2022-08-16T08:25:01.239Z"
   },
   {
    "duration": 13,
    "start_time": "2022-08-16T08:25:01.263Z"
   },
   {
    "duration": 15,
    "start_time": "2022-08-16T08:25:01.278Z"
   },
   {
    "duration": 5,
    "start_time": "2022-08-16T08:25:01.305Z"
   },
   {
    "duration": 11,
    "start_time": "2022-08-16T08:25:01.311Z"
   },
   {
    "duration": 24,
    "start_time": "2022-08-16T08:25:01.323Z"
   },
   {
    "duration": 9,
    "start_time": "2022-08-16T08:25:01.348Z"
   },
   {
    "duration": 16,
    "start_time": "2022-08-16T08:25:01.359Z"
   },
   {
    "duration": 50,
    "start_time": "2022-08-16T08:25:01.376Z"
   },
   {
    "duration": 26,
    "start_time": "2022-08-16T08:25:01.427Z"
   },
   {
    "duration": 2,
    "start_time": "2022-08-16T08:25:01.455Z"
   },
   {
    "duration": 27,
    "start_time": "2022-08-16T08:25:01.459Z"
   },
   {
    "duration": 33,
    "start_time": "2022-08-16T08:25:01.488Z"
   },
   {
    "duration": 16,
    "start_time": "2022-08-16T08:25:01.523Z"
   },
   {
    "duration": 15,
    "start_time": "2022-08-16T08:25:01.541Z"
   },
   {
    "duration": 9,
    "start_time": "2022-08-16T08:25:01.558Z"
   },
   {
    "duration": 12,
    "start_time": "2022-08-16T08:25:01.569Z"
   },
   {
    "duration": 9,
    "start_time": "2022-08-16T08:25:01.582Z"
   },
   {
    "duration": 4,
    "start_time": "2022-08-16T08:25:01.606Z"
   },
   {
    "duration": 14,
    "start_time": "2022-08-16T08:25:01.611Z"
   },
   {
    "duration": 15,
    "start_time": "2022-08-16T08:25:01.626Z"
   },
   {
    "duration": 10,
    "start_time": "2022-08-16T08:25:01.642Z"
   },
   {
    "duration": 18,
    "start_time": "2022-08-16T08:25:01.654Z"
   },
   {
    "duration": 7,
    "start_time": "2022-08-16T08:25:01.674Z"
   },
   {
    "duration": 23,
    "start_time": "2022-08-16T08:25:01.683Z"
   },
   {
    "duration": 23,
    "start_time": "2022-08-16T08:25:01.710Z"
   },
   {
    "duration": 11,
    "start_time": "2022-08-16T08:25:01.734Z"
   },
   {
    "duration": 17,
    "start_time": "2022-08-16T08:25:01.746Z"
   },
   {
    "duration": 20,
    "start_time": "2022-08-16T08:25:01.764Z"
   },
   {
    "duration": 167,
    "start_time": "2022-08-16T08:25:01.785Z"
   },
   {
    "duration": 14,
    "start_time": "2022-08-16T08:25:01.954Z"
   },
   {
    "duration": 137,
    "start_time": "2022-08-16T08:25:01.969Z"
   },
   {
    "duration": 16,
    "start_time": "2022-08-16T08:25:02.108Z"
   },
   {
    "duration": 133,
    "start_time": "2022-08-16T08:25:02.125Z"
   },
   {
    "duration": 4,
    "start_time": "2022-08-16T08:25:02.259Z"
   },
   {
    "duration": 142,
    "start_time": "2022-08-16T08:25:02.264Z"
   },
   {
    "duration": 4,
    "start_time": "2022-08-16T08:25:02.407Z"
   },
   {
    "duration": 137,
    "start_time": "2022-08-16T08:25:02.413Z"
   },
   {
    "duration": 5,
    "start_time": "2022-08-16T08:25:02.552Z"
   },
   {
    "duration": 144,
    "start_time": "2022-08-16T08:25:02.559Z"
   },
   {
    "duration": 4,
    "start_time": "2022-08-16T08:25:02.706Z"
   },
   {
    "duration": 144,
    "start_time": "2022-08-16T08:25:02.711Z"
   },
   {
    "duration": 5,
    "start_time": "2022-08-16T08:25:02.857Z"
   },
   {
    "duration": 144,
    "start_time": "2022-08-16T08:25:02.863Z"
   },
   {
    "duration": 4,
    "start_time": "2022-08-16T08:25:03.008Z"
   },
   {
    "duration": 17,
    "start_time": "2022-08-16T08:25:03.014Z"
   },
   {
    "duration": 13,
    "start_time": "2022-08-16T08:25:03.032Z"
   },
   {
    "duration": 12,
    "start_time": "2022-08-16T08:25:03.047Z"
   },
   {
    "duration": 12,
    "start_time": "2022-08-16T08:25:03.060Z"
   },
   {
    "duration": 40,
    "start_time": "2022-08-16T08:25:03.073Z"
   },
   {
    "duration": 12,
    "start_time": "2022-08-16T08:25:03.115Z"
   },
   {
    "duration": 95,
    "start_time": "2022-08-16T08:25:03.129Z"
   },
   {
    "duration": 12,
    "start_time": "2022-08-16T08:25:03.225Z"
   },
   {
    "duration": 11,
    "start_time": "2022-08-16T08:25:03.239Z"
   },
   {
    "duration": 11,
    "start_time": "2022-08-16T08:25:03.252Z"
   },
   {
    "duration": 4,
    "start_time": "2022-08-16T08:25:03.265Z"
   },
   {
    "duration": 36,
    "start_time": "2022-08-16T08:25:03.270Z"
   },
   {
    "duration": 13,
    "start_time": "2022-08-16T08:25:03.308Z"
   },
   {
    "duration": 6,
    "start_time": "2022-08-16T08:26:19.355Z"
   },
   {
    "duration": 5,
    "start_time": "2022-08-16T08:26:57.572Z"
   },
   {
    "duration": 4,
    "start_time": "2022-08-16T08:27:37.043Z"
   },
   {
    "duration": 14,
    "start_time": "2022-08-16T08:28:18.492Z"
   },
   {
    "duration": 1109,
    "start_time": "2022-08-16T08:30:05.759Z"
   },
   {
    "duration": 51,
    "start_time": "2022-08-16T08:30:06.870Z"
   },
   {
    "duration": 23,
    "start_time": "2022-08-16T08:30:06.923Z"
   },
   {
    "duration": 12,
    "start_time": "2022-08-16T08:30:06.947Z"
   },
   {
    "duration": 16,
    "start_time": "2022-08-16T08:30:06.961Z"
   },
   {
    "duration": 4,
    "start_time": "2022-08-16T08:30:06.978Z"
   },
   {
    "duration": 4,
    "start_time": "2022-08-16T08:30:07.005Z"
   },
   {
    "duration": 30,
    "start_time": "2022-08-16T08:30:07.011Z"
   },
   {
    "duration": 8,
    "start_time": "2022-08-16T08:30:07.043Z"
   },
   {
    "duration": 11,
    "start_time": "2022-08-16T08:30:07.053Z"
   },
   {
    "duration": 5,
    "start_time": "2022-08-16T08:30:07.066Z"
   },
   {
    "duration": 5,
    "start_time": "2022-08-16T08:30:07.072Z"
   },
   {
    "duration": 6,
    "start_time": "2022-08-16T08:30:07.078Z"
   },
   {
    "duration": 43,
    "start_time": "2022-08-16T08:30:07.086Z"
   },
   {
    "duration": 2,
    "start_time": "2022-08-16T08:30:07.130Z"
   },
   {
    "duration": 33,
    "start_time": "2022-08-16T08:30:07.133Z"
   },
   {
    "duration": 7,
    "start_time": "2022-08-16T08:30:07.168Z"
   },
   {
    "duration": 11,
    "start_time": "2022-08-16T08:30:07.177Z"
   },
   {
    "duration": 23,
    "start_time": "2022-08-16T08:30:07.189Z"
   },
   {
    "duration": 8,
    "start_time": "2022-08-16T08:30:07.213Z"
   },
   {
    "duration": 16,
    "start_time": "2022-08-16T08:30:07.222Z"
   },
   {
    "duration": 8,
    "start_time": "2022-08-16T08:30:07.240Z"
   },
   {
    "duration": 4,
    "start_time": "2022-08-16T08:30:07.249Z"
   },
   {
    "duration": 5,
    "start_time": "2022-08-16T08:30:07.254Z"
   },
   {
    "duration": 8,
    "start_time": "2022-08-16T08:30:07.261Z"
   },
   {
    "duration": 11,
    "start_time": "2022-08-16T08:30:07.271Z"
   },
   {
    "duration": 33,
    "start_time": "2022-08-16T08:30:07.283Z"
   },
   {
    "duration": 8,
    "start_time": "2022-08-16T08:30:07.319Z"
   },
   {
    "duration": 10,
    "start_time": "2022-08-16T08:30:07.329Z"
   },
   {
    "duration": 22,
    "start_time": "2022-08-16T08:30:07.340Z"
   },
   {
    "duration": 43,
    "start_time": "2022-08-16T08:30:07.364Z"
   },
   {
    "duration": 14,
    "start_time": "2022-08-16T08:30:07.409Z"
   },
   {
    "duration": 12,
    "start_time": "2022-08-16T08:30:07.425Z"
   },
   {
    "duration": 183,
    "start_time": "2022-08-16T08:30:07.439Z"
   },
   {
    "duration": 16,
    "start_time": "2022-08-16T08:30:07.623Z"
   },
   {
    "duration": 111,
    "start_time": "2022-08-16T08:30:07.640Z"
   },
   {
    "duration": 19,
    "start_time": "2022-08-16T08:30:07.753Z"
   },
   {
    "duration": 155,
    "start_time": "2022-08-16T08:30:07.774Z"
   },
   {
    "duration": 5,
    "start_time": "2022-08-16T08:30:07.931Z"
   },
   {
    "duration": 161,
    "start_time": "2022-08-16T08:30:07.937Z"
   },
   {
    "duration": 4,
    "start_time": "2022-08-16T08:30:08.106Z"
   },
   {
    "duration": 145,
    "start_time": "2022-08-16T08:30:08.112Z"
   },
   {
    "duration": 5,
    "start_time": "2022-08-16T08:30:08.258Z"
   },
   {
    "duration": 145,
    "start_time": "2022-08-16T08:30:08.264Z"
   },
   {
    "duration": 4,
    "start_time": "2022-08-16T08:30:08.411Z"
   },
   {
    "duration": 156,
    "start_time": "2022-08-16T08:30:08.417Z"
   },
   {
    "duration": 5,
    "start_time": "2022-08-16T08:30:08.575Z"
   },
   {
    "duration": 153,
    "start_time": "2022-08-16T08:30:08.581Z"
   },
   {
    "duration": 4,
    "start_time": "2022-08-16T08:30:08.735Z"
   },
   {
    "duration": 26,
    "start_time": "2022-08-16T08:30:08.741Z"
   },
   {
    "duration": 18,
    "start_time": "2022-08-16T08:30:08.769Z"
   },
   {
    "duration": 15,
    "start_time": "2022-08-16T08:30:08.788Z"
   },
   {
    "duration": 12,
    "start_time": "2022-08-16T08:30:08.806Z"
   },
   {
    "duration": 31,
    "start_time": "2022-08-16T08:30:08.820Z"
   },
   {
    "duration": 13,
    "start_time": "2022-08-16T08:30:08.853Z"
   },
   {
    "duration": 101,
    "start_time": "2022-08-16T08:30:08.867Z"
   },
   {
    "duration": 14,
    "start_time": "2022-08-16T08:30:08.970Z"
   },
   {
    "duration": 25,
    "start_time": "2022-08-16T08:30:08.986Z"
   },
   {
    "duration": 14,
    "start_time": "2022-08-16T08:30:09.012Z"
   },
   {
    "duration": 5,
    "start_time": "2022-08-16T08:30:09.028Z"
   },
   {
    "duration": 9,
    "start_time": "2022-08-16T08:30:09.034Z"
   },
   {
    "duration": 9,
    "start_time": "2022-08-16T08:30:09.045Z"
   },
   {
    "duration": 7,
    "start_time": "2022-08-16T08:31:48.412Z"
   },
   {
    "duration": 92,
    "start_time": "2022-08-16T08:32:51.829Z"
   },
   {
    "duration": 1123,
    "start_time": "2022-08-16T08:33:00.946Z"
   },
   {
    "duration": 52,
    "start_time": "2022-08-16T08:33:02.071Z"
   },
   {
    "duration": 24,
    "start_time": "2022-08-16T08:33:02.124Z"
   },
   {
    "duration": 13,
    "start_time": "2022-08-16T08:33:02.149Z"
   },
   {
    "duration": 22,
    "start_time": "2022-08-16T08:33:02.164Z"
   },
   {
    "duration": 18,
    "start_time": "2022-08-16T08:33:02.188Z"
   },
   {
    "duration": 11,
    "start_time": "2022-08-16T08:33:02.208Z"
   },
   {
    "duration": 53,
    "start_time": "2022-08-16T08:33:02.221Z"
   },
   {
    "duration": 13,
    "start_time": "2022-08-16T08:33:02.276Z"
   },
   {
    "duration": 22,
    "start_time": "2022-08-16T08:33:02.292Z"
   },
   {
    "duration": 8,
    "start_time": "2022-08-16T08:33:02.316Z"
   },
   {
    "duration": 11,
    "start_time": "2022-08-16T08:33:02.325Z"
   },
   {
    "duration": 111,
    "start_time": "2022-08-16T08:33:02.337Z"
   },
   {
    "duration": 0,
    "start_time": "2022-08-16T08:33:02.452Z"
   },
   {
    "duration": 0,
    "start_time": "2022-08-16T08:33:02.453Z"
   },
   {
    "duration": 0,
    "start_time": "2022-08-16T08:33:02.455Z"
   },
   {
    "duration": 0,
    "start_time": "2022-08-16T08:33:02.456Z"
   },
   {
    "duration": 0,
    "start_time": "2022-08-16T08:33:02.458Z"
   },
   {
    "duration": 0,
    "start_time": "2022-08-16T08:33:02.459Z"
   },
   {
    "duration": 0,
    "start_time": "2022-08-16T08:33:02.461Z"
   },
   {
    "duration": 0,
    "start_time": "2022-08-16T08:33:02.462Z"
   },
   {
    "duration": 0,
    "start_time": "2022-08-16T08:33:02.463Z"
   },
   {
    "duration": 0,
    "start_time": "2022-08-16T08:33:02.465Z"
   },
   {
    "duration": 0,
    "start_time": "2022-08-16T08:33:02.466Z"
   },
   {
    "duration": 0,
    "start_time": "2022-08-16T08:33:02.468Z"
   },
   {
    "duration": 0,
    "start_time": "2022-08-16T08:33:02.469Z"
   },
   {
    "duration": 0,
    "start_time": "2022-08-16T08:33:02.470Z"
   },
   {
    "duration": 0,
    "start_time": "2022-08-16T08:33:02.506Z"
   },
   {
    "duration": 0,
    "start_time": "2022-08-16T08:33:02.508Z"
   },
   {
    "duration": 0,
    "start_time": "2022-08-16T08:33:02.509Z"
   },
   {
    "duration": 0,
    "start_time": "2022-08-16T08:33:02.510Z"
   },
   {
    "duration": 1,
    "start_time": "2022-08-16T08:33:02.511Z"
   },
   {
    "duration": 0,
    "start_time": "2022-08-16T08:33:02.513Z"
   },
   {
    "duration": 0,
    "start_time": "2022-08-16T08:33:02.514Z"
   },
   {
    "duration": 0,
    "start_time": "2022-08-16T08:33:02.515Z"
   },
   {
    "duration": 0,
    "start_time": "2022-08-16T08:33:02.517Z"
   },
   {
    "duration": 0,
    "start_time": "2022-08-16T08:33:02.518Z"
   },
   {
    "duration": 0,
    "start_time": "2022-08-16T08:33:02.519Z"
   },
   {
    "duration": 0,
    "start_time": "2022-08-16T08:33:02.520Z"
   },
   {
    "duration": 0,
    "start_time": "2022-08-16T08:33:02.521Z"
   },
   {
    "duration": 0,
    "start_time": "2022-08-16T08:33:02.522Z"
   },
   {
    "duration": 0,
    "start_time": "2022-08-16T08:33:02.523Z"
   },
   {
    "duration": 0,
    "start_time": "2022-08-16T08:33:02.524Z"
   },
   {
    "duration": 0,
    "start_time": "2022-08-16T08:33:02.524Z"
   },
   {
    "duration": 0,
    "start_time": "2022-08-16T08:33:02.525Z"
   },
   {
    "duration": 0,
    "start_time": "2022-08-16T08:33:02.526Z"
   },
   {
    "duration": 0,
    "start_time": "2022-08-16T08:33:02.527Z"
   },
   {
    "duration": 0,
    "start_time": "2022-08-16T08:33:02.528Z"
   },
   {
    "duration": 0,
    "start_time": "2022-08-16T08:33:02.529Z"
   },
   {
    "duration": 0,
    "start_time": "2022-08-16T08:33:02.530Z"
   },
   {
    "duration": 0,
    "start_time": "2022-08-16T08:33:02.532Z"
   },
   {
    "duration": 0,
    "start_time": "2022-08-16T08:33:02.532Z"
   },
   {
    "duration": 0,
    "start_time": "2022-08-16T08:33:02.533Z"
   },
   {
    "duration": 0,
    "start_time": "2022-08-16T08:33:02.534Z"
   },
   {
    "duration": 0,
    "start_time": "2022-08-16T08:33:02.535Z"
   },
   {
    "duration": 0,
    "start_time": "2022-08-16T08:33:02.536Z"
   },
   {
    "duration": 0,
    "start_time": "2022-08-16T08:33:02.537Z"
   },
   {
    "duration": 0,
    "start_time": "2022-08-16T08:33:02.538Z"
   },
   {
    "duration": 0,
    "start_time": "2022-08-16T08:33:02.539Z"
   },
   {
    "duration": 0,
    "start_time": "2022-08-16T08:33:02.540Z"
   },
   {
    "duration": 0,
    "start_time": "2022-08-16T08:33:02.541Z"
   },
   {
    "duration": 0,
    "start_time": "2022-08-16T08:33:02.542Z"
   },
   {
    "duration": 12,
    "start_time": "2022-08-16T08:34:14.133Z"
   },
   {
    "duration": 14,
    "start_time": "2022-08-16T08:34:44.318Z"
   },
   {
    "duration": 20,
    "start_time": "2022-08-16T08:40:06.630Z"
   },
   {
    "duration": 9,
    "start_time": "2022-08-16T08:40:38.402Z"
   },
   {
    "duration": 6,
    "start_time": "2022-08-16T08:40:58.513Z"
   },
   {
    "duration": 5,
    "start_time": "2022-08-16T08:41:16.489Z"
   },
   {
    "duration": 5,
    "start_time": "2022-08-16T08:42:24.679Z"
   },
   {
    "duration": 4,
    "start_time": "2022-08-16T08:43:00.640Z"
   },
   {
    "duration": 1081,
    "start_time": "2022-08-16T08:47:35.993Z"
   },
   {
    "duration": 54,
    "start_time": "2022-08-16T08:47:37.076Z"
   },
   {
    "duration": 22,
    "start_time": "2022-08-16T08:47:37.131Z"
   },
   {
    "duration": 13,
    "start_time": "2022-08-16T08:47:37.154Z"
   },
   {
    "duration": 14,
    "start_time": "2022-08-16T08:47:37.168Z"
   },
   {
    "duration": 24,
    "start_time": "2022-08-16T08:47:37.184Z"
   },
   {
    "duration": 9,
    "start_time": "2022-08-16T08:47:37.209Z"
   },
   {
    "duration": 22,
    "start_time": "2022-08-16T08:47:37.219Z"
   },
   {
    "duration": 8,
    "start_time": "2022-08-16T08:47:37.242Z"
   },
   {
    "duration": 11,
    "start_time": "2022-08-16T08:47:37.252Z"
   },
   {
    "duration": 4,
    "start_time": "2022-08-16T08:47:37.264Z"
   },
   {
    "duration": 6,
    "start_time": "2022-08-16T08:47:37.269Z"
   },
   {
    "duration": 31,
    "start_time": "2022-08-16T08:47:37.276Z"
   },
   {
    "duration": 103,
    "start_time": "2022-08-16T08:47:37.308Z"
   },
   {
    "duration": 0,
    "start_time": "2022-08-16T08:47:37.413Z"
   },
   {
    "duration": 0,
    "start_time": "2022-08-16T08:47:37.415Z"
   },
   {
    "duration": 0,
    "start_time": "2022-08-16T08:47:37.416Z"
   },
   {
    "duration": 0,
    "start_time": "2022-08-16T08:47:37.417Z"
   },
   {
    "duration": 0,
    "start_time": "2022-08-16T08:47:37.417Z"
   },
   {
    "duration": 0,
    "start_time": "2022-08-16T08:47:37.418Z"
   },
   {
    "duration": 0,
    "start_time": "2022-08-16T08:47:37.419Z"
   },
   {
    "duration": 0,
    "start_time": "2022-08-16T08:47:37.420Z"
   },
   {
    "duration": 0,
    "start_time": "2022-08-16T08:47:37.421Z"
   },
   {
    "duration": 0,
    "start_time": "2022-08-16T08:47:37.422Z"
   },
   {
    "duration": 0,
    "start_time": "2022-08-16T08:47:37.423Z"
   },
   {
    "duration": 0,
    "start_time": "2022-08-16T08:47:37.424Z"
   },
   {
    "duration": 0,
    "start_time": "2022-08-16T08:47:37.425Z"
   },
   {
    "duration": 1,
    "start_time": "2022-08-16T08:47:37.425Z"
   },
   {
    "duration": 0,
    "start_time": "2022-08-16T08:47:37.426Z"
   },
   {
    "duration": 0,
    "start_time": "2022-08-16T08:47:37.427Z"
   },
   {
    "duration": 0,
    "start_time": "2022-08-16T08:47:37.428Z"
   },
   {
    "duration": 0,
    "start_time": "2022-08-16T08:47:37.429Z"
   },
   {
    "duration": 0,
    "start_time": "2022-08-16T08:47:37.430Z"
   },
   {
    "duration": 0,
    "start_time": "2022-08-16T08:47:37.431Z"
   },
   {
    "duration": 1,
    "start_time": "2022-08-16T08:47:37.431Z"
   },
   {
    "duration": 0,
    "start_time": "2022-08-16T08:47:37.432Z"
   },
   {
    "duration": 0,
    "start_time": "2022-08-16T08:47:37.433Z"
   },
   {
    "duration": 0,
    "start_time": "2022-08-16T08:47:37.434Z"
   },
   {
    "duration": 0,
    "start_time": "2022-08-16T08:47:37.435Z"
   },
   {
    "duration": 0,
    "start_time": "2022-08-16T08:47:37.436Z"
   },
   {
    "duration": 0,
    "start_time": "2022-08-16T08:47:37.437Z"
   },
   {
    "duration": 0,
    "start_time": "2022-08-16T08:47:37.438Z"
   },
   {
    "duration": 0,
    "start_time": "2022-08-16T08:47:37.439Z"
   },
   {
    "duration": 0,
    "start_time": "2022-08-16T08:47:37.440Z"
   },
   {
    "duration": 0,
    "start_time": "2022-08-16T08:47:37.441Z"
   },
   {
    "duration": 0,
    "start_time": "2022-08-16T08:47:37.442Z"
   },
   {
    "duration": 0,
    "start_time": "2022-08-16T08:47:37.443Z"
   },
   {
    "duration": 0,
    "start_time": "2022-08-16T08:47:37.444Z"
   },
   {
    "duration": 0,
    "start_time": "2022-08-16T08:47:37.444Z"
   },
   {
    "duration": 0,
    "start_time": "2022-08-16T08:47:37.445Z"
   },
   {
    "duration": 0,
    "start_time": "2022-08-16T08:47:37.447Z"
   },
   {
    "duration": 0,
    "start_time": "2022-08-16T08:47:37.447Z"
   },
   {
    "duration": 0,
    "start_time": "2022-08-16T08:47:37.448Z"
   },
   {
    "duration": 0,
    "start_time": "2022-08-16T08:47:37.450Z"
   },
   {
    "duration": 0,
    "start_time": "2022-08-16T08:47:37.451Z"
   },
   {
    "duration": 0,
    "start_time": "2022-08-16T08:47:37.506Z"
   },
   {
    "duration": 0,
    "start_time": "2022-08-16T08:47:37.508Z"
   },
   {
    "duration": 0,
    "start_time": "2022-08-16T08:47:37.509Z"
   },
   {
    "duration": 0,
    "start_time": "2022-08-16T08:47:37.510Z"
   },
   {
    "duration": 0,
    "start_time": "2022-08-16T08:47:37.511Z"
   },
   {
    "duration": 0,
    "start_time": "2022-08-16T08:47:37.513Z"
   },
   {
    "duration": 0,
    "start_time": "2022-08-16T08:47:37.514Z"
   },
   {
    "duration": 0,
    "start_time": "2022-08-16T08:47:37.515Z"
   },
   {
    "duration": 0,
    "start_time": "2022-08-16T08:47:37.517Z"
   },
   {
    "duration": 8,
    "start_time": "2022-08-16T08:49:59.377Z"
   },
   {
    "duration": 11,
    "start_time": "2022-08-16T08:50:15.634Z"
   },
   {
    "duration": 17,
    "start_time": "2022-08-16T08:51:30.467Z"
   },
   {
    "duration": 12,
    "start_time": "2022-08-16T08:51:56.780Z"
   },
   {
    "duration": 8,
    "start_time": "2022-08-16T08:52:08.956Z"
   },
   {
    "duration": 9,
    "start_time": "2022-08-16T08:52:15.687Z"
   },
   {
    "duration": 13,
    "start_time": "2022-08-16T08:53:02.667Z"
   },
   {
    "duration": 4,
    "start_time": "2022-08-16T09:01:07.852Z"
   },
   {
    "duration": 12,
    "start_time": "2022-08-16T09:01:16.156Z"
   },
   {
    "duration": 5,
    "start_time": "2022-08-16T09:01:52.411Z"
   },
   {
    "duration": 8,
    "start_time": "2022-08-16T09:01:53.751Z"
   },
   {
    "duration": 7,
    "start_time": "2022-08-16T09:02:42.424Z"
   },
   {
    "duration": 9,
    "start_time": "2022-08-16T09:02:46.076Z"
   },
   {
    "duration": 4,
    "start_time": "2022-08-16T09:02:58.047Z"
   },
   {
    "duration": 8,
    "start_time": "2022-08-16T09:02:59.584Z"
   },
   {
    "duration": 14,
    "start_time": "2022-08-16T09:03:41.133Z"
   },
   {
    "duration": 9,
    "start_time": "2022-08-16T09:04:15.767Z"
   },
   {
    "duration": 12,
    "start_time": "2022-08-16T09:04:24.422Z"
   },
   {
    "duration": 19,
    "start_time": "2022-08-16T09:05:36.395Z"
   },
   {
    "duration": 4,
    "start_time": "2022-08-16T09:05:52.478Z"
   },
   {
    "duration": 21,
    "start_time": "2022-08-16T09:11:32.288Z"
   },
   {
    "duration": 1550,
    "start_time": "2022-08-16T09:13:13.481Z"
   },
   {
    "duration": 0,
    "start_time": "2022-08-16T09:13:15.033Z"
   },
   {
    "duration": 1180,
    "start_time": "2022-08-16T09:14:42.884Z"
   },
   {
    "duration": 1245,
    "start_time": "2022-08-16T09:15:45.536Z"
   },
   {
    "duration": 1394,
    "start_time": "2022-08-16T09:16:03.035Z"
   },
   {
    "duration": 1210,
    "start_time": "2022-08-16T09:18:49.969Z"
   },
   {
    "duration": 1204,
    "start_time": "2022-08-16T09:19:10.124Z"
   },
   {
    "duration": 55,
    "start_time": "2022-08-16T09:19:11.330Z"
   },
   {
    "duration": 36,
    "start_time": "2022-08-16T09:19:11.387Z"
   },
   {
    "duration": 14,
    "start_time": "2022-08-16T09:19:11.426Z"
   },
   {
    "duration": 18,
    "start_time": "2022-08-16T09:19:11.442Z"
   },
   {
    "duration": 5,
    "start_time": "2022-08-16T09:19:11.462Z"
   },
   {
    "duration": 9,
    "start_time": "2022-08-16T09:19:11.469Z"
   },
   {
    "duration": 52,
    "start_time": "2022-08-16T09:19:11.480Z"
   },
   {
    "duration": 10,
    "start_time": "2022-08-16T09:19:11.534Z"
   },
   {
    "duration": 12,
    "start_time": "2022-08-16T09:19:11.547Z"
   },
   {
    "duration": 5,
    "start_time": "2022-08-16T09:19:11.561Z"
   },
   {
    "duration": 7,
    "start_time": "2022-08-16T09:19:11.567Z"
   },
   {
    "duration": 43,
    "start_time": "2022-08-16T09:19:11.576Z"
   },
   {
    "duration": 29,
    "start_time": "2022-08-16T09:19:11.620Z"
   },
   {
    "duration": 3,
    "start_time": "2022-08-16T09:19:11.650Z"
   },
   {
    "duration": 32,
    "start_time": "2022-08-16T09:19:11.654Z"
   },
   {
    "duration": 11,
    "start_time": "2022-08-16T09:19:11.715Z"
   },
   {
    "duration": 18,
    "start_time": "2022-08-16T09:19:11.728Z"
   },
   {
    "duration": 11,
    "start_time": "2022-08-16T09:19:11.748Z"
   },
   {
    "duration": 11,
    "start_time": "2022-08-16T09:19:11.761Z"
   },
   {
    "duration": 11,
    "start_time": "2022-08-16T09:19:11.774Z"
   },
   {
    "duration": 14,
    "start_time": "2022-08-16T09:19:11.807Z"
   },
   {
    "duration": 9,
    "start_time": "2022-08-16T09:19:11.822Z"
   },
   {
    "duration": 8,
    "start_time": "2022-08-16T09:19:11.833Z"
   },
   {
    "duration": 10,
    "start_time": "2022-08-16T09:19:11.843Z"
   },
   {
    "duration": 11,
    "start_time": "2022-08-16T09:19:11.855Z"
   },
   {
    "duration": 50,
    "start_time": "2022-08-16T09:19:11.868Z"
   },
   {
    "duration": 9,
    "start_time": "2022-08-16T09:19:11.923Z"
   },
   {
    "duration": 10,
    "start_time": "2022-08-16T09:19:11.933Z"
   },
   {
    "duration": 23,
    "start_time": "2022-08-16T09:19:11.945Z"
   },
   {
    "duration": 42,
    "start_time": "2022-08-16T09:19:11.970Z"
   },
   {
    "duration": 13,
    "start_time": "2022-08-16T09:19:12.021Z"
   },
   {
    "duration": 14,
    "start_time": "2022-08-16T09:19:12.036Z"
   },
   {
    "duration": 198,
    "start_time": "2022-08-16T09:19:12.052Z"
   },
   {
    "duration": 23,
    "start_time": "2022-08-16T09:19:12.252Z"
   },
   {
    "duration": 156,
    "start_time": "2022-08-16T09:19:12.277Z"
   },
   {
    "duration": 19,
    "start_time": "2022-08-16T09:19:12.435Z"
   },
   {
    "duration": 165,
    "start_time": "2022-08-16T09:19:12.457Z"
   },
   {
    "duration": 5,
    "start_time": "2022-08-16T09:19:12.624Z"
   },
   {
    "duration": 165,
    "start_time": "2022-08-16T09:19:12.631Z"
   },
   {
    "duration": 12,
    "start_time": "2022-08-16T09:19:12.797Z"
   },
   {
    "duration": 158,
    "start_time": "2022-08-16T09:19:12.812Z"
   },
   {
    "duration": 6,
    "start_time": "2022-08-16T09:19:12.972Z"
   },
   {
    "duration": 147,
    "start_time": "2022-08-16T09:19:12.979Z"
   },
   {
    "duration": 4,
    "start_time": "2022-08-16T09:19:13.128Z"
   },
   {
    "duration": 151,
    "start_time": "2022-08-16T09:19:13.134Z"
   },
   {
    "duration": 5,
    "start_time": "2022-08-16T09:19:13.286Z"
   },
   {
    "duration": 143,
    "start_time": "2022-08-16T09:19:13.306Z"
   },
   {
    "duration": 4,
    "start_time": "2022-08-16T09:19:13.451Z"
   },
   {
    "duration": 19,
    "start_time": "2022-08-16T09:19:13.456Z"
   },
   {
    "duration": 41,
    "start_time": "2022-08-16T09:19:13.477Z"
   },
   {
    "duration": 21,
    "start_time": "2022-08-16T09:19:13.520Z"
   },
   {
    "duration": 20,
    "start_time": "2022-08-16T09:19:13.543Z"
   },
   {
    "duration": 20,
    "start_time": "2022-08-16T09:19:13.564Z"
   },
   {
    "duration": 35,
    "start_time": "2022-08-16T09:19:13.586Z"
   },
   {
    "duration": 95,
    "start_time": "2022-08-16T09:19:13.622Z"
   },
   {
    "duration": 15,
    "start_time": "2022-08-16T09:19:13.719Z"
   },
   {
    "duration": 15,
    "start_time": "2022-08-16T09:19:13.735Z"
   },
   {
    "duration": 14,
    "start_time": "2022-08-16T09:19:13.752Z"
   },
   {
    "duration": 5,
    "start_time": "2022-08-16T09:19:13.768Z"
   },
   {
    "duration": 16,
    "start_time": "2022-08-16T09:19:13.775Z"
   },
   {
    "duration": 10,
    "start_time": "2022-08-16T09:19:13.816Z"
   },
   {
    "duration": 5,
    "start_time": "2022-08-16T09:19:33.654Z"
   },
   {
    "duration": 8,
    "start_time": "2022-08-16T09:19:37.070Z"
   },
   {
    "duration": 89,
    "start_time": "2022-08-16T09:20:13.656Z"
   },
   {
    "duration": 8,
    "start_time": "2022-08-16T09:20:15.262Z"
   },
   {
    "duration": 1145,
    "start_time": "2022-08-16T09:20:25.225Z"
   },
   {
    "duration": 57,
    "start_time": "2022-08-16T09:20:26.372Z"
   },
   {
    "duration": 25,
    "start_time": "2022-08-16T09:20:26.430Z"
   },
   {
    "duration": 22,
    "start_time": "2022-08-16T09:20:26.458Z"
   },
   {
    "duration": 42,
    "start_time": "2022-08-16T09:20:26.481Z"
   },
   {
    "duration": 8,
    "start_time": "2022-08-16T09:20:26.525Z"
   },
   {
    "duration": 6,
    "start_time": "2022-08-16T09:20:26.535Z"
   },
   {
    "duration": 34,
    "start_time": "2022-08-16T09:20:26.543Z"
   },
   {
    "duration": 29,
    "start_time": "2022-08-16T09:20:26.578Z"
   },
   {
    "duration": 16,
    "start_time": "2022-08-16T09:20:26.609Z"
   },
   {
    "duration": 6,
    "start_time": "2022-08-16T09:20:26.626Z"
   },
   {
    "duration": 66,
    "start_time": "2022-08-16T09:20:26.634Z"
   },
   {
    "duration": 21,
    "start_time": "2022-08-16T09:20:26.702Z"
   },
   {
    "duration": 21,
    "start_time": "2022-08-16T09:20:26.724Z"
   },
   {
    "duration": 2,
    "start_time": "2022-08-16T09:20:26.747Z"
   },
   {
    "duration": 23,
    "start_time": "2022-08-16T09:20:26.750Z"
   },
   {
    "duration": 8,
    "start_time": "2022-08-16T09:20:26.774Z"
   },
   {
    "duration": 10,
    "start_time": "2022-08-16T09:20:26.783Z"
   },
   {
    "duration": 10,
    "start_time": "2022-08-16T09:20:26.795Z"
   },
   {
    "duration": 9,
    "start_time": "2022-08-16T09:20:26.816Z"
   },
   {
    "duration": 9,
    "start_time": "2022-08-16T09:20:26.826Z"
   },
   {
    "duration": 8,
    "start_time": "2022-08-16T09:20:26.837Z"
   },
   {
    "duration": 4,
    "start_time": "2022-08-16T09:20:26.847Z"
   },
   {
    "duration": 5,
    "start_time": "2022-08-16T09:20:26.852Z"
   },
   {
    "duration": 12,
    "start_time": "2022-08-16T09:20:26.858Z"
   },
   {
    "duration": 9,
    "start_time": "2022-08-16T09:20:26.871Z"
   },
   {
    "duration": 16,
    "start_time": "2022-08-16T09:20:26.881Z"
   },
   {
    "duration": 13,
    "start_time": "2022-08-16T09:20:26.901Z"
   },
   {
    "duration": 15,
    "start_time": "2022-08-16T09:20:26.923Z"
   },
   {
    "duration": 31,
    "start_time": "2022-08-16T09:20:26.940Z"
   },
   {
    "duration": 12,
    "start_time": "2022-08-16T09:20:26.973Z"
   },
   {
    "duration": 12,
    "start_time": "2022-08-16T09:20:26.987Z"
   },
   {
    "duration": 19,
    "start_time": "2022-08-16T09:20:27.000Z"
   },
   {
    "duration": 235,
    "start_time": "2022-08-16T09:20:27.020Z"
   },
   {
    "duration": 14,
    "start_time": "2022-08-16T09:20:27.257Z"
   },
   {
    "duration": 279,
    "start_time": "2022-08-16T09:20:27.272Z"
   },
   {
    "duration": 76,
    "start_time": "2022-08-16T09:20:27.552Z"
   },
   {
    "duration": 140,
    "start_time": "2022-08-16T09:20:27.630Z"
   },
   {
    "duration": 4,
    "start_time": "2022-08-16T09:20:27.772Z"
   },
   {
    "duration": 147,
    "start_time": "2022-08-16T09:20:27.778Z"
   },
   {
    "duration": 5,
    "start_time": "2022-08-16T09:20:27.926Z"
   },
   {
    "duration": 150,
    "start_time": "2022-08-16T09:20:27.933Z"
   },
   {
    "duration": 5,
    "start_time": "2022-08-16T09:20:28.085Z"
   },
   {
    "duration": 148,
    "start_time": "2022-08-16T09:20:28.091Z"
   },
   {
    "duration": 4,
    "start_time": "2022-08-16T09:20:28.240Z"
   },
   {
    "duration": 153,
    "start_time": "2022-08-16T09:20:28.246Z"
   },
   {
    "duration": 14,
    "start_time": "2022-08-16T09:20:28.405Z"
   },
   {
    "duration": 173,
    "start_time": "2022-08-16T09:20:28.421Z"
   },
   {
    "duration": 15,
    "start_time": "2022-08-16T09:20:28.596Z"
   },
   {
    "duration": 21,
    "start_time": "2022-08-16T09:20:28.612Z"
   },
   {
    "duration": 14,
    "start_time": "2022-08-16T09:20:28.635Z"
   },
   {
    "duration": 14,
    "start_time": "2022-08-16T09:20:28.650Z"
   },
   {
    "duration": 15,
    "start_time": "2022-08-16T09:20:28.665Z"
   },
   {
    "duration": 31,
    "start_time": "2022-08-16T09:20:28.682Z"
   },
   {
    "duration": 16,
    "start_time": "2022-08-16T09:20:28.714Z"
   },
   {
    "duration": 99,
    "start_time": "2022-08-16T09:20:28.731Z"
   },
   {
    "duration": 14,
    "start_time": "2022-08-16T09:20:28.832Z"
   },
   {
    "duration": 18,
    "start_time": "2022-08-16T09:20:28.848Z"
   },
   {
    "duration": 16,
    "start_time": "2022-08-16T09:20:28.868Z"
   },
   {
    "duration": 36,
    "start_time": "2022-08-16T09:20:28.885Z"
   },
   {
    "duration": 37,
    "start_time": "2022-08-16T09:20:28.923Z"
   },
   {
    "duration": 17,
    "start_time": "2022-08-16T09:20:28.962Z"
   },
   {
    "duration": 94,
    "start_time": "2022-08-16T09:20:45.186Z"
   },
   {
    "duration": 9,
    "start_time": "2022-08-16T09:20:46.346Z"
   },
   {
    "duration": 101,
    "start_time": "2022-08-16T09:20:58.494Z"
   },
   {
    "duration": 8,
    "start_time": "2022-08-16T09:20:59.942Z"
   },
   {
    "duration": 1189,
    "start_time": "2022-08-16T09:21:10.431Z"
   },
   {
    "duration": 53,
    "start_time": "2022-08-16T09:21:11.622Z"
   },
   {
    "duration": 23,
    "start_time": "2022-08-16T09:21:11.676Z"
   },
   {
    "duration": 14,
    "start_time": "2022-08-16T09:21:11.700Z"
   },
   {
    "duration": 33,
    "start_time": "2022-08-16T09:21:11.716Z"
   },
   {
    "duration": 4,
    "start_time": "2022-08-16T09:21:11.751Z"
   },
   {
    "duration": 9,
    "start_time": "2022-08-16T09:21:11.756Z"
   },
   {
    "duration": 23,
    "start_time": "2022-08-16T09:21:11.766Z"
   },
   {
    "duration": 8,
    "start_time": "2022-08-16T09:21:11.790Z"
   },
   {
    "duration": 18,
    "start_time": "2022-08-16T09:21:11.799Z"
   },
   {
    "duration": 24,
    "start_time": "2022-08-16T09:21:11.818Z"
   },
   {
    "duration": 100,
    "start_time": "2022-08-16T09:21:11.843Z"
   },
   {
    "duration": 7,
    "start_time": "2022-08-16T09:21:11.945Z"
   },
   {
    "duration": 24,
    "start_time": "2022-08-16T09:21:11.955Z"
   },
   {
    "duration": 2,
    "start_time": "2022-08-16T09:21:11.980Z"
   },
   {
    "duration": 41,
    "start_time": "2022-08-16T09:21:11.983Z"
   },
   {
    "duration": 15,
    "start_time": "2022-08-16T09:21:12.026Z"
   },
   {
    "duration": 12,
    "start_time": "2022-08-16T09:21:12.043Z"
   },
   {
    "duration": 10,
    "start_time": "2022-08-16T09:21:12.056Z"
   },
   {
    "duration": 11,
    "start_time": "2022-08-16T09:21:12.068Z"
   },
   {
    "duration": 26,
    "start_time": "2022-08-16T09:21:12.081Z"
   },
   {
    "duration": 35,
    "start_time": "2022-08-16T09:21:12.108Z"
   },
   {
    "duration": 5,
    "start_time": "2022-08-16T09:21:12.144Z"
   },
   {
    "duration": 5,
    "start_time": "2022-08-16T09:21:12.150Z"
   },
   {
    "duration": 9,
    "start_time": "2022-08-16T09:21:12.156Z"
   },
   {
    "duration": 9,
    "start_time": "2022-08-16T09:21:12.166Z"
   },
   {
    "duration": 16,
    "start_time": "2022-08-16T09:21:12.176Z"
   },
   {
    "duration": 18,
    "start_time": "2022-08-16T09:21:12.194Z"
   },
   {
    "duration": 33,
    "start_time": "2022-08-16T09:21:12.214Z"
   },
   {
    "duration": 22,
    "start_time": "2022-08-16T09:21:12.248Z"
   },
   {
    "duration": 11,
    "start_time": "2022-08-16T09:21:12.272Z"
   },
   {
    "duration": 11,
    "start_time": "2022-08-16T09:21:12.285Z"
   },
   {
    "duration": 20,
    "start_time": "2022-08-16T09:21:12.298Z"
   },
   {
    "duration": 188,
    "start_time": "2022-08-16T09:21:12.320Z"
   },
   {
    "duration": 19,
    "start_time": "2022-08-16T09:21:12.510Z"
   },
   {
    "duration": 126,
    "start_time": "2022-08-16T09:21:12.532Z"
   },
   {
    "duration": 18,
    "start_time": "2022-08-16T09:21:12.660Z"
   },
   {
    "duration": 168,
    "start_time": "2022-08-16T09:21:12.679Z"
   },
   {
    "duration": 4,
    "start_time": "2022-08-16T09:21:12.849Z"
   },
   {
    "duration": 160,
    "start_time": "2022-08-16T09:21:12.855Z"
   },
   {
    "duration": 6,
    "start_time": "2022-08-16T09:21:13.021Z"
   },
   {
    "duration": 164,
    "start_time": "2022-08-16T09:21:13.029Z"
   },
   {
    "duration": 5,
    "start_time": "2022-08-16T09:21:13.195Z"
   },
   {
    "duration": 154,
    "start_time": "2022-08-16T09:21:13.201Z"
   },
   {
    "duration": 4,
    "start_time": "2022-08-16T09:21:13.357Z"
   },
   {
    "duration": 158,
    "start_time": "2022-08-16T09:21:13.363Z"
   },
   {
    "duration": 5,
    "start_time": "2022-08-16T09:21:13.523Z"
   },
   {
    "duration": 141,
    "start_time": "2022-08-16T09:21:13.529Z"
   },
   {
    "duration": 5,
    "start_time": "2022-08-16T09:21:13.671Z"
   },
   {
    "duration": 19,
    "start_time": "2022-08-16T09:21:13.677Z"
   },
   {
    "duration": 23,
    "start_time": "2022-08-16T09:21:13.697Z"
   },
   {
    "duration": 16,
    "start_time": "2022-08-16T09:21:13.722Z"
   },
   {
    "duration": 13,
    "start_time": "2022-08-16T09:21:13.739Z"
   },
   {
    "duration": 13,
    "start_time": "2022-08-16T09:21:13.753Z"
   },
   {
    "duration": 12,
    "start_time": "2022-08-16T09:21:13.767Z"
   },
   {
    "duration": 108,
    "start_time": "2022-08-16T09:21:13.780Z"
   },
   {
    "duration": 22,
    "start_time": "2022-08-16T09:21:13.889Z"
   },
   {
    "duration": 16,
    "start_time": "2022-08-16T09:21:13.912Z"
   },
   {
    "duration": 21,
    "start_time": "2022-08-16T09:21:13.930Z"
   },
   {
    "duration": 4,
    "start_time": "2022-08-16T09:21:13.953Z"
   },
   {
    "duration": 11,
    "start_time": "2022-08-16T09:21:13.958Z"
   },
   {
    "duration": 11,
    "start_time": "2022-08-16T09:21:13.971Z"
   },
   {
    "duration": 172,
    "start_time": "2022-08-16T09:22:11.030Z"
   },
   {
    "duration": 9,
    "start_time": "2022-08-16T09:22:12.168Z"
   },
   {
    "duration": 1193,
    "start_time": "2022-08-16T09:22:33.530Z"
   },
   {
    "duration": 54,
    "start_time": "2022-08-16T09:22:34.725Z"
   },
   {
    "duration": 30,
    "start_time": "2022-08-16T09:22:34.780Z"
   },
   {
    "duration": 30,
    "start_time": "2022-08-16T09:22:34.812Z"
   },
   {
    "duration": 18,
    "start_time": "2022-08-16T09:22:34.845Z"
   },
   {
    "duration": 5,
    "start_time": "2022-08-16T09:22:34.864Z"
   },
   {
    "duration": 12,
    "start_time": "2022-08-16T09:22:34.871Z"
   },
   {
    "duration": 36,
    "start_time": "2022-08-16T09:22:34.907Z"
   },
   {
    "duration": 19,
    "start_time": "2022-08-16T09:22:34.946Z"
   },
   {
    "duration": 20,
    "start_time": "2022-08-16T09:22:34.967Z"
   },
   {
    "duration": 8,
    "start_time": "2022-08-16T09:22:35.007Z"
   },
   {
    "duration": 175,
    "start_time": "2022-08-16T09:22:35.017Z"
   },
   {
    "duration": 12,
    "start_time": "2022-08-16T09:22:35.194Z"
   },
   {
    "duration": 55,
    "start_time": "2022-08-16T09:22:35.209Z"
   },
   {
    "duration": 3,
    "start_time": "2022-08-16T09:22:35.266Z"
   },
   {
    "duration": 23,
    "start_time": "2022-08-16T09:22:35.271Z"
   },
   {
    "duration": 8,
    "start_time": "2022-08-16T09:22:35.296Z"
   },
   {
    "duration": 51,
    "start_time": "2022-08-16T09:22:35.308Z"
   },
   {
    "duration": 23,
    "start_time": "2022-08-16T09:22:35.360Z"
   },
   {
    "duration": 10,
    "start_time": "2022-08-16T09:22:35.385Z"
   },
   {
    "duration": 9,
    "start_time": "2022-08-16T09:22:35.396Z"
   },
   {
    "duration": 42,
    "start_time": "2022-08-16T09:22:35.408Z"
   },
   {
    "duration": 8,
    "start_time": "2022-08-16T09:22:35.453Z"
   },
   {
    "duration": 4,
    "start_time": "2022-08-16T09:22:35.464Z"
   },
   {
    "duration": 9,
    "start_time": "2022-08-16T09:22:35.470Z"
   },
   {
    "duration": 10,
    "start_time": "2022-08-16T09:22:35.480Z"
   },
   {
    "duration": 37,
    "start_time": "2022-08-16T09:22:35.492Z"
   },
   {
    "duration": 18,
    "start_time": "2022-08-16T09:22:35.532Z"
   },
   {
    "duration": 12,
    "start_time": "2022-08-16T09:22:35.551Z"
   },
   {
    "duration": 53,
    "start_time": "2022-08-16T09:22:35.564Z"
   },
   {
    "duration": 15,
    "start_time": "2022-08-16T09:22:35.618Z"
   },
   {
    "duration": 28,
    "start_time": "2022-08-16T09:22:35.635Z"
   },
   {
    "duration": 13,
    "start_time": "2022-08-16T09:22:35.665Z"
   },
   {
    "duration": 224,
    "start_time": "2022-08-16T09:22:35.680Z"
   },
   {
    "duration": 22,
    "start_time": "2022-08-16T09:22:35.909Z"
   },
   {
    "duration": 131,
    "start_time": "2022-08-16T09:22:35.933Z"
   },
   {
    "duration": 24,
    "start_time": "2022-08-16T09:22:36.066Z"
   },
   {
    "duration": 197,
    "start_time": "2022-08-16T09:22:36.092Z"
   },
   {
    "duration": 23,
    "start_time": "2022-08-16T09:22:36.296Z"
   },
   {
    "duration": 221,
    "start_time": "2022-08-16T09:22:36.322Z"
   },
   {
    "duration": 6,
    "start_time": "2022-08-16T09:22:36.548Z"
   },
   {
    "duration": 197,
    "start_time": "2022-08-16T09:22:36.557Z"
   },
   {
    "duration": 6,
    "start_time": "2022-08-16T09:22:36.755Z"
   },
   {
    "duration": 194,
    "start_time": "2022-08-16T09:22:36.763Z"
   },
   {
    "duration": 6,
    "start_time": "2022-08-16T09:22:36.959Z"
   },
   {
    "duration": 191,
    "start_time": "2022-08-16T09:22:36.967Z"
   },
   {
    "duration": 6,
    "start_time": "2022-08-16T09:22:37.160Z"
   },
   {
    "duration": 203,
    "start_time": "2022-08-16T09:22:37.167Z"
   },
   {
    "duration": 5,
    "start_time": "2022-08-16T09:22:37.372Z"
   },
   {
    "duration": 29,
    "start_time": "2022-08-16T09:22:37.378Z"
   },
   {
    "duration": 19,
    "start_time": "2022-08-16T09:22:37.408Z"
   },
   {
    "duration": 36,
    "start_time": "2022-08-16T09:22:37.428Z"
   },
   {
    "duration": 16,
    "start_time": "2022-08-16T09:22:37.465Z"
   },
   {
    "duration": 49,
    "start_time": "2022-08-16T09:22:37.483Z"
   },
   {
    "duration": 25,
    "start_time": "2022-08-16T09:22:37.536Z"
   },
   {
    "duration": 118,
    "start_time": "2022-08-16T09:22:37.564Z"
   },
   {
    "duration": 15,
    "start_time": "2022-08-16T09:22:37.683Z"
   },
   {
    "duration": 25,
    "start_time": "2022-08-16T09:22:37.700Z"
   },
   {
    "duration": 46,
    "start_time": "2022-08-16T09:22:37.726Z"
   },
   {
    "duration": 8,
    "start_time": "2022-08-16T09:22:37.773Z"
   },
   {
    "duration": 22,
    "start_time": "2022-08-16T09:22:37.783Z"
   },
   {
    "duration": 66,
    "start_time": "2022-08-16T09:22:37.807Z"
   },
   {
    "duration": 3,
    "start_time": "2022-08-16T09:23:33.569Z"
   },
   {
    "duration": 81,
    "start_time": "2022-08-16T09:23:33.574Z"
   },
   {
    "duration": 19,
    "start_time": "2022-08-16T09:23:33.657Z"
   },
   {
    "duration": 15,
    "start_time": "2022-08-16T09:23:33.678Z"
   },
   {
    "duration": 23,
    "start_time": "2022-08-16T09:23:33.695Z"
   },
   {
    "duration": 18,
    "start_time": "2022-08-16T09:23:33.720Z"
   },
   {
    "duration": 5,
    "start_time": "2022-08-16T09:23:33.739Z"
   },
   {
    "duration": 22,
    "start_time": "2022-08-16T09:23:33.746Z"
   },
   {
    "duration": 9,
    "start_time": "2022-08-16T09:23:33.769Z"
   },
   {
    "duration": 17,
    "start_time": "2022-08-16T09:23:33.779Z"
   },
   {
    "duration": 13,
    "start_time": "2022-08-16T09:23:33.798Z"
   },
   {
    "duration": 213,
    "start_time": "2022-08-16T09:23:33.813Z"
   },
   {
    "duration": 11,
    "start_time": "2022-08-16T09:23:34.030Z"
   },
   {
    "duration": 24,
    "start_time": "2022-08-16T09:23:34.043Z"
   },
   {
    "duration": 2,
    "start_time": "2022-08-16T09:23:34.069Z"
   },
   {
    "duration": 41,
    "start_time": "2022-08-16T09:23:34.072Z"
   },
   {
    "duration": 12,
    "start_time": "2022-08-16T09:23:34.115Z"
   },
   {
    "duration": 15,
    "start_time": "2022-08-16T09:23:34.129Z"
   },
   {
    "duration": 8,
    "start_time": "2022-08-16T09:23:34.146Z"
   },
   {
    "duration": 11,
    "start_time": "2022-08-16T09:23:34.155Z"
   },
   {
    "duration": 9,
    "start_time": "2022-08-16T09:23:34.167Z"
   },
   {
    "duration": 32,
    "start_time": "2022-08-16T09:23:34.178Z"
   },
   {
    "duration": 6,
    "start_time": "2022-08-16T09:23:34.211Z"
   },
   {
    "duration": 22,
    "start_time": "2022-08-16T09:23:34.219Z"
   },
   {
    "duration": 8,
    "start_time": "2022-08-16T09:23:34.242Z"
   },
   {
    "duration": 10,
    "start_time": "2022-08-16T09:23:34.252Z"
   },
   {
    "duration": 18,
    "start_time": "2022-08-16T09:23:34.264Z"
   },
   {
    "duration": 30,
    "start_time": "2022-08-16T09:23:34.284Z"
   },
   {
    "duration": 24,
    "start_time": "2022-08-16T09:23:34.320Z"
   },
   {
    "duration": 26,
    "start_time": "2022-08-16T09:23:34.346Z"
   },
   {
    "duration": 13,
    "start_time": "2022-08-16T09:23:34.374Z"
   },
   {
    "duration": 19,
    "start_time": "2022-08-16T09:23:34.388Z"
   },
   {
    "duration": 19,
    "start_time": "2022-08-16T09:23:34.408Z"
   },
   {
    "duration": 170,
    "start_time": "2022-08-16T09:23:34.432Z"
   },
   {
    "duration": 18,
    "start_time": "2022-08-16T09:23:34.605Z"
   },
   {
    "duration": 104,
    "start_time": "2022-08-16T09:23:34.625Z"
   },
   {
    "duration": 18,
    "start_time": "2022-08-16T09:23:34.731Z"
   },
   {
    "duration": 140,
    "start_time": "2022-08-16T09:23:34.751Z"
   },
   {
    "duration": 5,
    "start_time": "2022-08-16T09:23:34.892Z"
   },
   {
    "duration": 158,
    "start_time": "2022-08-16T09:23:34.898Z"
   },
   {
    "duration": 5,
    "start_time": "2022-08-16T09:23:35.057Z"
   },
   {
    "duration": 166,
    "start_time": "2022-08-16T09:23:35.063Z"
   },
   {
    "duration": 5,
    "start_time": "2022-08-16T09:23:35.231Z"
   },
   {
    "duration": 140,
    "start_time": "2022-08-16T09:23:35.238Z"
   },
   {
    "duration": 4,
    "start_time": "2022-08-16T09:23:35.379Z"
   },
   {
    "duration": 168,
    "start_time": "2022-08-16T09:23:35.384Z"
   },
   {
    "duration": 5,
    "start_time": "2022-08-16T09:23:35.553Z"
   },
   {
    "duration": 146,
    "start_time": "2022-08-16T09:23:35.559Z"
   },
   {
    "duration": 9,
    "start_time": "2022-08-16T09:23:35.708Z"
   },
   {
    "duration": 39,
    "start_time": "2022-08-16T09:23:35.719Z"
   },
   {
    "duration": 14,
    "start_time": "2022-08-16T09:23:35.760Z"
   },
   {
    "duration": 14,
    "start_time": "2022-08-16T09:23:35.776Z"
   },
   {
    "duration": 21,
    "start_time": "2022-08-16T09:23:35.791Z"
   },
   {
    "duration": 17,
    "start_time": "2022-08-16T09:23:35.814Z"
   },
   {
    "duration": 28,
    "start_time": "2022-08-16T09:23:35.832Z"
   },
   {
    "duration": 12,
    "start_time": "2022-08-16T09:23:35.861Z"
   },
   {
    "duration": 12,
    "start_time": "2022-08-16T09:23:35.875Z"
   },
   {
    "duration": 24,
    "start_time": "2022-08-16T09:23:35.888Z"
   },
   {
    "duration": 16,
    "start_time": "2022-08-16T09:23:35.914Z"
   },
   {
    "duration": 10,
    "start_time": "2022-08-16T09:23:35.931Z"
   },
   {
    "duration": 9,
    "start_time": "2022-08-16T09:23:35.943Z"
   },
   {
    "duration": 8,
    "start_time": "2022-08-16T09:23:35.953Z"
   },
   {
    "duration": 105,
    "start_time": "2022-08-16T09:24:31.757Z"
   },
   {
    "duration": 13,
    "start_time": "2022-08-16T09:24:33.440Z"
   },
   {
    "duration": 1121,
    "start_time": "2022-08-16T09:24:46.183Z"
   },
   {
    "duration": 61,
    "start_time": "2022-08-16T09:24:47.306Z"
   },
   {
    "duration": 22,
    "start_time": "2022-08-16T09:24:47.369Z"
   },
   {
    "duration": 12,
    "start_time": "2022-08-16T09:24:47.393Z"
   },
   {
    "duration": 34,
    "start_time": "2022-08-16T09:24:47.407Z"
   },
   {
    "duration": 5,
    "start_time": "2022-08-16T09:24:47.443Z"
   },
   {
    "duration": 6,
    "start_time": "2022-08-16T09:24:47.450Z"
   },
   {
    "duration": 25,
    "start_time": "2022-08-16T09:24:47.457Z"
   },
   {
    "duration": 7,
    "start_time": "2022-08-16T09:24:47.484Z"
   },
   {
    "duration": 13,
    "start_time": "2022-08-16T09:24:47.493Z"
   },
   {
    "duration": 5,
    "start_time": "2022-08-16T09:24:47.508Z"
   },
   {
    "duration": 462,
    "start_time": "2022-08-16T09:24:47.514Z"
   },
   {
    "duration": 0,
    "start_time": "2022-08-16T09:24:47.978Z"
   },
   {
    "duration": 0,
    "start_time": "2022-08-16T09:24:47.980Z"
   },
   {
    "duration": 0,
    "start_time": "2022-08-16T09:24:47.981Z"
   },
   {
    "duration": 0,
    "start_time": "2022-08-16T09:24:47.982Z"
   },
   {
    "duration": 0,
    "start_time": "2022-08-16T09:24:47.983Z"
   },
   {
    "duration": 0,
    "start_time": "2022-08-16T09:24:47.984Z"
   },
   {
    "duration": 0,
    "start_time": "2022-08-16T09:24:47.985Z"
   },
   {
    "duration": 0,
    "start_time": "2022-08-16T09:24:47.986Z"
   },
   {
    "duration": 0,
    "start_time": "2022-08-16T09:24:47.987Z"
   },
   {
    "duration": 0,
    "start_time": "2022-08-16T09:24:47.988Z"
   },
   {
    "duration": 0,
    "start_time": "2022-08-16T09:24:47.989Z"
   },
   {
    "duration": 0,
    "start_time": "2022-08-16T09:24:47.990Z"
   },
   {
    "duration": 0,
    "start_time": "2022-08-16T09:24:47.992Z"
   },
   {
    "duration": 0,
    "start_time": "2022-08-16T09:24:47.992Z"
   },
   {
    "duration": 0,
    "start_time": "2022-08-16T09:24:47.993Z"
   },
   {
    "duration": 0,
    "start_time": "2022-08-16T09:24:47.994Z"
   },
   {
    "duration": 0,
    "start_time": "2022-08-16T09:24:47.995Z"
   },
   {
    "duration": 0,
    "start_time": "2022-08-16T09:24:47.997Z"
   },
   {
    "duration": 0,
    "start_time": "2022-08-16T09:24:47.998Z"
   },
   {
    "duration": 0,
    "start_time": "2022-08-16T09:24:47.999Z"
   },
   {
    "duration": 0,
    "start_time": "2022-08-16T09:24:48.000Z"
   },
   {
    "duration": 0,
    "start_time": "2022-08-16T09:24:48.001Z"
   },
   {
    "duration": 0,
    "start_time": "2022-08-16T09:24:48.002Z"
   },
   {
    "duration": 0,
    "start_time": "2022-08-16T09:24:48.003Z"
   },
   {
    "duration": 0,
    "start_time": "2022-08-16T09:24:48.004Z"
   },
   {
    "duration": 0,
    "start_time": "2022-08-16T09:24:48.005Z"
   },
   {
    "duration": 0,
    "start_time": "2022-08-16T09:24:48.006Z"
   },
   {
    "duration": 0,
    "start_time": "2022-08-16T09:24:48.007Z"
   },
   {
    "duration": 0,
    "start_time": "2022-08-16T09:24:48.009Z"
   },
   {
    "duration": 0,
    "start_time": "2022-08-16T09:24:48.009Z"
   },
   {
    "duration": 0,
    "start_time": "2022-08-16T09:24:48.010Z"
   },
   {
    "duration": 0,
    "start_time": "2022-08-16T09:24:48.012Z"
   },
   {
    "duration": 0,
    "start_time": "2022-08-16T09:24:48.013Z"
   },
   {
    "duration": 0,
    "start_time": "2022-08-16T09:24:48.014Z"
   },
   {
    "duration": 0,
    "start_time": "2022-08-16T09:24:48.015Z"
   },
   {
    "duration": 0,
    "start_time": "2022-08-16T09:24:48.016Z"
   },
   {
    "duration": 0,
    "start_time": "2022-08-16T09:24:48.017Z"
   },
   {
    "duration": 0,
    "start_time": "2022-08-16T09:24:48.018Z"
   },
   {
    "duration": 0,
    "start_time": "2022-08-16T09:24:48.019Z"
   },
   {
    "duration": 0,
    "start_time": "2022-08-16T09:24:48.020Z"
   },
   {
    "duration": 0,
    "start_time": "2022-08-16T09:24:48.021Z"
   },
   {
    "duration": 0,
    "start_time": "2022-08-16T09:24:48.022Z"
   },
   {
    "duration": 0,
    "start_time": "2022-08-16T09:24:48.024Z"
   },
   {
    "duration": 0,
    "start_time": "2022-08-16T09:24:48.026Z"
   },
   {
    "duration": 0,
    "start_time": "2022-08-16T09:24:48.027Z"
   },
   {
    "duration": 0,
    "start_time": "2022-08-16T09:24:48.028Z"
   },
   {
    "duration": 0,
    "start_time": "2022-08-16T09:24:48.030Z"
   },
   {
    "duration": 0,
    "start_time": "2022-08-16T09:24:48.031Z"
   },
   {
    "duration": 0,
    "start_time": "2022-08-16T09:24:48.032Z"
   },
   {
    "duration": 0,
    "start_time": "2022-08-16T09:24:48.033Z"
   },
   {
    "duration": 336,
    "start_time": "2022-08-16T09:25:22.853Z"
   },
   {
    "duration": 3,
    "start_time": "2022-08-16T09:25:33.038Z"
   },
   {
    "duration": 55,
    "start_time": "2022-08-16T09:25:33.043Z"
   },
   {
    "duration": 20,
    "start_time": "2022-08-16T09:25:33.100Z"
   },
   {
    "duration": 15,
    "start_time": "2022-08-16T09:25:33.121Z"
   },
   {
    "duration": 14,
    "start_time": "2022-08-16T09:25:33.138Z"
   },
   {
    "duration": 4,
    "start_time": "2022-08-16T09:25:33.154Z"
   },
   {
    "duration": 6,
    "start_time": "2022-08-16T09:25:33.159Z"
   },
   {
    "duration": 60,
    "start_time": "2022-08-16T09:25:33.166Z"
   },
   {
    "duration": 11,
    "start_time": "2022-08-16T09:25:33.228Z"
   },
   {
    "duration": 24,
    "start_time": "2022-08-16T09:25:33.241Z"
   },
   {
    "duration": 5,
    "start_time": "2022-08-16T09:25:33.268Z"
   },
   {
    "duration": 190,
    "start_time": "2022-08-16T09:25:33.274Z"
   },
   {
    "duration": 9,
    "start_time": "2022-08-16T09:25:33.465Z"
   },
   {
    "duration": 32,
    "start_time": "2022-08-16T09:25:33.475Z"
   },
   {
    "duration": 3,
    "start_time": "2022-08-16T09:25:33.509Z"
   },
   {
    "duration": 42,
    "start_time": "2022-08-16T09:25:33.513Z"
   },
   {
    "duration": 9,
    "start_time": "2022-08-16T09:25:33.557Z"
   },
   {
    "duration": 15,
    "start_time": "2022-08-16T09:25:33.567Z"
   },
   {
    "duration": 14,
    "start_time": "2022-08-16T09:25:33.583Z"
   },
   {
    "duration": 13,
    "start_time": "2022-08-16T09:25:33.606Z"
   },
   {
    "duration": 16,
    "start_time": "2022-08-16T09:25:33.620Z"
   },
   {
    "duration": 16,
    "start_time": "2022-08-16T09:25:33.638Z"
   },
   {
    "duration": 5,
    "start_time": "2022-08-16T09:25:33.655Z"
   },
   {
    "duration": 16,
    "start_time": "2022-08-16T09:25:33.661Z"
   },
   {
    "duration": 11,
    "start_time": "2022-08-16T09:25:33.678Z"
   },
   {
    "duration": 28,
    "start_time": "2022-08-16T09:25:33.691Z"
   },
   {
    "duration": 26,
    "start_time": "2022-08-16T09:25:33.720Z"
   },
   {
    "duration": 23,
    "start_time": "2022-08-16T09:25:33.747Z"
   },
   {
    "duration": 13,
    "start_time": "2022-08-16T09:25:33.773Z"
   },
   {
    "duration": 24,
    "start_time": "2022-08-16T09:25:33.788Z"
   },
   {
    "duration": 11,
    "start_time": "2022-08-16T09:25:33.813Z"
   },
   {
    "duration": 12,
    "start_time": "2022-08-16T09:25:33.826Z"
   },
   {
    "duration": 20,
    "start_time": "2022-08-16T09:25:33.840Z"
   },
   {
    "duration": 172,
    "start_time": "2022-08-16T09:25:33.862Z"
   },
   {
    "duration": 26,
    "start_time": "2022-08-16T09:25:34.035Z"
   },
   {
    "duration": 106,
    "start_time": "2022-08-16T09:25:34.063Z"
   },
   {
    "duration": 17,
    "start_time": "2022-08-16T09:25:34.170Z"
   },
   {
    "duration": 134,
    "start_time": "2022-08-16T09:25:34.188Z"
   },
   {
    "duration": 5,
    "start_time": "2022-08-16T09:25:34.323Z"
   },
   {
    "duration": 155,
    "start_time": "2022-08-16T09:25:34.330Z"
   },
   {
    "duration": 4,
    "start_time": "2022-08-16T09:25:34.487Z"
   },
   {
    "duration": 152,
    "start_time": "2022-08-16T09:25:34.493Z"
   },
   {
    "duration": 5,
    "start_time": "2022-08-16T09:25:34.647Z"
   },
   {
    "duration": 139,
    "start_time": "2022-08-16T09:25:34.654Z"
   },
   {
    "duration": 4,
    "start_time": "2022-08-16T09:25:34.795Z"
   },
   {
    "duration": 129,
    "start_time": "2022-08-16T09:25:34.800Z"
   },
   {
    "duration": 4,
    "start_time": "2022-08-16T09:25:34.931Z"
   },
   {
    "duration": 145,
    "start_time": "2022-08-16T09:25:34.936Z"
   },
   {
    "duration": 5,
    "start_time": "2022-08-16T09:25:35.083Z"
   },
   {
    "duration": 27,
    "start_time": "2022-08-16T09:25:35.089Z"
   },
   {
    "duration": 14,
    "start_time": "2022-08-16T09:25:35.118Z"
   },
   {
    "duration": 15,
    "start_time": "2022-08-16T09:25:35.134Z"
   },
   {
    "duration": 14,
    "start_time": "2022-08-16T09:25:35.150Z"
   },
   {
    "duration": 42,
    "start_time": "2022-08-16T09:25:35.166Z"
   },
   {
    "duration": 14,
    "start_time": "2022-08-16T09:25:35.210Z"
   },
   {
    "duration": 94,
    "start_time": "2022-08-16T09:25:35.226Z"
   },
   {
    "duration": 14,
    "start_time": "2022-08-16T09:25:35.322Z"
   },
   {
    "duration": 13,
    "start_time": "2022-08-16T09:25:35.337Z"
   },
   {
    "duration": 13,
    "start_time": "2022-08-16T09:25:35.352Z"
   },
   {
    "duration": 5,
    "start_time": "2022-08-16T09:25:35.366Z"
   },
   {
    "duration": 38,
    "start_time": "2022-08-16T09:25:35.372Z"
   },
   {
    "duration": 10,
    "start_time": "2022-08-16T09:25:35.412Z"
   },
   {
    "duration": 142,
    "start_time": "2022-08-16T09:30:54.261Z"
   },
   {
    "duration": 11,
    "start_time": "2022-08-16T09:30:55.420Z"
   },
   {
    "duration": 20,
    "start_time": "2022-08-16T09:31:00.327Z"
   },
   {
    "duration": 1351,
    "start_time": "2022-08-16T09:33:03.053Z"
   },
   {
    "duration": 9,
    "start_time": "2022-08-16T09:33:34.874Z"
   },
   {
    "duration": 1102,
    "start_time": "2022-08-16T09:33:48.085Z"
   },
   {
    "duration": 55,
    "start_time": "2022-08-16T09:33:49.189Z"
   },
   {
    "duration": 22,
    "start_time": "2022-08-16T09:33:49.245Z"
   },
   {
    "duration": 12,
    "start_time": "2022-08-16T09:33:49.269Z"
   },
   {
    "duration": 13,
    "start_time": "2022-08-16T09:33:49.283Z"
   },
   {
    "duration": 11,
    "start_time": "2022-08-16T09:33:49.297Z"
   },
   {
    "duration": 21,
    "start_time": "2022-08-16T09:33:49.310Z"
   },
   {
    "duration": 24,
    "start_time": "2022-08-16T09:33:49.332Z"
   },
   {
    "duration": 9,
    "start_time": "2022-08-16T09:33:49.357Z"
   },
   {
    "duration": 13,
    "start_time": "2022-08-16T09:33:49.368Z"
   },
   {
    "duration": 6,
    "start_time": "2022-08-16T09:33:49.382Z"
   },
   {
    "duration": 104,
    "start_time": "2022-08-16T09:33:49.389Z"
   },
   {
    "duration": 11,
    "start_time": "2022-08-16T09:33:49.495Z"
   },
   {
    "duration": 44,
    "start_time": "2022-08-16T09:33:49.508Z"
   },
   {
    "duration": 2,
    "start_time": "2022-08-16T09:33:49.553Z"
   },
   {
    "duration": 32,
    "start_time": "2022-08-16T09:33:49.556Z"
   },
   {
    "duration": 8,
    "start_time": "2022-08-16T09:33:49.590Z"
   },
   {
    "duration": 13,
    "start_time": "2022-08-16T09:33:49.599Z"
   },
   {
    "duration": 17,
    "start_time": "2022-08-16T09:33:49.614Z"
   },
   {
    "duration": 8,
    "start_time": "2022-08-16T09:33:49.633Z"
   },
   {
    "duration": 8,
    "start_time": "2022-08-16T09:33:49.642Z"
   },
   {
    "duration": 8,
    "start_time": "2022-08-16T09:33:49.652Z"
   },
   {
    "duration": 5,
    "start_time": "2022-08-16T09:33:49.661Z"
   },
   {
    "duration": 11,
    "start_time": "2022-08-16T09:33:49.667Z"
   },
   {
    "duration": 34,
    "start_time": "2022-08-16T09:33:49.679Z"
   },
   {
    "duration": 23,
    "start_time": "2022-08-16T09:33:49.715Z"
   },
   {
    "duration": 18,
    "start_time": "2022-08-16T09:33:49.739Z"
   },
   {
    "duration": 9,
    "start_time": "2022-08-16T09:33:49.760Z"
   },
   {
    "duration": 39,
    "start_time": "2022-08-16T09:33:49.770Z"
   },
   {
    "duration": 34,
    "start_time": "2022-08-16T09:33:49.810Z"
   },
   {
    "duration": 11,
    "start_time": "2022-08-16T09:33:49.846Z"
   },
   {
    "duration": 16,
    "start_time": "2022-08-16T09:33:49.858Z"
   },
   {
    "duration": 13,
    "start_time": "2022-08-16T09:33:49.875Z"
   },
   {
    "duration": 175,
    "start_time": "2022-08-16T09:33:49.889Z"
   },
   {
    "duration": 15,
    "start_time": "2022-08-16T09:33:50.065Z"
   },
   {
    "duration": 112,
    "start_time": "2022-08-16T09:33:50.081Z"
   },
   {
    "duration": 28,
    "start_time": "2022-08-16T09:33:50.194Z"
   },
   {
    "duration": 137,
    "start_time": "2022-08-16T09:33:50.224Z"
   },
   {
    "duration": 5,
    "start_time": "2022-08-16T09:33:50.363Z"
   },
   {
    "duration": 157,
    "start_time": "2022-08-16T09:33:50.369Z"
   },
   {
    "duration": 5,
    "start_time": "2022-08-16T09:33:50.527Z"
   },
   {
    "duration": 148,
    "start_time": "2022-08-16T09:33:50.533Z"
   },
   {
    "duration": 5,
    "start_time": "2022-08-16T09:33:50.683Z"
   },
   {
    "duration": 141,
    "start_time": "2022-08-16T09:33:50.690Z"
   },
   {
    "duration": 4,
    "start_time": "2022-08-16T09:33:50.833Z"
   },
   {
    "duration": 145,
    "start_time": "2022-08-16T09:33:50.839Z"
   },
   {
    "duration": 4,
    "start_time": "2022-08-16T09:33:50.985Z"
   },
   {
    "duration": 145,
    "start_time": "2022-08-16T09:33:50.990Z"
   },
   {
    "duration": 4,
    "start_time": "2022-08-16T09:33:51.137Z"
   },
   {
    "duration": 17,
    "start_time": "2022-08-16T09:33:51.142Z"
   },
   {
    "duration": 13,
    "start_time": "2022-08-16T09:33:51.161Z"
   },
   {
    "duration": 32,
    "start_time": "2022-08-16T09:33:51.175Z"
   },
   {
    "duration": 17,
    "start_time": "2022-08-16T09:33:51.208Z"
   },
   {
    "duration": 13,
    "start_time": "2022-08-16T09:33:51.226Z"
   },
   {
    "duration": 13,
    "start_time": "2022-08-16T09:33:51.240Z"
   },
   {
    "duration": 115,
    "start_time": "2022-08-16T09:33:51.254Z"
   },
   {
    "duration": 12,
    "start_time": "2022-08-16T09:33:51.371Z"
   },
   {
    "duration": 32,
    "start_time": "2022-08-16T09:33:51.385Z"
   },
   {
    "duration": 15,
    "start_time": "2022-08-16T09:33:51.419Z"
   },
   {
    "duration": 5,
    "start_time": "2022-08-16T09:33:51.435Z"
   },
   {
    "duration": 9,
    "start_time": "2022-08-16T09:33:51.441Z"
   },
   {
    "duration": 12,
    "start_time": "2022-08-16T09:33:51.451Z"
   },
   {
    "duration": 5,
    "start_time": "2022-08-16T09:43:51.801Z"
   },
   {
    "duration": 13,
    "start_time": "2022-08-16T09:43:54.938Z"
   },
   {
    "duration": 1059,
    "start_time": "2022-08-16T09:44:06.842Z"
   },
   {
    "duration": 53,
    "start_time": "2022-08-16T09:44:07.903Z"
   },
   {
    "duration": 25,
    "start_time": "2022-08-16T09:44:07.958Z"
   },
   {
    "duration": 18,
    "start_time": "2022-08-16T09:44:07.985Z"
   },
   {
    "duration": 16,
    "start_time": "2022-08-16T09:44:08.004Z"
   },
   {
    "duration": 14,
    "start_time": "2022-08-16T09:44:08.022Z"
   },
   {
    "duration": 15,
    "start_time": "2022-08-16T09:44:08.037Z"
   },
   {
    "duration": 40,
    "start_time": "2022-08-16T09:44:08.053Z"
   },
   {
    "duration": 9,
    "start_time": "2022-08-16T09:44:08.095Z"
   },
   {
    "duration": 15,
    "start_time": "2022-08-16T09:44:08.108Z"
   },
   {
    "duration": 7,
    "start_time": "2022-08-16T09:44:08.125Z"
   },
   {
    "duration": 8,
    "start_time": "2022-08-16T09:44:08.134Z"
   },
   {
    "duration": 9,
    "start_time": "2022-08-16T09:44:08.144Z"
   },
   {
    "duration": 22,
    "start_time": "2022-08-16T09:44:08.155Z"
   },
   {
    "duration": 45,
    "start_time": "2022-08-16T09:44:08.178Z"
   },
   {
    "duration": 3,
    "start_time": "2022-08-16T09:44:08.225Z"
   },
   {
    "duration": 31,
    "start_time": "2022-08-16T09:44:08.229Z"
   },
   {
    "duration": 9,
    "start_time": "2022-08-16T09:44:08.261Z"
   },
   {
    "duration": 40,
    "start_time": "2022-08-16T09:44:08.273Z"
   },
   {
    "duration": 10,
    "start_time": "2022-08-16T09:44:08.315Z"
   },
   {
    "duration": 18,
    "start_time": "2022-08-16T09:44:08.327Z"
   },
   {
    "duration": 11,
    "start_time": "2022-08-16T09:44:08.346Z"
   },
   {
    "duration": 12,
    "start_time": "2022-08-16T09:44:08.358Z"
   },
   {
    "duration": 17,
    "start_time": "2022-08-16T09:44:08.371Z"
   },
   {
    "duration": 6,
    "start_time": "2022-08-16T09:44:08.406Z"
   },
   {
    "duration": 10,
    "start_time": "2022-08-16T09:44:08.413Z"
   },
   {
    "duration": 11,
    "start_time": "2022-08-16T09:44:08.424Z"
   },
   {
    "duration": 19,
    "start_time": "2022-08-16T09:44:08.439Z"
   },
   {
    "duration": 9,
    "start_time": "2022-08-16T09:44:08.460Z"
   },
   {
    "duration": 43,
    "start_time": "2022-08-16T09:44:08.470Z"
   },
   {
    "duration": 24,
    "start_time": "2022-08-16T09:44:08.515Z"
   },
   {
    "duration": 13,
    "start_time": "2022-08-16T09:44:08.540Z"
   },
   {
    "duration": 25,
    "start_time": "2022-08-16T09:44:08.555Z"
   },
   {
    "duration": 37,
    "start_time": "2022-08-16T09:44:08.582Z"
   },
   {
    "duration": 173,
    "start_time": "2022-08-16T09:44:08.621Z"
   },
   {
    "duration": 20,
    "start_time": "2022-08-16T09:44:08.796Z"
   },
   {
    "duration": 105,
    "start_time": "2022-08-16T09:44:08.818Z"
   },
   {
    "duration": 18,
    "start_time": "2022-08-16T09:44:08.925Z"
   },
   {
    "duration": 163,
    "start_time": "2022-08-16T09:44:08.945Z"
   },
   {
    "duration": 5,
    "start_time": "2022-08-16T09:44:09.110Z"
   },
   {
    "duration": 152,
    "start_time": "2022-08-16T09:44:09.117Z"
   },
   {
    "duration": 5,
    "start_time": "2022-08-16T09:44:09.271Z"
   },
   {
    "duration": 165,
    "start_time": "2022-08-16T09:44:09.278Z"
   },
   {
    "duration": 4,
    "start_time": "2022-08-16T09:44:09.445Z"
   },
   {
    "duration": 151,
    "start_time": "2022-08-16T09:44:09.451Z"
   },
   {
    "duration": 5,
    "start_time": "2022-08-16T09:44:09.605Z"
   },
   {
    "duration": 165,
    "start_time": "2022-08-16T09:44:09.611Z"
   },
   {
    "duration": 4,
    "start_time": "2022-08-16T09:44:09.778Z"
   },
   {
    "duration": 163,
    "start_time": "2022-08-16T09:44:09.783Z"
   },
   {
    "duration": 5,
    "start_time": "2022-08-16T09:44:09.948Z"
   },
   {
    "duration": 23,
    "start_time": "2022-08-16T09:44:09.955Z"
   },
   {
    "duration": 26,
    "start_time": "2022-08-16T09:44:09.980Z"
   },
   {
    "duration": 16,
    "start_time": "2022-08-16T09:44:10.008Z"
   },
   {
    "duration": 33,
    "start_time": "2022-08-16T09:44:10.026Z"
   },
   {
    "duration": 21,
    "start_time": "2022-08-16T09:44:10.061Z"
   },
   {
    "duration": 37,
    "start_time": "2022-08-16T09:44:10.084Z"
   },
   {
    "duration": 103,
    "start_time": "2022-08-16T09:44:10.123Z"
   },
   {
    "duration": 17,
    "start_time": "2022-08-16T09:44:10.228Z"
   },
   {
    "duration": 30,
    "start_time": "2022-08-16T09:44:10.247Z"
   },
   {
    "duration": 37,
    "start_time": "2022-08-16T09:44:10.279Z"
   },
   {
    "duration": 31,
    "start_time": "2022-08-16T09:44:10.318Z"
   },
   {
    "duration": 39,
    "start_time": "2022-08-16T09:44:10.351Z"
   },
   {
    "duration": 38,
    "start_time": "2022-08-16T09:44:10.392Z"
   },
   {
    "duration": 10,
    "start_time": "2022-08-16T09:50:05.586Z"
   },
   {
    "duration": 1029,
    "start_time": "2022-08-16T09:51:04.231Z"
   },
   {
    "duration": 53,
    "start_time": "2022-08-16T09:51:05.262Z"
   },
   {
    "duration": 24,
    "start_time": "2022-08-16T09:51:05.316Z"
   },
   {
    "duration": 14,
    "start_time": "2022-08-16T09:51:05.342Z"
   },
   {
    "duration": 14,
    "start_time": "2022-08-16T09:51:05.358Z"
   },
   {
    "duration": 4,
    "start_time": "2022-08-16T09:51:05.374Z"
   },
   {
    "duration": 5,
    "start_time": "2022-08-16T09:51:05.405Z"
   },
   {
    "duration": 34,
    "start_time": "2022-08-16T09:51:05.411Z"
   },
   {
    "duration": 9,
    "start_time": "2022-08-16T09:51:05.447Z"
   },
   {
    "duration": 22,
    "start_time": "2022-08-16T09:51:05.459Z"
   },
   {
    "duration": 42,
    "start_time": "2022-08-16T09:51:05.482Z"
   },
   {
    "duration": 5,
    "start_time": "2022-08-16T09:51:05.525Z"
   },
   {
    "duration": 17,
    "start_time": "2022-08-16T09:51:05.532Z"
   },
   {
    "duration": 16,
    "start_time": "2022-08-16T09:51:05.551Z"
   },
   {
    "duration": 19,
    "start_time": "2022-08-16T09:51:05.568Z"
   },
   {
    "duration": 22,
    "start_time": "2022-08-16T09:51:05.589Z"
   },
   {
    "duration": 22,
    "start_time": "2022-08-16T09:51:05.613Z"
   },
   {
    "duration": 8,
    "start_time": "2022-08-16T09:51:05.637Z"
   },
   {
    "duration": 11,
    "start_time": "2022-08-16T09:51:05.646Z"
   },
   {
    "duration": 9,
    "start_time": "2022-08-16T09:51:05.658Z"
   },
   {
    "duration": 9,
    "start_time": "2022-08-16T09:51:05.669Z"
   },
   {
    "duration": 11,
    "start_time": "2022-08-16T09:51:05.706Z"
   },
   {
    "duration": 10,
    "start_time": "2022-08-16T09:51:05.719Z"
   },
   {
    "duration": 5,
    "start_time": "2022-08-16T09:51:05.731Z"
   },
   {
    "duration": 6,
    "start_time": "2022-08-16T09:51:05.738Z"
   },
   {
    "duration": 10,
    "start_time": "2022-08-16T09:51:05.745Z"
   },
   {
    "duration": 10,
    "start_time": "2022-08-16T09:51:05.757Z"
   },
   {
    "duration": 16,
    "start_time": "2022-08-16T09:51:05.809Z"
   },
   {
    "duration": 10,
    "start_time": "2022-08-16T09:51:05.827Z"
   },
   {
    "duration": 14,
    "start_time": "2022-08-16T09:51:05.838Z"
   },
   {
    "duration": 23,
    "start_time": "2022-08-16T09:51:05.854Z"
   },
   {
    "duration": 39,
    "start_time": "2022-08-16T09:51:05.879Z"
   },
   {
    "duration": 14,
    "start_time": "2022-08-16T09:51:05.920Z"
   },
   {
    "duration": 14,
    "start_time": "2022-08-16T09:51:05.936Z"
   },
   {
    "duration": 238,
    "start_time": "2022-08-16T09:51:05.952Z"
   },
   {
    "duration": 29,
    "start_time": "2022-08-16T09:51:06.192Z"
   },
   {
    "duration": 138,
    "start_time": "2022-08-16T09:51:06.223Z"
   },
   {
    "duration": 21,
    "start_time": "2022-08-16T09:51:06.363Z"
   },
   {
    "duration": 161,
    "start_time": "2022-08-16T09:51:06.385Z"
   },
   {
    "duration": 8,
    "start_time": "2022-08-16T09:51:06.548Z"
   },
   {
    "duration": 162,
    "start_time": "2022-08-16T09:51:06.558Z"
   },
   {
    "duration": 5,
    "start_time": "2022-08-16T09:51:06.722Z"
   },
   {
    "duration": 156,
    "start_time": "2022-08-16T09:51:06.728Z"
   },
   {
    "duration": 5,
    "start_time": "2022-08-16T09:51:06.886Z"
   },
   {
    "duration": 148,
    "start_time": "2022-08-16T09:51:06.892Z"
   },
   {
    "duration": 5,
    "start_time": "2022-08-16T09:51:07.042Z"
   },
   {
    "duration": 171,
    "start_time": "2022-08-16T09:51:07.048Z"
   },
   {
    "duration": 5,
    "start_time": "2022-08-16T09:51:07.222Z"
   },
   {
    "duration": 158,
    "start_time": "2022-08-16T09:51:07.229Z"
   },
   {
    "duration": 6,
    "start_time": "2022-08-16T09:51:07.388Z"
   },
   {
    "duration": 17,
    "start_time": "2022-08-16T09:51:07.406Z"
   },
   {
    "duration": 20,
    "start_time": "2022-08-16T09:51:07.424Z"
   },
   {
    "duration": 18,
    "start_time": "2022-08-16T09:51:07.445Z"
   },
   {
    "duration": 47,
    "start_time": "2022-08-16T09:51:07.465Z"
   },
   {
    "duration": 17,
    "start_time": "2022-08-16T09:51:07.514Z"
   },
   {
    "duration": 17,
    "start_time": "2022-08-16T09:51:07.534Z"
   },
   {
    "duration": 119,
    "start_time": "2022-08-16T09:51:07.552Z"
   },
   {
    "duration": 17,
    "start_time": "2022-08-16T09:51:07.673Z"
   },
   {
    "duration": 23,
    "start_time": "2022-08-16T09:51:07.706Z"
   },
   {
    "duration": 22,
    "start_time": "2022-08-16T09:51:07.731Z"
   },
   {
    "duration": 8,
    "start_time": "2022-08-16T09:51:07.755Z"
   },
   {
    "duration": 14,
    "start_time": "2022-08-16T09:51:07.765Z"
   },
   {
    "duration": 11,
    "start_time": "2022-08-16T09:51:07.806Z"
   },
   {
    "duration": 15,
    "start_time": "2022-08-16T10:20:45.379Z"
   },
   {
    "duration": 11,
    "start_time": "2022-08-16T11:27:34.564Z"
   },
   {
    "duration": 4,
    "start_time": "2022-08-16T11:28:05.748Z"
   },
   {
    "duration": 8,
    "start_time": "2022-08-16T11:28:13.342Z"
   },
   {
    "duration": 1257,
    "start_time": "2022-08-16T11:28:25.100Z"
   },
   {
    "duration": 52,
    "start_time": "2022-08-16T11:28:26.358Z"
   },
   {
    "duration": 19,
    "start_time": "2022-08-16T11:28:26.412Z"
   },
   {
    "duration": 13,
    "start_time": "2022-08-16T11:28:26.433Z"
   },
   {
    "duration": 18,
    "start_time": "2022-08-16T11:28:26.448Z"
   },
   {
    "duration": 6,
    "start_time": "2022-08-16T11:28:26.469Z"
   },
   {
    "duration": 13,
    "start_time": "2022-08-16T11:28:26.476Z"
   },
   {
    "duration": 24,
    "start_time": "2022-08-16T11:28:26.506Z"
   },
   {
    "duration": 9,
    "start_time": "2022-08-16T11:28:26.532Z"
   },
   {
    "duration": 13,
    "start_time": "2022-08-16T11:28:26.544Z"
   },
   {
    "duration": 64,
    "start_time": "2022-08-16T11:28:26.559Z"
   },
   {
    "duration": 6,
    "start_time": "2022-08-16T11:28:26.625Z"
   },
   {
    "duration": 8,
    "start_time": "2022-08-16T11:28:26.633Z"
   },
   {
    "duration": 12,
    "start_time": "2022-08-16T11:28:26.643Z"
   },
   {
    "duration": 55,
    "start_time": "2022-08-16T11:28:26.657Z"
   },
   {
    "duration": 12,
    "start_time": "2022-08-16T11:28:26.714Z"
   },
   {
    "duration": 15,
    "start_time": "2022-08-16T11:28:26.728Z"
   },
   {
    "duration": 13,
    "start_time": "2022-08-16T11:28:26.745Z"
   },
   {
    "duration": 10,
    "start_time": "2022-08-16T11:28:26.760Z"
   },
   {
    "duration": 41,
    "start_time": "2022-08-16T11:28:26.771Z"
   },
   {
    "duration": 13,
    "start_time": "2022-08-16T11:28:26.814Z"
   },
   {
    "duration": 8,
    "start_time": "2022-08-16T11:28:26.829Z"
   },
   {
    "duration": 13,
    "start_time": "2022-08-16T11:28:26.838Z"
   },
   {
    "duration": 10,
    "start_time": "2022-08-16T11:28:26.852Z"
   },
   {
    "duration": 13,
    "start_time": "2022-08-16T11:28:26.864Z"
   },
   {
    "duration": 46,
    "start_time": "2022-08-16T11:28:26.879Z"
   },
   {
    "duration": 11,
    "start_time": "2022-08-16T11:28:26.927Z"
   },
   {
    "duration": 15,
    "start_time": "2022-08-16T11:28:26.945Z"
   },
   {
    "duration": 6,
    "start_time": "2022-08-16T11:28:26.962Z"
   },
   {
    "duration": 11,
    "start_time": "2022-08-16T11:28:27.012Z"
   },
   {
    "duration": 27,
    "start_time": "2022-08-16T11:28:27.024Z"
   },
   {
    "duration": 12,
    "start_time": "2022-08-16T11:28:27.052Z"
   },
   {
    "duration": 13,
    "start_time": "2022-08-16T11:28:27.066Z"
   },
   {
    "duration": 37,
    "start_time": "2022-08-16T11:28:27.081Z"
   },
   {
    "duration": 206,
    "start_time": "2022-08-16T11:28:27.120Z"
   },
   {
    "duration": 15,
    "start_time": "2022-08-16T11:28:27.328Z"
   },
   {
    "duration": 102,
    "start_time": "2022-08-16T11:28:27.344Z"
   },
   {
    "duration": 18,
    "start_time": "2022-08-16T11:28:27.448Z"
   },
   {
    "duration": 188,
    "start_time": "2022-08-16T11:28:27.467Z"
   },
   {
    "duration": 5,
    "start_time": "2022-08-16T11:28:27.657Z"
   },
   {
    "duration": 203,
    "start_time": "2022-08-16T11:28:27.663Z"
   },
   {
    "duration": 5,
    "start_time": "2022-08-16T11:28:27.868Z"
   },
   {
    "duration": 162,
    "start_time": "2022-08-16T11:28:27.875Z"
   },
   {
    "duration": 6,
    "start_time": "2022-08-16T11:28:28.039Z"
   },
   {
    "duration": 152,
    "start_time": "2022-08-16T11:28:28.047Z"
   },
   {
    "duration": 8,
    "start_time": "2022-08-16T11:28:28.200Z"
   },
   {
    "duration": 148,
    "start_time": "2022-08-16T11:28:28.210Z"
   },
   {
    "duration": 5,
    "start_time": "2022-08-16T11:28:28.359Z"
   },
   {
    "duration": 148,
    "start_time": "2022-08-16T11:28:28.365Z"
   },
   {
    "duration": 5,
    "start_time": "2022-08-16T11:28:28.515Z"
   },
   {
    "duration": 18,
    "start_time": "2022-08-16T11:28:28.521Z"
   },
   {
    "duration": 14,
    "start_time": "2022-08-16T11:28:28.541Z"
   },
   {
    "duration": 15,
    "start_time": "2022-08-16T11:28:28.557Z"
   },
   {
    "duration": 44,
    "start_time": "2022-08-16T11:28:28.574Z"
   },
   {
    "duration": 15,
    "start_time": "2022-08-16T11:28:28.619Z"
   },
   {
    "duration": 14,
    "start_time": "2022-08-16T11:28:28.636Z"
   },
   {
    "duration": 105,
    "start_time": "2022-08-16T11:28:28.651Z"
   },
   {
    "duration": 15,
    "start_time": "2022-08-16T11:28:28.758Z"
   },
   {
    "duration": 15,
    "start_time": "2022-08-16T11:28:28.774Z"
   },
   {
    "duration": 17,
    "start_time": "2022-08-16T11:28:28.806Z"
   },
   {
    "duration": 6,
    "start_time": "2022-08-16T11:28:28.825Z"
   },
   {
    "duration": 13,
    "start_time": "2022-08-16T11:28:28.832Z"
   },
   {
    "duration": 10,
    "start_time": "2022-08-16T11:28:28.847Z"
   },
   {
    "duration": 1085,
    "start_time": "2022-08-16T11:30:23.763Z"
   },
   {
    "duration": 51,
    "start_time": "2022-08-16T11:30:24.850Z"
   },
   {
    "duration": 17,
    "start_time": "2022-08-16T11:30:24.903Z"
   },
   {
    "duration": 12,
    "start_time": "2022-08-16T11:30:24.922Z"
   },
   {
    "duration": 14,
    "start_time": "2022-08-16T11:30:24.935Z"
   },
   {
    "duration": 4,
    "start_time": "2022-08-16T11:30:24.951Z"
   },
   {
    "duration": 5,
    "start_time": "2022-08-16T11:30:24.956Z"
   },
   {
    "duration": 50,
    "start_time": "2022-08-16T11:30:24.963Z"
   },
   {
    "duration": 8,
    "start_time": "2022-08-16T11:30:25.015Z"
   },
   {
    "duration": 11,
    "start_time": "2022-08-16T11:30:25.025Z"
   },
   {
    "duration": 26,
    "start_time": "2022-08-16T11:30:25.037Z"
   },
   {
    "duration": 5,
    "start_time": "2022-08-16T11:30:25.065Z"
   },
   {
    "duration": 6,
    "start_time": "2022-08-16T11:30:25.071Z"
   },
   {
    "duration": 10,
    "start_time": "2022-08-16T11:30:25.105Z"
   },
   {
    "duration": 21,
    "start_time": "2022-08-16T11:30:25.117Z"
   },
   {
    "duration": 9,
    "start_time": "2022-08-16T11:30:25.139Z"
   },
   {
    "duration": 9,
    "start_time": "2022-08-16T11:30:25.150Z"
   },
   {
    "duration": 7,
    "start_time": "2022-08-16T11:30:25.161Z"
   },
   {
    "duration": 44,
    "start_time": "2022-08-16T11:30:25.170Z"
   },
   {
    "duration": 9,
    "start_time": "2022-08-16T11:30:25.215Z"
   },
   {
    "duration": 9,
    "start_time": "2022-08-16T11:30:25.225Z"
   },
   {
    "duration": 5,
    "start_time": "2022-08-16T11:30:25.235Z"
   },
   {
    "duration": 7,
    "start_time": "2022-08-16T11:30:25.241Z"
   },
   {
    "duration": 8,
    "start_time": "2022-08-16T11:30:25.249Z"
   },
   {
    "duration": 9,
    "start_time": "2022-08-16T11:30:25.259Z"
   },
   {
    "duration": 49,
    "start_time": "2022-08-16T11:30:25.269Z"
   },
   {
    "duration": 8,
    "start_time": "2022-08-16T11:30:25.320Z"
   },
   {
    "duration": 12,
    "start_time": "2022-08-16T11:30:25.331Z"
   },
   {
    "duration": 111,
    "start_time": "2022-08-16T11:30:25.344Z"
   },
   {
    "duration": 7,
    "start_time": "2022-08-16T11:30:25.457Z"
   },
   {
    "duration": 24,
    "start_time": "2022-08-16T11:30:25.466Z"
   },
   {
    "duration": 21,
    "start_time": "2022-08-16T11:30:25.492Z"
   },
   {
    "duration": 12,
    "start_time": "2022-08-16T11:30:25.514Z"
   },
   {
    "duration": 18,
    "start_time": "2022-08-16T11:30:25.528Z"
   },
   {
    "duration": 162,
    "start_time": "2022-08-16T11:30:25.548Z"
   },
   {
    "duration": 13,
    "start_time": "2022-08-16T11:30:25.712Z"
   },
   {
    "duration": 100,
    "start_time": "2022-08-16T11:30:25.727Z"
   },
   {
    "duration": 17,
    "start_time": "2022-08-16T11:30:25.828Z"
   },
   {
    "duration": 144,
    "start_time": "2022-08-16T11:30:25.847Z"
   },
   {
    "duration": 6,
    "start_time": "2022-08-16T11:30:25.992Z"
   },
   {
    "duration": 188,
    "start_time": "2022-08-16T11:30:26.006Z"
   },
   {
    "duration": 9,
    "start_time": "2022-08-16T11:30:26.198Z"
   },
   {
    "duration": 169,
    "start_time": "2022-08-16T11:30:26.208Z"
   },
   {
    "duration": 4,
    "start_time": "2022-08-16T11:30:26.379Z"
   },
   {
    "duration": 134,
    "start_time": "2022-08-16T11:30:26.385Z"
   },
   {
    "duration": 4,
    "start_time": "2022-08-16T11:30:26.521Z"
   },
   {
    "duration": 160,
    "start_time": "2022-08-16T11:30:26.527Z"
   },
   {
    "duration": 5,
    "start_time": "2022-08-16T11:30:26.688Z"
   },
   {
    "duration": 143,
    "start_time": "2022-08-16T11:30:26.695Z"
   },
   {
    "duration": 5,
    "start_time": "2022-08-16T11:30:26.839Z"
   },
   {
    "duration": 21,
    "start_time": "2022-08-16T11:30:26.846Z"
   },
   {
    "duration": 21,
    "start_time": "2022-08-16T11:30:26.869Z"
   },
   {
    "duration": 19,
    "start_time": "2022-08-16T11:30:26.892Z"
   },
   {
    "duration": 21,
    "start_time": "2022-08-16T11:30:26.913Z"
   },
   {
    "duration": 29,
    "start_time": "2022-08-16T11:30:26.935Z"
   },
   {
    "duration": 12,
    "start_time": "2022-08-16T11:30:26.966Z"
   },
   {
    "duration": 89,
    "start_time": "2022-08-16T11:30:26.980Z"
   },
   {
    "duration": 13,
    "start_time": "2022-08-16T11:30:27.071Z"
   },
   {
    "duration": 24,
    "start_time": "2022-08-16T11:30:27.086Z"
   },
   {
    "duration": 17,
    "start_time": "2022-08-16T11:30:27.112Z"
   },
   {
    "duration": 6,
    "start_time": "2022-08-16T11:30:27.130Z"
   },
   {
    "duration": 28,
    "start_time": "2022-08-16T11:30:27.137Z"
   },
   {
    "duration": 34,
    "start_time": "2022-08-16T11:30:27.167Z"
   },
   {
    "duration": 105,
    "start_time": "2022-08-16T11:31:28.421Z"
   },
   {
    "duration": 10,
    "start_time": "2022-08-16T11:31:29.428Z"
   },
   {
    "duration": 1117,
    "start_time": "2022-08-16T11:31:39.566Z"
   },
   {
    "duration": 52,
    "start_time": "2022-08-16T11:31:40.685Z"
   },
   {
    "duration": 19,
    "start_time": "2022-08-16T11:31:40.739Z"
   },
   {
    "duration": 13,
    "start_time": "2022-08-16T11:31:40.760Z"
   },
   {
    "duration": 14,
    "start_time": "2022-08-16T11:31:40.775Z"
   },
   {
    "duration": 5,
    "start_time": "2022-08-16T11:31:40.808Z"
   },
   {
    "duration": 10,
    "start_time": "2022-08-16T11:31:40.814Z"
   },
   {
    "duration": 23,
    "start_time": "2022-08-16T11:31:40.825Z"
   },
   {
    "duration": 8,
    "start_time": "2022-08-16T11:31:40.849Z"
   },
   {
    "duration": 10,
    "start_time": "2022-08-16T11:31:40.860Z"
   },
   {
    "duration": 51,
    "start_time": "2022-08-16T11:31:40.871Z"
   },
   {
    "duration": 4,
    "start_time": "2022-08-16T11:31:40.924Z"
   },
   {
    "duration": 6,
    "start_time": "2022-08-16T11:31:40.929Z"
   },
   {
    "duration": 9,
    "start_time": "2022-08-16T11:31:40.937Z"
   },
   {
    "duration": 18,
    "start_time": "2022-08-16T11:31:40.948Z"
   },
   {
    "duration": 41,
    "start_time": "2022-08-16T11:31:40.968Z"
   },
   {
    "duration": 13,
    "start_time": "2022-08-16T11:31:41.011Z"
   },
   {
    "duration": 15,
    "start_time": "2022-08-16T11:31:41.026Z"
   },
   {
    "duration": 8,
    "start_time": "2022-08-16T11:31:41.043Z"
   },
   {
    "duration": 8,
    "start_time": "2022-08-16T11:31:41.053Z"
   },
   {
    "duration": 10,
    "start_time": "2022-08-16T11:31:41.063Z"
   },
   {
    "duration": 33,
    "start_time": "2022-08-16T11:31:41.074Z"
   },
   {
    "duration": 7,
    "start_time": "2022-08-16T11:31:41.109Z"
   },
   {
    "duration": 11,
    "start_time": "2022-08-16T11:31:41.117Z"
   },
   {
    "duration": 11,
    "start_time": "2022-08-16T11:31:41.129Z"
   },
   {
    "duration": 17,
    "start_time": "2022-08-16T11:31:41.141Z"
   },
   {
    "duration": 7,
    "start_time": "2022-08-16T11:31:41.159Z"
   },
   {
    "duration": 38,
    "start_time": "2022-08-16T11:31:41.170Z"
   },
   {
    "duration": 112,
    "start_time": "2022-08-16T11:31:41.209Z"
   },
   {
    "duration": 8,
    "start_time": "2022-08-16T11:31:41.322Z"
   },
   {
    "duration": 24,
    "start_time": "2022-08-16T11:31:41.332Z"
   },
   {
    "duration": 16,
    "start_time": "2022-08-16T11:31:41.358Z"
   },
   {
    "duration": 36,
    "start_time": "2022-08-16T11:31:41.375Z"
   },
   {
    "duration": 13,
    "start_time": "2022-08-16T11:31:41.413Z"
   },
   {
    "duration": 173,
    "start_time": "2022-08-16T11:31:41.428Z"
   },
   {
    "duration": 15,
    "start_time": "2022-08-16T11:31:41.607Z"
   },
   {
    "duration": 114,
    "start_time": "2022-08-16T11:31:41.623Z"
   },
   {
    "duration": 17,
    "start_time": "2022-08-16T11:31:41.738Z"
   },
   {
    "duration": 143,
    "start_time": "2022-08-16T11:31:41.756Z"
   },
   {
    "duration": 9,
    "start_time": "2022-08-16T11:31:41.900Z"
   },
   {
    "duration": 142,
    "start_time": "2022-08-16T11:31:41.910Z"
   },
   {
    "duration": 5,
    "start_time": "2022-08-16T11:31:42.054Z"
   },
   {
    "duration": 152,
    "start_time": "2022-08-16T11:31:42.061Z"
   },
   {
    "duration": 4,
    "start_time": "2022-08-16T11:31:42.214Z"
   },
   {
    "duration": 137,
    "start_time": "2022-08-16T11:31:42.220Z"
   },
   {
    "duration": 5,
    "start_time": "2022-08-16T11:31:42.359Z"
   },
   {
    "duration": 164,
    "start_time": "2022-08-16T11:31:42.365Z"
   },
   {
    "duration": 5,
    "start_time": "2022-08-16T11:31:42.531Z"
   },
   {
    "duration": 161,
    "start_time": "2022-08-16T11:31:42.538Z"
   },
   {
    "duration": 9,
    "start_time": "2022-08-16T11:31:42.700Z"
   },
   {
    "duration": 16,
    "start_time": "2022-08-16T11:31:42.711Z"
   },
   {
    "duration": 13,
    "start_time": "2022-08-16T11:31:42.728Z"
   },
   {
    "duration": 13,
    "start_time": "2022-08-16T11:31:42.743Z"
   },
   {
    "duration": 13,
    "start_time": "2022-08-16T11:31:42.757Z"
   },
   {
    "duration": 40,
    "start_time": "2022-08-16T11:31:42.772Z"
   },
   {
    "duration": 13,
    "start_time": "2022-08-16T11:31:42.814Z"
   },
   {
    "duration": 96,
    "start_time": "2022-08-16T11:31:42.829Z"
   },
   {
    "duration": 13,
    "start_time": "2022-08-16T11:31:42.927Z"
   },
   {
    "duration": 14,
    "start_time": "2022-08-16T11:31:42.942Z"
   },
   {
    "duration": 13,
    "start_time": "2022-08-16T11:31:42.957Z"
   },
   {
    "duration": 5,
    "start_time": "2022-08-16T11:31:42.972Z"
   },
   {
    "duration": 36,
    "start_time": "2022-08-16T11:31:42.978Z"
   },
   {
    "duration": 13,
    "start_time": "2022-08-16T11:31:43.015Z"
   },
   {
    "duration": 92,
    "start_time": "2022-08-16T11:59:17.839Z"
   },
   {
    "duration": 1422,
    "start_time": "2022-08-16T12:05:50.063Z"
   },
   {
    "duration": 1678,
    "start_time": "2022-08-16T12:06:25.145Z"
   },
   {
    "duration": 10,
    "start_time": "2022-08-16T12:06:55.985Z"
   },
   {
    "duration": 1082,
    "start_time": "2022-08-16T12:07:06.137Z"
   },
   {
    "duration": 56,
    "start_time": "2022-08-16T12:07:07.221Z"
   },
   {
    "duration": 21,
    "start_time": "2022-08-16T12:07:07.279Z"
   },
   {
    "duration": 29,
    "start_time": "2022-08-16T12:07:07.302Z"
   },
   {
    "duration": 29,
    "start_time": "2022-08-16T12:07:07.333Z"
   },
   {
    "duration": 7,
    "start_time": "2022-08-16T12:07:07.364Z"
   },
   {
    "duration": 31,
    "start_time": "2022-08-16T12:07:07.373Z"
   },
   {
    "duration": 41,
    "start_time": "2022-08-16T12:07:07.405Z"
   },
   {
    "duration": 12,
    "start_time": "2022-08-16T12:07:07.449Z"
   },
   {
    "duration": 32,
    "start_time": "2022-08-16T12:07:07.462Z"
   },
   {
    "duration": 42,
    "start_time": "2022-08-16T12:07:07.496Z"
   },
   {
    "duration": 23,
    "start_time": "2022-08-16T12:07:07.540Z"
   },
   {
    "duration": 44,
    "start_time": "2022-08-16T12:07:07.565Z"
   },
   {
    "duration": 51,
    "start_time": "2022-08-16T12:07:07.612Z"
   },
   {
    "duration": 50,
    "start_time": "2022-08-16T12:07:07.664Z"
   },
   {
    "duration": 27,
    "start_time": "2022-08-16T12:07:07.715Z"
   },
   {
    "duration": 38,
    "start_time": "2022-08-16T12:07:07.744Z"
   },
   {
    "duration": 20,
    "start_time": "2022-08-16T12:07:07.784Z"
   },
   {
    "duration": 23,
    "start_time": "2022-08-16T12:07:07.806Z"
   },
   {
    "duration": 43,
    "start_time": "2022-08-16T12:07:07.832Z"
   },
   {
    "duration": 23,
    "start_time": "2022-08-16T12:07:07.877Z"
   },
   {
    "duration": 24,
    "start_time": "2022-08-16T12:07:07.902Z"
   },
   {
    "duration": 27,
    "start_time": "2022-08-16T12:07:07.929Z"
   },
   {
    "duration": 35,
    "start_time": "2022-08-16T12:07:07.959Z"
   },
   {
    "duration": 34,
    "start_time": "2022-08-16T12:07:07.996Z"
   },
   {
    "duration": 49,
    "start_time": "2022-08-16T12:07:08.033Z"
   },
   {
    "duration": 33,
    "start_time": "2022-08-16T12:07:08.084Z"
   },
   {
    "duration": 34,
    "start_time": "2022-08-16T12:07:08.119Z"
   },
   {
    "duration": 1598,
    "start_time": "2022-08-16T12:07:08.155Z"
   },
   {
    "duration": 0,
    "start_time": "2022-08-16T12:07:09.755Z"
   },
   {
    "duration": 0,
    "start_time": "2022-08-16T12:07:09.756Z"
   },
   {
    "duration": 0,
    "start_time": "2022-08-16T12:07:09.758Z"
   },
   {
    "duration": 0,
    "start_time": "2022-08-16T12:07:09.759Z"
   },
   {
    "duration": 0,
    "start_time": "2022-08-16T12:07:09.761Z"
   },
   {
    "duration": 0,
    "start_time": "2022-08-16T12:07:09.762Z"
   },
   {
    "duration": 0,
    "start_time": "2022-08-16T12:07:09.763Z"
   },
   {
    "duration": 0,
    "start_time": "2022-08-16T12:07:09.765Z"
   },
   {
    "duration": 0,
    "start_time": "2022-08-16T12:07:09.766Z"
   },
   {
    "duration": 0,
    "start_time": "2022-08-16T12:07:09.768Z"
   },
   {
    "duration": 0,
    "start_time": "2022-08-16T12:07:09.769Z"
   },
   {
    "duration": 0,
    "start_time": "2022-08-16T12:07:09.771Z"
   },
   {
    "duration": 0,
    "start_time": "2022-08-16T12:07:09.773Z"
   },
   {
    "duration": 0,
    "start_time": "2022-08-16T12:07:09.775Z"
   },
   {
    "duration": 0,
    "start_time": "2022-08-16T12:07:09.776Z"
   },
   {
    "duration": 0,
    "start_time": "2022-08-16T12:07:09.777Z"
   },
   {
    "duration": 0,
    "start_time": "2022-08-16T12:07:09.778Z"
   },
   {
    "duration": 0,
    "start_time": "2022-08-16T12:07:09.779Z"
   },
   {
    "duration": 0,
    "start_time": "2022-08-16T12:07:09.780Z"
   },
   {
    "duration": 0,
    "start_time": "2022-08-16T12:07:09.781Z"
   },
   {
    "duration": 0,
    "start_time": "2022-08-16T12:07:09.783Z"
   },
   {
    "duration": 0,
    "start_time": "2022-08-16T12:07:09.784Z"
   },
   {
    "duration": 0,
    "start_time": "2022-08-16T12:07:09.785Z"
   },
   {
    "duration": 0,
    "start_time": "2022-08-16T12:07:09.786Z"
   },
   {
    "duration": 0,
    "start_time": "2022-08-16T12:07:09.787Z"
   },
   {
    "duration": 0,
    "start_time": "2022-08-16T12:07:09.788Z"
   },
   {
    "duration": 0,
    "start_time": "2022-08-16T12:07:09.789Z"
   },
   {
    "duration": 0,
    "start_time": "2022-08-16T12:07:09.791Z"
   },
   {
    "duration": 0,
    "start_time": "2022-08-16T12:07:09.792Z"
   },
   {
    "duration": 0,
    "start_time": "2022-08-16T12:07:09.806Z"
   },
   {
    "duration": 0,
    "start_time": "2022-08-16T12:07:09.807Z"
   },
   {
    "duration": 0,
    "start_time": "2022-08-16T12:07:09.808Z"
   },
   {
    "duration": 0,
    "start_time": "2022-08-16T12:07:09.809Z"
   },
   {
    "duration": 0,
    "start_time": "2022-08-16T12:07:09.810Z"
   },
   {
    "duration": 1581,
    "start_time": "2022-08-16T12:07:54.018Z"
   },
   {
    "duration": 1302,
    "start_time": "2022-08-16T12:13:27.727Z"
   },
   {
    "duration": 1146,
    "start_time": "2022-08-16T12:14:42.534Z"
   },
   {
    "duration": 80,
    "start_time": "2022-08-16T12:15:18.115Z"
   },
   {
    "duration": 79,
    "start_time": "2022-08-16T12:15:27.052Z"
   },
   {
    "duration": 1251,
    "start_time": "2022-08-16T12:15:38.536Z"
   },
   {
    "duration": 10,
    "start_time": "2022-08-16T12:17:22.967Z"
   },
   {
    "duration": 1300,
    "start_time": "2022-08-16T12:17:44.732Z"
   },
   {
    "duration": 1280,
    "start_time": "2022-08-16T12:19:22.288Z"
   },
   {
    "duration": 1845,
    "start_time": "2022-08-16T12:21:48.168Z"
   },
   {
    "duration": 1154,
    "start_time": "2022-08-16T12:23:05.536Z"
   },
   {
    "duration": 51,
    "start_time": "2022-08-16T12:23:06.692Z"
   },
   {
    "duration": 18,
    "start_time": "2022-08-16T12:23:06.745Z"
   },
   {
    "duration": 12,
    "start_time": "2022-08-16T12:23:06.764Z"
   },
   {
    "duration": 13,
    "start_time": "2022-08-16T12:23:06.777Z"
   },
   {
    "duration": 4,
    "start_time": "2022-08-16T12:23:06.791Z"
   },
   {
    "duration": 3,
    "start_time": "2022-08-16T12:23:06.805Z"
   },
   {
    "duration": 24,
    "start_time": "2022-08-16T12:23:06.810Z"
   },
   {
    "duration": 9,
    "start_time": "2022-08-16T12:23:06.836Z"
   },
   {
    "duration": 11,
    "start_time": "2022-08-16T12:23:06.846Z"
   },
   {
    "duration": 48,
    "start_time": "2022-08-16T12:23:06.859Z"
   },
   {
    "duration": 5,
    "start_time": "2022-08-16T12:23:06.908Z"
   },
   {
    "duration": 6,
    "start_time": "2022-08-16T12:23:06.915Z"
   },
   {
    "duration": 10,
    "start_time": "2022-08-16T12:23:06.922Z"
   },
   {
    "duration": 21,
    "start_time": "2022-08-16T12:23:06.933Z"
   },
   {
    "duration": 11,
    "start_time": "2022-08-16T12:23:06.955Z"
   },
   {
    "duration": 39,
    "start_time": "2022-08-16T12:23:06.968Z"
   },
   {
    "duration": 11,
    "start_time": "2022-08-16T12:23:07.008Z"
   },
   {
    "duration": 10,
    "start_time": "2022-08-16T12:23:07.021Z"
   },
   {
    "duration": 8,
    "start_time": "2022-08-16T12:23:07.033Z"
   },
   {
    "duration": 7,
    "start_time": "2022-08-16T12:23:07.043Z"
   },
   {
    "duration": 4,
    "start_time": "2022-08-16T12:23:07.052Z"
   },
   {
    "duration": 8,
    "start_time": "2022-08-16T12:23:07.058Z"
   },
   {
    "duration": 43,
    "start_time": "2022-08-16T12:23:07.068Z"
   },
   {
    "duration": 9,
    "start_time": "2022-08-16T12:23:07.112Z"
   },
   {
    "duration": 21,
    "start_time": "2022-08-16T12:23:07.122Z"
   },
   {
    "duration": 7,
    "start_time": "2022-08-16T12:23:07.146Z"
   },
   {
    "duration": 12,
    "start_time": "2022-08-16T12:23:07.154Z"
   },
   {
    "duration": 1525,
    "start_time": "2022-08-16T12:23:07.167Z"
   },
   {
    "duration": 0,
    "start_time": "2022-08-16T12:23:08.693Z"
   },
   {
    "duration": 0,
    "start_time": "2022-08-16T12:23:08.694Z"
   },
   {
    "duration": 0,
    "start_time": "2022-08-16T12:23:08.696Z"
   },
   {
    "duration": 0,
    "start_time": "2022-08-16T12:23:08.697Z"
   },
   {
    "duration": 0,
    "start_time": "2022-08-16T12:23:08.698Z"
   },
   {
    "duration": 0,
    "start_time": "2022-08-16T12:23:08.699Z"
   },
   {
    "duration": 0,
    "start_time": "2022-08-16T12:23:08.700Z"
   },
   {
    "duration": 0,
    "start_time": "2022-08-16T12:23:08.701Z"
   },
   {
    "duration": 0,
    "start_time": "2022-08-16T12:23:08.702Z"
   },
   {
    "duration": 0,
    "start_time": "2022-08-16T12:23:08.703Z"
   },
   {
    "duration": 0,
    "start_time": "2022-08-16T12:23:08.704Z"
   },
   {
    "duration": 0,
    "start_time": "2022-08-16T12:23:08.705Z"
   },
   {
    "duration": 0,
    "start_time": "2022-08-16T12:23:08.706Z"
   },
   {
    "duration": 0,
    "start_time": "2022-08-16T12:23:08.707Z"
   },
   {
    "duration": 0,
    "start_time": "2022-08-16T12:23:08.709Z"
   },
   {
    "duration": 0,
    "start_time": "2022-08-16T12:23:08.710Z"
   },
   {
    "duration": 0,
    "start_time": "2022-08-16T12:23:08.712Z"
   },
   {
    "duration": 0,
    "start_time": "2022-08-16T12:23:08.713Z"
   },
   {
    "duration": 0,
    "start_time": "2022-08-16T12:23:08.715Z"
   },
   {
    "duration": 0,
    "start_time": "2022-08-16T12:23:08.716Z"
   },
   {
    "duration": 0,
    "start_time": "2022-08-16T12:23:08.717Z"
   },
   {
    "duration": 0,
    "start_time": "2022-08-16T12:23:08.718Z"
   },
   {
    "duration": 0,
    "start_time": "2022-08-16T12:23:08.720Z"
   },
   {
    "duration": 0,
    "start_time": "2022-08-16T12:23:08.721Z"
   },
   {
    "duration": 0,
    "start_time": "2022-08-16T12:23:08.722Z"
   },
   {
    "duration": 0,
    "start_time": "2022-08-16T12:23:08.725Z"
   },
   {
    "duration": 0,
    "start_time": "2022-08-16T12:23:08.726Z"
   },
   {
    "duration": 0,
    "start_time": "2022-08-16T12:23:08.727Z"
   },
   {
    "duration": 0,
    "start_time": "2022-08-16T12:23:08.728Z"
   },
   {
    "duration": 0,
    "start_time": "2022-08-16T12:23:08.729Z"
   },
   {
    "duration": 0,
    "start_time": "2022-08-16T12:23:08.730Z"
   },
   {
    "duration": 0,
    "start_time": "2022-08-16T12:23:08.731Z"
   },
   {
    "duration": 0,
    "start_time": "2022-08-16T12:23:08.733Z"
   },
   {
    "duration": 0,
    "start_time": "2022-08-16T12:23:08.734Z"
   },
   {
    "duration": 4,
    "start_time": "2022-08-16T12:29:23.221Z"
   },
   {
    "duration": 8,
    "start_time": "2022-08-16T12:29:30.011Z"
   },
   {
    "duration": 2,
    "start_time": "2022-08-16T12:30:14.204Z"
   },
   {
    "duration": 1180,
    "start_time": "2022-08-16T12:30:38.328Z"
   },
   {
    "duration": 52,
    "start_time": "2022-08-16T12:30:39.510Z"
   },
   {
    "duration": 19,
    "start_time": "2022-08-16T12:30:39.564Z"
   },
   {
    "duration": 13,
    "start_time": "2022-08-16T12:30:39.585Z"
   },
   {
    "duration": 17,
    "start_time": "2022-08-16T12:30:39.600Z"
   },
   {
    "duration": 5,
    "start_time": "2022-08-16T12:30:39.618Z"
   },
   {
    "duration": 10,
    "start_time": "2022-08-16T12:30:39.624Z"
   },
   {
    "duration": 34,
    "start_time": "2022-08-16T12:30:39.636Z"
   },
   {
    "duration": 10,
    "start_time": "2022-08-16T12:30:39.672Z"
   },
   {
    "duration": 12,
    "start_time": "2022-08-16T12:30:39.705Z"
   },
   {
    "duration": 31,
    "start_time": "2022-08-16T12:30:39.719Z"
   },
   {
    "duration": 5,
    "start_time": "2022-08-16T12:30:39.751Z"
   },
   {
    "duration": 8,
    "start_time": "2022-08-16T12:30:39.758Z"
   },
   {
    "duration": 13,
    "start_time": "2022-08-16T12:30:39.768Z"
   },
   {
    "duration": 29,
    "start_time": "2022-08-16T12:30:39.807Z"
   },
   {
    "duration": 11,
    "start_time": "2022-08-16T12:30:39.838Z"
   },
   {
    "duration": 11,
    "start_time": "2022-08-16T12:30:39.851Z"
   },
   {
    "duration": 9,
    "start_time": "2022-08-16T12:30:39.864Z"
   },
   {
    "duration": 37,
    "start_time": "2022-08-16T12:30:39.875Z"
   },
   {
    "duration": 11,
    "start_time": "2022-08-16T12:30:39.914Z"
   },
   {
    "duration": 9,
    "start_time": "2022-08-16T12:30:39.926Z"
   },
   {
    "duration": 6,
    "start_time": "2022-08-16T12:30:39.937Z"
   },
   {
    "duration": 5,
    "start_time": "2022-08-16T12:30:39.944Z"
   },
   {
    "duration": 12,
    "start_time": "2022-08-16T12:30:39.950Z"
   },
   {
    "duration": 10,
    "start_time": "2022-08-16T12:30:39.963Z"
   },
   {
    "duration": 46,
    "start_time": "2022-08-16T12:30:39.975Z"
   },
   {
    "duration": 11,
    "start_time": "2022-08-16T12:30:40.023Z"
   },
   {
    "duration": 13,
    "start_time": "2022-08-16T12:30:40.038Z"
   },
   {
    "duration": 9,
    "start_time": "2022-08-16T12:30:40.053Z"
   },
   {
    "duration": 6,
    "start_time": "2022-08-16T12:30:40.064Z"
   },
   {
    "duration": 30,
    "start_time": "2022-08-16T12:30:40.079Z"
   },
   {
    "duration": 22,
    "start_time": "2022-08-16T12:30:40.111Z"
   },
   {
    "duration": 11,
    "start_time": "2022-08-16T12:30:40.135Z"
   },
   {
    "duration": 13,
    "start_time": "2022-08-16T12:30:40.148Z"
   },
   {
    "duration": 13,
    "start_time": "2022-08-16T12:30:40.163Z"
   },
   {
    "duration": 165,
    "start_time": "2022-08-16T12:30:40.206Z"
   },
   {
    "duration": 16,
    "start_time": "2022-08-16T12:30:40.373Z"
   },
   {
    "duration": 119,
    "start_time": "2022-08-16T12:30:40.391Z"
   },
   {
    "duration": 17,
    "start_time": "2022-08-16T12:30:40.512Z"
   },
   {
    "duration": 135,
    "start_time": "2022-08-16T12:30:40.530Z"
   },
   {
    "duration": 4,
    "start_time": "2022-08-16T12:30:40.667Z"
   },
   {
    "duration": 152,
    "start_time": "2022-08-16T12:30:40.672Z"
   },
   {
    "duration": 6,
    "start_time": "2022-08-16T12:30:40.825Z"
   },
   {
    "duration": 167,
    "start_time": "2022-08-16T12:30:40.833Z"
   },
   {
    "duration": 5,
    "start_time": "2022-08-16T12:30:41.007Z"
   },
   {
    "duration": 139,
    "start_time": "2022-08-16T12:30:41.014Z"
   },
   {
    "duration": 5,
    "start_time": "2022-08-16T12:30:41.155Z"
   },
   {
    "duration": 150,
    "start_time": "2022-08-16T12:30:41.161Z"
   },
   {
    "duration": 5,
    "start_time": "2022-08-16T12:30:41.313Z"
   },
   {
    "duration": 149,
    "start_time": "2022-08-16T12:30:41.319Z"
   },
   {
    "duration": 5,
    "start_time": "2022-08-16T12:30:41.470Z"
   },
   {
    "duration": 31,
    "start_time": "2022-08-16T12:30:41.477Z"
   },
   {
    "duration": 20,
    "start_time": "2022-08-16T12:30:41.511Z"
   },
   {
    "duration": 13,
    "start_time": "2022-08-16T12:30:41.533Z"
   },
   {
    "duration": 17,
    "start_time": "2022-08-16T12:30:41.548Z"
   },
   {
    "duration": 21,
    "start_time": "2022-08-16T12:30:41.567Z"
   },
   {
    "duration": 18,
    "start_time": "2022-08-16T12:30:41.606Z"
   },
   {
    "duration": 96,
    "start_time": "2022-08-16T12:30:41.626Z"
   },
   {
    "duration": 14,
    "start_time": "2022-08-16T12:30:41.724Z"
   },
   {
    "duration": 30,
    "start_time": "2022-08-16T12:30:41.740Z"
   },
   {
    "duration": 14,
    "start_time": "2022-08-16T12:30:41.771Z"
   },
   {
    "duration": 22,
    "start_time": "2022-08-16T12:30:41.786Z"
   },
   {
    "duration": 13,
    "start_time": "2022-08-16T12:30:41.809Z"
   },
   {
    "duration": 14,
    "start_time": "2022-08-16T12:30:41.823Z"
   },
   {
    "duration": 104,
    "start_time": "2022-08-16T12:36:35.186Z"
   },
   {
    "duration": 10,
    "start_time": "2022-08-16T12:38:54.009Z"
   },
   {
    "duration": 5,
    "start_time": "2022-08-16T12:39:03.339Z"
   },
   {
    "duration": 8,
    "start_time": "2022-08-16T12:39:05.085Z"
   },
   {
    "duration": 4,
    "start_time": "2022-08-16T12:43:05.308Z"
   },
   {
    "duration": 9,
    "start_time": "2022-08-16T12:43:06.641Z"
   },
   {
    "duration": 998,
    "start_time": "2022-08-16T12:43:57.872Z"
   },
   {
    "duration": 52,
    "start_time": "2022-08-16T12:43:58.871Z"
   },
   {
    "duration": 18,
    "start_time": "2022-08-16T12:43:58.924Z"
   },
   {
    "duration": 13,
    "start_time": "2022-08-16T12:43:58.945Z"
   },
   {
    "duration": 14,
    "start_time": "2022-08-16T12:43:58.959Z"
   },
   {
    "duration": 5,
    "start_time": "2022-08-16T12:43:58.975Z"
   },
   {
    "duration": 28,
    "start_time": "2022-08-16T12:43:58.981Z"
   },
   {
    "duration": 28,
    "start_time": "2022-08-16T12:43:59.010Z"
   },
   {
    "duration": 11,
    "start_time": "2022-08-16T12:43:59.040Z"
   },
   {
    "duration": 24,
    "start_time": "2022-08-16T12:43:59.054Z"
   },
   {
    "duration": 35,
    "start_time": "2022-08-16T12:43:59.080Z"
   },
   {
    "duration": 5,
    "start_time": "2022-08-16T12:43:59.117Z"
   },
   {
    "duration": 21,
    "start_time": "2022-08-16T12:43:59.124Z"
   },
   {
    "duration": 20,
    "start_time": "2022-08-16T12:43:59.146Z"
   },
   {
    "duration": 38,
    "start_time": "2022-08-16T12:43:59.167Z"
   },
   {
    "duration": 8,
    "start_time": "2022-08-16T12:43:59.207Z"
   },
   {
    "duration": 24,
    "start_time": "2022-08-16T12:43:59.216Z"
   },
   {
    "duration": 19,
    "start_time": "2022-08-16T12:43:59.241Z"
   },
   {
    "duration": 9,
    "start_time": "2022-08-16T12:43:59.261Z"
   },
   {
    "duration": 15,
    "start_time": "2022-08-16T12:43:59.271Z"
   },
   {
    "duration": 14,
    "start_time": "2022-08-16T12:43:59.287Z"
   },
   {
    "duration": 12,
    "start_time": "2022-08-16T12:43:59.302Z"
   },
   {
    "duration": 24,
    "start_time": "2022-08-16T12:43:59.315Z"
   },
   {
    "duration": 13,
    "start_time": "2022-08-16T12:43:59.341Z"
   },
   {
    "duration": 13,
    "start_time": "2022-08-16T12:43:59.355Z"
   },
   {
    "duration": 30,
    "start_time": "2022-08-16T12:43:59.369Z"
   },
   {
    "duration": 14,
    "start_time": "2022-08-16T12:43:59.401Z"
   },
   {
    "duration": 23,
    "start_time": "2022-08-16T12:43:59.418Z"
   },
   {
    "duration": 20,
    "start_time": "2022-08-16T12:43:59.443Z"
   },
   {
    "duration": 16,
    "start_time": "2022-08-16T12:43:59.465Z"
   },
   {
    "duration": 21,
    "start_time": "2022-08-16T12:43:59.482Z"
   },
   {
    "duration": 23,
    "start_time": "2022-08-16T12:43:59.504Z"
   },
   {
    "duration": 41,
    "start_time": "2022-08-16T12:43:59.528Z"
   },
   {
    "duration": 10,
    "start_time": "2022-08-16T12:43:59.571Z"
   },
   {
    "duration": 13,
    "start_time": "2022-08-16T12:43:59.583Z"
   },
   {
    "duration": 12,
    "start_time": "2022-08-16T12:43:59.597Z"
   },
   {
    "duration": 173,
    "start_time": "2022-08-16T12:43:59.610Z"
   },
   {
    "duration": 26,
    "start_time": "2022-08-16T12:43:59.784Z"
   },
   {
    "duration": 94,
    "start_time": "2022-08-16T12:43:59.812Z"
   },
   {
    "duration": 17,
    "start_time": "2022-08-16T12:43:59.907Z"
   },
   {
    "duration": 133,
    "start_time": "2022-08-16T12:43:59.925Z"
   },
   {
    "duration": 5,
    "start_time": "2022-08-16T12:44:00.059Z"
   },
   {
    "duration": 141,
    "start_time": "2022-08-16T12:44:00.065Z"
   },
   {
    "duration": 4,
    "start_time": "2022-08-16T12:44:00.208Z"
   },
   {
    "duration": 141,
    "start_time": "2022-08-16T12:44:00.214Z"
   },
   {
    "duration": 5,
    "start_time": "2022-08-16T12:44:00.356Z"
   },
   {
    "duration": 129,
    "start_time": "2022-08-16T12:44:00.362Z"
   },
   {
    "duration": 15,
    "start_time": "2022-08-16T12:44:00.493Z"
   },
   {
    "duration": 137,
    "start_time": "2022-08-16T12:44:00.510Z"
   },
   {
    "duration": 6,
    "start_time": "2022-08-16T12:44:00.648Z"
   },
   {
    "duration": 144,
    "start_time": "2022-08-16T12:44:00.655Z"
   },
   {
    "duration": 8,
    "start_time": "2022-08-16T12:44:00.801Z"
   },
   {
    "duration": 50,
    "start_time": "2022-08-16T12:44:00.811Z"
   },
   {
    "duration": 29,
    "start_time": "2022-08-16T12:44:00.862Z"
   },
   {
    "duration": 32,
    "start_time": "2022-08-16T12:44:00.893Z"
   },
   {
    "duration": 23,
    "start_time": "2022-08-16T12:44:00.927Z"
   },
   {
    "duration": 23,
    "start_time": "2022-08-16T12:44:00.952Z"
   },
   {
    "duration": 43,
    "start_time": "2022-08-16T12:44:00.976Z"
   },
   {
    "duration": 103,
    "start_time": "2022-08-16T12:44:01.021Z"
   },
   {
    "duration": 14,
    "start_time": "2022-08-16T12:44:01.125Z"
   },
   {
    "duration": 16,
    "start_time": "2022-08-16T12:44:01.140Z"
   },
   {
    "duration": 32,
    "start_time": "2022-08-16T12:44:01.157Z"
   },
   {
    "duration": 6,
    "start_time": "2022-08-16T12:44:01.191Z"
   },
   {
    "duration": 19,
    "start_time": "2022-08-16T12:44:01.198Z"
   },
   {
    "duration": 18,
    "start_time": "2022-08-16T12:44:01.218Z"
   },
   {
    "duration": 13,
    "start_time": "2022-08-16T12:44:22.458Z"
   },
   {
    "duration": 23,
    "start_time": "2022-08-16T12:50:40.542Z"
   },
   {
    "duration": 13,
    "start_time": "2022-08-16T12:52:00.062Z"
   },
   {
    "duration": 1161,
    "start_time": "2022-08-16T12:52:09.200Z"
   },
   {
    "duration": 61,
    "start_time": "2022-08-16T12:52:10.363Z"
   },
   {
    "duration": 20,
    "start_time": "2022-08-16T12:52:10.425Z"
   },
   {
    "duration": 13,
    "start_time": "2022-08-16T12:52:10.448Z"
   },
   {
    "duration": 16,
    "start_time": "2022-08-16T12:52:10.463Z"
   },
   {
    "duration": 34,
    "start_time": "2022-08-16T12:52:10.481Z"
   },
   {
    "duration": 11,
    "start_time": "2022-08-16T12:52:10.520Z"
   },
   {
    "duration": 33,
    "start_time": "2022-08-16T12:52:10.532Z"
   },
   {
    "duration": 23,
    "start_time": "2022-08-16T12:52:10.566Z"
   },
   {
    "duration": 9,
    "start_time": "2022-08-16T12:52:10.592Z"
   },
   {
    "duration": 26,
    "start_time": "2022-08-16T12:52:10.602Z"
   },
   {
    "duration": 28,
    "start_time": "2022-08-16T12:52:10.630Z"
   },
   {
    "duration": 5,
    "start_time": "2022-08-16T12:52:10.660Z"
   },
   {
    "duration": 11,
    "start_time": "2022-08-16T12:52:10.666Z"
   },
   {
    "duration": 11,
    "start_time": "2022-08-16T12:52:10.678Z"
   },
   {
    "duration": 42,
    "start_time": "2022-08-16T12:52:10.690Z"
   },
   {
    "duration": 19,
    "start_time": "2022-08-16T12:52:10.733Z"
   },
   {
    "duration": 18,
    "start_time": "2022-08-16T12:52:10.753Z"
   },
   {
    "duration": 9,
    "start_time": "2022-08-16T12:52:10.773Z"
   },
   {
    "duration": 9,
    "start_time": "2022-08-16T12:52:10.783Z"
   },
   {
    "duration": 30,
    "start_time": "2022-08-16T12:52:10.793Z"
   },
   {
    "duration": 12,
    "start_time": "2022-08-16T12:52:10.824Z"
   },
   {
    "duration": 10,
    "start_time": "2022-08-16T12:52:10.837Z"
   },
   {
    "duration": 6,
    "start_time": "2022-08-16T12:52:10.848Z"
   },
   {
    "duration": 8,
    "start_time": "2022-08-16T12:52:10.855Z"
   },
   {
    "duration": 9,
    "start_time": "2022-08-16T12:52:10.864Z"
   },
   {
    "duration": 46,
    "start_time": "2022-08-16T12:52:10.874Z"
   },
   {
    "duration": 17,
    "start_time": "2022-08-16T12:52:10.924Z"
   },
   {
    "duration": 10,
    "start_time": "2022-08-16T12:52:10.942Z"
   },
   {
    "duration": 14,
    "start_time": "2022-08-16T12:52:10.954Z"
   },
   {
    "duration": 17,
    "start_time": "2022-08-16T12:52:10.970Z"
   },
   {
    "duration": 42,
    "start_time": "2022-08-16T12:52:10.989Z"
   },
   {
    "duration": 13,
    "start_time": "2022-08-16T12:52:11.032Z"
   },
   {
    "duration": 13,
    "start_time": "2022-08-16T12:52:11.046Z"
   },
   {
    "duration": 15,
    "start_time": "2022-08-16T12:52:11.061Z"
   },
   {
    "duration": 214,
    "start_time": "2022-08-16T12:52:11.078Z"
   },
   {
    "duration": 29,
    "start_time": "2022-08-16T12:52:11.293Z"
   },
   {
    "duration": 112,
    "start_time": "2022-08-16T12:52:11.324Z"
   },
   {
    "duration": 20,
    "start_time": "2022-08-16T12:52:11.438Z"
   },
   {
    "duration": 166,
    "start_time": "2022-08-16T12:52:11.460Z"
   },
   {
    "duration": 4,
    "start_time": "2022-08-16T12:52:11.628Z"
   },
   {
    "duration": 147,
    "start_time": "2022-08-16T12:52:11.633Z"
   },
   {
    "duration": 5,
    "start_time": "2022-08-16T12:52:11.781Z"
   },
   {
    "duration": 148,
    "start_time": "2022-08-16T12:52:11.787Z"
   },
   {
    "duration": 4,
    "start_time": "2022-08-16T12:52:11.937Z"
   },
   {
    "duration": 132,
    "start_time": "2022-08-16T12:52:11.942Z"
   },
   {
    "duration": 5,
    "start_time": "2022-08-16T12:52:12.075Z"
   },
   {
    "duration": 151,
    "start_time": "2022-08-16T12:52:12.081Z"
   },
   {
    "duration": 4,
    "start_time": "2022-08-16T12:52:12.234Z"
   },
   {
    "duration": 143,
    "start_time": "2022-08-16T12:52:12.239Z"
   },
   {
    "duration": 5,
    "start_time": "2022-08-16T12:52:12.383Z"
   },
   {
    "duration": 31,
    "start_time": "2022-08-16T12:52:12.390Z"
   },
   {
    "duration": 17,
    "start_time": "2022-08-16T12:52:12.422Z"
   },
   {
    "duration": 14,
    "start_time": "2022-08-16T12:52:12.440Z"
   },
   {
    "duration": 13,
    "start_time": "2022-08-16T12:52:12.456Z"
   },
   {
    "duration": 14,
    "start_time": "2022-08-16T12:52:12.470Z"
   },
   {
    "duration": 44,
    "start_time": "2022-08-16T12:52:12.485Z"
   },
   {
    "duration": 92,
    "start_time": "2022-08-16T12:52:12.531Z"
   },
   {
    "duration": 14,
    "start_time": "2022-08-16T12:52:12.625Z"
   },
   {
    "duration": 15,
    "start_time": "2022-08-16T12:52:12.641Z"
   },
   {
    "duration": 13,
    "start_time": "2022-08-16T12:52:12.658Z"
   },
   {
    "duration": 5,
    "start_time": "2022-08-16T12:52:12.673Z"
   },
   {
    "duration": 36,
    "start_time": "2022-08-16T12:52:12.680Z"
   },
   {
    "duration": 10,
    "start_time": "2022-08-16T12:52:12.718Z"
   },
   {
    "duration": 14,
    "start_time": "2022-08-16T13:03:17.947Z"
   },
   {
    "duration": 140,
    "start_time": "2022-08-16T13:08:20.637Z"
   },
   {
    "duration": 153,
    "start_time": "2022-08-16T13:12:01.485Z"
   },
   {
    "duration": 192,
    "start_time": "2022-08-16T13:12:12.194Z"
   },
   {
    "duration": 172,
    "start_time": "2022-08-16T13:12:23.116Z"
   },
   {
    "duration": 139,
    "start_time": "2022-08-16T13:12:42.696Z"
   },
   {
    "duration": 14,
    "start_time": "2022-08-16T13:15:20.069Z"
   },
   {
    "duration": 138,
    "start_time": "2022-08-16T13:18:26.796Z"
   },
   {
    "duration": 158,
    "start_time": "2022-08-16T13:18:42.657Z"
   },
   {
    "duration": 132,
    "start_time": "2022-08-16T13:19:07.143Z"
   },
   {
    "duration": 15,
    "start_time": "2022-08-16T13:22:19.335Z"
   },
   {
    "duration": 4,
    "start_time": "2022-08-16T13:25:25.512Z"
   },
   {
    "duration": 135,
    "start_time": "2022-08-16T13:26:16.501Z"
   },
   {
    "duration": 119,
    "start_time": "2022-08-16T13:30:20.132Z"
   },
   {
    "duration": 150,
    "start_time": "2022-08-16T13:30:30.875Z"
   },
   {
    "duration": 171,
    "start_time": "2022-08-16T13:30:46.284Z"
   },
   {
    "duration": 331,
    "start_time": "2022-08-16T13:30:51.250Z"
   },
   {
    "duration": 155,
    "start_time": "2022-08-16T13:30:58.952Z"
   },
   {
    "duration": 151,
    "start_time": "2022-08-16T13:31:41.747Z"
   },
   {
    "duration": 13,
    "start_time": "2022-08-16T13:32:19.944Z"
   },
   {
    "duration": 18,
    "start_time": "2022-08-16T13:32:26.079Z"
   },
   {
    "duration": 16,
    "start_time": "2022-08-16T13:33:34.832Z"
   },
   {
    "duration": 19,
    "start_time": "2022-08-16T13:34:44.038Z"
   },
   {
    "duration": 24,
    "start_time": "2022-08-16T13:35:19.100Z"
   },
   {
    "duration": 130,
    "start_time": "2022-08-16T13:35:33.463Z"
   },
   {
    "duration": 103,
    "start_time": "2022-08-16T13:38:14.270Z"
   },
   {
    "duration": 215,
    "start_time": "2022-08-16T13:43:02.305Z"
   },
   {
    "duration": 256,
    "start_time": "2022-08-16T13:43:54.234Z"
   },
   {
    "duration": 342,
    "start_time": "2022-08-16T13:44:08.203Z"
   },
   {
    "duration": 272,
    "start_time": "2022-08-16T13:45:26.260Z"
   },
   {
    "duration": 18,
    "start_time": "2022-08-16T13:48:57.937Z"
   },
   {
    "duration": 128,
    "start_time": "2022-08-16T13:50:43.155Z"
   },
   {
    "duration": 6,
    "start_time": "2022-08-16T13:50:48.821Z"
   },
   {
    "duration": 124,
    "start_time": "2022-08-16T13:51:02.208Z"
   },
   {
    "duration": 5,
    "start_time": "2022-08-16T13:51:05.547Z"
   },
   {
    "duration": 126,
    "start_time": "2022-08-16T13:52:06.564Z"
   },
   {
    "duration": 5,
    "start_time": "2022-08-16T13:52:09.425Z"
   },
   {
    "duration": 124,
    "start_time": "2022-08-16T13:52:27.064Z"
   },
   {
    "duration": 5,
    "start_time": "2022-08-16T13:52:30.120Z"
   },
   {
    "duration": 128,
    "start_time": "2022-08-16T13:52:39.045Z"
   },
   {
    "duration": 5,
    "start_time": "2022-08-16T13:52:41.323Z"
   },
   {
    "duration": 136,
    "start_time": "2022-08-16T13:52:50.186Z"
   },
   {
    "duration": 4,
    "start_time": "2022-08-16T13:52:52.818Z"
   },
   {
    "duration": 17,
    "start_time": "2022-08-16T13:56:36.465Z"
   },
   {
    "duration": 241,
    "start_time": "2022-08-16T13:57:57.528Z"
   },
   {
    "duration": 358,
    "start_time": "2022-08-16T13:58:47.803Z"
   },
   {
    "duration": 266,
    "start_time": "2022-08-16T13:58:56.382Z"
   },
   {
    "duration": 16,
    "start_time": "2022-08-16T14:01:01.661Z"
   },
   {
    "duration": 21,
    "start_time": "2022-08-16T14:01:09.722Z"
   },
   {
    "duration": 16,
    "start_time": "2022-08-16T14:01:17.109Z"
   },
   {
    "duration": 18,
    "start_time": "2022-08-16T14:01:26.240Z"
   },
   {
    "duration": 24,
    "start_time": "2022-08-16T14:01:33.693Z"
   },
   {
    "duration": 14,
    "start_time": "2022-08-16T14:01:41.127Z"
   },
   {
    "duration": 21,
    "start_time": "2022-08-16T14:01:58.405Z"
   },
   {
    "duration": 14,
    "start_time": "2022-08-16T14:02:05.625Z"
   },
   {
    "duration": 15,
    "start_time": "2022-08-16T14:02:12.720Z"
   },
   {
    "duration": 31,
    "start_time": "2022-08-16T14:15:52.533Z"
   },
   {
    "duration": 416,
    "start_time": "2022-08-16T14:17:06.127Z"
   },
   {
    "duration": 441,
    "start_time": "2022-08-16T14:19:13.004Z"
   },
   {
    "duration": 396,
    "start_time": "2022-08-16T14:19:42.054Z"
   },
   {
    "duration": 413,
    "start_time": "2022-08-16T14:20:24.059Z"
   },
   {
    "duration": 586,
    "start_time": "2022-08-16T14:21:25.927Z"
   },
   {
    "duration": 511,
    "start_time": "2022-08-16T14:24:22.060Z"
   },
   {
    "duration": 44,
    "start_time": "2022-08-16T14:26:51.389Z"
   },
   {
    "duration": 412,
    "start_time": "2022-08-16T14:27:28.399Z"
   },
   {
    "duration": 302,
    "start_time": "2022-08-16T14:27:52.686Z"
   },
   {
    "duration": 479,
    "start_time": "2022-08-16T14:28:19.280Z"
   },
   {
    "duration": 635,
    "start_time": "2022-08-16T14:28:39.845Z"
   },
   {
    "duration": 408,
    "start_time": "2022-08-16T14:28:53.301Z"
   },
   {
    "duration": 7,
    "start_time": "2022-08-16T14:34:51.903Z"
   },
   {
    "duration": 14,
    "start_time": "2022-08-16T14:34:57.544Z"
   },
   {
    "duration": 64,
    "start_time": "2022-08-16T16:02:37.923Z"
   },
   {
    "duration": 1115,
    "start_time": "2022-08-16T16:03:48.920Z"
   },
   {
    "duration": 64,
    "start_time": "2022-08-16T16:03:50.037Z"
   },
   {
    "duration": 19,
    "start_time": "2022-08-16T16:03:50.103Z"
   },
   {
    "duration": 13,
    "start_time": "2022-08-16T16:03:50.124Z"
   },
   {
    "duration": 31,
    "start_time": "2022-08-16T16:03:50.139Z"
   },
   {
    "duration": 10,
    "start_time": "2022-08-16T16:03:50.179Z"
   },
   {
    "duration": 18,
    "start_time": "2022-08-16T16:03:50.191Z"
   },
   {
    "duration": 25,
    "start_time": "2022-08-16T16:03:50.210Z"
   },
   {
    "duration": 35,
    "start_time": "2022-08-16T16:03:50.237Z"
   },
   {
    "duration": 13,
    "start_time": "2022-08-16T16:03:50.278Z"
   },
   {
    "duration": 24,
    "start_time": "2022-08-16T16:03:50.293Z"
   },
   {
    "duration": 34,
    "start_time": "2022-08-16T16:03:50.319Z"
   },
   {
    "duration": 16,
    "start_time": "2022-08-16T16:03:50.355Z"
   },
   {
    "duration": 15,
    "start_time": "2022-08-16T16:03:50.382Z"
   },
   {
    "duration": 10,
    "start_time": "2022-08-16T16:03:50.398Z"
   },
   {
    "duration": 19,
    "start_time": "2022-08-16T16:03:50.409Z"
   },
   {
    "duration": 7,
    "start_time": "2022-08-16T16:03:50.430Z"
   },
   {
    "duration": 23,
    "start_time": "2022-08-16T16:03:50.439Z"
   },
   {
    "duration": 16,
    "start_time": "2022-08-16T16:03:50.465Z"
   },
   {
    "duration": 12,
    "start_time": "2022-08-16T16:03:50.484Z"
   },
   {
    "duration": 9,
    "start_time": "2022-08-16T16:03:50.497Z"
   },
   {
    "duration": 8,
    "start_time": "2022-08-16T16:03:50.508Z"
   },
   {
    "duration": 10,
    "start_time": "2022-08-16T16:03:50.518Z"
   },
   {
    "duration": 4,
    "start_time": "2022-08-16T16:03:50.530Z"
   },
   {
    "duration": 23,
    "start_time": "2022-08-16T16:03:50.535Z"
   },
   {
    "duration": 9,
    "start_time": "2022-08-16T16:03:50.564Z"
   },
   {
    "duration": 23,
    "start_time": "2022-08-16T16:03:50.574Z"
   },
   {
    "duration": 18,
    "start_time": "2022-08-16T16:03:50.598Z"
   },
   {
    "duration": 9,
    "start_time": "2022-08-16T16:03:50.617Z"
   },
   {
    "duration": 19,
    "start_time": "2022-08-16T16:03:50.628Z"
   },
   {
    "duration": 18,
    "start_time": "2022-08-16T16:03:50.648Z"
   },
   {
    "duration": 38,
    "start_time": "2022-08-16T16:03:50.668Z"
   },
   {
    "duration": 15,
    "start_time": "2022-08-16T16:03:50.708Z"
   },
   {
    "duration": 11,
    "start_time": "2022-08-16T16:03:50.724Z"
   },
   {
    "duration": 15,
    "start_time": "2022-08-16T16:03:50.737Z"
   },
   {
    "duration": 180,
    "start_time": "2022-08-16T16:03:50.758Z"
   },
   {
    "duration": 33,
    "start_time": "2022-08-16T16:03:50.939Z"
   },
   {
    "duration": 162,
    "start_time": "2022-08-16T16:03:50.973Z"
   },
   {
    "duration": 260,
    "start_time": "2022-08-16T16:03:51.136Z"
   },
   {
    "duration": 477,
    "start_time": "2022-08-16T16:03:51.397Z"
   },
   {
    "duration": 0,
    "start_time": "2022-08-16T16:03:51.885Z"
   },
   {
    "duration": 0,
    "start_time": "2022-08-16T16:03:51.886Z"
   },
   {
    "duration": 0,
    "start_time": "2022-08-16T16:03:51.887Z"
   },
   {
    "duration": 0,
    "start_time": "2022-08-16T16:03:51.888Z"
   },
   {
    "duration": 0,
    "start_time": "2022-08-16T16:03:51.890Z"
   },
   {
    "duration": 0,
    "start_time": "2022-08-16T16:03:51.891Z"
   },
   {
    "duration": 0,
    "start_time": "2022-08-16T16:03:51.892Z"
   },
   {
    "duration": 0,
    "start_time": "2022-08-16T16:03:51.893Z"
   },
   {
    "duration": 0,
    "start_time": "2022-08-16T16:03:51.894Z"
   },
   {
    "duration": 0,
    "start_time": "2022-08-16T16:03:51.895Z"
   },
   {
    "duration": 0,
    "start_time": "2022-08-16T16:03:51.896Z"
   },
   {
    "duration": 0,
    "start_time": "2022-08-16T16:03:51.897Z"
   },
   {
    "duration": 0,
    "start_time": "2022-08-16T16:03:51.898Z"
   },
   {
    "duration": 0,
    "start_time": "2022-08-16T16:03:51.899Z"
   },
   {
    "duration": 0,
    "start_time": "2022-08-16T16:03:51.900Z"
   },
   {
    "duration": 0,
    "start_time": "2022-08-16T16:03:51.901Z"
   },
   {
    "duration": 0,
    "start_time": "2022-08-16T16:03:51.902Z"
   },
   {
    "duration": 0,
    "start_time": "2022-08-16T16:03:51.903Z"
   },
   {
    "duration": 0,
    "start_time": "2022-08-16T16:03:51.904Z"
   },
   {
    "duration": 0,
    "start_time": "2022-08-16T16:03:51.905Z"
   },
   {
    "duration": 0,
    "start_time": "2022-08-16T16:03:51.906Z"
   },
   {
    "duration": 147,
    "start_time": "2022-08-16T16:04:00.820Z"
   },
   {
    "duration": 238,
    "start_time": "2022-08-16T16:04:16.881Z"
   },
   {
    "duration": 303,
    "start_time": "2022-08-16T16:04:26.796Z"
   },
   {
    "duration": 261,
    "start_time": "2022-08-16T16:04:42.068Z"
   },
   {
    "duration": 157,
    "start_time": "2022-08-16T16:07:39.322Z"
   },
   {
    "duration": 14,
    "start_time": "2022-08-16T16:07:40.172Z"
   },
   {
    "duration": 137,
    "start_time": "2022-08-16T16:07:40.563Z"
   },
   {
    "duration": 15,
    "start_time": "2022-08-16T16:07:40.952Z"
   },
   {
    "duration": 182,
    "start_time": "2022-08-16T16:07:45.554Z"
   },
   {
    "duration": 4,
    "start_time": "2022-08-16T16:07:45.914Z"
   },
   {
    "duration": 135,
    "start_time": "2022-08-16T16:07:46.566Z"
   },
   {
    "duration": 6,
    "start_time": "2022-08-16T16:07:46.953Z"
   },
   {
    "duration": 137,
    "start_time": "2022-08-16T16:07:48.185Z"
   },
   {
    "duration": 7,
    "start_time": "2022-08-16T16:07:48.871Z"
   },
   {
    "duration": 159,
    "start_time": "2022-08-16T16:07:49.484Z"
   },
   {
    "duration": 5,
    "start_time": "2022-08-16T16:07:49.874Z"
   },
   {
    "duration": 366,
    "start_time": "2022-08-16T16:07:51.345Z"
   },
   {
    "duration": 478,
    "start_time": "2022-08-16T16:08:49.216Z"
   },
   {
    "duration": 7,
    "start_time": "2022-08-16T16:09:29.887Z"
   },
   {
    "duration": 8,
    "start_time": "2022-08-16T16:10:57.842Z"
   },
   {
    "duration": 7,
    "start_time": "2022-08-16T16:12:08.037Z"
   },
   {
    "duration": 7,
    "start_time": "2022-08-16T16:12:59.990Z"
   },
   {
    "duration": 545,
    "start_time": "2022-08-16T16:13:22.640Z"
   },
   {
    "duration": 14,
    "start_time": "2022-08-16T16:13:26.817Z"
   },
   {
    "duration": 17,
    "start_time": "2022-08-16T16:13:27.268Z"
   },
   {
    "duration": 14,
    "start_time": "2022-08-16T16:13:27.991Z"
   },
   {
    "duration": 6,
    "start_time": "2022-08-16T16:13:43.765Z"
   },
   {
    "duration": 10,
    "start_time": "2022-08-16T16:14:12.776Z"
   },
   {
    "duration": 7,
    "start_time": "2022-08-16T16:14:57.872Z"
   },
   {
    "duration": 10,
    "start_time": "2022-08-16T16:33:08.085Z"
   },
   {
    "duration": 1122,
    "start_time": "2022-08-16T16:35:25.238Z"
   },
   {
    "duration": 52,
    "start_time": "2022-08-16T16:35:26.361Z"
   },
   {
    "duration": 18,
    "start_time": "2022-08-16T16:35:26.415Z"
   },
   {
    "duration": 13,
    "start_time": "2022-08-16T16:35:26.435Z"
   },
   {
    "duration": 15,
    "start_time": "2022-08-16T16:35:26.450Z"
   },
   {
    "duration": 5,
    "start_time": "2022-08-16T16:35:26.466Z"
   },
   {
    "duration": 8,
    "start_time": "2022-08-16T16:35:26.472Z"
   },
   {
    "duration": 27,
    "start_time": "2022-08-16T16:35:26.482Z"
   },
   {
    "duration": 23,
    "start_time": "2022-08-16T16:35:26.510Z"
   },
   {
    "duration": 23,
    "start_time": "2022-08-16T16:35:26.534Z"
   },
   {
    "duration": 10,
    "start_time": "2022-08-16T16:35:26.559Z"
   },
   {
    "duration": 30,
    "start_time": "2022-08-16T16:35:26.570Z"
   },
   {
    "duration": 5,
    "start_time": "2022-08-16T16:35:26.601Z"
   },
   {
    "duration": 5,
    "start_time": "2022-08-16T16:35:26.609Z"
   },
   {
    "duration": 11,
    "start_time": "2022-08-16T16:35:26.615Z"
   },
   {
    "duration": 48,
    "start_time": "2022-08-16T16:35:26.627Z"
   },
   {
    "duration": 8,
    "start_time": "2022-08-16T16:35:26.677Z"
   },
   {
    "duration": 13,
    "start_time": "2022-08-16T16:35:26.686Z"
   },
   {
    "duration": 10,
    "start_time": "2022-08-16T16:35:26.700Z"
   },
   {
    "duration": 8,
    "start_time": "2022-08-16T16:35:26.712Z"
   },
   {
    "duration": 40,
    "start_time": "2022-08-16T16:35:26.721Z"
   },
   {
    "duration": 10,
    "start_time": "2022-08-16T16:35:26.762Z"
   },
   {
    "duration": 10,
    "start_time": "2022-08-16T16:35:26.773Z"
   },
   {
    "duration": 7,
    "start_time": "2022-08-16T16:35:26.785Z"
   },
   {
    "duration": 6,
    "start_time": "2022-08-16T16:35:26.793Z"
   },
   {
    "duration": 12,
    "start_time": "2022-08-16T16:35:26.800Z"
   },
   {
    "duration": 12,
    "start_time": "2022-08-16T16:35:26.814Z"
   },
   {
    "duration": 43,
    "start_time": "2022-08-16T16:35:26.828Z"
   },
   {
    "duration": 8,
    "start_time": "2022-08-16T16:35:26.873Z"
   },
   {
    "duration": 14,
    "start_time": "2022-08-16T16:35:26.882Z"
   },
   {
    "duration": 13,
    "start_time": "2022-08-16T16:35:26.898Z"
   },
   {
    "duration": 46,
    "start_time": "2022-08-16T16:35:26.912Z"
   },
   {
    "duration": 12,
    "start_time": "2022-08-16T16:35:26.960Z"
   },
   {
    "duration": 13,
    "start_time": "2022-08-16T16:35:26.973Z"
   },
   {
    "duration": 13,
    "start_time": "2022-08-16T16:35:26.988Z"
   },
   {
    "duration": 182,
    "start_time": "2022-08-16T16:35:27.003Z"
   },
   {
    "duration": 15,
    "start_time": "2022-08-16T16:35:27.187Z"
   },
   {
    "duration": 153,
    "start_time": "2022-08-16T16:35:27.204Z"
   },
   {
    "duration": 223,
    "start_time": "2022-08-16T16:35:27.359Z"
   },
   {
    "duration": 225,
    "start_time": "2022-08-16T16:35:27.584Z"
   },
   {
    "duration": 150,
    "start_time": "2022-08-16T16:35:27.813Z"
   },
   {
    "duration": 5,
    "start_time": "2022-08-16T16:35:27.964Z"
   },
   {
    "duration": 166,
    "start_time": "2022-08-16T16:35:27.971Z"
   },
   {
    "duration": 5,
    "start_time": "2022-08-16T16:35:28.140Z"
   },
   {
    "duration": 229,
    "start_time": "2022-08-16T16:35:28.146Z"
   },
   {
    "duration": 5,
    "start_time": "2022-08-16T16:35:28.376Z"
   },
   {
    "duration": 141,
    "start_time": "2022-08-16T16:35:28.383Z"
   },
   {
    "duration": 5,
    "start_time": "2022-08-16T16:35:28.525Z"
   },
   {
    "duration": 144,
    "start_time": "2022-08-16T16:35:28.531Z"
   },
   {
    "duration": 5,
    "start_time": "2022-08-16T16:35:28.677Z"
   },
   {
    "duration": 160,
    "start_time": "2022-08-16T16:35:28.683Z"
   },
   {
    "duration": 5,
    "start_time": "2022-08-16T16:35:28.845Z"
   },
   {
    "duration": 274,
    "start_time": "2022-08-16T16:35:28.851Z"
   },
   {
    "duration": 425,
    "start_time": "2022-08-16T16:35:29.127Z"
   },
   {
    "duration": 7,
    "start_time": "2022-08-16T16:35:29.554Z"
   },
   {
    "duration": 8,
    "start_time": "2022-08-16T16:35:29.563Z"
   },
   {
    "duration": 548,
    "start_time": "2022-08-16T16:35:29.573Z"
   },
   {
    "duration": 15,
    "start_time": "2022-08-16T16:35:30.123Z"
   },
   {
    "duration": 14,
    "start_time": "2022-08-16T16:35:30.139Z"
   },
   {
    "duration": 13,
    "start_time": "2022-08-16T16:35:30.155Z"
   },
   {
    "duration": 22,
    "start_time": "2022-08-16T16:35:30.169Z"
   },
   {
    "duration": 24,
    "start_time": "2022-08-16T16:35:30.193Z"
   },
   {
    "duration": 40,
    "start_time": "2022-08-16T16:35:30.219Z"
   },
   {
    "duration": 40,
    "start_time": "2022-08-16T16:35:30.260Z"
   },
   {
    "duration": 1377,
    "start_time": "2022-08-17T12:10:48.911Z"
   },
   {
    "duration": 100,
    "start_time": "2022-08-17T12:10:50.290Z"
   },
   {
    "duration": 30,
    "start_time": "2022-08-17T12:10:50.392Z"
   },
   {
    "duration": 15,
    "start_time": "2022-08-17T12:10:50.423Z"
   },
   {
    "duration": 16,
    "start_time": "2022-08-17T12:10:50.440Z"
   },
   {
    "duration": 5,
    "start_time": "2022-08-17T12:10:50.457Z"
   },
   {
    "duration": 5,
    "start_time": "2022-08-17T12:10:50.464Z"
   },
   {
    "duration": 53,
    "start_time": "2022-08-17T12:10:50.470Z"
   },
   {
    "duration": 34,
    "start_time": "2022-08-17T12:10:50.524Z"
   },
   {
    "duration": 10,
    "start_time": "2022-08-17T12:10:50.559Z"
   },
   {
    "duration": 42,
    "start_time": "2022-08-17T12:10:50.570Z"
   },
   {
    "duration": 35,
    "start_time": "2022-08-17T12:10:50.614Z"
   },
   {
    "duration": 5,
    "start_time": "2022-08-17T12:10:50.650Z"
   },
   {
    "duration": 6,
    "start_time": "2022-08-17T12:10:50.659Z"
   },
   {
    "duration": 12,
    "start_time": "2022-08-17T12:10:50.667Z"
   },
   {
    "duration": 47,
    "start_time": "2022-08-17T12:10:50.680Z"
   },
   {
    "duration": 12,
    "start_time": "2022-08-17T12:10:50.728Z"
   },
   {
    "duration": 24,
    "start_time": "2022-08-17T12:10:50.741Z"
   },
   {
    "duration": 12,
    "start_time": "2022-08-17T12:10:50.767Z"
   },
   {
    "duration": 35,
    "start_time": "2022-08-17T12:10:50.781Z"
   },
   {
    "duration": 14,
    "start_time": "2022-08-17T12:10:50.818Z"
   },
   {
    "duration": 10,
    "start_time": "2022-08-17T12:10:50.833Z"
   },
   {
    "duration": 9,
    "start_time": "2022-08-17T12:10:50.844Z"
   },
   {
    "duration": 3,
    "start_time": "2022-08-17T12:10:50.855Z"
   },
   {
    "duration": 13,
    "start_time": "2022-08-17T12:10:50.860Z"
   },
   {
    "duration": 25,
    "start_time": "2022-08-17T12:10:50.912Z"
   },
   {
    "duration": 9,
    "start_time": "2022-08-17T12:10:50.939Z"
   },
   {
    "duration": 18,
    "start_time": "2022-08-17T12:10:50.950Z"
   },
   {
    "duration": 15,
    "start_time": "2022-08-17T12:10:50.970Z"
   },
   {
    "duration": 41,
    "start_time": "2022-08-17T12:10:50.987Z"
   },
   {
    "duration": 13,
    "start_time": "2022-08-17T12:10:51.029Z"
   },
   {
    "duration": 14,
    "start_time": "2022-08-17T12:10:51.044Z"
   },
   {
    "duration": 16,
    "start_time": "2022-08-17T12:10:51.059Z"
   },
   {
    "duration": 242,
    "start_time": "2022-08-17T12:10:51.077Z"
   },
   {
    "duration": 17,
    "start_time": "2022-08-17T12:10:51.321Z"
   },
   {
    "duration": 175,
    "start_time": "2022-08-17T12:10:51.340Z"
   },
   {
    "duration": 244,
    "start_time": "2022-08-17T12:10:51.517Z"
   },
   {
    "duration": 256,
    "start_time": "2022-08-17T12:10:51.763Z"
   },
   {
    "duration": 155,
    "start_time": "2022-08-17T12:10:52.021Z"
   },
   {
    "duration": 5,
    "start_time": "2022-08-17T12:10:52.178Z"
   },
   {
    "duration": 174,
    "start_time": "2022-08-17T12:10:52.204Z"
   },
   {
    "duration": 6,
    "start_time": "2022-08-17T12:10:52.380Z"
   },
   {
    "duration": 232,
    "start_time": "2022-08-17T12:10:52.388Z"
   },
   {
    "duration": 6,
    "start_time": "2022-08-17T12:10:52.622Z"
   },
   {
    "duration": 145,
    "start_time": "2022-08-17T12:10:52.630Z"
   },
   {
    "duration": 5,
    "start_time": "2022-08-17T12:10:52.777Z"
   },
   {
    "duration": 168,
    "start_time": "2022-08-17T12:10:52.783Z"
   },
   {
    "duration": 5,
    "start_time": "2022-08-17T12:10:52.953Z"
   },
   {
    "duration": 164,
    "start_time": "2022-08-17T12:10:52.959Z"
   },
   {
    "duration": 5,
    "start_time": "2022-08-17T12:10:53.125Z"
   },
   {
    "duration": 270,
    "start_time": "2022-08-17T12:10:53.131Z"
   },
   {
    "duration": 417,
    "start_time": "2022-08-17T12:10:53.413Z"
   },
   {
    "duration": 7,
    "start_time": "2022-08-17T12:10:53.831Z"
   },
   {
    "duration": 13,
    "start_time": "2022-08-17T12:10:53.839Z"
   },
   {
    "duration": 536,
    "start_time": "2022-08-17T12:10:53.854Z"
   },
   {
    "duration": 23,
    "start_time": "2022-08-17T12:10:54.393Z"
   },
   {
    "duration": 28,
    "start_time": "2022-08-17T12:10:54.418Z"
   },
   {
    "duration": 16,
    "start_time": "2022-08-17T12:10:54.448Z"
   },
   {
    "duration": 6,
    "start_time": "2022-08-17T12:10:54.468Z"
   },
   {
    "duration": 34,
    "start_time": "2022-08-17T12:10:54.476Z"
   },
   {
    "duration": 33,
    "start_time": "2022-08-17T12:10:54.511Z"
   },
   {
    "duration": 28,
    "start_time": "2022-08-17T12:10:54.546Z"
   },
   {
    "duration": 17,
    "start_time": "2022-08-17T12:14:03.557Z"
   },
   {
    "duration": 471,
    "start_time": "2022-08-17T12:19:21.282Z"
   },
   {
    "duration": 426,
    "start_time": "2022-08-17T12:19:36.876Z"
   },
   {
    "duration": 173,
    "start_time": "2022-08-17T12:33:59.911Z"
   },
   {
    "duration": 125,
    "start_time": "2022-08-17T12:34:36.869Z"
   },
   {
    "duration": 173,
    "start_time": "2022-08-17T12:34:51.015Z"
   },
   {
    "duration": 260,
    "start_time": "2022-08-17T12:36:00.326Z"
   },
   {
    "duration": 172,
    "start_time": "2022-08-17T12:38:02.867Z"
   },
   {
    "duration": 178,
    "start_time": "2022-08-17T12:40:48.136Z"
   },
   {
    "duration": 181,
    "start_time": "2022-08-17T12:41:00.948Z"
   },
   {
    "duration": 211,
    "start_time": "2022-08-17T12:41:58.410Z"
   },
   {
    "duration": 101,
    "start_time": "2022-08-17T12:46:31.333Z"
   },
   {
    "duration": 112,
    "start_time": "2022-08-17T12:46:43.211Z"
   },
   {
    "duration": 114,
    "start_time": "2022-08-17T12:47:01.280Z"
   },
   {
    "duration": 187,
    "start_time": "2022-08-17T12:49:47.630Z"
   },
   {
    "duration": 13,
    "start_time": "2022-08-17T12:51:42.421Z"
   },
   {
    "duration": 251,
    "start_time": "2022-08-17T12:51:57.241Z"
   },
   {
    "duration": 191,
    "start_time": "2022-08-17T12:52:24.228Z"
   },
   {
    "duration": 22,
    "start_time": "2022-08-17T13:03:17.993Z"
   },
   {
    "duration": 18,
    "start_time": "2022-08-17T13:03:41.678Z"
   },
   {
    "duration": 184,
    "start_time": "2022-08-17T13:08:31.438Z"
   },
   {
    "duration": 163,
    "start_time": "2022-08-17T13:11:00.631Z"
   },
   {
    "duration": 222,
    "start_time": "2022-08-17T13:11:27.903Z"
   },
   {
    "duration": 221,
    "start_time": "2022-08-17T13:14:19.103Z"
   },
   {
    "duration": 61,
    "start_time": "2022-08-17T13:15:47.720Z"
   },
   {
    "duration": 3,
    "start_time": "2022-08-17T13:15:53.875Z"
   },
   {
    "duration": 117,
    "start_time": "2022-08-17T13:19:24.753Z"
   },
   {
    "duration": 121,
    "start_time": "2022-08-17T13:21:57.991Z"
   },
   {
    "duration": 5,
    "start_time": "2022-08-17T13:22:01.120Z"
   },
   {
    "duration": 136,
    "start_time": "2022-08-17T13:22:18.929Z"
   },
   {
    "duration": 5,
    "start_time": "2022-08-17T13:22:22.148Z"
   },
   {
    "duration": 214,
    "start_time": "2022-08-17T13:22:55.361Z"
   },
   {
    "duration": 4,
    "start_time": "2022-08-17T13:22:58.302Z"
   },
   {
    "duration": 137,
    "start_time": "2022-08-17T13:23:14.232Z"
   },
   {
    "duration": 4,
    "start_time": "2022-08-17T13:23:16.898Z"
   },
   {
    "duration": 164,
    "start_time": "2022-08-17T13:23:35.921Z"
   },
   {
    "duration": 6,
    "start_time": "2022-08-17T13:23:38.945Z"
   },
   {
    "duration": 144,
    "start_time": "2022-08-17T13:23:48.529Z"
   },
   {
    "duration": 5,
    "start_time": "2022-08-17T13:23:51.116Z"
   },
   {
    "duration": 135,
    "start_time": "2022-08-17T13:25:45.656Z"
   },
   {
    "duration": 4,
    "start_time": "2022-08-17T13:25:49.544Z"
   },
   {
    "duration": 143,
    "start_time": "2022-08-17T13:25:55.165Z"
   },
   {
    "duration": 5,
    "start_time": "2022-08-17T13:25:59.077Z"
   },
   {
    "duration": 248,
    "start_time": "2022-08-17T13:31:29.873Z"
   },
   {
    "duration": 307,
    "start_time": "2022-08-17T13:31:54.275Z"
   },
   {
    "duration": 334,
    "start_time": "2022-08-17T13:32:01.818Z"
   },
   {
    "duration": 16,
    "start_time": "2022-08-17T13:34:19.106Z"
   },
   {
    "duration": 300,
    "start_time": "2022-08-17T13:39:11.667Z"
   },
   {
    "duration": 279,
    "start_time": "2022-08-17T13:39:23.765Z"
   },
   {
    "duration": 416,
    "start_time": "2022-08-17T13:41:26.214Z"
   },
   {
    "duration": 477,
    "start_time": "2022-08-17T13:41:48.444Z"
   },
   {
    "duration": 482,
    "start_time": "2022-08-17T13:44:08.347Z"
   },
   {
    "duration": 2,
    "start_time": "2022-08-17T13:44:12.064Z"
   },
   {
    "duration": 3,
    "start_time": "2022-08-17T13:44:13.287Z"
   },
   {
    "duration": 625,
    "start_time": "2022-08-17T13:44:16.147Z"
   },
   {
    "duration": 6,
    "start_time": "2022-08-17T13:52:31.576Z"
   },
   {
    "duration": 10,
    "start_time": "2022-08-17T13:52:36.080Z"
   },
   {
    "duration": 5,
    "start_time": "2022-08-17T13:53:02.737Z"
   },
   {
    "duration": 10,
    "start_time": "2022-08-17T13:53:06.094Z"
   },
   {
    "duration": 6,
    "start_time": "2022-08-17T13:53:12.746Z"
   },
   {
    "duration": 1148,
    "start_time": "2022-08-17T13:53:21.332Z"
   },
   {
    "duration": 55,
    "start_time": "2022-08-17T13:53:22.481Z"
   },
   {
    "duration": 19,
    "start_time": "2022-08-17T13:53:22.537Z"
   },
   {
    "duration": 13,
    "start_time": "2022-08-17T13:53:22.558Z"
   },
   {
    "duration": 15,
    "start_time": "2022-08-17T13:53:22.572Z"
   },
   {
    "duration": 4,
    "start_time": "2022-08-17T13:53:22.598Z"
   },
   {
    "duration": 6,
    "start_time": "2022-08-17T13:53:22.603Z"
   },
   {
    "duration": 22,
    "start_time": "2022-08-17T13:53:22.610Z"
   },
   {
    "duration": 22,
    "start_time": "2022-08-17T13:53:22.634Z"
   },
   {
    "duration": 8,
    "start_time": "2022-08-17T13:53:22.658Z"
   },
   {
    "duration": 37,
    "start_time": "2022-08-17T13:53:22.668Z"
   },
   {
    "duration": 32,
    "start_time": "2022-08-17T13:53:22.707Z"
   },
   {
    "duration": 6,
    "start_time": "2022-08-17T13:53:22.741Z"
   },
   {
    "duration": 6,
    "start_time": "2022-08-17T13:53:22.748Z"
   },
   {
    "duration": 9,
    "start_time": "2022-08-17T13:53:22.755Z"
   },
   {
    "duration": 49,
    "start_time": "2022-08-17T13:53:22.766Z"
   },
   {
    "duration": 8,
    "start_time": "2022-08-17T13:53:22.816Z"
   },
   {
    "duration": 12,
    "start_time": "2022-08-17T13:53:22.826Z"
   },
   {
    "duration": 9,
    "start_time": "2022-08-17T13:53:22.839Z"
   },
   {
    "duration": 11,
    "start_time": "2022-08-17T13:53:22.849Z"
   },
   {
    "duration": 39,
    "start_time": "2022-08-17T13:53:22.861Z"
   },
   {
    "duration": 10,
    "start_time": "2022-08-17T13:53:22.901Z"
   },
   {
    "duration": 10,
    "start_time": "2022-08-17T13:53:22.912Z"
   },
   {
    "duration": 2,
    "start_time": "2022-08-17T13:53:22.924Z"
   },
   {
    "duration": 18,
    "start_time": "2022-08-17T13:53:22.927Z"
   },
   {
    "duration": 16,
    "start_time": "2022-08-17T13:53:22.947Z"
   },
   {
    "duration": 35,
    "start_time": "2022-08-17T13:53:22.964Z"
   },
   {
    "duration": 10,
    "start_time": "2022-08-17T13:53:23.003Z"
   },
   {
    "duration": 17,
    "start_time": "2022-08-17T13:53:23.015Z"
   },
   {
    "duration": 22,
    "start_time": "2022-08-17T13:53:23.033Z"
   },
   {
    "duration": 12,
    "start_time": "2022-08-17T13:53:23.056Z"
   },
   {
    "duration": 40,
    "start_time": "2022-08-17T13:53:23.070Z"
   },
   {
    "duration": 13,
    "start_time": "2022-08-17T13:53:23.111Z"
   },
   {
    "duration": 197,
    "start_time": "2022-08-17T13:53:23.126Z"
   },
   {
    "duration": 15,
    "start_time": "2022-08-17T13:53:23.324Z"
   },
   {
    "duration": 177,
    "start_time": "2022-08-17T13:53:23.341Z"
   },
   {
    "duration": 240,
    "start_time": "2022-08-17T13:53:23.520Z"
   },
   {
    "duration": 3,
    "start_time": "2022-08-17T13:53:23.762Z"
   },
   {
    "duration": 137,
    "start_time": "2022-08-17T13:53:23.766Z"
   },
   {
    "duration": 5,
    "start_time": "2022-08-17T13:53:23.904Z"
   },
   {
    "duration": 150,
    "start_time": "2022-08-17T13:53:23.910Z"
   },
   {
    "duration": 5,
    "start_time": "2022-08-17T13:53:24.061Z"
   },
   {
    "duration": 158,
    "start_time": "2022-08-17T13:53:24.067Z"
   },
   {
    "duration": 6,
    "start_time": "2022-08-17T13:53:24.226Z"
   },
   {
    "duration": 163,
    "start_time": "2022-08-17T13:53:24.233Z"
   },
   {
    "duration": 6,
    "start_time": "2022-08-17T13:53:24.402Z"
   },
   {
    "duration": 290,
    "start_time": "2022-08-17T13:53:24.410Z"
   },
   {
    "duration": 5,
    "start_time": "2022-08-17T13:53:24.701Z"
   },
   {
    "duration": 168,
    "start_time": "2022-08-17T13:53:24.708Z"
   },
   {
    "duration": 6,
    "start_time": "2022-08-17T13:53:24.877Z"
   },
   {
    "duration": 160,
    "start_time": "2022-08-17T13:53:24.884Z"
   },
   {
    "duration": 5,
    "start_time": "2022-08-17T13:53:25.046Z"
   },
   {
    "duration": 157,
    "start_time": "2022-08-17T13:53:25.052Z"
   },
   {
    "duration": 6,
    "start_time": "2022-08-17T13:53:25.211Z"
   },
   {
    "duration": 22,
    "start_time": "2022-08-17T13:53:25.218Z"
   },
   {
    "duration": 279,
    "start_time": "2022-08-17T13:53:25.242Z"
   },
   {
    "duration": 515,
    "start_time": "2022-08-17T13:53:25.523Z"
   },
   {
    "duration": 3,
    "start_time": "2022-08-17T13:53:26.040Z"
   },
   {
    "duration": 7,
    "start_time": "2022-08-17T13:53:26.044Z"
   },
   {
    "duration": 496,
    "start_time": "2022-08-17T13:53:26.052Z"
   },
   {
    "duration": 16,
    "start_time": "2022-08-17T13:53:26.549Z"
   },
   {
    "duration": 31,
    "start_time": "2022-08-17T13:53:26.567Z"
   },
   {
    "duration": 16,
    "start_time": "2022-08-17T13:53:26.600Z"
   },
   {
    "duration": 5,
    "start_time": "2022-08-17T13:53:26.618Z"
   },
   {
    "duration": 10,
    "start_time": "2022-08-17T13:53:26.625Z"
   },
   {
    "duration": 9,
    "start_time": "2022-08-17T13:53:26.637Z"
   },
   {
    "duration": 9,
    "start_time": "2022-08-17T13:53:26.648Z"
   },
   {
    "duration": 15,
    "start_time": "2022-08-17T13:57:36.629Z"
   },
   {
    "duration": 15,
    "start_time": "2022-08-17T14:00:23.487Z"
   },
   {
    "duration": 15,
    "start_time": "2022-08-17T14:01:21.184Z"
   },
   {
    "duration": 538,
    "start_time": "2022-08-17T14:04:11.976Z"
   },
   {
    "duration": 388,
    "start_time": "2022-08-17T14:05:59.397Z"
   },
   {
    "duration": 25,
    "start_time": "2022-08-17T14:38:38.489Z"
   },
   {
    "duration": 360,
    "start_time": "2022-08-17T14:39:09.408Z"
   },
   {
    "duration": 25,
    "start_time": "2022-08-17T14:47:39.993Z"
   },
   {
    "duration": 25,
    "start_time": "2022-08-17T14:47:45.089Z"
   },
   {
    "duration": 24,
    "start_time": "2022-08-17T14:47:50.729Z"
   },
   {
    "duration": 24,
    "start_time": "2022-08-17T14:50:13.392Z"
   },
   {
    "duration": 23,
    "start_time": "2022-08-17T14:50:23.034Z"
   },
   {
    "duration": 24,
    "start_time": "2022-08-17T14:50:31.223Z"
   },
   {
    "duration": 25,
    "start_time": "2022-08-17T14:51:16.376Z"
   },
   {
    "duration": 24,
    "start_time": "2022-08-17T14:53:04.024Z"
   },
   {
    "duration": 26,
    "start_time": "2022-08-17T14:54:21.457Z"
   },
   {
    "duration": 26,
    "start_time": "2022-08-17T14:55:15.578Z"
   },
   {
    "duration": 317,
    "start_time": "2022-08-17T14:55:18.332Z"
   },
   {
    "duration": 1122,
    "start_time": "2022-08-17T14:55:37.109Z"
   },
   {
    "duration": 55,
    "start_time": "2022-08-17T14:55:38.233Z"
   },
   {
    "duration": 18,
    "start_time": "2022-08-17T14:55:38.290Z"
   },
   {
    "duration": 23,
    "start_time": "2022-08-17T14:55:38.310Z"
   },
   {
    "duration": 28,
    "start_time": "2022-08-17T14:55:38.334Z"
   },
   {
    "duration": 4,
    "start_time": "2022-08-17T14:55:38.364Z"
   },
   {
    "duration": 7,
    "start_time": "2022-08-17T14:55:38.370Z"
   },
   {
    "duration": 25,
    "start_time": "2022-08-17T14:55:38.379Z"
   },
   {
    "duration": 25,
    "start_time": "2022-08-17T14:55:38.406Z"
   },
   {
    "duration": 10,
    "start_time": "2022-08-17T14:55:38.433Z"
   },
   {
    "duration": 12,
    "start_time": "2022-08-17T14:55:38.445Z"
   },
   {
    "duration": 59,
    "start_time": "2022-08-17T14:55:38.459Z"
   },
   {
    "duration": 6,
    "start_time": "2022-08-17T14:55:38.520Z"
   },
   {
    "duration": 15,
    "start_time": "2022-08-17T14:55:38.528Z"
   },
   {
    "duration": 15,
    "start_time": "2022-08-17T14:55:38.545Z"
   },
   {
    "duration": 22,
    "start_time": "2022-08-17T14:55:38.562Z"
   },
   {
    "duration": 10,
    "start_time": "2022-08-17T14:55:38.598Z"
   },
   {
    "duration": 12,
    "start_time": "2022-08-17T14:55:38.609Z"
   },
   {
    "duration": 11,
    "start_time": "2022-08-17T14:55:38.623Z"
   },
   {
    "duration": 10,
    "start_time": "2022-08-17T14:55:38.635Z"
   },
   {
    "duration": 10,
    "start_time": "2022-08-17T14:55:38.647Z"
   },
   {
    "duration": 10,
    "start_time": "2022-08-17T14:55:38.699Z"
   },
   {
    "duration": 11,
    "start_time": "2022-08-17T14:55:38.711Z"
   },
   {
    "duration": 3,
    "start_time": "2022-08-17T14:55:38.723Z"
   },
   {
    "duration": 15,
    "start_time": "2022-08-17T14:55:38.728Z"
   },
   {
    "duration": 17,
    "start_time": "2022-08-17T14:55:38.744Z"
   },
   {
    "duration": 38,
    "start_time": "2022-08-17T14:55:38.762Z"
   },
   {
    "duration": 55,
    "start_time": "2022-08-17T14:55:38.804Z"
   },
   {
    "duration": 18,
    "start_time": "2022-08-17T14:55:38.861Z"
   },
   {
    "duration": 25,
    "start_time": "2022-08-17T14:55:38.881Z"
   },
   {
    "duration": 12,
    "start_time": "2022-08-17T14:55:38.908Z"
   },
   {
    "duration": 12,
    "start_time": "2022-08-17T14:55:38.922Z"
   },
   {
    "duration": 14,
    "start_time": "2022-08-17T14:55:38.936Z"
   },
   {
    "duration": 208,
    "start_time": "2022-08-17T14:55:38.951Z"
   },
   {
    "duration": 15,
    "start_time": "2022-08-17T14:55:39.161Z"
   },
   {
    "duration": 178,
    "start_time": "2022-08-17T14:55:39.178Z"
   },
   {
    "duration": 243,
    "start_time": "2022-08-17T14:55:39.357Z"
   },
   {
    "duration": 3,
    "start_time": "2022-08-17T14:55:39.601Z"
   },
   {
    "duration": 132,
    "start_time": "2022-08-17T14:55:39.605Z"
   },
   {
    "duration": 5,
    "start_time": "2022-08-17T14:55:39.738Z"
   },
   {
    "duration": 149,
    "start_time": "2022-08-17T14:55:39.745Z"
   },
   {
    "duration": 5,
    "start_time": "2022-08-17T14:55:39.898Z"
   },
   {
    "duration": 156,
    "start_time": "2022-08-17T14:55:39.905Z"
   },
   {
    "duration": 5,
    "start_time": "2022-08-17T14:55:40.062Z"
   },
   {
    "duration": 156,
    "start_time": "2022-08-17T14:55:40.068Z"
   },
   {
    "duration": 19,
    "start_time": "2022-08-17T14:55:40.226Z"
   },
   {
    "duration": 231,
    "start_time": "2022-08-17T14:55:40.247Z"
   },
   {
    "duration": 5,
    "start_time": "2022-08-17T14:55:40.480Z"
   },
   {
    "duration": 164,
    "start_time": "2022-08-17T14:55:40.487Z"
   },
   {
    "duration": 5,
    "start_time": "2022-08-17T14:55:40.653Z"
   },
   {
    "duration": 160,
    "start_time": "2022-08-17T14:55:40.659Z"
   },
   {
    "duration": 5,
    "start_time": "2022-08-17T14:55:40.821Z"
   },
   {
    "duration": 147,
    "start_time": "2022-08-17T14:55:40.827Z"
   },
   {
    "duration": 5,
    "start_time": "2022-08-17T14:55:40.976Z"
   },
   {
    "duration": 29,
    "start_time": "2022-08-17T14:55:40.983Z"
   },
   {
    "duration": 263,
    "start_time": "2022-08-17T14:55:41.014Z"
   },
   {
    "duration": 512,
    "start_time": "2022-08-17T14:55:41.278Z"
   },
   {
    "duration": 3,
    "start_time": "2022-08-17T14:55:41.791Z"
   },
   {
    "duration": 7,
    "start_time": "2022-08-17T14:55:41.796Z"
   },
   {
    "duration": 18,
    "start_time": "2022-08-17T14:55:41.805Z"
   },
   {
    "duration": 17,
    "start_time": "2022-08-17T14:55:41.825Z"
   },
   {
    "duration": 15,
    "start_time": "2022-08-17T14:55:41.844Z"
   },
   {
    "duration": 47,
    "start_time": "2022-08-17T14:55:41.861Z"
   },
   {
    "duration": 23,
    "start_time": "2022-08-17T14:55:41.910Z"
   },
   {
    "duration": 28,
    "start_time": "2022-08-17T14:55:41.935Z"
   },
   {
    "duration": 343,
    "start_time": "2022-08-17T14:55:41.965Z"
   },
   {
    "duration": 14,
    "start_time": "2022-08-17T14:55:42.310Z"
   },
   {
    "duration": 16,
    "start_time": "2022-08-17T14:55:42.326Z"
   },
   {
    "duration": 14,
    "start_time": "2022-08-17T14:55:42.343Z"
   },
   {
    "duration": 5,
    "start_time": "2022-08-17T14:55:42.359Z"
   },
   {
    "duration": 40,
    "start_time": "2022-08-17T14:55:42.366Z"
   },
   {
    "duration": 9,
    "start_time": "2022-08-17T14:55:42.408Z"
   },
   {
    "duration": 9,
    "start_time": "2022-08-17T14:55:42.419Z"
   },
   {
    "duration": 25,
    "start_time": "2022-08-17T14:58:40.363Z"
   },
   {
    "duration": 24,
    "start_time": "2022-08-17T14:59:32.481Z"
   },
   {
    "duration": 24,
    "start_time": "2022-08-17T15:00:35.393Z"
   },
   {
    "duration": 23,
    "start_time": "2022-08-17T15:00:48.774Z"
   },
   {
    "duration": 388,
    "start_time": "2022-08-17T15:00:57.507Z"
   },
   {
    "duration": 19,
    "start_time": "2022-08-17T15:02:09.829Z"
   },
   {
    "duration": 20,
    "start_time": "2022-08-17T15:02:15.044Z"
   },
   {
    "duration": 20,
    "start_time": "2022-08-17T15:03:04.322Z"
   },
   {
    "duration": 323,
    "start_time": "2022-08-17T15:03:46.715Z"
   },
   {
    "duration": 299,
    "start_time": "2022-08-17T15:03:59.648Z"
   },
   {
    "duration": 22,
    "start_time": "2022-08-17T15:10:49.889Z"
   },
   {
    "duration": 15,
    "start_time": "2022-08-17T15:10:52.555Z"
   },
   {
    "duration": 22,
    "start_time": "2022-08-17T15:10:55.738Z"
   },
   {
    "duration": 23,
    "start_time": "2022-08-17T15:14:49.480Z"
   },
   {
    "duration": 22,
    "start_time": "2022-08-17T15:14:50.432Z"
   },
   {
    "duration": 22,
    "start_time": "2022-08-17T15:14:51.125Z"
   },
   {
    "duration": 296,
    "start_time": "2022-08-17T15:17:51.130Z"
   },
   {
    "duration": 1097,
    "start_time": "2022-08-17T15:18:12.416Z"
   },
   {
    "duration": 55,
    "start_time": "2022-08-17T15:18:13.515Z"
   },
   {
    "duration": 19,
    "start_time": "2022-08-17T15:18:13.571Z"
   },
   {
    "duration": 19,
    "start_time": "2022-08-17T15:18:13.592Z"
   },
   {
    "duration": 20,
    "start_time": "2022-08-17T15:18:13.613Z"
   },
   {
    "duration": 4,
    "start_time": "2022-08-17T15:18:13.634Z"
   },
   {
    "duration": 7,
    "start_time": "2022-08-17T15:18:13.639Z"
   },
   {
    "duration": 25,
    "start_time": "2022-08-17T15:18:13.648Z"
   },
   {
    "duration": 44,
    "start_time": "2022-08-17T15:18:13.674Z"
   },
   {
    "duration": 10,
    "start_time": "2022-08-17T15:18:13.720Z"
   },
   {
    "duration": 26,
    "start_time": "2022-08-17T15:18:13.731Z"
   },
   {
    "duration": 28,
    "start_time": "2022-08-17T15:18:13.758Z"
   },
   {
    "duration": 22,
    "start_time": "2022-08-17T15:18:13.788Z"
   },
   {
    "duration": 10,
    "start_time": "2022-08-17T15:18:13.812Z"
   },
   {
    "duration": 11,
    "start_time": "2022-08-17T15:18:13.823Z"
   },
   {
    "duration": 22,
    "start_time": "2022-08-17T15:18:13.836Z"
   },
   {
    "duration": 8,
    "start_time": "2022-08-17T15:18:13.860Z"
   },
   {
    "duration": 38,
    "start_time": "2022-08-17T15:18:13.870Z"
   },
   {
    "duration": 15,
    "start_time": "2022-08-17T15:18:13.910Z"
   },
   {
    "duration": 10,
    "start_time": "2022-08-17T15:18:13.926Z"
   },
   {
    "duration": 12,
    "start_time": "2022-08-17T15:18:13.937Z"
   },
   {
    "duration": 11,
    "start_time": "2022-08-17T15:18:13.951Z"
   },
   {
    "duration": 46,
    "start_time": "2022-08-17T15:18:13.964Z"
   },
   {
    "duration": 4,
    "start_time": "2022-08-17T15:18:14.012Z"
   },
   {
    "duration": 14,
    "start_time": "2022-08-17T15:18:14.017Z"
   },
   {
    "duration": 27,
    "start_time": "2022-08-17T15:18:14.033Z"
   },
   {
    "duration": 9,
    "start_time": "2022-08-17T15:18:14.062Z"
   },
   {
    "duration": 10,
    "start_time": "2022-08-17T15:18:14.075Z"
   },
   {
    "duration": 35,
    "start_time": "2022-08-17T15:18:14.086Z"
   },
   {
    "duration": 20,
    "start_time": "2022-08-17T15:18:14.123Z"
   },
   {
    "duration": 13,
    "start_time": "2022-08-17T15:18:14.145Z"
   },
   {
    "duration": 13,
    "start_time": "2022-08-17T15:18:14.160Z"
   },
   {
    "duration": 42,
    "start_time": "2022-08-17T15:18:14.174Z"
   },
   {
    "duration": 206,
    "start_time": "2022-08-17T15:18:14.218Z"
   },
   {
    "duration": 20,
    "start_time": "2022-08-17T15:18:14.426Z"
   },
   {
    "duration": 215,
    "start_time": "2022-08-17T15:18:14.447Z"
   },
   {
    "duration": 262,
    "start_time": "2022-08-17T15:18:14.664Z"
   },
   {
    "duration": 2,
    "start_time": "2022-08-17T15:18:14.928Z"
   },
   {
    "duration": 136,
    "start_time": "2022-08-17T15:18:14.933Z"
   },
   {
    "duration": 4,
    "start_time": "2022-08-17T15:18:15.071Z"
   },
   {
    "duration": 172,
    "start_time": "2022-08-17T15:18:15.077Z"
   },
   {
    "duration": 5,
    "start_time": "2022-08-17T15:18:15.250Z"
   },
   {
    "duration": 160,
    "start_time": "2022-08-17T15:18:15.256Z"
   },
   {
    "duration": 4,
    "start_time": "2022-08-17T15:18:15.419Z"
   },
   {
    "duration": 161,
    "start_time": "2022-08-17T15:18:15.425Z"
   },
   {
    "duration": 5,
    "start_time": "2022-08-17T15:18:15.588Z"
   },
   {
    "duration": 240,
    "start_time": "2022-08-17T15:18:15.595Z"
   },
   {
    "duration": 5,
    "start_time": "2022-08-17T15:18:15.837Z"
   },
   {
    "duration": 165,
    "start_time": "2022-08-17T15:18:15.843Z"
   },
   {
    "duration": 6,
    "start_time": "2022-08-17T15:18:16.010Z"
   },
   {
    "duration": 168,
    "start_time": "2022-08-17T15:18:16.018Z"
   },
   {
    "duration": 5,
    "start_time": "2022-08-17T15:18:16.187Z"
   },
   {
    "duration": 149,
    "start_time": "2022-08-17T15:18:16.209Z"
   },
   {
    "duration": 5,
    "start_time": "2022-08-17T15:18:16.360Z"
   },
   {
    "duration": 17,
    "start_time": "2022-08-17T15:18:16.366Z"
   },
   {
    "duration": 295,
    "start_time": "2022-08-17T15:18:16.384Z"
   },
   {
    "duration": 29,
    "start_time": "2022-08-17T15:18:16.681Z"
   },
   {
    "duration": 16,
    "start_time": "2022-08-17T15:18:16.712Z"
   },
   {
    "duration": 19,
    "start_time": "2022-08-17T15:18:16.730Z"
   },
   {
    "duration": 22,
    "start_time": "2022-08-17T15:18:16.751Z"
   },
   {
    "duration": 49,
    "start_time": "2022-08-17T15:18:16.775Z"
   },
   {
    "duration": 20,
    "start_time": "2022-08-17T15:18:16.826Z"
   },
   {
    "duration": 306,
    "start_time": "2022-08-17T15:18:16.848Z"
   },
   {
    "duration": 2,
    "start_time": "2022-08-17T15:18:17.155Z"
   },
   {
    "duration": 6,
    "start_time": "2022-08-17T15:18:17.159Z"
   },
   {
    "duration": 16,
    "start_time": "2022-08-17T15:18:17.166Z"
   },
   {
    "duration": 39,
    "start_time": "2022-08-17T15:18:17.184Z"
   },
   {
    "duration": 13,
    "start_time": "2022-08-17T15:18:17.225Z"
   },
   {
    "duration": 20,
    "start_time": "2022-08-17T15:18:17.240Z"
   },
   {
    "duration": 19,
    "start_time": "2022-08-17T15:18:17.262Z"
   },
   {
    "duration": 40,
    "start_time": "2022-08-17T15:18:17.283Z"
   },
   {
    "duration": 329,
    "start_time": "2022-08-17T15:18:17.325Z"
   },
   {
    "duration": 14,
    "start_time": "2022-08-17T15:18:17.655Z"
   },
   {
    "duration": 37,
    "start_time": "2022-08-17T15:18:17.671Z"
   },
   {
    "duration": 17,
    "start_time": "2022-08-17T15:18:17.710Z"
   },
   {
    "duration": 7,
    "start_time": "2022-08-17T15:18:17.729Z"
   },
   {
    "duration": 14,
    "start_time": "2022-08-17T15:18:17.738Z"
   },
   {
    "duration": 13,
    "start_time": "2022-08-17T15:18:17.753Z"
   },
   {
    "duration": 13,
    "start_time": "2022-08-17T15:18:17.767Z"
   },
   {
    "duration": 1143,
    "start_time": "2022-08-17T15:19:57.554Z"
   },
   {
    "duration": 55,
    "start_time": "2022-08-17T15:19:58.710Z"
   },
   {
    "duration": 19,
    "start_time": "2022-08-17T15:19:58.766Z"
   },
   {
    "duration": 22,
    "start_time": "2022-08-17T15:19:58.787Z"
   },
   {
    "duration": 15,
    "start_time": "2022-08-17T15:19:58.812Z"
   },
   {
    "duration": 4,
    "start_time": "2022-08-17T15:19:58.829Z"
   },
   {
    "duration": 6,
    "start_time": "2022-08-17T15:19:58.835Z"
   },
   {
    "duration": 28,
    "start_time": "2022-08-17T15:19:58.843Z"
   },
   {
    "duration": 40,
    "start_time": "2022-08-17T15:19:58.872Z"
   },
   {
    "duration": 10,
    "start_time": "2022-08-17T15:19:58.915Z"
   },
   {
    "duration": 12,
    "start_time": "2022-08-17T15:19:58.927Z"
   },
   {
    "duration": 28,
    "start_time": "2022-08-17T15:19:58.941Z"
   },
   {
    "duration": 5,
    "start_time": "2022-08-17T15:19:58.970Z"
   },
   {
    "duration": 6,
    "start_time": "2022-08-17T15:19:59.005Z"
   },
   {
    "duration": 18,
    "start_time": "2022-08-17T15:19:59.012Z"
   },
   {
    "duration": 22,
    "start_time": "2022-08-17T15:19:59.033Z"
   },
   {
    "duration": 9,
    "start_time": "2022-08-17T15:19:59.056Z"
   },
   {
    "duration": 14,
    "start_time": "2022-08-17T15:19:59.067Z"
   },
   {
    "duration": 18,
    "start_time": "2022-08-17T15:19:59.099Z"
   },
   {
    "duration": 11,
    "start_time": "2022-08-17T15:19:59.119Z"
   },
   {
    "duration": 9,
    "start_time": "2022-08-17T15:19:59.132Z"
   },
   {
    "duration": 13,
    "start_time": "2022-08-17T15:19:59.142Z"
   },
   {
    "duration": 9,
    "start_time": "2022-08-17T15:19:59.156Z"
   },
   {
    "duration": 42,
    "start_time": "2022-08-17T15:19:59.167Z"
   },
   {
    "duration": 12,
    "start_time": "2022-08-17T15:19:59.211Z"
   },
   {
    "duration": 18,
    "start_time": "2022-08-17T15:19:59.225Z"
   },
   {
    "duration": 9,
    "start_time": "2022-08-17T15:19:59.244Z"
   },
   {
    "duration": 10,
    "start_time": "2022-08-17T15:19:59.257Z"
   },
   {
    "duration": 35,
    "start_time": "2022-08-17T15:19:59.269Z"
   },
   {
    "duration": 25,
    "start_time": "2022-08-17T15:19:59.306Z"
   },
   {
    "duration": 12,
    "start_time": "2022-08-17T15:19:59.333Z"
   },
   {
    "duration": 14,
    "start_time": "2022-08-17T15:19:59.347Z"
   },
   {
    "duration": 56,
    "start_time": "2022-08-17T15:19:59.362Z"
   },
   {
    "duration": 201,
    "start_time": "2022-08-17T15:19:59.420Z"
   },
   {
    "duration": 15,
    "start_time": "2022-08-17T15:19:59.623Z"
   },
   {
    "duration": 176,
    "start_time": "2022-08-17T15:19:59.639Z"
   },
   {
    "duration": 259,
    "start_time": "2022-08-17T15:19:59.817Z"
   },
   {
    "duration": 2,
    "start_time": "2022-08-17T15:20:00.078Z"
   },
   {
    "duration": 151,
    "start_time": "2022-08-17T15:20:00.081Z"
   },
   {
    "duration": 5,
    "start_time": "2022-08-17T15:20:00.234Z"
   },
   {
    "duration": 146,
    "start_time": "2022-08-17T15:20:00.240Z"
   },
   {
    "duration": 5,
    "start_time": "2022-08-17T15:20:00.387Z"
   },
   {
    "duration": 168,
    "start_time": "2022-08-17T15:20:00.393Z"
   },
   {
    "duration": 4,
    "start_time": "2022-08-17T15:20:00.563Z"
   },
   {
    "duration": 155,
    "start_time": "2022-08-17T15:20:00.568Z"
   },
   {
    "duration": 4,
    "start_time": "2022-08-17T15:20:00.724Z"
   },
   {
    "duration": 229,
    "start_time": "2022-08-17T15:20:00.729Z"
   },
   {
    "duration": 5,
    "start_time": "2022-08-17T15:20:00.960Z"
   },
   {
    "duration": 231,
    "start_time": "2022-08-17T15:20:00.966Z"
   },
   {
    "duration": 6,
    "start_time": "2022-08-17T15:20:01.202Z"
   },
   {
    "duration": 164,
    "start_time": "2022-08-17T15:20:01.213Z"
   },
   {
    "duration": 4,
    "start_time": "2022-08-17T15:20:01.378Z"
   },
   {
    "duration": 167,
    "start_time": "2022-08-17T15:20:01.384Z"
   },
   {
    "duration": 5,
    "start_time": "2022-08-17T15:20:01.553Z"
   },
   {
    "duration": 24,
    "start_time": "2022-08-17T15:20:01.559Z"
   },
   {
    "duration": 276,
    "start_time": "2022-08-17T15:20:01.585Z"
   },
   {
    "duration": 16,
    "start_time": "2022-08-17T15:20:01.862Z"
   },
   {
    "duration": 38,
    "start_time": "2022-08-17T15:20:01.879Z"
   },
   {
    "duration": 16,
    "start_time": "2022-08-17T15:20:01.919Z"
   },
   {
    "duration": 22,
    "start_time": "2022-08-17T15:20:01.937Z"
   },
   {
    "duration": 56,
    "start_time": "2022-08-17T15:20:01.961Z"
   },
   {
    "duration": 24,
    "start_time": "2022-08-17T15:20:02.019Z"
   },
   {
    "duration": 364,
    "start_time": "2022-08-17T15:20:02.044Z"
   },
   {
    "duration": 2,
    "start_time": "2022-08-17T15:20:02.413Z"
   },
   {
    "duration": 14,
    "start_time": "2022-08-17T15:20:02.418Z"
   },
   {
    "duration": 27,
    "start_time": "2022-08-17T15:20:02.434Z"
   },
   {
    "duration": 16,
    "start_time": "2022-08-17T15:20:02.463Z"
   },
   {
    "duration": 14,
    "start_time": "2022-08-17T15:20:02.481Z"
   },
   {
    "duration": 30,
    "start_time": "2022-08-17T15:20:02.497Z"
   },
   {
    "duration": 18,
    "start_time": "2022-08-17T15:20:02.529Z"
   },
   {
    "duration": 21,
    "start_time": "2022-08-17T15:20:02.548Z"
   },
   {
    "duration": 357,
    "start_time": "2022-08-17T15:20:02.570Z"
   },
   {
    "duration": 15,
    "start_time": "2022-08-17T15:20:02.928Z"
   },
   {
    "duration": 12,
    "start_time": "2022-08-17T15:20:02.944Z"
   },
   {
    "duration": 12,
    "start_time": "2022-08-17T15:20:02.958Z"
   },
   {
    "duration": 5,
    "start_time": "2022-08-17T15:20:02.972Z"
   },
   {
    "duration": 38,
    "start_time": "2022-08-17T15:20:02.978Z"
   },
   {
    "duration": 12,
    "start_time": "2022-08-17T15:20:03.018Z"
   },
   {
    "duration": 10,
    "start_time": "2022-08-17T15:20:03.032Z"
   },
   {
    "duration": 18,
    "start_time": "2022-08-17T15:23:17.911Z"
   },
   {
    "duration": 21,
    "start_time": "2022-08-17T15:23:18.612Z"
   },
   {
    "duration": 20,
    "start_time": "2022-08-17T15:23:19.070Z"
   },
   {
    "duration": 13,
    "start_time": "2022-08-17T15:31:49.622Z"
   },
   {
    "duration": 15,
    "start_time": "2022-08-17T15:31:51.527Z"
   },
   {
    "duration": 20,
    "start_time": "2022-08-17T15:31:53.792Z"
   },
   {
    "duration": 7,
    "start_time": "2022-08-17T15:39:41.797Z"
   },
   {
    "duration": 10,
    "start_time": "2022-08-17T15:39:46.267Z"
   },
   {
    "duration": 9,
    "start_time": "2022-08-17T15:39:53.131Z"
   },
   {
    "duration": 1199,
    "start_time": "2022-08-17T15:56:10.107Z"
   },
   {
    "duration": 56,
    "start_time": "2022-08-17T15:56:11.307Z"
   },
   {
    "duration": 22,
    "start_time": "2022-08-17T15:56:11.364Z"
   },
   {
    "duration": 16,
    "start_time": "2022-08-17T15:56:11.388Z"
   },
   {
    "duration": 17,
    "start_time": "2022-08-17T15:56:11.405Z"
   },
   {
    "duration": 5,
    "start_time": "2022-08-17T15:56:11.423Z"
   },
   {
    "duration": 12,
    "start_time": "2022-08-17T15:56:11.429Z"
   },
   {
    "duration": 26,
    "start_time": "2022-08-17T15:56:11.443Z"
   },
   {
    "duration": 44,
    "start_time": "2022-08-17T15:56:11.470Z"
   },
   {
    "duration": 10,
    "start_time": "2022-08-17T15:56:11.516Z"
   },
   {
    "duration": 15,
    "start_time": "2022-08-17T15:56:11.528Z"
   },
   {
    "duration": 29,
    "start_time": "2022-08-17T15:56:11.545Z"
   },
   {
    "duration": 26,
    "start_time": "2022-08-17T15:56:11.575Z"
   },
   {
    "duration": 6,
    "start_time": "2022-08-17T15:56:11.603Z"
   },
   {
    "duration": 12,
    "start_time": "2022-08-17T15:56:11.611Z"
   },
   {
    "duration": 23,
    "start_time": "2022-08-17T15:56:11.625Z"
   },
   {
    "duration": 9,
    "start_time": "2022-08-17T15:56:11.650Z"
   },
   {
    "duration": 45,
    "start_time": "2022-08-17T15:56:11.660Z"
   },
   {
    "duration": 11,
    "start_time": "2022-08-17T15:56:11.706Z"
   },
   {
    "duration": 17,
    "start_time": "2022-08-17T15:56:11.718Z"
   },
   {
    "duration": 10,
    "start_time": "2022-08-17T15:56:11.737Z"
   },
   {
    "duration": 11,
    "start_time": "2022-08-17T15:56:11.749Z"
   },
   {
    "duration": 43,
    "start_time": "2022-08-17T15:56:11.761Z"
   },
   {
    "duration": 4,
    "start_time": "2022-08-17T15:56:11.805Z"
   },
   {
    "duration": 14,
    "start_time": "2022-08-17T15:56:11.810Z"
   },
   {
    "duration": 16,
    "start_time": "2022-08-17T15:56:11.825Z"
   },
   {
    "duration": 10,
    "start_time": "2022-08-17T15:56:11.842Z"
   },
   {
    "duration": 42,
    "start_time": "2022-08-17T15:56:11.858Z"
   },
   {
    "duration": 18,
    "start_time": "2022-08-17T15:56:11.902Z"
   },
   {
    "duration": 25,
    "start_time": "2022-08-17T15:56:11.922Z"
   },
   {
    "duration": 13,
    "start_time": "2022-08-17T15:56:11.948Z"
   },
   {
    "duration": 53,
    "start_time": "2022-08-17T15:56:11.963Z"
   },
   {
    "duration": 15,
    "start_time": "2022-08-17T15:56:12.018Z"
   },
   {
    "duration": 193,
    "start_time": "2022-08-17T15:56:12.034Z"
   },
   {
    "duration": 16,
    "start_time": "2022-08-17T15:56:12.228Z"
   },
   {
    "duration": 171,
    "start_time": "2022-08-17T15:56:12.246Z"
   },
   {
    "duration": 233,
    "start_time": "2022-08-17T15:56:12.418Z"
   },
   {
    "duration": 2,
    "start_time": "2022-08-17T15:56:12.653Z"
   },
   {
    "duration": 126,
    "start_time": "2022-08-17T15:56:12.656Z"
   },
   {
    "duration": 4,
    "start_time": "2022-08-17T15:56:12.783Z"
   },
   {
    "duration": 137,
    "start_time": "2022-08-17T15:56:12.789Z"
   },
   {
    "duration": 4,
    "start_time": "2022-08-17T15:56:12.927Z"
   },
   {
    "duration": 152,
    "start_time": "2022-08-17T15:56:12.933Z"
   },
   {
    "duration": 12,
    "start_time": "2022-08-17T15:56:13.087Z"
   },
   {
    "duration": 143,
    "start_time": "2022-08-17T15:56:13.100Z"
   },
   {
    "duration": 4,
    "start_time": "2022-08-17T15:56:13.244Z"
   },
   {
    "duration": 212,
    "start_time": "2022-08-17T15:56:13.250Z"
   },
   {
    "duration": 4,
    "start_time": "2022-08-17T15:56:13.464Z"
   },
   {
    "duration": 157,
    "start_time": "2022-08-17T15:56:13.470Z"
   },
   {
    "duration": 5,
    "start_time": "2022-08-17T15:56:13.628Z"
   },
   {
    "duration": 144,
    "start_time": "2022-08-17T15:56:13.634Z"
   },
   {
    "duration": 4,
    "start_time": "2022-08-17T15:56:13.780Z"
   },
   {
    "duration": 144,
    "start_time": "2022-08-17T15:56:13.785Z"
   },
   {
    "duration": 6,
    "start_time": "2022-08-17T15:56:13.930Z"
   },
   {
    "duration": 19,
    "start_time": "2022-08-17T15:56:13.937Z"
   },
   {
    "duration": 274,
    "start_time": "2022-08-17T15:56:13.958Z"
   },
   {
    "duration": 15,
    "start_time": "2022-08-17T15:56:14.233Z"
   },
   {
    "duration": 20,
    "start_time": "2022-08-17T15:56:14.250Z"
   },
   {
    "duration": 15,
    "start_time": "2022-08-17T15:56:14.271Z"
   },
   {
    "duration": 20,
    "start_time": "2022-08-17T15:56:14.299Z"
   },
   {
    "duration": 19,
    "start_time": "2022-08-17T15:56:14.320Z"
   },
   {
    "duration": 18,
    "start_time": "2022-08-17T15:56:14.341Z"
   },
   {
    "duration": 344,
    "start_time": "2022-08-17T15:56:14.360Z"
   },
   {
    "duration": 2,
    "start_time": "2022-08-17T15:56:14.706Z"
   },
   {
    "duration": 5,
    "start_time": "2022-08-17T15:56:14.709Z"
   },
   {
    "duration": 17,
    "start_time": "2022-08-17T15:56:14.715Z"
   },
   {
    "duration": 14,
    "start_time": "2022-08-17T15:56:14.733Z"
   },
   {
    "duration": 14,
    "start_time": "2022-08-17T15:56:14.748Z"
   },
   {
    "duration": 51,
    "start_time": "2022-08-17T15:56:14.764Z"
   },
   {
    "duration": 18,
    "start_time": "2022-08-17T15:56:14.817Z"
   },
   {
    "duration": 18,
    "start_time": "2022-08-17T15:56:14.836Z"
   },
   {
    "duration": 336,
    "start_time": "2022-08-17T15:56:14.856Z"
   },
   {
    "duration": 18,
    "start_time": "2022-08-17T15:56:15.193Z"
   },
   {
    "duration": 20,
    "start_time": "2022-08-17T15:56:15.213Z"
   },
   {
    "duration": 16,
    "start_time": "2022-08-17T15:56:15.235Z"
   },
   {
    "duration": 6,
    "start_time": "2022-08-17T15:56:15.253Z"
   },
   {
    "duration": 41,
    "start_time": "2022-08-17T15:56:15.260Z"
   },
   {
    "duration": 6,
    "start_time": "2022-08-17T15:56:15.303Z"
   },
   {
    "duration": 14,
    "start_time": "2022-08-17T15:56:15.311Z"
   },
   {
    "duration": 7,
    "start_time": "2022-08-17T15:58:24.533Z"
   },
   {
    "duration": 10,
    "start_time": "2022-08-17T15:58:28.547Z"
   },
   {
    "duration": 6,
    "start_time": "2022-08-17T16:01:03.318Z"
   },
   {
    "duration": 6,
    "start_time": "2022-08-17T16:01:33.060Z"
   },
   {
    "duration": 7,
    "start_time": "2022-08-17T16:01:40.067Z"
   },
   {
    "duration": 9,
    "start_time": "2022-08-17T16:03:43.013Z"
   },
   {
    "duration": 1067,
    "start_time": "2022-08-17T16:04:17.520Z"
   },
   {
    "duration": 57,
    "start_time": "2022-08-17T16:04:18.589Z"
   },
   {
    "duration": 19,
    "start_time": "2022-08-17T16:04:18.648Z"
   },
   {
    "duration": 12,
    "start_time": "2022-08-17T16:04:18.669Z"
   },
   {
    "duration": 16,
    "start_time": "2022-08-17T16:04:18.683Z"
   },
   {
    "duration": 5,
    "start_time": "2022-08-17T16:04:18.700Z"
   },
   {
    "duration": 12,
    "start_time": "2022-08-17T16:04:18.706Z"
   },
   {
    "duration": 25,
    "start_time": "2022-08-17T16:04:18.719Z"
   },
   {
    "duration": 22,
    "start_time": "2022-08-17T16:04:18.746Z"
   },
   {
    "duration": 9,
    "start_time": "2022-08-17T16:04:18.771Z"
   },
   {
    "duration": 11,
    "start_time": "2022-08-17T16:04:18.798Z"
   },
   {
    "duration": 28,
    "start_time": "2022-08-17T16:04:18.810Z"
   },
   {
    "duration": 6,
    "start_time": "2022-08-17T16:04:18.839Z"
   },
   {
    "duration": 6,
    "start_time": "2022-08-17T16:04:18.846Z"
   },
   {
    "duration": 10,
    "start_time": "2022-08-17T16:04:18.853Z"
   },
   {
    "duration": 51,
    "start_time": "2022-08-17T16:04:18.865Z"
   },
   {
    "duration": 8,
    "start_time": "2022-08-17T16:04:18.918Z"
   },
   {
    "duration": 18,
    "start_time": "2022-08-17T16:04:18.927Z"
   },
   {
    "duration": 9,
    "start_time": "2022-08-17T16:04:18.947Z"
   },
   {
    "duration": 9,
    "start_time": "2022-08-17T16:04:18.957Z"
   },
   {
    "duration": 31,
    "start_time": "2022-08-17T16:04:18.968Z"
   },
   {
    "duration": 11,
    "start_time": "2022-08-17T16:04:19.001Z"
   },
   {
    "duration": 13,
    "start_time": "2022-08-17T16:04:19.013Z"
   },
   {
    "duration": 5,
    "start_time": "2022-08-17T16:04:19.027Z"
   },
   {
    "duration": 12,
    "start_time": "2022-08-17T16:04:19.033Z"
   },
   {
    "duration": 14,
    "start_time": "2022-08-17T16:04:19.046Z"
   },
   {
    "duration": 37,
    "start_time": "2022-08-17T16:04:19.061Z"
   },
   {
    "duration": 11,
    "start_time": "2022-08-17T16:04:19.103Z"
   },
   {
    "duration": 18,
    "start_time": "2022-08-17T16:04:19.115Z"
   },
   {
    "duration": 22,
    "start_time": "2022-08-17T16:04:19.134Z"
   },
   {
    "duration": 12,
    "start_time": "2022-08-17T16:04:19.157Z"
   },
   {
    "duration": 39,
    "start_time": "2022-08-17T16:04:19.171Z"
   },
   {
    "duration": 13,
    "start_time": "2022-08-17T16:04:19.211Z"
   },
   {
    "duration": 203,
    "start_time": "2022-08-17T16:04:19.226Z"
   },
   {
    "duration": 15,
    "start_time": "2022-08-17T16:04:19.430Z"
   },
   {
    "duration": 174,
    "start_time": "2022-08-17T16:04:19.447Z"
   },
   {
    "duration": 235,
    "start_time": "2022-08-17T16:04:19.622Z"
   },
   {
    "duration": 2,
    "start_time": "2022-08-17T16:04:19.859Z"
   },
   {
    "duration": 140,
    "start_time": "2022-08-17T16:04:19.863Z"
   },
   {
    "duration": 5,
    "start_time": "2022-08-17T16:04:20.004Z"
   },
   {
    "duration": 153,
    "start_time": "2022-08-17T16:04:20.011Z"
   },
   {
    "duration": 5,
    "start_time": "2022-08-17T16:04:20.166Z"
   },
   {
    "duration": 151,
    "start_time": "2022-08-17T16:04:20.173Z"
   },
   {
    "duration": 5,
    "start_time": "2022-08-17T16:04:20.326Z"
   },
   {
    "duration": 155,
    "start_time": "2022-08-17T16:04:20.332Z"
   },
   {
    "duration": 9,
    "start_time": "2022-08-17T16:04:20.489Z"
   },
   {
    "duration": 222,
    "start_time": "2022-08-17T16:04:20.500Z"
   },
   {
    "duration": 4,
    "start_time": "2022-08-17T16:04:20.723Z"
   },
   {
    "duration": 149,
    "start_time": "2022-08-17T16:04:20.728Z"
   },
   {
    "duration": 5,
    "start_time": "2022-08-17T16:04:20.879Z"
   },
   {
    "duration": 162,
    "start_time": "2022-08-17T16:04:20.885Z"
   },
   {
    "duration": 4,
    "start_time": "2022-08-17T16:04:21.049Z"
   },
   {
    "duration": 153,
    "start_time": "2022-08-17T16:04:21.055Z"
   },
   {
    "duration": 5,
    "start_time": "2022-08-17T16:04:21.210Z"
   },
   {
    "duration": 25,
    "start_time": "2022-08-17T16:04:21.216Z"
   },
   {
    "duration": 271,
    "start_time": "2022-08-17T16:04:21.243Z"
   },
   {
    "duration": 16,
    "start_time": "2022-08-17T16:04:21.515Z"
   },
   {
    "duration": 17,
    "start_time": "2022-08-17T16:04:21.533Z"
   },
   {
    "duration": 15,
    "start_time": "2022-08-17T16:04:21.551Z"
   },
   {
    "duration": 41,
    "start_time": "2022-08-17T16:04:21.568Z"
   },
   {
    "duration": 20,
    "start_time": "2022-08-17T16:04:21.611Z"
   },
   {
    "duration": 20,
    "start_time": "2022-08-17T16:04:21.633Z"
   },
   {
    "duration": 348,
    "start_time": "2022-08-17T16:04:21.655Z"
   },
   {
    "duration": 3,
    "start_time": "2022-08-17T16:04:22.004Z"
   },
   {
    "duration": 8,
    "start_time": "2022-08-17T16:04:22.008Z"
   },
   {
    "duration": 16,
    "start_time": "2022-08-17T16:04:22.018Z"
   },
   {
    "duration": 14,
    "start_time": "2022-08-17T16:04:22.035Z"
   },
   {
    "duration": 14,
    "start_time": "2022-08-17T16:04:22.051Z"
   },
   {
    "duration": 45,
    "start_time": "2022-08-17T16:04:22.067Z"
   },
   {
    "duration": 19,
    "start_time": "2022-08-17T16:04:22.114Z"
   },
   {
    "duration": 19,
    "start_time": "2022-08-17T16:04:22.135Z"
   },
   {
    "duration": 326,
    "start_time": "2022-08-17T16:04:22.156Z"
   },
   {
    "duration": 24,
    "start_time": "2022-08-17T16:04:22.483Z"
   },
   {
    "duration": 14,
    "start_time": "2022-08-17T16:04:22.509Z"
   },
   {
    "duration": 13,
    "start_time": "2022-08-17T16:04:22.524Z"
   },
   {
    "duration": 7,
    "start_time": "2022-08-17T16:04:22.539Z"
   },
   {
    "duration": 11,
    "start_time": "2022-08-17T16:04:22.547Z"
   },
   {
    "duration": 6,
    "start_time": "2022-08-17T16:04:22.559Z"
   },
   {
    "duration": 38,
    "start_time": "2022-08-17T16:04:22.567Z"
   },
   {
    "duration": 7,
    "start_time": "2022-08-17T16:06:41.024Z"
   },
   {
    "duration": 9,
    "start_time": "2022-08-17T16:06:43.970Z"
   },
   {
    "duration": 5,
    "start_time": "2022-08-17T16:06:50.073Z"
   },
   {
    "duration": 10,
    "start_time": "2022-08-17T16:06:52.784Z"
   },
   {
    "duration": 10,
    "start_time": "2022-08-17T16:08:21.382Z"
   },
   {
    "duration": 10,
    "start_time": "2022-08-17T16:08:42.577Z"
   },
   {
    "duration": 6,
    "start_time": "2022-08-17T16:08:56.285Z"
   },
   {
    "duration": 6,
    "start_time": "2022-08-17T16:09:01.659Z"
   },
   {
    "duration": 10,
    "start_time": "2022-08-17T16:09:09.972Z"
   },
   {
    "duration": 50,
    "start_time": "2022-08-17T16:11:00.221Z"
   },
   {
    "duration": 11,
    "start_time": "2022-08-17T16:11:08.417Z"
   },
   {
    "duration": 13,
    "start_time": "2022-08-17T16:11:35.122Z"
   },
   {
    "duration": 5,
    "start_time": "2022-08-17T16:13:57.507Z"
   },
   {
    "duration": 7,
    "start_time": "2022-08-17T16:14:13.683Z"
   },
   {
    "duration": 8,
    "start_time": "2022-08-17T16:14:42.249Z"
   },
   {
    "duration": 65,
    "start_time": "2022-08-17T16:17:19.559Z"
   },
   {
    "duration": 13,
    "start_time": "2022-08-17T16:20:18.430Z"
   },
   {
    "duration": 1162,
    "start_time": "2022-08-17T16:20:27.041Z"
   },
   {
    "duration": 54,
    "start_time": "2022-08-17T16:20:28.205Z"
   },
   {
    "duration": 18,
    "start_time": "2022-08-17T16:20:28.261Z"
   },
   {
    "duration": 13,
    "start_time": "2022-08-17T16:20:28.281Z"
   },
   {
    "duration": 14,
    "start_time": "2022-08-17T16:20:28.295Z"
   },
   {
    "duration": 4,
    "start_time": "2022-08-17T16:20:28.311Z"
   },
   {
    "duration": 15,
    "start_time": "2022-08-17T16:20:28.316Z"
   },
   {
    "duration": 23,
    "start_time": "2022-08-17T16:20:28.332Z"
   },
   {
    "duration": 21,
    "start_time": "2022-08-17T16:20:28.356Z"
   },
   {
    "duration": 9,
    "start_time": "2022-08-17T16:20:28.380Z"
   },
   {
    "duration": 12,
    "start_time": "2022-08-17T16:20:28.390Z"
   },
   {
    "duration": 26,
    "start_time": "2022-08-17T16:20:28.403Z"
   },
   {
    "duration": 4,
    "start_time": "2022-08-17T16:20:28.430Z"
   },
   {
    "duration": 4,
    "start_time": "2022-08-17T16:20:28.436Z"
   },
   {
    "duration": 10,
    "start_time": "2022-08-17T16:20:28.442Z"
   },
   {
    "duration": 19,
    "start_time": "2022-08-17T16:20:28.454Z"
   },
   {
    "duration": 9,
    "start_time": "2022-08-17T16:20:28.475Z"
   },
   {
    "duration": 23,
    "start_time": "2022-08-17T16:20:28.485Z"
   },
   {
    "duration": 10,
    "start_time": "2022-08-17T16:20:28.510Z"
   },
   {
    "duration": 9,
    "start_time": "2022-08-17T16:20:28.521Z"
   },
   {
    "duration": 9,
    "start_time": "2022-08-17T16:20:28.532Z"
   },
   {
    "duration": 10,
    "start_time": "2022-08-17T16:20:28.599Z"
   },
   {
    "duration": 13,
    "start_time": "2022-08-17T16:20:28.611Z"
   },
   {
    "duration": 2,
    "start_time": "2022-08-17T16:20:28.625Z"
   },
   {
    "duration": 16,
    "start_time": "2022-08-17T16:20:28.628Z"
   },
   {
    "duration": 62,
    "start_time": "2022-08-17T16:20:28.645Z"
   },
   {
    "duration": 11,
    "start_time": "2022-08-17T16:20:28.708Z"
   },
   {
    "duration": 10,
    "start_time": "2022-08-17T16:20:28.723Z"
   },
   {
    "duration": 14,
    "start_time": "2022-08-17T16:20:28.734Z"
   },
   {
    "duration": 19,
    "start_time": "2022-08-17T16:20:28.749Z"
   },
   {
    "duration": 11,
    "start_time": "2022-08-17T16:20:28.769Z"
   },
   {
    "duration": 27,
    "start_time": "2022-08-17T16:20:28.781Z"
   },
   {
    "duration": 14,
    "start_time": "2022-08-17T16:20:28.809Z"
   },
   {
    "duration": 192,
    "start_time": "2022-08-17T16:20:28.824Z"
   },
   {
    "duration": 16,
    "start_time": "2022-08-17T16:20:29.017Z"
   },
   {
    "duration": 281,
    "start_time": "2022-08-17T16:20:29.034Z"
   },
   {
    "duration": 264,
    "start_time": "2022-08-17T16:20:29.316Z"
   },
   {
    "duration": 3,
    "start_time": "2022-08-17T16:20:29.581Z"
   },
   {
    "duration": 126,
    "start_time": "2022-08-17T16:20:29.585Z"
   },
   {
    "duration": 4,
    "start_time": "2022-08-17T16:20:29.713Z"
   },
   {
    "duration": 149,
    "start_time": "2022-08-17T16:20:29.719Z"
   },
   {
    "duration": 4,
    "start_time": "2022-08-17T16:20:29.870Z"
   },
   {
    "duration": 154,
    "start_time": "2022-08-17T16:20:29.875Z"
   },
   {
    "duration": 5,
    "start_time": "2022-08-17T16:20:30.031Z"
   },
   {
    "duration": 151,
    "start_time": "2022-08-17T16:20:30.037Z"
   },
   {
    "duration": 10,
    "start_time": "2022-08-17T16:20:30.189Z"
   },
   {
    "duration": 249,
    "start_time": "2022-08-17T16:20:30.201Z"
   },
   {
    "duration": 5,
    "start_time": "2022-08-17T16:20:30.452Z"
   },
   {
    "duration": 176,
    "start_time": "2022-08-17T16:20:30.458Z"
   },
   {
    "duration": 5,
    "start_time": "2022-08-17T16:20:30.636Z"
   },
   {
    "duration": 151,
    "start_time": "2022-08-17T16:20:30.642Z"
   },
   {
    "duration": 5,
    "start_time": "2022-08-17T16:20:30.795Z"
   },
   {
    "duration": 146,
    "start_time": "2022-08-17T16:20:30.802Z"
   },
   {
    "duration": 4,
    "start_time": "2022-08-17T16:20:30.950Z"
   },
   {
    "duration": 35,
    "start_time": "2022-08-17T16:20:30.956Z"
   },
   {
    "duration": 253,
    "start_time": "2022-08-17T16:20:30.993Z"
   },
   {
    "duration": 16,
    "start_time": "2022-08-17T16:20:31.248Z"
   },
   {
    "duration": 15,
    "start_time": "2022-08-17T16:20:31.266Z"
   },
   {
    "duration": 16,
    "start_time": "2022-08-17T16:20:31.298Z"
   },
   {
    "duration": 21,
    "start_time": "2022-08-17T16:20:31.315Z"
   },
   {
    "duration": 20,
    "start_time": "2022-08-17T16:20:31.338Z"
   },
   {
    "duration": 46,
    "start_time": "2022-08-17T16:20:31.360Z"
   },
   {
    "duration": 329,
    "start_time": "2022-08-17T16:20:31.407Z"
   },
   {
    "duration": 3,
    "start_time": "2022-08-17T16:20:31.737Z"
   },
   {
    "duration": 9,
    "start_time": "2022-08-17T16:20:31.741Z"
   },
   {
    "duration": 17,
    "start_time": "2022-08-17T16:20:31.752Z"
   },
   {
    "duration": 35,
    "start_time": "2022-08-17T16:20:31.770Z"
   },
   {
    "duration": 15,
    "start_time": "2022-08-17T16:20:31.806Z"
   },
   {
    "duration": 20,
    "start_time": "2022-08-17T16:20:31.822Z"
   },
   {
    "duration": 18,
    "start_time": "2022-08-17T16:20:31.844Z"
   },
   {
    "duration": 41,
    "start_time": "2022-08-17T16:20:31.864Z"
   },
   {
    "duration": 321,
    "start_time": "2022-08-17T16:20:31.907Z"
   },
   {
    "duration": 14,
    "start_time": "2022-08-17T16:20:32.230Z"
   },
   {
    "duration": 13,
    "start_time": "2022-08-17T16:20:32.246Z"
   },
   {
    "duration": 14,
    "start_time": "2022-08-17T16:20:32.260Z"
   },
   {
    "duration": 27,
    "start_time": "2022-08-17T16:20:32.275Z"
   },
   {
    "duration": 11,
    "start_time": "2022-08-17T16:20:32.304Z"
   },
   {
    "duration": 6,
    "start_time": "2022-08-17T16:20:32.316Z"
   },
   {
    "duration": 14,
    "start_time": "2022-08-17T16:20:32.324Z"
   },
   {
    "duration": 13,
    "start_time": "2022-08-17T16:23:01.523Z"
   },
   {
    "duration": 13,
    "start_time": "2022-08-17T16:24:10.195Z"
   },
   {
    "duration": 12,
    "start_time": "2022-08-17T16:24:16.011Z"
   },
   {
    "duration": 49,
    "start_time": "2022-08-18T02:52:36.728Z"
   },
   {
    "duration": 1248,
    "start_time": "2022-08-18T02:52:44.880Z"
   },
   {
    "duration": 55,
    "start_time": "2022-08-18T02:52:46.130Z"
   },
   {
    "duration": 20,
    "start_time": "2022-08-18T02:52:46.187Z"
   },
   {
    "duration": 15,
    "start_time": "2022-08-18T02:52:46.209Z"
   },
   {
    "duration": 15,
    "start_time": "2022-08-18T02:52:46.226Z"
   },
   {
    "duration": 4,
    "start_time": "2022-08-18T02:52:46.243Z"
   },
   {
    "duration": 5,
    "start_time": "2022-08-18T02:52:46.249Z"
   },
   {
    "duration": 57,
    "start_time": "2022-08-18T02:52:46.256Z"
   },
   {
    "duration": 23,
    "start_time": "2022-08-18T02:52:46.315Z"
   },
   {
    "duration": 10,
    "start_time": "2022-08-18T02:52:46.339Z"
   },
   {
    "duration": 11,
    "start_time": "2022-08-18T02:52:46.350Z"
   },
   {
    "duration": 49,
    "start_time": "2022-08-18T02:52:46.363Z"
   },
   {
    "duration": 5,
    "start_time": "2022-08-18T02:52:46.414Z"
   },
   {
    "duration": 5,
    "start_time": "2022-08-18T02:52:46.422Z"
   },
   {
    "duration": 9,
    "start_time": "2022-08-18T02:52:46.428Z"
   },
   {
    "duration": 20,
    "start_time": "2022-08-18T02:52:46.438Z"
   },
   {
    "duration": 38,
    "start_time": "2022-08-18T02:52:46.459Z"
   },
   {
    "duration": 13,
    "start_time": "2022-08-18T02:52:46.498Z"
   },
   {
    "duration": 9,
    "start_time": "2022-08-18T02:52:46.513Z"
   },
   {
    "duration": 9,
    "start_time": "2022-08-18T02:52:46.524Z"
   },
   {
    "duration": 9,
    "start_time": "2022-08-18T02:52:46.534Z"
   },
   {
    "duration": 10,
    "start_time": "2022-08-18T02:52:46.545Z"
   },
   {
    "duration": 48,
    "start_time": "2022-08-18T02:52:46.556Z"
   },
   {
    "duration": 2,
    "start_time": "2022-08-18T02:52:46.606Z"
   },
   {
    "duration": 19,
    "start_time": "2022-08-18T02:52:46.610Z"
   },
   {
    "duration": 16,
    "start_time": "2022-08-18T02:52:46.631Z"
   },
   {
    "duration": 9,
    "start_time": "2022-08-18T02:52:46.649Z"
   },
   {
    "duration": 36,
    "start_time": "2022-08-18T02:52:46.660Z"
   },
   {
    "duration": 17,
    "start_time": "2022-08-18T02:52:46.698Z"
   },
   {
    "duration": 23,
    "start_time": "2022-08-18T02:52:46.717Z"
   },
   {
    "duration": 15,
    "start_time": "2022-08-18T02:52:46.742Z"
   },
   {
    "duration": 47,
    "start_time": "2022-08-18T02:52:46.759Z"
   },
   {
    "duration": 17,
    "start_time": "2022-08-18T02:52:46.808Z"
   },
   {
    "duration": 210,
    "start_time": "2022-08-18T02:52:46.827Z"
   },
   {
    "duration": 18,
    "start_time": "2022-08-18T02:52:47.039Z"
   },
   {
    "duration": 185,
    "start_time": "2022-08-18T02:52:47.060Z"
   },
   {
    "duration": 240,
    "start_time": "2022-08-18T02:52:47.247Z"
   },
   {
    "duration": 254,
    "start_time": "2022-08-18T02:52:47.490Z"
   },
   {
    "duration": 3,
    "start_time": "2022-08-18T02:52:47.746Z"
   },
   {
    "duration": 139,
    "start_time": "2022-08-18T02:52:47.751Z"
   },
   {
    "duration": 6,
    "start_time": "2022-08-18T02:52:47.897Z"
   },
   {
    "duration": 162,
    "start_time": "2022-08-18T02:52:47.904Z"
   },
   {
    "duration": 6,
    "start_time": "2022-08-18T02:52:48.069Z"
   },
   {
    "duration": 163,
    "start_time": "2022-08-18T02:52:48.079Z"
   },
   {
    "duration": 5,
    "start_time": "2022-08-18T02:52:48.243Z"
   },
   {
    "duration": 210,
    "start_time": "2022-08-18T02:52:48.249Z"
   },
   {
    "duration": 4,
    "start_time": "2022-08-18T02:52:48.461Z"
   },
   {
    "duration": 160,
    "start_time": "2022-08-18T02:52:48.466Z"
   },
   {
    "duration": 5,
    "start_time": "2022-08-18T02:52:48.629Z"
   },
   {
    "duration": 172,
    "start_time": "2022-08-18T02:52:48.635Z"
   },
   {
    "duration": 5,
    "start_time": "2022-08-18T02:52:48.809Z"
   },
   {
    "duration": 154,
    "start_time": "2022-08-18T02:52:48.815Z"
   },
   {
    "duration": 5,
    "start_time": "2022-08-18T02:52:48.971Z"
   },
   {
    "duration": 149,
    "start_time": "2022-08-18T02:52:48.978Z"
   },
   {
    "duration": 5,
    "start_time": "2022-08-18T02:52:49.128Z"
   },
   {
    "duration": 17,
    "start_time": "2022-08-18T02:52:49.134Z"
   },
   {
    "duration": 275,
    "start_time": "2022-08-18T02:52:49.152Z"
   },
   {
    "duration": 17,
    "start_time": "2022-08-18T02:52:49.428Z"
   },
   {
    "duration": 15,
    "start_time": "2022-08-18T02:52:49.446Z"
   },
   {
    "duration": 35,
    "start_time": "2022-08-18T02:52:49.463Z"
   },
   {
    "duration": 21,
    "start_time": "2022-08-18T02:52:49.500Z"
   },
   {
    "duration": 21,
    "start_time": "2022-08-18T02:52:49.522Z"
   },
   {
    "duration": 21,
    "start_time": "2022-08-18T02:52:49.544Z"
   },
   {
    "duration": 370,
    "start_time": "2022-08-18T02:52:49.567Z"
   },
   {
    "duration": 3,
    "start_time": "2022-08-18T02:52:49.938Z"
   },
   {
    "duration": 5,
    "start_time": "2022-08-18T02:52:49.942Z"
   },
   {
    "duration": 18,
    "start_time": "2022-08-18T02:52:49.949Z"
   },
   {
    "duration": 17,
    "start_time": "2022-08-18T02:52:49.992Z"
   },
   {
    "duration": 15,
    "start_time": "2022-08-18T02:52:50.011Z"
   },
   {
    "duration": 75,
    "start_time": "2022-08-18T02:52:50.028Z"
   },
   {
    "duration": 20,
    "start_time": "2022-08-18T02:52:50.105Z"
   },
   {
    "duration": 74,
    "start_time": "2022-08-18T02:52:50.127Z"
   },
   {
    "duration": 693,
    "start_time": "2022-08-18T02:52:50.203Z"
   },
   {
    "duration": 16,
    "start_time": "2022-08-18T02:52:50.898Z"
   },
   {
    "duration": 17,
    "start_time": "2022-08-18T02:52:50.916Z"
   },
   {
    "duration": 65,
    "start_time": "2022-08-18T02:52:50.934Z"
   },
   {
    "duration": 6,
    "start_time": "2022-08-18T02:52:51.000Z"
   },
   {
    "duration": 12,
    "start_time": "2022-08-18T02:52:51.008Z"
   },
   {
    "duration": 189,
    "start_time": "2022-08-18T02:52:51.021Z"
   },
   {
    "duration": 15,
    "start_time": "2022-08-18T02:52:51.212Z"
   },
   {
    "duration": 218,
    "start_time": "2022-08-18T02:53:58.333Z"
   },
   {
    "duration": 249,
    "start_time": "2022-08-18T02:54:23.134Z"
   },
   {
    "duration": 30,
    "start_time": "2022-08-18T02:56:08.049Z"
   },
   {
    "duration": 24,
    "start_time": "2022-08-18T02:56:31.251Z"
   },
   {
    "duration": 24,
    "start_time": "2022-08-18T02:56:45.979Z"
   },
   {
    "duration": 6,
    "start_time": "2022-08-18T02:57:13.712Z"
   },
   {
    "duration": 6,
    "start_time": "2022-08-18T02:57:23.148Z"
   },
   {
    "duration": 6,
    "start_time": "2022-08-18T02:58:51.374Z"
   },
   {
    "duration": 54,
    "start_time": "2022-08-18T03:00:39.412Z"
   },
   {
    "duration": 4,
    "start_time": "2022-08-18T03:00:39.835Z"
   },
   {
    "duration": 10,
    "start_time": "2022-08-18T03:00:40.300Z"
   },
   {
    "duration": 7,
    "start_time": "2022-08-18T03:00:40.669Z"
   },
   {
    "duration": 5,
    "start_time": "2022-08-18T03:00:41.195Z"
   },
   {
    "duration": 7,
    "start_time": "2022-08-18T03:00:41.891Z"
   },
   {
    "duration": 5,
    "start_time": "2022-08-18T03:00:42.620Z"
   },
   {
    "duration": 604,
    "start_time": "2022-08-18T03:00:43.643Z"
   },
   {
    "duration": 607,
    "start_time": "2022-08-18T03:00:51.346Z"
   },
   {
    "duration": 1253,
    "start_time": "2022-08-18T03:00:59.708Z"
   },
   {
    "duration": 59,
    "start_time": "2022-08-18T03:01:00.963Z"
   },
   {
    "duration": 21,
    "start_time": "2022-08-18T03:01:01.024Z"
   },
   {
    "duration": 25,
    "start_time": "2022-08-18T03:01:01.046Z"
   },
   {
    "duration": 22,
    "start_time": "2022-08-18T03:01:01.074Z"
   },
   {
    "duration": 13,
    "start_time": "2022-08-18T03:01:01.097Z"
   },
   {
    "duration": 10,
    "start_time": "2022-08-18T03:01:01.112Z"
   },
   {
    "duration": 26,
    "start_time": "2022-08-18T03:01:01.124Z"
   },
   {
    "duration": 25,
    "start_time": "2022-08-18T03:01:01.151Z"
   },
   {
    "duration": 24,
    "start_time": "2022-08-18T03:01:01.178Z"
   },
   {
    "duration": 19,
    "start_time": "2022-08-18T03:01:01.203Z"
   },
   {
    "duration": 28,
    "start_time": "2022-08-18T03:01:01.223Z"
   },
   {
    "duration": 5,
    "start_time": "2022-08-18T03:01:01.253Z"
   },
   {
    "duration": 32,
    "start_time": "2022-08-18T03:01:01.261Z"
   },
   {
    "duration": 11,
    "start_time": "2022-08-18T03:01:01.295Z"
   },
   {
    "duration": 24,
    "start_time": "2022-08-18T03:01:01.308Z"
   },
   {
    "duration": 10,
    "start_time": "2022-08-18T03:01:01.333Z"
   },
   {
    "duration": 16,
    "start_time": "2022-08-18T03:01:01.345Z"
   },
   {
    "duration": 39,
    "start_time": "2022-08-18T03:01:01.362Z"
   },
   {
    "duration": 11,
    "start_time": "2022-08-18T03:01:01.402Z"
   },
   {
    "duration": 10,
    "start_time": "2022-08-18T03:01:01.414Z"
   },
   {
    "duration": 23,
    "start_time": "2022-08-18T03:01:01.426Z"
   },
   {
    "duration": 12,
    "start_time": "2022-08-18T03:01:01.450Z"
   },
   {
    "duration": 2,
    "start_time": "2022-08-18T03:01:01.463Z"
   },
   {
    "duration": 33,
    "start_time": "2022-08-18T03:01:01.466Z"
   },
   {
    "duration": 15,
    "start_time": "2022-08-18T03:01:01.501Z"
   },
   {
    "duration": 9,
    "start_time": "2022-08-18T03:01:01.517Z"
   },
   {
    "duration": 13,
    "start_time": "2022-08-18T03:01:01.527Z"
   },
   {
    "duration": 16,
    "start_time": "2022-08-18T03:01:01.542Z"
   },
   {
    "duration": 54,
    "start_time": "2022-08-18T03:01:01.560Z"
   },
   {
    "duration": 14,
    "start_time": "2022-08-18T03:01:01.615Z"
   },
   {
    "duration": 14,
    "start_time": "2022-08-18T03:01:01.630Z"
   },
   {
    "duration": 14,
    "start_time": "2022-08-18T03:01:01.646Z"
   },
   {
    "duration": 221,
    "start_time": "2022-08-18T03:01:01.662Z"
   },
   {
    "duration": 20,
    "start_time": "2022-08-18T03:01:01.885Z"
   },
   {
    "duration": 183,
    "start_time": "2022-08-18T03:01:01.906Z"
   },
   {
    "duration": 231,
    "start_time": "2022-08-18T03:01:02.091Z"
   },
   {
    "duration": 270,
    "start_time": "2022-08-18T03:01:02.323Z"
   },
   {
    "duration": 2,
    "start_time": "2022-08-18T03:01:02.595Z"
   },
   {
    "duration": 132,
    "start_time": "2022-08-18T03:01:02.599Z"
   },
   {
    "duration": 5,
    "start_time": "2022-08-18T03:01:02.735Z"
   },
   {
    "duration": 152,
    "start_time": "2022-08-18T03:01:02.741Z"
   },
   {
    "duration": 4,
    "start_time": "2022-08-18T03:01:02.895Z"
   },
   {
    "duration": 164,
    "start_time": "2022-08-18T03:01:02.901Z"
   },
   {
    "duration": 4,
    "start_time": "2022-08-18T03:01:03.067Z"
   },
   {
    "duration": 262,
    "start_time": "2022-08-18T03:01:03.073Z"
   },
   {
    "duration": 5,
    "start_time": "2022-08-18T03:01:03.337Z"
   },
   {
    "duration": 172,
    "start_time": "2022-08-18T03:01:03.344Z"
   },
   {
    "duration": 5,
    "start_time": "2022-08-18T03:01:03.518Z"
   },
   {
    "duration": 178,
    "start_time": "2022-08-18T03:01:03.524Z"
   },
   {
    "duration": 4,
    "start_time": "2022-08-18T03:01:03.704Z"
   },
   {
    "duration": 157,
    "start_time": "2022-08-18T03:01:03.710Z"
   },
   {
    "duration": 5,
    "start_time": "2022-08-18T03:01:03.868Z"
   },
   {
    "duration": 159,
    "start_time": "2022-08-18T03:01:03.875Z"
   },
   {
    "duration": 6,
    "start_time": "2022-08-18T03:01:04.036Z"
   },
   {
    "duration": 17,
    "start_time": "2022-08-18T03:01:04.043Z"
   },
   {
    "duration": 289,
    "start_time": "2022-08-18T03:01:04.062Z"
   },
   {
    "duration": 15,
    "start_time": "2022-08-18T03:01:04.353Z"
   },
   {
    "duration": 25,
    "start_time": "2022-08-18T03:01:04.369Z"
   },
   {
    "duration": 15,
    "start_time": "2022-08-18T03:01:04.395Z"
   },
   {
    "duration": 20,
    "start_time": "2022-08-18T03:01:04.412Z"
   },
   {
    "duration": 22,
    "start_time": "2022-08-18T03:01:04.434Z"
   },
   {
    "duration": 51,
    "start_time": "2022-08-18T03:01:04.457Z"
   },
   {
    "duration": 346,
    "start_time": "2022-08-18T03:01:04.509Z"
   },
   {
    "duration": 2,
    "start_time": "2022-08-18T03:01:04.857Z"
   },
   {
    "duration": 5,
    "start_time": "2022-08-18T03:01:04.861Z"
   },
   {
    "duration": 31,
    "start_time": "2022-08-18T03:01:04.867Z"
   },
   {
    "duration": 18,
    "start_time": "2022-08-18T03:01:04.900Z"
   },
   {
    "duration": 16,
    "start_time": "2022-08-18T03:01:04.920Z"
   },
   {
    "duration": 22,
    "start_time": "2022-08-18T03:01:04.938Z"
   },
   {
    "duration": 51,
    "start_time": "2022-08-18T03:01:04.961Z"
   },
   {
    "duration": 22,
    "start_time": "2022-08-18T03:01:05.013Z"
   },
   {
    "duration": 366,
    "start_time": "2022-08-18T03:01:05.037Z"
   },
   {
    "duration": 16,
    "start_time": "2022-08-18T03:01:05.405Z"
   },
   {
    "duration": 18,
    "start_time": "2022-08-18T03:01:05.422Z"
   },
   {
    "duration": 16,
    "start_time": "2022-08-18T03:01:05.441Z"
   },
   {
    "duration": 5,
    "start_time": "2022-08-18T03:01:05.458Z"
   },
   {
    "duration": 39,
    "start_time": "2022-08-18T03:01:05.465Z"
   },
   {
    "duration": 5,
    "start_time": "2022-08-18T03:01:05.506Z"
   },
   {
    "duration": 101,
    "start_time": "2022-08-18T03:01:05.512Z"
   },
   {
    "duration": 16,
    "start_time": "2022-08-18T03:01:05.614Z"
   },
   {
    "duration": 15,
    "start_time": "2022-08-18T03:01:05.631Z"
   },
   {
    "duration": 53,
    "start_time": "2022-08-18T03:01:05.648Z"
   },
   {
    "duration": 4,
    "start_time": "2022-08-18T03:01:05.703Z"
   },
   {
    "duration": 12,
    "start_time": "2022-08-18T03:01:05.708Z"
   },
   {
    "duration": 7,
    "start_time": "2022-08-18T03:01:05.722Z"
   },
   {
    "duration": 8,
    "start_time": "2022-08-18T03:01:05.732Z"
   },
   {
    "duration": 7,
    "start_time": "2022-08-18T03:01:05.741Z"
   },
   {
    "duration": 5,
    "start_time": "2022-08-18T03:01:05.750Z"
   },
   {
    "duration": 612,
    "start_time": "2022-08-18T03:01:05.756Z"
   },
   {
    "duration": 592,
    "start_time": "2022-08-18T03:01:06.369Z"
   },
   {
    "duration": 3,
    "start_time": "2022-08-18T04:58:03.619Z"
   },
   {
    "duration": 43,
    "start_time": "2022-08-18T04:59:29.543Z"
   },
   {
    "duration": 1324,
    "start_time": "2022-08-18T04:59:38.563Z"
   },
   {
    "duration": 98,
    "start_time": "2022-08-18T04:59:39.889Z"
   },
   {
    "duration": 19,
    "start_time": "2022-08-18T04:59:39.991Z"
   },
   {
    "duration": 15,
    "start_time": "2022-08-18T04:59:40.012Z"
   },
   {
    "duration": 18,
    "start_time": "2022-08-18T04:59:40.029Z"
   },
   {
    "duration": 5,
    "start_time": "2022-08-18T04:59:40.048Z"
   },
   {
    "duration": 33,
    "start_time": "2022-08-18T04:59:40.055Z"
   },
   {
    "duration": 24,
    "start_time": "2022-08-18T04:59:40.090Z"
   },
   {
    "duration": 22,
    "start_time": "2022-08-18T04:59:40.117Z"
   },
   {
    "duration": 9,
    "start_time": "2022-08-18T04:59:40.140Z"
   },
   {
    "duration": 40,
    "start_time": "2022-08-18T04:59:40.150Z"
   },
   {
    "duration": 28,
    "start_time": "2022-08-18T04:59:40.191Z"
   },
   {
    "duration": 5,
    "start_time": "2022-08-18T04:59:40.221Z"
   },
   {
    "duration": 6,
    "start_time": "2022-08-18T04:59:40.227Z"
   },
   {
    "duration": 11,
    "start_time": "2022-08-18T04:59:40.235Z"
   },
   {
    "duration": 52,
    "start_time": "2022-08-18T04:59:40.248Z"
   },
   {
    "duration": 11,
    "start_time": "2022-08-18T04:59:40.302Z"
   },
   {
    "duration": 20,
    "start_time": "2022-08-18T04:59:40.314Z"
   },
   {
    "duration": 10,
    "start_time": "2022-08-18T04:59:40.336Z"
   },
   {
    "duration": 10,
    "start_time": "2022-08-18T04:59:40.347Z"
   },
   {
    "duration": 35,
    "start_time": "2022-08-18T04:59:40.359Z"
   },
   {
    "duration": 9,
    "start_time": "2022-08-18T04:59:40.395Z"
   },
   {
    "duration": 8,
    "start_time": "2022-08-18T04:59:40.406Z"
   },
   {
    "duration": 2,
    "start_time": "2022-08-18T04:59:40.416Z"
   },
   {
    "duration": 11,
    "start_time": "2022-08-18T04:59:40.419Z"
   },
   {
    "duration": 13,
    "start_time": "2022-08-18T04:59:40.432Z"
   },
   {
    "duration": 37,
    "start_time": "2022-08-18T04:59:40.449Z"
   },
   {
    "duration": 9,
    "start_time": "2022-08-18T04:59:40.488Z"
   },
   {
    "duration": 15,
    "start_time": "2022-08-18T04:59:40.499Z"
   },
   {
    "duration": 19,
    "start_time": "2022-08-18T04:59:40.515Z"
   },
   {
    "duration": 11,
    "start_time": "2022-08-18T04:59:40.536Z"
   },
   {
    "duration": 41,
    "start_time": "2022-08-18T04:59:40.549Z"
   },
   {
    "duration": 13,
    "start_time": "2022-08-18T04:59:40.592Z"
   },
   {
    "duration": 184,
    "start_time": "2022-08-18T04:59:40.606Z"
   },
   {
    "duration": 15,
    "start_time": "2022-08-18T04:59:40.792Z"
   },
   {
    "duration": 161,
    "start_time": "2022-08-18T04:59:40.809Z"
   },
   {
    "duration": 201,
    "start_time": "2022-08-18T04:59:40.971Z"
   },
   {
    "duration": 226,
    "start_time": "2022-08-18T04:59:41.174Z"
   },
   {
    "duration": 2,
    "start_time": "2022-08-18T04:59:41.401Z"
   },
   {
    "duration": 121,
    "start_time": "2022-08-18T04:59:41.404Z"
   },
   {
    "duration": 5,
    "start_time": "2022-08-18T04:59:41.526Z"
   },
   {
    "duration": 143,
    "start_time": "2022-08-18T04:59:41.532Z"
   },
   {
    "duration": 9,
    "start_time": "2022-08-18T04:59:41.677Z"
   },
   {
    "duration": 148,
    "start_time": "2022-08-18T04:59:41.688Z"
   },
   {
    "duration": 4,
    "start_time": "2022-08-18T04:59:41.838Z"
   },
   {
    "duration": 215,
    "start_time": "2022-08-18T04:59:41.843Z"
   },
   {
    "duration": 4,
    "start_time": "2022-08-18T04:59:42.060Z"
   },
   {
    "duration": 150,
    "start_time": "2022-08-18T04:59:42.065Z"
   },
   {
    "duration": 5,
    "start_time": "2022-08-18T04:59:42.216Z"
   },
   {
    "duration": 157,
    "start_time": "2022-08-18T04:59:42.223Z"
   },
   {
    "duration": 9,
    "start_time": "2022-08-18T04:59:42.381Z"
   },
   {
    "duration": 144,
    "start_time": "2022-08-18T04:59:42.392Z"
   },
   {
    "duration": 4,
    "start_time": "2022-08-18T04:59:42.538Z"
   },
   {
    "duration": 149,
    "start_time": "2022-08-18T04:59:42.543Z"
   },
   {
    "duration": 4,
    "start_time": "2022-08-18T04:59:42.693Z"
   },
   {
    "duration": 19,
    "start_time": "2022-08-18T04:59:42.698Z"
   },
   {
    "duration": 265,
    "start_time": "2022-08-18T04:59:42.718Z"
   },
   {
    "duration": 14,
    "start_time": "2022-08-18T04:59:42.986Z"
   },
   {
    "duration": 13,
    "start_time": "2022-08-18T04:59:43.002Z"
   },
   {
    "duration": 12,
    "start_time": "2022-08-18T04:59:43.017Z"
   },
   {
    "duration": 18,
    "start_time": "2022-08-18T04:59:43.031Z"
   },
   {
    "duration": 48,
    "start_time": "2022-08-18T04:59:43.050Z"
   },
   {
    "duration": 18,
    "start_time": "2022-08-18T04:59:43.099Z"
   },
   {
    "duration": 308,
    "start_time": "2022-08-18T04:59:43.118Z"
   },
   {
    "duration": 2,
    "start_time": "2022-08-18T04:59:43.428Z"
   },
   {
    "duration": 6,
    "start_time": "2022-08-18T04:59:43.431Z"
   },
   {
    "duration": 19,
    "start_time": "2022-08-18T04:59:43.438Z"
   },
   {
    "duration": 29,
    "start_time": "2022-08-18T04:59:43.458Z"
   },
   {
    "duration": 13,
    "start_time": "2022-08-18T04:59:43.489Z"
   },
   {
    "duration": 18,
    "start_time": "2022-08-18T04:59:43.504Z"
   },
   {
    "duration": 19,
    "start_time": "2022-08-18T04:59:43.523Z"
   },
   {
    "duration": 18,
    "start_time": "2022-08-18T04:59:43.543Z"
   },
   {
    "duration": 338,
    "start_time": "2022-08-18T04:59:43.562Z"
   },
   {
    "duration": 15,
    "start_time": "2022-08-18T04:59:43.902Z"
   },
   {
    "duration": 13,
    "start_time": "2022-08-18T04:59:43.919Z"
   },
   {
    "duration": 14,
    "start_time": "2022-08-18T04:59:43.933Z"
   },
   {
    "duration": 7,
    "start_time": "2022-08-18T04:59:43.949Z"
   },
   {
    "duration": 12,
    "start_time": "2022-08-18T04:59:43.986Z"
   },
   {
    "duration": 2,
    "start_time": "2022-08-18T04:59:44.000Z"
   },
   {
    "duration": 100,
    "start_time": "2022-08-18T04:59:44.004Z"
   },
   {
    "duration": 10,
    "start_time": "2022-08-18T04:59:44.109Z"
   },
   {
    "duration": 5,
    "start_time": "2022-08-18T04:59:44.120Z"
   },
   {
    "duration": 55,
    "start_time": "2022-08-18T04:59:44.127Z"
   },
   {
    "duration": 3,
    "start_time": "2022-08-18T04:59:44.183Z"
   },
   {
    "duration": 11,
    "start_time": "2022-08-18T04:59:44.188Z"
   },
   {
    "duration": 5,
    "start_time": "2022-08-18T04:59:44.200Z"
   },
   {
    "duration": 7,
    "start_time": "2022-08-18T04:59:44.207Z"
   },
   {
    "duration": 8,
    "start_time": "2022-08-18T04:59:44.215Z"
   },
   {
    "duration": 6,
    "start_time": "2022-08-18T04:59:44.225Z"
   },
   {
    "duration": 621,
    "start_time": "2022-08-18T04:59:44.233Z"
   },
   {
    "duration": 540,
    "start_time": "2022-08-18T04:59:44.856Z"
   },
   {
    "duration": 11,
    "start_time": "2022-08-18T05:01:07.310Z"
   },
   {
    "duration": 9,
    "start_time": "2022-08-18T05:02:03.566Z"
   },
   {
    "duration": 7,
    "start_time": "2022-08-18T05:02:14.570Z"
   },
   {
    "duration": 10,
    "start_time": "2022-08-18T05:02:17.875Z"
   },
   {
    "duration": 9,
    "start_time": "2022-08-18T05:03:24.513Z"
   },
   {
    "duration": 1240,
    "start_time": "2022-08-18T05:15:33.512Z"
   },
   {
    "duration": 59,
    "start_time": "2022-08-18T05:15:34.754Z"
   },
   {
    "duration": 27,
    "start_time": "2022-08-18T05:15:34.815Z"
   },
   {
    "duration": 18,
    "start_time": "2022-08-18T05:15:34.845Z"
   },
   {
    "duration": 37,
    "start_time": "2022-08-18T05:15:34.864Z"
   },
   {
    "duration": 6,
    "start_time": "2022-08-18T05:15:34.904Z"
   },
   {
    "duration": 19,
    "start_time": "2022-08-18T05:15:34.911Z"
   },
   {
    "duration": 26,
    "start_time": "2022-08-18T05:15:34.932Z"
   },
   {
    "duration": 32,
    "start_time": "2022-08-18T05:15:34.960Z"
   },
   {
    "duration": 16,
    "start_time": "2022-08-18T05:15:34.994Z"
   },
   {
    "duration": 15,
    "start_time": "2022-08-18T05:15:35.012Z"
   },
   {
    "duration": 29,
    "start_time": "2022-08-18T05:15:35.029Z"
   },
   {
    "duration": 36,
    "start_time": "2022-08-18T05:15:35.060Z"
   },
   {
    "duration": 32,
    "start_time": "2022-08-18T05:15:35.100Z"
   },
   {
    "duration": 11,
    "start_time": "2022-08-18T05:15:35.133Z"
   },
   {
    "duration": 31,
    "start_time": "2022-08-18T05:15:35.145Z"
   },
   {
    "duration": 8,
    "start_time": "2022-08-18T05:15:35.178Z"
   },
   {
    "duration": 36,
    "start_time": "2022-08-18T05:15:35.187Z"
   },
   {
    "duration": 10,
    "start_time": "2022-08-18T05:15:35.224Z"
   },
   {
    "duration": 21,
    "start_time": "2022-08-18T05:15:35.236Z"
   },
   {
    "duration": 11,
    "start_time": "2022-08-18T05:15:35.259Z"
   },
   {
    "duration": 11,
    "start_time": "2022-08-18T05:15:35.271Z"
   },
   {
    "duration": 12,
    "start_time": "2022-08-18T05:15:35.284Z"
   },
   {
    "duration": 10,
    "start_time": "2022-08-18T05:15:35.297Z"
   },
   {
    "duration": 27,
    "start_time": "2022-08-18T05:15:35.308Z"
   },
   {
    "duration": 16,
    "start_time": "2022-08-18T05:15:35.337Z"
   },
   {
    "duration": 8,
    "start_time": "2022-08-18T05:15:35.355Z"
   },
   {
    "duration": 16,
    "start_time": "2022-08-18T05:15:35.367Z"
   },
   {
    "duration": 26,
    "start_time": "2022-08-18T05:15:35.384Z"
   },
   {
    "duration": 40,
    "start_time": "2022-08-18T05:15:35.412Z"
   },
   {
    "duration": 12,
    "start_time": "2022-08-18T05:15:35.454Z"
   },
   {
    "duration": 17,
    "start_time": "2022-08-18T05:15:35.468Z"
   },
   {
    "duration": 21,
    "start_time": "2022-08-18T05:15:35.486Z"
   },
   {
    "duration": 202,
    "start_time": "2022-08-18T05:15:35.508Z"
   },
   {
    "duration": 21,
    "start_time": "2022-08-18T05:15:35.712Z"
   },
   {
    "duration": 192,
    "start_time": "2022-08-18T05:15:35.735Z"
   },
   {
    "duration": 242,
    "start_time": "2022-08-18T05:15:35.928Z"
   },
   {
    "duration": 367,
    "start_time": "2022-08-18T05:15:36.172Z"
   },
   {
    "duration": 3,
    "start_time": "2022-08-18T05:15:36.541Z"
   },
   {
    "duration": 180,
    "start_time": "2022-08-18T05:15:36.545Z"
   },
   {
    "duration": 6,
    "start_time": "2022-08-18T05:15:36.726Z"
   },
   {
    "duration": 150,
    "start_time": "2022-08-18T05:15:36.734Z"
   },
   {
    "duration": 9,
    "start_time": "2022-08-18T05:15:36.887Z"
   },
   {
    "duration": 154,
    "start_time": "2022-08-18T05:15:36.897Z"
   },
   {
    "duration": 5,
    "start_time": "2022-08-18T05:15:37.053Z"
   },
   {
    "duration": 245,
    "start_time": "2022-08-18T05:15:37.059Z"
   },
   {
    "duration": 5,
    "start_time": "2022-08-18T05:15:37.306Z"
   },
   {
    "duration": 182,
    "start_time": "2022-08-18T05:15:37.312Z"
   },
   {
    "duration": 6,
    "start_time": "2022-08-18T05:15:37.501Z"
   },
   {
    "duration": 188,
    "start_time": "2022-08-18T05:15:37.509Z"
   },
   {
    "duration": 5,
    "start_time": "2022-08-18T05:15:37.698Z"
   },
   {
    "duration": 152,
    "start_time": "2022-08-18T05:15:37.705Z"
   },
   {
    "duration": 6,
    "start_time": "2022-08-18T05:15:37.859Z"
   },
   {
    "duration": 175,
    "start_time": "2022-08-18T05:15:37.867Z"
   },
   {
    "duration": 5,
    "start_time": "2022-08-18T05:15:38.043Z"
   },
   {
    "duration": 18,
    "start_time": "2022-08-18T05:15:38.049Z"
   },
   {
    "duration": 304,
    "start_time": "2022-08-18T05:15:38.068Z"
   },
   {
    "duration": 29,
    "start_time": "2022-08-18T05:15:38.374Z"
   },
   {
    "duration": 25,
    "start_time": "2022-08-18T05:15:38.404Z"
   },
   {
    "duration": 16,
    "start_time": "2022-08-18T05:15:38.431Z"
   },
   {
    "duration": 42,
    "start_time": "2022-08-18T05:15:38.449Z"
   },
   {
    "duration": 25,
    "start_time": "2022-08-18T05:15:38.502Z"
   },
   {
    "duration": 20,
    "start_time": "2022-08-18T05:15:38.528Z"
   },
   {
    "duration": 334,
    "start_time": "2022-08-18T05:15:38.549Z"
   },
   {
    "duration": 15,
    "start_time": "2022-08-18T05:15:38.884Z"
   },
   {
    "duration": 10,
    "start_time": "2022-08-18T05:15:38.901Z"
   },
   {
    "duration": 18,
    "start_time": "2022-08-18T05:15:38.912Z"
   },
   {
    "duration": 15,
    "start_time": "2022-08-18T05:15:38.932Z"
   },
   {
    "duration": 14,
    "start_time": "2022-08-18T05:15:38.948Z"
   },
   {
    "duration": 38,
    "start_time": "2022-08-18T05:15:38.964Z"
   },
   {
    "duration": 19,
    "start_time": "2022-08-18T05:15:39.004Z"
   },
   {
    "duration": 19,
    "start_time": "2022-08-18T05:15:39.024Z"
   },
   {
    "duration": 328,
    "start_time": "2022-08-18T05:15:39.044Z"
   },
   {
    "duration": 27,
    "start_time": "2022-08-18T05:15:39.373Z"
   },
   {
    "duration": 16,
    "start_time": "2022-08-18T05:15:39.402Z"
   },
   {
    "duration": 13,
    "start_time": "2022-08-18T05:15:39.420Z"
   },
   {
    "duration": 6,
    "start_time": "2022-08-18T05:15:39.434Z"
   },
   {
    "duration": 10,
    "start_time": "2022-08-18T05:15:39.442Z"
   },
   {
    "duration": 6,
    "start_time": "2022-08-18T05:15:39.453Z"
   },
   {
    "duration": 107,
    "start_time": "2022-08-18T05:15:39.460Z"
   },
   {
    "duration": 29,
    "start_time": "2022-08-18T05:15:39.569Z"
   },
   {
    "duration": 13,
    "start_time": "2022-08-18T05:15:39.603Z"
   },
   {
    "duration": 53,
    "start_time": "2022-08-18T05:15:39.618Z"
   },
   {
    "duration": 3,
    "start_time": "2022-08-18T05:15:39.673Z"
   },
   {
    "duration": 28,
    "start_time": "2022-08-18T05:15:39.677Z"
   },
   {
    "duration": 7,
    "start_time": "2022-08-18T05:15:39.706Z"
   },
   {
    "duration": 8,
    "start_time": "2022-08-18T05:15:39.714Z"
   },
   {
    "duration": 7,
    "start_time": "2022-08-18T05:15:39.724Z"
   },
   {
    "duration": 8,
    "start_time": "2022-08-18T05:15:39.733Z"
   },
   {
    "duration": 643,
    "start_time": "2022-08-18T05:15:39.743Z"
   },
   {
    "duration": 656,
    "start_time": "2022-08-18T05:15:40.388Z"
   },
   {
    "duration": 11,
    "start_time": "2022-08-18T05:15:55.848Z"
   },
   {
    "duration": 14,
    "start_time": "2022-08-18T05:15:58.953Z"
   },
   {
    "duration": 9,
    "start_time": "2022-08-18T05:16:08.520Z"
   },
   {
    "duration": 9,
    "start_time": "2022-08-18T05:21:24.000Z"
   },
   {
    "duration": 12,
    "start_time": "2022-08-18T05:21:28.605Z"
   },
   {
    "duration": 11,
    "start_time": "2022-08-18T05:21:39.445Z"
   },
   {
    "duration": 12,
    "start_time": "2022-08-18T05:21:58.106Z"
   },
   {
    "duration": 6,
    "start_time": "2022-08-18T05:22:21.139Z"
   },
   {
    "duration": 15,
    "start_time": "2022-08-18T05:22:33.603Z"
   },
   {
    "duration": 17,
    "start_time": "2022-08-18T05:29:05.317Z"
   },
   {
    "duration": 16,
    "start_time": "2022-08-18T05:29:10.774Z"
   },
   {
    "duration": 19,
    "start_time": "2022-08-18T05:29:15.582Z"
   },
   {
    "duration": 15,
    "start_time": "2022-08-18T05:29:27.450Z"
   },
   {
    "duration": 16,
    "start_time": "2022-08-18T05:29:35.970Z"
   },
   {
    "duration": 1189,
    "start_time": "2022-08-18T05:30:13.976Z"
   },
   {
    "duration": 59,
    "start_time": "2022-08-18T05:30:15.167Z"
   },
   {
    "duration": 21,
    "start_time": "2022-08-18T05:30:15.230Z"
   },
   {
    "duration": 15,
    "start_time": "2022-08-18T05:30:15.252Z"
   },
   {
    "duration": 29,
    "start_time": "2022-08-18T05:30:15.269Z"
   },
   {
    "duration": 5,
    "start_time": "2022-08-18T05:30:15.299Z"
   },
   {
    "duration": 6,
    "start_time": "2022-08-18T05:30:15.306Z"
   },
   {
    "duration": 25,
    "start_time": "2022-08-18T05:30:15.314Z"
   },
   {
    "duration": 24,
    "start_time": "2022-08-18T05:30:15.341Z"
   },
   {
    "duration": 32,
    "start_time": "2022-08-18T05:30:15.366Z"
   },
   {
    "duration": 14,
    "start_time": "2022-08-18T05:30:15.401Z"
   },
   {
    "duration": 26,
    "start_time": "2022-08-18T05:30:15.416Z"
   },
   {
    "duration": 4,
    "start_time": "2022-08-18T05:30:15.444Z"
   },
   {
    "duration": 36,
    "start_time": "2022-08-18T05:30:15.450Z"
   },
   {
    "duration": 14,
    "start_time": "2022-08-18T05:30:15.489Z"
   },
   {
    "duration": 22,
    "start_time": "2022-08-18T05:30:15.505Z"
   },
   {
    "duration": 8,
    "start_time": "2022-08-18T05:30:15.529Z"
   },
   {
    "duration": 14,
    "start_time": "2022-08-18T05:30:15.538Z"
   },
   {
    "duration": 35,
    "start_time": "2022-08-18T05:30:15.554Z"
   },
   {
    "duration": 13,
    "start_time": "2022-08-18T05:30:15.592Z"
   },
   {
    "duration": 11,
    "start_time": "2022-08-18T05:30:15.606Z"
   },
   {
    "duration": 10,
    "start_time": "2022-08-18T05:30:15.619Z"
   },
   {
    "duration": 11,
    "start_time": "2022-08-18T05:30:15.630Z"
   },
   {
    "duration": 3,
    "start_time": "2022-08-18T05:30:15.642Z"
   },
   {
    "duration": 52,
    "start_time": "2022-08-18T05:30:15.646Z"
   },
   {
    "duration": 39,
    "start_time": "2022-08-18T05:30:15.700Z"
   },
   {
    "duration": 9,
    "start_time": "2022-08-18T05:30:15.744Z"
   },
   {
    "duration": 13,
    "start_time": "2022-08-18T05:30:15.755Z"
   },
   {
    "duration": 29,
    "start_time": "2022-08-18T05:30:15.769Z"
   },
   {
    "duration": 31,
    "start_time": "2022-08-18T05:30:15.800Z"
   },
   {
    "duration": 17,
    "start_time": "2022-08-18T05:30:15.833Z"
   },
   {
    "duration": 12,
    "start_time": "2022-08-18T05:30:15.852Z"
   },
   {
    "duration": 24,
    "start_time": "2022-08-18T05:30:15.866Z"
   },
   {
    "duration": 208,
    "start_time": "2022-08-18T05:30:15.893Z"
   },
   {
    "duration": 19,
    "start_time": "2022-08-18T05:30:16.103Z"
   },
   {
    "duration": 212,
    "start_time": "2022-08-18T05:30:16.124Z"
   },
   {
    "duration": 309,
    "start_time": "2022-08-18T05:30:16.339Z"
   },
   {
    "duration": 274,
    "start_time": "2022-08-18T05:30:16.650Z"
   },
   {
    "duration": 2,
    "start_time": "2022-08-18T05:30:16.926Z"
   },
   {
    "duration": 140,
    "start_time": "2022-08-18T05:30:16.930Z"
   },
   {
    "duration": 4,
    "start_time": "2022-08-18T05:30:17.072Z"
   },
   {
    "duration": 155,
    "start_time": "2022-08-18T05:30:17.087Z"
   },
   {
    "duration": 5,
    "start_time": "2022-08-18T05:30:17.244Z"
   },
   {
    "duration": 168,
    "start_time": "2022-08-18T05:30:17.250Z"
   },
   {
    "duration": 5,
    "start_time": "2022-08-18T05:30:17.420Z"
   },
   {
    "duration": 248,
    "start_time": "2022-08-18T05:30:17.426Z"
   },
   {
    "duration": 12,
    "start_time": "2022-08-18T05:30:17.675Z"
   },
   {
    "duration": 178,
    "start_time": "2022-08-18T05:30:17.689Z"
   },
   {
    "duration": 5,
    "start_time": "2022-08-18T05:30:17.869Z"
   },
   {
    "duration": 185,
    "start_time": "2022-08-18T05:30:17.875Z"
   },
   {
    "duration": 5,
    "start_time": "2022-08-18T05:30:18.062Z"
   },
   {
    "duration": 157,
    "start_time": "2022-08-18T05:30:18.068Z"
   },
   {
    "duration": 5,
    "start_time": "2022-08-18T05:30:18.226Z"
   },
   {
    "duration": 150,
    "start_time": "2022-08-18T05:30:18.233Z"
   },
   {
    "duration": 6,
    "start_time": "2022-08-18T05:30:18.385Z"
   },
   {
    "duration": 24,
    "start_time": "2022-08-18T05:30:18.393Z"
   },
   {
    "duration": 304,
    "start_time": "2022-08-18T05:30:18.419Z"
   },
   {
    "duration": 17,
    "start_time": "2022-08-18T05:30:18.725Z"
   },
   {
    "duration": 16,
    "start_time": "2022-08-18T05:30:18.744Z"
   },
   {
    "duration": 42,
    "start_time": "2022-08-18T05:30:18.762Z"
   },
   {
    "duration": 25,
    "start_time": "2022-08-18T05:30:18.806Z"
   },
   {
    "duration": 21,
    "start_time": "2022-08-18T05:30:18.832Z"
   },
   {
    "duration": 48,
    "start_time": "2022-08-18T05:30:18.855Z"
   },
   {
    "duration": 334,
    "start_time": "2022-08-18T05:30:18.905Z"
   },
   {
    "duration": 2,
    "start_time": "2022-08-18T05:30:19.241Z"
   },
   {
    "duration": 6,
    "start_time": "2022-08-18T05:30:19.245Z"
   },
   {
    "duration": 16,
    "start_time": "2022-08-18T05:30:19.253Z"
   },
   {
    "duration": 34,
    "start_time": "2022-08-18T05:30:19.271Z"
   },
   {
    "duration": 15,
    "start_time": "2022-08-18T05:30:19.306Z"
   },
   {
    "duration": 19,
    "start_time": "2022-08-18T05:30:19.322Z"
   },
   {
    "duration": 18,
    "start_time": "2022-08-18T05:30:19.343Z"
   },
   {
    "duration": 47,
    "start_time": "2022-08-18T05:30:19.363Z"
   },
   {
    "duration": 358,
    "start_time": "2022-08-18T05:30:19.412Z"
   },
   {
    "duration": 27,
    "start_time": "2022-08-18T05:30:19.771Z"
   },
   {
    "duration": 29,
    "start_time": "2022-08-18T05:30:19.800Z"
   },
   {
    "duration": 16,
    "start_time": "2022-08-18T05:30:19.831Z"
   },
   {
    "duration": 6,
    "start_time": "2022-08-18T05:30:19.849Z"
   },
   {
    "duration": 13,
    "start_time": "2022-08-18T05:30:19.856Z"
   },
   {
    "duration": 4,
    "start_time": "2022-08-18T05:30:19.886Z"
   },
   {
    "duration": 105,
    "start_time": "2022-08-18T05:30:19.891Z"
   },
   {
    "duration": 29,
    "start_time": "2022-08-18T05:30:20.002Z"
   },
   {
    "duration": 8,
    "start_time": "2022-08-18T05:30:20.033Z"
   },
   {
    "duration": 61,
    "start_time": "2022-08-18T05:30:20.043Z"
   },
   {
    "duration": 3,
    "start_time": "2022-08-18T05:30:20.106Z"
   },
   {
    "duration": 14,
    "start_time": "2022-08-18T05:30:20.110Z"
   },
   {
    "duration": 8,
    "start_time": "2022-08-18T05:30:20.125Z"
   },
   {
    "duration": 5,
    "start_time": "2022-08-18T05:30:20.135Z"
   },
   {
    "duration": 7,
    "start_time": "2022-08-18T05:30:20.141Z"
   },
   {
    "duration": 6,
    "start_time": "2022-08-18T05:30:20.150Z"
   },
   {
    "duration": 640,
    "start_time": "2022-08-18T05:30:20.158Z"
   },
   {
    "duration": 630,
    "start_time": "2022-08-18T05:30:20.800Z"
   },
   {
    "duration": 9,
    "start_time": "2022-08-18T05:30:42.653Z"
   },
   {
    "duration": 14,
    "start_time": "2022-08-18T05:30:55.356Z"
   },
   {
    "duration": 3,
    "start_time": "2022-08-18T05:31:32.610Z"
   },
   {
    "duration": 13,
    "start_time": "2022-08-18T05:31:53.255Z"
   },
   {
    "duration": 14,
    "start_time": "2022-08-18T05:31:59.417Z"
   },
   {
    "duration": 15,
    "start_time": "2022-08-18T05:32:05.811Z"
   },
   {
    "duration": 14,
    "start_time": "2022-08-18T05:45:02.591Z"
   },
   {
    "duration": 17,
    "start_time": "2022-08-18T05:45:16.275Z"
   },
   {
    "duration": 13,
    "start_time": "2022-08-18T05:45:32.989Z"
   },
   {
    "duration": 11,
    "start_time": "2022-08-18T06:24:50.615Z"
   },
   {
    "duration": 14,
    "start_time": "2022-08-18T06:25:23.422Z"
   },
   {
    "duration": 1019,
    "start_time": "2022-08-18T18:13:29.343Z"
   },
   {
    "duration": 50,
    "start_time": "2022-08-18T18:13:30.364Z"
   },
   {
    "duration": 18,
    "start_time": "2022-08-18T18:13:30.415Z"
   },
   {
    "duration": 12,
    "start_time": "2022-08-18T18:13:30.434Z"
   },
   {
    "duration": 16,
    "start_time": "2022-08-18T18:13:30.448Z"
   },
   {
    "duration": 3,
    "start_time": "2022-08-18T18:13:30.466Z"
   },
   {
    "duration": 8,
    "start_time": "2022-08-18T18:13:30.471Z"
   },
   {
    "duration": 40,
    "start_time": "2022-08-18T18:13:30.480Z"
   },
   {
    "duration": 20,
    "start_time": "2022-08-18T18:13:30.521Z"
   },
   {
    "duration": 10,
    "start_time": "2022-08-18T18:13:30.542Z"
   },
   {
    "duration": 18,
    "start_time": "2022-08-18T18:13:30.553Z"
   },
   {
    "duration": 41,
    "start_time": "2022-08-18T18:13:30.572Z"
   },
   {
    "duration": 5,
    "start_time": "2022-08-18T18:13:30.615Z"
   },
   {
    "duration": 9,
    "start_time": "2022-08-18T18:13:30.622Z"
   },
   {
    "duration": 17,
    "start_time": "2022-08-18T18:13:30.633Z"
   },
   {
    "duration": 35,
    "start_time": "2022-08-18T18:13:30.652Z"
   },
   {
    "duration": 8,
    "start_time": "2022-08-18T18:13:30.689Z"
   },
   {
    "duration": 29,
    "start_time": "2022-08-18T18:13:30.698Z"
   },
   {
    "duration": 11,
    "start_time": "2022-08-18T18:13:30.728Z"
   },
   {
    "duration": 17,
    "start_time": "2022-08-18T18:13:30.740Z"
   },
   {
    "duration": 10,
    "start_time": "2022-08-18T18:13:30.758Z"
   },
   {
    "duration": 17,
    "start_time": "2022-08-18T18:13:30.769Z"
   },
   {
    "duration": 9,
    "start_time": "2022-08-18T18:13:30.787Z"
   },
   {
    "duration": 8,
    "start_time": "2022-08-18T18:13:30.806Z"
   },
   {
    "duration": 14,
    "start_time": "2022-08-18T18:13:30.815Z"
   },
   {
    "duration": 16,
    "start_time": "2022-08-18T18:13:30.831Z"
   },
   {
    "duration": 21,
    "start_time": "2022-08-18T18:13:30.849Z"
   },
   {
    "duration": 20,
    "start_time": "2022-08-18T18:13:30.871Z"
   },
   {
    "duration": 28,
    "start_time": "2022-08-18T18:13:30.892Z"
   },
   {
    "duration": 21,
    "start_time": "2022-08-18T18:13:30.922Z"
   },
   {
    "duration": 17,
    "start_time": "2022-08-18T18:13:30.945Z"
   },
   {
    "duration": 31,
    "start_time": "2022-08-18T18:13:30.963Z"
   },
   {
    "duration": 43,
    "start_time": "2022-08-18T18:13:30.995Z"
   },
   {
    "duration": 163,
    "start_time": "2022-08-18T18:13:31.040Z"
   },
   {
    "duration": 13,
    "start_time": "2022-08-18T18:13:31.205Z"
   },
   {
    "duration": 152,
    "start_time": "2022-08-18T18:13:31.220Z"
   },
   {
    "duration": 196,
    "start_time": "2022-08-18T18:13:31.374Z"
   },
   {
    "duration": 224,
    "start_time": "2022-08-18T18:13:31.571Z"
   },
   {
    "duration": 3,
    "start_time": "2022-08-18T18:13:31.796Z"
   },
   {
    "duration": 135,
    "start_time": "2022-08-18T18:13:31.806Z"
   },
   {
    "duration": 5,
    "start_time": "2022-08-18T18:13:31.946Z"
   },
   {
    "duration": 160,
    "start_time": "2022-08-18T18:13:31.952Z"
   },
   {
    "duration": 4,
    "start_time": "2022-08-18T18:13:32.114Z"
   },
   {
    "duration": 145,
    "start_time": "2022-08-18T18:13:32.119Z"
   },
   {
    "duration": 4,
    "start_time": "2022-08-18T18:13:32.266Z"
   },
   {
    "duration": 200,
    "start_time": "2022-08-18T18:13:32.271Z"
   },
   {
    "duration": 5,
    "start_time": "2022-08-18T18:13:32.472Z"
   },
   {
    "duration": 154,
    "start_time": "2022-08-18T18:13:32.478Z"
   },
   {
    "duration": 4,
    "start_time": "2022-08-18T18:13:32.633Z"
   },
   {
    "duration": 162,
    "start_time": "2022-08-18T18:13:32.639Z"
   },
   {
    "duration": 5,
    "start_time": "2022-08-18T18:13:32.805Z"
   },
   {
    "duration": 154,
    "start_time": "2022-08-18T18:13:32.811Z"
   },
   {
    "duration": 5,
    "start_time": "2022-08-18T18:13:32.966Z"
   },
   {
    "duration": 163,
    "start_time": "2022-08-18T18:13:32.972Z"
   },
   {
    "duration": 5,
    "start_time": "2022-08-18T18:13:33.137Z"
   },
   {
    "duration": 23,
    "start_time": "2022-08-18T18:13:33.144Z"
   },
   {
    "duration": 287,
    "start_time": "2022-08-18T18:13:33.169Z"
   },
   {
    "duration": 15,
    "start_time": "2022-08-18T18:13:33.458Z"
   },
   {
    "duration": 14,
    "start_time": "2022-08-18T18:13:33.474Z"
   },
   {
    "duration": 29,
    "start_time": "2022-08-18T18:13:33.489Z"
   },
   {
    "duration": 20,
    "start_time": "2022-08-18T18:13:33.520Z"
   },
   {
    "duration": 19,
    "start_time": "2022-08-18T18:13:33.542Z"
   },
   {
    "duration": 46,
    "start_time": "2022-08-18T18:13:33.563Z"
   },
   {
    "duration": 318,
    "start_time": "2022-08-18T18:13:33.611Z"
   },
   {
    "duration": 3,
    "start_time": "2022-08-18T18:13:33.930Z"
   },
   {
    "duration": 6,
    "start_time": "2022-08-18T18:13:33.934Z"
   },
   {
    "duration": 18,
    "start_time": "2022-08-18T18:13:33.942Z"
   },
   {
    "duration": 15,
    "start_time": "2022-08-18T18:13:33.961Z"
   },
   {
    "duration": 37,
    "start_time": "2022-08-18T18:13:33.977Z"
   },
   {
    "duration": 21,
    "start_time": "2022-08-18T18:13:34.016Z"
   },
   {
    "duration": 21,
    "start_time": "2022-08-18T18:13:34.039Z"
   },
   {
    "duration": 19,
    "start_time": "2022-08-18T18:13:34.062Z"
   },
   {
    "duration": 347,
    "start_time": "2022-08-18T18:13:34.083Z"
   },
   {
    "duration": 17,
    "start_time": "2022-08-18T18:13:34.432Z"
   },
   {
    "duration": 16,
    "start_time": "2022-08-18T18:13:34.450Z"
   },
   {
    "duration": 40,
    "start_time": "2022-08-18T18:13:34.467Z"
   },
   {
    "duration": 101,
    "start_time": "2022-08-18T18:13:34.509Z"
   },
   {
    "duration": 2,
    "start_time": "2022-08-18T18:13:34.612Z"
   },
   {
    "duration": 8,
    "start_time": "2022-08-18T18:13:34.616Z"
   },
   {
    "duration": 17,
    "start_time": "2022-08-18T18:13:34.626Z"
   },
   {
    "duration": 2,
    "start_time": "2022-08-18T18:13:34.645Z"
   },
   {
    "duration": 53,
    "start_time": "2022-08-18T18:13:34.649Z"
   },
   {
    "duration": 4,
    "start_time": "2022-08-18T18:13:34.704Z"
   },
   {
    "duration": 10,
    "start_time": "2022-08-18T18:13:34.709Z"
   },
   {
    "duration": 6,
    "start_time": "2022-08-18T18:13:34.720Z"
   },
   {
    "duration": 5,
    "start_time": "2022-08-18T18:13:34.728Z"
   },
   {
    "duration": 7,
    "start_time": "2022-08-18T18:13:34.735Z"
   },
   {
    "duration": 4,
    "start_time": "2022-08-18T18:13:34.744Z"
   },
   {
    "duration": 572,
    "start_time": "2022-08-18T18:13:34.750Z"
   },
   {
    "duration": 565,
    "start_time": "2022-08-18T18:13:35.324Z"
   }
  ],
  "kernelspec": {
   "display_name": "Python 3 (ipykernel)",
   "language": "python",
   "name": "python3"
  },
  "language_info": {
   "codemirror_mode": {
    "name": "ipython",
    "version": 3
   },
   "file_extension": ".py",
   "mimetype": "text/x-python",
   "name": "python",
   "nbconvert_exporter": "python",
   "pygments_lexer": "ipython3",
   "version": "3.9.5"
  },
  "toc": {
   "base_numbering": 1,
   "nav_menu": {},
   "number_sections": true,
   "sideBar": true,
   "skip_h1_title": true,
   "title_cell": "Table of Contents",
   "title_sidebar": "Contents",
   "toc_cell": false,
   "toc_position": {
    "height": "478px",
    "left": "420px",
    "top": "111.125px",
    "width": "165px"
   },
   "toc_section_display": true,
   "toc_window_display": true
  }
 },
 "nbformat": 4,
 "nbformat_minor": 2
}
